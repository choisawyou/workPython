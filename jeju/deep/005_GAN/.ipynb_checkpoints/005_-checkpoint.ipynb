{
 "cells": [
  {
   "cell_type": "code",
   "execution_count": 48,
   "metadata": {},
   "outputs": [
    {
     "name": "stdout",
     "output_type": "stream",
     "text": [
      "41\n",
      "WARNING:tensorflow:Entity <bound method BasicRNNCell.call of <tensorflow.python.ops.rnn_cell_impl.BasicRNNCell object at 0x000001870861C848>> could not be transformed and will be executed as-is. Please report this to the AutgoGraph team. When filing the bug, set the verbosity to 10 (on Linux, `export AUTOGRAPH_VERBOSITY=10`) and attach the full output. Cause: converting <bound method BasicRNNCell.call of <tensorflow.python.ops.rnn_cell_impl.BasicRNNCell object at 0x000001870861C848>>: AssertionError: Bad argument number for Name: 3, expecting 4\n",
      "WARNING: Entity <bound method BasicRNNCell.call of <tensorflow.python.ops.rnn_cell_impl.BasicRNNCell object at 0x000001870861C848>> could not be transformed and will be executed as-is. Please report this to the AutgoGraph team. When filing the bug, set the verbosity to 10 (on Linux, `export AUTOGRAPH_VERBOSITY=10`) and attach the full output. Cause: converting <bound method BasicRNNCell.call of <tensorflow.python.ops.rnn_cell_impl.BasicRNNCell object at 0x000001870861C848>>: AssertionError: Bad argument number for Name: 3, expecting 4\n",
      "WARNING:tensorflow:Entity <bound method BasicRNNCell.call of <tensorflow.python.ops.rnn_cell_impl.BasicRNNCell object at 0x0000018714DC6E88>> could not be transformed and will be executed as-is. Please report this to the AutgoGraph team. When filing the bug, set the verbosity to 10 (on Linux, `export AUTOGRAPH_VERBOSITY=10`) and attach the full output. Cause: converting <bound method BasicRNNCell.call of <tensorflow.python.ops.rnn_cell_impl.BasicRNNCell object at 0x0000018714DC6E88>>: AssertionError: Bad argument number for Name: 3, expecting 4\n",
      "WARNING: Entity <bound method BasicRNNCell.call of <tensorflow.python.ops.rnn_cell_impl.BasicRNNCell object at 0x0000018714DC6E88>> could not be transformed and will be executed as-is. Please report this to the AutgoGraph team. When filing the bug, set the verbosity to 10 (on Linux, `export AUTOGRAPH_VERBOSITY=10`) and attach the full output. Cause: converting <bound method BasicRNNCell.call of <tensorflow.python.ops.rnn_cell_impl.BasicRNNCell object at 0x0000018714DC6E88>>: AssertionError: Bad argument number for Name: 3, expecting 4\n",
      "WARNING:tensorflow:Entity <bound method Dense.call of <tensorflow.python.layers.core.Dense object at 0x00000187075E9808>> could not be transformed and will be executed as-is. Please report this to the AutgoGraph team. When filing the bug, set the verbosity to 10 (on Linux, `export AUTOGRAPH_VERBOSITY=10`) and attach the full output. Cause: converting <bound method Dense.call of <tensorflow.python.layers.core.Dense object at 0x00000187075E9808>>: AssertionError: Bad argument number for Name: 3, expecting 4\n",
      "WARNING: Entity <bound method Dense.call of <tensorflow.python.layers.core.Dense object at 0x00000187075E9808>> could not be transformed and will be executed as-is. Please report this to the AutgoGraph team. When filing the bug, set the verbosity to 10 (on Linux, `export AUTOGRAPH_VERBOSITY=10`) and attach the full output. Cause: converting <bound method Dense.call of <tensorflow.python.layers.core.Dense object at 0x00000187075E9808>>: AssertionError: Bad argument number for Name: 3, expecting 4\n"
     ]
    }
   ],
   "source": [
    "import tensorflow as tf\n",
    "import numpy as np\n",
    "from tensorflow.python.framework import ops\n",
    "ops.reset_default_graph()\n",
    "# encoding\n",
    "# [S,E,P,......,랑]\n",
    "char_arr = [c for c in 'SEPabcdefghijklmnopqrstuvwxyz단어나무놀이소녀연습사랑'] \n",
    "# 번호를 붙여준다. 범주형 데이터로 만든다.\n",
    "num_dic={n: i for i, n in enumerate(char_arr)}\n",
    "dic_len = len(num_dic)\n",
    "print(dic_len)\n",
    "\n",
    "seq_data = [['word', '단어'],['wood','나무'],\n",
    "           ['game','놀이'],['girl','소녀'],\n",
    "           ['test','연습'],['love','사랑']]\n",
    "\n",
    "def make_batch(seq_data):\n",
    "    input_batch = []\n",
    "    output_batch = []\n",
    "    target_batch = []\n",
    "    \n",
    "    for seq in seq_data: # ['word', '단어'] \n",
    "        input = [num_dic[n] for n in seq[0]] # word -> 번호로 바뀌다.\n",
    "        # 첫번째 입력되는 데이터는 word이 학습된 smoking gun\n",
    "        output = [num_dic[n] for n in ('S' + seq[1])] # 훈련된 특징값, 시작\n",
    "        target = [num_dic[n] for n in (seq[1] + 'E')] # 끝을 확인하기 위해서\n",
    "        \n",
    "        # indentity matrix 단위행렬 => one-hot-encoding\n",
    "        # 1, 00000000\n",
    "        # 0,1,00000000\n",
    "        # 0,0,1,\n",
    "        input_batch.append(np.eye(dic_len)[input])\n",
    "        output_batch.append(np.eye(dic_len)[output])\n",
    "        target_batch.append(target)\n",
    "    return input_batch, output_batch, target_batch\n",
    "\n",
    "learning_rate = 0.01\n",
    "n_hidden = 128 # neurons cnffurdl 128차\n",
    "total_epoch = 100\n",
    "n_class = n_input = dic_len # 41\n",
    "# encoder, decoder 용데이터 주입변수\n",
    "# 128X4X41  ?\n",
    "enc_input = tf.placeholder(tf.float32, [None, None, n_input]) # 25,17 # 2차원 배열 4x41\n",
    "# 128X2X41\n",
    "dec_input = tf.placeholder(tf.float32, [None, None, n_input]) # 2x41\n",
    "# \n",
    "targets = tf.placeholder(tf.int32, [None, None]) # \n",
    "\n",
    "with tf.variable_scope('encode'):\n",
    "    # FFNN 한개 입력 -> 가중치 -> 출력(n_hidden)\n",
    "    enc_cell = tf.nn.rnn_cell.BasicRNNCell(n_hidden) # 입력 41x128 : 가중치\n",
    "    # 과적합 방지하기 위해 계산회로 생략 -random하게 생략\n",
    "    enc_cell = tf.nn.rnn_cell.DropoutWrapper(enc_cell, output_keep_prob = 0.5, seed=100)\n",
    "    # 셀이 4개, 셀당 41개의 데이터가 입력\n",
    "    outputs, enc_states = tf.nn.dynamic_rnn(enc_cell, enc_input, dtype=tf.float32)\n",
    "\n",
    "with tf.variable_scope('decode'):\n",
    "    dec_cell = tf.nn.rnn_cell.BasicRNNCell(n_hidden)# 128\n",
    "    dec_cell = tf.nn.rnn_cell.DropoutWrapper(dec_cell, output_keep_prob=0.5)\n",
    "    # 2X41\n",
    "    # 앞의인코더망에서 출력된sates값 : 마지막 cell의 출력\n",
    "    # 두개의 망을 연결 initial_state=enc_states\n",
    "    outputs, dec_states = tf.nn.dynamic_rnn(dec_cell, dec_input, initial_state=enc_states, dtype=tf.float32)\n",
    "\n",
    "# 6x3x128 : S가 추가되서\n",
    "# 41개\n",
    "# 6x3x\n",
    "model = tf.layers.dense(outputs, n_class, activation=None)\n",
    "cost = tf.reduce_mean(tf.nn.sparse_softmax_cross_entropy_with_logits(logits = model, labels=targets))\n",
    "optimizer = tf.train.AdamOptimizer(learning_rate).minimize(cost)\n",
    "sess = tf.Session()\n",
    "sess.run(tf.global_variables_initializer())"
   ]
  },
  {
   "cell_type": "code",
   "execution_count": 49,
   "metadata": {
    "scrolled": false
   },
   "outputs": [
    {
     "name": "stdout",
     "output_type": "stream",
     "text": [
      "Epoch : 0001  cost : 3.761124\n",
      "Epoch : 0002  cost : 2.406155\n",
      "Epoch : 0003  cost : 1.705841\n",
      "Epoch : 0004  cost : 1.031653\n",
      "Epoch : 0005  cost : 0.623712\n",
      "Epoch : 0006  cost : 0.435714\n",
      "Epoch : 0007  cost : 0.186736\n",
      "Epoch : 0008  cost : 0.164689\n",
      "Epoch : 0009  cost : 0.083363\n",
      "Epoch : 0010  cost : 0.095336\n",
      "Epoch : 0011  cost : 0.021132\n",
      "Epoch : 0012  cost : 0.063858\n",
      "Epoch : 0013  cost : 0.110816\n",
      "Epoch : 0014  cost : 0.028995\n",
      "Epoch : 0015  cost : 0.020641\n",
      "Epoch : 0016  cost : 0.184960\n",
      "Epoch : 0017  cost : 0.010791\n",
      "Epoch : 0018  cost : 0.262321\n",
      "Epoch : 0019  cost : 0.012518\n",
      "Epoch : 0020  cost : 0.010853\n",
      "Epoch : 0021  cost : 0.018685\n",
      "Epoch : 0022  cost : 0.126431\n",
      "Epoch : 0023  cost : 0.010822\n",
      "Epoch : 0024  cost : 0.119553\n",
      "Epoch : 0025  cost : 0.003540\n",
      "Epoch : 0026  cost : 0.009136\n",
      "Epoch : 0027  cost : 0.019787\n",
      "Epoch : 0028  cost : 0.046469\n",
      "Epoch : 0029  cost : 0.003341\n",
      "Epoch : 0030  cost : 0.006575\n",
      "Epoch : 0031  cost : 0.002795\n",
      "Epoch : 0032  cost : 0.012088\n",
      "Epoch : 0033  cost : 0.003705\n",
      "Epoch : 0034  cost : 0.001184\n",
      "Epoch : 0035  cost : 0.004903\n",
      "Epoch : 0036  cost : 0.003467\n",
      "Epoch : 0037  cost : 0.021602\n",
      "Epoch : 0038  cost : 0.008748\n",
      "Epoch : 0039  cost : 0.006724\n",
      "Epoch : 0040  cost : 0.037807\n",
      "Epoch : 0041  cost : 0.004701\n",
      "Epoch : 0042  cost : 0.004581\n",
      "Epoch : 0043  cost : 0.000778\n",
      "Epoch : 0044  cost : 0.001805\n",
      "Epoch : 0045  cost : 0.006130\n",
      "Epoch : 0046  cost : 0.001444\n",
      "Epoch : 0047  cost : 0.000837\n",
      "Epoch : 0048  cost : 0.001055\n",
      "Epoch : 0049  cost : 0.002219\n",
      "Epoch : 0050  cost : 0.002775\n",
      "Epoch : 0051  cost : 0.000877\n",
      "Epoch : 0052  cost : 0.001858\n",
      "Epoch : 0053  cost : 0.001660\n",
      "Epoch : 0054  cost : 0.001650\n",
      "Epoch : 0055  cost : 0.002823\n",
      "Epoch : 0056  cost : 0.001913\n",
      "Epoch : 0057  cost : 0.001908\n",
      "Epoch : 0058  cost : 0.001033\n",
      "Epoch : 0059  cost : 0.000654\n",
      "Epoch : 0060  cost : 0.001035\n",
      "Epoch : 0061  cost : 0.000925\n",
      "Epoch : 0062  cost : 0.000539\n",
      "Epoch : 0063  cost : 0.008809\n",
      "Epoch : 0064  cost : 0.001327\n",
      "Epoch : 0065  cost : 0.003212\n",
      "Epoch : 0066  cost : 0.001598\n",
      "Epoch : 0067  cost : 0.000970\n",
      "Epoch : 0068  cost : 0.000700\n",
      "Epoch : 0069  cost : 0.001122\n",
      "Epoch : 0070  cost : 0.001642\n",
      "Epoch : 0071  cost : 0.000474\n",
      "Epoch : 0072  cost : 0.001177\n",
      "Epoch : 0073  cost : 0.002260\n",
      "Epoch : 0074  cost : 0.001775\n",
      "Epoch : 0075  cost : 0.003748\n",
      "Epoch : 0076  cost : 0.000293\n",
      "Epoch : 0077  cost : 0.000282\n",
      "Epoch : 0078  cost : 0.001631\n",
      "Epoch : 0079  cost : 0.001452\n",
      "Epoch : 0080  cost : 0.000558\n",
      "Epoch : 0081  cost : 0.000377\n",
      "Epoch : 0082  cost : 0.001019\n",
      "Epoch : 0083  cost : 0.000276\n",
      "Epoch : 0084  cost : 0.000911\n",
      "Epoch : 0085  cost : 0.000700\n",
      "Epoch : 0086  cost : 0.000379\n",
      "Epoch : 0087  cost : 0.000752\n",
      "Epoch : 0088  cost : 0.000279\n",
      "Epoch : 0089  cost : 0.000286\n",
      "Epoch : 0090  cost : 0.000684\n",
      "Epoch : 0091  cost : 0.000651\n",
      "Epoch : 0092  cost : 0.000645\n",
      "Epoch : 0093  cost : 0.000366\n",
      "Epoch : 0094  cost : 0.000368\n",
      "Epoch : 0095  cost : 0.000577\n",
      "Epoch : 0096  cost : 0.000119\n",
      "Epoch : 0097  cost : 0.000478\n",
      "Epoch : 0098  cost : 0.001734\n",
      "Epoch : 0099  cost : 0.000588\n",
      "Epoch : 0100  cost : 0.000314\n"
     ]
    }
   ],
   "source": [
    "input_batch, output_batch, target_batch = make_batch(seq_data)\n",
    "for epoch in range(total_epoch):\n",
    "    _, loss = sess.run([optimizer, cost], feed_dict={enc_input : input_batch,dec_input:output_batch,targets:target_batch})\n",
    "    \n",
    "    print('Epoch : %04d'%(epoch+1),' cost : {:.6f}'.format(loss))\n"
   ]
  },
  {
   "cell_type": "code",
   "execution_count": 50,
   "metadata": {},
   "outputs": [
    {
     "name": "stdout",
     "output_type": "stream",
     "text": [
      "41\n"
     ]
    }
   ],
   "source": [
    "# [S,E,P,......,랑]\n",
    "char_arr = [c for c in 'SEPabcdefghijklmnopqrstuvwxyz단어나무놀이소녀연습사랑'] \n",
    "# 번호를 붙여준다. 범주형 데이터로 만든다.\n",
    "num_dic={n: i for i, n in enumerate(char_arr)}\n",
    "dic_len = len(num_dic)\n",
    "print(dic_len)\n",
    "\n",
    "seq_data = [['word', '단어'],['wood','나무'],\n",
    "           ['game','놀이'],['girl','소녀'],\n",
    "           ['test','연습'],['love','사랑']]\n"
   ]
  },
  {
   "cell_type": "code",
   "execution_count": 51,
   "metadata": {},
   "outputs": [
    {
     "name": "stdout",
     "output_type": "stream",
     "text": [
      "[['word', '단어'], ['wood', '나무'], ['game', '놀이'], ['girl', '소녀'], ['test', '연습'], ['love', '사랑']]\n"
     ]
    }
   ],
   "source": [
    "print(seq_data)"
   ]
  },
  {
   "cell_type": "code",
   "execution_count": 52,
   "metadata": {},
   "outputs": [
    {
     "name": "stdout",
     "output_type": "stream",
     "text": [
      "{'S': 0, 'E': 1, 'P': 2, 'a': 3, 'b': 4, 'c': 5, 'd': 6, 'e': 7, 'f': 8, 'g': 9, 'h': 10, 'i': 11, 'j': 12, 'k': 13, 'l': 14, 'm': 15, 'n': 16, 'o': 17, 'p': 18, 'q': 19, 'r': 20, 's': 21, 't': 22, 'u': 23, 'v': 24, 'w': 25, 'x': 26, 'y': 27, 'z': 28, '단': 29, '어': 30, '나': 31, '무': 32, '놀': 33, '이': 34, '소': 35, '녀': 36, '연': 37, '습': 38, '사': 39, '랑': 40}\n"
     ]
    }
   ],
   "source": [
    "print(num_dic)"
   ]
  },
  {
   "cell_type": "code",
   "execution_count": 59,
   "metadata": {},
   "outputs": [
    {
     "name": "stdout",
     "output_type": "stream",
     "text": [
      "word ->  단어\n"
     ]
    }
   ],
   "source": [
    "def translate(word): # word\n",
    "    # 모델의 자리수는 일치 시켜야함\n",
    "    seq_data = [word, 'P' *len(word)] # PPPP\n",
    "    # 1x4x41\n",
    "    # 1x4x41\n",
    "    input_batch, output_batch, target_batch = make_batch([seq_data])\n",
    "    # 1x5x41\n",
    "    prediction = tf.argmax(model,2) # 면, 행, 열(열을 중심하고 ) : 41게중 max값\n",
    "    result = sess.run(prediction, feed_dict={enc_input: input_batch, dec_input:output_batch, targets:target_batch})\n",
    "    decoded = [char_arr[i] for i in result[0]] # 5x\n",
    "    end = decoded.index('E')\n",
    "    translated = ''.join(decoded[:end])\n",
    "    \n",
    "    return translated\n",
    "\n",
    "print('word -> ',translate('word'))"
   ]
  },
  {
   "cell_type": "code",
   "execution_count": 56,
   "metadata": {},
   "outputs": [],
   "source": [
    "# OCR : kakaoAPI\n",
    "# 카카오 "
   ]
  },
  {
   "cell_type": "code",
   "execution_count": 247,
   "metadata": {},
   "outputs": [],
   "source": [
    "import json\n",
    "import cv2 # 이미지 동영상 처리\n",
    "import requests # heml 페이지 요청\n",
    "import sys\n",
    "LIMIT_PX = 1024\n",
    "LIMIT_BYTE = 1024*1024\n",
    "LIMIT_BOX = 40\n",
    "\n",
    "# OCR.절차\n",
    "# 이미지 사이즈 조정\n",
    "# 글씨를 둘러싼 box를 detection\n"
   ]
  },
  {
   "cell_type": "code",
   "execution_count": 248,
   "metadata": {},
   "outputs": [],
   "source": [
    "def kakao_ocr_resize(image_path: str):\n",
    "    image = cv2.imread('2.jpg')\n",
    "    height, width, _ = image.shape\n",
    "    if LIMIT_PX < height or LIMIT_PX < width:\n",
    "        ratio = float(LIMIT_PX) / max(height, width)\n",
    "        image = cv2.resize(image, None, fx=ratio, fy=ratio)\n",
    "        height, width, _ = height, width, _ = image.shape\n",
    "        image_path='{}_resized.jpg'.format('2')\n",
    "        cv2.imwrite(image_path, image)\n",
    "        return image_path\n",
    "    return None"
   ]
  },
  {
   "cell_type": "code",
   "execution_count": 258,
   "metadata": {},
   "outputs": [],
   "source": [
    "def kakao_ocr_detect(image_path: str, appkey: str):\n",
    "    API_URL ='https://kapi.kakao.com/v1/vision/text/detect'\n",
    "    headers = {'Authorization': 'KakaoAK {}'.format('2507d95f349473caf3b0e2e8d773585e')}\n",
    "    image = cv2.imread('2.jpg') # 이미지 로드\n",
    "    # naver는 jpg만, gif 애니메이션 지원, png 투명도 지원\n",
    "    jpeg_image = cv2.imencode('.jpg', image)[1]\n",
    "    data = jpeg_image.tobytes() # 네크워크 전송 -> serialization\n",
    "    # 네트워크일 때 => 데이터가 시리얼로 가야 함 (모뎀)\n",
    "    # 8개 라인으로 구성, 4개 회선만 사용 (1개 전송, 1개 수신)\n",
    "    # 네트워크를 통해 함수 호출 (시간) : 비동기 방식\n",
    "    # 동기 방식(호출 후 돌아올 때까지 기다림), 비동기 방식(다른 작업 중 -event 받아서 작업)\n",
    "    # 대표적인 비동기 통신 방식이 AJAX : 웹 브라우저 내부적 처리\n",
    "    # 인터넷 표준 데이터 형식 json\n",
    "    return requests.post(API_URL, headers=headers, files={\"file\": data})"
   ]
  },
  {
   "cell_type": "code",
   "execution_count": 259,
   "metadata": {},
   "outputs": [],
   "source": [
    "# def kakao_ocr_recognize(image_path: str, boxes: list, appkey: str):\n",
    "#     API_URL = 'https://kapi.kakao.com/v1/vision/text/recognize'\n",
    "#     headers = {'Authorization': 'KakaoAK {}'.format('2507d95f349473caf3b0e2e8d773585e')}\n",
    "\n",
    "#     image = cv2.imread('2.jpg')\n",
    "#     jpeg_image = cv2.imencode(\".jpg\", image)[1]\n",
    "#     data = jpeg_image.tobytes()\n",
    "\n",
    "#     return requests.post(API_URL, headers=headers, files={\"file\": data}, data={\"boxes\": json.dumps(boxes)})\n",
    "# def kakao_ocr_recognize(image_path: str, boxes: list, appkey: str):\n",
    "#     API_URL = 'https://kapi.kakao.com/v1/vision/text/recognize'\n",
    "\n",
    "#     headers = {'Authorization': 'KakaoAK {}'.format('2507d95f349473caf3b0e2e8d773585e')}\n",
    "\n",
    "#     image = cv2.imread('2.jpg')\n",
    "#     jpeg_image = cv2.imencode(\".jpg\", image)[1]\n",
    "#     data = jpeg_image.tobytes()\n",
    "\n",
    "#     return requests.post(API_URL, headers=headers, files={\"file\": data}, data={\"boxes\": json.dumps(boxes)})\n",
    "\n",
    "def kakao_ocr_recognize(image_path: str, boxes: list, appkey: str):\n",
    "    API_URL = 'https://kapi.kakao.com/v1/vision/text/recognize'\n",
    "    headers = {'Authorization': 'KakaoAK {}'.format('2507d95f349473caf3b0e2e8d773585e')}\n",
    "    image = cv2.imread('2.jpg')\n",
    "    jpeg_image = cv2.imencode('.jpg', image)[1]\n",
    "    data = jpeg_image.tobytes()\n",
    "    # 인식은 BOX로 텍스트 구역을 확인하고, recognize 인식한다.\n",
    "    return requests.post(API_URL, headers=headers, files={\"file\": data}, data={\"boxes\": json.dumps(boxes)})"
   ]
  },
  {
   "cell_type": "code",
   "execution_count": 260,
   "metadata": {},
   "outputs": [
    {
     "data": {
      "text/plain": [
       "{'result': {'recognition_words': ['가까운',\n",
       "   '행복을',\n",
       "   '만나다',\n",
       "   'Gs 25',\n",
       "   'GS25부산광장점',\n",
       "   '051-467-6780',\n",
       "   'Mn',\n",
       "   '중앙대로180번월31396586',\n",
       "   '12. ',\n",
       "   '0*숙',\n",
       "   'NO:',\n",
       "   '10842',\n",
       "   'ONLIVTEE',\n",
       "   '의해',\n",
       "   '교활활동하며',\n",
       "   '몰출앙손돼캘aN',\n",
       "   '2',\n",
       "   'Q0',\n",
       "   '950',\n",
       "   '퍼치요불법일돼',\n",
       "   '200',\n",
       "   'a.방일',\n",
       "   '520',\n",
       "   '괍세세',\n",
       "   '매출',\n",
       "   '8.',\n",
       "   '8.650',\n",
       "   '873',\n",
       "   '암바일상품권',\n",
       "   '현카듯푼',\n",
       "   '팔칸제등하면포행샅악냉적립',\n",
       "   '[팝카드',\n",
       "   '통신사',\n",
       "   '할인',\n",
       "   '최대',\n",
       "   '포함',\n",
       "   '20%할인',\n",
       "   '',\n",
       "   'S젤냄겨',\n",
       "   '9675#방&으a흉']}}"
      ]
     },
     "execution_count": 260,
     "metadata": {},
     "output_type": "execute_result"
    }
   ],
   "source": [
    "def main():\n",
    "    image_path, appkey = sys.argv[1], sys.argv[2]\n",
    "    resize_impath = kakao_ocr_resize(image_path)\n",
    "    output = kakao_ocr_detect(image_path, appkey).json()\n",
    "    boxes = output['result']['boxes']\n",
    "    boxes = boxes[:min(len(boxes), LIMIT_BOX)]\n",
    "    output = kakao_ocr_recognize(image_path, boxes, appkey).json()\n",
    "    return output\n",
    "output = main()\n",
    "output"
   ]
  },
  {
   "cell_type": "markdown",
   "metadata": {},
   "source": [
    "# 동영상"
   ]
  },
  {
   "cell_type": "code",
   "execution_count": 288,
   "metadata": {},
   "outputs": [],
   "source": [
    "import cv2\n",
    "import numpy as np\n",
    "cap = cv2.VideoCapture('corrupted_video.mp4')\n",
    "if (cap.isOpened() == False):\n",
    "    print('에러 발생')\n",
    "\n",
    "while (cap.isOpened()):\n",
    "    ret, frame = cap.read()\n",
    "    if ret ==True:\n",
    "        cv2.imshow('Frame', frame)\n",
    "        if cv2.waitKey(25) & 0xFF == ord('q'):\n",
    "            break\n",
    "    else:\n",
    "        break\n",
    "\n",
    "cap.release()\n",
    "cv2.destroyAllWindows()"
   ]
  },
  {
   "cell_type": "code",
   "execution_count": 289,
   "metadata": {},
   "outputs": [],
   "source": [
    "import cv2\n",
    "import numpy as np\n",
    "cap = cv2.VideoCapture('corrupted_video.mp4')\n",
    "fourcc = cv2.VideoWriter_fourcc(*'XVID')\n",
    "out = cv2.VideoWriter('output.avi', fourcc, 20.0,(640,480))\n",
    "\n",
    "while (cap.isOpened()):\n",
    "    ret, frame = cap.read()\n",
    "    if ret ==True:\n",
    "        frame = cv2.flip(frame,0) # 자동 차선인식, object detection\n",
    "        frame = cv2.cvtColor(frame, cv2.COLOR_BGR2GRAY) # gray색\n",
    "        out.write(frame)\n",
    "        cv2.imshow('frame', frame)\n",
    "        if cv2.waitKey(1) & 0xFF == ord('q'):\n",
    "            break\n",
    "    else:\n",
    "        break\n",
    "        \n",
    "cap.release()\n",
    "out.release()\n",
    "cv2.destroyAllWindows()"
   ]
  },
  {
   "cell_type": "markdown",
   "metadata": {},
   "source": [
    "## ffmpeg다운"
   ]
  },
  {
   "cell_type": "code",
   "execution_count": 323,
   "metadata": {},
   "outputs": [],
   "source": [
    "import cv2\n",
    "import numpy as np\n",
    "history =30\n",
    "cap = cv2.VideoCapture('corrupted_video.mp4')\n",
    "if (cap.isOpened() == False):\n",
    "    print('에러 발생')\n",
    "fgbg = cv2.createBackgroundSubtractorMOG2()\n",
    "while (cap.isOpened()):\n",
    "    ret, frame = cap.read()\n",
    "    if ret ==True:\n",
    "        gray = cv2.cvtColor(frame, cv2.COLOR_BGR2GRAY)\n",
    "        fgmask = fgbg.apply(gray,learningRate=1.0/history)\n",
    "        cv2.imshow('Frame', fgmask)\n",
    "        if cv2.waitKey(25) & 0xFF == ord('q'):\n",
    "            break\n",
    "    else:\n",
    "        break\n",
    "\n",
    "cap.release()\n",
    "cv2.destroyAllWindows()"
   ]
  },
  {
   "cell_type": "code",
   "execution_count": 291,
   "metadata": {},
   "outputs": [],
   "source": [
    "import cv2\n",
    "import numpy as np\n",
    "cap = cv2.VideoCapture('corrupted_video.mp4')\n",
    "fourcc = cv2.VideoWriter_fourcc(*'XVID')\n",
    "out = cv2.VideoWriter('output_2.avi', fourcc, 20.0,(640,480))\n",
    "\n",
    "while (cap.isOpened()):\n",
    "    ret, frame = cap.read()\n",
    "    if ret ==True:\n",
    "        frame = cv2.flip(frame,0) # 자동 차선인식, object detection\n",
    "        gray = cv2.cvtColor(frame, cv2.COLOR_BGR2GRAY) # gray색\n",
    "        fgmask = fgbg.apply(gray,learningRate=1.0/history)\n",
    "        out.write(fgmask)\n",
    "        cv2.imshow('frame', fgmask)\n",
    "        if cv2.waitKey(1) & 0xFF == ord('q'):\n",
    "            break\n",
    "    else:\n",
    "        break\n",
    "        \n",
    "cap.release()\n",
    "out.release()\n",
    "cv2.destroyAllWindows()"
   ]
  },
  {
   "cell_type": "markdown",
   "metadata": {},
   "source": [
    "## 저장한 동영상불러오기 이상하다"
   ]
  },
  {
   "cell_type": "code",
   "execution_count": 333,
   "metadata": {},
   "outputs": [
    {
     "name": "stdout",
     "output_type": "stream",
     "text": [
      "<VideoCapture 0000018707B69F10>\n",
      "True\n",
      "(False, None)\n"
     ]
    }
   ],
   "source": [
    "import cv2\n",
    "import numpy as np\n",
    "cap = cv2.VideoCapture('output_2.avi')\n",
    "print(cap)\n",
    "if (cap.isOpened() == False):\n",
    "    print('에러 발생')\n",
    "print(cap.isOpened())\n",
    "print(cap.read())\n",
    "while (cap.isOpened()):\n",
    "    ret, frame = cap.read()\n",
    "    if ret ==True:\n",
    "        cv2.imshow('Frame', frame)\n",
    "        if cv2.waitKey(25) & 0xFF == ord('q'):\n",
    "            break\n",
    "    else:\n",
    "        break\n",
    "\n",
    "cap.release()\n",
    "cv2.destroyAllWindows()"
   ]
  },
  {
   "cell_type": "code",
   "execution_count": 341,
   "metadata": {},
   "outputs": [],
   "source": [
    "# AE(autoencoder)"
   ]
  },
  {
   "cell_type": "markdown",
   "metadata": {},
   "source": [
    "# denoising autoencoder\n",
    "- 원본, noise가 있는 학습 데이터\n",
    "- 학습은 noise가 있는 학습 데이터 => 가중치\n",
    "- autoencoder는 denosing을 한다."
   ]
  },
  {
   "cell_type": "code",
   "execution_count": 369,
   "metadata": {},
   "outputs": [],
   "source": [
    "%matplotlib inline\n",
    "from tensorflow.examples.tutorials.mnist import input_data\n",
    "import matplotlib.pyplot as plt\n",
    "import matplotlib.gridspec as gridspec\n",
    "\n",
    "def vis(images, save_name):\n",
    "    dim = images.shape[0]\n",
    "    n_image_rows = int(np.ceil(np.sqrt(dim)))\n",
    "    n_image_cols = int(np.ceil(dim * 1.0 / n_image_rows))\n",
    "    gs = gridspec.GridSpec(n_image_rows, n_image_cols, top=1., bottom=0,right=1.,left=0,hspace=0,wspace=0)\n",
    "    \n",
    "    for g, count in zip(gs,range(int(dim))):\n",
    "        ax = plt.subplot(g)\n",
    "        ax.imshow(images[count,:].reshape((28,28)))\n",
    "        ax.set_xticks([])\n",
    "        ax.set_yticks([])\n",
    "    plt.savefig(save_name + '_vis.png')\n",
    "    plt.show()\n",
    "\n",
    "mnist_width = 28\n",
    "n_visible = mnist_width * mnist_width\n",
    "n_hidden = 500"
   ]
  },
  {
   "cell_type": "code",
   "execution_count": 370,
   "metadata": {},
   "outputs": [],
   "source": [
    "corruption_level = 0.3\n",
    "# 784\n",
    "X = tf.placeholder('float', [None, n_visible], name='X')\n",
    "mask = tf.placeholder('float', [None, n_visible], name='mask')\n",
    "\n",
    "W_init_max = 4 * np.sqrt(6./(n_visible+ n_hidden))\n",
    "# 규등분포에서 데이터 생성(가중치 초기화) \n",
    "# 왜 이녀석을 쓰지? \n",
    "W_init = tf.random_uniform(shape = [n_visible, n_hidden], minval=-W_init_max, maxval=W_init_max)\n",
    "W = tf.Variable(W_init, name='W')\n",
    "b = tf.Variable(tf.zeros([n_hidden]), name='b')\n"
   ]
  },
  {
   "cell_type": "code",
   "execution_count": 371,
   "metadata": {},
   "outputs": [],
   "source": [
    "W_prime = tf.transpose(W) # 자기 자신을 전치\n",
    "b_prime = tf.Variable(tf.zeros([n_visible]), name='b_prime')\n",
    "\n",
    "def model(X,mask,W,b,W_prime, b_prime):\n",
    "    tilde_X= mask*X # 헹렬 요소곱\n",
    "    Y =tf.nn.sigmoid(tf.matmul(tilde_X,W)+b)\n",
    "    Z = tf.nn.sigmoid(tf.matmul(Y,W_prime) + b_prime)\n",
    "    return Z\n",
    "\n",
    "Z =model(X,mask,W,b,W_prime, b_prime)\n",
    "# 가중치에 이미지의 특성이 추출"
   ]
  },
  {
   "cell_type": "code",
   "execution_count": 372,
   "metadata": {},
   "outputs": [
    {
     "name": "stdout",
     "output_type": "stream",
     "text": [
      "Extracting MNIST_data/train-images-idx3-ubyte.gz\n",
      "Extracting MNIST_data/train-labels-idx1-ubyte.gz\n",
      "Extracting MNIST_data/t10k-images-idx3-ubyte.gz\n",
      "Extracting MNIST_data/t10k-labels-idx1-ubyte.gz\n"
     ]
    }
   ],
   "source": [
    "# X : 원본 데이터 \n",
    "# Z : 예측된 데이터(자기자신)\n",
    "# X == Z\n",
    "# autoencoder input(자기자신) == output(자기자신)\n",
    "# 자기 자신을 가지고 훈련\n",
    "# 비지도학습 : 데이터의 특징 : PCA데이터 재해석(직교하는 축으로 재해석한것)\n",
    "# noise : 군데군데 빵꾸 : 원본의 특징을 추출\n",
    "# \n",
    "\n",
    "cost = tf.reduce_sum(tf.pow(X-Z,2))\n",
    "train_op = tf.train.GradientDescentOptimizer(0.02).minimize(cost)\n",
    "predict_op = Z\n",
    "\n",
    "mnist = input_data.read_data_sets('MNIST_data/', one_hot=True)\n",
    "trX,trY, teX,teY = mnist.train.images, mnist.train.labels,mnist.test.images, mnist.test.labels"
   ]
  },
  {
   "cell_type": "code",
   "execution_count": 375,
   "metadata": {
    "scrolled": true
   },
   "outputs": [
    {
     "name": "stdout",
     "output_type": "stream",
     "text": [
      "0 108774.01\n",
      "1 96512.46\n",
      "2 89228.34\n",
      "3 80283.945\n",
      "4 78230.45\n",
      "5 74868.22\n",
      "6 71902.41\n",
      "7 71496.01\n",
      "8 69304.414\n",
      "9 68885.99\n",
      "10 68016.88\n",
      "11 66579.39\n",
      "12 64806.477\n",
      "13 64831.285\n",
      "14 65090.69\n",
      "15 64024.152\n",
      "16 62956.76\n",
      "17 64835.45\n",
      "18 62043.953\n",
      "19 62202.383\n",
      "20 63130.223\n",
      "21 61966.547\n",
      "22 62416.516\n",
      "23 61289.016\n",
      "24 61526.71\n",
      "25 61599.246\n",
      "26 61369.69\n",
      "27 60843.87\n",
      "28 60516.203\n",
      "29 60334.36\n",
      "30 60446.8\n",
      "31 59652.25\n",
      "32 60921.902\n",
      "33 59695.402\n",
      "34 59522.098\n",
      "35 59073.758\n",
      "36 59221.008\n",
      "37 60346.07\n",
      "38 59898.957\n",
      "39 59430.977\n",
      "40 59511.234\n",
      "41 59676.13\n",
      "42 58395.14\n",
      "43 58160.016\n",
      "44 59838.086\n",
      "45 58177.92\n",
      "46 58710.05\n",
      "47 58473.727\n",
      "48 58804.3\n",
      "49 58264.184\n",
      "50 58838.652\n",
      "51 57657.54\n",
      "52 58796.055\n",
      "53 58369.207\n",
      "54 58433.215\n",
      "55 58023.54\n",
      "56 58261.586\n",
      "57 56706.973\n",
      "58 57419.633\n",
      "59 57696.016\n",
      "60 57449.848\n",
      "61 57288.984\n",
      "62 57883.258\n",
      "63 57552.14\n",
      "64 56980.688\n",
      "65 57841.004\n",
      "66 56978.457\n",
      "67 57335.785\n",
      "68 57162.883\n",
      "69 57150.434\n",
      "70 57931.97\n",
      "71 56962.004\n",
      "72 57501.773\n",
      "73 56473.75\n",
      "74 57289.625\n",
      "75 56964.332\n",
      "76 56899.637\n",
      "77 57033.04\n",
      "78 56311.207\n",
      "79 57674.633\n",
      "80 56715.47\n",
      "81 57979.754\n",
      "82 56575.562\n",
      "83 57202.445\n",
      "84 56979.734\n",
      "85 56300.938\n",
      "86 56504.7\n",
      "87 56708.13\n",
      "88 56685.477\n",
      "89 56725.07\n",
      "90 56156.777\n",
      "91 55964.703\n",
      "92 56051.047\n",
      "93 55930.742\n",
      "94 55918.617\n",
      "95 55926.508\n",
      "96 56177.152\n",
      "97 56262.84\n",
      "98 56846.4\n",
      "99 55820.207\n"
     ]
    },
    {
     "data": {
      "image/png": "[encoded data removed]",
      "text/plain": [
       "<Figure size 432x288 with 100 Axes>"
      ]
     },
     "metadata": {},
     "output_type": "display_data"
    },
    {
     "data": {
      "image/png": "[encoded data removed]",
      "text/plain": [
       "<Figure size 432x288 with 100 Axes>"
      ]
     },
     "metadata": {},
     "output_type": "display_data"
    }
   ],
   "source": [
    "with tf.Session() as sess:\n",
    "    tf.global_variables_initializer().run()\n",
    "    for i in range(100):\n",
    "        for start, end in zip(range(0, len(trX), 128),range(128, len(trX)+1, 128)):\n",
    "            input_ = trX[start:end]\n",
    "            mask_np = np.random.binomial(1,1 -corruption_level, input_.shape)\n",
    "            # 입력데이터에 tqrget\n",
    "            sess.run(train_op, feed_dict={X:input_,mask:mask_np})\n",
    "        # 이항분포로 마스크 생성 + 노이즈(원본 이미지 노이즈)\n",
    "        mask_np = np.random.binomial(1,1-corruption_level, teX.shape)\n",
    "        \n",
    "        print(i, sess.run(cost, feed_dict={X: teX, mask:mask_np}))\n",
    "    mask_np=np.random.binomial(1,1-corruption_level, teX[:100].shape)\n",
    "    predicted_imgs = sess.run(predict_op, feed_dict={X: teX[:100], mask:mask_np})\n",
    "    input_imgs = teX[:100]\n",
    "vis(predicted_imgs,'pred') # 예측된이미지\n",
    "vis(input_imgs, 'in') # "
   ]
  },
  {
   "cell_type": "markdown",
   "metadata": {},
   "source": [
    "### random_normal"
   ]
  },
  {
   "cell_type": "markdown",
   "metadata": {},
   "source": [
    "# Variational autoencoder(VAE)\n",
    "- generative model 생성 모델\n",
    "- 판별모델(discrimitive mopdel)\n",
    "- 잠재변수(latent variables) : 키, 남자 => 특징 + 노이즈"
   ]
  },
  {
   "cell_type": "code",
   "execution_count": 420,
   "metadata": {},
   "outputs": [],
   "source": [
    "import tensorflow as tf\n",
    "from tensorflow.python.framework import ops\n",
    "ops.reset_default_graph()\n",
    "from functools import partial\n",
    "\n",
    "train, test = tf.keras.datasets.mnist.load_data()\n",
    "train_x, train_y = train\n",
    "\n",
    "n_inputs = 28*28\n",
    "n_hidden1 = 500\n",
    "n_hidden2 = 500\n",
    "n_hidden3 = 20\n",
    "n_hidden4 = n_hidden2 # 500\n",
    "n_hidden5 = n_hidden1 # 500\n",
    "n_outputs = n_inputs # 784\n",
    "learning_rate = 0.001\n",
    "\n",
    "# without scaling\n",
    "initializer = tf.contrib.layers.variance_scaling_initializer()"
   ]
  },
  {
   "cell_type": "code",
   "execution_count": 421,
   "metadata": {},
   "outputs": [
    {
     "name": "stdout",
     "output_type": "stream",
     "text": [
      "WARNING:tensorflow:Entity <bound method Dense.call of <tensorflow.python.layers.core.Dense object at 0x0000018728B48588>> could not be transformed and will be executed as-is. Please report this to the AutgoGraph team. When filing the bug, set the verbosity to 10 (on Linux, `export AUTOGRAPH_VERBOSITY=10`) and attach the full output. Cause: converting <bound method Dense.call of <tensorflow.python.layers.core.Dense object at 0x0000018728B48588>>: AssertionError: Bad argument number for Name: 3, expecting 4\n",
      "WARNING: Entity <bound method Dense.call of <tensorflow.python.layers.core.Dense object at 0x0000018728B48588>> could not be transformed and will be executed as-is. Please report this to the AutgoGraph team. When filing the bug, set the verbosity to 10 (on Linux, `export AUTOGRAPH_VERBOSITY=10`) and attach the full output. Cause: converting <bound method Dense.call of <tensorflow.python.layers.core.Dense object at 0x0000018728B48588>>: AssertionError: Bad argument number for Name: 3, expecting 4\n",
      "WARNING:tensorflow:Entity <bound method Dense.call of <tensorflow.python.layers.core.Dense object at 0x000001871BAFD3C8>> could not be transformed and will be executed as-is. Please report this to the AutgoGraph team. When filing the bug, set the verbosity to 10 (on Linux, `export AUTOGRAPH_VERBOSITY=10`) and attach the full output. Cause: converting <bound method Dense.call of <tensorflow.python.layers.core.Dense object at 0x000001871BAFD3C8>>: AssertionError: Bad argument number for Name: 3, expecting 4\n",
      "WARNING: Entity <bound method Dense.call of <tensorflow.python.layers.core.Dense object at 0x000001871BAFD3C8>> could not be transformed and will be executed as-is. Please report this to the AutgoGraph team. When filing the bug, set the verbosity to 10 (on Linux, `export AUTOGRAPH_VERBOSITY=10`) and attach the full output. Cause: converting <bound method Dense.call of <tensorflow.python.layers.core.Dense object at 0x000001871BAFD3C8>>: AssertionError: Bad argument number for Name: 3, expecting 4\n",
      "WARNING:tensorflow:Entity <bound method Dense.call of <tensorflow.python.layers.core.Dense object at 0x0000018728B48588>> could not be transformed and will be executed as-is. Please report this to the AutgoGraph team. When filing the bug, set the verbosity to 10 (on Linux, `export AUTOGRAPH_VERBOSITY=10`) and attach the full output. Cause: converting <bound method Dense.call of <tensorflow.python.layers.core.Dense object at 0x0000018728B48588>>: AssertionError: Bad argument number for Name: 3, expecting 4\n",
      "WARNING: Entity <bound method Dense.call of <tensorflow.python.layers.core.Dense object at 0x0000018728B48588>> could not be transformed and will be executed as-is. Please report this to the AutgoGraph team. When filing the bug, set the verbosity to 10 (on Linux, `export AUTOGRAPH_VERBOSITY=10`) and attach the full output. Cause: converting <bound method Dense.call of <tensorflow.python.layers.core.Dense object at 0x0000018728B48588>>: AssertionError: Bad argument number for Name: 3, expecting 4\n",
      "WARNING:tensorflow:Entity <bound method Dense.call of <tensorflow.python.layers.core.Dense object at 0x000001871BAFD3C8>> could not be transformed and will be executed as-is. Please report this to the AutgoGraph team. When filing the bug, set the verbosity to 10 (on Linux, `export AUTOGRAPH_VERBOSITY=10`) and attach the full output. Cause: converting <bound method Dense.call of <tensorflow.python.layers.core.Dense object at 0x000001871BAFD3C8>>: AssertionError: Bad argument number for Name: 3, expecting 4\n",
      "WARNING: Entity <bound method Dense.call of <tensorflow.python.layers.core.Dense object at 0x000001871BAFD3C8>> could not be transformed and will be executed as-is. Please report this to the AutgoGraph team. When filing the bug, set the verbosity to 10 (on Linux, `export AUTOGRAPH_VERBOSITY=10`) and attach the full output. Cause: converting <bound method Dense.call of <tensorflow.python.layers.core.Dense object at 0x000001871BAFD3C8>>: AssertionError: Bad argument number for Name: 3, expecting 4\n",
      "WARNING:tensorflow:Entity <bound method Dense.call of <tensorflow.python.layers.core.Dense object at 0x000001871BB8AFC8>> could not be transformed and will be executed as-is. Please report this to the AutgoGraph team. When filing the bug, set the verbosity to 10 (on Linux, `export AUTOGRAPH_VERBOSITY=10`) and attach the full output. Cause: converting <bound method Dense.call of <tensorflow.python.layers.core.Dense object at 0x000001871BB8AFC8>>: AssertionError: Bad argument number for Name: 3, expecting 4\n",
      "WARNING: Entity <bound method Dense.call of <tensorflow.python.layers.core.Dense object at 0x000001871BB8AFC8>> could not be transformed and will be executed as-is. Please report this to the AutgoGraph team. When filing the bug, set the verbosity to 10 (on Linux, `export AUTOGRAPH_VERBOSITY=10`) and attach the full output. Cause: converting <bound method Dense.call of <tensorflow.python.layers.core.Dense object at 0x000001871BB8AFC8>>: AssertionError: Bad argument number for Name: 3, expecting 4\n",
      "WARNING:tensorflow:Entity <bound method Dense.call of <tensorflow.python.layers.core.Dense object at 0x0000018729217F88>> could not be transformed and will be executed as-is. Please report this to the AutgoGraph team. When filing the bug, set the verbosity to 10 (on Linux, `export AUTOGRAPH_VERBOSITY=10`) and attach the full output. Cause: converting <bound method Dense.call of <tensorflow.python.layers.core.Dense object at 0x0000018729217F88>>: AssertionError: Bad argument number for Name: 3, expecting 4\n",
      "WARNING: Entity <bound method Dense.call of <tensorflow.python.layers.core.Dense object at 0x0000018729217F88>> could not be transformed and will be executed as-is. Please report this to the AutgoGraph team. When filing the bug, set the verbosity to 10 (on Linux, `export AUTOGRAPH_VERBOSITY=10`) and attach the full output. Cause: converting <bound method Dense.call of <tensorflow.python.layers.core.Dense object at 0x0000018729217F88>>: AssertionError: Bad argument number for Name: 3, expecting 4\n",
      "WARNING:tensorflow:Entity <bound method Dense.call of <tensorflow.python.layers.core.Dense object at 0x000001871BB8AFC8>> could not be transformed and will be executed as-is. Please report this to the AutgoGraph team. When filing the bug, set the verbosity to 10 (on Linux, `export AUTOGRAPH_VERBOSITY=10`) and attach the full output. Cause: converting <bound method Dense.call of <tensorflow.python.layers.core.Dense object at 0x000001871BB8AFC8>>: AssertionError: Bad argument number for Name: 3, expecting 4\n",
      "WARNING: Entity <bound method Dense.call of <tensorflow.python.layers.core.Dense object at 0x000001871BB8AFC8>> could not be transformed and will be executed as-is. Please report this to the AutgoGraph team. When filing the bug, set the verbosity to 10 (on Linux, `export AUTOGRAPH_VERBOSITY=10`) and attach the full output. Cause: converting <bound method Dense.call of <tensorflow.python.layers.core.Dense object at 0x000001871BB8AFC8>>: AssertionError: Bad argument number for Name: 3, expecting 4\n"
     ]
    }
   ],
   "source": [
    "# 매개변수 일부 고정 : partial\n",
    "# 상수 취급 : activation = tf.nn.elu, kernel_initializer=initializer\n",
    "# Exponential linear unit(-1을 고려한 relu)\n",
    "my_dense_layer = partial(tf.layers.dense, activation = tf.nn.elu, kernel_initializer=initializer)\n",
    "\n",
    "X = tf.placeholder(tf.float32, [None, n_inputs]) # 150 x784\n",
    "hidden1 = my_dense_layer(X, n_hidden1) # \n",
    "hidden2 = my_dense_layer(hidden1, n_hidden2)\n",
    "hidden3_mean = my_dense_layer(hidden2, n_hidden3, activation=None)\n",
    "hidden3_sigma = my_dense_layer(hidden2, n_hidden3, activation=None)\n",
    "noise=tf.random_normal(tf.shape(hidden3_sigma), dtype=tf.float32)\n",
    "\n",
    "# 평균, 분산 * 노이즈(변동된 특성을 뽑겠다.)\n",
    "hidden3 = hidden3_mean + hidden3_sigma * noise\n",
    "hidden4 = my_dense_layer(hidden3, n_hidden4)\n",
    "hidden5 = my_dense_layer(hidden4, n_hidden5)\n",
    "# 자기자신값 784\n",
    "logits = my_dense_layer(hidden5, n_outputs, activation=None)\n",
    "outputs = tf.sigmoid(logits)"
   ]
  },
  {
   "cell_type": "code",
   "execution_count": 422,
   "metadata": {},
   "outputs": [],
   "source": [
    "xentropy = tf.nn.sigmoid_cross_entropy_with_logits(labels=X, logits= logits) # 입력값 ==출력값\n",
    "# 재구축손실\n",
    "reconstruction_loss = tf.reduce_sum(xentropy)\n",
    "\n",
    "# epsilon 상수 : 부동소수점을 비교 0.0001 차가 0.001 이하이면 같은것으로 본다.\n",
    "eps = 3e-10 # epsilon 상수 : 로그의 성질 : 0이면 무한대\n",
    "\n",
    "# cost function : \n",
    "# log likelihood 우도 확률\n",
    "# 지연손실(확률분포 곳선)\n",
    "latent_loss = 0.5 * tf.reduce_sum(tf.square(hidden3_sigma) + tf.square(hidden3_mean)-1-tf.log(eps + tf.square(hidden3_sigma)))\n",
    "loss = reconstruction_loss + latent_loss\n",
    "optimizer = tf.train.AdamOptimizer(learning_rate=learning_rate)\n",
    "training_op = optimizer.minimize(loss)\n",
    "init = tf.global_variables_initializer()"
   ]
  },
  {
   "cell_type": "code",
   "execution_count": 425,
   "metadata": {},
   "outputs": [
    {
     "name": "stdout",
     "output_type": "stream",
     "text": [
      "0 Train totoal loss : 38998.328125 Reconstruction loss : 28490.494140625 Latent loss\n",
      "1 Train totoal loss : 30207.84765625 Reconstruction loss : 22956.15625 Latent loss\n",
      "2 Train totoal loss : 26304.576171875 Reconstruction loss : 21739.158203125 Latent loss\n",
      "3 Train totoal loss : 22053.0078125 Reconstruction loss : 19229.017578125 Latent loss\n",
      "4 Train totoal loss : 19541.93359375 Reconstruction loss : 16749.39453125 Latent loss\n",
      "5 Train totoal loss : 16676.134765625 Reconstruction loss : 13832.5966796875 Latent loss\n",
      "6 Train totoal loss : 17471.125 Reconstruction loss : 14599.54296875 Latent loss\n",
      "7 Train totoal loss : 17197.6796875 Reconstruction loss : 14166.7255859375 Latent loss\n",
      "8 Train totoal loss : 17348.90234375 Reconstruction loss : 14322.6923828125 Latent loss\n",
      "9 Train totoal loss : 16345.134765625 Reconstruction loss : 13213.857421875 Latent loss\n",
      "10 Train totoal loss : 16664.990234375 Reconstruction loss : 13492.27734375 Latent loss\n",
      "11 Train totoal loss : 16367.35546875 Reconstruction loss : 13223.29296875 Latent loss\n",
      "12 Train totoal loss : 16194.9833984375 Reconstruction loss : 13023.703125 Latent loss\n",
      "13 Train totoal loss : 18561.57421875 Reconstruction loss : 14537.474609375 Latent loss\n",
      "14 Train totoal loss : 17363.94921875 Reconstruction loss : 14219.3212890625 Latent loss\n",
      "15 Train totoal loss : 17027.630859375 Reconstruction loss : 13736.41015625 Latent loss\n",
      "16 Train totoal loss : 17102.97265625 Reconstruction loss : 13453.27734375 Latent loss\n",
      "17 Train totoal loss : 15756.11328125 Reconstruction loss : 12372.525390625 Latent loss\n",
      "18 Train totoal loss : 15862.669921875 Reconstruction loss : 12479.962890625 Latent loss\n",
      "19 Train totoal loss : 15714.93359375 Reconstruction loss : 12470.154296875 Latent loss\n",
      "20 Train totoal loss : 16809.185546875 Reconstruction loss : 13405.0693359375 Latent loss\n",
      "21 Train totoal loss : 15120.525390625 Reconstruction loss : 11742.6171875 Latent loss\n",
      "22 Train totoal loss : 15006.5595703125 Reconstruction loss : 11840.11328125 Latent loss\n",
      "23 Train totoal loss : 17614.396484375 Reconstruction loss : 13589.1650390625 Latent loss\n",
      "24 Train totoal loss : 15110.0498046875 Reconstruction loss : 11847.38671875 Latent loss\n",
      "25 Train totoal loss : 18340.83203125 Reconstruction loss : 14407.548828125 Latent loss\n",
      "26 Train totoal loss : 15699.375 Reconstruction loss : 12276.533203125 Latent loss\n",
      "27 Train totoal loss : 15852.3818359375 Reconstruction loss : 12630.98828125 Latent loss\n",
      "28 Train totoal loss : 15987.953125 Reconstruction loss : 12564.2724609375 Latent loss\n",
      "29 Train totoal loss : 21926.35546875 Reconstruction loss : 17733.439453125 Latent loss\n",
      "30 Train totoal loss : 15844.658203125 Reconstruction loss : 12459.9013671875 Latent loss\n",
      "31 Train totoal loss : 25631.69921875 Reconstruction loss : 19069.4375 Latent loss\n",
      "32 Train totoal loss : 17503.84375 Reconstruction loss : 13781.298828125 Latent loss\n",
      "33 Train totoal loss : 20322.75 Reconstruction loss : 15035.734375 Latent loss\n",
      "34 Train totoal loss : 18856.78515625 Reconstruction loss : 15091.6796875 Latent loss\n",
      "35 Train totoal loss : 16873.45703125 Reconstruction loss : 13638.2431640625 Latent loss\n",
      "36 Train totoal loss : 15841.1015625 Reconstruction loss : 12478.9716796875 Latent loss\n",
      "37 Train totoal loss : 15438.9765625 Reconstruction loss : 12266.9853515625 Latent loss\n",
      "38 Train totoal loss : 15413.6484375 Reconstruction loss : 12116.4677734375 Latent loss\n",
      "39 Train totoal loss : 15076.9609375 Reconstruction loss : 11867.14453125 Latent loss\n",
      "40 Train totoal loss : 16003.7880859375 Reconstruction loss : 12616.818359375 Latent loss\n",
      "41 Train totoal loss : 15219.150390625 Reconstruction loss : 11838.86328125 Latent loss\n",
      "42 Train totoal loss : 15621.951171875 Reconstruction loss : 11993.0693359375 Latent loss\n",
      "43 Train totoal loss : 17067.44140625 Reconstruction loss : 13559.390625 Latent loss\n",
      "44 Train totoal loss : 15778.2451171875 Reconstruction loss : 12451.857421875 Latent loss\n",
      "45 Train totoal loss : 15653.6787109375 Reconstruction loss : 12448.3203125 Latent loss\n",
      "46 Train totoal loss : 15987.4833984375 Reconstruction loss : 12636.7255859375 Latent loss\n",
      "47 Train totoal loss : 16579.853515625 Reconstruction loss : 13054.958984375 Latent loss\n",
      "48 Train totoal loss : 15225.990234375 Reconstruction loss : 11722.0732421875 Latent loss\n",
      "49 Train totoal loss : 16164.5947265625 Reconstruction loss : 12392.4736328125 Latent loss\n",
      "[[-0.34263418  0.03791288  0.17405596 ... -0.31884541 -1.55722577\n",
      "  -0.61182518]\n",
      " [-0.15569073 -0.08046642  0.66380709 ...  0.21151164 -0.31587906\n",
      "   0.69843194]\n",
      " [ 0.0432173   0.32779291  0.92370908 ...  0.59815306  0.29803967\n",
      "  -1.86084292]\n",
      " ...\n",
      " [ 0.35402089 -0.22968889 -0.45727762 ... -0.25319885  0.4921676\n",
      "   1.28300784]\n",
      " [ 1.725674   -0.0442757   0.00847195 ... -1.03211364  0.4148813\n",
      "  -0.92270948]\n",
      " [-1.14785526  0.55012169 -1.9861956  ... -1.38835566  0.7541298\n",
      "   2.44866197]]\n",
      "[[1.4901161e-07 2.9802322e-08 2.0861626e-07 ... 2.3841858e-07\n",
      "  1.1920929e-07 0.0000000e+00]\n",
      " [0.0000000e+00 0.0000000e+00 0.0000000e+00 ... 0.0000000e+00\n",
      "  0.0000000e+00 0.0000000e+00]\n",
      " [0.0000000e+00 0.0000000e+00 0.0000000e+00 ... 0.0000000e+00\n",
      "  0.0000000e+00 0.0000000e+00]\n",
      " ...\n",
      " [0.0000000e+00 0.0000000e+00 0.0000000e+00 ... 0.0000000e+00\n",
      "  0.0000000e+00 0.0000000e+00]\n",
      " [0.0000000e+00 0.0000000e+00 5.9604645e-08 ... 0.0000000e+00\n",
      "  0.0000000e+00 0.0000000e+00]\n",
      " [0.0000000e+00 1.4901161e-07 0.0000000e+00 ... 0.0000000e+00\n",
      "  1.4901161e-07 2.9802322e-08]]\n"
     ]
    }
   ],
   "source": [
    "import sys\n",
    "n_digits = 60\n",
    "n_epochs = 50\n",
    "batch_size = 150\n",
    "\n",
    "with tf.Session() as sess:\n",
    "    init.run()\n",
    "    for epoch in range(n_epochs):\n",
    "        n_batches = mnist.train.num_examples // batch_size\n",
    "        for iteration in range(n_batches):\n",
    "            print('\\r{}%'.format(100*iteration // n_batches), end='')\n",
    "            sys.stdout.flush()\n",
    "            X_batch, y_batch = mnist.train.next_batch(batch_size)\n",
    "            sess.run(training_op, feed_dict={X:X_batch})\n",
    "        loss_val, reconstruction_loss_val, latent_loss_val=sess.run([loss, reconstruction_loss,latent_loss], feed_dict={X:X_batch})\n",
    "        print('\\r{} Train totoal loss : {} Reconstruction loss : {} Latent loss'.format(epoch, loss_val, reconstruction_loss_val, latent_loss_val))\n",
    "    codings_rnd = np.random.normal(size = [n_digits, n_hidden3])\n",
    "    outputs_val = outputs.eval(feed_dict={hidden3 : codings_rnd})\n",
    "# 가중치를 통과한 데이터(test) : 모델 완성\n",
    "# PCA처럼 비지도 학습의 특성으로 추출된 데이터(분류와 예측이 잘되게 하기위해 한다.)\n",
    "\n",
    "print(codings_rnd)\n",
    "print(outputs_val)"
   ]
  },
  {
   "cell_type": "code",
   "execution_count": null,
   "metadata": {},
   "outputs": [],
   "source": []
  },
  {
   "cell_type": "code",
   "execution_count": null,
   "metadata": {},
   "outputs": [],
   "source": []
  },
  {
   "cell_type": "code",
   "execution_count": null,
   "metadata": {},
   "outputs": [],
   "source": []
  },
  {
   "cell_type": "code",
   "execution_count": null,
   "metadata": {},
   "outputs": [],
   "source": []
  },
  {
   "cell_type": "code",
   "execution_count": null,
   "metadata": {},
   "outputs": [],
   "source": []
  },
  {
   "cell_type": "code",
   "execution_count": null,
   "metadata": {},
   "outputs": [],
   "source": []
  },
  {
   "cell_type": "code",
   "execution_count": null,
   "metadata": {},
   "outputs": [],
   "source": []
  },
  {
   "cell_type": "code",
   "execution_count": null,
   "metadata": {},
   "outputs": [],
   "source": []
  },
  {
   "cell_type": "code",
   "execution_count": null,
   "metadata": {},
   "outputs": [],
   "source": []
  },
  {
   "cell_type": "code",
   "execution_count": null,
   "metadata": {},
   "outputs": [],
   "source": []
  },
  {
   "cell_type": "code",
   "execution_count": null,
   "metadata": {},
   "outputs": [],
   "source": []
  },
  {
   "cell_type": "code",
   "execution_count": null,
   "metadata": {},
   "outputs": [],
   "source": []
  },
  {
   "cell_type": "code",
   "execution_count": null,
   "metadata": {},
   "outputs": [],
   "source": []
  },
  {
   "cell_type": "code",
   "execution_count": null,
   "metadata": {},
   "outputs": [],
   "source": []
  },
  {
   "cell_type": "code",
   "execution_count": null,
   "metadata": {},
   "outputs": [],
   "source": []
  },
  {
   "cell_type": "code",
   "execution_count": null,
   "metadata": {},
   "outputs": [],
   "source": []
  },
  {
   "cell_type": "code",
   "execution_count": null,
   "metadata": {},
   "outputs": [],
   "source": []
  }
 ],
 "metadata": {
  "kernelspec": {
   "display_name": "Python 3",
   "language": "python",
   "name": "python3"
  },
  "language_info": {
   "codemirror_mode": {
    "name": "ipython",
    "version": 3
   },
   "file_extension": ".py",
   "mimetype": "text/x-python",
   "name": "python",
   "nbconvert_exporter": "python",
   "pygments_lexer": "ipython3",
   "version": "3.7.4"
  }
 },
 "nbformat": 4,
 "nbformat_minor": 2
}
