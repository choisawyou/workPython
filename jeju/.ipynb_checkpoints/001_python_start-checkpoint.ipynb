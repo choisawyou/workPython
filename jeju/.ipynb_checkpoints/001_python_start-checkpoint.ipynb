{
 "cells": [
  {
   "cell_type": "markdown",
   "metadata": {},
   "source": [
    "# python"
   ]
  },
  {
   "cell_type": "code",
   "execution_count": 11,
   "metadata": {
    "scrolled": true
   },
   "outputs": [
    {
     "name": "stdout",
     "output_type": "stream",
     "text": [
      "10\n",
      "10\n"
     ]
    }
   ],
   "source": [
    "a = 10 # 주소 =>  값저장(맵핑)\n",
    "b = a # 10(X) a가 가리키는 주소\n",
    "print(a)\n",
    "print(b)"
   ]
  },
  {
   "cell_type": "code",
   "execution_count": 12,
   "metadata": {},
   "outputs": [
    {
     "name": "stdout",
     "output_type": "stream",
     "text": [
      "주소값 대입 140737211572912\n",
      "140737211572912\n"
     ]
    },
    {
     "data": {
      "text/plain": [
       "(None, None)"
      ]
     },
     "execution_count": 12,
     "metadata": {},
     "output_type": "execute_result"
    }
   ],
   "source": [
    "# 주소값 일치\n",
    "print(\"주소값 대입\", id(a)), print(id(a))"
   ]
  },
  {
   "cell_type": "code",
   "execution_count": 13,
   "metadata": {},
   "outputs": [
    {
     "name": "stdout",
     "output_type": "stream",
     "text": [
      "20\n",
      "10\n",
      "주소값 대입 140737211573232\n",
      "140737211572912\n"
     ]
    },
    {
     "data": {
      "text/plain": [
       "(None, None)"
      ]
     },
     "execution_count": 13,
     "metadata": {},
     "output_type": "execute_result"
    }
   ],
   "source": [
    "a = 20\n",
    "print(a)\n",
    "print(b)\n",
    "print(\"주소값 대입\", id(a)), print(id(b))"
   ]
  },
  {
   "cell_type": "code",
   "execution_count": 14,
   "metadata": {},
   "outputs": [],
   "source": [
    "# 파이썬은 대소문자를 구분한다."
   ]
  },
  {
   "cell_type": "code",
   "execution_count": 15,
   "metadata": {},
   "outputs": [
    {
     "data": {
      "text/plain": [
       "int"
      ]
     },
     "execution_count": 15,
     "metadata": {},
     "output_type": "execute_result"
    }
   ],
   "source": [
    "type(a)"
   ]
  },
  {
   "cell_type": "code",
   "execution_count": 16,
   "metadata": {},
   "outputs": [
    {
     "name": "stdout",
     "output_type": "stream",
     "text": [
      "10\n"
     ]
    }
   ],
   "source": [
    "a = 10\n",
    "A = 20\n",
    "print(a)"
   ]
  },
  {
   "cell_type": "code",
   "execution_count": 20,
   "metadata": {},
   "outputs": [
    {
     "name": "stdout",
     "output_type": "stream",
     "text": [
      "수식을 입력하시요10\n",
      "10\n",
      "10\n",
      "10\n"
     ]
    }
   ],
   "source": [
    "# 데이터 입력\n",
    "problem = input(\"수식을 입력하시요\")\n",
    "print(problem)\n",
    "print(int(problem)) # 데이터 casting : 데이터 형변환\n",
    "print(eval(problem)) # 평가 + 연산자도 알아서해줌"
   ]
  },
  {
   "cell_type": "code",
   "execution_count": 19,
   "metadata": {},
   "outputs": [
    {
     "name": "stdout",
     "output_type": "stream",
     "text": [
      "0.00424\n",
      "127\n"
     ]
    }
   ],
   "source": [
    "a3 = 4.24e-3 # exponent 지수형\n",
    "a4 = 0o177 # octal 8진수\n",
    "print(a3)\n",
    "print(a4)"
   ]
  },
  {
   "cell_type": "code",
   "execution_count": 30,
   "metadata": {},
   "outputs": [
    {
     "name": "stdout",
     "output_type": "stream",
     "text": [
      "이름을 입력하세요 : 김동현\n",
      "김\n",
      "동\n",
      "현\n"
     ]
    },
    {
     "ename": "ValueError",
     "evalue": "invalid literal for int() with base 10: '현'",
     "output_type": "error",
     "traceback": [
      "\u001b[1;31m---------------------------------------------------------------------------\u001b[0m",
      "\u001b[1;31mValueError\u001b[0m                                Traceback (most recent call last)",
      "\u001b[1;32m<ipython-input-30-bdd39864d1fe>\u001b[0m in \u001b[0;36m<module>\u001b[1;34m\u001b[0m\n\u001b[0;32m      6\u001b[0m \u001b[0mprint\u001b[0m\u001b[1;33m(\u001b[0m\u001b[0mfullName\u001b[0m\u001b[1;33m[\u001b[0m\u001b[1;36m1\u001b[0m\u001b[1;33m]\u001b[0m\u001b[1;33m)\u001b[0m\u001b[1;33m\u001b[0m\u001b[1;33m\u001b[0m\u001b[0m\n\u001b[0;32m      7\u001b[0m \u001b[0mprint\u001b[0m\u001b[1;33m(\u001b[0m\u001b[0mfullName\u001b[0m\u001b[1;33m[\u001b[0m\u001b[1;36m2\u001b[0m\u001b[1;33m]\u001b[0m\u001b[1;33m)\u001b[0m\u001b[1;33m\u001b[0m\u001b[1;33m\u001b[0m\u001b[0m\n\u001b[1;32m----> 8\u001b[1;33m \u001b[0mprint\u001b[0m\u001b[1;33m(\u001b[0m\u001b[0mint\u001b[0m\u001b[1;33m(\u001b[0m\u001b[0mfullName\u001b[0m\u001b[1;33m[\u001b[0m\u001b[1;33m-\u001b[0m\u001b[1;36m1\u001b[0m\u001b[1;33m]\u001b[0m\u001b[1;33m)\u001b[0m\u001b[1;33m)\u001b[0m\u001b[1;33m\u001b[0m\u001b[1;33m\u001b[0m\u001b[0m\n\u001b[0m\u001b[0;32m      9\u001b[0m \u001b[0mprint\u001b[0m\u001b[1;33m(\u001b[0m\u001b[0mn\u001b[0m\u001b[1;33m)\u001b[0m\u001b[1;33m\u001b[0m\u001b[1;33m\u001b[0m\u001b[0m\n\u001b[0;32m     10\u001b[0m \u001b[0mprint\u001b[0m\u001b[1;33m(\u001b[0m\u001b[1;34m'이름'\u001b[0m\u001b[1;33m,\u001b[0m \u001b[0mfullName\u001b[0m\u001b[1;33m[\u001b[0m\u001b[0mn\u001b[0m\u001b[1;33m+\u001b[0m\u001b[1;36m1\u001b[0m\u001b[1;33m:\u001b[0m\u001b[1;33m]\u001b[0m\u001b[1;33m)\u001b[0m\u001b[1;33m\u001b[0m\u001b[1;33m\u001b[0m\u001b[0m\n",
      "\u001b[1;31mValueError\u001b[0m: invalid literal for int() with base 10: '현'"
     ]
    }
   ],
   "source": [
    "# fullName 문자열 : 기본이 1차원 배열, 숫자 int : 4byte, float : 4byte\n",
    "fullName = input('이름을 입력하세요 : ')\n",
    "n = fullName.rfind(\" \") # 뒤에서 시작해서 공백을 찾아라\n",
    "\n",
    "print(fullName[0]) # 배열과 리스트의 인덱싱은 동일\n",
    "print(fullName[1])\n",
    "print(fullName[2])\n",
    "\n",
    "print(n)\n",
    "print('이름', fullName[n+1:])\n",
    "print('성(s) : ', fullName[:n])"
   ]
  },
  {
   "cell_type": "code",
   "execution_count": 28,
   "metadata": {},
   "outputs": [
    {
     "name": "stdout",
     "output_type": "stream",
     "text": [
      "koreakorea\n",
      "koreakoreakorea\n",
      "korea\n",
      "a\n",
      "a\n",
      "or\n",
      "ea\n",
      "ea\n",
      "e\n",
      "5\n"
     ]
    },
    {
     "data": {
      "text/plain": [
       "['ko', 'ea']"
      ]
     },
     "execution_count": 28,
     "metadata": {},
     "output_type": "execute_result"
    }
   ],
   "source": [
    "# \n",
    "s = 'korea'\n",
    "print(s+s)\n",
    "print(s*3)\n",
    "print(s[0:])\n",
    "print(s[4])\n",
    "print(s[-1])\n",
    "print(s[1:3])\n",
    "print(s[-2:])\n",
    "print(s[-2:5])\n",
    "print(s[3:-1])\n",
    "print(len(s))\n",
    "s.split('r')"
   ]
  },
  {
   "cell_type": "code",
   "execution_count": 32,
   "metadata": {},
   "outputs": [
    {
     "name": "stdout",
     "output_type": "stream",
     "text": [
      "['Seoul', ' lncheon', ' won']\n"
     ]
    }
   ],
   "source": [
    "# csv데이터 : comma로 분리된 데이터\n",
    "t = 'Seoul, lncheon, won'.split(',')\n",
    "print(t)"
   ]
  },
  {
   "cell_type": "code",
   "execution_count": 34,
   "metadata": {},
   "outputs": [
    {
     "data": {
      "text/plain": [
       "'Seoul, lncheon, won'"
      ]
     },
     "execution_count": 34,
     "metadata": {},
     "output_type": "execute_result"
    }
   ],
   "source": [
    "','.join(t)"
   ]
  },
  {
   "cell_type": "code",
   "execution_count": 36,
   "metadata": {},
   "outputs": [
    {
     "name": "stdout",
     "output_type": "stream",
     "text": [
      "Korea\n",
      "2\n",
      "1\n",
      "True\n",
      "False\n",
      "True\n",
      "koRea\n",
      "False\n",
      "True\n"
     ]
    }
   ],
   "source": [
    "# 파이썬은 객체 지향 프로그래밍으로 설계된 언어임 : 모든것이 객체임, 함수도 객체임\n",
    "# c, java는 객체지향을 별도로 학습\n",
    "# python은 자체가 객체지향언어임\n",
    "s = 'korea'\n",
    "print(s.capitalize()) # 첫자가 대문자\n",
    "print(s.find('r')) # 단어찾기\n",
    "print(s.count('re')) # \n",
    "print(s.isalpha())\n",
    "print(s.isdigit()) # 숫자냐?\n",
    "print('0123'.isdigit())\n",
    "print(s.replace('r', 'R')) # 글자 바꾸기\n",
    "print(s.startswith('K')) # 시작하고있나?\n",
    "print(s.endswith('a')) # 끝나고있냐?\n"
   ]
  },
  {
   "cell_type": "markdown",
   "metadata": {},
   "source": [
    "# 산술연산"
   ]
  },
  {
   "cell_type": "code",
   "execution_count": 37,
   "metadata": {},
   "outputs": [
    {
     "name": "stdout",
     "output_type": "stream",
     "text": [
      "7 -1 12 0.75\n",
      "0.75\n",
      "3\n",
      "1\n",
      "0\n",
      "1\n",
      "0\n",
      "1.75\n",
      "1\n"
     ]
    }
   ],
   "source": [
    "a = 3\n",
    "b = 4\n",
    "\n",
    "print(a + b, a- b,a*b, a/b)\n",
    "print(a/b)\n",
    "print(a%b) # 나머지 : 경우의 수를 생성할 때\n",
    "print(1%2)\n",
    "print(2%2)\n",
    "print(3%2)\n",
    "print(4%2)\n",
    "\n",
    "print(7/4)\n",
    "print(7//4) # 몫연산자"
   ]
  },
  {
   "cell_type": "markdown",
   "metadata": {},
   "source": [
    "# 내장함수"
   ]
  },
  {
   "cell_type": "code",
   "execution_count": 41,
   "metadata": {},
   "outputs": [
    {
     "name": "stdout",
     "output_type": "stream",
     "text": [
      "sum([1,2,3]) :  6\n",
      "min([1,2,3]) :  1\n",
      "abs(-11) :  11\n",
      "pow(2,10) :  1024\n",
      "round(3.141595) :  3\n",
      "round(3.141592) :  3.14\n"
     ]
    }
   ],
   "source": [
    "# [] : list, {} : dict, () : tuple\n",
    "print('sum([1,2,3]) : ', sum([1,2,3]))\n",
    "print('min([1,2,3]) : ', min([1,2,3]))\n",
    "print('abs(-11) : ', abs(-11))\n",
    "print('pow(2,10) : ', pow(2,10))\n",
    "print('round(3.141595) : ', round(3.141592))\n",
    "print('round(3.141592) : ', round(3.141592, 2))\n",
    "# 함수의 형태가 다르면 : 오버로딩\n",
    "# 파이썬 오버로딩이 없음 => 디폴트 매개변수"
   ]
  },
  {
   "cell_type": "code",
   "execution_count": 43,
   "metadata": {},
   "outputs": [],
   "source": [
    "# 문제 : 숫자 4, 7, 8을 리스트로 초기화하고 합계를 출력"
   ]
  },
  {
   "cell_type": "code",
   "execution_count": 44,
   "metadata": {},
   "outputs": [
    {
     "data": {
      "text/plain": [
       "19"
      ]
     },
     "execution_count": 44,
     "metadata": {},
     "output_type": "execute_result"
    }
   ],
   "source": [
    "num = [4, 7, 8]\n",
    "sum(num)"
   ]
  },
  {
   "cell_type": "code",
   "execution_count": null,
   "metadata": {},
   "outputs": [],
   "source": [
    " # 두 수를 입력받아 몫과 나머지를 출력"
   ]
  },
  {
   "cell_type": "code",
   "execution_count": 49,
   "metadata": {},
   "outputs": [
    {
     "name": "stdout",
     "output_type": "stream",
     "text": [
      "첫번째 수 : 5\n",
      "두 번째 수 : 4\n",
      "1\n",
      "1\n"
     ]
    }
   ],
   "source": [
    "num1 = input('첫번째 수 : ')\n",
    "num2 = input('두 번째 수 : ')\n",
    "print(int(num1) // int(num2))\n",
    "print(int(num1) % int(num2))"
   ]
  },
  {
   "cell_type": "code",
   "execution_count": 50,
   "metadata": {},
   "outputs": [
    {
     "name": "stdout",
     "output_type": "stream",
     "text": [
      "첫번째 수 : 5\n",
      "두 번째 수 : 4\n",
      "입력된 수를 2로 나눈 결과 몫 :  4 나머지 :  1\n",
      "홀수\n"
     ]
    }
   ],
   "source": [
    "num1 = input('첫번째 수 : ')\n",
    "num2 = input('두 번째 수 : ')\n",
    "hab = int(num1) + int(num2)\n",
    "quotient = hab // 2\n",
    "remainder = hab % 2\n",
    "print('입력된 수를 2로 나눈 결과 몫 : ', quotient, '나머지 : ', remainder)\n",
    "\n",
    "if remainder == 0:\n",
    "    print('짝수')\n",
    "else:\n",
    "    print('홀수')\n"
   ]
  },
  {
   "cell_type": "markdown",
   "metadata": {},
   "source": [
    "# scope"
   ]
  },
  {
   "cell_type": "code",
   "execution_count": 51,
   "metadata": {},
   "outputs": [
    {
     "name": "stdout",
     "output_type": "stream",
     "text": [
      "200\n",
      "300\n"
     ]
    }
   ],
   "source": [
    "x = 300 # 전역\n",
    "def myfunc(): # 함수도 리턴타입을 지정하지 않음\n",
    "    x = 200 # 지역\n",
    "    print(x)\n",
    "myfunc()\n",
    "print(x)"
   ]
  },
  {
   "cell_type": "code",
   "execution_count": 57,
   "metadata": {},
   "outputs": [
    {
     "name": "stdout",
     "output_type": "stream",
     "text": [
      "숫자 집어 여~~!!7\n",
      "바위\n",
      "바위\n"
     ]
    }
   ],
   "source": [
    "# 어떤수가 입력되어도 나머지가 0:가위, 1 : 바위, 2: 보로 출력하시요\n",
    "a = 7\n",
    "b = int(input('숫자 집어 여~~!!'))\n",
    "\n",
    "def gbb(a):\n",
    "    x = a % 3\n",
    "    \n",
    "    if x == 0:\n",
    "        print('가위')\n",
    "    elif x == 1 :\n",
    "        print('바위')\n",
    "    else:\n",
    "        print('보')\n",
    "\n",
    "gbb(a)\n",
    "gbb(b)"
   ]
  },
  {
   "cell_type": "code",
   "execution_count": 107,
   "metadata": {},
   "outputs": [
    {
     "name": "stdout",
     "output_type": "stream",
     "text": [
      "4\n",
      "earths\n",
      "['fire', 'air']\n",
      "['air', 1, 'water', 'fire', 'earths']\n"
     ]
    }
   ],
   "source": [
    "# rnadom : 프로그램에서 난수는 의사난수임\n",
    "import random\n",
    "random.seed(1000) # 시작 고정\n",
    "\n",
    "print(random.randint(1,5))\n",
    "elements = ['earth', 1, 'air', 'fire', 'water']\n",
    "elements[0] = 'earths'\n",
    "print(random.choice(elements))\n",
    "print(random.sample(elements, 2))\n",
    "random.shuffle(elements)\n",
    "print(elements)"
   ]
  },
  {
   "cell_type": "markdown",
   "metadata": {},
   "source": [
    "# 비교연산"
   ]
  },
  {
   "cell_type": "code",
   "execution_count": 70,
   "metadata": {},
   "outputs": [
    {
     "name": "stdout",
     "output_type": "stream",
     "text": [
      "True\n",
      "True\n"
     ]
    }
   ],
   "source": [
    "a = 20\n",
    "b = 10\n",
    "c = a >10 and b< 50\n",
    "print(c)\n",
    "c = 10 < a < 50\n",
    "print(c)"
   ]
  },
  {
   "cell_type": "markdown",
   "metadata": {},
   "source": [
    "# SWAP!!"
   ]
  },
  {
   "cell_type": "code",
   "execution_count": 71,
   "metadata": {},
   "outputs": [
    {
     "name": "stdout",
     "output_type": "stream",
     "text": [
      "6 5\n"
     ]
    }
   ],
   "source": [
    "x = 5\n",
    "y = 6\n",
    "x, y = y, x # 리턴값이 2개 이상도 가능\n",
    "print(x, y)"
   ]
  },
  {
   "cell_type": "code",
   "execution_count": 110,
   "metadata": {},
   "outputs": [
    {
     "name": "stdout",
     "output_type": "stream",
     "text": [
      "[3, ['a', 'b', 'c'], 4]\n",
      "['a', 'b']\n",
      "1\n",
      "Life\n"
     ]
    }
   ],
   "source": [
    "# list 안에 list\n",
    "# 2차\n",
    "a = [1, 2, 3, ['a', 'b', 'c'], 4, 5]\n",
    "print(a[2:5])\n",
    "print(a[3][:2])\n",
    "\n",
    "# 3차\n",
    "a = [1, 2, ['a', 'b', ['Life', 'is']]]\n",
    "print(a[0])\n",
    "print(a[2][2][0])"
   ]
  },
  {
   "cell_type": "code",
   "execution_count": 113,
   "metadata": {},
   "outputs": [
    {
     "name": "stdout",
     "output_type": "stream",
     "text": [
      "60\n",
      "60\n",
      "80\n"
     ]
    }
   ],
   "source": [
    "# list를 이용한 stack\n",
    "a = [10, 20, 30, 40, 50]\n",
    "a.append(60)\n",
    "print(a.pop())\n",
    "a.append(60)\n",
    "print(a.pop())\n",
    "a.append(70)\n",
    "a.append(80)\n",
    "print(a.pop())"
   ]
  },
  {
   "cell_type": "code",
   "execution_count": 116,
   "metadata": {},
   "outputs": [
    {
     "name": "stdout",
     "output_type": "stream",
     "text": [
      "7 12\n",
      "7\n"
     ]
    },
    {
     "data": {
      "text/plain": [
       "(9, 20)"
      ]
     },
     "execution_count": 116,
     "metadata": {},
     "output_type": "execute_result"
    }
   ],
   "source": [
    "# 파이썬 함수 - 리턴값의 지정은 없음\n",
    "\n",
    "def calc(a,b): # 매개변수\n",
    "    return a + b, a*b\n",
    "x,y = calc(3,4)\n",
    "print(x,y)\n",
    "print(x)\n",
    "args=(4,5) # tuple\n",
    "calc(*args) # 포인터"
   ]
  },
  {
   "cell_type": "markdown",
   "metadata": {},
   "source": [
    "# dictionary"
   ]
  },
  {
   "cell_type": "code",
   "execution_count": 124,
   "metadata": {},
   "outputs": [
    {
     "data": {
      "text/plain": [
       "{'one': 1, 'two': 2}"
      ]
     },
     "execution_count": 124,
     "metadata": {},
     "output_type": "execute_result"
    }
   ],
   "source": [
    "d = {'one' : 1, 'two' : 2}\n",
    "d.items()\n",
    "# mongodb => NOSQL\n"
   ]
  },
  {
   "cell_type": "code",
   "execution_count": 160,
   "metadata": {},
   "outputs": [
    {
     "name": "stdout",
     "output_type": "stream",
     "text": [
      "2\n",
      "True\n",
      "1\n"
     ]
    },
    {
     "data": {
      "text/plain": [
       "['suwon', 'seoul', 'incheon']"
      ]
     },
     "execution_count": 160,
     "metadata": {},
     "output_type": "execute_result"
    }
   ],
   "source": [
    "cities = ['seoul', 'incheon', 'suwon']\n",
    "print(cities.index('suwon'))\n",
    "print('incheon' in cities) # 포함연산자\n",
    "print(cities.count('seoul'))\n",
    "sorted(cities)\n",
    "sorted(cities, reverse = True)"
   ]
  },
  {
   "cell_type": "code",
   "execution_count": 161,
   "metadata": {},
   "outputs": [
    {
     "name": "stdout",
     "output_type": "stream",
     "text": [
      "['seoul', 'incheon', 'suwon']\n",
      "['seoul', 'incheon', 'suwon', 'busan']\n",
      "['daegu', 'seoul', 'incheon', 'suwon', 'busan']\n",
      "결합 ['daegu', 'seoul', 'incheon', 'suwon', 'busan', 'jeju', 'kwangju']\n",
      "['daegu', 'seoul', 'incheon', 'suwon', 'busan', ['daejun', 'ulsan']]\n",
      "['daegu', 'seoul', 'incheon', 'suwon', 'busan', ['daejun', 'ulsan'], 'jeju', 'kwangju']\n"
     ]
    }
   ],
   "source": [
    "print(cities)\n",
    "cities.append('busan')\n",
    "print(cities)\n",
    "cities.insert(0,'daegu')\n",
    "print(cities)\n",
    "other_cities = ['jeju', 'kwangju']\n",
    "print('결합', cities + other_cities)\n",
    "cities.append(['daejun', 'ulsan'])\n",
    "print(cities)\n",
    "cities.extend(['jeju', 'kwangju'])\n",
    "print(cities)"
   ]
  },
  {
   "cell_type": "code",
   "execution_count": 162,
   "metadata": {},
   "outputs": [],
   "source": [
    "# del cities[5][1]\n",
    "# print(cities)"
   ]
  },
  {
   "cell_type": "code",
   "execution_count": 163,
   "metadata": {},
   "outputs": [
    {
     "name": "stdout",
     "output_type": "stream",
     "text": [
      "['daegu', 'seoul', 'incheon', 'suwon', 'busan', ['daejun'], 'jeju', 'kwangju']\n"
     ]
    }
   ],
   "source": [
    "cities[5].remove(cities[5][1])\n",
    "print(cities)"
   ]
  },
  {
   "cell_type": "code",
   "execution_count": 167,
   "metadata": {},
   "outputs": [
    {
     "name": "stdout",
     "output_type": "stream",
     "text": [
      "점수입력 :  58\n",
      "F\n"
     ]
    }
   ],
   "source": [
    "print('점수입력 : ', end = ' ')\n",
    "jumsu = int(input())\n",
    "if jumsu >= 90: print('A')\n",
    "elif jumsu >= 80: print('B')\n",
    "elif jumsu >= 70: print('C')\n",
    "elif jumsu >= 60: print('D')\n",
    "else: print('F')"
   ]
  },
  {
   "cell_type": "code",
   "execution_count": 172,
   "metadata": {
    "scrolled": true
   },
   "outputs": [
    {
     "name": "stdout",
     "output_type": "stream",
     "text": [
      "색상 입력 : BLUE\n",
      "날씨 입력 : FLASHING\n",
      "구름\n"
     ]
    }
   ],
   "source": [
    "# 다음 표 (color와 model에 따른 날씨)를  if문을 이용하여 출력\n",
    "# (반응에 따른 날씨 예측 프로글램)\n",
    "#             BLUE \n",
    "col = input('색상 입력 : ')\n",
    "mod = input('날씨 입력 : ')\n",
    "args = (col, mod)\n",
    "\n",
    "\n",
    "def model(col, mod):\n",
    "    if col == 'BLUE' and mod =='STEADY':\n",
    "        print('화창')\n",
    "    elif col == 'BLUE' and mod =='FLASHING':\n",
    "        print('구름')\n",
    "    elif col == 'RED'and mod == 'STEADY':\n",
    "        print('비오는날')\n",
    "    else:\n",
    "        print('눈오는날')\n",
    "\n",
    "model(*args)"
   ]
  },
  {
   "cell_type": "code",
   "execution_count": 1,
   "metadata": {},
   "outputs": [
    {
     "name": "stdout",
     "output_type": "stream",
     "text": [
      "색상 입력(BLUE or RED) : red\n",
      "날씨 입력(STEADY or FLASHING) : steady\n",
      "비오는날\n"
     ]
    }
   ],
   "source": [
    "# 수정\n",
    "col = input('색상 입력(BLUE or RED) : ')\n",
    "mod = input('날씨 입력(STEADY or FLASHING) : ')\n",
    "\n",
    "col = col.upper()\n",
    "mod = mod.upper()\n",
    "\n",
    "args = (col, mod)\n",
    "\n",
    "\n",
    "def model(col, mod):\n",
    "    if col == 'BLUE' and mod =='STEADY':\n",
    "        print('화창')\n",
    "    elif col == 'BLUE' and mod =='FLASHING':\n",
    "        print('구름')\n",
    "    elif col == 'RED'and mod == 'STEADY':\n",
    "        print('비오는날')\n",
    "    else:\n",
    "        print('눈오는날')\n",
    "\n",
    "model(*args)"
   ]
  },
  {
   "cell_type": "code",
   "execution_count": 173,
   "metadata": {},
   "outputs": [
    {
     "name": "stdout",
     "output_type": "stream",
     "text": [
      "색입력(BLUE or RED) : BLUE\n",
      "mode 입력 (STEADY or FLASHING) : STEADY\n",
      "예측된 날씨는  구름낀 날\n"
     ]
    }
   ],
   "source": [
    "color = input('색입력(BLUE or RED) : ')\n",
    "mode = input('mode 입력 (STEADY or FLASHING) : ')\n",
    "color = color.upper()\n",
    "mode = color.upper()\n",
    "result = ''\n",
    "\n",
    "if color == 'BLUE':\n",
    "    if mode == 'STEADY':\n",
    "        result = '화창한날'\n",
    "    else:\n",
    "        result = '구름낀 날'\n",
    "else:\n",
    "    if mode == 'STEADY':\n",
    "        result = '비오는 날'\n",
    "    else:\n",
    "        result = '눈오는 날'\n",
    "        \n",
    "print('예측된 날씨는 ', result)"
   ]
  },
  {
   "cell_type": "code",
   "execution_count": 177,
   "metadata": {},
   "outputs": [
    {
     "name": "stdout",
     "output_type": "stream",
     "text": [
      "수입을 입력하세요 : 15000\n",
      "지출을 입력하세요 : 12000\n",
      "순수익 : 15000.0 순손실도 : 12000.0\n"
     ]
    }
   ],
   "source": [
    "# 수입과 지출을 입력받아 순수입을 출력\n",
    "# 제약 소수점 이하 2자리 \n",
    "# 수입과 지출이 동일한 경우를 고려(손익분기점)\n",
    "# 결과 출력시 경우에 따라 순수익 순손실도 같이 출력\n",
    "\n",
    "revenue = float(input('수입을 입력하세요 : '))\n",
    "costs = float(input('지출을 입력하세요 : '))\n",
    "\n",
    "new_cost = revenue - costs\n",
    "new_cost = round(new_cost, 2)\n",
    "\n",
    "if revenue == costs:\n",
    "    print('손익분기점')\n",
    "\n",
    "print('순수익 : {} 순손실도 : {}'.format(revenue, costs))"
   ]
  },
  {
   "cell_type": "code",
   "execution_count": 1,
   "metadata": {},
   "outputs": [
    {
     "name": "stdout",
     "output_type": "stream",
     "text": [
      "총비용을 입력하세요 : 15000\n",
      "총수익을 입력하시요 : 12000\n",
      "순손실 = 3,000.00.\n"
     ]
    }
   ],
   "source": [
    "costs = eval(input('총비용을 입력하세요 : '))\n",
    "revenue = eval(input('총수익을 입력하시요 : '))\n",
    "\n",
    "if costs == revenue:\n",
    "    reault = '손익분기점 입니다.'\n",
    "else:\n",
    "    if costs < revenue:\n",
    "        profit = revenue - costs\n",
    "        result = '순수익 = {0:,.2f}.'.format(round(profit,2))\n",
    "    else:\n",
    "        loss = costs - revenue\n",
    "        result = '순손실 = {0:,.2f}.'.format(round(loss,2))\n",
    "        \n",
    "print(result)"
   ]
  },
  {
   "cell_type": "code",
   "execution_count": null,
   "metadata": {},
   "outputs": [],
   "source": []
  }
 ],
 "metadata": {
  "kernelspec": {
   "display_name": "Python 3",
   "language": "python",
   "name": "python3"
  },
  "language_info": {
   "codemirror_mode": {
    "name": "ipython",
    "version": 3
   },
   "file_extension": ".py",
   "mimetype": "text/x-python",
   "name": "python",
   "nbconvert_exporter": "python",
   "pygments_lexer": "ipython3",
   "version": "3.7.4"
  }
 },
 "nbformat": 4,
 "nbformat_minor": 2
}
