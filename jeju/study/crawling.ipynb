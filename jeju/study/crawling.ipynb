{
 "cells": [
  {
   "cell_type": "code",
   "execution_count": 143,
   "metadata": {},
   "outputs": [
    {
     "name": "stdout",
     "output_type": "stream",
     "text": [
      "rimg2/pta91.jpg\n",
      "이미지 url :  http://10000img.com/rimg2/pta91.jpg\n",
      "rimg2/pta91.jpg\n",
      "이미지 url :  http://10000img.com/rimg2/pta91.jpg\n",
      "크롤링 종료\n"
     ]
    }
   ],
   "source": [
    "from bs4 import BeautifulSoup\n",
    "import requests\n",
    "from requests import get\n",
    "import os\n",
    "from PIL import Image\n",
    "\n",
    "r = requests.get(url)\n",
    "soup = BeautifulSoup(r.text, 'lxml')\n",
    "\n",
    "with open('image/'+filename, 'wb') as f:\n",
    "    f.write(image)\n",
    "\n",
    "def get(max_count=1):\n",
    "    base_url = 'http://10000img.com/'\n",
    "    url = 'http://10000img.com/ran.php'\n",
    "    \n",
    "    count = 1\n",
    "    \n",
    "    while count <= max_count:\n",
    "        img = soup.select('img')[0]['src']\n",
    "        img\n",
    "        img_url = base_url + img\n",
    "        image = requests.get(img_url).content\n",
    "        \n",
    "        \n",
    "        filename = os.path.basename(img_url)\n",
    "        \n",
    "        with open('image/'+filename, 'wb') as f:\n",
    "            f.write(image)\n",
    "        \n",
    "        print(img)\n",
    "        print('이미지 url : ',img_url)\n",
    "        count += 1\n",
    "    else : \n",
    "        print('크롤링 종료')\n",
    "        \n",
    "get(2)"
   ]
  },
  {
   "cell_type": "code",
   "execution_count": null,
   "metadata": {},
   "outputs": [],
   "source": []
  },
  {
   "cell_type": "code",
   "execution_count": 201,
   "metadata": {},
   "outputs": [
    {
     "name": "stdout",
     "output_type": "stream",
     "text": [
      "\n",
      "Item no.: 1 --> Item name = \\uc720\\ub9ac\\ubcd1\n",
      "Evaluating...\n",
      "Starting Download...\n",
      "Image URL: http://m.newmarket.co.kr/data/goods/1/2017/01/23482_tmp_9cb69a45522f3be35b4c0d4662f050157569view.jpg\n",
      "Completed Image ====> 1.23482_tmp_9cb69a45522f3be35b4c0d4662f050157569view.jpg\n",
      "Image URL: https://www.ikea.com/kr/ko/images/products/ikea-yulibyeong-magae__0711284_PE728122_S4.JPG\n",
      "Completed Image ====> 2.ikea-yulibyeong-magae__0711284_PE728122_S4.JPG\n",
      "Image URL: http://m.newmarket.co.kr/data/goods/201509/24141236view.jpg\n",
      "Completed Image ====> 3.24141236view.jpg\n",
      "Image URL: https://shop.r10s.jp/sekimori/cabinet/cork/v48x72.jpg\n",
      "Completed Image ====> 4.v48x72.jpg\n",
      "Image URL: http://bottlemall.co.kr/web/product/big/201906/af3e001442823c01dea1081e5419d409.jpg\n",
      "Completed Image ====> 5.af3e001442823c01dea1081e5419d409.jpg\n",
      "Image URL: http://image.auction.co.kr/itemimage/9c/4b/dd/9c4bdd7c6.jpg\n",
      "Completed Image ====> 6.9c4bdd7c6.jpg\n",
      "Image URL: http://image.auction.co.kr/itemimage/19/74/50/19745052e6.jpg\n",
      "Completed Image ====> 7.19745052e6.jpg\n",
      "Image URL: http://m.newmarket.co.kr/data/goods/1/2018/05/26049_tmp_c6e5ab297eb12bcbd81c1dbe59e291af6647view.jpg\n",
      "Completed Image ====> 8.26049_tmp_c6e5ab297eb12bcbd81c1dbe59e291af6647view.jpg\n",
      "Image URL: https://www.ikea.com/kr/ko/images/products/vardagen-baleudagen-yulibyeong-ttukkeong__0711277_PE728115_S4.JPG\n",
      "Completed Image ====> 9.vardagen-baleudagen-yulibyeong-ttukkeong__0711277_PE728115_S4.JPG\n",
      "Image URL: https://previews.123rf.com/images/wonderisland/wonderisland1202/wonderisland120200126/12387314-%ED%88%AC%EB%AA%85%ED%95%9C-%EC%9C%A0%EB%A6%AC-%EB%B3%91.jpg\n",
      "Completed Image ====> 10.12387314-%ED%88%AC%EB%AA%85%ED%95%9C-%EC%9C%A0%EB%A6%AC-%EB%B3%91.jpg\n",
      "Image URL: https://shop.r10s.jp/sekimori/cabinet/cork/m900kc.jpg\n",
      "Completed Image ====> 11.m900kc.jpg\n",
      "Image URL: http://m.bottleworld.co.kr/data/goods/1/2019/08/1118_tmp_bda01efe2e4e3d6a99fd00c1c732206a5636view.jpg\n",
      "Completed Image ====> 12.1118_tmp_bda01efe2e4e3d6a99fd00c1c732206a5636view.jpg\n",
      "Image URL: http://gdimg.gmarket.co.kr/1158305939/still/600?ver=1510192686\n",
      "Invalid or missing image format. Skipping...\n",
      "Image URL: https://imgaz1.staticbg.com/thumb/view/upload/2015/08/SKU246391_5.jpg\n",
      "Completed Image ====> 13.SKU246391_5.jpg\n",
      "Image URL: http://m.herb1.co.kr/web/product/big/herb1one_3924.jpg\n",
      "Completed Image ====> 14.herb1one_3924.jpg\n",
      "Image URL: https://sc02.alicdn.com/kf/HTB1PVd_KFXXXXXaXVXXq6xXFXXXe/50ml-1000ml-swing-top-glass-storage-jar.jpg_350x350.jpg\n",
      "Completed Image ====> 15.50ml-1000ml-swing-top-glass-storage-jar.jpg\n",
      "\n",
      "Errors: 1\n",
      "\n",
      "({'유리병': ['C:\\\\Users\\\\rlaeh\\\\workPython\\\\jeju\\\\study\\\\image\\\\유리병\\\\1.23482_tmp_9cb69a45522f3be35b4c0d4662f050157569view.jpg', 'C:\\\\Users\\\\rlaeh\\\\workPython\\\\jeju\\\\study\\\\image\\\\유리병\\\\2.ikea-yulibyeong-magae__0711284_PE728122_S4.JPG', 'C:\\\\Users\\\\rlaeh\\\\workPython\\\\jeju\\\\study\\\\image\\\\유리병\\\\3.24141236view.jpg', 'C:\\\\Users\\\\rlaeh\\\\workPython\\\\jeju\\\\study\\\\image\\\\유리병\\\\4.v48x72.jpg', 'C:\\\\Users\\\\rlaeh\\\\workPython\\\\jeju\\\\study\\\\image\\\\유리병\\\\5.af3e001442823c01dea1081e5419d409.jpg', 'C:\\\\Users\\\\rlaeh\\\\workPython\\\\jeju\\\\study\\\\image\\\\유리병\\\\6.9c4bdd7c6.jpg', 'C:\\\\Users\\\\rlaeh\\\\workPython\\\\jeju\\\\study\\\\image\\\\유리병\\\\7.19745052e6.jpg', 'C:\\\\Users\\\\rlaeh\\\\workPython\\\\jeju\\\\study\\\\image\\\\유리병\\\\8.26049_tmp_c6e5ab297eb12bcbd81c1dbe59e291af6647view.jpg', 'C:\\\\Users\\\\rlaeh\\\\workPython\\\\jeju\\\\study\\\\image\\\\유리병\\\\9.vardagen-baleudagen-yulibyeong-ttukkeong__0711277_PE728115_S4.JPG', 'C:\\\\Users\\\\rlaeh\\\\workPython\\\\jeju\\\\study\\\\image\\\\유리병\\\\10.12387314-%ED%88%AC%EB%AA%85%ED%95%9C-%EC%9C%A0%EB%A6%AC-%EB%B3%91.jpg', 'C:\\\\Users\\\\rlaeh\\\\workPython\\\\jeju\\\\study\\\\image\\\\유리병\\\\11.m900kc.jpg', 'C:\\\\Users\\\\rlaeh\\\\workPython\\\\jeju\\\\study\\\\image\\\\유리병\\\\12.1118_tmp_bda01efe2e4e3d6a99fd00c1c732206a5636view.jpg', 'C:\\\\Users\\\\rlaeh\\\\workPython\\\\jeju\\\\study\\\\image\\\\유리병\\\\13.SKU246391_5.jpg', 'C:\\\\Users\\\\rlaeh\\\\workPython\\\\jeju\\\\study\\\\image\\\\유리병\\\\14.herb1one_3924.jpg', 'C:\\\\Users\\\\rlaeh\\\\workPython\\\\jeju\\\\study\\\\image\\\\유리병\\\\15.50ml-1000ml-swing-top-glass-storage-jar.jpg']}, 1)\n"
     ]
    }
   ],
   "source": [
    "from google_images_download import google_images_download as gd\n",
    "\n",
    "import ssl\n",
    "ssl._create_default_https_context = ssl._create_unverified_context\n",
    "\n",
    "def imageCrawling(keyword, dir):\n",
    "    reaponse = gd.googleimagesdownload()\n",
    "    \n",
    "    arguments = {'keywords': keyword,\n",
    "                'limit':15,\n",
    "                'print_urls':True,\n",
    "                'no_directory':True,\n",
    "                'output_directory' : dir}\n",
    "    paths = reaponse.download(arguments)\n",
    "    print(paths)\n",
    "    \n",
    "imageCrawling('유리병','./image/유리병/')"
   ]
  },
  {
   "cell_type": "code",
   "execution_count": null,
   "metadata": {},
   "outputs": [],
   "source": []
  },
  {
   "cell_type": "code",
   "execution_count": null,
   "metadata": {},
   "outputs": [],
   "source": []
  }
 ],
 "metadata": {
  "kernelspec": {
   "display_name": "Python 3",
   "language": "python",
   "name": "python3"
  },
  "language_info": {
   "codemirror_mode": {
    "name": "ipython",
    "version": 3
   },
   "file_extension": ".py",
   "mimetype": "text/x-python",
   "name": "python",
   "nbconvert_exporter": "python",
   "pygments_lexer": "ipython3",
   "version": "3.7.4"
  }
 },
 "nbformat": 4,
 "nbformat_minor": 2
}
