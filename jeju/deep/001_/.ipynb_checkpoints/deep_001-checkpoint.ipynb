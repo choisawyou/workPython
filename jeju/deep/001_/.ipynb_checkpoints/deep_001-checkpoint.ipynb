{
 "cells": [
  {
   "cell_type": "code",
   "execution_count": 1,
   "metadata": {},
   "outputs": [
    {
     "data": {
      "text/plain": [
       "'1.14.0'"
      ]
     },
     "execution_count": 1,
     "metadata": {},
     "output_type": "execute_result"
    }
   ],
   "source": [
    "import tensorflow as tf\n",
    "tf.__version__"
   ]
  },
  {
   "cell_type": "code",
   "execution_count": 2,
   "metadata": {},
   "outputs": [
    {
     "name": "stdout",
     "output_type": "stream",
     "text": [
      "b'Hello, TensorFlow!'\n",
      "Tensor(\"Const:0\", shape=(), dtype=string)\n"
     ]
    }
   ],
   "source": [
    "# 데이터 타입\n",
    "hello = tf.constant('Hello, TensorFlow!')\n",
    "# tensorflow  constant, variables, placeholder\n",
    "sess = tf.Session()\n",
    "print(sess.run(hello)) # numpy 데이터로 변경해서 출력\n",
    "print(hello) # tensorflow의 데이터는 직접 확인이 불가"
   ]
  },
  {
   "cell_type": "code",
   "execution_count": 3,
   "metadata": {},
   "outputs": [],
   "source": [
    "# 가상환경\n",
    "# conda create -name tf_test python anaconda"
   ]
  },
  {
   "cell_type": "code",
   "execution_count": 4,
   "metadata": {},
   "outputs": [
    {
     "name": "stdout",
     "output_type": "stream",
     "text": [
      "<tf.Variable 'y:0' shape=() dtype=int32_ref>\n"
     ]
    }
   ],
   "source": [
    "# \n",
    "x = tf.constant(35, name='x') \n",
    "# 이름을 다시 주는 이유 :  모델의 그래프 구조에서 확인\n",
    "# 모델을 그대로 저장(가중치)할 때\n",
    "# 메모리 위치를 확인하기 위해\n",
    "\n",
    "y=tf.Variable(x+5, name='y') # Variable변수가 있는 경우- 반드시 초기화\n",
    "sess = tf.Session()\n",
    "print(y)\n"
   ]
  },
  {
   "cell_type": "code",
   "execution_count": 5,
   "metadata": {},
   "outputs": [
    {
     "name": "stdout",
     "output_type": "stream",
     "text": [
      "40\n"
     ]
    }
   ],
   "source": [
    "# Varilable일때\n",
    "model = tf.global_variables_initializer() # 변수 초기화 \n",
    "\n",
    "# 학습과정?\n",
    "with tf.Session() as session:\n",
    "    session.run(model)\n",
    "    print(session.run(y))"
   ]
  },
  {
   "cell_type": "code",
   "execution_count": 6,
   "metadata": {},
   "outputs": [
    {
     "name": "stdout",
     "output_type": "stream",
     "text": [
      "[5 7 9]\n"
     ]
    }
   ],
   "source": [
    "# 판다스에서 데이터 초기화 (list, dict) # 요소끼리 계산 (재열연산)\n",
    "a = tf.constant([1,2,3], name='a') # GPU 공간\n",
    "b = tf.constant([4,5,6], name='b')\n",
    "add_op = a+b\n",
    "\n",
    "with tf.Session() as session:\n",
    "    print(session.run(add_op))"
   ]
  },
  {
   "cell_type": "code",
   "execution_count": 7,
   "metadata": {},
   "outputs": [],
   "source": [
    "# 자료구조 : Graph로 수성, 순차적으로 중간에 에러나면 안됨, 골격(구조) 형성\n",
    "a = tf.placeholder(tf.int16) # 데이터 공간 확보\n",
    "b = tf.placeholder(tf.int16)\n",
    "add = tf.add(a,b)\n",
    "mul = tf.multiply(a,b)\n",
    "total = tf.multiply(add, mul)\n"
   ]
  },
  {
   "cell_type": "code",
   "execution_count": 8,
   "metadata": {},
   "outputs": [
    {
     "name": "stdout",
     "output_type": "stream",
     "text": [
      "feed 변수의 합 :  5\n",
      "feed 변수의 곱 :  6\n",
      "feed 변수의 곱 :  30\n"
     ]
    }
   ],
   "source": [
    "with tf.Session() as sess:\n",
    "    print('feed 변수의 합 : ',sess.run(add, feed_dict={a:2,b:3}))\n",
    "    print('feed 변수의 곱 : ',sess.run(mul, feed_dict={a:2,b:3}))\n",
    "    print('feed 변수의 곱 : ',sess.run(total, feed_dict={a:2,b:3}))"
   ]
  },
  {
   "cell_type": "code",
   "execution_count": 9,
   "metadata": {},
   "outputs": [],
   "source": [
    "# a = tf.constant(tf.int16, name='a') # 데이터 공간 확보\n",
    "# b = tf.constant(tf.int16, name='b')\n",
    "# add = tf.add(a,b)\n",
    "# mul = tf.multiply(a,b)\n",
    "# total = tf.multiply(add, mul)\n"
   ]
  },
  {
   "cell_type": "code",
   "execution_count": 10,
   "metadata": {},
   "outputs": [],
   "source": [
    "# a = tf.Variable(tf.int16) # 데이터 공간 확보\n",
    "# b = tf.Variable(tf.int16)\n",
    "# add = tf.add(a,b)\n",
    "# mul = tf.multiply(a,b)\n",
    "# total = tf.multiply(add, mul)\n"
   ]
  },
  {
   "cell_type": "code",
   "execution_count": 11,
   "metadata": {},
   "outputs": [
    {
     "name": "stdout",
     "output_type": "stream",
     "text": [
      "[[12.]]\n"
     ]
    }
   ],
   "source": [
    "matrix1 = tf.constant([[3.,3.]]) # 1x2\n",
    "matrix2 = tf.constant([[2.],[2.]]) # 2x1 => 1x1\n",
    "product = tf.matmul(matrix1, matrix2) # 결과가없다.\n",
    "with tf.Session() as sess: # 실행부\n",
    "    result = sess.run(product) # 호출을 해야 계산이 된다.\n",
    "    print(result)"
   ]
  },
  {
   "cell_type": "code",
   "execution_count": 12,
   "metadata": {},
   "outputs": [],
   "source": [
    "zeros = tf.zeros([2,2]) # 0\n",
    "ones = tf.ones([6]) # 1\n",
    "# 균등분포\n",
    "uniform = tf.random_uniform([3,3,3], minval=0.0, maxval=10)\n",
    "# 정규분포\n",
    "normal = tf.random_normal([3,3,3], mean=0.0, stddev = 2.0)\n",
    "# 표준편차 2배내의 것으로 초기화\n",
    "trunc = tf.truncated_normal([2,2], mean=5.0, stddev=1.0)\n",
    "\n",
    "random_var = tf.Variable(tf.truncated_normal([2,2]))"
   ]
  },
  {
   "cell_type": "code",
   "execution_count": 13,
   "metadata": {},
   "outputs": [
    {
     "name": "stdout",
     "output_type": "stream",
     "text": [
      "[[4.2086287 5.8626165]\n",
      " [4.038825  3.84758  ]]\n",
      "[[[3.3886838  9.52385    3.732016  ]\n",
      "  [7.6457205  1.6660309  6.4212837 ]\n",
      "  [7.1070623  0.04591346 0.38031816]]\n",
      "\n",
      " [[5.4801893  3.8402176  7.788967  ]\n",
      "  [3.7019527  8.202782   7.594383  ]\n",
      "  [9.563705   0.37287235 0.41908145]]\n",
      "\n",
      " [[7.721609   5.212941   2.301209  ]\n",
      "  [4.558091   5.6096363  7.4914083 ]\n",
      "  [5.344157   3.966602   6.8349037 ]]]\n",
      "변수초기화\n",
      " [[ 0.06800327 -0.91602576]\n",
      " [-0.9760695   0.5568892 ]]\n"
     ]
    }
   ],
   "source": [
    "init = tf.global_variables_initializer()\n",
    "sess =tf.Session()\n",
    "sess.run(init) # 초기화 \n",
    "\n",
    "print(sess.run(trunc))\n",
    "print(sess.run(uniform))\n",
    "print('변수초기화\\n',sess.run(random_var))"
   ]
  },
  {
   "cell_type": "code",
   "execution_count": 14,
   "metadata": {},
   "outputs": [
    {
     "name": "stdout",
     "output_type": "stream",
     "text": [
      "<class 'tensorflow.python.framework.tensor_shape.TensorShape'>\n",
      "(6, 2)\n",
      "[[0 0]\n",
      " [0 0]\n",
      " [0 0]\n",
      " [0 0]\n",
      " [0 0]\n",
      " [0 0]]\n"
     ]
    }
   ],
   "source": [
    "my_tensor = tf.constant(0, shape=[6,2])\n",
    "my_static_shape = my_tensor.get_shape()\n",
    "print(type(my_static_shape)) # class\n",
    "print(my_static_shape) # 내용은 run으로 확인, 차수는 get_shape으로 확인 가능\n",
    "print(sess.run(my_tensor))"
   ]
  },
  {
   "cell_type": "code",
   "execution_count": 15,
   "metadata": {},
   "outputs": [
    {
     "name": "stdout",
     "output_type": "stream",
     "text": [
      "(2, 6)\n"
     ]
    }
   ],
   "source": [
    "my_tensor_transposed = tf.transpose(my_tensor)\n",
    "print(my_tensor_transposed.get_shape())"
   ]
  },
  {
   "cell_type": "code",
   "execution_count": 9,
   "metadata": {},
   "outputs": [
    {
     "name": "stdout",
     "output_type": "stream",
     "text": [
      "[0. 0.]\n",
      "[0. 0.]\n",
      "(2,)\n",
      "(2,)\n"
     ]
    }
   ],
   "source": [
    "import tensorflow as tf\n",
    "tf.InteractiveSession()\n",
    "sess = tf.Session()\n",
    "tf.zeros(2)\n",
    "a = tf.zeros(2)\n",
    "print(sess.run(a))\n",
    "print(a.eval())\n",
    "print(a.shape)\n",
    "print(a.get_shape())"
   ]
  },
  {
   "cell_type": "code",
   "execution_count": 17,
   "metadata": {},
   "outputs": [
    {
     "name": "stdout",
     "output_type": "stream",
     "text": [
      "[0. 0.]\n"
     ]
    },
    {
     "name": "stderr",
     "output_type": "stream",
     "text": [
      "C:\\Users\\ICT01_02\\Anaconda3\\lib\\site-packages\\tensorflow\\python\\client\\session.py:1735: UserWarning: An interactive session is already active. This can cause out-of-memory errors in some cases. You must explicitly call `InteractiveSession.close()` to release resources held by the other session(s).\n",
      "  warnings.warn('An interactive session is already active. This can '\n"
     ]
    }
   ],
   "source": [
    "def showvalue(t):\n",
    "    sess = tf.InteractiveSession()\n",
    "    tf.global_variables_initializer().run()\n",
    "    print(t.eval())\n",
    "    sess.close()\n",
    "showvalue(a)"
   ]
  },
  {
   "cell_type": "code",
   "execution_count": 18,
   "metadata": {},
   "outputs": [
    {
     "name": "stdout",
     "output_type": "stream",
     "text": [
      "[ 3.5 10.1]\n",
      "[-8  5 17]\n"
     ]
    }
   ],
   "source": [
    "c2, c3 = tf.constant([1.2,5.6]), tf.constant([-4,-1,7])\n",
    "v2,v3 = tf.Variable([2.3,4.5]), tf.Variable([-2,3,5])\n",
    "showvalue(tf.add_n([c2,v2]))\n",
    "showvalue(tf.add_n([c3, v3,v3])) # add_n 여러개 가능"
   ]
  },
  {
   "cell_type": "code",
   "execution_count": 19,
   "metadata": {},
   "outputs": [],
   "source": [
    "# 2x+y+z=1\n",
    "# 4x+3y+4z=2\n",
    "# -4x+2y+2z=-6"
   ]
  },
  {
   "cell_type": "code",
   "execution_count": 20,
   "metadata": {},
   "outputs": [
    {
     "name": "stdout",
     "output_type": "stream",
     "text": [
      "[[ 2.  1.  1.]\n",
      " [ 4.  3.  4.]\n",
      " [-4.  2.  2.]]\n",
      "[[ 1.]\n",
      " [ 2.]\n",
      " [-6.]]\n"
     ]
    }
   ],
   "source": [
    "sess = tf.Session()\n",
    "x = tf.constant([2.0,1.0,1.,4.,3.,4.,-4.,2.,2.], shape=[3,3])\n",
    "print(sess.run(x))\n",
    "y = tf.constant([1.,2.,-6], shape=[3,1])\n",
    "print(sess.run(y))\n"
   ]
  },
  {
   "cell_type": "code",
   "execution_count": 21,
   "metadata": {},
   "outputs": [
    {
     "name": "stdout",
     "output_type": "stream",
     "text": [
      "[[ 1.0000001]\n",
      " [-2.0000002]\n",
      " [ 1.0000001]] \n",
      "\n",
      "[[ 1.0000001]\n",
      " [-2.0000002]\n",
      " [ 1.0000001]]\n"
     ]
    }
   ],
   "source": [
    "z = tf.matrix_solve(x,y)\n",
    "result = sess.run(z)\n",
    "print(result,'\\n')\n",
    "print(sess.run(z))"
   ]
  },
  {
   "cell_type": "code",
   "execution_count": 22,
   "metadata": {},
   "outputs": [
    {
     "name": "stdout",
     "output_type": "stream",
     "text": [
      "2.0 * [1.0000001] + 1.0 * [-2.0000002] + 1.0 * [1.0000001]\n"
     ]
    }
   ],
   "source": [
    "print('2.0 * {} + 1.0 * {} + 1.0 * {}'.format(result[0],result[1],result[2]))"
   ]
  },
  {
   "cell_type": "code",
   "execution_count": 23,
   "metadata": {},
   "outputs": [
    {
     "name": "stdout",
     "output_type": "stream",
     "text": [
      "[[ 1.0000001]\n",
      " [ 2.       ]\n",
      " [-6.000001 ]]\n"
     ]
    }
   ],
   "source": [
    "print(sess.run(tf.matmul(x,z)))"
   ]
  },
  {
   "cell_type": "code",
   "execution_count": 24,
   "metadata": {},
   "outputs": [
    {
     "name": "stdout",
     "output_type": "stream",
     "text": [
      "[[ 2.4999976e-01  1.1920929e-07 -1.2500003e-01]\n",
      " [ 3.0000005e+00 -1.0000002e+00  5.0000006e-01]\n",
      " [-2.5000002e+00  1.0000001e+00 -2.5000003e-01]]\n",
      "[[ 1.0000002]\n",
      " [-2.0000005]\n",
      " [ 1.0000002]]\n",
      "[[ -2.]\n",
      " [-14.]\n",
      " [-12.]]\n"
     ]
    }
   ],
   "source": [
    "x_1 = tf.matrix_inverse(x)\n",
    "z = tf.matmul(x_1, y)\n",
    "z_2 = tf.matmul(x,y)\n",
    "print(sess.run(x_1))\n",
    "print(sess.run(z))\n",
    "print(sess.run(z_2))"
   ]
  },
  {
   "cell_type": "code",
   "execution_count": 25,
   "metadata": {},
   "outputs": [
    {
     "name": "stdout",
     "output_type": "stream",
     "text": [
      "WARNING:tensorflow:From <ipython-input-25-4a0f64075ae7>:4: to_float (from tensorflow.python.ops.math_ops) is deprecated and will be removed in a future version.\n",
      "Instructions for updating:\n",
      "Use `tf.cast` instead.\n",
      "[[1. 2. 3.]\n",
      " [4. 5. 6.]] \n",
      "\n",
      "[9.508034   0.77286935] \n",
      "\n",
      "[[-0.38631773 -0.92236584]\n",
      " [-0.92236584  0.38631773]] \n",
      "\n",
      "[[-0.42866713  0.8059641 ]\n",
      " [-0.56630695  0.1123824 ]\n",
      " [-0.70394677 -0.58119917]]\n"
     ]
    }
   ],
   "source": [
    "# svd(singular value decomposition) : 특이행렬 분해\n",
    "# PCA 할 때 - 고유값분해 eigenvalue + eigenvector : 정방행렬\n",
    "a = tf.constant([1,2,3,4,5,6], shape=[2,3])\n",
    "a = tf.to_float(a)\n",
    "# 행과 열의 특징을 별도로 뽑음\n",
    "# 정방행렬\n",
    "# truncate : \n",
    "# s는 매개 열할\n",
    "s,u,v = tf.svd(a) # singula value : s(1,2), left singular value : u(2,2), right singular value : v(3,2)\n",
    "\n",
    "print(sess.run(a),'\\n')\n",
    "print(sess.run(s),'\\n')\n",
    "print(sess.run(u),'\\n')\n",
    "print(sess.run(v))"
   ]
  },
  {
   "cell_type": "code",
   "execution_count": 26,
   "metadata": {},
   "outputs": [
    {
     "name": "stdout",
     "output_type": "stream",
     "text": [
      "[[1 0 0 0]\n",
      " [0 2 0 0]\n",
      " [0 0 3 0]\n",
      " [0 0 0 4]]\n"
     ]
    }
   ],
   "source": [
    "diagonal = [1,2,3,4]\n",
    "dia = tf.diag(diagonal) # 대각행렬 - one-hot-encoding할때 많이 쓴다.\n",
    "print(sess.run(dia))"
   ]
  },
  {
   "cell_type": "code",
   "execution_count": 27,
   "metadata": {},
   "outputs": [
    {
     "name": "stdout",
     "output_type": "stream",
     "text": [
      "[1 2 3 4]\n",
      "10\n"
     ]
    }
   ],
   "source": [
    "print(sess.run(tf.diag_part(dia))) # 대각 행렬의 원소를 뽑아준다.\n",
    "print(sess.run(tf.trace(dia))) # 대각의 합"
   ]
  },
  {
   "cell_type": "code",
   "execution_count": 28,
   "metadata": {},
   "outputs": [
    {
     "name": "stdout",
     "output_type": "stream",
     "text": [
      "[[ 58  64]\n",
      " [139 154]]\n"
     ]
    }
   ],
   "source": [
    "import numpy as np\n",
    "a = tf.constant([1,2,3,4,5,6], shape=[2,3])\n",
    "b = tf.constant([7,8,9,10,11,12], shape=[3,2])\n",
    "c = tf.matmul(a,b)\n",
    "print(sess.run(c)) # 2x2"
   ]
  },
  {
   "cell_type": "code",
   "execution_count": 29,
   "metadata": {},
   "outputs": [
    {
     "name": "stdout",
     "output_type": "stream",
     "text": [
      "[[[ 1  2  3]\n",
      "  [ 4  5  6]]\n",
      "\n",
      " [[ 7  8  9]\n",
      "  [10 11 12]]] \n",
      "\n",
      "[[[13 14]\n",
      "  [15 16]\n",
      "  [17 18]]\n",
      "\n",
      " [[19 20]\n",
      "  [21 22]\n",
      "  [23 24]]] \n",
      "\n"
     ]
    },
    {
     "data": {
      "text/plain": [
       "array([[[ 94, 100],\n",
       "        [229, 244]],\n",
       "\n",
       "       [[508, 532],\n",
       "        [697, 730]]])"
      ]
     },
     "execution_count": 29,
     "metadata": {},
     "output_type": "execute_result"
    }
   ],
   "source": [
    "# 행열 : 행과 열을 확인하고 앞의 것은 개수 어떻게 층을 이루고 있는가\n",
    "a = tf.constant(np.arange(1,13, dtype=np.int32), shape=[2,2,3]) # 행렬을 중심하고 데이터 표현, 면, 행,열\n",
    "print(sess.run(a),'\\n')\n",
    "b = tf.constant(np.arange(13,25,dtype=np.int32), shape=[2,3,2])\n",
    "print(sess.run(b),'\\n')\n",
    "c = tf.matmul(a,b)\n",
    "\n",
    "sess.run(c)"
   ]
  },
  {
   "cell_type": "code",
   "execution_count": 30,
   "metadata": {},
   "outputs": [
    {
     "name": "stdout",
     "output_type": "stream",
     "text": [
      "[[[[ 1  2  3]\n",
      "   [ 4  5  6]]\n",
      "\n",
      "  [[ 7  8  9]\n",
      "   [10 11 12]]]\n",
      "\n",
      "\n",
      " [[[13 14 15]\n",
      "   [16 17 18]]\n",
      "\n",
      "  [[19 20 21]\n",
      "   [22 23 24]]]] \n",
      "\n",
      "[[[[25 26]\n",
      "   [27 28]\n",
      "   [29 30]]\n",
      "\n",
      "  [[31 32]\n",
      "   [33 34]\n",
      "   [35 36]]]\n",
      "\n",
      "\n",
      " [[[37 38]\n",
      "   [39 40]\n",
      "   [41 42]]\n",
      "\n",
      "  [[43 44]\n",
      "   [45 46]\n",
      "   [47 48]]]] \n",
      "\n"
     ]
    },
    {
     "data": {
      "text/plain": [
       "array([[[[ 166,  172],\n",
       "         [ 409,  424]],\n",
       "\n",
       "        [[ 796,  820],\n",
       "         [1093, 1126]]],\n",
       "\n",
       "\n",
       "       [[[1642, 1684],\n",
       "         [1993, 2044]],\n",
       "\n",
       "        [[2704, 2764],\n",
       "         [3109, 3178]]]])"
      ]
     },
     "execution_count": 30,
     "metadata": {},
     "output_type": "execute_result"
    }
   ],
   "source": [
    "a = tf.constant(np.arange(1,25, dtype=np.int32), shape=[2,2,2,3]) # 행렬을 중심하고 데이터 표현, 차원?, 행,열\n",
    "print(sess.run(a),'\\n')\n",
    "b = tf.constant(np.arange(25,49,dtype=np.int32), shape=[2,2,3,2])\n",
    "print(sess.run(b),'\\n')\n",
    "c = tf.matmul(a,b)\n",
    "\n",
    "sess.run(c)\n",
    "# 22 = >4개 "
   ]
  },
  {
   "cell_type": "code",
   "execution_count": 31,
   "metadata": {},
   "outputs": [
    {
     "name": "stdout",
     "output_type": "stream",
     "text": [
      "[[[[  14   32]\n",
      "   [  32   77]]\n",
      "\n",
      "  [[ 194  266]\n",
      "   [ 266  365]]]\n",
      "\n",
      "\n",
      " [[[ 590  716]\n",
      "   [ 716  869]]\n",
      "\n",
      "  [[1202 1382]\n",
      "   [1382 1589]]]]\n",
      "[[[[  14   32]\n",
      "   [  32   77]]\n",
      "\n",
      "  [[ 194  266]\n",
      "   [ 266  365]]]\n",
      "\n",
      "\n",
      " [[[ 590  716]\n",
      "   [ 716  869]]\n",
      "\n",
      "  [[1202 1382]\n",
      "   [1382 1589]]]]\n"
     ]
    }
   ],
   "source": [
    "# a를 제곱한다 : 자기자신을 제곱하려면 전치\n",
    "d = tf.matmul(a, tf.transpose(a, perm=[0,1,3,2]))\n",
    "print(sess.run(d))\n",
    "d_2 = tf.matmul(a,a,transpose_b=True) # 전치해서 자기 제곱\n",
    "print(sess.run(d_2))"
   ]
  },
  {
   "cell_type": "code",
   "execution_count": 32,
   "metadata": {},
   "outputs": [
    {
     "name": "stdout",
     "output_type": "stream",
     "text": [
      "[2 2 3]\n",
      "(3, 2, 2)\n",
      "[3 2]\n",
      "[[[ 1  2  3]\n",
      "  [ 4  5  6]]\n",
      "\n",
      " [[ 7  8  9]\n",
      "  [10 11 12]]]\n",
      "[[1 2]\n",
      " [3 4]\n",
      " [5 6]]\n"
     ]
    },
    {
     "data": {
      "text/plain": [
       "array([[[ 22,  28],\n",
       "        [ 49,  64]],\n",
       "\n",
       "       [[ 76, 100],\n",
       "        [103, 136]]])"
      ]
     },
     "execution_count": 32,
     "metadata": {},
     "output_type": "execute_result"
    }
   ],
   "source": [
    "x = tf.constant(np.arange(1,13), shape=[2,2,3])\n",
    "y = tf.constant(np.arange(1,7), shape=[3,2])\n",
    "\n",
    "print(sess.run(tf.shape(x)))\n",
    "print(sess.run(tf.transpose(x)).shape)\n",
    "print(sess.run(tf.shape(y)))\n",
    "\n",
    "z = tf.matmul(x,y)\n",
    "print(sess.run(x))\n",
    "print(sess.run(y))\n",
    "sess.run(z)"
   ]
  },
  {
   "cell_type": "code",
   "execution_count": 33,
   "metadata": {},
   "outputs": [
    {
     "name": "stdout",
     "output_type": "stream",
     "text": [
      "[1 2 1 3 1 1]\n",
      "[2 3]\n"
     ]
    },
    {
     "data": {
      "text/plain": [
       "array([[[[[[1]],\n",
       "\n",
       "          [[2]],\n",
       "\n",
       "          [[3]]]],\n",
       "\n",
       "\n",
       "\n",
       "        [[[[4]],\n",
       "\n",
       "          [[5]],\n",
       "\n",
       "          [[6]]]]]])"
      ]
     },
     "execution_count": 33,
     "metadata": {},
     "output_type": "execute_result"
    }
   ],
   "source": [
    "t = [1,2,3,4,5,6]\n",
    "t = tf.reshape(t, [1,2,1,3,1,1])\n",
    "print(sess.run(tf.shape(t)))\n",
    "print(sess.run(tf.shape((tf.squeeze(t))))) # 요소 수가 하나인 것을 지운다.\n",
    "sess.run(t)"
   ]
  },
  {
   "cell_type": "code",
   "execution_count": 34,
   "metadata": {},
   "outputs": [
    {
     "data": {
      "text/plain": [
       "array([[[[1]],\n",
       "\n",
       "        [[2]],\n",
       "\n",
       "        [[3]]],\n",
       "\n",
       "\n",
       "       [[[4]],\n",
       "\n",
       "        [[5]],\n",
       "\n",
       "        [[6]]]])"
      ]
     },
     "execution_count": 34,
     "metadata": {},
     "output_type": "execute_result"
    }
   ],
   "source": [
    "t = [1,2,3,4,5,6]\n",
    "t = tf.reshape(t, [2,3,1,1])\n",
    "sess.run(t)"
   ]
  },
  {
   "cell_type": "code",
   "execution_count": 35,
   "metadata": {},
   "outputs": [
    {
     "name": "stdout",
     "output_type": "stream",
     "text": [
      "[[ 1  2  3  4  5  6]\n",
      " [ 7  8  9 10 11 12]] \n",
      "\n",
      "[[ 1  2  3  4  5  6]\n",
      " [ 7  8  9 10 11 12]] \n",
      "\n",
      "[[[ 1  2  3]\n",
      "  [ 4  5  6]]\n",
      "\n",
      " [[ 7  8  9]\n",
      "  [10 11 12]]]\n"
     ]
    }
   ],
   "source": [
    "tensor = np.arange(1,13)\n",
    "print(sess.run(tf.reshape(tensor, [2,-1])), '\\n') # -1이 있으면 게산해서 채워라\n",
    "print(sess.run(tf.reshape(tensor,[-1,6])),'\\n')\n",
    "print(sess.run(tf.reshape(tensor, [2,-1,3])))"
   ]
  },
  {
   "cell_type": "code",
   "execution_count": 36,
   "metadata": {},
   "outputs": [
    {
     "name": "stdout",
     "output_type": "stream",
     "text": [
      "Tensor(\"ExpandDims:0\", shape=(1, 2, 3, 1, 1), dtype=int32)\n"
     ]
    }
   ],
   "source": [
    "# t : 1,2,1,3,1,1\n",
    "print(tf.expand_dims(t,0)) # 차원확대"
   ]
  },
  {
   "cell_type": "code",
   "execution_count": 37,
   "metadata": {},
   "outputs": [
    {
     "name": "stdout",
     "output_type": "stream",
     "text": [
      "[[0 0 0 0 0 0 0]\n",
      " [0 0 1 2 3 0 0]\n",
      " [0 0 4 5 6 0 0]\n",
      " [0 0 0 0 0 0 0]]\n"
     ]
    }
   ],
   "source": [
    "# padding 충전재\n",
    "t = np.arange(1,7).reshape(2,3)\n",
    "paddings = [[1,1,],[2,2]] # 2x3 => 4x7\n",
    "# 행을 위에하나 아래하나 열을 왼쪽에 두개 오른쪽에 두개 채우는 값은 0으로\n",
    "print(sess.run(tf.pad(t, paddings, 'CONSTANT')))"
   ]
  },
  {
   "cell_type": "code",
   "execution_count": 38,
   "metadata": {},
   "outputs": [
    {
     "name": "stdout",
     "output_type": "stream",
     "text": [
      "[[5 4 5 6 5]\n",
      " [2 1 2 3 2]\n",
      " [5 4 5 6 5]\n",
      " [2 1 2 3 2]]\n"
     ]
    }
   ],
   "source": [
    "paddings = [[1,1,],[1,1]] # 2x3 => 4x7\n",
    "# 수를 채우는 방법 반사\n",
    "print(sess.run(tf.pad(t, paddings, 'REFLECT')))"
   ]
  },
  {
   "cell_type": "code",
   "execution_count": 39,
   "metadata": {},
   "outputs": [
    {
     "name": "stdout",
     "output_type": "stream",
     "text": [
      "[[1 1 2 3 3]\n",
      " [1 1 2 3 3]\n",
      " [4 4 5 6 6]\n",
      " [4 4 5 6 6]]\n"
     ]
    }
   ],
   "source": [
    "paddings = [[1,1,],[1,1]]\n",
    "print(sess.run(tf.pad(t, paddings, 'SYMMETRIC')))"
   ]
  },
  {
   "cell_type": "code",
   "execution_count": 40,
   "metadata": {},
   "outputs": [],
   "source": [
    "# 다차 방정식의 해\n",
    "# - 무작위 대입볍\n",
    "# - 역행렬을 구함\n",
    "# - 입출력 데이터만 : 계수결정(가중치 학습을 통해서 학습)"
   ]
  },
  {
   "cell_type": "code",
   "execution_count": 3,
   "metadata": {},
   "outputs": [
    {
     "data": {
      "text/plain": [
       "100"
      ]
     },
     "execution_count": 3,
     "metadata": {},
     "output_type": "execute_result"
    }
   ],
   "source": [
    "# 데이터 생성\n",
    "# 데이터로 부터 규칙을 찾는다. -> 분류와 예측을 하기 위해서 \n",
    "# minibatch -> feeding\n",
    "import numpy as np\n",
    "import tensorflow as tf\n",
    "\n",
    "x_data = np.random.rand(100).astype(np.float32)\n",
    "y_data = x_data * 0.1 + 0.3\n",
    "len(y_data)"
   ]
  },
  {
   "cell_type": "code",
   "execution_count": 4,
   "metadata": {},
   "outputs": [],
   "source": [
    "# 가중치와 바이어스\n",
    "# 가중치는 설명력이다.\n",
    "# bias는 activation(활성화) \n",
    "# 가중치에는 꼭 바이어스가 붙는다.\n",
    "W = tf.Variable(tf.random_uniform([1], -1.0,1.0)) # 균등분포 -1~1\n",
    "b = tf.Variable(tf.zeros([1])) # 바이어스\n",
    "sess = tf.Session()\n",
    "y = W * x_data + b"
   ]
  },
  {
   "cell_type": "code",
   "execution_count": 5,
   "metadata": {},
   "outputs": [],
   "source": [
    "# lost function : mse : 2차원인 경우 포물선을 이루고 최적점은 한개\n",
    "loss = tf.reduce_mean(tf.square(y - y_data))\n",
    "# 경사하강법\n",
    "# 기울기 : 미분을 이용, 기울기가 - 이면 가중치에 차를 더하고\n",
    "# + 뺀다.\n",
    "optimizer = tf.train.GradientDescentOptimizer(0.5) # 학습율\n",
    "train = optimizer.minimize(loss) # loss 최적화"
   ]
  },
  {
   "cell_type": "code",
   "execution_count": 6,
   "metadata": {},
   "outputs": [],
   "source": [
    "init = tf.global_variables_initializer() # sesstion 실행전에\n",
    "sess.run(init)"
   ]
  },
  {
   "cell_type": "code",
   "execution_count": 7,
   "metadata": {},
   "outputs": [
    {
     "name": "stdout",
     "output_type": "stream",
     "text": [
      "0 [-0.38340938] [0.7875695]\n",
      "20 [-0.05658584] [0.38484246]\n",
      "40 [0.05757373] [0.3229877]\n",
      "60 [0.08850478] [0.30622843]\n",
      "80 [0.09688542] [0.30168757]\n",
      "100 [0.09915613] [0.30045724]\n",
      "120 [0.09977137] [0.3001239]\n",
      "140 [0.09993805] [0.3000336]\n",
      "160 [0.09998322] [0.3000091]\n",
      "180 [0.09999546] [0.3000025]\n",
      "200 [0.09999878] [0.30000067]\n"
     ]
    }
   ],
   "source": [
    "for step in range(201):\n",
    "    sess.run(train)\n",
    "    if step % 20 == 0:\n",
    "        print(step, sess.run(W), sess.run(b)) # 0.1, 0.3으로 점점 수렴해 간다."
   ]
  },
  {
   "cell_type": "markdown",
   "metadata": {},
   "source": [
    "## 주입식 placeholder"
   ]
  },
  {
   "cell_type": "code",
   "execution_count": 46,
   "metadata": {},
   "outputs": [
    {
     "data": {
      "text/plain": [
       "100"
      ]
     },
     "execution_count": 46,
     "metadata": {},
     "output_type": "execute_result"
    }
   ],
   "source": [
    "# 데이터 생성\n",
    "# 데이터로 부터 규칙을 찾는다. -> 분류와 예측을 하기 위해서 \n",
    "# minibatch -> feeding\n",
    "x_data = np.random.rand(100).astype(np.float32)\n",
    "y_data = x_data * 0.1 + 0.3\n",
    "len(y_data)"
   ]
  },
  {
   "cell_type": "code",
   "execution_count": 47,
   "metadata": {},
   "outputs": [],
   "source": [
    "# 가중치와 바이어스\n",
    "# 가중치는 설명력이다.\n",
    "# bias는 activation(활성화) \n",
    "# 가중치에는 꼭 바이어스가 붙는다.\n",
    "x = tf.placeholder(tf.float32, name='x')\n",
    "y = tf.placeholder(tf.float32)\n",
    "\n",
    "W = tf.Variable(tf.random_uniform([1], -1.0,1.0)) # 균등분포 -1~1\n",
    "b = tf.Variable(tf.zeros([1])) # 바이어스\n",
    "sess = tf.Session()\n",
    "y_model = W * x + b"
   ]
  },
  {
   "cell_type": "code",
   "execution_count": 48,
   "metadata": {},
   "outputs": [],
   "source": [
    "# lost function : mse : 2차원인 경우 포물선을 이루고 최적점은 한개\n",
    "loss = tf.reduce_mean(tf.square(y_model - y))\n",
    "# 경사하강법\n",
    "# 기울기 : 미분을 이용, 기울기가 - 이면 가중치에 차를 더하고\n",
    "# + 뺀다.\n",
    "optimizer = tf.train.GradientDescentOptimizer(0.5) # 학습율\n",
    "train = optimizer.minimize(loss) # loss 최적화"
   ]
  },
  {
   "cell_type": "code",
   "execution_count": 49,
   "metadata": {},
   "outputs": [],
   "source": [
    "init = tf.global_variables_initializer() # sesstion 실행전에\n",
    "sess.run(init)"
   ]
  },
  {
   "cell_type": "code",
   "execution_count": 50,
   "metadata": {},
   "outputs": [
    {
     "name": "stdout",
     "output_type": "stream",
     "text": [
      "0 [0.12225741] [0.44911334]\n",
      "20 [0.08590985] [0.30866376]\n",
      "40 [0.09605941] [0.302423]\n",
      "60 [0.09889792] [0.30067766]\n",
      "80 [0.09969177] [0.30018952]\n",
      "100 [0.0999138] [0.300053]\n",
      "120 [0.0999759] [0.30001482]\n",
      "140 [0.09999327] [0.30000415]\n",
      "160 [0.09999811] [0.30000117]\n",
      "180 [0.09999949] [0.30000034]\n",
      "200 [0.09999987] [0.3000001]\n"
     ]
    }
   ],
   "source": [
    "for step in range(201):\n",
    "    sess.run(train, {x:x_data, y:y_data})\n",
    "    if step % 20 == 0:\n",
    "        print(step, sess.run(W), sess.run(b)) # 0.1, 0.3으로 점점 수렴해 간다."
   ]
  },
  {
   "cell_type": "code",
   "execution_count": 51,
   "metadata": {},
   "outputs": [],
   "source": [
    "predicted = sess.run(y_model,{x: [i for i in range(100)]})"
   ]
  },
  {
   "cell_type": "code",
   "execution_count": 52,
   "metadata": {},
   "outputs": [
    {
     "data": {
      "image/png": "[encoded data removed]",
      "text/plain": [
       "<Figure size 432x288 with 1 Axes>"
      ]
     },
     "metadata": {
      "needs_background": "light"
     },
     "output_type": "display_data"
    }
   ],
   "source": [
    "%matplotlib inline\n",
    "import matplotlib.pyplot as plt\n",
    "plt.plot(x_data, y_data, 'o', markersize=5)\n",
    "plt.plot(predicted,'r')\n",
    "plt.show()"
   ]
  },
  {
   "cell_type": "code",
   "execution_count": 8,
   "metadata": {},
   "outputs": [],
   "source": [
    "from tensorflow.python.framework import ops\n",
    "import os\n",
    "ops.reset_default_graph()"
   ]
  },
  {
   "cell_type": "code",
   "execution_count": 9,
   "metadata": {},
   "outputs": [
    {
     "name": "stdout",
     "output_type": "stream",
     "text": [
      "[1. 3. 5. 7. 9.]\n",
      "[ 3.  9. 15. 21. 27.]\n",
      "[ 5. 15. 25. 35. 45.]\n",
      "[ 7. 21. 35. 49. 63.]\n",
      "[ 9. 27. 45. 63. 81.]\n"
     ]
    }
   ],
   "source": [
    "sess = tf.Session()\n",
    "x_vals = np.array([1.,3.,5.,7.,9.])\n",
    "y_vals = np.array([1.,3.,5.,7.,9.])\n",
    "x_data = tf.placeholder(tf.float32)\n",
    "y_data = tf.placeholder(tf.float32)\n",
    "m = tf.constant(3.)\n",
    "prod = tf.multiply(x_data, y_data)\n",
    "for x_val in x_vals:\n",
    "    print(sess.run(prod, feed_dict={x_data : x_val, y_data:y_vals}))"
   ]
  },
  {
   "cell_type": "code",
   "execution_count": 55,
   "metadata": {},
   "outputs": [],
   "source": [
    "merged = tf.summary.merge_all(0)\n",
    "if not os.path.exists('C://tmp/tensorboard_logs/'):\n",
    "    os.makedirs('C://tmp/tensorboard_logs/')\n",
    "    \n",
    "my_writer = tf.summary.FileWriter('C://tmp/tensorboard_logs/', sess.graph)"
   ]
  },
  {
   "cell_type": "code",
   "execution_count": null,
   "metadata": {},
   "outputs": [],
   "source": []
  },
  {
   "cell_type": "code",
   "execution_count": 60,
   "metadata": {},
   "outputs": [],
   "source": [
    "rng = np.random\n",
    "\n",
    "# 상수화할 때 : 하드코딩을 줄인다.\n",
    "learning_rate = 0.01\n",
    "training_epochs=4000\n",
    "display_step=50\n",
    "\n",
    "train_X = np.asarray([3.3,4.4,5.5,6.71,6.93,4.168,9.779,6.182,7.59,2.167,7.042,10.791,5.313,7.997,5.654,9.27,3.1])\n",
    "train_Y = np.asarray([1.7,2.76,2.09,3.19,1.694,1.573,3.366,2.596,2.53,1.221,2.827,3.465,1.65,2.904,2.42,2.94,1.3]) "
   ]
  },
  {
   "cell_type": "code",
   "execution_count": 61,
   "metadata": {},
   "outputs": [],
   "source": [
    "# data point : 관측치 \n",
    "# 변수개수\n",
    "n_samples = train_X.shape[0] # (3,4) 차수 : 행, 인덱스 접근\n",
    "X = tf.placeholder('float')\n",
    "Y = tf.placeholder('float')\n",
    "W = tf.Variable(rng.randn(), name='weight') # 설명\n",
    "b = tf.Variable(rng.randn(), name='bias') # 활성화\n",
    "\n",
    "activation = tf.add(tf.multiply(X,W),b) # y = Wx+b\n",
    "\n",
    "# (예측 - 결과)^2 / (2*n_samples) => 더 해준다.\n",
    "# minibatch size를 고려\n",
    "cost = tf.reduce_sum(tf.pow(activation - Y,2)/(2*n_samples))\n",
    "# 역전파 : optimizer 도 hyper parameter\n",
    "\n",
    "# momentum : 가던방향으로 데이터 고려\n",
    "optimizer = tf.train.GradientDescentOptimizer(learning_rate).minimize(cost) # hyper parameter\n",
    "init = tf.initialize_all_variables()"
   ]
  },
  {
   "cell_type": "code",
   "execution_count": 62,
   "metadata": {},
   "outputs": [
    {
     "name": "stdout",
     "output_type": "stream",
     "text": [
      "Epoch: 0001 cost= 0.430210590 W= 0.27036405 b= -0.15729116\n",
      "Epoch: 0051 cost= 0.125546604 W= 0.3728847 b= -0.08548117\n",
      "Epoch: 0101 cost= 0.119932339 W= 0.3655521 b= -0.03273015\n",
      "Epoch: 0151 cost= 0.114966683 W= 0.35865542 b= 0.016883448\n",
      "Epoch: 0201 cost= 0.110574722 W= 0.35216895 b= 0.06354637\n",
      "Epoch: 0251 cost= 0.106690146 W= 0.3460683 b= 0.10743409\n",
      "Epoch: 0301 cost= 0.103254430 W= 0.34033045 b= 0.14871144\n",
      "Epoch: 0351 cost= 0.100215703 W= 0.33493397 b= 0.1875339\n",
      "Epoch: 0401 cost= 0.097528137 W= 0.3298584 b= 0.2240473\n",
      "Epoch: 0451 cost= 0.095151164 W= 0.32508457 b= 0.25838935\n",
      "Epoch: 0501 cost= 0.093048915 W= 0.3205948 b= 0.29068884\n",
      "Epoch: 0551 cost= 0.091189660 W= 0.31637198 b= 0.32106754\n",
      "Epoch: 0601 cost= 0.089545399 W= 0.31240046 b= 0.34963852\n",
      "Epoch: 0651 cost= 0.088091195 W= 0.30866498 b= 0.37651098\n",
      "Epoch: 0701 cost= 0.086805128 W= 0.30515164 b= 0.40178537\n",
      "Epoch: 0751 cost= 0.085667819 W= 0.30184746 b= 0.42555574\n",
      "Epoch: 0801 cost= 0.084662035 W= 0.29873976 b= 0.44791242\n",
      "Epoch: 0851 cost= 0.083772562 W= 0.2958168 b= 0.46894038\n",
      "Epoch: 0901 cost= 0.082985967 W= 0.29306754 b= 0.488718\n",
      "Epoch: 0951 cost= 0.082290433 W= 0.29048195 b= 0.50731844\n",
      "Epoch: 1001 cost= 0.081675373 W= 0.28805014 b= 0.5248127\n",
      "Epoch: 1051 cost= 0.081131481 W= 0.28576288 b= 0.54126704\n",
      "Epoch: 1101 cost= 0.080650553 W= 0.28361163 b= 0.55674314\n",
      "Epoch: 1151 cost= 0.080225311 W= 0.28158844 b= 0.57129824\n",
      "Epoch: 1201 cost= 0.079849318 W= 0.27968538 b= 0.58498824\n",
      "Epoch: 1251 cost= 0.079516917 W= 0.27789554 b= 0.59786355\n",
      "Epoch: 1301 cost= 0.079222962 W= 0.27621216 b= 0.6099741\n",
      "Epoch: 1351 cost= 0.078963093 W= 0.27462903 b= 0.62136346\n",
      "Epoch: 1401 cost= 0.078733400 W= 0.2731402 b= 0.6320737\n",
      "Epoch: 1451 cost= 0.078530334 W= 0.2717399 b= 0.64214754\n",
      "Epoch: 1501 cost= 0.078350820 W= 0.2704229 b= 0.6516218\n",
      "Epoch: 1551 cost= 0.078192137 W= 0.2691843 b= 0.6605324\n",
      "Epoch: 1601 cost= 0.078051858 W= 0.26801923 b= 0.668914\n",
      "Epoch: 1651 cost= 0.077927850 W= 0.2669234 b= 0.6767972\n",
      "Epoch: 1701 cost= 0.077818252 W= 0.26589265 b= 0.68421245\n",
      "Epoch: 1751 cost= 0.077721387 W= 0.26492324 b= 0.69118637\n",
      "Epoch: 1801 cost= 0.077635802 W= 0.26401147 b= 0.6977451\n",
      "Epoch: 1851 cost= 0.077560127 W= 0.26315394 b= 0.7039145\n",
      "Epoch: 1901 cost= 0.077493280 W= 0.2623474 b= 0.70971644\n",
      "Epoch: 1951 cost= 0.077434219 W= 0.2615889 b= 0.7151733\n",
      "Epoch: 2001 cost= 0.077382036 W= 0.2608753 b= 0.72030616\n",
      "Epoch: 2051 cost= 0.077335939 W= 0.26020437 b= 0.7251334\n",
      "Epoch: 2101 cost= 0.077295206 W= 0.25957328 b= 0.7296735\n",
      "Epoch: 2151 cost= 0.077259228 W= 0.25897956 b= 0.7339444\n",
      "Epoch: 2201 cost= 0.077227473 W= 0.25842124 b= 0.7379609\n",
      "Epoch: 2251 cost= 0.077199392 W= 0.2578962 b= 0.7417384\n",
      "Epoch: 2301 cost= 0.077174611 W= 0.2574022 b= 0.7452918\n",
      "Epoch: 2351 cost= 0.077152751 W= 0.2569377 b= 0.7486332\n",
      "Epoch: 2401 cost= 0.077133432 W= 0.25650075 b= 0.751777\n",
      "Epoch: 2451 cost= 0.077116385 W= 0.25608996 b= 0.7547327\n",
      "Epoch: 2501 cost= 0.077101350 W= 0.2557033 b= 0.75751346\n",
      "Epoch: 2551 cost= 0.077088073 W= 0.2553398 b= 0.7601286\n",
      "Epoch: 2601 cost= 0.077076346 W= 0.25499797 b= 0.7625879\n",
      "Epoch: 2651 cost= 0.077066004 W= 0.25467628 b= 0.7649021\n",
      "Epoch: 2701 cost= 0.077056900 W= 0.25437385 b= 0.7670775\n",
      "Epoch: 2751 cost= 0.077048868 W= 0.25408936 b= 0.7691238\n",
      "Epoch: 2801 cost= 0.077041782 W= 0.25382185 b= 0.77104896\n",
      "Epoch: 2851 cost= 0.077035546 W= 0.2535701 b= 0.7728593\n",
      "Epoch: 2901 cost= 0.077030018 W= 0.25333354 b= 0.7745615\n",
      "Epoch: 2951 cost= 0.077025175 W= 0.253111 b= 0.77616304\n",
      "Epoch: 3001 cost= 0.077020913 W= 0.2529015 b= 0.77766997\n",
      "Epoch: 3051 cost= 0.077017158 W= 0.25270456 b= 0.7790866\n",
      "Epoch: 3101 cost= 0.077013850 W= 0.25251946 b= 0.78041786\n",
      "Epoch: 3151 cost= 0.077010937 W= 0.25234523 b= 0.78167146\n",
      "Epoch: 3201 cost= 0.077008389 W= 0.25218144 b= 0.7828496\n",
      "Epoch: 3251 cost= 0.077006124 W= 0.25202712 b= 0.7839596\n",
      "Epoch: 3301 cost= 0.077004150 W= 0.2518822 b= 0.7850025\n",
      "Epoch: 3351 cost= 0.077002399 W= 0.25174594 b= 0.7859824\n",
      "Epoch: 3401 cost= 0.077000879 W= 0.2516182 b= 0.7869013\n",
      "Epoch: 3451 cost= 0.076999545 W= 0.2514981 b= 0.7877656\n",
      "Epoch: 3501 cost= 0.076998398 W= 0.25138494 b= 0.78857946\n",
      "Epoch: 3551 cost= 0.076997347 W= 0.2512787 b= 0.78934413\n",
      "Epoch: 3601 cost= 0.076996453 W= 0.25117853 b= 0.79006475\n",
      "Epoch: 3651 cost= 0.076995663 W= 0.25108436 b= 0.790742\n",
      "Epoch: 3701 cost= 0.076994985 W= 0.25099567 b= 0.79137987\n",
      "Epoch: 3751 cost= 0.076994367 W= 0.2509124 b= 0.79197884\n",
      "Epoch: 3801 cost= 0.076993845 W= 0.2508341 b= 0.79254204\n",
      "Epoch: 3851 cost= 0.076993406 W= 0.25076082 b= 0.7930693\n",
      "Epoch: 3901 cost= 0.076993011 W= 0.25069174 b= 0.7935661\n",
      "Epoch: 3951 cost= 0.076992653 W= 0.25062647 b= 0.79403585\n",
      "최적화 종료\n",
      "cost= 0.07699234 W= 0.25056648 b= 0.7944675\n"
     ]
    },
    {
     "data": {
      "image/png": "[encoded data removed]",
      "text/plain": [
       "<Figure size 432x288 with 1 Axes>"
      ]
     },
     "metadata": {
      "needs_background": "light"
     },
     "output_type": "display_data"
    }
   ],
   "source": [
    "# Graph 정의 : node(연산) + edge(데이터 전달 : tensor(배열+행렬))\n",
    "# 전제조건 : GPU가 존재 => 네트워크로 연결(CPU,GPU)\n",
    "with tf.Session() as sess: # 실행부\n",
    "    sess.run(init)\n",
    "    for epoch in range(training_epochs): # 반복(세대)\n",
    "        for(x,y) in zip(train_X, train_Y): # 데이터를 1개씩 feeding\n",
    "            sess.run(optimizer, feed_dict={X: x, Y: y})\n",
    "        # accuracy : 증가해야함\n",
    "        if epoch % display_step ==0: # 비용함수 : 감소해야한다(우하향).\n",
    "            print(\"Epoch:\", '%04d' % (epoch+1),'cost=', '{:.9f}'.format(sess.run(cost,feed_dict={\n",
    "                X:train_X, Y:train_Y})),\"W=\", sess.run(W), 'b=', sess.run(b)) # 수렵값\n",
    "    print(\"최적화 종료\")\n",
    "    print('cost=', sess.run(cost, feed_dict={X:train_X, Y: train_Y}), 'W=', sess.run(W), 'b=', sess.run(b))\n",
    "    plt.plot(train_X, train_Y, 'ro', label='Original data')\n",
    "    # predict 한 결과값 출력\n",
    "    plt.plot(train_X, sess.run(W) * train_X + sess.run(b),label='Fitted line')\n",
    "    plt.legend()\n",
    "    plt.show()"
   ]
  },
  {
   "cell_type": "code",
   "execution_count": 59,
   "metadata": {},
   "outputs": [],
   "source": [
    "# merged = tf.summary.merge_all(0)\n",
    "# if not os.path.exists('C://tmp/tensorboard_logs/'):\n",
    "#     os.makedirs('C://tmp/tensorboard_logs/')\n",
    "    \n",
    "# my_writer = tf.summary.FileWriter('C://tmp/tensorboard_logs/', sess.graph)"
   ]
  },
  {
   "cell_type": "code",
   "execution_count": 66,
   "metadata": {},
   "outputs": [],
   "source": [
    "W =0.24768482\n",
    "b = 0.80373293"
   ]
  },
  {
   "cell_type": "code",
   "execution_count": 67,
   "metadata": {},
   "outputs": [],
   "source": [
    "# tensor => 직접시각화하는 것이 불가능 => numpy 포멧으로 변경\n",
    "def run_variable(variable):\n",
    "    tf.global_variables_initializer()\n",
    "    with tf.Session() as sess:\n",
    "        return sess.run(variable)"
   ]
  },
  {
   "cell_type": "code",
   "execution_count": 70,
   "metadata": {},
   "outputs": [],
   "source": [
    "my_distribution = tf.random_uniform((600,400), seed=42)\n",
    "uniform = run_variable(my_distribution)"
   ]
  },
  {
   "cell_type": "code",
   "execution_count": 71,
   "metadata": {},
   "outputs": [
    {
     "data": {
      "image/png": "[encoded data removed]",
      "text/plain": [
       "<Figure size 432x288 with 1 Axes>"
      ]
     },
     "metadata": {
      "needs_background": "light"
     },
     "output_type": "display_data"
    }
   ],
   "source": [
    "plt.hist(uniform.flatten()) # 데이터 메모리에 저장 : 1차원으로 저장\n",
    "# flatten 1타원으로 데이터를 만든다. 모든데이터를 1열로 만든다.\n",
    "plt.show()"
   ]
  },
  {
   "cell_type": "code",
   "execution_count": null,
   "metadata": {},
   "outputs": [],
   "source": [
    "# activation 함수 : 활성함수 : 회귀냐 분류냐를 결정\n",
    "# - 비선형 매칭(선형대수 -> 비선형문제로 변경)\n",
    "# - 가중치를 깊게하고 활성화함수 매핑으로 XOP 문제를 해결\n",
    "# - 재실행할때 문제가 생길 수 있다. reset해줘야함"
   ]
  },
  {
   "cell_type": "code",
   "execution_count": 76,
   "metadata": {},
   "outputs": [
    {
     "name": "stdout",
     "output_type": "stream",
     "text": [
      "[-10.          -9.7979798   -9.5959596   -9.39393939  -9.19191919\n",
      "  -8.98989899  -8.78787879  -8.58585859  -8.38383838  -8.18181818\n",
      "  -7.97979798  -7.77777778  -7.57575758  -7.37373737  -7.17171717\n",
      "  -6.96969697  -6.76767677  -6.56565657  -6.36363636  -6.16161616\n",
      "  -5.95959596  -5.75757576  -5.55555556  -5.35353535  -5.15151515\n",
      "  -4.94949495  -4.74747475  -4.54545455  -4.34343434  -4.14141414\n",
      "  -3.93939394  -3.73737374  -3.53535354  -3.33333333  -3.13131313\n",
      "  -2.92929293  -2.72727273  -2.52525253  -2.32323232  -2.12121212\n",
      "  -1.91919192  -1.71717172  -1.51515152  -1.31313131  -1.11111111\n",
      "  -0.90909091  -0.70707071  -0.50505051  -0.3030303   -0.1010101\n",
      "   0.1010101    0.3030303    0.50505051   0.70707071   0.90909091\n",
      "   1.11111111   1.31313131   1.51515152   1.71717172   1.91919192\n",
      "   2.12121212   2.32323232   2.52525253   2.72727273   2.92929293\n",
      "   3.13131313   3.33333333   3.53535354   3.73737374   3.93939394\n",
      "   4.14141414   4.34343434   4.54545455   4.74747475   4.94949495\n",
      "   5.15151515   5.35353535   5.55555556   5.75757576   5.95959596\n",
      "   6.16161616   6.36363636   6.56565657   6.76767677   6.96969697\n",
      "   7.17171717   7.37373737   7.57575758   7.77777778   7.97979798\n",
      "   8.18181818   8.38383838   8.58585859   8.78787879   8.98989899\n",
      "   9.19191919   9.39393939   9.5959596    9.7979798   10.        ]\n"
     ]
    }
   ],
   "source": [
    "import tensorflow as tf\n",
    "import numpy as np\n",
    "import matplotlib.pyplot as plt\n",
    "from tensorflow.python.framework import ops\n",
    "ops.reset_default_graph()\n",
    "sess = tf.Session()\n",
    "\n",
    "x_vals = np.linspace(start=-10., stop=10., num=100)\n",
    "print(x_vals)"
   ]
  },
  {
   "cell_type": "code",
   "execution_count": 77,
   "metadata": {},
   "outputs": [
    {
     "name": "stdout",
     "output_type": "stream",
     "text": [
      "[-0.  3. 10.]\n",
      "[0.26894143 0.5        0.7310586 ]\n",
      "[-0.7615942  0.         0.7615942]\n",
      "[-0.63212055  0.          1.        ]\n",
      "[-0.9999546  -0.99994444 -0.999932   -0.99991677 -0.99989814 -0.99987534\n",
      " -0.99984743 -0.99981327 -0.99977147 -0.99972031 -0.99965769 -0.99958106\n",
      " -0.99948727 -0.99937248 -0.999232   -0.99906006 -0.99884964 -0.9985921\n",
      " -0.99827691 -0.99789116 -0.99741905 -0.99684124 -0.99613408 -0.99526861\n",
      " -0.99420938 -0.99291301 -0.99132643 -0.98938465 -0.98700817 -0.98409965\n",
      " -0.98053999 -0.97618343 -0.97085155 -0.96432601 -0.95633957 -0.94656519\n",
      " -0.9346026  -0.9199619  -0.90204355 -0.88011378 -0.85327452 -0.82042669\n",
      " -0.78022512 -0.73102351 -0.67080701 -0.59710968 -0.50691352 -0.3965249\n",
      " -0.26142329 -0.0960761   0.1010101   0.3030303   0.50505051  0.70707071\n",
      "  0.90909091  1.11111111  1.31313131  1.51515152  1.71717172  1.91919192\n",
      "  2.12121212  2.32323232  2.52525253  2.72727273  2.92929293  3.13131313\n",
      "  3.33333333  3.53535354  3.73737374  3.93939394  4.14141414  4.34343434\n",
      "  4.54545455  4.74747475  4.94949495  5.15151515  5.35353535  5.55555556\n",
      "  5.75757576  5.95959596  6.16161616  6.36363636  6.56565657  6.76767677\n",
      "  6.96969697  7.17171717  7.37373737  7.57575758  7.77777778  7.97979798\n",
      "  8.18181818  8.38383838  8.58585859  8.78787879  8.98989899  9.19191919\n",
      "  9.39393939  9.5959596   9.7979798  10.        ]\n",
      "[0.31326166 0.6931472  1.3132616 ]\n",
      "[4.53988992e-05 5.55621925e-05 6.80006294e-05 8.32234827e-05\n",
      " 1.01854002e-04 1.24654915e-04 1.52559623e-04 1.86710374e-04\n",
      " 2.28504961e-04 2.79653838e-04 3.42249995e-04 4.18854392e-04\n",
      " 5.12600439e-04 6.27321712e-04 7.67708042e-04 9.39496227e-04\n",
      " 1.14970295e-03 1.40690911e-03 1.72160671e-03 2.10662180e-03\n",
      " 2.57762963e-03 3.15378152e-03 3.85846667e-03 4.72023638e-03\n",
      " 5.77392318e-03 7.06199264e-03 8.63617122e-03 1.05593993e-02\n",
      " 1.29081631e-02 1.57752639e-02 1.92730804e-02 2.35373794e-02\n",
      " 2.87317129e-02 3.50524161e-02 4.27341757e-02 5.20560700e-02\n",
      " 6.33478781e-02 7.69963170e-02 9.34506760e-02 1.13227094e-01\n",
      " 1.36910472e-01 1.65152775e-01 1.98666320e-01 2.38210660e-01\n",
      " 2.84571982e-01 3.38534624e-01 4.00845440e-01 4.72173209e-01\n",
      " 5.53066799e-01 6.43916968e-01 7.44927069e-01 8.56097102e-01\n",
      " 9.77223714e-01 1.10791615e+00 1.24762553e+00 1.39568309e+00\n",
      " 1.55134197e+00 1.71381783e+00 1.88232449e+00 2.05610239e+00\n",
      " 2.23443922e+00 2.41668300e+00 2.60224884e+00 2.79062061e+00\n",
      " 2.98134900e+00 3.17404731e+00 3.36838575e+00 3.56408525e+00\n",
      " 3.76091112e+00 3.95866702e+00 4.15718941e+00 4.35634251e+00\n",
      " 4.55601394e+00 4.75611092e+00 4.95655694e+00 5.15728907e+00\n",
      " 5.35825559e+00 5.55941402e+00 5.76072954e+00 5.96217359e+00\n",
      " 6.16372278e+00 6.36535797e+00 6.56706347e+00 6.76882647e+00\n",
      " 6.97063647e+00 7.17248488e+00 7.37436470e+00 7.57627018e+00\n",
      " 7.77819663e+00 7.98014023e+00 8.18209784e+00 8.38406689e+00\n",
      " 8.58604530e+00 8.78803135e+00 8.99002364e+00 9.19202105e+00\n",
      " 9.39402262e+00 9.59602760e+00 9.79803536e+00 1.00000454e+01]\n"
     ]
    },
    {
     "data": {
      "image/png": "[encoded data removed]",
      "text/plain": [
       "<Figure size 432x288 with 1 Axes>"
      ]
     },
     "metadata": {
      "needs_background": "light"
     },
     "output_type": "display_data"
    },
    {
     "data": {
      "image/png": "[encoded data removed]",
      "text/plain": [
       "<Figure size 432x288 with 1 Axes>"
      ]
     },
     "metadata": {
      "needs_background": "light"
     },
     "output_type": "display_data"
    }
   ],
   "source": [
    "print(sess.run(tf.nn.relu([-3., 3., 10.])))  # 값의 범위: 0에서 무한대 -> relu 가 제일많이 쓰인다. relu 는 속도도 빠르고 빨리 최적화함  ( relu 수정본 : elu, softplus )\n",
    "y_relu = sess.run(tf.nn.relu(x_vals))   # relu 의 단점 : 마이너스 값이 없다 ( 그것을 보완한 것이 elu) \n",
    "\n",
    "print(sess.run(tf.nn.sigmoid([-1., 0., 1.]))) # 값의 범위 0~1\n",
    "y_sigmoid=sess.run(tf.nn.sigmoid(x_vals))\n",
    "\n",
    "print(sess.run(tf.nn.tanh([-1., 0., 1.]))) # 값의 범위 -1~1\n",
    "y_tanh = sess.run(tf.nn.tanh(x_vals))\n",
    "\n",
    "print(sess.run(tf.nn.elu([-1., 0., 1.])))  # -1~무한대 까지 ( relu 의 수정본이다 ) \n",
    "y_elu=sess.run(tf.nn.elu(x_vals))\n",
    "print(y_elu)\n",
    "print(sess.run(tf.nn.softplus([-1., 0., 1.]))) # relu 의 각진단점을 보완한것이 softplus\n",
    "y_softplus=sess.run(tf.nn.softplus(x_vals))\n",
    "print(y_softplus)\n",
    "\n",
    "plt.plot(x_vals, y_relu, 'b:', label='ReLU', linewidth=2)\n",
    "plt.plot(x_vals,y_elu, 'k-', label='ExpLU', linewidth=0.5)\n",
    "plt.ylim([-1.5,7])\n",
    "plt.legend(loc='upper left')\n",
    "plt.show()\n",
    "\n",
    "plt.plot(x_vals, y_sigmoid,'r--', label=\"Sigmoid\", linewidth=2)\n",
    "plt.plot(x_vals, y_tanh, 'b:', label='Tanh', linewidth=2)\n",
    "plt.ylim([-2,2])\n",
    "plt.legend(loc='upper left')\n",
    "plt.show()"
   ]
  },
  {
   "cell_type": "code",
   "execution_count": 97,
   "metadata": {},
   "outputs": [],
   "source": [
    "ops.reset_default_graph() # 그래프 초기화\n",
    "sess = tf.Session()\n",
    "tf.set_random_seed(5) # 시드 초기값\n",
    "np.random.seed(42)\n",
    "batch_size = 50\n",
    "a1 = tf.Variable(tf.random_normal(shape=[1,1])) # 가중치\n",
    "b1 = tf.Variable(tf.random_normal(shape=[1,1])) # bias\n",
    "a2 = tf.Variable(tf.random_normal(shape=[1,1]))\n",
    "b2 = tf.Variable(tf.random_normal(shape=[1,1]))\n",
    "x = np.random.normal(2,0.1,500) # 500개의 데이터 \n",
    "# 사이즐르 fix하지않고 입력 데이터로 부터 계산\n",
    "# 행데이터로 생성\n",
    "x_data = tf.placeholder(shape=[None, 1], dtype=tf.float32) # None 들어오는 데이터로 결정"
   ]
  },
  {
   "cell_type": "code",
   "execution_count": 98,
   "metadata": {},
   "outputs": [
    {
     "name": "stdout",
     "output_type": "stream",
     "text": [
      "\n",
      " Sigmoid AND Relu 함수의 최적화 0.75\n"
     ]
    }
   ],
   "source": [
    "# y = ax +b\n",
    "# 0 ~ 1 사이 값으로 매핑\n",
    "sigmoid_activation = tf.sigmoid(tf.add(tf.matmul(x_data, a1), b1))\n",
    "# 0 ~ ∞ 사이 값으로 매핑\n",
    "relu_activation = tf.nn.relu(tf.add(tf.matmul(x_data, a2), b2))\n",
    "# 0.75로 수렴과정\n",
    "# MSE\n",
    "\n",
    "\n",
    "loss1 = tf.reduce_mean(tf.square(tf.subtract(sigmoid_activation, 0.75)))\n",
    "loss2 = tf.reduce_mean(tf.square(tf.subtract(relu_activation, 0.75)))\n",
    "\n",
    "init = tf.global_variables_initializer()\n",
    "sess.run(init)\n",
    "my_opt = tf.train.GradientDescentOptimizer(0.01)\n",
    "train_step_sigmoid = my_opt.minimize(loss1)\n",
    "train_step_relu = my_opt.minimize(loss2)\n",
    "\n",
    "print('\\n Sigmoid AND Relu 함수의 최적화 0.75')"
   ]
  },
  {
   "cell_type": "code",
   "execution_count": 99,
   "metadata": {},
   "outputs": [],
   "source": [
    "loss_vec_sigmoid=[] # 로스값을 저장\n",
    "loss_vec_relu = []"
   ]
  },
  {
   "cell_type": "code",
   "execution_count": 100,
   "metadata": {},
   "outputs": [
    {
     "name": "stdout",
     "output_type": "stream",
     "text": [
      "sigmoid :  0.057327792 relu : 1.967889\n",
      "sigmoid :  0.0713011 relu : 0.7558449\n",
      "sigmoid :  0.08654079 relu : 0.7499385\n",
      "sigmoid :  0.11240686 relu : 0.74999434\n",
      "sigmoid :  0.14872883 relu : 0.75050193\n",
      "sigmoid :  0.21114767 relu : 0.7505989\n",
      "sigmoid :  0.30033022 relu : 0.7501092\n",
      "sigmoid :  0.4056258 relu : 0.74962646\n",
      "sigmoid :  0.49544495 relu : 0.75022644\n",
      "sigmoid :  0.56256354 relu : 0.75059074\n"
     ]
    }
   ],
   "source": [
    "for i in range(500):\n",
    "    # 500 -> 50\n",
    "    rand_indices = np.random.choice(len(x), size=batch_size)\n",
    "    x_vals = np.transpose([x[rand_indices]]) # 모양을 맞추기 위해\n",
    "    sess.run(train_step_sigmoid, feed_dict={x_data:x_vals})\n",
    "    sess.run(train_step_relu, feed_dict={x_data:x_vals})\n",
    "    loss_vec_sigmoid.append(sess.run(loss1, feed_dict={x_data:x_vals}))\n",
    "    loss_vec_relu.append(sess.run(loss2, feed_dict={x_data:x_vals}))\n",
    "    \n",
    "    sigmoid_output = np.mean(sess.run(sigmoid_activation, feed_dict={x_data:x_vals}))\n",
    "    relu_output = np.mean(sess.run(relu_activation, feed_dict={x_data:x_vals}))\n",
    "    \n",
    "    if i % 50 ==0:\n",
    "        print('sigmoid : ',str(np.mean(sigmoid_output))+' relu : '+str(np.mean(relu_output)))\n",
    "        \n",
    "        \n",
    "# 0.75 수렴하는 과정"
   ]
  },
  {
   "cell_type": "code",
   "execution_count": 101,
   "metadata": {},
   "outputs": [
    {
     "data": {
      "image/png": "[encoded data removed]",
      "text/plain": [
       "<Figure size 432x288 with 1 Axes>"
      ]
     },
     "metadata": {
      "needs_background": "light"
     },
     "output_type": "display_data"
    }
   ],
   "source": [
    "plt.plot(loss_vec_sigmoid, 'k-', label='Sigmoid Activation')\n",
    "plt.plot(loss_vec_relu, 'r--', label='Relu Activation')\n",
    "plt.ylim([0, 1.0])\n",
    "plt.title(' loss per Generation')\n",
    "plt.xlabel('Generation')\n",
    "plt.ylabel('Loss')\n",
    "plt.legend(loc='upper right')\n",
    "plt.show() "
   ]
  },
  {
   "cell_type": "code",
   "execution_count": 102,
   "metadata": {},
   "outputs": [],
   "source": [
    "# 데이터 입력할때 미니배치를 이용하는 이유? : 속도빠르게, 지역해문제해결\n",
    "# 입력데이터의 가중치를 deep 하게 줬을떄 좋은 점 ?  정확도 올라간다, 특징소실이 줄어든다 , 비선형을 이용해서 xor 문제 해결할수있다\n",
    "# activation 함수가 하는 역할 : 선형을 비선형으로 맵핑하면서 회귀와 분류를 구분해준다 . \n",
    "# accuracy 를 이용해서 경사하강법 쓰지 못하고, cost function 을 써야하는 이유\n",
    "#     : accuracy 는 0으로 하는 경우가 많다 이때는 미분이 안되므로 cost function 을 정의하게 된다 .\n",
    "#          (회귀일때는 mse, 분류일떄는 enthropy 를 이용해서 cost function 을 정의한다 ) \n",
    "# 경사하강법이 컨트롤 하는 2가지 : learning rate, 기울기를 어떻게 할것인지 컨트롤한다 \n",
    "\n",
    "# 기본 포맷 : 그라프만들고 세션연결해서 실행하면 결과를 확인할 수 있다 .  "
   ]
  },
  {
   "cell_type": "code",
   "execution_count": null,
   "metadata": {},
   "outputs": [],
   "source": []
  },
  {
   "cell_type": "code",
   "execution_count": null,
   "metadata": {},
   "outputs": [],
   "source": []
  },
  {
   "cell_type": "code",
   "execution_count": null,
   "metadata": {},
   "outputs": [],
   "source": []
  },
  {
   "cell_type": "code",
   "execution_count": null,
   "metadata": {},
   "outputs": [],
   "source": []
  },
  {
   "cell_type": "code",
   "execution_count": null,
   "metadata": {},
   "outputs": [],
   "source": []
  },
  {
   "cell_type": "code",
   "execution_count": null,
   "metadata": {},
   "outputs": [],
   "source": []
  },
  {
   "cell_type": "code",
   "execution_count": null,
   "metadata": {},
   "outputs": [],
   "source": []
  },
  {
   "cell_type": "code",
   "execution_count": null,
   "metadata": {},
   "outputs": [],
   "source": []
  },
  {
   "cell_type": "code",
   "execution_count": null,
   "metadata": {},
   "outputs": [],
   "source": []
  },
  {
   "cell_type": "code",
   "execution_count": null,
   "metadata": {},
   "outputs": [],
   "source": []
  },
  {
   "cell_type": "code",
   "execution_count": null,
   "metadata": {},
   "outputs": [],
   "source": []
  }
 ],
 "metadata": {
  "kernelspec": {
   "display_name": "Python 3",
   "language": "python",
   "name": "python3"
  },
  "language_info": {
   "codemirror_mode": {
    "name": "ipython",
    "version": 3
   },
   "file_extension": ".py",
   "mimetype": "text/x-python",
   "name": "python",
   "nbconvert_exporter": "python",
   "pygments_lexer": "ipython3",
   "version": "3.7.4"
  }
 },
 "nbformat": 4,
 "nbformat_minor": 2
}
