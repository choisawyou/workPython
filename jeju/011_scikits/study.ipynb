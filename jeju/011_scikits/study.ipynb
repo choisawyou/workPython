{
 "cells": [
  {
   "cell_type": "markdown",
   "metadata": {},
   "source": [
    "## 핵심\n",
    "- model_select : 모델에서 필요한 데이터를 어떻게 나눌 것인지? train-test-split, kfold, groupkfold\n",
    "- feature_select : 변수선택법 RFE(model에서 주요하지 않는 변수 즉 분산이 작은 변수)\n",
    "- feature_extraction : 어떤 단어가 있냐 없냐, CountVectorizer 텍스트 마이닝, turn frequency inverse document frequency(역문서 빈도)\n",
    "\n",
    "> 모델선언(인스턴스) -> 피팅 -> 예측 -> 평가\n",
    "\n",
    "* 평가(accuracy, precision, f1_score 모두 중요하다.)"
   ]
  },
  {
   "cell_type": "code",
   "execution_count": 1,
   "metadata": {},
   "outputs": [],
   "source": [
    "%matplotlib inline\n",
    "import numpy as np\n",
    "import pandas as pd\n",
    "import matplotlib.pyplot as plt\n",
    "from scipy.optimize import curve_fit"
   ]
  },
  {
   "cell_type": "code",
   "execution_count": 5,
   "metadata": {},
   "outputs": [
    {
     "name": "stdout",
     "output_type": "stream",
     "text": [
      "[ 0.08703704 -0.81349206  1.69312169 -0.03968254] \n",
      "\n",
      "방정식 : \n",
      "          3          2\n",
      "0.08704 x - 0.8135 x + 1.693 x - 0.03968 \n",
      "\n",
      "0.6143849206349201 \n",
      "\n",
      "-0.347321428571432 \n",
      "\n",
      "22.579365079365022 \n",
      "\n",
      "0.06825396825396512 \n",
      "\n"
     ]
    }
   ],
   "source": [
    "x=np.array([0.0,1.0,2.0,3.0,4.0,5.0])\n",
    "y=np.array([0.0,0.8,0.9,0.1,-0.8,-1.0])\n",
    "\n",
    "# 방정식의 계수를 찾음, 3차원 방정식으로 변환\n",
    "z = np.polyfit(x,y,3)\n",
    "print(z,'\\n')\n",
    "\n",
    "p=np.poly1d(z)\n",
    "print('방정식 : \\n',p,'\\n')\n",
    "\n",
    "print(p(0.5),'\\n')\n",
    "print(p(3.5),'\\n')\n",
    "print(p(10),'\\n')\n",
    "print(p(3.0),'\\n')"
   ]
  },
  {
   "cell_type": "code",
   "execution_count": 17,
   "metadata": {},
   "outputs": [
    {
     "name": "stdout",
     "output_type": "stream",
     "text": [
      "86.44794300545998\n"
     ]
    }
   ],
   "source": [
    "from sklearn.datasets import make_regression\n",
    "import statsmodels.api as sm\n",
    "bias = 100\n",
    "\n",
    "X0,y,w=make_regression(n_samples=200, n_features=1, bias=bias, noise=10, coef=True,random_state=1)\n",
    "\n",
    "X=sm.add_constant(X0)\n",
    "y=y.reshape(len(y),1)\n",
    "\n",
    "# print(X)\n",
    "# print(y)\n",
    "print(w)"
   ]
  },
  {
   "cell_type": "code",
   "execution_count": 18,
   "metadata": {},
   "outputs": [
    {
     "data": {
      "text/plain": [
       "array([[99.79150869],\n",
       "       [86.96171201]])"
      ]
     },
     "execution_count": 18,
     "metadata": {},
     "output_type": "execute_result"
    }
   ],
   "source": [
    "# 행렬의 곱 연산자 => ANN(Atifitial neural network)\n",
    "w = np.linalg.inv(X.T@X)@X.T@y\n",
    "w"
   ]
  },
  {
   "cell_type": "code",
   "execution_count": 27,
   "metadata": {},
   "outputs": [
    {
     "name": "stdout",
     "output_type": "stream",
     "text": [
      "<statsmodels.regression.linear_model.OLS object at 0x0000014A11B433C8>\n",
      "                            OLS Regression Results                            \n",
      "==============================================================================\n",
      "Dep. Variable:                      y   R-squared:                       0.985\n",
      "Model:                            OLS   Adj. R-squared:                  0.985\n",
      "Method:                 Least Squares   F-statistic:                 1.278e+04\n",
      "Date:                Tue, 14 Jan 2020   Prob (F-statistic):          8.17e-182\n",
      "Time:                        01:41:36   Log-Likelihood:                -741.28\n",
      "No. Observations:                 200   AIC:                             1487.\n",
      "Df Residuals:                     198   BIC:                             1493.\n",
      "Df Model:                           1                                         \n",
      "Covariance Type:            nonrobust                                         \n",
      "==============================================================================\n",
      "                 coef    std err          t      P>|t|      [0.025      0.975]\n",
      "------------------------------------------------------------------------------\n",
      "const         99.7915      0.705    141.592      0.000      98.402     101.181\n",
      "x1            86.9617      0.769    113.058      0.000      85.445      88.479\n",
      "==============================================================================\n",
      "Omnibus:                        1.418   Durbin-Watson:                   1.690\n",
      "Prob(Omnibus):                  0.492   Jarque-Bera (JB):                1.059\n",
      "Skew:                           0.121   Prob(JB):                        0.589\n",
      "Kurtosis:                       3.262   Cond. No.                         1.16\n",
      "==============================================================================\n",
      "\n",
      "Warnings:\n",
      "[1] Standard Errors assume that the covariance matrix of the errors is correctly specified.\n"
     ]
    },
    {
     "data": {
      "text/plain": [
       "array([99.79150869, 86.96171201])"
      ]
     },
     "execution_count": 27,
     "metadata": {},
     "output_type": "execute_result"
    }
   ],
   "source": [
    "import statsmodels.api as sm\n",
    "\n",
    "model=sm.OLS(y,X) \n",
    "print(model)\n",
    "\n",
    "result=model.fit()\n",
    "print(result.summary())\n",
    "\n",
    "result.params"
   ]
  },
  {
   "cell_type": "markdown",
   "metadata": {},
   "source": [
    "# LinearRegression"
   ]
  },
  {
   "cell_type": "code",
   "execution_count": 40,
   "metadata": {},
   "outputs": [
    {
     "name": "stdout",
     "output_type": "stream",
     "text": [
      "(506, 13)\n",
      "      CRIM    ZN  INDUS  CHAS    NOX     RM   AGE     DIS  RAD    TAX  \\\n",
      "0  0.00632  18.0   2.31   0.0  0.538  6.575  65.2  4.0900  1.0  296.0   \n",
      "1  0.02731   0.0   7.07   0.0  0.469  6.421  78.9  4.9671  2.0  242.0   \n",
      "2  0.02729   0.0   7.07   0.0  0.469  7.185  61.1  4.9671  2.0  242.0   \n",
      "3  0.03237   0.0   2.18   0.0  0.458  6.998  45.8  6.0622  3.0  222.0   \n",
      "4  0.06905   0.0   2.18   0.0  0.458  7.147  54.2  6.0622  3.0  222.0   \n",
      "\n",
      "   PTRATIO       B  LSTAT  \n",
      "0     15.3  396.90   4.98  \n",
      "1     17.8  396.90   9.14  \n",
      "2     17.8  392.83   4.03  \n",
      "3     18.7  394.63   2.94  \n",
      "4     18.7  396.90   5.33  \n",
      "   MEDV\n",
      "0  24.0\n",
      "1  21.6\n",
      "2  34.7\n",
      "3  33.4\n",
      "4  36.2\n",
      "LinearRegression(copy_X=True, fit_intercept=True, n_jobs=None, normalize=False)\n",
      "[-1.08011358e-01  4.64204584e-02  2.05586264e-02  2.68673382e+00\n",
      " -1.77666112e+01  3.80986521e+00  6.92224640e-04 -1.47556685e+00\n",
      "  3.06049479e-01 -1.23345939e-02 -9.52747232e-01  9.31168327e-03\n",
      " -5.24758378e-01]\n",
      "36.459488385089855\n"
     ]
    },
    {
     "data": {
      "text/plain": [
       "array([ 6.00384338e+00,  3.42556238e+00, -4.13240328e+00, -4.79296351e+00,\n",
       "       -8.25647577e+00, -3.44371554e+00,  1.01808268e-01, -7.56401157e+00,\n",
       "       -4.97636315e+00,  2.02621071e-02,  3.99949651e+00,  2.68679568e+00,\n",
       "       -7.93478472e-01, -8.47097189e-01,  1.08348205e+00, -6.02516792e-01,\n",
       "       -2.57249021e+00, -5.88598653e-01, -4.02198894e+00,  2.06136033e-01,\n",
       "       -1.07614247e+00, -1.92896331e+00,  6.32881292e-01, -6.93714654e-01,\n",
       "        7.83383155e-02, -5.13314391e-01, -1.13602345e+00, -9.15257194e-02,\n",
       "        1.14737285e+00, -1.23571798e-01, -1.24488241e+00,  3.55923295e+00,\n",
       "       -4.38894264e+00,  1.18275814e+00,  2.06758913e-01,  4.91463526e+00,\n",
       "        2.34193708e+00,  2.10891142e+00, -1.78497388e+00,  5.57625688e-01,\n",
       "       -6.84897746e-01,  1.42056414e+00, -9.61337195e-02, -9.02072745e-02,\n",
       "        1.74149176e+00,  2.79669817e+00,  4.23200323e-01,  1.43655088e+00,\n",
       "       -5.29344623e+00, -2.19392249e+00,  1.58152535e+00,  3.47222285e+00,\n",
       "        2.65585080e+00,  6.49018091e-01, -3.53815230e+00, -4.24735053e+00,\n",
       "        1.56869782e-01,  1.50919806e+00, -1.52462013e+00,  1.48493555e+00,\n",
       "       -8.27419603e-01,  2.51110208e+00,  1.78742856e+00, -2.44591131e+00,\n",
       "       -9.62691356e+00,  6.86148358e+00,  6.13056512e+00, -8.86614358e-01,\n",
       "        2.15378565e-02, -1.15163673e-01,  1.00148859e+00,  4.26577045e-02,\n",
       "        1.75744957e+00,  6.42957120e-01,  1.40499716e+00,  2.56693020e+00,\n",
       "        2.94545403e+00,  2.55699818e+00,  6.19826623e-02,  2.12817373e+00,\n",
       "        4.05769682e-01,  3.09486086e+00,  1.23576297e+00,  2.15873482e+00,\n",
       "        8.84566738e-01,  1.19049195e+00, -3.31465769e-01,  3.69276415e+00,\n",
       "        7.07461827e+00,  2.13110623e+00,  4.51901940e+00,  5.41266734e+00,\n",
       "        6.04122762e+00,  4.08105546e+00,  6.43977365e+00,  2.24599485e-01,\n",
       "        3.32744978e+00, -2.91840482e+00, -8.68545413e+00, -9.48971987e-01,\n",
       "       -2.91977981e+00, -9.05865254e-01,  1.19013684e+00,  1.01167129e+00,\n",
       "        1.33482591e+00, -9.60059918e-01, -2.31244008e+00,  3.50490259e-01,\n",
       "        2.84829115e+00,  3.72036695e-01, -1.05034136e+00,  3.72586744e+00,\n",
       "        1.97323638e+00,  2.01548315e+00,  6.67208881e+00,  2.13025591e+00,\n",
       "        2.17724626e+00,  4.49043261e+00, -6.42163574e-02,  1.49180873e+00,\n",
       "       -8.36792895e-02,  2.17107777e+00,  5.73855585e-02, -9.33380226e-01,\n",
       "        1.76099819e+00,  1.08178446e+00, -1.08293367e+00, -1.02123316e+00,\n",
       "        9.38685924e-01, -2.44267149e-01,  8.35273989e-01, -1.89865979e-01,\n",
       "       -2.93808434e+00, -2.64192327e+00, -2.34354762e+00, -8.37222650e-01,\n",
       "       -1.52158117e+00,  2.26163954e+00,  5.14838967e-01, -1.35118525e+00,\n",
       "       -4.28580681e-01, -1.04111449e+01,  1.19495478e+00, -3.45118520e+00,\n",
       "       -3.07177638e+00, -1.76414657e+00,  2.20820580e-01, -6.08500980e+00,\n",
       "       -8.08155861e+00, -5.95486263e-01, -6.61418471e-01, -1.29898831e+00,\n",
       "        4.82282558e+00, -2.11398106e+00,  5.36600228e+00,  4.50375923e+00,\n",
       "        5.21258907e-01, -8.04017303e+00,  4.73017268e+00,  2.26752769e+00,\n",
       "        5.70827666e+00, -1.32253299e+01, -9.44234156e+00, -8.15271832e+00,\n",
       "        2.08867379e+00,  3.78892378e-01, -1.27965255e+01, -7.12512527e-01,\n",
       "        2.60273955e+00,  4.35382114e+00,  5.15514660e+00,  5.19082812e+00,\n",
       "       -1.23427810e-01,  5.47194308e+00,  3.92194340e+00,  1.32209056e+00,\n",
       "        2.41669307e+00,  4.53740979e+00,  1.53571968e+00, -4.27768432e+00,\n",
       "       -5.07559536e+00, -8.43447889e+00, -4.01212679e+00, -1.50761964e+00,\n",
       "       -3.68179992e+00, -4.83352190e+00, -1.41150277e+01,  1.42476722e+00,\n",
       "        2.61199147e+00, -3.84900507e-01, -6.23890515e+00, -2.10658593e-01,\n",
       "       -3.48081286e+00,  1.01260771e+00,  2.45871004e+00, -9.15444279e+00,\n",
       "        2.82770079e+00,  2.36920810e+00,  1.04691164e-01, -4.80654838e+00,\n",
       "       -2.25606094e+00,  5.18719501e+00, -5.22851608e+00, -6.46806876e+00,\n",
       "       -6.81050156e+00,  9.03479638e-02, -7.17152885e-01, -4.64552786e+00,\n",
       "       -9.05710080e-01, -2.99412282e+00,  6.92510964e-01, -2.23957246e+00,\n",
       "        3.38929215e-01, -2.88057446e+00, -1.25808326e+01, -4.89508521e-01,\n",
       "        3.30334775e+00, -3.44812873e-01,  3.41525464e+00,  6.68652768e+00,\n",
       "        6.48419746e+00,  2.07456656e+00,  4.64051958e+00, -3.54180104e-01,\n",
       "       -6.42897547e+00, -1.01853813e+01, -1.39424503e-02,  7.99532503e-01,\n",
       "       -1.12433476e+01, -2.65884883e-01,  1.84492269e-01,  1.58837292e+00,\n",
       "       -3.65189520e+00, -1.11367137e+01,  2.71383523e+00,  1.26705571e+00,\n",
       "        5.00010745e+00,  1.21987156e+00,  4.72717057e+00,  5.12940678e+00,\n",
       "        5.29375938e+00,  3.64262478e+00,  1.92007891e+00,  3.70208414e+00,\n",
       "       -1.27142440e+00, -5.10108739e+00, -4.28361225e+00, -6.38155722e-01,\n",
       "       -3.21168690e+00, -2.12010850e+00, -1.93664530e-01,  2.42158213e-01,\n",
       "       -4.68035993e+00, -1.28543663e+01,  2.07228316e+00,  7.95808866e-01,\n",
       "       -6.48890761e+00, -6.69760957e+00,  4.83614206e-01,  4.88988594e+00,\n",
       "        1.01211508e+00, -5.93368669e+00, -7.81071499e+00,  3.44634089e+00,\n",
       "       -6.66024531e-01,  5.44574300e+00,  5.26735926e-01, -9.16044250e+00,\n",
       "       -4.18207607e+00,  5.00817905e+00,  1.20295533e+00,  2.00340972e+00,\n",
       "        4.11169472e+00,  2.76765982e-01,  3.70639164e+00,  1.79668274e+00,\n",
       "        2.41085858e+00,  1.73993382e+00,  1.25192656e+00,  2.09807009e-01,\n",
       "       -6.60243034e+00, -1.06876814e+00, -5.66036925e+00, -5.32691661e+00,\n",
       "       -6.03109145e-01,  5.35659230e+00,  1.74154101e-03,  3.84206674e+00,\n",
       "        4.91364580e+00,  2.11395839e+00,  4.93563311e+00, -2.89650367e+00,\n",
       "        3.93339820e+00,  1.91783237e+00,  2.72982348e+00, -1.42356632e-01,\n",
       "        2.62669985e-01, -7.60712419e-01,  6.61309844e+00,  2.91054611e+00,\n",
       "        5.97159449e+00,  6.94275871e+00,  2.48191022e+00, -3.01127681e-01,\n",
       "       -2.89094544e+00,  2.36831792e+00,  2.16226857e+00,  4.50905124e+00,\n",
       "        5.84244237e+00,  3.28965827e+00,  2.44266897e+00,  4.77889843e+00,\n",
       "        3.88133979e+00,  3.94580246e+00,  1.68120057e+00,  4.33909901e+00,\n",
       "       -1.84274272e-01, -1.42418314e+00,  1.19070277e+00,  3.25290392e-01,\n",
       "        1.08682244e+00,  1.76937282e+00,  2.46952447e+00,  9.51237906e-01,\n",
       "        1.17834011e-01,  6.78691323e-02,  6.80761771e-01, -2.85910384e+00,\n",
       "        1.87418105e+00,  1.65249073e+00,  1.79260894e+00,  2.88446605e+00,\n",
       "        3.93888000e+00, -5.93930750e-02,  8.55099290e-01, -4.81270932e-01,\n",
       "        6.60971763e-01,  7.84903873e-01,  1.56672320e+00,  2.24965774e+00,\n",
       "        2.72939305e+00, -2.37211204e+00,  5.54734975e+00,  3.80647912e+00,\n",
       "       -2.65205883e+00, -9.54988786e-01, -2.41640359e+00,  2.17380082e+00,\n",
       "        3.04205117e+00, -4.45162438e+00, -2.44055905e+00, -3.55394577e+00,\n",
       "       -1.71936173e+00, -4.69746494e+00, -3.87513368e+00, -4.00511538e+00,\n",
       "        1.83704691e+00,  1.01806607e+00, -4.97811132e-01, -3.39451943e+00,\n",
       "       -2.33383895e+00, -9.68073818e-01, -2.57153196e+00,  3.43150811e+00,\n",
       "        1.55944739e+01, -1.32180927e+01, -6.35713752e+00, -1.22683768e+01,\n",
       "       -2.61992710e+01, -1.73559264e+01, -1.53931596e+01, -2.50566867e+01,\n",
       "       -2.40001909e+01, -7.67367500e+00, -1.30222019e+01,  1.03071306e+01,\n",
       "        3.84061065e+00,  6.93274414e+00,  2.73331301e+00,  6.63512587e+00,\n",
       "        3.96994825e+00,  7.57682833e+00,  2.12768280e+00,  7.61775118e-01,\n",
       "       -5.52081884e+00,  8.60221708e-01, -4.37157804e+00, -1.78135190e+00,\n",
       "       -3.74801430e+00,  2.70764735e+00,  2.11225183e+00, -5.90112735e+00,\n",
       "        1.91166432e-01,  6.42124193e+00,  5.24181175e+00,  7.20445783e+00,\n",
       "        6.79559075e+00,  7.83632779e+00,  1.55162319e+00,  4.59016778e+00,\n",
       "        6.28145871e+00,  1.06117451e+01,  6.16126587e+00,  4.67948781e+00,\n",
       "       -1.12183639e+00,  3.21115861e+00, -3.83373807e+00, -7.91705214e+00,\n",
       "       -3.49243631e+00, -7.64731546e+00,  2.23082977e-01, -2.39280190e-01,\n",
       "       -1.61814819e+01, -4.49421613e+00, -1.12813107e+01,  2.38376737e+00,\n",
       "        5.86660811e+00, -3.50437637e+00, -2.65220148e+00,  6.20661794e+00,\n",
       "        2.90002670e+00,  3.92427476e+00, -2.27822868e+00, -2.24713895e-01,\n",
       "        2.92617624e+00,  1.62374976e+00,  6.14590647e+00,  3.17519426e+00,\n",
       "        3.25756243e+00,  3.54234787e+00,  3.65955693e+00,  4.59554354e+00,\n",
       "        5.42728300e+00,  2.73141861e+00,  4.26090435e+00, -3.85838929e-02,\n",
       "        4.92079384e+00,  1.19760054e-01, -3.53248898e+00,  2.65913130e-01,\n",
       "        2.20609699e+00,  1.95580592e-01,  3.40485002e-01,  2.65901029e+00,\n",
       "        7.14746834e-01,  1.74003587e-01,  2.78344618e+00,  5.52695239e+00,\n",
       "        3.41834650e+00,  4.22742507e+00,  3.12271631e+00,  4.21291095e+00,\n",
       "        2.48215236e+00,  4.68944791e+00,  3.80001330e-01,  1.72089335e+00,\n",
       "       -1.27441868e-02, -6.23662098e-01,  2.28668531e+00, -1.48752391e+00,\n",
       "        2.64860533e+00,  2.47208927e+00,  2.74073197e-01,  2.22940768e+00,\n",
       "       -1.08088146e+00, -2.01383747e+00, -4.62521477e+00, -2.15223149e+00,\n",
       "       -2.11594238e+00, -1.51161603e+00,  2.67194411e-01,  3.37718032e+00,\n",
       "       -7.44192736e-01, -4.22175373e+00,  2.59147632e+00,  2.81146280e+00,\n",
       "        3.83481600e+00, -4.57272618e-01,  4.60496304e+00,  4.62763906e-01,\n",
       "        4.68788663e-01,  3.39887315e+00,  3.56994302e+00, -7.16012169e-01,\n",
       "       -1.14483804e+00,  1.02225914e+00,  5.55919608e-01,  7.25361044e-01,\n",
       "       -3.34416283e+00,  1.22386687e+00, -4.43600328e+00,  1.59085382e-01,\n",
       "       -4.16881455e+00, -1.17337946e+00, -3.88750586e+00, -6.21458036e+00,\n",
       "       -5.68679213e+00,  8.08541439e-01,  9.80517444e-02,  9.54988409e-01,\n",
       "        3.66870847e+00,  1.13334055e+00,  1.77571892e+00,  3.72742610e+00,\n",
       "        4.12796681e+00,  1.04442123e+01])"
      ]
     },
     "execution_count": 40,
     "metadata": {},
     "output_type": "execute_result"
    }
   ],
   "source": [
    "from sklearn.linear_model import LinearRegression\n",
    "from sklearn.datasets import load_boston\n",
    "\n",
    "boston = load_boston()\n",
    "boston\n",
    "\n",
    "dfX=pd.DataFrame(boston.data, columns=boston.feature_names)\n",
    "dfy = pd.DataFrame(boston.target, columns=['MEDV'])\n",
    "print(dfX.shape)\n",
    "print(dfX.head())\n",
    "print(dfy.head())\n",
    "\n",
    "model=LinearRegression().fit(boston.data, boston.target)\n",
    "print(model)\n",
    "\n",
    "# coefficient 계수확인\n",
    "print(model.coef_)\n",
    "print(model.intercept_)\n",
    "\n",
    "# 예측값?\n",
    "predictions=model.predict(boston.data)\n",
    "predictions\n",
    "\n",
    "# 잔차\n",
    "predictions-boston.target "
   ]
  },
  {
   "cell_type": "markdown",
   "metadata": {},
   "source": [
    "# Logeistic Regression"
   ]
  },
  {
   "cell_type": "code",
   "execution_count": 9,
   "metadata": {},
   "outputs": [
    {
     "name": "stderr",
     "output_type": "stream",
     "text": [
      "C:\\Users\\ICT01_10\\Anaconda3\\lib\\site-packages\\sklearn\\utils\\deprecation.py:85: DeprecationWarning: Function make_blobs is deprecated; Please import make_blobs directly from scikit-learn\n",
      "  warnings.warn(msg, category=DeprecationWarning)\n",
      "C:\\Users\\ICT01_10\\Anaconda3\\lib\\site-packages\\sklearn\\svm\\base.py:929: ConvergenceWarning: Liblinear failed to converge, increase the number of iterations.\n",
      "  \"the number of iterations.\", ConvergenceWarning)\n",
      "C:\\Users\\ICT01_10\\Anaconda3\\lib\\site-packages\\sklearn\\linear_model\\logistic.py:432: FutureWarning: Default solver will be changed to 'lbfgs' in 0.22. Specify a solver to silence this warning.\n",
      "  FutureWarning)\n"
     ]
    },
    {
     "data": {
      "text/plain": [
       "<matplotlib.legend.Legend at 0x20481bf6648>"
      ]
     },
     "execution_count": 9,
     "metadata": {},
     "output_type": "execute_result"
    },
    {
     "name": "stderr",
     "output_type": "stream",
     "text": [
      "C:\\Users\\ICT01_10\\Anaconda3\\lib\\site-packages\\matplotlib\\backends\\backend_agg.py:211: RuntimeWarning: Glyph 53945 missing from current font.\n",
      "  font.set_text(s, 0.0, flags=flags)\n",
      "C:\\Users\\ICT01_10\\Anaconda3\\lib\\site-packages\\matplotlib\\backends\\backend_agg.py:211: RuntimeWarning: Glyph 49457 missing from current font.\n",
      "  font.set_text(s, 0.0, flags=flags)\n",
      "C:\\Users\\ICT01_10\\Anaconda3\\lib\\site-packages\\matplotlib\\backends\\backend_agg.py:180: RuntimeWarning: Glyph 53945 missing from current font.\n",
      "  font.set_text(s, 0, flags=flags)\n",
      "C:\\Users\\ICT01_10\\Anaconda3\\lib\\site-packages\\matplotlib\\backends\\backend_agg.py:180: RuntimeWarning: Glyph 49457 missing from current font.\n",
      "  font.set_text(s, 0, flags=flags)\n"
     ]
    },
    {
     "data": {
      "image/png": "[encoded data removed]",
      "text/plain": [
       "<Figure size 720x216 with 2 Axes>"
      ]
     },
     "metadata": {},
     "output_type": "display_data"
    }
   ],
   "source": [
    "%matplotlib inline\n",
    "from sklearn.linear_model import LogisticRegression\n",
    "from sklearn.svm import LinearSVC\n",
    "import mglearn\n",
    "import matplotlib.pyplot as plt\n",
    "\n",
    "X, y=mglearn.datasets.make_forge()\n",
    "fig, axes = plt.subplots(1,2,figsize=(10,3))\n",
    "\n",
    "for model, ax in zip([LinearSVC(), LogisticRegression()], axes):\n",
    "    clf = model.fit(X,y)\n",
    "    \n",
    "    mglearn.plots.plot_2d_separator(clf, X,fill=True, eps=0.5,ax=ax,alpha=.7)\n",
    "    mglearn.discrete_scatter(X[:,0] , X[:,1], y, ax=ax)\n",
    "    ax.set_title('{}'.format(clf.__class__.__name__))\n",
    "    ax.set_xlabel('특성 0')\n",
    "    ax.set_ylabel('특성 1')\n",
    "    \n",
    "    \n",
    "axes[0].legend()"
   ]
  },
  {
   "cell_type": "code",
   "execution_count": 11,
   "metadata": {},
   "outputs": [
    {
     "name": "stdout",
     "output_type": "stream",
     "text": [
      "훈련 세트 점수 : 0.955\n",
      "테스트 세트 점수 : 0.958\n"
     ]
    },
    {
     "name": "stderr",
     "output_type": "stream",
     "text": [
      "C:\\Users\\ICT01_10\\Anaconda3\\lib\\site-packages\\sklearn\\linear_model\\logistic.py:432: FutureWarning: Default solver will be changed to 'lbfgs' in 0.22. Specify a solver to silence this warning.\n",
      "  FutureWarning)\n"
     ]
    }
   ],
   "source": [
    "from sklearn.datasets import load_breast_cancer\n",
    "from sklearn.model_selection import train_test_split\n",
    "\n",
    "cancer=load_breast_cancer()\n",
    "\n",
    "X_train, X_test, y_train, y_test=train_test_split(cancer.data, cancer.target, stratify=cancer.target, random_state=42)\n",
    "\n",
    "logreg=LogisticRegression().fit(X_train, y_train)\n",
    "\n",
    "print('훈련 세트 점수 : {:,.3f}'.format(logreg.score(X_train, y_train)))\n",
    "print('테스트 세트 점수 : {:,.3f}'.format(logreg.score(X_test, y_test)))"
   ]
  },
  {
   "cell_type": "markdown",
   "metadata": {},
   "source": [
    "# 모델선택"
   ]
  },
  {
   "cell_type": "code",
   "execution_count": 14,
   "metadata": {},
   "outputs": [
    {
     "name": "stdout",
     "output_type": "stream",
     "text": [
      "2\n",
      "TRAIN :  [0 1] TEST :  [2 3] \n",
      "\n",
      "[[1 2]\n",
      " [3 4]] [[5 6]\n",
      " [7 8]] [1 2] [3 4]\n",
      "TRAIN :  [2 3] TEST :  [0 1] \n",
      "\n",
      "[[5 6]\n",
      " [7 8]] [[1 2]\n",
      " [3 4]] [3 4] [1 2]\n"
     ]
    }
   ],
   "source": [
    "import numpy as np\n",
    "from sklearn.model_selection import GroupKFold\n",
    "\n",
    "X = np.array([[1,2],[3,4],[5,6],[7,8]]) # 4X2 변수는 2개, 독립변수\n",
    "y=np.array([1,2,3,4])# 1, 2 -> 1, 3, 4- > 2, ..... 종속변수\n",
    "groups=np.array([0,0,2,2])\n",
    "\n",
    "group_kfold=GroupKFold(n_splits=2)\n",
    "group_kfold.get_n_splits(X,y,groups)\n",
    "print(group_kfold.get_n_splits(X,y,groups))\n",
    "\n",
    "for train_index, test_index in group_kfold.split(X,y,groups):\n",
    "    print('TRAIN : ', train_index, 'TEST : ', test_index,'\\n')\n",
    "    X_train, X_test = X[train_index], X[test_index]\n",
    "    y_train, y_test = y[train_index], y[test_index]\n",
    "    print(X_train, X_test, y_train, y_test)\n",
    "    "
   ]
  },
  {
   "cell_type": "code",
   "execution_count": 22,
   "metadata": {},
   "outputs": [
    {
     "name": "stdout",
     "output_type": "stream",
     "text": [
      "(50, 10)\n",
      "(50,)\n",
      "[ True  True  True  True  True False False False False False] \n",
      "\n",
      "[1 1 1 1 1 6 4 3 2 5]\n"
     ]
    }
   ],
   "source": [
    "from sklearn.datasets import make_friedman1\n",
    "from sklearn.feature_selection import RFE\n",
    "from sklearn.svm import SVR\n",
    "\n",
    "X,y=make_friedman1(n_samples=50, n_features=10, random_state=0)\n",
    "\n",
    "print(X.shape)\n",
    "print(y.shape)\n",
    "\n",
    "estimator=SVR(kernel='linear')\n",
    "selector=RFE(estimator,5,step=1)\n",
    "\n",
    "selector=selector.fit(X,y)\n",
    "\n",
    "print(selector.support_,'\\n')\n",
    "print(selector.ranking_)"
   ]
  },
  {
   "cell_type": "code",
   "execution_count": 26,
   "metadata": {},
   "outputs": [
    {
     "data": {
      "text/plain": [
       "2"
      ]
     },
     "execution_count": 26,
     "metadata": {},
     "output_type": "execute_result"
    }
   ],
   "source": [
    "from sklearn.metrics import accuracy_score\n",
    "\n",
    "y_pred=[0,2,1,3]\n",
    "y_true=[0,1,2,3]\n",
    "\n",
    "accuracy_score(y_true, y_pred, normalize=False)"
   ]
  },
  {
   "cell_type": "code",
   "execution_count": 27,
   "metadata": {},
   "outputs": [
    {
     "data": {
      "text/plain": [
       "array([0.96666667, 0.96666667, 0.96666667, 0.93333333, 1.        ])"
      ]
     },
     "execution_count": 27,
     "metadata": {},
     "output_type": "execute_result"
    }
   ],
   "source": [
    "from sklearn import svm, datasets\n",
    "from sklearn.model_selection import cross_val_score\n",
    "\n",
    "iris = datasets.load_iris()\n",
    "X,y=iris.data, iris.target\n",
    "\n",
    "clf=svm.SVC(gamma='scale', random_state=0)\n",
    "cross_val_score(clf, X,y,scoring='recall_macro', cv=5)"
   ]
  },
  {
   "cell_type": "code",
   "execution_count": 32,
   "metadata": {
    "scrolled": true
   },
   "outputs": [
    {
     "name": "stdout",
     "output_type": "stream",
     "text": [
      "0.6666666666666666 \n",
      "\n",
      "1.0 \n",
      "\n",
      "0.5 \n",
      "\n",
      "0.6666666666666666 \n",
      "\n",
      "              precision    recall  f1-score   support\n",
      "\n",
      "           0       0.50      1.00      0.67         2\n",
      "           1       1.00      0.50      0.67         4\n",
      "\n",
      "    accuracy                           0.67         6\n",
      "   macro avg       0.75      0.75      0.67         6\n",
      "weighted avg       0.83      0.67      0.67         6\n",
      " \n",
      "\n",
      "[[2 0]\n",
      " [2 2]]\n"
     ]
    }
   ],
   "source": [
    "import sklearn.metrics as metrics\n",
    "\n",
    "y = np.array([1,1,1,1,0,0]) # 실제 값\n",
    "p = np.array([1,1,0,0,0,0]) # 예측 값\n",
    "accuracy=np.mean(np.equal(y,p))\n",
    "\n",
    "print(metrics.accuracy_score(y,p),'\\n')\n",
    "print(metrics.precision_score(y,p),'\\n')\n",
    "print(metrics.recall_score(y,p),'\\n')\n",
    "print(metrics.f1_score(y,p), '\\n')\n",
    "print(metrics.classification_report(y,p),'\\n')\n",
    "print(metrics.confusion_matrix(y,p))"
   ]
  },
  {
   "cell_type": "code",
   "execution_count": 44,
   "metadata": {},
   "outputs": [],
   "source": [
    "from sklearn.datasets import make_classification\n",
    "from sklearn.linear_model import LogisticRegression\n",
    "import sklearn.metrics as metrics\n",
    "\n",
    "X,y=make_classification(n_samples=16, n_features=2, n_informative=2, n_redundant=0, random_state=0)\n"
   ]
  },
  {
   "cell_type": "code",
   "execution_count": 45,
   "metadata": {},
   "outputs": [
    {
     "name": "stderr",
     "output_type": "stream",
     "text": [
      "C:\\Users\\ICT01_10\\Anaconda3\\lib\\site-packages\\sklearn\\linear_model\\logistic.py:432: FutureWarning: Default solver will be changed to 'lbfgs' in 0.22. Specify a solver to silence this warning.\n",
      "  FutureWarning)\n"
     ]
    },
    {
     "data": {
      "text/plain": [
       "LogisticRegression(C=1.0, class_weight=None, dual=False, fit_intercept=True,\n",
       "                   intercept_scaling=1, l1_ratio=None, max_iter=100,\n",
       "                   multi_class='warn', n_jobs=None, penalty='l2',\n",
       "                   random_state=None, solver='warn', tol=0.0001, verbose=0,\n",
       "                   warm_start=False)"
      ]
     },
     "execution_count": 45,
     "metadata": {},
     "output_type": "execute_result"
    }
   ],
   "source": [
    "# LogisticRegression을 실시\n",
    "model = LogisticRegression().fit(X,y)\n",
    "model"
   ]
  },
  {
   "cell_type": "code",
   "execution_count": 46,
   "metadata": {},
   "outputs": [],
   "source": [
    "# 훈련데이터를 예측\n",
    "y_hat = model.predict(X)"
   ]
  },
  {
   "cell_type": "code",
   "execution_count": 48,
   "metadata": {},
   "outputs": [
    {
     "name": "stdout",
     "output_type": "stream",
     "text": [
      "              precision    recall  f1-score   support\n",
      "\n",
      "           0       0.78      0.88      0.82         8\n",
      "           1       0.86      0.75      0.80         8\n",
      "\n",
      "    accuracy                           0.81        16\n",
      "   macro avg       0.82      0.81      0.81        16\n",
      "weighted avg       0.82      0.81      0.81        16\n",
      "\n"
     ]
    }
   ],
   "source": [
    "# 결과 평가(precision, recall, f1_score)\n",
    "# 정밀도(precision)\n",
    "print(metrics.classification_report(y,y_hat))"
   ]
  },
  {
   "cell_type": "code",
   "execution_count": null,
   "metadata": {},
   "outputs": [],
   "source": []
  },
  {
   "cell_type": "code",
   "execution_count": null,
   "metadata": {},
   "outputs": [],
   "source": []
  },
  {
   "cell_type": "code",
   "execution_count": null,
   "metadata": {},
   "outputs": [],
   "source": []
  },
  {
   "cell_type": "code",
   "execution_count": null,
   "metadata": {},
   "outputs": [],
   "source": []
  },
  {
   "cell_type": "code",
   "execution_count": null,
   "metadata": {},
   "outputs": [],
   "source": []
  },
  {
   "cell_type": "code",
   "execution_count": null,
   "metadata": {},
   "outputs": [],
   "source": []
  },
  {
   "cell_type": "code",
   "execution_count": null,
   "metadata": {},
   "outputs": [],
   "source": []
  },
  {
   "cell_type": "code",
   "execution_count": null,
   "metadata": {},
   "outputs": [],
   "source": []
  },
  {
   "cell_type": "code",
   "execution_count": null,
   "metadata": {},
   "outputs": [],
   "source": []
  }
 ],
 "metadata": {
  "kernelspec": {
   "display_name": "Python 3",
   "language": "python",
   "name": "python3"
  },
  "language_info": {
   "codemirror_mode": {
    "name": "ipython",
    "version": 3
   },
   "file_extension": ".py",
   "mimetype": "text/x-python",
   "name": "python",
   "nbconvert_exporter": "python",
   "pygments_lexer": "ipython3",
   "version": "3.7.4"
  }
 },
 "nbformat": 4,
 "nbformat_minor": 2
}
