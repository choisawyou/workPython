{
 "cells": [
  {
   "cell_type": "code",
   "execution_count": 7,
   "metadata": {},
   "outputs": [
    {
     "name": "stdout",
     "output_type": "stream",
     "text": [
      "None\n"
     ]
    },
    {
     "data": {
      "text/plain": [
       "<bound method Connection.close of <pymysql.connections.Connection object at 0x000001C1A2F73288>>"
      ]
     },
     "execution_count": 7,
     "metadata": {},
     "output_type": "execute_result"
    }
   ],
   "source": [
    "import pymysql\n",
    "# 네트워크 접속은 os관리\n",
    "conn = pymysql.connect(host='192.168.1.247',\n",
    "                      user='root', port=3306, password='donghyun1!',db='acornschool',\n",
    "                      charset='utf8mb4', use_unicode=True,\n",
    "                      cursorclass=pymysql.cursors.DictCursor)\n",
    "\n",
    "\n",
    "cur = conn.cursor()\n",
    "\n",
    "cur.execute(\"\"\"create table pet(\n",
    "    id int not null auto_increment,\n",
    "    name varchar(20),\n",
    "    owner varchar(20),\n",
    "    species varchar(20),\n",
    "    sex char(1),\n",
    "    birth DATE, death DATE,\n",
    "    primary key (id)) engine=innoDB auto_increment=1\"\"\")\n",
    "print(cur.description)\n",
    "conn.close"
   ]
  },
  {
   "cell_type": "code",
   "execution_count": 12,
   "metadata": {},
   "outputs": [],
   "source": [
    "conn = pymysql.connect(host='192.168.1.247',\n",
    "                      user='root', port=3306, password='donghyun1!',db='acornschool',\n",
    "                      charset='utf8mb4', use_unicode=True,\n",
    "                      cursorclass=pymysql.cursors.DictCursor)\n",
    "\n",
    "\n",
    "cur = conn.cursor()\n",
    "\n",
    "sql = '''insert into pet(name, owner, species, sex, birth, death) values(%s,%s,%s,%s,%s,%s)'''\n",
    "\n",
    "cur.execute(sql,('유리', 'acorn','고양이','f','2014-1-1','2016-2-1'))\n",
    "cur.execute(sql,('귀엽','acorn','강아지','f','2014-3-1','2016-9-1'))\n",
    "cur.execute(sql,('돌이','acorn','곰','f','2014-8-1','2018-2-1'))\n",
    "\n",
    "conn.commit()"
   ]
  },
  {
   "cell_type": "code",
   "execution_count": 13,
   "metadata": {},
   "outputs": [
    {
     "name": "stdout",
     "output_type": "stream",
     "text": [
      "5\n"
     ]
    },
    {
     "data": {
      "text/plain": [
       "<bound method Connection.close of <pymysql.connections.Connection object at 0x000001C1A2F9D3C8>>"
      ]
     },
     "execution_count": 13,
     "metadata": {},
     "output_type": "execute_result"
    }
   ],
   "source": [
    "cur.executemany(\n",
    "    'insert into pet(name, owner, species, sex, birth, death) values(%s,%s,%s,%s,%s,%s)',\n",
    "    [('대한','민주','cat','f','2001-02-04', None),\n",
    "     ('민국','자유','cat','f','2010-03-17', None),\n",
    "     ('만세','민주','cat','f','2010-05-13', None),\n",
    "     ('하자','민주','cat','m','2015-08-27', None),\n",
    "     ('성공','자유','cat','m','2017-08-31', '2018-04-29'),\n",
    "    ])\n",
    "conn.commit()\n",
    "print(cur.rowcount)\n",
    "conn.close"
   ]
  },
  {
   "cell_type": "code",
   "execution_count": 19,
   "metadata": {},
   "outputs": [
    {
     "name": "stdout",
     "output_type": "stream",
     "text": [
      "8\n",
      "{'id': 4, 'name': '대한', 'owner': '민주', 'species': 'cat', 'sex': 'f', 'birth': datetime.date(2001, 2, 4), 'death': None}\n",
      "{'id': 5, 'name': '민국', 'owner': '자유', 'species': 'cat', 'sex': 'f', 'birth': datetime.date(2010, 3, 17), 'death': None}\n",
      "{'id': 6, 'name': '만세', 'owner': '민주', 'species': 'cat', 'sex': 'f', 'birth': datetime.date(2010, 5, 13), 'death': None}\n",
      "{'id': 7, 'name': '하자', 'owner': '민주', 'species': 'cat', 'sex': 'm', 'birth': datetime.date(2015, 8, 27), 'death': None}\n",
      "{'id': 8, 'name': '성공', 'owner': '자유', 'species': 'cat', 'sex': 'm', 'birth': datetime.date(2017, 8, 31), 'death': datetime.date(2018, 4, 29)}\n"
     ]
    }
   ],
   "source": [
    "conn = pymysql.connect(host='192.168.1.247',\n",
    "                      user='root', port=3306, password='donghyun1!',db='acornschool',\n",
    "                      charset='utf8mb4', use_unicode=True,\n",
    "                      cursorclass=pymysql.cursors.DictCursor)\n",
    "\n",
    "\n",
    "cur = conn.cursor()\n",
    "\n",
    "cur.execute('select * from pet')\n",
    "print(cur.rowcount)\n",
    "cur.description\n",
    "\n",
    "cur.fetchone()\n",
    "cur.fetchone()\n",
    "cur.fetchone()\n",
    "recs = cur.fetchmany(2)\n",
    "for rec in recs:\n",
    "    print(rec)\n",
    "recs = cur.fetchall()\n",
    "for rec in recs:\n",
    "    print(rec)\n",
    "cur.close()\n",
    "conn.close()"
   ]
  },
  {
   "cell_type": "code",
   "execution_count": 36,
   "metadata": {},
   "outputs": [
    {
     "name": "stdout",
     "output_type": "stream",
     "text": [
      "2\n",
      "ID = 7, Name = 하자, 주인 = 민주\n",
      "ID = 8, Name = 성공, 주인 = 자유\n",
      "0\n"
     ]
    }
   ],
   "source": [
    "# 문제 생일이 2015-01-01이후인 ㅔㄷㅅ 을 출력\n",
    "conn = pymysql.connect(host='192.168.1.247',\n",
    "                      user='root', port=3306, password='donghyun1!',db='acornschool',\n",
    "                      charset='utf8mb4', use_unicode=True,\n",
    "                      cursorclass=pymysql.cursors.DictCursor)\n",
    "\n",
    "\n",
    "cur = conn.cursor()\n",
    "\n",
    "cur.execute(\"SELECT * FROM pet WHERE birth >='2015-01-01'\")\n",
    "print(cur.rowcount)\n",
    "row = cur.fetchall()\n",
    "\n",
    "for pet in row:\n",
    "    pet_val = list(pet.values())\n",
    "    print('ID = {}, Name = {}, 주인 = {}'.format(pet_val[0], pet_val[1], pet_val[2]))\n",
    "    \n",
    "# 초심을 유리로 update\n",
    "sql = 'update pet set name=%s where name=%s'\n",
    "cur.execute(sql,('초심','유리'))\n",
    "conn.commit()\n",
    "print(cur.rowcount)\n",
    "\n",
    "\n",
    "\n"
   ]
  },
  {
   "cell_type": "code",
   "execution_count": 39,
   "metadata": {},
   "outputs": [
    {
     "name": "stdout",
     "output_type": "stream",
     "text": [
      "0\n"
     ]
    }
   ],
   "source": [
    "# 유리삭제\n",
    "sql = 'delete from pet where name=%s'\n",
    "cur.execute(sql,'초심')\n",
    "conn.commit()\n",
    "print(cur.rowcount)\n",
    "    "
   ]
  },
  {
   "cell_type": "code",
   "execution_count": 40,
   "metadata": {},
   "outputs": [
    {
     "name": "stdout",
     "output_type": "stream",
     "text": [
      "[{'id': 2, 'name': '귀엽', 'owner': 'acorn', 'species': '강아지', 'sex': 'f', 'birth': datetime.date(2014, 3, 1), 'death': datetime.date(2016, 9, 1)}, {'id': 3, 'name': '돌이', 'owner': 'acorn', 'species': '곰', 'sex': 'f', 'birth': datetime.date(2014, 8, 1), 'death': datetime.date(2018, 2, 1)}, {'id': 4, 'name': '대한', 'owner': '민주', 'species': 'cat', 'sex': 'f', 'birth': datetime.date(2001, 2, 4), 'death': None}, {'id': 5, 'name': '민국', 'owner': '자유', 'species': 'cat', 'sex': 'f', 'birth': datetime.date(2010, 3, 17), 'death': None}, {'id': 6, 'name': '만세', 'owner': '민주', 'species': 'cat', 'sex': 'f', 'birth': datetime.date(2010, 5, 13), 'death': None}, {'id': 7, 'name': '하자', 'owner': '민주', 'species': 'cat', 'sex': 'm', 'birth': datetime.date(2015, 8, 27), 'death': None}, {'id': 8, 'name': '성공', 'owner': '자유', 'species': 'cat', 'sex': 'm', 'birth': datetime.date(2017, 8, 31), 'death': datetime.date(2018, 4, 29)}]\n"
     ]
    }
   ],
   "source": [
    "cur.callproc('pet_select')\n",
    "if cur.rowcount:\n",
    "    print(cur.fetchall())"
   ]
  },
  {
   "cell_type": "code",
   "execution_count": 41,
   "metadata": {},
   "outputs": [],
   "source": [
    "cur.close()\n",
    "conn.close()"
   ]
  },
  {
   "cell_type": "code",
   "execution_count": 47,
   "metadata": {},
   "outputs": [],
   "source": [
    "conn = pymysql.connect(host='192.168.1.247',\n",
    "                      user='root', port=3306, password='donghyun1!',db='acornschool',\n",
    "                      charset='utf8mb4', use_unicode=True,\n",
    "                      cursorclass=pymysql.cursors.DictCursor)\n",
    "\n",
    "\n",
    "cur = conn.cursor()"
   ]
  },
  {
   "cell_type": "code",
   "execution_count": 43,
   "metadata": {},
   "outputs": [
    {
     "data": {
      "text/plain": [
       "('마음이', 'acorn', '백구', 'f', '2018-01-02', '2018-11-04')"
      ]
     },
     "execution_count": 43,
     "metadata": {},
     "output_type": "execute_result"
    }
   ],
   "source": [
    "# 문제 insert 하는 프로시져\n",
    "# ('마음이','acorn','백구','f','2018-01-02','2018-11-04')\n",
    "data = ('마음이','acorn','백구','f','2018-01-02','2018-11-04')\n",
    "cur.callproc('pet_insert', data)"
   ]
  },
  {
   "cell_type": "code",
   "execution_count": 55,
   "metadata": {},
   "outputs": [
    {
     "ename": "InternalError",
     "evalue": "(1054, \"Unknown column 'serchname' in 'where clause'\")",
     "output_type": "error",
     "traceback": [
      "\u001b[1;31m---------------------------------------------------------------------------\u001b[0m",
      "\u001b[1;31mInternalError\u001b[0m                             Traceback (most recent call last)",
      "\u001b[1;32m<ipython-input-55-13aa140313be>\u001b[0m in \u001b[0;36m<module>\u001b[1;34m\u001b[0m\n\u001b[0;32m      2\u001b[0m \u001b[1;31m# 마음이를 마음으로\u001b[0m\u001b[1;33m\u001b[0m\u001b[1;33m\u001b[0m\u001b[1;33m\u001b[0m\u001b[0m\n\u001b[0;32m      3\u001b[0m \u001b[0mdata\u001b[0m \u001b[1;33m=\u001b[0m \u001b[1;33m(\u001b[0m\u001b[1;34m'마음이'\u001b[0m\u001b[1;33m,\u001b[0m \u001b[1;34m'마음'\u001b[0m\u001b[1;33m,\u001b[0m \u001b[1;36m0\u001b[0m\u001b[1;33m)\u001b[0m\u001b[1;33m\u001b[0m\u001b[1;33m\u001b[0m\u001b[0m\n\u001b[1;32m----> 4\u001b[1;33m \u001b[0mcur\u001b[0m\u001b[1;33m.\u001b[0m\u001b[0mcallproc\u001b[0m\u001b[1;33m(\u001b[0m\u001b[1;34m'pet_update'\u001b[0m\u001b[1;33m,\u001b[0m \u001b[0mdata\u001b[0m\u001b[1;33m)\u001b[0m\u001b[1;33m\u001b[0m\u001b[1;33m\u001b[0m\u001b[0m\n\u001b[0m\u001b[0;32m      5\u001b[0m \u001b[0mcur\u001b[0m\u001b[1;33m.\u001b[0m\u001b[0mexecute\u001b[0m\u001b[1;33m(\u001b[0m\u001b[1;34m'select @_pet_update_2'\u001b[0m\u001b[1;33m)\u001b[0m \u001b[1;31m# 이름 결정\u001b[0m\u001b[1;33m\u001b[0m\u001b[1;33m\u001b[0m\u001b[0m\n\u001b[0;32m      6\u001b[0m \u001b[0mresult\u001b[0m \u001b[1;33m=\u001b[0m \u001b[0mcur\u001b[0m\u001b[1;33m.\u001b[0m\u001b[0mfetchone\u001b[0m\u001b[1;33m(\u001b[0m\u001b[1;33m)\u001b[0m\u001b[1;33m\u001b[0m\u001b[1;33m\u001b[0m\u001b[0m\n",
      "\u001b[1;32m~\\Anaconda3\\lib\\site-packages\\pymysql\\cursors.py\u001b[0m in \u001b[0;36mcallproc\u001b[1;34m(self, procname, args)\u001b[0m\n\u001b[0;32m    274\u001b[0m                              ','.join(['@_%s_%d' % (procname, i)\n\u001b[0;32m    275\u001b[0m                                        for i in range_type(len(args))]))\n\u001b[1;32m--> 276\u001b[1;33m         \u001b[0mself\u001b[0m\u001b[1;33m.\u001b[0m\u001b[0m_query\u001b[0m\u001b[1;33m(\u001b[0m\u001b[0mq\u001b[0m\u001b[1;33m)\u001b[0m\u001b[1;33m\u001b[0m\u001b[1;33m\u001b[0m\u001b[0m\n\u001b[0m\u001b[0;32m    277\u001b[0m         \u001b[0mself\u001b[0m\u001b[1;33m.\u001b[0m\u001b[0m_executed\u001b[0m \u001b[1;33m=\u001b[0m \u001b[0mq\u001b[0m\u001b[1;33m\u001b[0m\u001b[1;33m\u001b[0m\u001b[0m\n\u001b[0;32m    278\u001b[0m         \u001b[1;32mreturn\u001b[0m \u001b[0margs\u001b[0m\u001b[1;33m\u001b[0m\u001b[1;33m\u001b[0m\u001b[0m\n",
      "\u001b[1;32m~\\Anaconda3\\lib\\site-packages\\pymysql\\cursors.py\u001b[0m in \u001b[0;36m_query\u001b[1;34m(self, q)\u001b[0m\n\u001b[0;32m    326\u001b[0m         \u001b[0mself\u001b[0m\u001b[1;33m.\u001b[0m\u001b[0m_last_executed\u001b[0m \u001b[1;33m=\u001b[0m \u001b[0mq\u001b[0m\u001b[1;33m\u001b[0m\u001b[1;33m\u001b[0m\u001b[0m\n\u001b[0;32m    327\u001b[0m         \u001b[0mself\u001b[0m\u001b[1;33m.\u001b[0m\u001b[0m_clear_result\u001b[0m\u001b[1;33m(\u001b[0m\u001b[1;33m)\u001b[0m\u001b[1;33m\u001b[0m\u001b[1;33m\u001b[0m\u001b[0m\n\u001b[1;32m--> 328\u001b[1;33m         \u001b[0mconn\u001b[0m\u001b[1;33m.\u001b[0m\u001b[0mquery\u001b[0m\u001b[1;33m(\u001b[0m\u001b[0mq\u001b[0m\u001b[1;33m)\u001b[0m\u001b[1;33m\u001b[0m\u001b[1;33m\u001b[0m\u001b[0m\n\u001b[0m\u001b[0;32m    329\u001b[0m         \u001b[0mself\u001b[0m\u001b[1;33m.\u001b[0m\u001b[0m_do_get_result\u001b[0m\u001b[1;33m(\u001b[0m\u001b[1;33m)\u001b[0m\u001b[1;33m\u001b[0m\u001b[1;33m\u001b[0m\u001b[0m\n\u001b[0;32m    330\u001b[0m         \u001b[1;32mreturn\u001b[0m \u001b[0mself\u001b[0m\u001b[1;33m.\u001b[0m\u001b[0mrowcount\u001b[0m\u001b[1;33m\u001b[0m\u001b[1;33m\u001b[0m\u001b[0m\n",
      "\u001b[1;32m~\\Anaconda3\\lib\\site-packages\\pymysql\\connections.py\u001b[0m in \u001b[0;36mquery\u001b[1;34m(self, sql, unbuffered)\u001b[0m\n\u001b[0;32m    515\u001b[0m                 \u001b[0msql\u001b[0m \u001b[1;33m=\u001b[0m \u001b[0msql\u001b[0m\u001b[1;33m.\u001b[0m\u001b[0mencode\u001b[0m\u001b[1;33m(\u001b[0m\u001b[0mself\u001b[0m\u001b[1;33m.\u001b[0m\u001b[0mencoding\u001b[0m\u001b[1;33m,\u001b[0m \u001b[1;34m'surrogateescape'\u001b[0m\u001b[1;33m)\u001b[0m\u001b[1;33m\u001b[0m\u001b[1;33m\u001b[0m\u001b[0m\n\u001b[0;32m    516\u001b[0m         \u001b[0mself\u001b[0m\u001b[1;33m.\u001b[0m\u001b[0m_execute_command\u001b[0m\u001b[1;33m(\u001b[0m\u001b[0mCOMMAND\u001b[0m\u001b[1;33m.\u001b[0m\u001b[0mCOM_QUERY\u001b[0m\u001b[1;33m,\u001b[0m \u001b[0msql\u001b[0m\u001b[1;33m)\u001b[0m\u001b[1;33m\u001b[0m\u001b[1;33m\u001b[0m\u001b[0m\n\u001b[1;32m--> 517\u001b[1;33m         \u001b[0mself\u001b[0m\u001b[1;33m.\u001b[0m\u001b[0m_affected_rows\u001b[0m \u001b[1;33m=\u001b[0m \u001b[0mself\u001b[0m\u001b[1;33m.\u001b[0m\u001b[0m_read_query_result\u001b[0m\u001b[1;33m(\u001b[0m\u001b[0munbuffered\u001b[0m\u001b[1;33m=\u001b[0m\u001b[0munbuffered\u001b[0m\u001b[1;33m)\u001b[0m\u001b[1;33m\u001b[0m\u001b[1;33m\u001b[0m\u001b[0m\n\u001b[0m\u001b[0;32m    518\u001b[0m         \u001b[1;32mreturn\u001b[0m \u001b[0mself\u001b[0m\u001b[1;33m.\u001b[0m\u001b[0m_affected_rows\u001b[0m\u001b[1;33m\u001b[0m\u001b[1;33m\u001b[0m\u001b[0m\n\u001b[0;32m    519\u001b[0m \u001b[1;33m\u001b[0m\u001b[0m\n",
      "\u001b[1;32m~\\Anaconda3\\lib\\site-packages\\pymysql\\connections.py\u001b[0m in \u001b[0;36m_read_query_result\u001b[1;34m(self, unbuffered)\u001b[0m\n\u001b[0;32m    730\u001b[0m         \u001b[1;32melse\u001b[0m\u001b[1;33m:\u001b[0m\u001b[1;33m\u001b[0m\u001b[1;33m\u001b[0m\u001b[0m\n\u001b[0;32m    731\u001b[0m             \u001b[0mresult\u001b[0m \u001b[1;33m=\u001b[0m \u001b[0mMySQLResult\u001b[0m\u001b[1;33m(\u001b[0m\u001b[0mself\u001b[0m\u001b[1;33m)\u001b[0m\u001b[1;33m\u001b[0m\u001b[1;33m\u001b[0m\u001b[0m\n\u001b[1;32m--> 732\u001b[1;33m             \u001b[0mresult\u001b[0m\u001b[1;33m.\u001b[0m\u001b[0mread\u001b[0m\u001b[1;33m(\u001b[0m\u001b[1;33m)\u001b[0m\u001b[1;33m\u001b[0m\u001b[1;33m\u001b[0m\u001b[0m\n\u001b[0m\u001b[0;32m    733\u001b[0m         \u001b[0mself\u001b[0m\u001b[1;33m.\u001b[0m\u001b[0m_result\u001b[0m \u001b[1;33m=\u001b[0m \u001b[0mresult\u001b[0m\u001b[1;33m\u001b[0m\u001b[1;33m\u001b[0m\u001b[0m\n\u001b[0;32m    734\u001b[0m         \u001b[1;32mif\u001b[0m \u001b[0mresult\u001b[0m\u001b[1;33m.\u001b[0m\u001b[0mserver_status\u001b[0m \u001b[1;32mis\u001b[0m \u001b[1;32mnot\u001b[0m \u001b[1;32mNone\u001b[0m\u001b[1;33m:\u001b[0m\u001b[1;33m\u001b[0m\u001b[1;33m\u001b[0m\u001b[0m\n",
      "\u001b[1;32m~\\Anaconda3\\lib\\site-packages\\pymysql\\connections.py\u001b[0m in \u001b[0;36mread\u001b[1;34m(self)\u001b[0m\n\u001b[0;32m   1073\u001b[0m     \u001b[1;32mdef\u001b[0m \u001b[0mread\u001b[0m\u001b[1;33m(\u001b[0m\u001b[0mself\u001b[0m\u001b[1;33m)\u001b[0m\u001b[1;33m:\u001b[0m\u001b[1;33m\u001b[0m\u001b[1;33m\u001b[0m\u001b[0m\n\u001b[0;32m   1074\u001b[0m         \u001b[1;32mtry\u001b[0m\u001b[1;33m:\u001b[0m\u001b[1;33m\u001b[0m\u001b[1;33m\u001b[0m\u001b[0m\n\u001b[1;32m-> 1075\u001b[1;33m             \u001b[0mfirst_packet\u001b[0m \u001b[1;33m=\u001b[0m \u001b[0mself\u001b[0m\u001b[1;33m.\u001b[0m\u001b[0mconnection\u001b[0m\u001b[1;33m.\u001b[0m\u001b[0m_read_packet\u001b[0m\u001b[1;33m(\u001b[0m\u001b[1;33m)\u001b[0m\u001b[1;33m\u001b[0m\u001b[1;33m\u001b[0m\u001b[0m\n\u001b[0m\u001b[0;32m   1076\u001b[0m \u001b[1;33m\u001b[0m\u001b[0m\n\u001b[0;32m   1077\u001b[0m             \u001b[1;32mif\u001b[0m \u001b[0mfirst_packet\u001b[0m\u001b[1;33m.\u001b[0m\u001b[0mis_ok_packet\u001b[0m\u001b[1;33m(\u001b[0m\u001b[1;33m)\u001b[0m\u001b[1;33m:\u001b[0m\u001b[1;33m\u001b[0m\u001b[1;33m\u001b[0m\u001b[0m\n",
      "\u001b[1;32m~\\Anaconda3\\lib\\site-packages\\pymysql\\connections.py\u001b[0m in \u001b[0;36m_read_packet\u001b[1;34m(self, packet_type)\u001b[0m\n\u001b[0;32m    682\u001b[0m \u001b[1;33m\u001b[0m\u001b[0m\n\u001b[0;32m    683\u001b[0m         \u001b[0mpacket\u001b[0m \u001b[1;33m=\u001b[0m \u001b[0mpacket_type\u001b[0m\u001b[1;33m(\u001b[0m\u001b[0mbuff\u001b[0m\u001b[1;33m,\u001b[0m \u001b[0mself\u001b[0m\u001b[1;33m.\u001b[0m\u001b[0mencoding\u001b[0m\u001b[1;33m)\u001b[0m\u001b[1;33m\u001b[0m\u001b[1;33m\u001b[0m\u001b[0m\n\u001b[1;32m--> 684\u001b[1;33m         \u001b[0mpacket\u001b[0m\u001b[1;33m.\u001b[0m\u001b[0mcheck_error\u001b[0m\u001b[1;33m(\u001b[0m\u001b[1;33m)\u001b[0m\u001b[1;33m\u001b[0m\u001b[1;33m\u001b[0m\u001b[0m\n\u001b[0m\u001b[0;32m    685\u001b[0m         \u001b[1;32mreturn\u001b[0m \u001b[0mpacket\u001b[0m\u001b[1;33m\u001b[0m\u001b[1;33m\u001b[0m\u001b[0m\n\u001b[0;32m    686\u001b[0m \u001b[1;33m\u001b[0m\u001b[0m\n",
      "\u001b[1;32m~\\Anaconda3\\lib\\site-packages\\pymysql\\protocol.py\u001b[0m in \u001b[0;36mcheck_error\u001b[1;34m(self)\u001b[0m\n\u001b[0;32m    218\u001b[0m             \u001b[0merrno\u001b[0m \u001b[1;33m=\u001b[0m \u001b[0mself\u001b[0m\u001b[1;33m.\u001b[0m\u001b[0mread_uint16\u001b[0m\u001b[1;33m(\u001b[0m\u001b[1;33m)\u001b[0m\u001b[1;33m\u001b[0m\u001b[1;33m\u001b[0m\u001b[0m\n\u001b[0;32m    219\u001b[0m             \u001b[1;32mif\u001b[0m \u001b[0mDEBUG\u001b[0m\u001b[1;33m:\u001b[0m \u001b[0mprint\u001b[0m\u001b[1;33m(\u001b[0m\u001b[1;34m\"errno =\"\u001b[0m\u001b[1;33m,\u001b[0m \u001b[0merrno\u001b[0m\u001b[1;33m)\u001b[0m\u001b[1;33m\u001b[0m\u001b[1;33m\u001b[0m\u001b[0m\n\u001b[1;32m--> 220\u001b[1;33m             \u001b[0merr\u001b[0m\u001b[1;33m.\u001b[0m\u001b[0mraise_mysql_exception\u001b[0m\u001b[1;33m(\u001b[0m\u001b[0mself\u001b[0m\u001b[1;33m.\u001b[0m\u001b[0m_data\u001b[0m\u001b[1;33m)\u001b[0m\u001b[1;33m\u001b[0m\u001b[1;33m\u001b[0m\u001b[0m\n\u001b[0m\u001b[0;32m    221\u001b[0m \u001b[1;33m\u001b[0m\u001b[0m\n\u001b[0;32m    222\u001b[0m     \u001b[1;32mdef\u001b[0m \u001b[0mdump\u001b[0m\u001b[1;33m(\u001b[0m\u001b[0mself\u001b[0m\u001b[1;33m)\u001b[0m\u001b[1;33m:\u001b[0m\u001b[1;33m\u001b[0m\u001b[1;33m\u001b[0m\u001b[0m\n",
      "\u001b[1;32m~\\Anaconda3\\lib\\site-packages\\pymysql\\err.py\u001b[0m in \u001b[0;36mraise_mysql_exception\u001b[1;34m(data)\u001b[0m\n\u001b[0;32m    107\u001b[0m         \u001b[0merrval\u001b[0m \u001b[1;33m=\u001b[0m \u001b[0mdata\u001b[0m\u001b[1;33m[\u001b[0m\u001b[1;36m3\u001b[0m\u001b[1;33m:\u001b[0m\u001b[1;33m]\u001b[0m\u001b[1;33m.\u001b[0m\u001b[0mdecode\u001b[0m\u001b[1;33m(\u001b[0m\u001b[1;34m'utf-8'\u001b[0m\u001b[1;33m,\u001b[0m \u001b[1;34m'replace'\u001b[0m\u001b[1;33m)\u001b[0m\u001b[1;33m\u001b[0m\u001b[1;33m\u001b[0m\u001b[0m\n\u001b[0;32m    108\u001b[0m     \u001b[0merrorclass\u001b[0m \u001b[1;33m=\u001b[0m \u001b[0merror_map\u001b[0m\u001b[1;33m.\u001b[0m\u001b[0mget\u001b[0m\u001b[1;33m(\u001b[0m\u001b[0merrno\u001b[0m\u001b[1;33m,\u001b[0m \u001b[0mInternalError\u001b[0m\u001b[1;33m)\u001b[0m\u001b[1;33m\u001b[0m\u001b[1;33m\u001b[0m\u001b[0m\n\u001b[1;32m--> 109\u001b[1;33m     \u001b[1;32mraise\u001b[0m \u001b[0merrorclass\u001b[0m\u001b[1;33m(\u001b[0m\u001b[0merrno\u001b[0m\u001b[1;33m,\u001b[0m \u001b[0merrval\u001b[0m\u001b[1;33m)\u001b[0m\u001b[1;33m\u001b[0m\u001b[1;33m\u001b[0m\u001b[0m\n\u001b[0m",
      "\u001b[1;31mInternalError\u001b[0m: (1054, \"Unknown column 'serchname' in 'where clause'\")"
     ]
    }
   ],
   "source": [
    "#문제 이름 update 프로시져\n",
    "# 마음이를 마음으로\n",
    "data = ('마음이', '마음', 0)\n",
    "cur.callproc('pet_update', data)\n",
    "cur.execute('select @_pet_update_2') # 이름 결정\n",
    "result = cur.fetchone()\n",
    "print(result['@_pet_update_2']) # 키데이터 형식\n",
    "\n",
    "if result['@_pet_update_2'] == 2:\n",
    "    print('수정할 이름이 없습니다.')\n",
    "else:\n",
    "    print('성공적으로 수정되었습니다.')\n",
    "\n",
    "cur.close()\n",
    "conn.close()"
   ]
  },
  {
   "cell_type": "code",
   "execution_count": 46,
   "metadata": {},
   "outputs": [],
   "source": [
    "conn = pymysql.connect(host='192.168.1.247',\n",
    "                      user='root', port=3306, password='donghyun1!',db='acornschool',\n",
    "                      charset='utf8mb4', use_unicode=True,\n",
    "                      cursorclass=pymysql.cursors.DictCursor)\n",
    "\n",
    "\n",
    "cur = conn.cursor()"
   ]
  },
  {
   "cell_type": "code",
   "execution_count": 56,
   "metadata": {},
   "outputs": [
    {
     "name": "stdout",
     "output_type": "stream",
     "text": [
      "2\n",
      "삭제할 이름이 없습니다.\n"
     ]
    }
   ],
   "source": [
    "data = ('귀염', 0)\n",
    "cur.callproc('pet_delete', data)\n",
    "\n",
    "cur.execute('select @_pet_delete_1') # 이름 결정\n",
    "result = cur.fetchone()\n",
    "print(result['@_pet_delete_1']) # 키데이터 형식\n",
    "\n",
    "if result['@_pet_delete_1'] == 2:\n",
    "    print('삭제할 이름이 없습니다.')\n",
    "else:\n",
    "    print('성공적으로 삭제되었습니다.')\n"
   ]
  },
  {
   "cell_type": "code",
   "execution_count": 57,
   "metadata": {},
   "outputs": [],
   "source": [
    "cur.close()\n",
    "conn.close()"
   ]
  },
  {
   "cell_type": "code",
   "execution_count": 58,
   "metadata": {},
   "outputs": [],
   "source": [
    "conn = pymysql.connect(host='192.168.1.247',\n",
    "                      user='root', port=3306, password='donghyun1!',db='acornschool',\n",
    "                      charset='utf8mb4', use_unicode=True,\n",
    "                      cursorclass=pymysql.cursors.DictCursor)\n",
    "\n",
    "\n",
    "cur = conn.cursor()"
   ]
  },
  {
   "cell_type": "code",
   "execution_count": 59,
   "metadata": {},
   "outputs": [
    {
     "name": "stdout",
     "output_type": "stream",
     "text": [
      "2\n",
      "삭제할 이름이 없습니다.\n"
     ]
    }
   ],
   "source": [
    "try: # exception 예외 처리(프로그램은 지속적으로 실행되어야 한다.)\n",
    "    data = ('귀염', 0)\n",
    "    cur.callproc('pet_delete', data)\n",
    "\n",
    "    cur.execute('select @_pet_delete_1') # 이름 결정\n",
    "    result = cur.fetchone()\n",
    "    print(result['@_pet_delete_1']) # 키데이터 형식\n",
    "\n",
    "    if result['@_pet_delete_1'] == 2:\n",
    "        print('삭제할 이름이 없습니다.')\n",
    "    else:\n",
    "        print('성공적으로 삭제되었습니다.')\n",
    "except:\n",
    "    conn.db.rollback()\n",
    "cur.close()\n",
    "conn.close()"
   ]
  },
  {
   "cell_type": "code",
   "execution_count": 60,
   "metadata": {},
   "outputs": [],
   "source": [
    "conn = pymysql.connect(host='192.168.1.247',\n",
    "                      user='root', port=3306, password='donghyun1!',db='acornschool',\n",
    "                      charset='utf8mb4', use_unicode=True,\n",
    "                      cursorclass=pymysql.cursors.DictCursor)\n",
    "\n",
    "\n",
    "cur = conn.cursor()"
   ]
  },
  {
   "cell_type": "code",
   "execution_count": 61,
   "metadata": {},
   "outputs": [],
   "source": [
    "cur.close()\n",
    "conn.close()"
   ]
  },
  {
   "cell_type": "code",
   "execution_count": 80,
   "metadata": {},
   "outputs": [],
   "source": [
    "class Student:\n",
    "    def __init__(self):\n",
    "        self.bunho = 0\n",
    "        self.name = ''\n",
    "        self.kor = 0\n",
    "        self.eng = 0\n",
    "        self.mat = 0\n",
    "        self.total=0\n",
    "        self.average =0\n",
    "        self.grade=''\n",
    "    def inputData(self):\n",
    "        self.name = input('이름을 입력하세요 : ')\n",
    "        self.kor = eval(input('국어 점수 : '))\n",
    "        self.eng = eval(input('영어 점수 : '))\n",
    "        self.mat = eval(input('수학 점수 : '))\n",
    "    def calc_total_average(self):# 한 학생의 총점, 평균, 성적 ; 수정도 염두해 별도의 함수화\n",
    "        self.total = self.kor + self.math + self.eng\n",
    "        self.average = round(self.total / 3, 2)\n",
    "        self.grade = self.calcSemGrade()\n",
    "    def calcSemGrade(self): # 학점 계산\n",
    "        if self.average >= 90: return 'A'\n",
    "        elif self.average >= 80: return 'B'\n",
    "        elif self.average >= 70: return 'C'\n",
    "        elif self.average >= 60: return 'D'\n",
    "        else: return 'F'\n",
    "        \n",
    "    def __str__(self): # 학생의 개인정보 출력\n",
    "        return '{}\\t{}\\t{}\\t{}\\t{}\\t{}\\t{}\\t{}'.format(self.bunho, self.name, self.kor, self.mat, self.eng, self.total, self.average, self.grade)\n",
    "    \n",
    "    def __cmp__(self, other): # 뭘까? 검색할때 쓸거 같다.\n",
    "        return self.name == other.name\n",
    "    def __call__(self, other): # 클래스를 함수처럼 사용하고자 할 때 오버라이딩\n",
    "        st = []\n",
    "        for student in other:\n",
    "            stp = Student()\n",
    "            stp.name = student[0]\n",
    "            stp.kor = student[1]\n",
    "            stp.eng = student[2]\n",
    "            stp.mat = student[3]\n",
    "            st.append(stp)\n",
    "        return st"
   ]
  },
  {
   "cell_type": "code",
   "execution_count": 81,
   "metadata": {},
   "outputs": [],
   "source": [
    "class maria:\n",
    "    schoolname = \"에이콘 아카데미\"\n",
    "    def __init__(self):\n",
    "        self.conn = pymysql.connect(host='192.168.1.247', port=3306, user='root',\n",
    "                           password='donghyun1!',db='acornschool', charset='utf8',\n",
    "                                    autocommit=True)\n",
    "        cor = self.conn.cursor()\n",
    "        cor.execute(\"SHOW TABLES\")\n",
    "        tables = cor.fetchall()\n",
    "        c = []\n",
    "        for i in tables:\n",
    "            if  i == ('sungjuk',): # , 없으면 애러\n",
    "                c.append(i)\n",
    "        if len(c) != 0:\n",
    "            sungjuk_table = \"SELECT * FROM sungjuk\"\n",
    "            cor.execute(sungjuk_table)\n",
    "            print('테이블이 있습니다. ')\n",
    "        else:\n",
    "            cor.execute(\"CREATE TABLE sungjuk (name VARCHAR(20), kor INTEGER(20),  mat INTEGER(20),eng INTEGER(20))\")\n",
    "            print('sungjuk테이블을 생성하였습니다. ')\n",
    "    def __del__(self):\n",
    "        self.conn.close()\n",
    "\n",
    "    def selectdb(self ):\n",
    "        cur = self.conn.cursor()\n",
    "        cur.callproc(\"sungjuk_select\")\n",
    "        if (cur.rowcount):\n",
    "            stu = list(cur.fetchall())\n",
    "        else :\n",
    "            stu = 0;\n",
    "        cur.close()\n",
    "        return stu\n",
    "   \n",
    "    def insertdb(self,name, kor, mat, eng):\n",
    "        cur = self.conn.cursor()\n",
    "        args = (name, kor, mat, eng)\n",
    "        cur.callproc(\"sungjuk_insert\",args)\n",
    "        cur.close()\n",
    "       \n",
    "    def updatedb(self, in_name, up_name):\n",
    "        cur = self.conn.cursor()\n",
    "        args = (in_name, up_name, 0)\n",
    "        cur.callproc(\"sungjuk_update\", args)\n",
    "        cur.execute('SELECT @_sungjuk_update_2')\n",
    "        result = cur.fetchone()\n",
    "        if result==2 :\n",
    "            print(\"수정할 이름이 없습니다.\")\n",
    "        else :\n",
    "            print(\"성공적으로 수정하였습니다. \")\n",
    "        cur.close()\n",
    "        return result \n",
    "   \n",
    "    def deletedb(self,in_name):\n",
    "        cur = self.conn.cursor()\n",
    "        args = (in_name, 0)\n",
    "        cur.callproc(\"sungjuk_delete\", args)\n",
    "        cur.execute('SELECT @_sungjuk_delete_1')\n",
    "        result = cur.fetchone()\n",
    "        if result==2 :\n",
    "            print(\"삭제할 이름이 없습니다.\")\n",
    "        else :\n",
    "            print(\"성공적으로 삭제하였습니다. \")\n",
    "        cur.close()\n",
    "        return result"
   ]
  },
  {
   "cell_type": "code",
   "execution_count": 82,
   "metadata": {},
   "outputs": [],
   "source": [
    "from math import  *\n",
    "from statistics import *\n",
    "\n",
    "class Management:\n",
    "    def __init__(self):\n",
    "        self.maria = maria()\n",
    "    def M_select(self):\n",
    "        data = self.maria.selectdb()\n",
    "        st = []\n",
    "        if (data):\n",
    "            for student in data:\n",
    "                stp = Student()\n",
    "                stp.name = student[0]\n",
    "                stp.kor = student[1]\n",
    "                stp.eng = student[2]\n",
    "                stp.mat = student[3]\n",
    "                st.append(stp)                    \n",
    "            # studdata=Student((data))\n",
    "            print(maria.schoolname + \"  성적 계산표 \")\n",
    "            print('%5s %5s %6s %6s %6s %6s  %6s %6s' % ('번 호', '이 름', '국 어',\n",
    "                    '수 학', '영  어', '총 점', '평 균', '학 점' ))      \n",
    "            for stud in st:\n",
    "                print( stud)                     \n",
    "        else :\n",
    "            print(\"데이터가 없습니다. . \")\n",
    "           \n",
    "    def M_insert(self):\n",
    "        stu = Student()\n",
    "        stu.inputData()\n",
    "        self.maria.insertdb(stu.name, stu.kor, stu.mat, stu.eng)\n",
    "    def M_update(self):\n",
    "        name = input(\"검색할 이름을 입력하시요\")\n",
    "        replace_name = input(\"수정할 이름을 입력하시요\")\n",
    "        result=self.maria.updatedb(name, replace_name)  \n",
    "    def M_delete(self):       \n",
    "        name = input(\"검색할 이름을 입력하시요\")\n",
    "        self.maria.deletedb(name)     "
   ]
  },
  {
   "cell_type": "code",
   "execution_count": 83,
   "metadata": {},
   "outputs": [
    {
     "name": "stdout",
     "output_type": "stream",
     "text": [
      "테이블이 있습니다. \n",
      "테이블이 있습니다. \n",
      "['전체검색(1), 입력(2), 수정(3), 삭제(4), 종료(9)']1\n",
      "에이콘 아카데미  성적 계산표 \n",
      "  번 호   이 름    국 어    수 학   영  어    총 점     평 균    학 점\n",
      "0\t1\t김동현\t100\t100\t0\t0\t\n",
      "['전체검색(1), 입력(2), 수정(3), 삭제(4), 종료(9)']2\n",
      "이름을 입력하세요 : 9\n",
      "국어 점수 : 9\n",
      "영어 점수 : 9\n",
      "수학 점수 : 9\n",
      "['전체검색(1), 입력(2), 수정(3), 삭제(4), 종료(9)']9\n"
     ]
    },
    {
     "ename": "SystemExit",
     "evalue": "",
     "output_type": "error",
     "traceback": [
      "An exception has occurred, use %tb to see the full traceback.\n",
      "\u001b[1;31mSystemExit\u001b[0m\n"
     ]
    },
    {
     "name": "stderr",
     "output_type": "stream",
     "text": [
      "C:\\Users\\ICT01_18\\Anaconda3\\lib\\site-packages\\IPython\\core\\interactiveshell.py:3334: UserWarning: To exit: use 'exit', 'quit', or Ctrl-D.\n",
      "  warn(\"To exit: use 'exit', 'quit', or Ctrl-D.\", stacklevel=1)\n"
     ]
    }
   ],
   "source": [
    "import sys\n",
    "class Menu():\n",
    "    def __init__(self):\n",
    "        self.manage = Management()\n",
    "       \n",
    "    def work(self):\n",
    "        menu = [ \"전체검색(1), 입력(2), 수정(3), 삭제(4), 종료(9)\"]\n",
    "        manage = Management()\n",
    "        while 1:\n",
    "            sel = input(menu)\n",
    "            if  sel == \"1\":\n",
    "                manage.M_select()\n",
    "                continue\n",
    "            elif sel == \"2\":\n",
    "                manage.M_insert()\n",
    "                continue       \n",
    "            elif sel ==\"3\":\n",
    "                manage.M_update()\n",
    "                continue\n",
    "            elif sel ==\"4\":\n",
    "                manage.M_delete()\n",
    "            elif sel ==\"9\":\n",
    "                del(manage)\n",
    "                sys.exit()\n",
    "            else :\n",
    "                print(\"잘못된 입력입니다. 다시입력 하시요\")\n",
    "                continue\n",
    "           \n",
    "menu = Menu()\n",
    "menu.work() "
   ]
  },
  {
   "cell_type": "code",
   "execution_count": null,
   "metadata": {},
   "outputs": [],
   "source": []
  },
  {
   "cell_type": "code",
   "execution_count": null,
   "metadata": {},
   "outputs": [],
   "source": []
  },
  {
   "cell_type": "code",
   "execution_count": null,
   "metadata": {},
   "outputs": [],
   "source": []
  },
  {
   "cell_type": "code",
   "execution_count": null,
   "metadata": {},
   "outputs": [],
   "source": []
  },
  {
   "cell_type": "code",
   "execution_count": null,
   "metadata": {},
   "outputs": [],
   "source": []
  },
  {
   "cell_type": "code",
   "execution_count": null,
   "metadata": {},
   "outputs": [],
   "source": []
  },
  {
   "cell_type": "code",
   "execution_count": null,
   "metadata": {},
   "outputs": [],
   "source": []
  }
 ],
 "metadata": {
  "kernelspec": {
   "display_name": "Python 3",
   "language": "python",
   "name": "python3"
  },
  "language_info": {
   "codemirror_mode": {
    "name": "ipython",
    "version": 3
   },
   "file_extension": ".py",
   "mimetype": "text/x-python",
   "name": "python",
   "nbconvert_exporter": "python",
   "pygments_lexer": "ipython3",
   "version": "3.7.4"
  }
 },
 "nbformat": 4,
 "nbformat_minor": 2
}
