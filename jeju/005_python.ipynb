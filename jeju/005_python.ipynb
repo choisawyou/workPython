{
 "cells": [
  {
   "cell_type": "markdown",
   "metadata": {},
   "source": [
    "## linux : mariadb, 서버관리자\n",
    "- 서비스 제공을 제어 : systemctl\n",
    "    systemctl get-default : graphic mode(GUI : graphic user interface)\n",
    "        : text mode()- 서버가 서비스를 제공\n",
    "- 보안 : firewall-cmd-firewall 방화볍\n",
    "- ip, port 포트번호는 막혀있음\n",
    "    firewall-cmd---permanent --zone=public --add-port=3306/tcp\n",
    "    Heidisql : 원격으로 mariadb에 접속 작업\n",
    "    \n",
    "## vi 편집기\n",
    "- 명령보드 : (esc)커서가 있는곳에서 dd(삭제), yy(복사), p(붙여넣기)\n",
    "- 입력모드 : i, a, o (입력행 모드로 변경)\n",
    "- 마지막행 모드 : :w(저장), :q!(저장하지 않고 종료), "
   ]
  },
  {
   "cell_type": "markdown",
   "metadata": {},
   "source": [
    "vm\n",
    "oracle 화면조정\n",
    "서버용 리눅스\n",
    "heidisql 마리아디비 원격제어\n",
    "putty 원격제어"
   ]
  },
  {
   "cell_type": "code",
   "execution_count": null,
   "metadata": {},
   "outputs": [],
   "source": [
    "firewall-cmd --permanent --zone=public --add-port=22/tcp\n",
    "firewall-cmd --list-services\n",
    "systemctl start firewalld\n",
    "systemctl enable firewalld1234\n",
    "yum install openssh-clients\n",
    "reboot\n",
    "ifconfig\n",
    "cd /etc\n",
    "cd sysconfig\n",
    "cd network-scripts\n",
    "cd network-scripts\n",
    "vi ifcfg-enp0s3\n",
    "\n",
    "\n",
    "4096\n",
    "192.168.1.247"
   ]
  },
  {
   "cell_type": "code",
   "execution_count": null,
   "metadata": {},
   "outputs": [],
   "source": [
    "systemctl get-default # 현재 모드\n",
    "systemctl set-default multi-user.target # text모드로 변경\n",
    "systemctl get-default\n",
    "reboot\n",
    "shutdown -h now\n",
    "\n",
    "ifconfig\n",
    "\n",
    "ps -ef # 현재 메모리 실행되는 내용확인\n",
    "cd : change directory\n",
    "mkdir : make directory\n",
    "rmdir : remove directory\n",
    "cd ~ : root directory\n",
    "cp : copy\n",
    "rm : remove 파일 삭제\n",
    "find / -name test.tst -print\n",
    "vi : 명령행모드, 입력모드, :실행명령\n",
    "dd : 삭제\n",
    "yy : 복사\n",
    "p : 붙여넣기\n",
    "i, a, o : \n",
    ":q 종료, w저장, q!저장하지 않고 종료\n",
    "yum 패키지 설치 : rpm을 래퍼\n",
    "yum install maria-server\n",
    "# 서버 관리하기 위해서 (text모드로 작업)\n",
    "systemctl 서비스를 제어\n",
    "firewall-cmd 방화벽\n",
    "systemctl start mariadb\n",
    "systemctl stop mariadb\n",
    "systemctl restart mariadb 세팅이 변경\n",
    "po -ef | grep httpd 웹서버가 실행중인지 확인\n"
   ]
  }
 ],
 "metadata": {
  "kernelspec": {
   "display_name": "Python 3",
   "language": "python",
   "name": "python3"
  },
  "language_info": {
   "codemirror_mode": {
    "name": "ipython",
    "version": 3
   },
   "file_extension": ".py",
   "mimetype": "text/x-python",
   "name": "python",
   "nbconvert_exporter": "python",
   "pygments_lexer": "ipython3",
   "version": "3.7.4"
  }
 },
 "nbformat": 4,
 "nbformat_minor": 2
}
