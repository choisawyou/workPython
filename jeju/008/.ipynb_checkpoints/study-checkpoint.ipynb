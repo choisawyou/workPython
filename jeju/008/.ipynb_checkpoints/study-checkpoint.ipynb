{
 "cells": [
  {
   "cell_type": "code",
   "execution_count": 2,
   "metadata": {},
   "outputs": [
    {
     "name": "stdout",
     "output_type": "stream",
     "text": [
      "13.0\n",
      "1.0\n",
      "[[1.         0.90419443]\n",
      " [0.90419443 1.        ]]\n"
     ]
    },
    {
     "data": {
      "text/plain": [
       "array([[1.        , 0.90419443],\n",
       "       [0.90419443, 1.        ]])"
      ]
     },
     "execution_count": 2,
     "metadata": {},
     "output_type": "execute_result"
    }
   ],
   "source": [
    "import numpy as np\n",
    "from statistics import *\n",
    "x = np.array([7,8,9])\n",
    "y= np.array([9,10,20])\n",
    "\n",
    "print(y.mean ())\n",
    "print(np.cov(x))\n",
    "print(np.corrcoef(x,y))\n",
    "np.corrcoef(x,y)"
   ]
  },
  {
   "cell_type": "code",
   "execution_count": 10,
   "metadata": {
    "scrolled": true
   },
   "outputs": [
    {
     "name": "stdout",
     "output_type": "stream",
     "text": [
      "[[ 1  2  3  4  5]\n",
      " [ 7  9 11 13 15]\n",
      " [18 21 24 27 30]\n",
      " [34 38 42 46 50]\n",
      " [55 60 65 70 75]]\n",
      "[[  1   3   6  10  15]\n",
      " [  6  13  21  30  40]\n",
      " [ 11  23  36  50  65]\n",
      " [ 16  33  51  70  90]\n",
      " [ 21  43  66  90 115]]\n",
      "[  1   3   6  10  15  21  28  36  45  55  66  78  91 105 120 136 153 171\n",
      " 190 210 231 253 276 300 325]\n"
     ]
    },
    {
     "data": {
      "text/plain": [
       "array([55, 60, 65, 70, 75])"
      ]
     },
     "execution_count": 10,
     "metadata": {},
     "output_type": "execute_result"
    }
   ],
   "source": [
    "arr = np.array(np.arange(1,26)).reshape(5,5)\n",
    "print(arr.cumsum(0)) # 행끼리 누적합 밑으로 합을 내려감\n",
    "print(arr.cumsum(1)) # 열끼리 누적합 옆으로 합을 내려감\n",
    "print(arr.cumsum()) # 전체 누적\n",
    "# sum, mean, cumsum, 등 매개변수로 axis를 같는다 내가  정하고싶은대로 하면됨"
   ]
  },
  {
   "cell_type": "code",
   "execution_count": 104,
   "metadata": {},
   "outputs": [
    {
     "name": "stdout",
     "output_type": "stream",
     "text": [
      "{'a': 0, 'b': 1, 'c': 2}\n",
      "b    1.0\n",
      "c    2.0\n",
      "d    NaN\n",
      "a    0.0\n",
      "dtype: float64\n"
     ]
    }
   ],
   "source": [
    "import pandas as pd\n",
    "import numpy as np\n",
    "data={'a':0,'b':1,'c':2}\n",
    "print(data)\n",
    "s=pd.Series(data, index=['b','c','d','a'])\n",
    "print(s)"
   ]
  },
  {
   "cell_type": "code",
   "execution_count": 42,
   "metadata": {},
   "outputs": [
    {
     "data": {
      "text/plain": [
       "list"
      ]
     },
     "execution_count": 42,
     "metadata": {},
     "output_type": "execute_result"
    }
   ],
   "source": [
    "type(s)\n",
    "t = list(s)\n",
    "type(t)"
   ]
  },
  {
   "cell_type": "code",
   "execution_count": 89,
   "metadata": {},
   "outputs": [
    {
     "name": "stdout",
     "output_type": "stream",
     "text": [
      "a    1\n",
      "b    2\n",
      "c    3\n",
      "d    4\n",
      "e    5\n",
      "dtype: int64\n",
      "c    3\n",
      "d    4\n",
      "dtype: int64\n",
      "dict_items([('a', 0), ('b', 1), ('c', 2)])\n",
      "dict_keys(['a', 'b', 'c'])\n",
      "dict_values([0, 1, 2])\n",
      "******************************\n",
      "a    1\n",
      "b    2\n",
      "c    3\n",
      "d    4\n",
      "e    5\n",
      "f    6\n",
      "dtype: int64\n",
      "******************************\n",
      "d    4\n",
      "e    5\n",
      "f    6\n",
      "dtype: int64\n",
      "a     2\n",
      "b     4\n",
      "c     6\n",
      "d     8\n",
      "e    10\n",
      "f    12\n",
      "dtype: int64\n"
     ]
    }
   ],
   "source": [
    "t = pd.Series([1,2,3,4,5], index=['a','b','c','d','e'])\n",
    "print(t)\n",
    "print(t[2:4])\n",
    "print(data.items()) # dict 형태의 안에 데이터를 전부가져올때는 items(),\n",
    "print(data.keys()) # key 값만 가져올때\n",
    "print(data.values()) # value 값만 가져올때\n",
    "data.get('a')\n",
    "print('*'*30)\n",
    "t['f'] = 6\n",
    "print(t)\n",
    "print('*'*30)\n",
    "# filltering\n",
    "print(t[t>3])\n",
    "print(t*2)\n",
    "\n",
    "\n"
   ]
  },
  {
   "cell_type": "code",
   "execution_count": 134,
   "metadata": {},
   "outputs": [
    {
     "name": "stdout",
     "output_type": "stream",
     "text": [
      "['a' 'b' 'c' 'd']\n",
      "0    a\n",
      "1    b\n",
      "2    c\n",
      "3    d\n",
      "dtype: object\n",
      "******************************\n",
      "object\n",
      "RangeIndex(start=0, stop=4, step=1)\n",
      "Index(['a', 'b', 'c', 'd', 'e', 'f'], dtype='object')\n",
      "a\n",
      "0    a\n",
      "1    b\n",
      "2    c\n",
      "3    d\n",
      "dtype: object\n",
      "d    1\n",
      "a    1\n",
      "b    1\n",
      "c    1\n",
      "dtype: int64\n",
      "d    0.25\n",
      "a    0.25\n",
      "b    0.25\n",
      "c    0.25\n",
      "dtype: float64\n",
      "******************************\n",
      "<bound method NDFrame.describe of 0    a\n",
      "1    b\n",
      "2    c\n",
      "3    d\n",
      "dtype: object>\n",
      "count     4\n",
      "unique    4\n",
      "top       d\n",
      "freq      1\n",
      "dtype: object\n"
     ]
    }
   ],
   "source": [
    "data = np.array(['a','b','c','d'])\n",
    "data2={'a':0,'b':1,'c':2}\n",
    "print(data)\n",
    "s = pd.Series(data)\n",
    "print(s)\n",
    "print('*'*30)\n",
    "print(s.dtype) # dtypes?\n",
    "# print(dir(s))\n",
    "print(s.index)\n",
    "list(s.index) # s의 index를 list로 \n",
    "print(t.index) # Index(['a', 'b', 'c', 'd', 'e', 'f'], dtype='object')\n",
    "list(t.index) # t 의 index를 list\n",
    "print(s[0])\n",
    "print(s.head())\n",
    "print(s.value_counts())\n",
    "print(s.value_counts(normalize=True))# 비율 전체 합은 1로 => 상대도수 분포표\n",
    "print('*'*30)\n",
    "print(s.describe)\n",
    "print(s.describe()) # top : 가장 많이 나온 value, freq : top의 개수"
   ]
  },
  {
   "cell_type": "code",
   "execution_count": 154,
   "metadata": {},
   "outputs": [
    {
     "name": "stdout",
     "output_type": "stream",
     "text": [
      "object\n"
     ]
    },
    {
     "data": {
      "text/plain": [
       "(4,)"
      ]
     },
     "execution_count": 154,
     "metadata": {},
     "output_type": "execute_result"
    }
   ],
   "source": [
    "print(s.dtypes)\n",
    "s.ndim\n",
    "s.shape"
   ]
  },
  {
   "cell_type": "code",
   "execution_count": 168,
   "metadata": {},
   "outputs": [
    {
     "name": "stdout",
     "output_type": "stream",
     "text": [
      "<class 'numpy.ndarray'>\n",
      "<class 'list'>\n",
      "[0, 1, 2, 3, 4]\n"
     ]
    }
   ],
   "source": [
    "t =np.arange(5)\n",
    "a = list(range(5))\n",
    "print(type(t))\n",
    "print(type(a))\n",
    "print(list(a))\n"
   ]
  },
  {
   "cell_type": "code",
   "execution_count": 190,
   "metadata": {},
   "outputs": [
    {
     "name": "stdout",
     "output_type": "stream",
     "text": [
      "{'Ohio': 35000, 'Texas': 71000, 'Oregon': 16000, 'Utah': 5000}\n",
      "<class 'dict'>\n",
      "Ohio      35000\n",
      "Texas     71000\n",
      "Oregon    16000\n",
      "Utah       5000\n",
      "dtype: int64\n",
      "<class 'pandas.core.series.Series'>\n",
      "******************************\n",
      "['California', 'Ohio', 'Oregon', 'Texas']\n",
      "<class 'list'>\n",
      "California        NaN\n",
      "Ohio          35000.0\n",
      "Oregon        16000.0\n",
      "Texas         71000.0\n",
      "dtype: float64\n",
      "<class 'pandas.core.series.Series'>\n"
     ]
    }
   ],
   "source": [
    "sdata = {'Ohio':35000,'Texas':71000,'Oregon':16000,'Utah':5000}\n",
    "print(sdata)\n",
    "print(type(sdata))\n",
    "dd = pd.Series(sdata)\n",
    "print(dd)\n",
    "print(type(dd))\n",
    "print('*'*30)\n",
    "states = ['California','Ohio','Oregon','Texas']\n",
    "print(states)\n",
    "print(type(states))\n",
    "dd2 = pd.Series(sdata,index=states)\n",
    "print(dd2)\n",
    "print(type(dd2))"
   ]
  },
  {
   "cell_type": "code",
   "execution_count": 191,
   "metadata": {},
   "outputs": [
    {
     "name": "stdout",
     "output_type": "stream",
     "text": [
      "Index(['Ohio', 'Texas', 'Oregon', 'Utah'], dtype='object')\n",
      "Index(['California', 'Ohio', 'Oregon', 'Texas'], dtype='object')\n",
      "Ohio      False\n",
      "Texas     False\n",
      "Oregon    False\n",
      "Utah      False\n",
      "dtype: bool\n",
      "Ohio      True\n",
      "Texas     True\n",
      "Oregon    True\n",
      "Utah      True\n",
      "dtype: bool\n"
     ]
    }
   ],
   "source": [
    "print(dd.index)\n",
    "print(dd2.index)\n",
    "print(pd.isnull(dd)) # null이 맞나 ?\n",
    "print(pd.notnull(dd)) # null이 아닌가?"
   ]
  },
  {
   "cell_type": "code",
   "execution_count": 192,
   "metadata": {},
   "outputs": [
    {
     "data": {
      "text/plain": [
       "California         NaN\n",
       "Ohio           70000.0\n",
       "Oregon         32000.0\n",
       "Texas         142000.0\n",
       "Utah               NaN\n",
       "dtype: float64"
      ]
     },
     "execution_count": 192,
     "metadata": {},
     "output_type": "execute_result"
    }
   ],
   "source": [
    "dd+dd2"
   ]
  },
  {
   "cell_type": "code",
   "execution_count": 194,
   "metadata": {},
   "outputs": [
    {
     "data": {
      "text/plain": [
       "0    1.0\n",
       "1    0.0\n",
       "2    1.0\n",
       "3    0.0\n",
       "4    NaN\n",
       "5    2.0\n",
       "6    0.0\n",
       "dtype: float64"
      ]
     },
     "execution_count": 194,
     "metadata": {},
     "output_type": "execute_result"
    }
   ],
   "source": [
    "s = pd.Series(['A','B','Aaba','Baca',np.nan,'CABA','cat'])\n",
    "s.str.count('A')"
   ]
  },
  {
   "cell_type": "code",
   "execution_count": 233,
   "metadata": {},
   "outputs": [
    {
     "name": "stdout",
     "output_type": "stream",
     "text": [
      "California    423967\n",
      "Texas         695662\n",
      "New York      141297\n",
      "Florida       170312\n",
      "Illinois      149995\n",
      "dtype: int64\n",
      "<class 'pandas.core.series.Series'>\n",
      "int64\n",
      "\n",
      "California    38332521\n",
      "Texas         26448193\n",
      "New York      19651127\n",
      "Florida       19552860\n",
      "Illinois      12882135\n",
      "dtype: int64\n",
      "              area       pop\n",
      "California  423967  38332521\n",
      "Texas       695662  26448193\n",
      "New York    141297  19651127\n",
      "Florida     170312  19552860\n",
      "Illinois    149995  12882135\n"
     ]
    },
    {
     "data": {
      "text/html": [
       "<div>\n",
       "<style scoped>\n",
       "    .dataframe tbody tr th:only-of-type {\n",
       "        vertical-align: middle;\n",
       "    }\n",
       "\n",
       "    .dataframe tbody tr th {\n",
       "        vertical-align: top;\n",
       "    }\n",
       "\n",
       "    .dataframe thead th {\n",
       "        text-align: right;\n",
       "    }\n",
       "</style>\n",
       "<table border=\"1\" class=\"dataframe\">\n",
       "  <thead>\n",
       "    <tr style=\"text-align: right;\">\n",
       "      <th></th>\n",
       "      <th>area</th>\n",
       "      <th>pop</th>\n",
       "    </tr>\n",
       "  </thead>\n",
       "  <tbody>\n",
       "    <tr>\n",
       "      <td>California</td>\n",
       "      <td>423967</td>\n",
       "      <td>38332521</td>\n",
       "    </tr>\n",
       "    <tr>\n",
       "      <td>Texas</td>\n",
       "      <td>695662</td>\n",
       "      <td>26448193</td>\n",
       "    </tr>\n",
       "    <tr>\n",
       "      <td>New York</td>\n",
       "      <td>141297</td>\n",
       "      <td>19651127</td>\n",
       "    </tr>\n",
       "    <tr>\n",
       "      <td>Florida</td>\n",
       "      <td>170312</td>\n",
       "      <td>19552860</td>\n",
       "    </tr>\n",
       "    <tr>\n",
       "      <td>Illinois</td>\n",
       "      <td>149995</td>\n",
       "      <td>12882135</td>\n",
       "    </tr>\n",
       "  </tbody>\n",
       "</table>\n",
       "</div>"
      ],
      "text/plain": [
       "              area       pop\n",
       "California  423967  38332521\n",
       "Texas       695662  26448193\n",
       "New York    141297  19651127\n",
       "Florida     170312  19552860\n",
       "Illinois    149995  12882135"
      ]
     },
     "execution_count": 233,
     "metadata": {},
     "output_type": "execute_result"
    }
   ],
   "source": [
    "import pandas as pd\n",
    "area = pd.Series({'California': 423967, 'Texas': 695662,\n",
    "                  'New York': 141297, 'Florida': 170312,\n",
    "                  'Illinois': 149995})\n",
    "pop = pd.Series({'California': 38332521, 'Texas': 26448193,\n",
    "                 'New York': 19651127, 'Florida': 19552860,\n",
    "                 'Illinois': 12882135})\n",
    "print(area)\n",
    "print(type(area))\n",
    "print(area.dtype)\n",
    "print()\n",
    "print(pop)\n",
    "\n",
    "data = pd.DataFrame({'area':area,'pop':pop})\n",
    "print(data)\n",
    "data\n"
   ]
  },
  {
   "cell_type": "code",
   "execution_count": 234,
   "metadata": {},
   "outputs": [
    {
     "name": "stdout",
     "output_type": "stream",
     "text": [
      "California    423967\n",
      "Texas         695662\n",
      "New York      141297\n",
      "Florida       170312\n",
      "Illinois      149995\n",
      "Name: area, dtype: int64\n",
      "California    423967\n",
      "Texas         695662\n",
      "New York      141297\n",
      "Florida       170312\n",
      "Illinois      149995\n",
      "Name: area, dtype: int64\n",
      "[423967 695662 141297 170312 149995]\n",
      "Index(['California', 'Texas', 'New York', 'Florida', 'Illinois'], dtype='object')\n"
     ]
    }
   ],
   "source": [
    "print(data['area'])\n",
    "print(data.area)\n",
    "print(data.area.values)\n",
    "print(data.area.index)"
   ]
  },
  {
   "cell_type": "code",
   "execution_count": 235,
   "metadata": {},
   "outputs": [
    {
     "name": "stdout",
     "output_type": "stream",
     "text": [
      "1581233\n",
      "******************************\n",
      "area      1581233\n",
      "pop     116866836\n",
      "dtype: int64\n",
      "\n",
      "California    38756488\n",
      "Texas         27143855\n",
      "New York      19792424\n",
      "Florida       19723172\n",
      "Illinois      13032130\n",
      "dtype: int64\n",
      "\n",
      "area      1581233\n",
      "pop     116866836\n",
      "dtype: int64\n",
      "******************************\n",
      "California    19378244.0\n",
      "Texas         13571927.5\n",
      "New York       9896212.0\n",
      "Florida        9861586.0\n",
      "Illinois       6516065.0\n",
      "dtype: float64\n",
      "******************************\n"
     ]
    },
    {
     "data": {
      "text/plain": [
       "True"
      ]
     },
     "execution_count": 235,
     "metadata": {},
     "output_type": "execute_result"
    }
   ],
   "source": [
    "print(sum(data.area.values))\n",
    "print('*'*30)\n",
    "print(data.sum(0))\n",
    "print()\n",
    "print(data.sum(1))\n",
    "print()\n",
    "print(data.sum())\n",
    "print('*'*30)\n",
    "print(data.mean(1))\n",
    "print('*'*30)\n",
    "data.area is data.area == 423967\n",
    "data.area is data.area\n",
    "data.area is data['area']"
   ]
  },
  {
   "cell_type": "code",
   "execution_count": 247,
   "metadata": {},
   "outputs": [
    {
     "data": {
      "text/plain": [
       "California    423967\n",
       "Texas         695662\n",
       "New York      141297\n",
       "Florida       170312\n",
       "Illinois      149995\n",
       "Name: area, dtype: int64"
      ]
     },
     "execution_count": 247,
     "metadata": {},
     "output_type": "execute_result"
    }
   ],
   "source": [
    "data['density']=data['pop']/data['area']\n",
    "data\n",
    "# data['density'] = data.pop / data.area  이건 안됨 이유모름\n",
    "\n"
   ]
  },
  {
   "cell_type": "code",
   "execution_count": 256,
   "metadata": {},
   "outputs": [
    {
     "name": "stdout",
     "output_type": "stream",
     "text": [
      "Index(['California', 'Texas', 'New York', 'Florida', 'Illinois'], dtype='object')\n",
      "[[4.23967000e+05 3.83325210e+07 9.04139261e+01]\n",
      " [6.95662000e+05 2.64481930e+07 3.80187404e+01]\n",
      " [1.41297000e+05 1.96511270e+07 1.39076746e+02]\n",
      " [1.70312000e+05 1.95528600e+07 1.14806121e+02]\n",
      " [1.49995000e+05 1.28821350e+07 8.58837628e+01]]\n"
     ]
    }
   ],
   "source": [
    "print(data.index)\n",
    "print(data.values)\n"
   ]
  },
  {
   "cell_type": "code",
   "execution_count": 257,
   "metadata": {},
   "outputs": [
    {
     "data": {
      "text/html": [
       "<div>\n",
       "<style scoped>\n",
       "    .dataframe tbody tr th:only-of-type {\n",
       "        vertical-align: middle;\n",
       "    }\n",
       "\n",
       "    .dataframe tbody tr th {\n",
       "        vertical-align: top;\n",
       "    }\n",
       "\n",
       "    .dataframe thead th {\n",
       "        text-align: right;\n",
       "    }\n",
       "</style>\n",
       "<table border=\"1\" class=\"dataframe\">\n",
       "  <thead>\n",
       "    <tr style=\"text-align: right;\">\n",
       "      <th></th>\n",
       "      <th>California</th>\n",
       "      <th>Texas</th>\n",
       "      <th>New York</th>\n",
       "      <th>Florida</th>\n",
       "      <th>Illinois</th>\n",
       "    </tr>\n",
       "  </thead>\n",
       "  <tbody>\n",
       "    <tr>\n",
       "      <td>area</td>\n",
       "      <td>4.239670e+05</td>\n",
       "      <td>6.956620e+05</td>\n",
       "      <td>1.412970e+05</td>\n",
       "      <td>1.703120e+05</td>\n",
       "      <td>1.499950e+05</td>\n",
       "    </tr>\n",
       "    <tr>\n",
       "      <td>pop</td>\n",
       "      <td>3.833252e+07</td>\n",
       "      <td>2.644819e+07</td>\n",
       "      <td>1.965113e+07</td>\n",
       "      <td>1.955286e+07</td>\n",
       "      <td>1.288214e+07</td>\n",
       "    </tr>\n",
       "    <tr>\n",
       "      <td>density</td>\n",
       "      <td>9.041393e+01</td>\n",
       "      <td>3.801874e+01</td>\n",
       "      <td>1.390767e+02</td>\n",
       "      <td>1.148061e+02</td>\n",
       "      <td>8.588376e+01</td>\n",
       "    </tr>\n",
       "  </tbody>\n",
       "</table>\n",
       "</div>"
      ],
      "text/plain": [
       "           California         Texas      New York       Florida      Illinois\n",
       "area     4.239670e+05  6.956620e+05  1.412970e+05  1.703120e+05  1.499950e+05\n",
       "pop      3.833252e+07  2.644819e+07  1.965113e+07  1.955286e+07  1.288214e+07\n",
       "density  9.041393e+01  3.801874e+01  1.390767e+02  1.148061e+02  8.588376e+01"
      ]
     },
     "execution_count": 257,
     "metadata": {},
     "output_type": "execute_result"
    }
   ],
   "source": [
    "data.T"
   ]
  },
  {
   "cell_type": "code",
   "execution_count": 259,
   "metadata": {},
   "outputs": [
    {
     "data": {
      "text/plain": [
       "array([4.23967000e+05, 3.83325210e+07, 9.04139261e+01])"
      ]
     },
     "execution_count": 259,
     "metadata": {},
     "output_type": "execute_result"
    }
   ],
   "source": [
    "data.values[0]"
   ]
  },
  {
   "cell_type": "markdown",
   "metadata": {},
   "source": [
    "## pandas dataframe에서 인덱싱"
   ]
  },
  {
   "cell_type": "code",
   "execution_count": 264,
   "metadata": {},
   "outputs": [
    {
     "name": "stdout",
     "output_type": "stream",
     "text": [
      "423967\n",
      "              area       pop    density\n",
      "California  423967  38332521  90.413926\n",
      "Texas       695662  26448193  38.018740\n"
     ]
    }
   ],
   "source": [
    "print(data.iloc[0,0])\n",
    "print(data.iloc[:2][:])"
   ]
  },
  {
   "cell_type": "code",
   "execution_count": 273,
   "metadata": {},
   "outputs": [
    {
     "name": "stdout",
     "output_type": "stream",
     "text": [
      "              area       pop     density\n",
      "California  423967  38332521   90.413926\n",
      "Texas       695662  26448193   38.018740\n",
      "New York    141297  19651127  139.076746\n",
      "Florida     170312  19552860  114.806121\n",
      "\n",
      "Empty DataFrame\n",
      "Columns: [area, pop, density]\n",
      "Index: []\n"
     ]
    },
    {
     "data": {
      "text/plain": [
       "Index(['California', 'Texas', 'New York', 'Florida', 'Illinois'], dtype='object')"
      ]
     },
     "execution_count": 273,
     "metadata": {},
     "output_type": "execute_result"
    }
   ],
   "source": [
    "print(data['California' : 'Florida'])\n",
    "print()\n",
    "print(data['Texas':'California'])\n",
    "# indax 순서를 맞춰서 해줘야함\n",
    "data.index"
   ]
  },
  {
   "cell_type": "code",
   "execution_count": 325,
   "metadata": {},
   "outputs": [],
   "source": [
    "import pandas as pd\n",
    "import numpy as np\n",
    "\n",
    "d = {'Name':pd.Series(['김하나','이하나','삼하나','사하나','오하나','육하나','칠하나', '팔하나']),\n",
    "   'Age':pd.Series([25,26,25,23,30,29,23]),\n",
    "   'Rating':pd.Series([4.23,3.24,3.98,2.56,3.20,4.6,3.8])}"
   ]
  },
  {
   "cell_type": "code",
   "execution_count": 326,
   "metadata": {},
   "outputs": [
    {
     "name": "stdout",
     "output_type": "stream",
     "text": [
      "[RangeIndex(start=0, stop=8, step=1), Index(['Name', 'Age', 'Rating'], dtype='object')]\n",
      "RangeIndex(start=0, stop=8, step=1)\n",
      "Index(['Name', 'Age', 'Rating'], dtype='object')\n"
     ]
    }
   ],
   "source": [
    "df = pd.DataFrame(d)\n",
    "print(df.axes) # index와 columns\n",
    "print(df.index) # index\n",
    "print(df.columns) # columns 가로 인덱스?"
   ]
  },
  {
   "cell_type": "code",
   "execution_count": 327,
   "metadata": {},
   "outputs": [
    {
     "name": "stdout",
     "output_type": "stream",
     "text": [
      "2\n",
      "(8, 3)\n",
      "24\n",
      "[['김하나' 25.0 4.23]\n",
      " ['이하나' 26.0 3.24]\n",
      " ['삼하나' 25.0 3.98]\n",
      " ['사하나' 23.0 2.56]\n",
      " ['오하나' 30.0 3.2]\n",
      " ['육하나' 29.0 4.6]\n",
      " ['칠하나' 23.0 3.8]\n",
      " ['팔하나' nan nan]]\n"
     ]
    }
   ],
   "source": [
    "print(df.ndim)\n",
    "print(df.shape)\n",
    "print(df.size)\n",
    "print(df.values)"
   ]
  },
  {
   "cell_type": "code",
   "execution_count": 328,
   "metadata": {},
   "outputs": [
    {
     "name": "stdout",
     "output_type": "stream",
     "text": [
      "  Name   Age  Rating\n",
      "0  김하나  25.0    4.23\n",
      "1  이하나  26.0    3.24\n",
      "  Name   Age  Rating\n",
      "6  칠하나  23.0     3.8\n",
      "7  팔하나   NaN     NaN\n"
     ]
    }
   ],
   "source": [
    "print(df.head(2))\n",
    "print(df.tail(2))"
   ]
  },
  {
   "cell_type": "code",
   "execution_count": 338,
   "metadata": {},
   "outputs": [
    {
     "name": "stdout",
     "output_type": "stream",
     "text": [
      "Name      김하나이하나삼하나사하나오하나육하나칠하나팔하나\n",
      "Age                            181\n",
      "Rating                       25.61\n",
      "dtype: object\n",
      "name을 빼고 인덱싱 해서\n",
      "Age       181.00\n",
      "Rating     25.61\n",
      "dtype: float64\n",
      "\n",
      "Age       2.734262\n",
      "Rating    0.698628\n",
      "dtype: float64\n",
      "\n",
      "0    14.615\n",
      "1    14.620\n",
      "2    14.490\n",
      "3    12.780\n",
      "4    16.600\n",
      "5    16.800\n",
      "6    13.400\n",
      "7       NaN\n",
      "dtype: float64\n",
      "Age       25.857143\n",
      "Rating     3.658571\n",
      "dtype: float64\n"
     ]
    }
   ],
   "source": [
    "print(df.sum())\n",
    "print('name을 빼고 인덱싱 해서')\n",
    "print(df.iloc[:,[1,2]].sum())\n",
    "print()\n",
    "print(df.std())\n",
    "print()\n",
    "print(df.mean(1)) # default = 0\n",
    "print(df.mean())"
   ]
  },
  {
   "cell_type": "code",
   "execution_count": 343,
   "metadata": {},
   "outputs": [
    {
     "name": "stdout",
     "output_type": "stream",
     "text": [
      "             Age    Rating\n",
      "count   7.000000  7.000000\n",
      "mean   25.857143  3.658571\n",
      "std     2.734262  0.698628\n",
      "min    23.000000  2.560000\n",
      "25%    24.000000  3.220000\n",
      "50%    25.000000  3.800000\n",
      "75%    27.500000  4.105000\n",
      "max    30.000000  4.600000\n",
      "Age       25.0\n",
      "Rating     3.8\n",
      "dtype: float64\n"
     ]
    }
   ],
   "source": [
    "print(df.describe())\n",
    "print(df.median())"
   ]
  },
  {
   "cell_type": "code",
   "execution_count": 345,
   "metadata": {},
   "outputs": [
    {
     "name": "stdout",
     "output_type": "stream",
     "text": [
      "       Name\n",
      "count     8\n",
      "unique    8\n",
      "top     사하나\n",
      "freq      1\n",
      "\n",
      "       Name        Age    Rating\n",
      "count     8   7.000000  7.000000\n",
      "unique    8        NaN       NaN\n",
      "top     사하나        NaN       NaN\n",
      "freq      1        NaN       NaN\n",
      "mean    NaN  25.857143  3.658571\n",
      "std     NaN   2.734262  0.698628\n",
      "min     NaN  23.000000  2.560000\n",
      "25%     NaN  24.000000  3.220000\n",
      "50%     NaN  25.000000  3.800000\n",
      "75%     NaN  27.500000  4.105000\n",
      "max     NaN  30.000000  4.600000\n"
     ]
    }
   ],
   "source": [
    "print(df.describe(include=['object']))\n",
    "print()\n",
    "print(df.describe(include='all'))"
   ]
  },
  {
   "cell_type": "code",
   "execution_count": 346,
   "metadata": {},
   "outputs": [
    {
     "data": {
      "text/html": [
       "<div>\n",
       "<style scoped>\n",
       "    .dataframe tbody tr th:only-of-type {\n",
       "        vertical-align: middle;\n",
       "    }\n",
       "\n",
       "    .dataframe tbody tr th {\n",
       "        vertical-align: top;\n",
       "    }\n",
       "\n",
       "    .dataframe thead th {\n",
       "        text-align: right;\n",
       "    }\n",
       "</style>\n",
       "<table border=\"1\" class=\"dataframe\">\n",
       "  <thead>\n",
       "    <tr style=\"text-align: right;\">\n",
       "      <th></th>\n",
       "      <th>year</th>\n",
       "      <th>state</th>\n",
       "      <th>pop</th>\n",
       "      <th>debt</th>\n",
       "    </tr>\n",
       "  </thead>\n",
       "  <tbody>\n",
       "    <tr>\n",
       "      <td>one</td>\n",
       "      <td>2000</td>\n",
       "      <td>경기</td>\n",
       "      <td>1.5</td>\n",
       "      <td>NaN</td>\n",
       "    </tr>\n",
       "    <tr>\n",
       "      <td>two</td>\n",
       "      <td>2001</td>\n",
       "      <td>강원</td>\n",
       "      <td>1.7</td>\n",
       "      <td>NaN</td>\n",
       "    </tr>\n",
       "    <tr>\n",
       "      <td>three</td>\n",
       "      <td>2002</td>\n",
       "      <td>서울</td>\n",
       "      <td>3.6</td>\n",
       "      <td>NaN</td>\n",
       "    </tr>\n",
       "    <tr>\n",
       "      <td>four</td>\n",
       "      <td>2001</td>\n",
       "      <td>충북</td>\n",
       "      <td>2.4</td>\n",
       "      <td>NaN</td>\n",
       "    </tr>\n",
       "    <tr>\n",
       "      <td>five</td>\n",
       "      <td>2002</td>\n",
       "      <td>인천</td>\n",
       "      <td>2.9</td>\n",
       "      <td>NaN</td>\n",
       "    </tr>\n",
       "  </tbody>\n",
       "</table>\n",
       "</div>"
      ],
      "text/plain": [
       "       year state  pop debt\n",
       "one    2000    경기  1.5  NaN\n",
       "two    2001    강원  1.7  NaN\n",
       "three  2002    서울  3.6  NaN\n",
       "four   2001    충북  2.4  NaN\n",
       "five   2002    인천  2.9  NaN"
      ]
     },
     "execution_count": 346,
     "metadata": {},
     "output_type": "execute_result"
    }
   ],
   "source": [
    "data={'state': ['경기', '강원', '서울', '충북', '인천'],\n",
    "      'year':[2000,2001,2002,2001,2002],\n",
    "      'pop':[1.5,1.7,3.6,2.4,2.9]}\n",
    "\n",
    "frame2=pd.DataFrame(data, columns=['year', 'state', 'pop', 'debt'],\n",
    "                 index=['one', 'two', 'three', 'four', 'five']) \n",
    "frame2"
   ]
  },
  {
   "cell_type": "code",
   "execution_count": 348,
   "metadata": {},
   "outputs": [
    {
     "name": "stdout",
     "output_type": "stream",
     "text": [
      "one      경기\n",
      "two      강원\n",
      "three    서울\n",
      "four     충북\n",
      "five     인천\n",
      "Name: state, dtype: object\n"
     ]
    }
   ],
   "source": [
    "print(frame2.state)"
   ]
  },
  {
   "cell_type": "code",
   "execution_count": 349,
   "metadata": {},
   "outputs": [
    {
     "name": "stdout",
     "output_type": "stream",
     "text": [
      "       year state  pop  debt\n",
      "one    2000    경기  1.5  16.5\n",
      "two    2001    강원  1.7  16.5\n",
      "three  2002    서울  3.6  16.5\n",
      "four   2001    충북  2.4  16.5\n",
      "five   2002    인천  2.9  16.5\n"
     ]
    }
   ],
   "source": [
    "frame2.debt = 16.5\n",
    "print(frame2)"
   ]
  },
  {
   "cell_type": "code",
   "execution_count": 351,
   "metadata": {},
   "outputs": [
    {
     "name": "stdout",
     "output_type": "stream",
     "text": [
      "       year state  pop  debt\n",
      "one    2000    경기  1.5   NaN\n",
      "two    2001    강원  1.7  -1.2\n",
      "three  2002    서울  3.6   NaN\n",
      "four   2001    충북  2.4  -1.5\n",
      "five   2002    인천  2.9  -1.7\n"
     ]
    },
    {
     "data": {
      "text/html": [
       "<div>\n",
       "<style scoped>\n",
       "    .dataframe tbody tr th:only-of-type {\n",
       "        vertical-align: middle;\n",
       "    }\n",
       "\n",
       "    .dataframe tbody tr th {\n",
       "        vertical-align: top;\n",
       "    }\n",
       "\n",
       "    .dataframe thead th {\n",
       "        text-align: right;\n",
       "    }\n",
       "</style>\n",
       "<table border=\"1\" class=\"dataframe\">\n",
       "  <thead>\n",
       "    <tr style=\"text-align: right;\">\n",
       "      <th></th>\n",
       "      <th>year</th>\n",
       "      <th>state</th>\n",
       "      <th>pop</th>\n",
       "      <th>debt</th>\n",
       "    </tr>\n",
       "  </thead>\n",
       "  <tbody>\n",
       "    <tr>\n",
       "      <td>one</td>\n",
       "      <td>2000</td>\n",
       "      <td>경기</td>\n",
       "      <td>1.5</td>\n",
       "      <td>NaN</td>\n",
       "    </tr>\n",
       "    <tr>\n",
       "      <td>two</td>\n",
       "      <td>2001</td>\n",
       "      <td>강원</td>\n",
       "      <td>1.7</td>\n",
       "      <td>-1.2</td>\n",
       "    </tr>\n",
       "    <tr>\n",
       "      <td>three</td>\n",
       "      <td>2002</td>\n",
       "      <td>서울</td>\n",
       "      <td>3.6</td>\n",
       "      <td>NaN</td>\n",
       "    </tr>\n",
       "    <tr>\n",
       "      <td>four</td>\n",
       "      <td>2001</td>\n",
       "      <td>충북</td>\n",
       "      <td>2.4</td>\n",
       "      <td>-1.5</td>\n",
       "    </tr>\n",
       "    <tr>\n",
       "      <td>five</td>\n",
       "      <td>2002</td>\n",
       "      <td>인천</td>\n",
       "      <td>2.9</td>\n",
       "      <td>-1.7</td>\n",
       "    </tr>\n",
       "  </tbody>\n",
       "</table>\n",
       "</div>"
      ],
      "text/plain": [
       "       year state  pop  debt\n",
       "one    2000    경기  1.5   NaN\n",
       "two    2001    강원  1.7  -1.2\n",
       "three  2002    서울  3.6   NaN\n",
       "four   2001    충북  2.4  -1.5\n",
       "five   2002    인천  2.9  -1.7"
      ]
     },
     "execution_count": 351,
     "metadata": {},
     "output_type": "execute_result"
    }
   ],
   "source": [
    "frame2.debt = pd.Series([-1.2,-1.5,-1.7], index=['two','four','five'])\n",
    "print(frame2)\n",
    "frame2"
   ]
  },
  {
   "cell_type": "code",
   "execution_count": 353,
   "metadata": {},
   "outputs": [
    {
     "data": {
      "text/html": [
       "<div>\n",
       "<style scoped>\n",
       "    .dataframe tbody tr th:only-of-type {\n",
       "        vertical-align: middle;\n",
       "    }\n",
       "\n",
       "    .dataframe tbody tr th {\n",
       "        vertical-align: top;\n",
       "    }\n",
       "\n",
       "    .dataframe thead th {\n",
       "        text-align: right;\n",
       "    }\n",
       "</style>\n",
       "<table border=\"1\" class=\"dataframe\">\n",
       "  <thead>\n",
       "    <tr style=\"text-align: right;\">\n",
       "      <th></th>\n",
       "      <th>year</th>\n",
       "      <th>state</th>\n",
       "      <th>pop</th>\n",
       "      <th>debt</th>\n",
       "      <th>estern</th>\n",
       "    </tr>\n",
       "  </thead>\n",
       "  <tbody>\n",
       "    <tr>\n",
       "      <td>one</td>\n",
       "      <td>2000</td>\n",
       "      <td>경기</td>\n",
       "      <td>1.5</td>\n",
       "      <td>NaN</td>\n",
       "      <td>False</td>\n",
       "    </tr>\n",
       "    <tr>\n",
       "      <td>two</td>\n",
       "      <td>2001</td>\n",
       "      <td>강원</td>\n",
       "      <td>1.7</td>\n",
       "      <td>-1.2</td>\n",
       "      <td>False</td>\n",
       "    </tr>\n",
       "    <tr>\n",
       "      <td>three</td>\n",
       "      <td>2002</td>\n",
       "      <td>서울</td>\n",
       "      <td>3.6</td>\n",
       "      <td>NaN</td>\n",
       "      <td>True</td>\n",
       "    </tr>\n",
       "    <tr>\n",
       "      <td>four</td>\n",
       "      <td>2001</td>\n",
       "      <td>충북</td>\n",
       "      <td>2.4</td>\n",
       "      <td>-1.5</td>\n",
       "      <td>False</td>\n",
       "    </tr>\n",
       "    <tr>\n",
       "      <td>five</td>\n",
       "      <td>2002</td>\n",
       "      <td>인천</td>\n",
       "      <td>2.9</td>\n",
       "      <td>-1.7</td>\n",
       "      <td>False</td>\n",
       "    </tr>\n",
       "  </tbody>\n",
       "</table>\n",
       "</div>"
      ],
      "text/plain": [
       "       year state  pop  debt  estern\n",
       "one    2000    경기  1.5   NaN   False\n",
       "two    2001    강원  1.7  -1.2   False\n",
       "three  2002    서울  3.6   NaN    True\n",
       "four   2001    충북  2.4  -1.5   False\n",
       "five   2002    인천  2.9  -1.7   False"
      ]
     },
     "execution_count": 353,
     "metadata": {},
     "output_type": "execute_result"
    }
   ],
   "source": [
    "frame2['estern'] = frame2.state == '서울'\n",
    "frame2"
   ]
  },
  {
   "cell_type": "markdown",
   "metadata": {},
   "source": [
    "## iloc[] : 숫자형으로 인덱싱\n",
    "## loc[] : 문자형으로 인덱싱"
   ]
  },
  {
   "cell_type": "code",
   "execution_count": 358,
   "metadata": {},
   "outputs": [
    {
     "name": "stdout",
     "output_type": "stream",
     "text": [
      "2000\n",
      "2000\n"
     ]
    }
   ],
   "source": [
    "print(frame2['year']['one']) # 열,행\n",
    "print(frame2.loc['one','year']) # 행,열"
   ]
  },
  {
   "cell_type": "code",
   "execution_count": 361,
   "metadata": {},
   "outputs": [
    {
     "data": {
      "text/html": [
       "<div>\n",
       "<style scoped>\n",
       "    .dataframe tbody tr th:only-of-type {\n",
       "        vertical-align: middle;\n",
       "    }\n",
       "\n",
       "    .dataframe tbody tr th {\n",
       "        vertical-align: top;\n",
       "    }\n",
       "\n",
       "    .dataframe thead th {\n",
       "        text-align: right;\n",
       "    }\n",
       "</style>\n",
       "<table border=\"1\" class=\"dataframe\">\n",
       "  <thead>\n",
       "    <tr style=\"text-align: right;\">\n",
       "      <th></th>\n",
       "      <th>지역</th>\n",
       "      <th>2015</th>\n",
       "      <th>2016</th>\n",
       "      <th>2017</th>\n",
       "      <th>2018</th>\n",
       "      <th>2015-2018 증가율</th>\n",
       "    </tr>\n",
       "  </thead>\n",
       "  <tbody>\n",
       "    <tr>\n",
       "      <td>서울</td>\n",
       "      <td>수도권</td>\n",
       "      <td>9853972</td>\n",
       "      <td>9762546</td>\n",
       "      <td>9631482</td>\n",
       "      <td>9904312</td>\n",
       "      <td>0.0283</td>\n",
       "    </tr>\n",
       "    <tr>\n",
       "      <td>부산</td>\n",
       "      <td>경상권</td>\n",
       "      <td>3655437</td>\n",
       "      <td>3512547</td>\n",
       "      <td>3393191</td>\n",
       "      <td>3448737</td>\n",
       "      <td>0.0163</td>\n",
       "    </tr>\n",
       "    <tr>\n",
       "      <td>인천</td>\n",
       "      <td>수도권</td>\n",
       "      <td>2466338</td>\n",
       "      <td>2517680</td>\n",
       "      <td>2632035</td>\n",
       "      <td>2890451</td>\n",
       "      <td>0.0982</td>\n",
       "    </tr>\n",
       "    <tr>\n",
       "      <td>데구</td>\n",
       "      <td>경상권</td>\n",
       "      <td>2473990</td>\n",
       "      <td>2456016</td>\n",
       "      <td>2431774</td>\n",
       "      <td>2466052</td>\n",
       "      <td>0.0141</td>\n",
       "    </tr>\n",
       "  </tbody>\n",
       "</table>\n",
       "</div>"
      ],
      "text/plain": [
       "     지역     2015     2016     2017     2018  2015-2018 증가율\n",
       "서울  수도권  9853972  9762546  9631482  9904312         0.0283\n",
       "부산  경상권  3655437  3512547  3393191  3448737         0.0163\n",
       "인천  수도권  2466338  2517680  2632035  2890451         0.0982\n",
       "데구  경상권  2473990  2456016  2431774  2466052         0.0141"
      ]
     },
     "execution_count": 361,
     "metadata": {},
     "output_type": "execute_result"
    }
   ],
   "source": [
    "data = {'지역' : ['수도권','경상권','수도권','경상권'],\n",
    "           '2018' : [9904312,3448737,2890451,2466052],\n",
    "           '2017' : [9631482,3393191,2632035,2431774],\n",
    "           '2016' : [9762546,3512547,2517680,2456016],\n",
    "           '2015' : [9853972,3655437,2466338,2473990],\n",
    "           '2015-2018 증가율' : [0.0283,0.0163,0.0982,0.0141]}\n",
    "frame = pd.DataFrame(data,columns = ['지역','2015','2016','2017','2018','2015-2018 증가율']\n",
    "                     ,index = ['서울','부산','인천','데구'])\n",
    "frame"
   ]
  },
  {
   "cell_type": "code",
   "execution_count": null,
   "metadata": {},
   "outputs": [],
   "source": []
  },
  {
   "cell_type": "code",
   "execution_count": null,
   "metadata": {},
   "outputs": [],
   "source": []
  }
 ],
 "metadata": {
  "kernelspec": {
   "display_name": "Python 3",
   "language": "python",
   "name": "python3"
  },
  "language_info": {
   "codemirror_mode": {
    "name": "ipython",
    "version": 3
   },
   "file_extension": ".py",
   "mimetype": "text/x-python",
   "name": "python",
   "nbconvert_exporter": "python",
   "pygments_lexer": "ipython3",
   "version": "3.7.4"
  }
 },
 "nbformat": 4,
 "nbformat_minor": 2
}
