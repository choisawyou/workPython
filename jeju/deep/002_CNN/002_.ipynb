{
 "cells": [
  {
   "cell_type": "code",
   "execution_count": 1,
   "metadata": {},
   "outputs": [],
   "source": [
    "import warnings\n",
    "warnings.filterwarnings(action='ignore')"
   ]
  },
  {
   "cell_type": "code",
   "execution_count": 2,
   "metadata": {},
   "outputs": [],
   "source": [
    "# FFNN"
   ]
  },
  {
   "cell_type": "code",
   "execution_count": 3,
   "metadata": {},
   "outputs": [
    {
     "name": "stdout",
     "output_type": "stream",
     "text": [
      "WARNING:tensorflow:From <ipython-input-3-5152c91d657a>:3: read_data_sets (from tensorflow.contrib.learn.python.learn.datasets.mnist) is deprecated and will be removed in a future version.\n",
      "Instructions for updating:\n",
      "Please use alternatives such as official/mnist/dataset.py from tensorflow/models.\n",
      "WARNING:tensorflow:From C:\\Users\\ICT01_02\\Anaconda3\\lib\\site-packages\\tensorflow\\contrib\\learn\\python\\learn\\datasets\\mnist.py:260: maybe_download (from tensorflow.contrib.learn.python.learn.datasets.base) is deprecated and will be removed in a future version.\n",
      "Instructions for updating:\n",
      "Please write your own downloading logic.\n",
      "WARNING:tensorflow:From C:\\Users\\ICT01_02\\Anaconda3\\lib\\site-packages\\tensorflow\\contrib\\learn\\python\\learn\\datasets\\mnist.py:262: extract_images (from tensorflow.contrib.learn.python.learn.datasets.mnist) is deprecated and will be removed in a future version.\n",
      "Instructions for updating:\n",
      "Please use tf.data to implement this functionality.\n",
      "Extracting /tmp/data/train-images-idx3-ubyte.gz\n",
      "WARNING:tensorflow:From C:\\Users\\ICT01_02\\Anaconda3\\lib\\site-packages\\tensorflow\\contrib\\learn\\python\\learn\\datasets\\mnist.py:267: extract_labels (from tensorflow.contrib.learn.python.learn.datasets.mnist) is deprecated and will be removed in a future version.\n",
      "Instructions for updating:\n",
      "Please use tf.data to implement this functionality.\n",
      "Extracting /tmp/data/train-labels-idx1-ubyte.gz\n",
      "WARNING:tensorflow:From C:\\Users\\ICT01_02\\Anaconda3\\lib\\site-packages\\tensorflow\\contrib\\learn\\python\\learn\\datasets\\mnist.py:110: dense_to_one_hot (from tensorflow.contrib.learn.python.learn.datasets.mnist) is deprecated and will be removed in a future version.\n",
      "Instructions for updating:\n",
      "Please use tf.one_hot on tensors.\n",
      "Extracting /tmp/data/t10k-images-idx3-ubyte.gz\n",
      "Extracting /tmp/data/t10k-labels-idx1-ubyte.gz\n",
      "WARNING:tensorflow:From C:\\Users\\ICT01_02\\Anaconda3\\lib\\site-packages\\tensorflow\\contrib\\learn\\python\\learn\\datasets\\mnist.py:290: DataSet.__init__ (from tensorflow.contrib.learn.python.learn.datasets.mnist) is deprecated and will be removed in a future version.\n",
      "Instructions for updating:\n",
      "Please use alternatives such as official/mnist/dataset.py from tensorflow/models.\n"
     ]
    }
   ],
   "source": [
    "from tensorflow.examples.tutorials.mnist import input_data\n",
    "# target : 10000000\n",
    "mnist = input_data.read_data_sets('/tmp/data/', one_hot=True) # 다운로드 위치\n",
    "import tensorflow as tf"
   ]
  },
  {
   "cell_type": "code",
   "execution_count": 4,
   "metadata": {},
   "outputs": [
    {
     "name": "stdout",
     "output_type": "stream",
     "text": [
      "(128, 784)\n"
     ]
    }
   ],
   "source": [
    "# 128장의 이미지를 random 하게 공급\n",
    "batch_x, batch_y = mnist.train.next_batch(128)\n",
    "print(batch_x.shape) # 128장 * 784(가로x세로) 이미지가 일렬로 들어왔다(flatten). 28x28\n",
    "learning_rate = 0.1 # hyper parameter\n",
    "num_steps = 500 # epoch 세대\n",
    "batch_size = 128 # mini batch 이유 : 속도를 높이고, 지역해 문제 극복\n",
    "display_step =100 # 데이터 시각화"
   ]
  },
  {
   "cell_type": "code",
   "execution_count": 5,
   "metadata": {},
   "outputs": [],
   "source": [
    "# 히든 에이러가 2개\n",
    "# 784(픽셀 1개를 변수로 ) => 784x256 -> 256x256 -> 256x10\n",
    "n_hidden_1 = 256\n",
    "n_hidden_2 = 256\n",
    "num_input = 784\n",
    "num_classes = 10 # target 0 ~ 9\n",
    "X = tf.placeholder('float', [None, num_input]) # 128 x 784\n",
    "Y = tf.placeholder('float', [None, num_classes]) # 128 x 10"
   ]
  },
  {
   "cell_type": "code",
   "execution_count": 6,
   "metadata": {},
   "outputs": [],
   "source": [
    "# 가중치 : 설명렬, 계수\n",
    "weights = {\n",
    "    # 784x256\n",
    "    'h1':tf.Variable(tf.random_normal([num_input, n_hidden_1])),\n",
    "    # 256x256\n",
    "    'h2':tf.Variable(tf.random_normal([n_hidden_1, n_hidden_2])),\n",
    "    # 256x10\n",
    "    'out':tf.Variable(tf.random_normal([n_hidden_2, num_classes])),\n",
    "}\n",
    "\n",
    "# bias : activation\n",
    "biases = {\n",
    "    # 256, 변수 개수 만큼\n",
    "    'b1':tf.Variable(tf.random_normal([n_hidden_1])),\n",
    "    # 256\n",
    "    'b2':tf.Variable(tf.random_normal([n_hidden_2])),\n",
    "    # 10\n",
    "    'out':tf.Variable(tf.random_normal([num_classes])),\n",
    "}"
   ]
  },
  {
   "cell_type": "code",
   "execution_count": 7,
   "metadata": {},
   "outputs": [],
   "source": [
    "def neural_net(x):\n",
    "    # 128x784, 784x256 => 128x256 전달 데이터 (tensor)\n",
    "    layer_1 = tf.add(tf.matmul(x, weights['h1']), biases['b1'])\n",
    "    # 128x256, 256x256 => 128x256\n",
    "    layer_2 = tf.add(tf.matmul(layer_1, weights['h2']), biases['b2'])\n",
    "    # 128x256, 256x10\n",
    "    out_layer = tf.add(tf.matmul(layer_2, weights['out']), biases['out'])\n",
    "    return out_layer"
   ]
  },
  {
   "cell_type": "code",
   "execution_count": 8,
   "metadata": {},
   "outputs": [],
   "source": [
    "logits = neural_net(X)\n",
    "# 원하인코드된 값 * log(확률값)\n",
    "# 경사하강법 -> 미분가능 -> 분류\n",
    "# softmat 확률값으로 계산\n",
    "loss_op = tf.reduce_mean(tf.nn.softmax_cross_entropy_with_logits_v2(logits = logits, labels=Y))\n",
    "\n",
    "# 최적화기 : 기울기,  학숩율\n",
    "# adagrad : learning-rate 처음엔 크게 -> 점점 작게 끝나지않아도 0으로 만든다\n",
    "# momentum + propgrad() : adaptive 적응적으로 현재 상태를 보고\n",
    "optimizer = tf.train.AdamOptimizer(learning_rate=learning_rate)\n",
    "train_op = optimizer.minimize(loss_op)\n",
    "\n",
    "# 가장큰값의 인덱스를 구함(one-hot-encoding) => target\n",
    "# ture, false => 0,1로 나온다\n",
    "correct_pred = tf.equal(tf.argmax(logits, 1), tf.argmax(Y,1))\n",
    "\n",
    "# 형번환\n",
    "# 합을 평균함\n",
    "accuracy = tf.reduce_mean(tf.cast(correct_pred, tf.float32))\n",
    "# 초기화\n",
    "init = tf.global_variables_initializer()"
   ]
  },
  {
   "cell_type": "code",
   "execution_count": 9,
   "metadata": {},
   "outputs": [
    {
     "name": "stdout",
     "output_type": "stream",
     "text": [
      "Step1Minibatch Loss  : 7101.0884, Training Accuracy : 0.375\n",
      "Step100Minibatch Loss  : 231.6958, Training Accuracy : 0.906\n",
      "Step200Minibatch Loss  : 172.1407, Training Accuracy : 0.844\n",
      "Step300Minibatch Loss  : 126.9118, Training Accuracy : 0.867\n",
      "Step400Minibatch Loss  : 44.7057, Training Accuracy : 0.883\n",
      "Step500Minibatch Loss  : 35.3235, Training Accuracy : 0.906\n",
      "테스트 정확도 : \n",
      " 0.8595\n"
     ]
    }
   ],
   "source": [
    "with tf.Session() as sess: # GPU 네트워크 연결 => 일반화\n",
    "    sess.run(init)\n",
    "    for step in range(1, num_steps+1): # epoch\n",
    "        # 128x784, 128x10\n",
    "        batch_x, batch_y = mnist.train.next_batch(batch_size)\n",
    "        sess.run(train_op, feed_dict={X:batch_x, Y:batch_y})\n",
    "        if step % display_step ==0 or step == 1:\n",
    "            loss, acc = sess.run([loss_op, accuracy], feed_dict={X:batch_x, Y:batch_y})\n",
    "            print('Step'+str(step)+'Minibatch Loss  : {:.4f}'.format(loss)+', Training Accuracy : {:.3f}'.format(acc))\n",
    "    print('테스트 정확도 : \\n',sess.run(accuracy, feed_dict={X:mnist.test.images, Y:mnist.test.labels}))"
   ]
  },
  {
   "cell_type": "code",
   "execution_count": 10,
   "metadata": {},
   "outputs": [
    {
     "name": "stdout",
     "output_type": "stream",
     "text": [
      "{'data': array([[6.3200e-03, 1.8000e+01, 2.3100e+00, ..., 1.5300e+01, 3.9690e+02,\n",
      "        4.9800e+00],\n",
      "       [2.7310e-02, 0.0000e+00, 7.0700e+00, ..., 1.7800e+01, 3.9690e+02,\n",
      "        9.1400e+00],\n",
      "       [2.7290e-02, 0.0000e+00, 7.0700e+00, ..., 1.7800e+01, 3.9283e+02,\n",
      "        4.0300e+00],\n",
      "       ...,\n",
      "       [6.0760e-02, 0.0000e+00, 1.1930e+01, ..., 2.1000e+01, 3.9690e+02,\n",
      "        5.6400e+00],\n",
      "       [1.0959e-01, 0.0000e+00, 1.1930e+01, ..., 2.1000e+01, 3.9345e+02,\n",
      "        6.4800e+00],\n",
      "       [4.7410e-02, 0.0000e+00, 1.1930e+01, ..., 2.1000e+01, 3.9690e+02,\n",
      "        7.8800e+00]]), 'target': array([24. , 21.6, 34.7, 33.4, 36.2, 28.7, 22.9, 27.1, 16.5, 18.9, 15. ,\n",
      "       18.9, 21.7, 20.4, 18.2, 19.9, 23.1, 17.5, 20.2, 18.2, 13.6, 19.6,\n",
      "       15.2, 14.5, 15.6, 13.9, 16.6, 14.8, 18.4, 21. , 12.7, 14.5, 13.2,\n",
      "       13.1, 13.5, 18.9, 20. , 21. , 24.7, 30.8, 34.9, 26.6, 25.3, 24.7,\n",
      "       21.2, 19.3, 20. , 16.6, 14.4, 19.4, 19.7, 20.5, 25. , 23.4, 18.9,\n",
      "       35.4, 24.7, 31.6, 23.3, 19.6, 18.7, 16. , 22.2, 25. , 33. , 23.5,\n",
      "       19.4, 22. , 17.4, 20.9, 24.2, 21.7, 22.8, 23.4, 24.1, 21.4, 20. ,\n",
      "       20.8, 21.2, 20.3, 28. , 23.9, 24.8, 22.9, 23.9, 26.6, 22.5, 22.2,\n",
      "       23.6, 28.7, 22.6, 22. , 22.9, 25. , 20.6, 28.4, 21.4, 38.7, 43.8,\n",
      "       33.2, 27.5, 26.5, 18.6, 19.3, 20.1, 19.5, 19.5, 20.4, 19.8, 19.4,\n",
      "       21.7, 22.8, 18.8, 18.7, 18.5, 18.3, 21.2, 19.2, 20.4, 19.3, 22. ,\n",
      "       20.3, 20.5, 17.3, 18.8, 21.4, 15.7, 16.2, 18. , 14.3, 19.2, 19.6,\n",
      "       23. , 18.4, 15.6, 18.1, 17.4, 17.1, 13.3, 17.8, 14. , 14.4, 13.4,\n",
      "       15.6, 11.8, 13.8, 15.6, 14.6, 17.8, 15.4, 21.5, 19.6, 15.3, 19.4,\n",
      "       17. , 15.6, 13.1, 41.3, 24.3, 23.3, 27. , 50. , 50. , 50. , 22.7,\n",
      "       25. , 50. , 23.8, 23.8, 22.3, 17.4, 19.1, 23.1, 23.6, 22.6, 29.4,\n",
      "       23.2, 24.6, 29.9, 37.2, 39.8, 36.2, 37.9, 32.5, 26.4, 29.6, 50. ,\n",
      "       32. , 29.8, 34.9, 37. , 30.5, 36.4, 31.1, 29.1, 50. , 33.3, 30.3,\n",
      "       34.6, 34.9, 32.9, 24.1, 42.3, 48.5, 50. , 22.6, 24.4, 22.5, 24.4,\n",
      "       20. , 21.7, 19.3, 22.4, 28.1, 23.7, 25. , 23.3, 28.7, 21.5, 23. ,\n",
      "       26.7, 21.7, 27.5, 30.1, 44.8, 50. , 37.6, 31.6, 46.7, 31.5, 24.3,\n",
      "       31.7, 41.7, 48.3, 29. , 24. , 25.1, 31.5, 23.7, 23.3, 22. , 20.1,\n",
      "       22.2, 23.7, 17.6, 18.5, 24.3, 20.5, 24.5, 26.2, 24.4, 24.8, 29.6,\n",
      "       42.8, 21.9, 20.9, 44. , 50. , 36. , 30.1, 33.8, 43.1, 48.8, 31. ,\n",
      "       36.5, 22.8, 30.7, 50. , 43.5, 20.7, 21.1, 25.2, 24.4, 35.2, 32.4,\n",
      "       32. , 33.2, 33.1, 29.1, 35.1, 45.4, 35.4, 46. , 50. , 32.2, 22. ,\n",
      "       20.1, 23.2, 22.3, 24.8, 28.5, 37.3, 27.9, 23.9, 21.7, 28.6, 27.1,\n",
      "       20.3, 22.5, 29. , 24.8, 22. , 26.4, 33.1, 36.1, 28.4, 33.4, 28.2,\n",
      "       22.8, 20.3, 16.1, 22.1, 19.4, 21.6, 23.8, 16.2, 17.8, 19.8, 23.1,\n",
      "       21. , 23.8, 23.1, 20.4, 18.5, 25. , 24.6, 23. , 22.2, 19.3, 22.6,\n",
      "       19.8, 17.1, 19.4, 22.2, 20.7, 21.1, 19.5, 18.5, 20.6, 19. , 18.7,\n",
      "       32.7, 16.5, 23.9, 31.2, 17.5, 17.2, 23.1, 24.5, 26.6, 22.9, 24.1,\n",
      "       18.6, 30.1, 18.2, 20.6, 17.8, 21.7, 22.7, 22.6, 25. , 19.9, 20.8,\n",
      "       16.8, 21.9, 27.5, 21.9, 23.1, 50. , 50. , 50. , 50. , 50. , 13.8,\n",
      "       13.8, 15. , 13.9, 13.3, 13.1, 10.2, 10.4, 10.9, 11.3, 12.3,  8.8,\n",
      "        7.2, 10.5,  7.4, 10.2, 11.5, 15.1, 23.2,  9.7, 13.8, 12.7, 13.1,\n",
      "       12.5,  8.5,  5. ,  6.3,  5.6,  7.2, 12.1,  8.3,  8.5,  5. , 11.9,\n",
      "       27.9, 17.2, 27.5, 15. , 17.2, 17.9, 16.3,  7. ,  7.2,  7.5, 10.4,\n",
      "        8.8,  8.4, 16.7, 14.2, 20.8, 13.4, 11.7,  8.3, 10.2, 10.9, 11. ,\n",
      "        9.5, 14.5, 14.1, 16.1, 14.3, 11.7, 13.4,  9.6,  8.7,  8.4, 12.8,\n",
      "       10.5, 17.1, 18.4, 15.4, 10.8, 11.8, 14.9, 12.6, 14.1, 13. , 13.4,\n",
      "       15.2, 16.1, 17.8, 14.9, 14.1, 12.7, 13.5, 14.9, 20. , 16.4, 17.7,\n",
      "       19.5, 20.2, 21.4, 19.9, 19. , 19.1, 19.1, 20.1, 19.9, 19.6, 23.2,\n",
      "       29.8, 13.8, 13.3, 16.7, 12. , 14.6, 21.4, 23. , 23.7, 25. , 21.8,\n",
      "       20.6, 21.2, 19.1, 20.6, 15.2,  7. ,  8.1, 13.6, 20.1, 21.8, 24.5,\n",
      "       23.1, 19.7, 18.3, 21.2, 17.5, 16.8, 22.4, 20.6, 23.9, 22. , 11.9]), 'feature_names': array(['CRIM', 'ZN', 'INDUS', 'CHAS', 'NOX', 'RM', 'AGE', 'DIS', 'RAD',\n",
      "       'TAX', 'PTRATIO', 'B', 'LSTAT'], dtype='<U7'), 'DESCR': \".. _boston_dataset:\\n\\nBoston house prices dataset\\n---------------------------\\n\\n**Data Set Characteristics:**  \\n\\n    :Number of Instances: 506 \\n\\n    :Number of Attributes: 13 numeric/categorical predictive. Median Value (attribute 14) is usually the target.\\n\\n    :Attribute Information (in order):\\n        - CRIM     per capita crime rate by town\\n        - ZN       proportion of residential land zoned for lots over 25,000 sq.ft.\\n        - INDUS    proportion of non-retail business acres per town\\n        - CHAS     Charles River dummy variable (= 1 if tract bounds river; 0 otherwise)\\n        - NOX      nitric oxides concentration (parts per 10 million)\\n        - RM       average number of rooms per dwelling\\n        - AGE      proportion of owner-occupied units built prior to 1940\\n        - DIS      weighted distances to five Boston employment centres\\n        - RAD      index of accessibility to radial highways\\n        - TAX      full-value property-tax rate per $10,000\\n        - PTRATIO  pupil-teacher ratio by town\\n        - B        1000(Bk - 0.63)^2 where Bk is the proportion of blacks by town\\n        - LSTAT    % lower status of the population\\n        - MEDV     Median value of owner-occupied homes in $1000's\\n\\n    :Missing Attribute Values: None\\n\\n    :Creator: Harrison, D. and Rubinfeld, D.L.\\n\\nThis is a copy of UCI ML housing dataset.\\nhttps://archive.ics.uci.edu/ml/machine-learning-databases/housing/\\n\\n\\nThis dataset was taken from the StatLib library which is maintained at Carnegie Mellon University.\\n\\nThe Boston house-price data of Harrison, D. and Rubinfeld, D.L. 'Hedonic\\nprices and the demand for clean air', J. Environ. Economics & Management,\\nvol.5, 81-102, 1978.   Used in Belsley, Kuh & Welsch, 'Regression diagnostics\\n...', Wiley, 1980.   N.B. Various transformations are used in the table on\\npages 244-261 of the latter.\\n\\nThe Boston house-price data has been used in many machine learning papers that address regression\\nproblems.   \\n     \\n.. topic:: References\\n\\n   - Belsley, Kuh & Welsch, 'Regression diagnostics: Identifying Influential Data and Sources of Collinearity', Wiley, 1980. 244-261.\\n   - Quinlan,R. (1993). Combining Instance-Based and Model-Based Learning. In Proceedings on the Tenth International Conference of Machine Learning, 236-243, University of Massachusetts, Amherst. Morgan Kaufmann.\\n\", 'filename': 'C:\\\\Users\\\\ICT01_02\\\\Anaconda3\\\\lib\\\\site-packages\\\\sklearn\\\\datasets\\\\data\\\\boston_house_prices.csv'}\n"
     ]
    }
   ],
   "source": [
    "from sklearn.datasets import load_boston\n",
    "import pandas as pd\n",
    "import numpy as np\n",
    "import tensorflow as tf\n",
    "boston = load_boston()\n",
    "df = pd.DataFrame(boston.data, columns = boston.feature_names)\n",
    "df['const'] = np.ones(df.shape[0]) # 전부 1 이라는 변수 추가\n",
    "df.tail()\n",
    "print(boston)"
   ]
  },
  {
   "cell_type": "code",
   "execution_count": 2,
   "metadata": {},
   "outputs": [
    {
     "ename": "NameError",
     "evalue": "name 'df' is not defined",
     "output_type": "error",
     "traceback": [
      "\u001b[1;31m---------------------------------------------------------------------------\u001b[0m",
      "\u001b[1;31mNameError\u001b[0m                                 Traceback (most recent call last)",
      "\u001b[1;32m<ipython-input-2-1c67650404e5>\u001b[0m in \u001b[0;36m<module>\u001b[1;34m\u001b[0m\n\u001b[1;32m----> 1\u001b[1;33m \u001b[0mn\u001b[0m\u001b[1;33m,\u001b[0m\u001b[0mm\u001b[0m \u001b[1;33m=\u001b[0m\u001b[0mdf\u001b[0m\u001b[1;33m.\u001b[0m\u001b[0mshape\u001b[0m\u001b[1;33m\u001b[0m\u001b[1;33m\u001b[0m\u001b[0m\n\u001b[0m\u001b[0;32m      2\u001b[0m \u001b[0mX\u001b[0m \u001b[1;33m=\u001b[0m \u001b[0mtf\u001b[0m\u001b[1;33m.\u001b[0m\u001b[0mplaceholder\u001b[0m\u001b[1;33m(\u001b[0m\u001b[0mtf\u001b[0m\u001b[1;33m.\u001b[0m\u001b[0mfloat64\u001b[0m\u001b[1;33m,\u001b[0m \u001b[0mshape\u001b[0m\u001b[1;33m=\u001b[0m\u001b[1;33m(\u001b[0m\u001b[0mn\u001b[0m\u001b[1;33m,\u001b[0m\u001b[0mm\u001b[0m\u001b[1;33m)\u001b[0m\u001b[1;33m)\u001b[0m\u001b[1;33m\u001b[0m\u001b[1;33m\u001b[0m\u001b[0m\n\u001b[0;32m      3\u001b[0m \u001b[0my\u001b[0m \u001b[1;33m=\u001b[0m \u001b[0mtf\u001b[0m\u001b[1;33m.\u001b[0m\u001b[0mplaceholder\u001b[0m\u001b[1;33m(\u001b[0m\u001b[0mtf\u001b[0m\u001b[1;33m.\u001b[0m\u001b[0mfloat64\u001b[0m\u001b[1;33m,\u001b[0m \u001b[0mshape\u001b[0m\u001b[1;33m=\u001b[0m\u001b[1;33m(\u001b[0m\u001b[0mn\u001b[0m\u001b[1;33m,\u001b[0m\u001b[1;36m1\u001b[0m\u001b[1;33m)\u001b[0m\u001b[1;33m)\u001b[0m\u001b[1;33m\u001b[0m\u001b[1;33m\u001b[0m\u001b[0m\n\u001b[0;32m      4\u001b[0m \u001b[0mXT\u001b[0m \u001b[1;33m=\u001b[0m \u001b[0mtf\u001b[0m\u001b[1;33m.\u001b[0m\u001b[0mtranspose\u001b[0m\u001b[1;33m(\u001b[0m\u001b[0mX\u001b[0m\u001b[1;33m)\u001b[0m\u001b[1;33m\u001b[0m\u001b[1;33m\u001b[0m\u001b[0m\n\u001b[0;32m      5\u001b[0m \u001b[0mXT\u001b[0m\u001b[1;33m.\u001b[0m\u001b[0mshape\u001b[0m\u001b[1;33m,\u001b[0m \u001b[0mX\u001b[0m\u001b[1;33m\u001b[0m\u001b[1;33m\u001b[0m\u001b[0m\n",
      "\u001b[1;31mNameError\u001b[0m: name 'df' is not defined"
     ]
    }
   ],
   "source": [
    "n,m =df.shape\n",
    "X = tf.placeholder(tf.float64, shape=(n,m))\n",
    "y = tf.placeholder(tf.float64, shape=(n,1))\n",
    "XT = tf.transpose(X)\n",
    "XT.shape, X\n"
   ]
  },
  {
   "cell_type": "code",
   "execution_count": 12,
   "metadata": {},
   "outputs": [
    {
     "name": "stdout",
     "output_type": "stream",
     "text": [
      "예측한 집값 :  [18.40613603] , 실제 집값 :  18.2\n"
     ]
    }
   ],
   "source": [
    "# 행렬식\n",
    "# 거듭제곱 : 상관계수 506(data point) x 14(변수)\n",
    "# 14x506, 506x14 => 14x14 =. 상관행렬 => \n",
    "# 14x14, 14x506 => 14x 506\n",
    "# 14x506,506x1 => 14x1\n",
    "# 역행렬을 이용해서 가중치 결정\n",
    "# y = ax => \n",
    "# a = y/x # 변수간의 관계 => 역행렬\n",
    "w = tf.matmul(tf.matmul(tf.matrix_inverse(tf.matmul(XT, X)), XT),y)\n",
    "y_pred = tf.matmul(X,w) # 506x14, 14x1 => 506x1 회귀식\n",
    "with tf.Session() as sess:\n",
    "    y_pred_ = sess.run(y_pred, feed_dict={X:df.values, y:boston.target.reshape(-1,1)})\n",
    "\n",
    "print('예측한 집값 : ', y_pred_[19], ', 실제 집값 : ', boston.target[19])"
   ]
  },
  {
   "cell_type": "code",
   "execution_count": 13,
   "metadata": {},
   "outputs": [
    {
     "name": "stdout",
     "output_type": "stream",
     "text": [
      "홑일 때 [0 2 3 0 2 3 0 2 3 0 2 3 0 2 3]\n"
     ]
    }
   ],
   "source": [
    "import tensorflow as tf\n",
    "sess = tf.Session()\n",
    "\n",
    "val = [0,2,3]\n",
    "val = tf.tile(val, [5]) # 몇개의 타일에 쌀것인가?\n",
    "\n",
    "print('홑일 때', sess.run(val))"
   ]
  },
  {
   "cell_type": "code",
   "execution_count": 14,
   "metadata": {},
   "outputs": [
    {
     "name": "stdout",
     "output_type": "stream",
     "text": [
      "2차원일때\n",
      " [[1 1 1 1 1 1]\n",
      " [2 2 2 2 2 2]\n",
      " [3 3 3 3 3 3]\n",
      " [1 1 1 1 1 1]\n",
      " [2 2 2 2 2 2]\n",
      " [3 3 3 3 3 3]\n",
      " [1 1 1 1 1 1]\n",
      " [2 2 2 2 2 2]\n",
      " [3 3 3 3 3 3]\n",
      " [1 1 1 1 1 1]\n",
      " [2 2 2 2 2 2]\n",
      " [3 3 3 3 3 3]\n",
      " [1 1 1 1 1 1]\n",
      " [2 2 2 2 2 2]\n",
      " [3 3 3 3 3 3]]\n"
     ]
    }
   ],
   "source": [
    "# 타일은 차원을 확대하지 않음\n",
    "val = [[1,1,1],[2,2,2],[3,3,3]] # 3x3\n",
    "val = tf.tile(val, [5,2]) # 5행, 2열로 => 15x6\n",
    "print('2차원일때\\n', sess.run(val))"
   ]
  },
  {
   "cell_type": "code",
   "execution_count": 15,
   "metadata": {},
   "outputs": [
    {
     "name": "stdout",
     "output_type": "stream",
     "text": [
      "[[ 1.  2.  1.  2.  1.  2.]\n",
      " [ 2.  1.  2.  1.  2.  1.]\n",
      " [-2. -1. -2. -1. -2. -1.]]\n",
      "[[ 1.  2.  1.  2.  1.  2.]\n",
      " [ 2.  1.  2.  1.  2.  1.]\n",
      " [-2. -1. -2. -1. -2. -1.]\n",
      " [ 1.  2.  1.  2.  1.  2.]\n",
      " [ 2.  1.  2.  1.  2.  1.]\n",
      " [-2. -1. -2. -1. -2. -1.]]\n"
     ]
    }
   ],
   "source": [
    "input_vecs = [[1.,2.],[2.,1.],[-2.,-1]]\n",
    "tiled_vecs = tf.tile(input_vecs, [1,3])\n",
    "print(sess.run(tiled_vecs))\n",
    "tiled_vecs = tf.tile(input_vecs, [2,3])\n",
    "print(sess.run(tiled_vecs))\n"
   ]
  },
  {
   "cell_type": "markdown",
   "metadata": {},
   "source": [
    "# tile"
   ]
  },
  {
   "cell_type": "code",
   "execution_count": 16,
   "metadata": {},
   "outputs": [],
   "source": [
    "# kmeans : k가 결정되야한다. => 중심이 발생\n",
    "# - 각 데이터의 중심값을 빼서 거리값을 계산\n",
    "# - "
   ]
  },
  {
   "cell_type": "code",
   "execution_count": 17,
   "metadata": {},
   "outputs": [],
   "source": [
    "import numpy as np\n",
    "import matplotlib.pyplot as plt\n",
    "import tensorflow as tf\n",
    "from sklearn import datasets\n",
    "from sklearn.preprocessing import scale\n",
    "from tensorflow.python.framework import ops\n",
    "ops.reset_default_graph() # 그래프 초기화\n",
    "sess = tf.Session()\n",
    "iris = datasets.load_iris() # 4개의 변수와 target"
   ]
  },
  {
   "cell_type": "code",
   "execution_count": 18,
   "metadata": {},
   "outputs": [],
   "source": [
    "num_pts = len(iris.data) # 행수\n",
    "num_feats = len(iris.data[0]) # columns 개수\n",
    "k = 3 # 군집수\n",
    "generations = 25 # epoch\n",
    "\n",
    "data_points = tf.Variable(iris.data)\n",
    "\n",
    "# 레이블 변수\n",
    "cluster_labels = tf.Variable(tf.zeros([num_pts], dtype=tf.int64))\n",
    "\n",
    "# 중심데이터를 랜덤으로 취함\n",
    "# 중심의 열변수 개수 -> 4개\n",
    "rand_starts = np.array([iris.data[np.random.choice(len(iris.data))] for _ in range(k)])\n",
    "\n",
    "# 중심\n",
    "centroids = tf.Variable(rand_starts)\n",
    "# reshape(150, 3, 4)\n",
    "centroid_matirx = tf.reshape(tf.tile(centroids, [num_pts, 1]), [num_pts, k, num_feats])\n",
    "\n",
    "# 결국 150x12(4개의 변수가 3번더) => reshape(150, 3, 4)\n",
    "point_matrix = tf.reshape(tf.tile(data_points, [1,k]), [num_pts, k, num_feats])\n",
    "\n",
    "# 열중심으로 한번에 뺀다.\n",
    "distances = tf.reduce_sum(tf.square(point_matrix - centroid_matirx), axis=2)\n",
    "\n",
    "# 중심거리1, 중심거리2, 중심거리3\n",
    "# argmin : 2개 전제(인덱스, 실제값비교)\n",
    "centroid_group = tf.argmin(distances, 1)"
   ]
  },
  {
   "cell_type": "code",
   "execution_count": 20,
   "metadata": {},
   "outputs": [],
   "source": [
    "# 그룹별로 거리의 평균\n",
    "# 중심거리를 재계선해서 중심값을 재할당\n",
    "def data_group_avg(group_ids, data ):\n",
    "    # 라벨번호로 값의 합계 : 라벨 - 값, 그룹이 3개\n",
    "    sum_total =tf.unsorted_segment_sum(data, group_ids, 3)\n",
    "    # 그룹의 전체 개수\n",
    "    num_total = tf.unsorted_segment_sum(tf.ones_like(data), group_ids, 3)\n",
    "    # 그룹의 평균거리\n",
    "    avg_by_group = sum_total / num_total\n",
    "#     print('sum \\n',sess.run(sum_total))\n",
    "#     print('num \\n',sess.run(num_total))\n",
    "    return avg_by_group\n",
    "\n",
    "means = data_group_avg(centroid_group, data_points)\n",
    "# 업데이트 node를 결정\n",
    "update = tf.group(centroids.assign(means), cluster_labels.assign(centroid_group))\n",
    "# 초기화\n",
    "init = tf.global_variables_initializer()\n",
    "sess.run(init)"
   ]
  },
  {
   "cell_type": "code",
   "execution_count": 21,
   "metadata": {},
   "outputs": [
    {
     "name": "stdout",
     "output_type": "stream",
     "text": [
      "Calculating gen 0, out of 25\n",
      "Group counts : [36, 34, 80]\n",
      "Calculating gen 1, out of 25\n",
      "Group counts : [32, 63, 55]\n",
      "Calculating gen 2, out of 25\n",
      "Group counts : [35, 64, 51]\n",
      "Calculating gen 3, out of 25\n",
      "Group counts : [37, 63, 50]\n",
      "Calculating gen 4, out of 25\n",
      "Group counts : [38, 62, 50]\n",
      "Calculating gen 5, out of 25\n",
      "Group counts : [38, 62, 50]\n",
      "Calculating gen 6, out of 25\n",
      "Group counts : [38, 62, 50]\n",
      "Calculating gen 7, out of 25\n",
      "Group counts : [38, 62, 50]\n",
      "Calculating gen 8, out of 25\n",
      "Group counts : [38, 62, 50]\n",
      "Calculating gen 9, out of 25\n",
      "Group counts : [38, 62, 50]\n",
      "Calculating gen 10, out of 25\n",
      "Group counts : [38, 62, 50]\n",
      "Calculating gen 11, out of 25\n",
      "Group counts : [38, 62, 50]\n",
      "Calculating gen 12, out of 25\n",
      "Group counts : [38, 62, 50]\n",
      "Calculating gen 13, out of 25\n",
      "Group counts : [38, 62, 50]\n",
      "Calculating gen 14, out of 25\n",
      "Group counts : [38, 62, 50]\n",
      "Calculating gen 15, out of 25\n",
      "Group counts : [38, 62, 50]\n",
      "Calculating gen 16, out of 25\n",
      "Group counts : [38, 62, 50]\n",
      "Calculating gen 17, out of 25\n",
      "Group counts : [38, 62, 50]\n",
      "Calculating gen 18, out of 25\n",
      "Group counts : [38, 62, 50]\n",
      "Calculating gen 19, out of 25\n",
      "Group counts : [38, 62, 50]\n",
      "Calculating gen 20, out of 25\n",
      "Group counts : [38, 62, 50]\n",
      "Calculating gen 21, out of 25\n",
      "Group counts : [38, 62, 50]\n",
      "Calculating gen 22, out of 25\n",
      "Group counts : [38, 62, 50]\n",
      "Calculating gen 23, out of 25\n",
      "Group counts : [38, 62, 50]\n",
      "Calculating gen 24, out of 25\n",
      "Group counts : [38, 62, 50]\n"
     ]
    }
   ],
   "source": [
    "# 실행의 마지막 결과값 _\n",
    "for i in range(generations):\n",
    "    print('Calculating gen {}, out of {}'.format(i, generations))\n",
    "    # centroid_group : 그룹번호가 결정\n",
    "    # update : 군집의 중심값을 재계산하고 그룹을 변경\n",
    "    _, centroid_group_count = sess.run([update, centroid_group])\n",
    "    group_count = []\n",
    "    \n",
    "    for ix in range(k):# 군집별 카운트\n",
    "        group_count.append(np.sum(centroid_group_count == ix))\n",
    "        \n",
    "    print('Group counts : {}'.format(group_count))\n",
    "\n",
    "# 결정된 중심값, 할당된 군집번호\n",
    "[centers, assignments] = sess.run([centroids, cluster_labels])"
   ]
  },
  {
   "cell_type": "code",
   "execution_count": 22,
   "metadata": {},
   "outputs": [
    {
     "name": "stdout",
     "output_type": "stream",
     "text": [
      "Accracy : 0.89\n"
     ]
    }
   ],
   "source": [
    "# set 키의 중복을 불허한다. \n",
    "def most_common(my_list): # 대표성을 띈 라벨을 결정\n",
    "    return (max(set(my_list), key = my_list.count))\n",
    "\n",
    "label0 = most_common(list(assignments[0:50])) # 라벨링\n",
    "label1 = most_common(list(assignments[50:100]))\n",
    "label2 = most_common(list(assignments[100:150]))\n",
    "\n",
    "group0_count = np.sum(assignments[0:50] == label0)\n",
    "group1_count = np.sum(assignments[50:100] == label1)\n",
    "group2_count = np.sum(assignments[100:150] == label2)\n",
    "\n",
    "accracy = (group0_count + group1_count + group2_count)/ 150\n",
    "print('Accracy : {:.2f}'.format(accracy)) # "
   ]
  },
  {
   "cell_type": "code",
   "execution_count": 23,
   "metadata": {},
   "outputs": [],
   "source": [
    "import csv\n",
    "import random\n",
    "import numpy as np\n",
    "from tensorflow.python.framework import ops\n",
    "ops.reset_default_graph()"
   ]
  },
  {
   "cell_type": "code",
   "execution_count": 24,
   "metadata": {},
   "outputs": [],
   "source": [
    "response = 6\n",
    "batch_size = 50\n",
    "symmetry = ['rotate180', 'rotate90', 'rotate270','flip_v','flip_h']"
   ]
  },
  {
   "cell_type": "code",
   "execution_count": 25,
   "metadata": {},
   "outputs": [],
   "source": [
    "# 말판\n",
    "def print_board(board):\n",
    "    symbols = ['O', ' ', 'X']\n",
    "    board_plus1 = [int(x) + 1 for x in board]\n",
    "    board_line1 = ' {} | {} | {}'.format(symbols[board_plus1[0]],\n",
    "                                         symbols[board_plus1[1]],\n",
    "                                         symbols[board_plus1[2]])\n",
    "    board_line2 = ' {} | {} | {}'.format(symbols[board_plus1[3]],\n",
    "                                         symbols[board_plus1[4]],\n",
    "                                         symbols[board_plus1[5]])\n",
    "    board_line3 = ' {} | {} | {}'.format(symbols[board_plus1[6]],\n",
    "                                         symbols[board_plus1[7]],\n",
    "                                         symbols[board_plus1[8]])\n",
    "    print(board_line1)\n",
    "    print('___________')\n",
    "    print(board_line2)\n",
    "    print('___________')\n",
    "    print(board_line3)"
   ]
  },
  {
   "cell_type": "code",
   "execution_count": 26,
   "metadata": {},
   "outputs": [],
   "source": [
    "def get_symmetry(board, play_response, transformation):\n",
    "    if transformation == 'rotate180':\n",
    "        new_response = 8 - play_response\n",
    "        return board[::-1], new_response\n",
    "    elif transformation == 'rotate90':\n",
    "        new_response = [6, 3, 0, 7, 4, 1, 8, 5, 2].index(play_response)\n",
    "        tuple_board = list(zip(*[board[6:9], board[3:6], board[0:3]]))\n",
    "        return [value for item in tuple_board for value in item], new_response\n",
    "    elif transformation == 'rotate270':\n",
    "        new_response = [2, 5, 8, 1, 4, 7, 0, 3, 6].index(play_response)\n",
    "        tuple_board = list(zip(*[board[0:3], board[3:6], board[6:9]]))[::-1]\n",
    "        return [value for item in tuple_board for value in item], new_response\n",
    "    elif transformation == 'flip_v':\n",
    "        new_response = [6, 7, 8, 3, 4, 5, 0, 1, 2].index(play_response)\n",
    "        return board[6:9] + board[3:6] + board[0:3], new_response\n",
    "    elif transformation == 'flip_h':  # flip_h = rotate180, then flip_v\n",
    "        new_response = [2, 1, 0, 5, 4, 3, 8, 7, 6].index(play_response)\n",
    "        new_board = board[::-1]\n",
    "        return new_board[6:9] + new_board[3:6] + new_board[0:3], new_response\n",
    "    else:\n",
    "        raise ValueError('해당하는 경우가 없음')\n",
    "\n"
   ]
  },
  {
   "cell_type": "code",
   "execution_count": 27,
   "metadata": {},
   "outputs": [],
   "source": [
    "# 화일로 부터 말규칙 로딩\n",
    "def get_moves_from_csv(csv_file):\n",
    "    moves = []\n",
    "    with open(csv_file, 'rt') as csvfile:\n",
    "        reader = csv.reader(csvfile, delimiter=',')\n",
    "        for row in reader:\n",
    "            moves.append(([int(x) for x in row[0:9]], int(row[9])))\n",
    "        return moves"
   ]
  },
  {
   "cell_type": "code",
   "execution_count": 28,
   "metadata": {},
   "outputs": [],
   "source": [
    "def get_rand_move(moves, n=1, rand_transforms=2):\n",
    "    (board, response) = random.choice(moves)\n",
    "    possible_transforms = ['rotate90','rotate180','rotate270', 'flip_v','flip_h']\n",
    "    for i in range(rand_transforms):\n",
    "        random_transform = random.choice(possible_transforms)\n",
    "        (board, response) = get_symmetry(board, response, random_transform)\n",
    "        return (board, response)\n"
   ]
  },
  {
   "cell_type": "code",
   "execution_count": 29,
   "metadata": {},
   "outputs": [],
   "source": [
    "moves = get_moves_from_csv('tictactoe_moves.csv')\n",
    "train_length = 500\n",
    "train_set = []\n",
    "for t in range(train_length):\n",
    "    train_set.append(get_rand_move(moves))"
   ]
  },
  {
   "cell_type": "code",
   "execution_count": 30,
   "metadata": {},
   "outputs": [],
   "source": [
    "def init_weights(shape):\n",
    "    return (tf.Variable(tf.random_normal(shape)))"
   ]
  },
  {
   "cell_type": "code",
   "execution_count": 31,
   "metadata": {},
   "outputs": [],
   "source": [
    "def model(X, A1, A2, bias1, bias2):\n",
    "    layer1 = tf.nn.sigmoid(tf.add(tf.matmul(X,A1), bias1))\n",
    "    layer2 = tf.add(tf.matmul(layer1, A2), bias2)\n",
    "    return layer2"
   ]
  },
  {
   "cell_type": "code",
   "execution_count": 32,
   "metadata": {},
   "outputs": [],
   "source": [
    "X = tf.placeholder(dtype = tf.float32, shape=[None, 9])\n",
    "Y = tf.placeholder(dtype=tf.int32, shape=[None])\n",
    "A1 = init_weights([9,81])\n",
    "bias1 = init_weights([81])\n",
    "A2 = init_weights([81,9])\n",
    "bias2 = init_weights([9])\n",
    "model_output = model(X,A1,A2,bias1,bias2)\n",
    "\n",
    "loss = tf.reduce_mean(tf.nn.sparse_softmax_cross_entropy_with_logits(logits = model_output, labels=Y))\n",
    "train_step = tf.train.GradientDescentOptimizer(0.025).minimize(loss)\n",
    "prediction = tf.argmax(model_output, 1)\n",
    "sess = tf.Session()\n",
    "init = tf.global_variables_initializer()\n",
    "sess.run(init)"
   ]
  },
  {
   "cell_type": "code",
   "execution_count": 33,
   "metadata": {
    "scrolled": false
   },
   "outputs": [
    {
     "name": "stdout",
     "output_type": "stream",
     "text": [
      "Iteration: 0, Loss: 6.986211776733398\n",
      "Iteration: 500, Loss: 1.7031941413879395\n",
      "Iteration: 1000, Loss: 1.3662972450256348\n",
      "Iteration: 1500, Loss: 1.19367516040802\n",
      "Iteration: 2000, Loss: 0.9691966772079468\n",
      "Iteration: 2500, Loss: 1.0101118087768555\n",
      "Iteration: 3000, Loss: 1.037035346031189\n",
      "Iteration: 3500, Loss: 1.0503621101379395\n",
      "Iteration: 4000, Loss: 0.817331075668335\n",
      "Iteration: 4500, Loss: 0.7996972799301147\n",
      "Iteration: 5000, Loss: 0.6878639459609985\n",
      "Iteration: 5500, Loss: 0.7973970174789429\n",
      "Iteration: 6000, Loss: 0.7536744475364685\n",
      "Iteration: 6500, Loss: 0.8542159199714661\n",
      "Iteration: 7000, Loss: 0.5156900882720947\n",
      "Iteration: 7500, Loss: 0.6542292833328247\n",
      "Iteration: 8000, Loss: 0.6379768252372742\n",
      "Iteration: 8500, Loss: 0.5652735829353333\n",
      "Iteration: 9000, Loss: 0.6734757423400879\n",
      "Iteration: 9500, Loss: 0.6570013165473938\n",
      "Iteration: 10000, Loss: 0.493992418050766\n",
      "Iteration: 10500, Loss: 0.47240498661994934\n",
      "Iteration: 11000, Loss: 0.5034415125846863\n",
      "Iteration: 11500, Loss: 0.5187619924545288\n",
      "Iteration: 12000, Loss: 0.5378502607345581\n",
      "Iteration: 12500, Loss: 0.4408642053604126\n",
      "Iteration: 13000, Loss: 0.5312215089797974\n",
      "Iteration: 13500, Loss: 0.4104256331920624\n",
      "Iteration: 14000, Loss: 0.49712109565734863\n",
      "Iteration: 14500, Loss: 0.4747481942176819\n",
      "Iteration: 15000, Loss: 0.45029640197753906\n",
      "Iteration: 15500, Loss: 0.46941623091697693\n",
      "Iteration: 16000, Loss: 0.5544094443321228\n",
      "Iteration: 16500, Loss: 0.4693242013454437\n",
      "Iteration: 17000, Loss: 0.40697330236434937\n",
      "Iteration: 17500, Loss: 0.3812456429004669\n",
      "Iteration: 18000, Loss: 0.4522673785686493\n",
      "Iteration: 18500, Loss: 0.5203647017478943\n",
      "Iteration: 19000, Loss: 0.33250105381011963\n",
      "Iteration: 19500, Loss: 0.4436199963092804\n",
      "Iteration: 20000, Loss: 0.397615522146225\n",
      "Iteration: 20500, Loss: 0.3113399147987366\n",
      "Iteration: 21000, Loss: 0.23072713613510132\n",
      "Iteration: 21500, Loss: 0.4476919174194336\n",
      "Iteration: 22000, Loss: 0.4354169964790344\n",
      "Iteration: 22500, Loss: 0.3794346749782562\n",
      "Iteration: 23000, Loss: 0.32642996311187744\n",
      "Iteration: 23500, Loss: 0.40042388439178467\n",
      "Iteration: 24000, Loss: 0.3624681532382965\n",
      "Iteration: 24500, Loss: 0.34172189235687256\n",
      "Iteration: 25000, Loss: 0.35629504919052124\n",
      "Iteration: 25500, Loss: 0.39695504307746887\n",
      "Iteration: 26000, Loss: 0.238639697432518\n",
      "Iteration: 26500, Loss: 0.3295142650604248\n",
      "Iteration: 27000, Loss: 0.29549458622932434\n",
      "Iteration: 27500, Loss: 0.3546360433101654\n",
      "Iteration: 28000, Loss: 0.21528360247612\n",
      "Iteration: 28500, Loss: 0.3942296504974365\n",
      "Iteration: 29000, Loss: 0.21546778082847595\n",
      "Iteration: 29500, Loss: 0.381142795085907\n",
      "Iteration: 30000, Loss: 0.2354757934808731\n",
      "Iteration: 30500, Loss: 0.3420780599117279\n",
      "Iteration: 31000, Loss: 0.44185546040534973\n",
      "Iteration: 31500, Loss: 0.3705413341522217\n",
      "Iteration: 32000, Loss: 0.36400294303894043\n",
      "Iteration: 32500, Loss: 0.36190056800842285\n",
      "Iteration: 33000, Loss: 0.2537469267845154\n",
      "Iteration: 33500, Loss: 0.2025926560163498\n",
      "Iteration: 34000, Loss: 0.3405815362930298\n",
      "Iteration: 34500, Loss: 0.2662723660469055\n",
      "Iteration: 35000, Loss: 0.26917317509651184\n",
      "Iteration: 35500, Loss: 0.33843743801116943\n",
      "Iteration: 36000, Loss: 0.29882803559303284\n",
      "Iteration: 36500, Loss: 0.3567708730697632\n",
      "Iteration: 37000, Loss: 0.30808088183403015\n",
      "Iteration: 37500, Loss: 0.32260748744010925\n",
      "Iteration: 38000, Loss: 0.28533709049224854\n",
      "Iteration: 38500, Loss: 0.36235511302948\n",
      "Iteration: 39000, Loss: 0.3221445381641388\n",
      "Iteration: 39500, Loss: 0.27584752440452576\n",
      "Iteration: 40000, Loss: 0.2671104967594147\n",
      "Iteration: 40500, Loss: 0.3666795492172241\n",
      "Iteration: 41000, Loss: 0.33178234100341797\n",
      "Iteration: 41500, Loss: 0.2997611165046692\n",
      "Iteration: 42000, Loss: 0.2931690514087677\n",
      "Iteration: 42500, Loss: 0.22575870156288147\n",
      "Iteration: 43000, Loss: 0.3283421993255615\n",
      "Iteration: 43500, Loss: 0.2752681076526642\n",
      "Iteration: 44000, Loss: 0.22405806183815002\n",
      "Iteration: 44500, Loss: 0.21486997604370117\n",
      "Iteration: 45000, Loss: 0.28630906343460083\n",
      "Iteration: 45500, Loss: 0.3125126361846924\n",
      "Iteration: 46000, Loss: 0.21992826461791992\n",
      "Iteration: 46500, Loss: 0.30265894532203674\n",
      "Iteration: 47000, Loss: 0.22124312818050385\n",
      "Iteration: 47500, Loss: 0.2920977473258972\n",
      "Iteration: 48000, Loss: 0.38645488023757935\n",
      "Iteration: 48500, Loss: 0.22701214253902435\n",
      "Iteration: 49000, Loss: 0.27717751264572144\n",
      "Iteration: 49500, Loss: 0.25442031025886536\n",
      "Iteration: 50000, Loss: 0.423079252243042\n",
      "Iteration: 50500, Loss: 0.3505536913871765\n",
      "Iteration: 51000, Loss: 0.18552063405513763\n",
      "Iteration: 51500, Loss: 0.25624358654022217\n",
      "Iteration: 52000, Loss: 0.2581307291984558\n",
      "Iteration: 52500, Loss: 0.3449768126010895\n",
      "Iteration: 53000, Loss: 0.22225773334503174\n",
      "Iteration: 53500, Loss: 0.2605380117893219\n",
      "Iteration: 54000, Loss: 0.2476479411125183\n",
      "Iteration: 54500, Loss: 0.3060808479785919\n",
      "Iteration: 55000, Loss: 0.3129686415195465\n",
      "Iteration: 55500, Loss: 0.25989410281181335\n",
      "Iteration: 56000, Loss: 0.296730637550354\n",
      "Iteration: 56500, Loss: 0.3528438210487366\n",
      "Iteration: 57000, Loss: 0.23836395144462585\n",
      "Iteration: 57500, Loss: 0.3023962080478668\n",
      "Iteration: 58000, Loss: 0.2922779619693756\n",
      "Iteration: 58500, Loss: 0.272447794675827\n",
      "Iteration: 59000, Loss: 0.2790597975254059\n",
      "Iteration: 59500, Loss: 0.30771687626838684\n",
      "Iteration: 60000, Loss: 0.29488760232925415\n",
      "Iteration: 60500, Loss: 0.35622161626815796\n",
      "Iteration: 61000, Loss: 0.2723504602909088\n",
      "Iteration: 61500, Loss: 0.2090063840150833\n",
      "Iteration: 62000, Loss: 0.3217637538909912\n",
      "Iteration: 62500, Loss: 0.27570024132728577\n",
      "Iteration: 63000, Loss: 0.30754250288009644\n",
      "Iteration: 63500, Loss: 0.2391878366470337\n",
      "Iteration: 64000, Loss: 0.29294639825820923\n",
      "Iteration: 64500, Loss: 0.31271591782569885\n",
      "Iteration: 65000, Loss: 0.3131335973739624\n",
      "Iteration: 65500, Loss: 0.27344149351119995\n",
      "Iteration: 66000, Loss: 0.36793622374534607\n",
      "Iteration: 66500, Loss: 0.20819254219532013\n",
      "Iteration: 67000, Loss: 0.24189792573451996\n",
      "Iteration: 67500, Loss: 0.259535551071167\n",
      "Iteration: 68000, Loss: 0.31421852111816406\n",
      "Iteration: 68500, Loss: 0.323088139295578\n",
      "Iteration: 69000, Loss: 0.15581226348876953\n",
      "Iteration: 69500, Loss: 0.27696457505226135\n",
      "Iteration: 70000, Loss: 0.31643417477607727\n",
      "Iteration: 70500, Loss: 0.15451189875602722\n",
      "Iteration: 71000, Loss: 0.41323453187942505\n",
      "Iteration: 71500, Loss: 0.14735114574432373\n",
      "Iteration: 72000, Loss: 0.3274853825569153\n",
      "Iteration: 72500, Loss: 0.24205200374126434\n",
      "Iteration: 73000, Loss: 0.22939777374267578\n",
      "Iteration: 73500, Loss: 0.30498605966567993\n",
      "Iteration: 74000, Loss: 0.27937665581703186\n",
      "Iteration: 74500, Loss: 0.22926023602485657\n",
      "Iteration: 75000, Loss: 0.4419091045856476\n",
      "Iteration: 75500, Loss: 0.4303734302520752\n",
      "Iteration: 76000, Loss: 0.26707303524017334\n",
      "Iteration: 76500, Loss: 0.21401609480381012\n",
      "Iteration: 77000, Loss: 0.18304942548274994\n",
      "Iteration: 77500, Loss: 0.25932371616363525\n",
      "Iteration: 78000, Loss: 0.2598821520805359\n",
      "Iteration: 78500, Loss: 0.322869211435318\n",
      "Iteration: 79000, Loss: 0.3147338926792145\n",
      "Iteration: 79500, Loss: 0.22476841509342194\n",
      "Iteration: 80000, Loss: 0.39120370149612427\n",
      "Iteration: 80500, Loss: 0.256915420293808\n",
      "Iteration: 81000, Loss: 0.32426291704177856\n",
      "Iteration: 81500, Loss: 0.41875120997428894\n",
      "Iteration: 82000, Loss: 0.16329427063465118\n",
      "Iteration: 82500, Loss: 0.35963717103004456\n",
      "Iteration: 83000, Loss: 0.2823222875595093\n",
      "Iteration: 83500, Loss: 0.2252814918756485\n",
      "Iteration: 84000, Loss: 0.32108074426651\n",
      "Iteration: 84500, Loss: 0.26239079236984253\n",
      "Iteration: 85000, Loss: 0.23118796944618225\n",
      "Iteration: 85500, Loss: 0.2167702466249466\n",
      "Iteration: 86000, Loss: 0.22963280975818634\n",
      "Iteration: 86500, Loss: 0.27916041016578674\n",
      "Iteration: 87000, Loss: 0.30468207597732544\n",
      "Iteration: 87500, Loss: 0.2534089982509613\n",
      "Iteration: 88000, Loss: 0.2615385353565216\n",
      "Iteration: 88500, Loss: 0.21517230570316315\n",
      "Iteration: 89000, Loss: 0.26192960143089294\n",
      "Iteration: 89500, Loss: 0.3601383864879608\n",
      "Iteration: 90000, Loss: 0.2932988405227661\n",
      "Iteration: 90500, Loss: 0.2551369071006775\n",
      "Iteration: 91000, Loss: 0.31286558508872986\n",
      "Iteration: 91500, Loss: 0.36189866065979004\n",
      "Iteration: 92000, Loss: 0.20299971103668213\n",
      "Iteration: 92500, Loss: 0.3224666118621826\n",
      "Iteration: 93000, Loss: 0.19599197804927826\n",
      "Iteration: 93500, Loss: 0.2797420918941498\n",
      "Iteration: 94000, Loss: 0.22128570079803467\n",
      "Iteration: 94500, Loss: 0.37383514642715454\n"
     ]
    },
    {
     "name": "stdout",
     "output_type": "stream",
     "text": [
      "Iteration: 95000, Loss: 0.20412322878837585\n",
      "Iteration: 95500, Loss: 0.2752665877342224\n",
      "Iteration: 96000, Loss: 0.25387898087501526\n",
      "Iteration: 96500, Loss: 0.3677823543548584\n",
      "Iteration: 97000, Loss: 0.18385501205921173\n",
      "Iteration: 97500, Loss: 0.3337751626968384\n",
      "Iteration: 98000, Loss: 0.2656726837158203\n",
      "Iteration: 98500, Loss: 0.2652973234653473\n",
      "Iteration: 99000, Loss: 0.3478681147098541\n",
      "Iteration: 99500, Loss: 0.3774758279323578\n"
     ]
    }
   ],
   "source": [
    "loss_vec = []\n",
    "for i in range(100000):\n",
    "    rand_indices = np.random.choice(range(len(train_set)), batch_size, replace=False)\n",
    "    batch_data = [train_set[i] for i in rand_indices]\n",
    "    x_input = [x[0] for x in batch_data]\n",
    "    y_target = np.array([y[1] for y in batch_data])\n",
    "    sess.run(train_step, feed_dict={X: x_input, Y: y_target})\n",
    "    \n",
    "    temp_loss = sess.run(loss, feed_dict={X: x_input, Y: y_target})\n",
    "    loss_vec.append(temp_loss)\n",
    "    if i % 500 == 0:\n",
    "        print('Iteration: {}, Loss: {}'.format(i, temp_loss))"
   ]
  },
  {
   "cell_type": "code",
   "execution_count": 34,
   "metadata": {},
   "outputs": [],
   "source": [
    "test_board = [-1,0,0,1,-1,-1,0,0,1]\n",
    "train_set = [x for x in train_set if x[0] != test_board]"
   ]
  },
  {
   "cell_type": "code",
   "execution_count": 35,
   "metadata": {},
   "outputs": [],
   "source": [
    "# 게임 승패 결정\n",
    "def check(board):\n",
    "    wins = [[0,1,2],[3,4,5],[6,7,8],[0,3,6],[1,4,7],[2,5,8],[0,4,8],[2,4,6]]\n",
    "    for i in range(len(wins)):\n",
    "        if board[wins[i][0]] == board[wins[i][1]] == board[wins[i][2]] == 1.:\n",
    "            return 1\n",
    "        elif board[wins[i][0]] == board[wins[i][1]] == board[wins[i][2]] == -1.:\n",
    "            return -1\n",
    "    return 0"
   ]
  },
  {
   "cell_type": "code",
   "execution_count": 36,
   "metadata": {},
   "outputs": [
    {
     "name": "stdout",
     "output_type": "stream",
     "text": [
      "이동하고 싶은 인덱스를 입력하시오 (0 ~ 8) : 5\n",
      "모델이 이동하였습니다.\n",
      "   |   | O\n",
      "___________\n",
      "   |   | X\n",
      "___________\n",
      "   |   |  \n",
      "이동하고 싶은 인덱스를 입력하시오 (0 ~ 8) : 4\n",
      "모델이 이동하였습니다.\n",
      "   |   | O\n",
      "___________\n",
      "   | X | X\n",
      "___________\n",
      " O |   |  \n",
      "이동하고 싶은 인덱스를 입력하시오 (0 ~ 8) : 3\n",
      "모델이 이동하였습니다.\n",
      "   |   | O\n",
      "___________\n",
      " X | X | X\n",
      "___________\n",
      " O | O |  \n",
      "게임 종료! 승리하였습니다.\n"
     ]
    }
   ],
   "source": [
    "game_tracker = [0.,0.,0.,0.,0.,0.,0.,0.,0.]\n",
    "win_logical = False\n",
    "num_moves = 0\n",
    "while not win_logical:\n",
    "    player_index = input('이동하고 싶은 인덱스를 입력하시오 (0 ~ 8) : ')\n",
    "    num_moves +=1 \n",
    "    game_tracker[int(player_index)] = 1.\n",
    "    [potential_moves] = sess.run(model_output, feed_dict={X:[game_tracker]})\n",
    "    allowed_moves = [ix for ix,x in enumerate(game_tracker) if x ==0.0]\n",
    "    model_move = np.argmax([x if ix in allowed_moves else -999.0 for ix,x in enumerate(potential_moves)])\n",
    "    \n",
    "    game_tracker[int(model_move)] = -1.\n",
    "    print('모델이 이동하였습니다.')\n",
    "    print_board(game_tracker)\n",
    "    if check(game_tracker) == 1 or num_moves>=20:\n",
    "        print('게임 종료! 승리하였습니다.')\n",
    "        win_logical = True\n",
    "    elif check(game_tracker) == -1:\n",
    "        print('게임 종료! 게임에 지셨습니다.')\n",
    "        win_logical = True"
   ]
  },
  {
   "cell_type": "markdown",
   "metadata": {},
   "source": [
    "# CNN"
   ]
  },
  {
   "cell_type": "code",
   "execution_count": 38,
   "metadata": {},
   "outputs": [],
   "source": [
    "import os\n",
    "def save_fig(fig_id, tight_layout=True):\n",
    "    path = os.path.join('./images/', fig_id + '.png')\n",
    "    print('Saveing figure', fig_id)\n",
    "    if tight_layout:\n",
    "        plt.tilght_layout()\n",
    "    plt.savefig(path, format='png', dpi=300) # dot per inch"
   ]
  },
  {
   "cell_type": "code",
   "execution_count": 39,
   "metadata": {},
   "outputs": [],
   "source": [
    "def reset_graph(seed=42):\n",
    "    tf.reset_default_graph()\n",
    "    tf.set_random_seed(seed)\n",
    "    np.random.seed(seed)"
   ]
  },
  {
   "cell_type": "code",
   "execution_count": 40,
   "metadata": {},
   "outputs": [],
   "source": [
    "from sklearn.datasets import load_sample_image\n",
    "china = load_sample_image('china.jpg')\n",
    "\n",
    "# 70(높이:행), 120(가로:열)\n",
    "image = china[150:220, 130:250] # clipping\n",
    "height, width, channels = image.shape\n",
    "# 0 ~ 255\n",
    "# axis=2 : channels => 컬러\n",
    "image_grayscale = image.mean(axis=2).astype(np.float32)\n",
    "images = image_grayscale.reshape(1,height,width,1)"
   ]
  },
  {
   "cell_type": "code",
   "execution_count": 41,
   "metadata": {},
   "outputs": [],
   "source": [
    "# 흑백\n",
    "def plot_image(image):\n",
    "    plt.imshow(image, cmap='gray', interpolation='nearest') # qhrks\n",
    "    plt.axis('off') # 이미지 축생략\n",
    "\n",
    "# 컬러\n",
    "def plot_color_image(image):\n",
    "    plt.imshow(image.astype(np.unit8), interpolation='nearest')\n",
    "    plt.axis('off')"
   ]
  },
  {
   "cell_type": "code",
   "execution_count": 42,
   "metadata": {},
   "outputs": [
    {
     "data": {
      "text/plain": [
       "array([[0., 0., 2., 1., 0., 0., 0.],\n",
       "       [0., 0., 2., 1., 0., 0., 0.],\n",
       "       [0., 0., 2., 1., 0., 0., 0.],\n",
       "       [0., 0., 2., 1., 0., 0., 0.],\n",
       "       [0., 0., 2., 1., 0., 0., 0.],\n",
       "       [0., 0., 2., 1., 0., 0., 0.],\n",
       "       [0., 0., 2., 1., 0., 0., 0.]], dtype=float32)"
      ]
     },
     "execution_count": 42,
     "metadata": {},
     "output_type": "execute_result"
    }
   ],
   "source": [
    "# 필터 (필터의 높이, 필터의 가로, 입력 채널, 출력 채널)\n",
    "# 필터 2개 \n",
    "import numpy as np\n",
    "fmap = np.zeros(shape=(7,7,1,2), dtype=np.float32)\n",
    "fmap[:,3,0,0]=1\n",
    "fmap[3,:,0,1]=1\n",
    "fmap[:,2,0,0]=2\n",
    "fmap[2,:,0,1]=2\n",
    "fmap[:,:,0,0]"
   ]
  },
  {
   "cell_type": "code",
   "execution_count": 43,
   "metadata": {},
   "outputs": [
    {
     "data": {
      "image/png": "[encoded data removed]",
      "text/plain": [
       "<Figure size 432x288 with 1 Axes>"
      ]
     },
     "metadata": {
      "needs_background": "light"
     },
     "output_type": "display_data"
    },
    {
     "data": {
      "image/png": "[encoded data removed]",
      "text/plain": [
       "<Figure size 432x288 with 1 Axes>"
      ]
     },
     "metadata": {
      "needs_background": "light"
     },
     "output_type": "display_data"
    },
    {
     "name": "stdout",
     "output_type": "stream",
     "text": [
      "[[0. 0. 2. 1. 0. 0. 0.]\n",
      " [0. 0. 2. 1. 0. 0. 0.]\n",
      " [0. 0. 2. 1. 0. 0. 0.]\n",
      " [0. 0. 2. 1. 0. 0. 0.]\n",
      " [0. 0. 2. 1. 0. 0. 0.]\n",
      " [0. 0. 2. 1. 0. 0. 0.]\n",
      " [0. 0. 2. 1. 0. 0. 0.]]\n"
     ]
    }
   ],
   "source": [
    "plot_image(fmap[:,:,0,0])\n",
    "plt.show()\n",
    "plot_image(fmap[:,:,0,1])\n",
    "plt.show()\n",
    "print(fmap[:,:,0,0])\n"
   ]
  },
  {
   "cell_type": "code",
   "execution_count": 44,
   "metadata": {},
   "outputs": [],
   "source": [
    "reset_graph()\n",
    "# 장수, 높이, 가로, 채널수\n",
    "X = tf.placeholder(tf.float32, shape=(None, height, width, 1))\n",
    "feature_maps = tf.constant(fmap) # 필터를 상수로\n",
    "\n",
    "# convolution은 1d(text), 2d(image), 3d(동영상)\n",
    "# 패딩 : SAME, \n",
    "# convolution, filter, padding, strides\n",
    "# 70x120 => 70x120 => padding이 same\n",
    "# 64x114 => padding이 same이 아니라면\n",
    "# padding : SAME, VALID?\n",
    "\n",
    "\n",
    "convolution = tf.nn.conv2d(X, feature_maps, strides=[1,1,1,1], padding='SAME', use_cudnn_on_gpu=False)\n",
    "\n",
    "# pooling은 별도로 진행"
   ]
  },
  {
   "cell_type": "code",
   "execution_count": 45,
   "metadata": {},
   "outputs": [],
   "source": [
    "with tf.Session() as sess:\n",
    "    output = convolution.eval(feed_dict={X:images})"
   ]
  },
  {
   "cell_type": "code",
   "execution_count": 46,
   "metadata": {},
   "outputs": [
    {
     "name": "stdout",
     "output_type": "stream",
     "text": [
      "Saveing figure china_original\n"
     ]
    },
    {
     "data": {
      "image/png": "[encoded data removed]",
      "text/plain": [
       "<Figure size 432x288 with 1 Axes>"
      ]
     },
     "metadata": {
      "needs_background": "light"
     },
     "output_type": "display_data"
    }
   ],
   "source": [
    "plot_image(images[0,:,:,0])\n",
    "save_fig('china_original', tight_layout=False)\n",
    "plt.show()"
   ]
  },
  {
   "cell_type": "code",
   "execution_count": 47,
   "metadata": {},
   "outputs": [
    {
     "name": "stdout",
     "output_type": "stream",
     "text": [
      "Saveing figure china_vertical\n"
     ]
    },
    {
     "data": {
      "image/png": "[encoded data removed]",
      "text/plain": [
       "<Figure size 432x288 with 1 Axes>"
      ]
     },
     "metadata": {
      "needs_background": "light"
     },
     "output_type": "display_data"
    }
   ],
   "source": [
    "# 2장의 이미지 : 필터가 다르면 특싱도 다르게 잡힌다.\n",
    "plot_image(output[0,:,:,0]) # 0번 필터 적용 : 세로줄\n",
    "save_fig('china_vertical', tight_layout=False)\n",
    "plt.show()"
   ]
  },
  {
   "cell_type": "code",
   "execution_count": 48,
   "metadata": {},
   "outputs": [
    {
     "name": "stdout",
     "output_type": "stream",
     "text": [
      "Saveing figure china_horizontal\n"
     ]
    },
    {
     "data": {
      "image/png": "[encoded data removed]",
      "text/plain": [
       "<Figure size 432x288 with 1 Axes>"
      ]
     },
     "metadata": {
      "needs_background": "light"
     },
     "output_type": "display_data"
    }
   ],
   "source": [
    "plot_image(output[0,:,:,1])\n",
    "save_fig('china_horizontal', tight_layout=False)\n",
    "plt.show()"
   ]
  },
  {
   "cell_type": "code",
   "execution_count": null,
   "metadata": {},
   "outputs": [],
   "source": []
  },
  {
   "cell_type": "code",
   "execution_count": null,
   "metadata": {},
   "outputs": [],
   "source": []
  },
  {
   "cell_type": "code",
   "execution_count": null,
   "metadata": {},
   "outputs": [],
   "source": []
  },
  {
   "cell_type": "code",
   "execution_count": null,
   "metadata": {},
   "outputs": [],
   "source": []
  },
  {
   "cell_type": "code",
   "execution_count": null,
   "metadata": {},
   "outputs": [],
   "source": []
  }
 ],
 "metadata": {
  "kernelspec": {
   "display_name": "Python 3",
   "language": "python",
   "name": "python3"
  },
  "language_info": {
   "codemirror_mode": {
    "name": "ipython",
    "version": 3
   },
   "file_extension": ".py",
   "mimetype": "text/x-python",
   "name": "python",
   "nbconvert_exporter": "python",
   "pygments_lexer": "ipython3",
   "version": "3.7.4"
  }
 },
 "nbformat": 4,
 "nbformat_minor": 2
}
