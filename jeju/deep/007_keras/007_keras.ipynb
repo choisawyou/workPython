{
 "cells": [
  {
   "cell_type": "code",
   "execution_count": 1,
   "metadata": {},
   "outputs": [
    {
     "name": "stderr",
     "output_type": "stream",
     "text": [
      "Using TensorFlow backend.\n"
     ]
    },
    {
     "name": "stdout",
     "output_type": "stream",
     "text": [
      "WARNING:tensorflow:From C:\\Users\\ICT01_10\\Anaconda3\\lib\\site-packages\\keras\\backend\\tensorflow_backend.py:422: The name tf.global_variables is deprecated. Please use tf.compat.v1.global_variables instead.\n",
      "\n",
      "입력데이터 = [0.29466096 0.30317302], 예측결과 = [0.17324291]\n",
      "입력데이터 = [0.39445118 0.79390858], 예측결과 = [0.7445609]\n",
      "입력데이터 = [0.02884127 0.6208843 ], 예측결과 = [0.4029817]\n"
     ]
    }
   ],
   "source": [
    "# 회귀\n",
    "# import keras\n",
    "import tensorflow as tf\n",
    "from keras.models import Sequential # models  서브패키지\n",
    "from keras.layers import Dense # layers => 모델구성\n",
    "from sklearn.datasets import make_regression\n",
    "# 신경망 - 정규화\n",
    "from sklearn.preprocessing import MinMaxScaler\n",
    "tf.reset_default_graph()\n",
    "# X : 100x2, y : 100\n",
    "\n",
    "X, y = make_regression(n_samples=100, n_features=2, noise=0.1, random_state=1)\n",
    "\n",
    "scalarX, scalarY = MinMaxScaler(), MinMaxScaler() # 데이터의 사이즈(값의 범위)가 달라서 따로 해준다.\n",
    "scalarX.fit(X)\n",
    "scalarY.fit(y.reshape(100,1))\n",
    "X = scalarX.transform(X)\n",
    "y = scalarY.transform(y.reshape(100,1)) # 행으로 만들기 위해서 reshape\n",
    "\n",
    "# keras model\n",
    "# layer depth = 2\n",
    "# Dense는 FFNN망을 만들기위해 사용\n",
    "model = Sequential()\n",
    "# X :100x2,  출력 차수 지정 : 4 => 2x4  => 100x4\n",
    "model.add(Dense(4,input_dim=2,activation='relu'))\n",
    "# 100x4, 4x4 => 100x4\n",
    "model.add(Dense(4, activation='relu'))\n",
    "# 100x4, 4x1 => 100x1 => 끝이 하나가 나오면 예측이다.\n",
    "model.add(Dense(1, activation='linear'))\n",
    "\n",
    "# backend = tensorflow\n",
    "# 회귀 : mse, 분류 : cross entropy, KL-divergence : 분포를 비교\n",
    "model.compile(loss='mse', optimizer='adam') # tensorflow 모델을 변환\n",
    "model.fit(X,y,epochs=1000, verbose=0)\n",
    "\n",
    "Xnew, a = make_regression(n_samples=3, n_features=2, noise=0.1, random_state=1)\n",
    "\n",
    "Xnew = scalarX.transform(Xnew)\n",
    "ynew = model.predict(Xnew)\n",
    "for i in range(len(Xnew)):\n",
    "    print('입력데이터 = {}, 예측결과 = {}'.format(Xnew[i], ynew[i]))"
   ]
  },
  {
   "cell_type": "code",
   "execution_count": 2,
   "metadata": {},
   "outputs": [
    {
     "name": "stdout",
     "output_type": "stream",
     "text": [
      "WARNING:tensorflow:From C:\\Users\\ICT01_10\\Anaconda3\\lib\\site-packages\\tensorflow\\python\\ops\\nn_impl.py:180: add_dispatch_support.<locals>.wrapper (from tensorflow.python.ops.array_ops) is deprecated and will be removed in a future version.\n",
      "Instructions for updating:\n",
      "Use tf.where in 2.0, which has the same broadcast rule as np.where\n",
      "Train on 514 samples, validate on 254 samples\n",
      "Epoch 1/150\n",
      "514/514 [==============================] - 0s 632us/step - loss: 0.6858 - accuracy: 0.6167 - val_loss: 0.6670 - val_accuracy: 0.6732\n",
      "Epoch 2/150\n",
      "514/514 [==============================] - 0s 112us/step - loss: 0.6669 - accuracy: 0.6401 - val_loss: 0.6545 - val_accuracy: 0.6732\n",
      "Epoch 3/150\n",
      "514/514 [==============================] - 0s 121us/step - loss: 0.6606 - accuracy: 0.6284 - val_loss: 0.6519 - val_accuracy: 0.6732\n",
      "Epoch 4/150\n",
      "514/514 [==============================] - 0s 97us/step - loss: 0.6550 - accuracy: 0.6440 - val_loss: 0.6481 - val_accuracy: 0.6772\n",
      "Epoch 5/150\n",
      "514/514 [==============================] - 0s 109us/step - loss: 0.6489 - accuracy: 0.6459 - val_loss: 0.6433 - val_accuracy: 0.6772\n",
      "Epoch 6/150\n",
      "514/514 [==============================] - 0s 111us/step - loss: 0.6446 - accuracy: 0.6401 - val_loss: 0.6366 - val_accuracy: 0.6732\n",
      "Epoch 7/150\n",
      "514/514 [==============================] - 0s 107us/step - loss: 0.6414 - accuracy: 0.6381 - val_loss: 0.6337 - val_accuracy: 0.6772\n",
      "Epoch 8/150\n",
      "514/514 [==============================] - 0s 128us/step - loss: 0.6367 - accuracy: 0.6440 - val_loss: 0.6265 - val_accuracy: 0.6811\n",
      "Epoch 9/150\n",
      "514/514 [==============================] - 0s 105us/step - loss: 0.6299 - accuracy: 0.6479 - val_loss: 0.6226 - val_accuracy: 0.6693\n",
      "Epoch 10/150\n",
      "514/514 [==============================] - 0s 99us/step - loss: 0.6228 - accuracy: 0.6732 - val_loss: 0.6135 - val_accuracy: 0.6693\n",
      "Epoch 11/150\n",
      "514/514 [==============================] - 0s 109us/step - loss: 0.6137 - accuracy: 0.6732 - val_loss: 0.6214 - val_accuracy: 0.6850\n",
      "Epoch 12/150\n",
      "514/514 [==============================] - 0s 112us/step - loss: 0.6103 - accuracy: 0.6868 - val_loss: 0.6054 - val_accuracy: 0.6811\n",
      "Epoch 13/150\n",
      "514/514 [==============================] - 0s 109us/step - loss: 0.6045 - accuracy: 0.6868 - val_loss: 0.6036 - val_accuracy: 0.6654\n",
      "Epoch 14/150\n",
      "514/514 [==============================] - 0s 110us/step - loss: 0.5954 - accuracy: 0.6946 - val_loss: 0.5972 - val_accuracy: 0.6811\n",
      "Epoch 15/150\n",
      "514/514 [==============================] - 0s 103us/step - loss: 0.5926 - accuracy: 0.6946 - val_loss: 0.5913 - val_accuracy: 0.6811\n",
      "Epoch 16/150\n",
      "514/514 [==============================] - 0s 99us/step - loss: 0.5941 - accuracy: 0.6887 - val_loss: 0.5879 - val_accuracy: 0.6772\n",
      "Epoch 17/150\n",
      "514/514 [==============================] - 0s 104us/step - loss: 0.5875 - accuracy: 0.6926 - val_loss: 0.5853 - val_accuracy: 0.6772\n",
      "Epoch 18/150\n",
      "514/514 [==============================] - 0s 110us/step - loss: 0.5820 - accuracy: 0.6868 - val_loss: 0.5881 - val_accuracy: 0.6654\n",
      "Epoch 19/150\n",
      "514/514 [==============================] - 0s 107us/step - loss: 0.5818 - accuracy: 0.7023 - val_loss: 0.5788 - val_accuracy: 0.6850\n",
      "Epoch 20/150\n",
      "514/514 [==============================] - 0s 120us/step - loss: 0.5774 - accuracy: 0.6926 - val_loss: 0.5783 - val_accuracy: 0.6850\n",
      "Epoch 21/150\n",
      "514/514 [==============================] - 0s 109us/step - loss: 0.5768 - accuracy: 0.7218 - val_loss: 0.5836 - val_accuracy: 0.6732\n",
      "Epoch 22/150\n",
      "514/514 [==============================] - 0s 120us/step - loss: 0.5734 - accuracy: 0.7062 - val_loss: 0.5759 - val_accuracy: 0.6929\n",
      "Epoch 23/150\n",
      "514/514 [==============================] - 0s 105us/step - loss: 0.5706 - accuracy: 0.7062 - val_loss: 0.5769 - val_accuracy: 0.6850\n",
      "Epoch 24/150\n",
      "514/514 [==============================] - 0s 118us/step - loss: 0.5612 - accuracy: 0.7179 - val_loss: 0.5706 - val_accuracy: 0.7008\n",
      "Epoch 25/150\n",
      "514/514 [==============================] - 0s 105us/step - loss: 0.5713 - accuracy: 0.7179 - val_loss: 0.5692 - val_accuracy: 0.6929\n",
      "Epoch 26/150\n",
      "514/514 [==============================] - 0s 136us/step - loss: 0.5629 - accuracy: 0.7218 - val_loss: 0.5694 - val_accuracy: 0.7047\n",
      "Epoch 27/150\n",
      "514/514 [==============================] - 0s 109us/step - loss: 0.5665 - accuracy: 0.7160 - val_loss: 0.5732 - val_accuracy: 0.6969\n",
      "Epoch 28/150\n",
      "514/514 [==============================] - 0s 111us/step - loss: 0.5716 - accuracy: 0.7160 - val_loss: 0.5901 - val_accuracy: 0.7047\n",
      "Epoch 29/150\n",
      "514/514 [==============================] - 0s 106us/step - loss: 0.5620 - accuracy: 0.7121 - val_loss: 0.5763 - val_accuracy: 0.7047\n",
      "Epoch 30/150\n",
      "514/514 [==============================] - 0s 101us/step - loss: 0.5603 - accuracy: 0.7237 - val_loss: 0.5669 - val_accuracy: 0.7008\n",
      "Epoch 31/150\n",
      "514/514 [==============================] - 0s 107us/step - loss: 0.5574 - accuracy: 0.7237 - val_loss: 0.5713 - val_accuracy: 0.7126\n",
      "Epoch 32/150\n",
      "514/514 [==============================] - 0s 110us/step - loss: 0.5571 - accuracy: 0.7218 - val_loss: 0.5845 - val_accuracy: 0.7047\n",
      "Epoch 33/150\n",
      "514/514 [==============================] - 0s 102us/step - loss: 0.5604 - accuracy: 0.7257 - val_loss: 0.5781 - val_accuracy: 0.7126\n",
      "Epoch 34/150\n",
      "514/514 [==============================] - 0s 111us/step - loss: 0.5540 - accuracy: 0.7237 - val_loss: 0.5683 - val_accuracy: 0.7165\n",
      "Epoch 35/150\n",
      "514/514 [==============================] - 0s 113us/step - loss: 0.5489 - accuracy: 0.7354 - val_loss: 0.5653 - val_accuracy: 0.7323\n",
      "Epoch 36/150\n",
      "514/514 [==============================] - 0s 117us/step - loss: 0.5581 - accuracy: 0.7296 - val_loss: 0.5728 - val_accuracy: 0.7126\n",
      "Epoch 37/150\n",
      "514/514 [==============================] - 0s 108us/step - loss: 0.5478 - accuracy: 0.7335 - val_loss: 0.5512 - val_accuracy: 0.7205\n",
      "Epoch 38/150\n",
      "514/514 [==============================] - 0s 116us/step - loss: 0.5484 - accuracy: 0.7296 - val_loss: 0.5540 - val_accuracy: 0.7126\n",
      "Epoch 39/150\n",
      "514/514 [==============================] - 0s 109us/step - loss: 0.5497 - accuracy: 0.7160 - val_loss: 0.5479 - val_accuracy: 0.7165\n",
      "Epoch 40/150\n",
      "514/514 [==============================] - 0s 116us/step - loss: 0.5501 - accuracy: 0.7276 - val_loss: 0.5544 - val_accuracy: 0.7244\n",
      "Epoch 41/150\n",
      "514/514 [==============================] - 0s 107us/step - loss: 0.5448 - accuracy: 0.7412 - val_loss: 0.5479 - val_accuracy: 0.7323\n",
      "Epoch 42/150\n",
      "514/514 [==============================] - 0s 103us/step - loss: 0.5462 - accuracy: 0.7218 - val_loss: 0.5513 - val_accuracy: 0.7126\n",
      "Epoch 43/150\n",
      "514/514 [==============================] - 0s 115us/step - loss: 0.5457 - accuracy: 0.7335 - val_loss: 0.5647 - val_accuracy: 0.7047\n",
      "Epoch 44/150\n",
      "514/514 [==============================] - 0s 124us/step - loss: 0.5446 - accuracy: 0.7218 - val_loss: 0.5609 - val_accuracy: 0.7402\n",
      "Epoch 45/150\n",
      "514/514 [==============================] - 0s 111us/step - loss: 0.5387 - accuracy: 0.7296 - val_loss: 0.5681 - val_accuracy: 0.7047\n",
      "Epoch 46/150\n",
      "514/514 [==============================] - 0s 114us/step - loss: 0.5454 - accuracy: 0.7276 - val_loss: 0.5572 - val_accuracy: 0.7283\n",
      "Epoch 47/150\n",
      "514/514 [==============================] - 0s 111us/step - loss: 0.5416 - accuracy: 0.7296 - val_loss: 0.5451 - val_accuracy: 0.7047\n",
      "Epoch 48/150\n",
      "514/514 [==============================] - 0s 105us/step - loss: 0.5436 - accuracy: 0.7335 - val_loss: 0.5468 - val_accuracy: 0.7047\n",
      "Epoch 49/150\n",
      "514/514 [==============================] - 0s 105us/step - loss: 0.5384 - accuracy: 0.7471 - val_loss: 0.5544 - val_accuracy: 0.7126\n",
      "Epoch 50/150\n",
      "514/514 [==============================] - 0s 100us/step - loss: 0.5385 - accuracy: 0.7315 - val_loss: 0.5573 - val_accuracy: 0.7362\n",
      "Epoch 51/150\n",
      "514/514 [==============================] - 0s 131us/step - loss: 0.5331 - accuracy: 0.7412 - val_loss: 0.5405 - val_accuracy: 0.7126\n",
      "Epoch 52/150\n",
      "514/514 [==============================] - 0s 109us/step - loss: 0.5392 - accuracy: 0.7335 - val_loss: 0.5466 - val_accuracy: 0.7362\n",
      "Epoch 53/150\n",
      "514/514 [==============================] - 0s 106us/step - loss: 0.5334 - accuracy: 0.7432 - val_loss: 0.5435 - val_accuracy: 0.7323\n",
      "Epoch 54/150\n"
     ]
    },
    {
     "name": "stdout",
     "output_type": "stream",
     "text": [
      "514/514 [==============================] - 0s 106us/step - loss: 0.5324 - accuracy: 0.7451 - val_loss: 0.5500 - val_accuracy: 0.7402\n",
      "Epoch 55/150\n",
      "514/514 [==============================] - 0s 107us/step - loss: 0.5321 - accuracy: 0.7432 - val_loss: 0.5469 - val_accuracy: 0.7205\n",
      "Epoch 56/150\n",
      "514/514 [==============================] - 0s 109us/step - loss: 0.5350 - accuracy: 0.7451 - val_loss: 0.5630 - val_accuracy: 0.7402\n",
      "Epoch 57/150\n",
      "514/514 [==============================] - 0s 127us/step - loss: 0.5334 - accuracy: 0.7549 - val_loss: 0.5685 - val_accuracy: 0.7283\n",
      "Epoch 58/150\n",
      "514/514 [==============================] - 0s 122us/step - loss: 0.5317 - accuracy: 0.7374 - val_loss: 0.5470 - val_accuracy: 0.7441\n",
      "Epoch 59/150\n",
      "514/514 [==============================] - 0s 115us/step - loss: 0.5339 - accuracy: 0.7432 - val_loss: 0.5481 - val_accuracy: 0.7362\n",
      "Epoch 60/150\n",
      "514/514 [==============================] - 0s 109us/step - loss: 0.5301 - accuracy: 0.7354 - val_loss: 0.5386 - val_accuracy: 0.7480\n",
      "Epoch 61/150\n",
      "514/514 [==============================] - 0s 114us/step - loss: 0.5305 - accuracy: 0.7471 - val_loss: 0.5782 - val_accuracy: 0.6811\n",
      "Epoch 62/150\n",
      "514/514 [==============================] - 0s 103us/step - loss: 0.5305 - accuracy: 0.7335 - val_loss: 0.5415 - val_accuracy: 0.7362\n",
      "Epoch 63/150\n",
      "514/514 [==============================] - 0s 128us/step - loss: 0.5247 - accuracy: 0.7412 - val_loss: 0.5660 - val_accuracy: 0.6969\n",
      "Epoch 64/150\n",
      "514/514 [==============================] - 0s 114us/step - loss: 0.5263 - accuracy: 0.7412 - val_loss: 0.5438 - val_accuracy: 0.7520\n",
      "Epoch 65/150\n",
      "514/514 [==============================] - 0s 101us/step - loss: 0.5305 - accuracy: 0.7432 - val_loss: 0.5530 - val_accuracy: 0.7402\n",
      "Epoch 66/150\n",
      "514/514 [==============================] - 0s 107us/step - loss: 0.5253 - accuracy: 0.7296 - val_loss: 0.5435 - val_accuracy: 0.7402\n",
      "Epoch 67/150\n",
      "514/514 [==============================] - 0s 122us/step - loss: 0.5239 - accuracy: 0.7374 - val_loss: 0.5535 - val_accuracy: 0.7323\n",
      "Epoch 68/150\n",
      "514/514 [==============================] - 0s 120us/step - loss: 0.5290 - accuracy: 0.7374 - val_loss: 0.5485 - val_accuracy: 0.7165\n",
      "Epoch 69/150\n",
      "514/514 [==============================] - 0s 109us/step - loss: 0.5251 - accuracy: 0.7471 - val_loss: 0.5346 - val_accuracy: 0.7520\n",
      "Epoch 70/150\n",
      "514/514 [==============================] - 0s 108us/step - loss: 0.5253 - accuracy: 0.7490 - val_loss: 0.5473 - val_accuracy: 0.7362\n",
      "Epoch 71/150\n",
      "514/514 [==============================] - 0s 111us/step - loss: 0.5224 - accuracy: 0.7490 - val_loss: 0.5722 - val_accuracy: 0.7323\n",
      "Epoch 72/150\n",
      "514/514 [==============================] - 0s 112us/step - loss: 0.5260 - accuracy: 0.7529 - val_loss: 0.5295 - val_accuracy: 0.7520\n",
      "Epoch 73/150\n",
      "514/514 [==============================] - 0s 104us/step - loss: 0.5296 - accuracy: 0.7335 - val_loss: 0.5317 - val_accuracy: 0.7638\n",
      "Epoch 74/150\n",
      "514/514 [==============================] - 0s 133us/step - loss: 0.5175 - accuracy: 0.7568 - val_loss: 0.5418 - val_accuracy: 0.7441\n",
      "Epoch 75/150\n",
      "514/514 [==============================] - 0s 112us/step - loss: 0.5204 - accuracy: 0.7451 - val_loss: 0.5342 - val_accuracy: 0.7559\n",
      "Epoch 76/150\n",
      "514/514 [==============================] - 0s 105us/step - loss: 0.5182 - accuracy: 0.7471 - val_loss: 0.5405 - val_accuracy: 0.7480\n",
      "Epoch 77/150\n",
      "514/514 [==============================] - 0s 107us/step - loss: 0.5207 - accuracy: 0.7354 - val_loss: 0.5315 - val_accuracy: 0.7520\n",
      "Epoch 78/150\n",
      "514/514 [==============================] - 0s 115us/step - loss: 0.5185 - accuracy: 0.7490 - val_loss: 0.5314 - val_accuracy: 0.7598\n",
      "Epoch 79/150\n",
      "514/514 [==============================] - 0s 106us/step - loss: 0.5260 - accuracy: 0.7432 - val_loss: 0.5431 - val_accuracy: 0.7520\n",
      "Epoch 80/150\n",
      "514/514 [==============================] - 0s 112us/step - loss: 0.5196 - accuracy: 0.7510 - val_loss: 0.5421 - val_accuracy: 0.7480\n",
      "Epoch 81/150\n",
      "514/514 [==============================] - 0s 109us/step - loss: 0.5283 - accuracy: 0.7412 - val_loss: 0.5473 - val_accuracy: 0.7520\n",
      "Epoch 82/150\n",
      "514/514 [==============================] - 0s 109us/step - loss: 0.5170 - accuracy: 0.7412 - val_loss: 0.5356 - val_accuracy: 0.7441\n",
      "Epoch 83/150\n",
      "514/514 [==============================] - 0s 106us/step - loss: 0.5121 - accuracy: 0.7490 - val_loss: 0.5354 - val_accuracy: 0.7402\n",
      "Epoch 84/150\n",
      "514/514 [==============================] - 0s 111us/step - loss: 0.5180 - accuracy: 0.7471 - val_loss: 0.5354 - val_accuracy: 0.7559\n",
      "Epoch 85/150\n",
      "514/514 [==============================] - 0s 107us/step - loss: 0.5164 - accuracy: 0.7412 - val_loss: 0.5445 - val_accuracy: 0.7559\n",
      "Epoch 86/150\n",
      "514/514 [==============================] - 0s 109us/step - loss: 0.5131 - accuracy: 0.7412 - val_loss: 0.5411 - val_accuracy: 0.7402\n",
      "Epoch 87/150\n",
      "514/514 [==============================] - 0s 116us/step - loss: 0.5119 - accuracy: 0.7646 - val_loss: 0.5310 - val_accuracy: 0.7520\n",
      "Epoch 88/150\n",
      "514/514 [==============================] - 0s 109us/step - loss: 0.5148 - accuracy: 0.7568 - val_loss: 0.5398 - val_accuracy: 0.7480\n",
      "Epoch 89/150\n",
      "514/514 [==============================] - 0s 113us/step - loss: 0.5119 - accuracy: 0.7568 - val_loss: 0.5368 - val_accuracy: 0.7559\n",
      "Epoch 90/150\n",
      "514/514 [==============================] - 0s 106us/step - loss: 0.5129 - accuracy: 0.7393 - val_loss: 0.5355 - val_accuracy: 0.7520\n",
      "Epoch 91/150\n",
      "514/514 [==============================] - 0s 112us/step - loss: 0.5159 - accuracy: 0.7568 - val_loss: 0.5333 - val_accuracy: 0.7480\n",
      "Epoch 92/150\n",
      "514/514 [==============================] - 0s 95us/step - loss: 0.5182 - accuracy: 0.7490 - val_loss: 0.5518 - val_accuracy: 0.7559\n",
      "Epoch 93/150\n",
      "514/514 [==============================] - 0s 105us/step - loss: 0.5134 - accuracy: 0.7471 - val_loss: 0.5347 - val_accuracy: 0.7480\n",
      "Epoch 94/150\n",
      "514/514 [==============================] - 0s 111us/step - loss: 0.5141 - accuracy: 0.7354 - val_loss: 0.5256 - val_accuracy: 0.7480\n",
      "Epoch 95/150\n",
      "514/514 [==============================] - 0s 108us/step - loss: 0.5117 - accuracy: 0.7646 - val_loss: 0.5385 - val_accuracy: 0.7402\n",
      "Epoch 96/150\n",
      "514/514 [==============================] - 0s 109us/step - loss: 0.5192 - accuracy: 0.7393 - val_loss: 0.5264 - val_accuracy: 0.7677\n",
      "Epoch 97/150\n",
      "514/514 [==============================] - 0s 113us/step - loss: 0.5071 - accuracy: 0.7490 - val_loss: 0.5375 - val_accuracy: 0.7638\n",
      "Epoch 98/150\n",
      "514/514 [==============================] - 0s 108us/step - loss: 0.5090 - accuracy: 0.7529 - val_loss: 0.5406 - val_accuracy: 0.7520\n",
      "Epoch 99/150\n",
      "514/514 [==============================] - 0s 109us/step - loss: 0.5181 - accuracy: 0.7393 - val_loss: 0.5300 - val_accuracy: 0.7559\n",
      "Epoch 100/150\n",
      "514/514 [==============================] - 0s 104us/step - loss: 0.5096 - accuracy: 0.7490 - val_loss: 0.5228 - val_accuracy: 0.7677\n",
      "Epoch 101/150\n",
      "514/514 [==============================] - 0s 105us/step - loss: 0.5090 - accuracy: 0.7549 - val_loss: 0.5390 - val_accuracy: 0.7598\n",
      "Epoch 102/150\n",
      "514/514 [==============================] - 0s 113us/step - loss: 0.5033 - accuracy: 0.7626 - val_loss: 0.5185 - val_accuracy: 0.7835\n",
      "Epoch 103/150\n",
      "514/514 [==============================] - 0s 105us/step - loss: 0.5142 - accuracy: 0.7412 - val_loss: 0.5407 - val_accuracy: 0.7362\n",
      "Epoch 104/150\n",
      "514/514 [==============================] - 0s 111us/step - loss: 0.5081 - accuracy: 0.7529 - val_loss: 0.5201 - val_accuracy: 0.7638\n",
      "Epoch 105/150\n",
      "514/514 [==============================] - 0s 108us/step - loss: 0.5049 - accuracy: 0.7626 - val_loss: 0.5198 - val_accuracy: 0.7717\n",
      "Epoch 106/150\n",
      "514/514 [==============================] - 0s 111us/step - loss: 0.5070 - accuracy: 0.7588 - val_loss: 0.5286 - val_accuracy: 0.7638\n",
      "Epoch 107/150\n",
      "514/514 [==============================] - 0s 107us/step - loss: 0.5077 - accuracy: 0.7471 - val_loss: 0.5319 - val_accuracy: 0.7520\n",
      "Epoch 108/150\n",
      "514/514 [==============================] - 0s 107us/step - loss: 0.5154 - accuracy: 0.7685 - val_loss: 0.5319 - val_accuracy: 0.7480\n",
      "Epoch 109/150\n",
      "514/514 [==============================] - 0s 107us/step - loss: 0.5043 - accuracy: 0.7568 - val_loss: 0.5294 - val_accuracy: 0.7559\n",
      "Epoch 110/150\n"
     ]
    },
    {
     "name": "stdout",
     "output_type": "stream",
     "text": [
      "514/514 [==============================] - 0s 106us/step - loss: 0.5031 - accuracy: 0.7568 - val_loss: 0.5434 - val_accuracy: 0.7441\n",
      "Epoch 111/150\n",
      "514/514 [==============================] - 0s 113us/step - loss: 0.5160 - accuracy: 0.7510 - val_loss: 0.5375 - val_accuracy: 0.7559\n",
      "Epoch 112/150\n",
      "514/514 [==============================] - 0s 105us/step - loss: 0.4998 - accuracy: 0.7451 - val_loss: 0.5365 - val_accuracy: 0.7480\n",
      "Epoch 113/150\n",
      "514/514 [==============================] - 0s 107us/step - loss: 0.5060 - accuracy: 0.7626 - val_loss: 0.5254 - val_accuracy: 0.7559\n",
      "Epoch 114/150\n",
      "514/514 [==============================] - 0s 109us/step - loss: 0.5000 - accuracy: 0.7646 - val_loss: 0.5349 - val_accuracy: 0.7441\n",
      "Epoch 115/150\n",
      "514/514 [==============================] - 0s 104us/step - loss: 0.5050 - accuracy: 0.7607 - val_loss: 0.5226 - val_accuracy: 0.7638\n",
      "Epoch 116/150\n",
      "514/514 [==============================] - 0s 103us/step - loss: 0.4996 - accuracy: 0.7588 - val_loss: 0.5192 - val_accuracy: 0.7559\n",
      "Epoch 117/150\n",
      "514/514 [==============================] - 0s 109us/step - loss: 0.5144 - accuracy: 0.7374 - val_loss: 0.5352 - val_accuracy: 0.7677\n",
      "Epoch 118/150\n",
      "514/514 [==============================] - 0s 107us/step - loss: 0.4996 - accuracy: 0.7626 - val_loss: 0.5203 - val_accuracy: 0.7717\n",
      "Epoch 119/150\n",
      "514/514 [==============================] - 0s 105us/step - loss: 0.5103 - accuracy: 0.7704 - val_loss: 0.5425 - val_accuracy: 0.7520\n",
      "Epoch 120/150\n",
      "514/514 [==============================] - 0s 110us/step - loss: 0.4974 - accuracy: 0.7685 - val_loss: 0.5199 - val_accuracy: 0.7638\n",
      "Epoch 121/150\n",
      "514/514 [==============================] - 0s 104us/step - loss: 0.5044 - accuracy: 0.7471 - val_loss: 0.5495 - val_accuracy: 0.7402\n",
      "Epoch 122/150\n",
      "514/514 [==============================] - 0s 109us/step - loss: 0.5052 - accuracy: 0.7451 - val_loss: 0.5287 - val_accuracy: 0.7520\n",
      "Epoch 123/150\n",
      "514/514 [==============================] - 0s 109us/step - loss: 0.5085 - accuracy: 0.7412 - val_loss: 0.5448 - val_accuracy: 0.7441\n",
      "Epoch 124/150\n",
      "514/514 [==============================] - 0s 103us/step - loss: 0.4991 - accuracy: 0.7529 - val_loss: 0.5463 - val_accuracy: 0.7559\n",
      "Epoch 125/150\n",
      "514/514 [==============================] - 0s 106us/step - loss: 0.5055 - accuracy: 0.7646 - val_loss: 0.5406 - val_accuracy: 0.7598\n",
      "Epoch 126/150\n",
      "514/514 [==============================] - 0s 104us/step - loss: 0.5000 - accuracy: 0.7471 - val_loss: 0.5415 - val_accuracy: 0.7402\n",
      "Epoch 127/150\n",
      "514/514 [==============================] - 0s 107us/step - loss: 0.4959 - accuracy: 0.7626 - val_loss: 0.5238 - val_accuracy: 0.7598\n",
      "Epoch 128/150\n",
      "514/514 [==============================] - 0s 107us/step - loss: 0.4929 - accuracy: 0.7626 - val_loss: 0.5416 - val_accuracy: 0.7480\n",
      "Epoch 129/150\n",
      "514/514 [==============================] - 0s 103us/step - loss: 0.5034 - accuracy: 0.7354 - val_loss: 0.5233 - val_accuracy: 0.7559\n",
      "Epoch 130/150\n",
      "514/514 [==============================] - 0s 103us/step - loss: 0.4964 - accuracy: 0.7626 - val_loss: 0.5220 - val_accuracy: 0.7717\n",
      "Epoch 131/150\n",
      "514/514 [==============================] - 0s 106us/step - loss: 0.4945 - accuracy: 0.7626 - val_loss: 0.5509 - val_accuracy: 0.7441\n",
      "Epoch 132/150\n",
      "514/514 [==============================] - 0s 104us/step - loss: 0.4957 - accuracy: 0.7685 - val_loss: 0.5176 - val_accuracy: 0.7717\n",
      "Epoch 133/150\n",
      "514/514 [==============================] - 0s 105us/step - loss: 0.4957 - accuracy: 0.7549 - val_loss: 0.5246 - val_accuracy: 0.7520\n",
      "Epoch 134/150\n",
      "514/514 [==============================] - 0s 107us/step - loss: 0.4888 - accuracy: 0.7588 - val_loss: 0.5312 - val_accuracy: 0.7677\n",
      "Epoch 135/150\n",
      "514/514 [==============================] - 0s 113us/step - loss: 0.4905 - accuracy: 0.7588 - val_loss: 0.5237 - val_accuracy: 0.7717\n",
      "Epoch 136/150\n",
      "514/514 [==============================] - 0s 107us/step - loss: 0.4966 - accuracy: 0.7529 - val_loss: 0.5252 - val_accuracy: 0.7441\n",
      "Epoch 137/150\n",
      "514/514 [==============================] - 0s 107us/step - loss: 0.5034 - accuracy: 0.7374 - val_loss: 0.5282 - val_accuracy: 0.7480\n",
      "Epoch 138/150\n",
      "514/514 [==============================] - 0s 103us/step - loss: 0.4934 - accuracy: 0.7626 - val_loss: 0.5258 - val_accuracy: 0.7638\n",
      "Epoch 139/150\n",
      "514/514 [==============================] - 0s 107us/step - loss: 0.4906 - accuracy: 0.7510 - val_loss: 0.5283 - val_accuracy: 0.7677\n",
      "Epoch 140/150\n",
      "514/514 [==============================] - 0s 107us/step - loss: 0.4876 - accuracy: 0.7568 - val_loss: 0.5242 - val_accuracy: 0.7717\n",
      "Epoch 141/150\n",
      "514/514 [==============================] - 0s 103us/step - loss: 0.4909 - accuracy: 0.7588 - val_loss: 0.5119 - val_accuracy: 0.7717\n",
      "Epoch 142/150\n",
      "514/514 [==============================] - 0s 107us/step - loss: 0.4881 - accuracy: 0.7626 - val_loss: 0.5348 - val_accuracy: 0.7598\n",
      "Epoch 143/150\n",
      "514/514 [==============================] - 0s 105us/step - loss: 0.5031 - accuracy: 0.7529 - val_loss: 0.5235 - val_accuracy: 0.7559\n",
      "Epoch 144/150\n",
      "514/514 [==============================] - 0s 101us/step - loss: 0.5022 - accuracy: 0.7646 - val_loss: 0.5183 - val_accuracy: 0.7717\n",
      "Epoch 145/150\n",
      "514/514 [==============================] - 0s 107us/step - loss: 0.4912 - accuracy: 0.7588 - val_loss: 0.5197 - val_accuracy: 0.7795\n",
      "Epoch 146/150\n",
      "514/514 [==============================] - 0s 116us/step - loss: 0.4879 - accuracy: 0.7646 - val_loss: 0.5506 - val_accuracy: 0.7441\n",
      "Epoch 147/150\n",
      "514/514 [==============================] - 0s 107us/step - loss: 0.4864 - accuracy: 0.7607 - val_loss: 0.5138 - val_accuracy: 0.7677\n",
      "Epoch 148/150\n",
      "514/514 [==============================] - 0s 103us/step - loss: 0.4934 - accuracy: 0.7568 - val_loss: 0.5312 - val_accuracy: 0.7559\n",
      "Epoch 149/150\n",
      "514/514 [==============================] - 0s 99us/step - loss: 0.4889 - accuracy: 0.7626 - val_loss: 0.5290 - val_accuracy: 0.7520\n",
      "Epoch 150/150\n",
      "514/514 [==============================] - 0s 101us/step - loss: 0.4828 - accuracy: 0.7704 - val_loss: 0.5244 - val_accuracy: 0.7756\n",
      "768/768 [==============================] - 0s 13us/step\n",
      "accuracy : 77.08\n"
     ]
    }
   ],
   "source": [
    "from keras.models import Sequential # 입력이하나 output도 하나이 망\n",
    "from keras.layers import Dense\n",
    "import numpy as np\n",
    "\n",
    "np.random.seed(7)\n",
    "dataset = np.loadtxt('pima.data', delimiter=',')\n",
    "\n",
    "X = dataset[:,0:8] # 8개 독립변수\n",
    "Y = dataset[:,8] # 종속변수\n",
    "\n",
    "\n",
    "model = Sequential()\n",
    "# ?x8, 8x12 => ?x12\n",
    "#kernel_initializer='uniform' : 초기화 ? \n",
    "model.add(Dense(12,input_dim = 8, kernel_initializer='random_normal', activation='relu'))\n",
    "# ?12x, 12x8 => ?x8\n",
    "model.add(Dense(8,kernel_initializer='random_normal', activation='relu'))\n",
    "# ?x8, 8x1 => ?x1 분류 \n",
    "model.add(Dense(1,kernel_initializer='random_normal', activation='sigmoid')) # 0.5를 기준으로 분류\n",
    "model.compile(loss='binary_crossentropy', optimizer='adam', metrics=['accuracy'])\n",
    "# metrics : 내가 보고싶은것, 0 : loss, 1 : accuracy\n",
    "\n",
    "# 데이터 분리 입력 (train, test) : 과적합\n",
    "# train, validation, test\n",
    "history = model.fit(X,Y, validation_split=0.33, epochs=150, batch_size=10)\n",
    "\n",
    "scores = model.evaluate(X,Y)\n",
    "# 2번째 accuracy\n",
    "print('{} : {:.2f}'.format(model.metrics_names[1], scores[1]*100))"
   ]
  },
  {
   "cell_type": "code",
   "execution_count": 3,
   "metadata": {},
   "outputs": [
    {
     "name": "stdout",
     "output_type": "stream",
     "text": [
      "dict_keys(['val_loss', 'val_accuracy', 'loss', 'accuracy'])\n"
     ]
    },
    {
     "data": {
      "image/png": "[encoded data removed]",
      "text/plain": [
       "<Figure size 432x288 with 1 Axes>"
      ]
     },
     "metadata": {
      "needs_background": "light"
     },
     "output_type": "display_data"
    }
   ],
   "source": [
    "%matplotlib inline\n",
    "import matplotlib.pyplot as plt\n",
    "print(history.history.keys())\n",
    "# 'val_loss', 'val_accuracy', 'loss', 'accuracy\n",
    "plt.plot(history.history['accuracy'])\n",
    "plt.plot(history.history['val_accuracy'])\n",
    "plt.title('accuracy')\n",
    "plt.ylabel('accuracy')\n",
    "plt.xlabel('epoch')\n",
    "plt.legend(['train', 'test'], loc='upper left')\n",
    "plt.show()"
   ]
  },
  {
   "cell_type": "code",
   "execution_count": 4,
   "metadata": {},
   "outputs": [
    {
     "name": "stdout",
     "output_type": "stream",
     "text": [
      "dict_keys(['val_loss', 'val_accuracy', 'loss', 'accuracy'])\n"
     ]
    },
    {
     "data": {
      "image/png": "[encoded data removed]",
      "text/plain": [
       "<Figure size 432x288 with 1 Axes>"
      ]
     },
     "metadata": {
      "needs_background": "light"
     },
     "output_type": "display_data"
    }
   ],
   "source": [
    "%matplotlib inline\n",
    "import matplotlib.pyplot as plt\n",
    "print(history.history.keys())\n",
    "# 'val_loss', 'val_accuracy', 'loss', 'accuracy\n",
    "plt.plot(history.history['loss'])\n",
    "plt.plot(history.history['val_loss'])\n",
    "plt.title('loss')\n",
    "plt.ylabel('loss')\n",
    "plt.xlabel('epoch')\n",
    "plt.legend(['train', 'test'], loc='upper right')\n",
    "plt.show()"
   ]
  },
  {
   "cell_type": "code",
   "execution_count": 5,
   "metadata": {},
   "outputs": [
    {
     "name": "stdout",
     "output_type": "stream",
     "text": [
      "(10000, 2)\n",
      "(10000,)\n"
     ]
    }
   ],
   "source": [
    "from sklearn.preprocessing import scale\n",
    "from sklearn.datasets import make_moons\n",
    "from sklearn.model_selection import train_test_split\n",
    "\n",
    "X,Y = make_moons(noise = 0.2, random_state=0, n_samples=10000)\n",
    "\n",
    "X = scale(X)\n",
    "X_train, X_test, Y_train, Y_test = train_test_split(X,Y, test_size=0.5)\n",
    "print(X.shape)\n",
    "print(Y.shape)"
   ]
  },
  {
   "cell_type": "code",
   "execution_count": 6,
   "metadata": {},
   "outputs": [
    {
     "data": {
      "text/plain": [
       "[Text(0, 0.5, 'Y'), Text(0.5, 0, 'X'), Text(0.5, 1.0, 'binary classification')]"
      ]
     },
     "execution_count": 6,
     "metadata": {},
     "output_type": "execute_result"
    },
    {
     "data": {
      "image/png": "[encoded data removed]",
      "text/plain": [
       "<Figure size 432x288 with 1 Axes>"
      ]
     },
     "metadata": {
      "needs_background": "light"
     },
     "output_type": "display_data"
    }
   ],
   "source": [
    "fig, ax =plt.subplots()\n",
    "ax.scatter(X[Y==0,0], X[Y==0,1], label = 'Class 0')\n",
    "ax.scatter(X[Y==1,0], X[Y==1,1], color = 'r',label='Class 1')\n",
    "ax.legend()\n",
    "ax.set(xlabel='X',ylabel='Y', title='binary classification')"
   ]
  },
  {
   "cell_type": "code",
   "execution_count": 7,
   "metadata": {},
   "outputs": [
    {
     "name": "stdout",
     "output_type": "stream",
     "text": [
      "WARNING:tensorflow:From C:\\Users\\ICT01_10\\Anaconda3\\lib\\site-packages\\keras\\callbacks\\tensorboard_v1.py:146: The name tf.summary.histogram is deprecated. Please use tf.compat.v1.summary.histogram instead.\n",
      "\n",
      "WARNING:tensorflow:From C:\\Users\\ICT01_10\\Anaconda3\\lib\\site-packages\\keras\\callbacks\\tensorboard_v1.py:200: The name tf.summary.merge_all is deprecated. Please use tf.compat.v1.summary.merge_all instead.\n",
      "\n",
      "WARNING:tensorflow:From C:\\Users\\ICT01_10\\Anaconda3\\lib\\site-packages\\keras\\callbacks\\tensorboard_v1.py:203: The name tf.summary.FileWriter is deprecated. Please use tf.compat.v1.summary.FileWriter instead.\n",
      "\n"
     ]
    }
   ],
   "source": [
    "import tensorflow as tf\n",
    "import keras\n",
    "tf.reset_default_graph()\n",
    "# 비선형 모델 - 신경망\n",
    "model = Sequential()\n",
    "# 행렬연산 => 설명을 확대(변수 32 - 설명이 잘된다.)\n",
    "# 1000x2, 2x32 => 1000x32\n",
    "model.add(Dense(32, input_dim=2,activation='relu'))\n",
    "# 1000x32, 32x1 => 1000x1\n",
    "model.add(Dense(1, activation='sigmoid'))\n",
    "model.compile(optimizer = 'AdaDelta', loss='binary_crossentropy', metrics=['accuracy'])\n",
    "\n",
    "# callback 함수는 window 자동호출 함수\n",
    "# 이미지 출력 graph\n",
    "tb_callback = keras.callbacks.TensorBoard(log_dir='./Graph/model_1', histogram_freq=100,write_graph=True, write_images=False)\n",
    "tb_callback.set_model(model) # 콜백을 모델에 등록"
   ]
  },
  {
   "cell_type": "code",
   "execution_count": 8,
   "metadata": {},
   "outputs": [
    {
     "name": "stdout",
     "output_type": "stream",
     "text": [
      "Model: \"sequential_1\"\n",
      "_________________________________________________________________\n",
      "Layer (type)                 Output Shape              Param #   \n",
      "=================================================================\n",
      "dense_1 (Dense)              (None, 32)                96        \n",
      "_________________________________________________________________\n",
      "dense_2 (Dense)              (None, 1)                 33        \n",
      "=================================================================\n",
      "Total params: 129\n",
      "Trainable params: 129\n",
      "Non-trainable params: 0\n",
      "_________________________________________________________________\n"
     ]
    }
   ],
   "source": [
    "model.summary()"
   ]
  },
  {
   "cell_type": "code",
   "execution_count": 9,
   "metadata": {},
   "outputs": [
    {
     "name": "stdout",
     "output_type": "stream",
     "text": [
      "WARNING:tensorflow:From C:\\Users\\ICT01_10\\Anaconda3\\lib\\site-packages\\keras\\callbacks\\tensorboard_v1.py:343: The name tf.Summary is deprecated. Please use tf.compat.v1.Summary instead.\n",
      "\n"
     ]
    }
   ],
   "source": [
    "hist = model.fit(X_train, Y_train, batch_size = 32, epochs=200, verbose=0, validation_data =(X_test,Y_test), callbacks=[tb_callback])\n"
   ]
  },
  {
   "cell_type": "code",
   "execution_count": 10,
   "metadata": {},
   "outputs": [
    {
     "name": "stdout",
     "output_type": "stream",
     "text": [
      "Test loss :  0.07413437032103538\n",
      "Test accuracy :  0.972000002861023\n"
     ]
    }
   ],
   "source": [
    "score = model.evaluate(X_test, Y_test,verbose=0)\n",
    "print('Test loss : ', score[0])\n",
    "print('Test accuracy : ', score[1])"
   ]
  },
  {
   "cell_type": "code",
   "execution_count": 11,
   "metadata": {},
   "outputs": [
    {
     "name": "stdout",
     "output_type": "stream",
     "text": [
      "Model: \"sequential_1\"\n",
      "_________________________________________________________________\n",
      "Layer (type)                 Output Shape              Param #   \n",
      "=================================================================\n",
      "dense_1 (Dense)              (None, 32)                96        \n",
      "_________________________________________________________________\n",
      "dense_2 (Dense)              (None, 1)                 33        \n",
      "=================================================================\n",
      "Total params: 129\n",
      "Trainable params: 129\n",
      "Non-trainable params: 0\n",
      "_________________________________________________________________\n"
     ]
    }
   ],
   "source": [
    "keras.utils.print_summary(model)"
   ]
  },
  {
   "cell_type": "code",
   "execution_count": 12,
   "metadata": {},
   "outputs": [
    {
     "data": {
      "image/png": "[encoded data removed]",
      "text/plain": [
       "<IPython.core.display.Image object>"
      ]
     },
     "execution_count": 12,
     "metadata": {},
     "output_type": "execute_result"
    }
   ],
   "source": [
    "keras.utils.plot_model(model)"
   ]
  },
  {
   "cell_type": "code",
   "execution_count": 13,
   "metadata": {},
   "outputs": [
    {
     "data": {
      "text/plain": [
       "<pydot.Dot at 0x26f2d780d88>"
      ]
     },
     "execution_count": 13,
     "metadata": {},
     "output_type": "execute_result"
    }
   ],
   "source": [
    "%matplotlib inline\n",
    "from keras.utils.vis_utils import model_to_dot\n",
    "model_to_dot(model)"
   ]
  },
  {
   "cell_type": "code",
   "execution_count": 14,
   "metadata": {},
   "outputs": [
    {
     "data": {
      "image/svg+xml": [
       "<svg height=\"255pt\" viewBox=\"0.00 0.00 174.00 191.00\" width=\"232pt\" xmlns=\"http://www.w3.org/2000/svg\" xmlns:xlink=\"http://www.w3.org/1999/xlink\">\n",
       "<g class=\"graph\" id=\"graph0\" transform=\"scale(1.33333 1.33333) rotate(0) translate(4 187)\">\n",
       "<title>G</title>\n",
       "<polygon fill=\"white\" points=\"-4,4 -4,-187 170,-187 170,4 -4,4\" stroke=\"none\"/>\n",
       "<!-- 2676482673160 -->\n",
       "<g class=\"node\" id=\"node1\"><title>2676482673160</title>\n",
       "<polygon fill=\"none\" points=\"0,-146.5 0,-182.5 166,-182.5 166,-146.5 0,-146.5\" stroke=\"black\"/>\n",
       "<text font-family=\"Times New Roman,serif\" font-size=\"14.00\" text-anchor=\"middle\" x=\"83\" y=\"-160.8\">dense_1_input: InputLayer</text>\n",
       "</g>\n",
       "<!-- 2676479298312 -->\n",
       "<g class=\"node\" id=\"node2\"><title>2676479298312</title>\n",
       "<polygon fill=\"none\" points=\"31,-73.5 31,-109.5 135,-109.5 135,-73.5 31,-73.5\" stroke=\"black\"/>\n",
       "<text font-family=\"Times New Roman,serif\" font-size=\"14.00\" text-anchor=\"middle\" x=\"83\" y=\"-87.8\">dense_1: Dense</text>\n",
       "</g>\n",
       "<!-- 2676482673160&#45;&gt;2676479298312 -->\n",
       "<g class=\"edge\" id=\"edge1\"><title>2676482673160-&gt;2676479298312</title>\n",
       "<path d=\"M83,-146.313C83,-138.289 83,-128.547 83,-119.569\" fill=\"none\" stroke=\"black\"/>\n",
       "<polygon fill=\"black\" points=\"86.5001,-119.529 83,-109.529 79.5001,-119.529 86.5001,-119.529\" stroke=\"black\"/>\n",
       "</g>\n",
       "<!-- 2676476364744 -->\n",
       "<g class=\"node\" id=\"node3\"><title>2676476364744</title>\n",
       "<polygon fill=\"none\" points=\"31,-0.5 31,-36.5 135,-36.5 135,-0.5 31,-0.5\" stroke=\"black\"/>\n",
       "<text font-family=\"Times New Roman,serif\" font-size=\"14.00\" text-anchor=\"middle\" x=\"83\" y=\"-14.8\">dense_2: Dense</text>\n",
       "</g>\n",
       "<!-- 2676479298312&#45;&gt;2676476364744 -->\n",
       "<g class=\"edge\" id=\"edge2\"><title>2676479298312-&gt;2676476364744</title>\n",
       "<path d=\"M83,-73.3129C83,-65.2895 83,-55.5475 83,-46.5691\" fill=\"none\" stroke=\"black\"/>\n",
       "<polygon fill=\"black\" points=\"86.5001,-46.5288 83,-36.5288 79.5001,-46.5289 86.5001,-46.5288\" stroke=\"black\"/>\n",
       "</g>\n",
       "</g>\n",
       "</svg>"
      ],
      "text/plain": [
       "<IPython.core.display.SVG object>"
      ]
     },
     "execution_count": 14,
     "metadata": {},
     "output_type": "execute_result"
    }
   ],
   "source": [
    "from IPython.display import Image, SVG\n",
    "SVG(model_to_dot(model).create(prog='dot', format='svg'))"
   ]
  },
  {
   "cell_type": "code",
   "execution_count": 15,
   "metadata": {},
   "outputs": [
    {
     "name": "stdout",
     "output_type": "stream",
     "text": [
      "Model: \"sequential_1\"\n",
      "_________________________________________________________________\n",
      "Layer (type)                 Output Shape              Param #   \n",
      "=================================================================\n",
      "dense_1 (Dense)              (None, 32)                96        \n",
      "_________________________________________________________________\n",
      "dense_2 (Dense)              (None, 1)                 33        \n",
      "=================================================================\n",
      "Total params: 129\n",
      "Trainable params: 129\n",
      "Non-trainable params: 0\n",
      "_________________________________________________________________\n"
     ]
    }
   ],
   "source": [
    "model.summary()"
   ]
  },
  {
   "cell_type": "code",
   "execution_count": 16,
   "metadata": {},
   "outputs": [
    {
     "name": "stdout",
     "output_type": "stream",
     "text": [
      "(60000, 28, 28) uint8\n",
      "(10000, 28, 28) uint8\n",
      "(60000,) uint8\n",
      "(10000,) uint8\n"
     ]
    }
   ],
   "source": [
    "from  keras.datasets import mnist\n",
    "import matplotlib.pylab as plt\n",
    "(X_train0, y_train0), (X_test0, y_test0) = mnist.load_data()\n",
    "print(X_train0.shape, X_train0.dtype)\n",
    "print(X_test0.shape, X_test0.dtype)\n",
    "print(y_train0.shape, y_train0.dtype)\n",
    "print(y_test0.shape, y_test0.dtype)\n"
   ]
  },
  {
   "cell_type": "code",
   "execution_count": 17,
   "metadata": {},
   "outputs": [
    {
     "data": {
      "image/png": "[encoded data removed]",
      "text/plain": [
       "<Figure size 432x288 with 1 Axes>"
      ]
     },
     "metadata": {
      "needs_background": "light"
     },
     "output_type": "display_data"
    }
   ],
   "source": [
    "plt.imshow(X_train0[0])\n",
    "plt.grid(False)\n",
    "plt.show()"
   ]
  },
  {
   "cell_type": "code",
   "execution_count": 18,
   "metadata": {},
   "outputs": [
    {
     "name": "stdout",
     "output_type": "stream",
     "text": [
      "(60000, 784) float32\n"
     ]
    }
   ],
   "source": [
    "# fully-connected : flatten : FFNN은 데이터가 한줄로 서서 들어간다.\n",
    "X_train = X_train0.reshape(60000, 784).astype('float32') / 255.0\n",
    "X_test = X_test0.reshape(10000,784).astype('float32')/255.0\n",
    "print(X_train.shape, X_train.dtype)"
   ]
  },
  {
   "cell_type": "code",
   "execution_count": 19,
   "metadata": {},
   "outputs": [
    {
     "data": {
      "text/plain": [
       "array([5, 0, 4, 1, 9], dtype=uint8)"
      ]
     },
     "execution_count": 19,
     "metadata": {},
     "output_type": "execute_result"
    }
   ],
   "source": [
    "y_train0[:5]"
   ]
  },
  {
   "cell_type": "code",
   "execution_count": 20,
   "metadata": {},
   "outputs": [
    {
     "data": {
      "text/plain": [
       "array([[0., 0., 0., 0., 0., 1., 0., 0., 0., 0.],\n",
       "       [1., 0., 0., 0., 0., 0., 0., 0., 0., 0.],\n",
       "       [0., 0., 0., 0., 1., 0., 0., 0., 0., 0.],\n",
       "       [0., 1., 0., 0., 0., 0., 0., 0., 0., 0.],\n",
       "       [0., 0., 0., 0., 0., 0., 0., 0., 0., 1.]], dtype=float32)"
      ]
     },
     "execution_count": 20,
     "metadata": {},
     "output_type": "execute_result"
    }
   ],
   "source": [
    "from keras.utils import np_utils\n",
    "Y_train = np_utils.to_categorical(y_train0,10)\n",
    "Y_test = np_utils.to_categorical(y_test0,10)\n",
    "Y_train[:5]"
   ]
  },
  {
   "cell_type": "code",
   "execution_count": 21,
   "metadata": {},
   "outputs": [],
   "source": [
    "import numpy as np\n",
    "from keras.optimizers import SGD\n",
    "np.random.seed(0)\n",
    "model = Sequential()\n",
    "model.add(Dense(15, input_dim=784, activation = 'sigmoid'))\n",
    "model.add(Dense(10, activation='sigmoid'))\n",
    "model.compile(optimizer=SGD(lr=0.2), loss='mean_squared_error', metrics = ['accuracy'])"
   ]
  },
  {
   "cell_type": "code",
   "execution_count": 22,
   "metadata": {},
   "outputs": [
    {
     "data": {
      "text/plain": [
       "[<keras.layers.core.Dense at 0x26f2d69d488>,\n",
       " <keras.layers.core.Dense at 0x26f2d72e308>]"
      ]
     },
     "execution_count": 22,
     "metadata": {},
     "output_type": "execute_result"
    }
   ],
   "source": [
    "model.layers"
   ]
  },
  {
   "cell_type": "code",
   "execution_count": 23,
   "metadata": {},
   "outputs": [
    {
     "data": {
      "text/plain": [
       "<function keras.activations.sigmoid(x)>"
      ]
     },
     "execution_count": 23,
     "metadata": {},
     "output_type": "execute_result"
    }
   ],
   "source": [
    "\n",
    "l1 = model.layers[0]\n",
    "l2 = model.layers[1]\n",
    "# 레이어 속성으로 정보 확인\n",
    "l1.name\n",
    "l1.input_shape\n",
    "l1.activation"
   ]
  },
  {
   "cell_type": "code",
   "execution_count": null,
   "metadata": {},
   "outputs": [],
   "source": []
  },
  {
   "cell_type": "code",
   "execution_count": 25,
   "metadata": {},
   "outputs": [
    {
     "name": "stderr",
     "output_type": "stream",
     "text": [
      "C:\\Users\\ICT01_10\\Anaconda3\\lib\\site-packages\\ipykernel_launcher.py:1: UserWarning: The `nb_epoch` argument in `fit` has been renamed `epochs`.\n",
      "  \"\"\"Entry point for launching an IPython kernel.\n"
     ]
    },
    {
     "name": "stdout",
     "output_type": "stream",
     "text": [
      "Train on 60000 samples, validate on 10000 samples\n",
      "Epoch 1/30\n",
      " - 1s - loss: 0.1019 - accuracy: 0.2440 - val_loss: 0.0864 - val_accuracy: 0.3212\n",
      "Epoch 2/30\n",
      " - 1s - loss: 0.0845 - accuracy: 0.3921 - val_loss: 0.0821 - val_accuracy: 0.4409\n",
      "Epoch 3/30\n",
      " - 1s - loss: 0.0796 - accuracy: 0.4997 - val_loss: 0.0765 - val_accuracy: 0.5340\n",
      "Epoch 4/30\n",
      " - 1s - loss: 0.0740 - accuracy: 0.5620 - val_loss: 0.0707 - val_accuracy: 0.5852\n",
      "Epoch 5/30\n",
      " - 1s - loss: 0.0682 - accuracy: 0.6149 - val_loss: 0.0649 - val_accuracy: 0.6522\n",
      "Epoch 6/30\n",
      " - 1s - loss: 0.0625 - accuracy: 0.6759 - val_loss: 0.0594 - val_accuracy: 0.6998\n",
      "Epoch 7/30\n",
      " - 1s - loss: 0.0576 - accuracy: 0.7101 - val_loss: 0.0551 - val_accuracy: 0.7316\n",
      "Epoch 8/30\n",
      " - 1s - loss: 0.0537 - accuracy: 0.7325 - val_loss: 0.0516 - val_accuracy: 0.7485\n",
      "Epoch 9/30\n",
      " - 1s - loss: 0.0505 - accuracy: 0.7474 - val_loss: 0.0486 - val_accuracy: 0.7639\n",
      "Epoch 10/30\n",
      " - 1s - loss: 0.0478 - accuracy: 0.7609 - val_loss: 0.0461 - val_accuracy: 0.7759\n",
      "Epoch 11/30\n",
      " - 1s - loss: 0.0455 - accuracy: 0.7739 - val_loss: 0.0439 - val_accuracy: 0.7893\n",
      "Epoch 12/30\n",
      " - 1s - loss: 0.0435 - accuracy: 0.7859 - val_loss: 0.0420 - val_accuracy: 0.8023\n",
      "Epoch 13/30\n",
      " - 1s - loss: 0.0417 - accuracy: 0.7977 - val_loss: 0.0402 - val_accuracy: 0.8132\n",
      "Epoch 14/30\n",
      " - 1s - loss: 0.0400 - accuracy: 0.8083 - val_loss: 0.0386 - val_accuracy: 0.8255\n",
      "Epoch 15/30\n",
      " - 1s - loss: 0.0385 - accuracy: 0.8192 - val_loss: 0.0371 - val_accuracy: 0.8359\n",
      "Epoch 16/30\n",
      " - 1s - loss: 0.0371 - accuracy: 0.8288 - val_loss: 0.0358 - val_accuracy: 0.8432\n",
      "Epoch 17/30\n",
      " - 1s - loss: 0.0359 - accuracy: 0.8371 - val_loss: 0.0345 - val_accuracy: 0.8503\n",
      "Epoch 18/30\n",
      " - 1s - loss: 0.0347 - accuracy: 0.8440 - val_loss: 0.0334 - val_accuracy: 0.8557\n",
      "Epoch 19/30\n",
      " - 1s - loss: 0.0336 - accuracy: 0.8506 - val_loss: 0.0323 - val_accuracy: 0.8618\n",
      "Epoch 20/30\n",
      " - 1s - loss: 0.0326 - accuracy: 0.8565 - val_loss: 0.0313 - val_accuracy: 0.8651\n",
      "Epoch 21/30\n",
      " - 1s - loss: 0.0316 - accuracy: 0.8610 - val_loss: 0.0304 - val_accuracy: 0.8706\n",
      "Epoch 22/30\n",
      " - 1s - loss: 0.0308 - accuracy: 0.8646 - val_loss: 0.0295 - val_accuracy: 0.8742\n",
      "Epoch 23/30\n",
      " - 1s - loss: 0.0299 - accuracy: 0.8680 - val_loss: 0.0287 - val_accuracy: 0.8777\n",
      "Epoch 24/30\n",
      " - 1s - loss: 0.0292 - accuracy: 0.8709 - val_loss: 0.0280 - val_accuracy: 0.8790\n",
      "Epoch 25/30\n",
      " - 1s - loss: 0.0285 - accuracy: 0.8738 - val_loss: 0.0273 - val_accuracy: 0.8814\n",
      "Epoch 26/30\n",
      " - 1s - loss: 0.0278 - accuracy: 0.8765 - val_loss: 0.0267 - val_accuracy: 0.8845\n",
      "Epoch 27/30\n",
      " - 1s - loss: 0.0272 - accuracy: 0.8787 - val_loss: 0.0261 - val_accuracy: 0.8863\n",
      "Epoch 28/30\n",
      " - 1s - loss: 0.0266 - accuracy: 0.8814 - val_loss: 0.0255 - val_accuracy: 0.8878\n",
      "Epoch 29/30\n",
      " - 1s - loss: 0.0261 - accuracy: 0.8829 - val_loss: 0.0250 - val_accuracy: 0.8894\n",
      "Epoch 30/30\n",
      " - 1s - loss: 0.0256 - accuracy: 0.8844 - val_loss: 0.0245 - val_accuracy: 0.8904\n"
     ]
    },
    {
     "data": {
      "image/png": "[encoded data removed]",
      "text/plain": [
       "<Figure size 432x288 with 1 Axes>"
      ]
     },
     "metadata": {
      "needs_background": "light"
     },
     "output_type": "display_data"
    }
   ],
   "source": [
    "\n",
    "hist = model.fit(X_train, Y_train, nb_epoch=30, batch_size=100, validation_data=(X_test, Y_test), verbose=2)\n",
    "\n",
    "plt.plot(hist.history['loss'])\n",
    "plt.show()"
   ]
  },
  {
   "cell_type": "code",
   "execution_count": 26,
   "metadata": {},
   "outputs": [
    {
     "data": {
      "image/png": "[encoded data removed]",
      "text/plain": [
       "<Figure size 432x288 with 1 Axes>"
      ]
     },
     "metadata": {
      "needs_background": "light"
     },
     "output_type": "display_data"
    },
    {
     "name": "stdout",
     "output_type": "stream",
     "text": [
      "<keras.engine.sequential.Sequential object at 0x0000026F2D72B548>\n",
      "{'batch_size': 100, 'epochs': 30, 'steps': None, 'samples': 60000, 'verbose': 2, 'do_validation': True, 'metrics': ['loss', 'accuracy', 'val_loss', 'val_accuracy']}\n",
      "[0.24401666, 0.39213333, 0.49971667, 0.56201667, 0.6149167, 0.6759167, 0.7101333, 0.7325, 0.7474167, 0.76085, 0.77395, 0.7858833, 0.79766667, 0.8082833, 0.81918335, 0.82878333, 0.83713335, 0.84403336, 0.8506333, 0.85646665, 0.8609667, 0.8646167, 0.86795, 0.87091666, 0.87381667, 0.87651664, 0.8786833, 0.88136667, 0.8829, 0.8844]\n",
      "{'val_loss': [0.08644600212574005, 0.08205005668103695, 0.07654464691877365, 0.07074860535562039, 0.06485860958695412, 0.059424911960959434, 0.05506921458989382, 0.05155788816511631, 0.04861875843256712, 0.046099744513630865, 0.043904951326549056, 0.04195264371111989, 0.040192772652953866, 0.038578768987208606, 0.037113306503742935, 0.035759844500571486, 0.03452287472784519, 0.03337498551234603, 0.03230768712237477, 0.0313104984536767, 0.030401214193552732, 0.029542458634823562, 0.028746553026139737, 0.028009491926059126, 0.027330870293080806, 0.02667751658707857, 0.026086170673370362, 0.02553708734922111, 0.025007229940965773, 0.02452364400960505], 'val_accuracy': [0.32120001316070557, 0.4408999979496002, 0.5339999794960022, 0.5852000117301941, 0.6521999835968018, 0.6998000144958496, 0.7315999865531921, 0.7484999895095825, 0.7638999819755554, 0.7759000062942505, 0.7893000245094299, 0.802299976348877, 0.8131999969482422, 0.8255000114440918, 0.8359000086784363, 0.8432000279426575, 0.8503000140190125, 0.8557000160217285, 0.8618000149726868, 0.8651000261306763, 0.8705999851226807, 0.8741999864578247, 0.8776999711990356, 0.8790000081062317, 0.8813999891281128, 0.8845000267028809, 0.8863000273704529, 0.8877999782562256, 0.8894000053405762, 0.8903999924659729], 'loss': [0.10186500436315934, 0.08453137813756863, 0.07962924962242444, 0.07398902812351783, 0.06821247670799493, 0.06249756719917059, 0.0576209723825256, 0.05371752585594853, 0.050525413155555726, 0.04783965204531948, 0.0455224124652644, 0.04348173057039579, 0.04165602866560221, 0.04000690635914604, 0.03850308905355632, 0.03712385095345477, 0.035852968012914065, 0.03467701503075659, 0.03358951125604411, 0.03257976420223713, 0.03164059714103738, 0.030765778847659627, 0.029949299000824492, 0.029189210363353292, 0.02847849385191997, 0.027813650922228893, 0.027193899791066845, 0.026613051077971857, 0.026069126225387058, 0.025560891050845386], 'accuracy': [0.24401666, 0.39213333, 0.49971667, 0.56201667, 0.6149167, 0.6759167, 0.7101333, 0.7325, 0.7474167, 0.76085, 0.77395, 0.7858833, 0.79766667, 0.8082833, 0.81918335, 0.82878333, 0.83713335, 0.84403336, 0.8506333, 0.85646665, 0.8609667, 0.8646167, 0.86795, 0.87091666, 0.87381667, 0.87651664, 0.8786833, 0.88136667, 0.8829, 0.8844]}\n"
     ]
    }
   ],
   "source": [
    "plt.plot(hist.history['accuracy'], 'b-', label='trainig')\n",
    "plt.plot(hist.history['val_accuracy'], 'r:', label='test')\n",
    "plt.legend()\n",
    "plt.show()\n",
    "\n",
    "print(hist.model)\n",
    "print(hist.params)\n",
    "print(hist.history['accuracy'])\n",
    "print(hist.history)"
   ]
  },
  {
   "cell_type": "code",
   "execution_count": 27,
   "metadata": {},
   "outputs": [],
   "source": [
    "# Callback class\n",
    "# custom callback 함수의 제작\n",
    "# callback은 함수에 의해서 호출되는 객체\n",
    "class CustomHistory(keras.callbacks.Callback): # 상속받음\n",
    "    def init(self):\n",
    "        self.train_loss = []\n",
    "        self.val_loss = []\n",
    "        self.train_acc=[]\n",
    "        self.val_acc = []\n",
    "    def on_epoch_end(self, batch, logs={}): # 오버라이딩\n",
    "        self.train_loss.append(logs.get('loss'))\n",
    "        self.val_loss.append(logs.get('val_loss'))\n",
    "        self.train_acc.append(logs.get('acc'))\n",
    "        self.val_acc.append(logs.get('val_acc'))"
   ]
  },
  {
   "cell_type": "code",
   "execution_count": 28,
   "metadata": {},
   "outputs": [],
   "source": [
    "from keras.datasets import mnist"
   ]
  },
  {
   "cell_type": "code",
   "execution_count": null,
   "metadata": {},
   "outputs": [],
   "source": []
  },
  {
   "cell_type": "code",
   "execution_count": null,
   "metadata": {},
   "outputs": [],
   "source": []
  },
  {
   "cell_type": "code",
   "execution_count": null,
   "metadata": {},
   "outputs": [],
   "source": []
  },
  {
   "cell_type": "code",
   "execution_count": null,
   "metadata": {},
   "outputs": [],
   "source": []
  },
  {
   "cell_type": "code",
   "execution_count": null,
   "metadata": {},
   "outputs": [],
   "source": []
  },
  {
   "cell_type": "code",
   "execution_count": null,
   "metadata": {},
   "outputs": [],
   "source": []
  },
  {
   "cell_type": "code",
   "execution_count": null,
   "metadata": {},
   "outputs": [],
   "source": []
  },
  {
   "cell_type": "code",
   "execution_count": null,
   "metadata": {},
   "outputs": [],
   "source": []
  },
  {
   "cell_type": "code",
   "execution_count": null,
   "metadata": {},
   "outputs": [],
   "source": []
  },
  {
   "cell_type": "code",
   "execution_count": null,
   "metadata": {},
   "outputs": [],
   "source": []
  },
  {
   "cell_type": "code",
   "execution_count": null,
   "metadata": {},
   "outputs": [],
   "source": []
  },
  {
   "cell_type": "code",
   "execution_count": null,
   "metadata": {},
   "outputs": [],
   "source": []
  },
  {
   "cell_type": "code",
   "execution_count": null,
   "metadata": {},
   "outputs": [],
   "source": []
  },
  {
   "cell_type": "code",
   "execution_count": null,
   "metadata": {},
   "outputs": [],
   "source": []
  },
  {
   "cell_type": "code",
   "execution_count": null,
   "metadata": {},
   "outputs": [],
   "source": []
  },
  {
   "cell_type": "code",
   "execution_count": null,
   "metadata": {},
   "outputs": [],
   "source": []
  },
  {
   "cell_type": "code",
   "execution_count": null,
   "metadata": {},
   "outputs": [],
   "source": []
  },
  {
   "cell_type": "code",
   "execution_count": null,
   "metadata": {},
   "outputs": [],
   "source": []
  },
  {
   "cell_type": "code",
   "execution_count": null,
   "metadata": {},
   "outputs": [],
   "source": []
  }
 ],
 "metadata": {
  "kernelspec": {
   "display_name": "Python 3",
   "language": "python",
   "name": "python3"
  },
  "language_info": {
   "codemirror_mode": {
    "name": "ipython",
    "version": 3
   },
   "file_extension": ".py",
   "mimetype": "text/x-python",
   "name": "python",
   "nbconvert_exporter": "python",
   "pygments_lexer": "ipython3",
   "version": "3.7.4"
  }
 },
 "nbformat": 4,
 "nbformat_minor": 2
}
