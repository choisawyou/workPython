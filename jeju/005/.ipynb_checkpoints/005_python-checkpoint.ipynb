{
 "cells": [
  {
   "cell_type": "markdown",
   "metadata": {},
   "source": [
    "## linux : mariadb, 서버관리자\n",
    "- 서비스 제공을 제어 : systemctl\n",
    "    systemctl get-default : graphic mode(GUI : graphic user interface)\n",
    "        : text mode()- 서버가 서비스를 제공\n",
    "- 보안 : firewall-cmd-firewall 방화볍\n",
    "- ip, port 포트번호는 막혀있음\n",
    "    firewall-cmd---permanent --zone=public --add-port=3306/tcp\n",
    "    Heidisql : 원격으로 mariadb에 접속 작업\n",
    "    \n",
    "## vi 편집기\n",
    "- 명령보드 : (esc)커서가 있는곳에서 dd(삭제), yy(복사), p(붙여넣기)\n",
    "- 입력모드 : i, a, o (입력행 모드로 변경)\n",
    "- 마지막행 모드 : :w(저장), :q!(저장하지 않고 종료), "
   ]
  },
  {
   "cell_type": "markdown",
   "metadata": {},
   "source": [
    "vm\n",
    "oracle 화면조정\n",
    "서버용 리눅스\n",
    "heidisql 마리아디비 원격제어\n",
    "putty 원격제어"
   ]
  },
  {
   "cell_type": "code",
   "execution_count": null,
   "metadata": {},
   "outputs": [],
   "source": [
    "firewall-cmd --permanent --zone=public --add-port=22/tcp\n",
    "firewall-cmd --list-services\n",
    "systemctl start firewalld\n",
    "systemctl enable firewalld1234\n",
    "yum install openssh-clients\n",
    "reboot\n",
    "ifconfig\n",
    "cd /etc\n",
    "cd sysconfig\n",
    "cd network-scripts\n",
    "cd network-scripts\n",
    "vi ifcfg-enp0s3\n",
    "\n",
    "192.168.1.224"
   ]
  }
 ],
 "metadata": {
  "kernelspec": {
   "display_name": "Python 3",
   "language": "python",
   "name": "python3"
  },
  "language_info": {
   "codemirror_mode": {
    "name": "ipython",
    "version": 3
   },
   "file_extension": ".py",
   "mimetype": "text/x-python",
   "name": "python",
   "nbconvert_exporter": "python",
   "pygments_lexer": "ipython3",
   "version": "3.7.4"
  }
 },
 "nbformat": 4,
 "nbformat_minor": 2
}
