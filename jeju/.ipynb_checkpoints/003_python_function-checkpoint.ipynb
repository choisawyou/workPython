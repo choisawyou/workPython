{
 "cells": [
  {
   "cell_type": "markdown",
   "metadata": {},
   "source": [
    "# 함수(function)\n",
    "* 함수이름은 중복이 되면 안됨(오버로딩은 default매개변수로 해결)\n",
    "* Required auguments(매개변수를 순서적으로 입력)\n",
    "* keyword auguments(키 매개변수의 순서 변경이 가능)\n",
    "* Default auguments(오버로딩 해결)\n",
    "* Variable-length auguments(변동매개변수 : * -> list, ** -> dict)"
   ]
  },
  {
   "cell_type": "code",
   "execution_count": 1,
   "metadata": {},
   "outputs": [
    {
     "name": "stdout",
     "output_type": "stream",
     "text": [
      "30\n"
     ]
    }
   ],
   "source": [
    "a = 10\n",
    "b = 20\n",
    "result = a + b\n",
    "print(result)"
   ]
  },
  {
   "cell_type": "code",
   "execution_count": 2,
   "metadata": {},
   "outputs": [
    {
     "name": "stdout",
     "output_type": "stream",
     "text": [
      "30\n",
      "70\n"
     ]
    }
   ],
   "source": [
    "def addvalue(a, b): # 주소값만 전달 call by reference\n",
    "    return a + b\n",
    "\n",
    "print(addvalue(10, 20)) # 호출시 데이터는 힘에 저장 => 주소값만 전달\n",
    "print(addvalue(30, 40))"
   ]
  },
  {
   "cell_type": "markdown",
   "metadata": {},
   "source": [
    "### 회귀분석\n",
    "##### y = ax + b # 기울기 : a, bias(y절편) : b"
   ]
  },
  {
   "cell_type": "code",
   "execution_count": 4,
   "metadata": {},
   "outputs": [
    {
     "data": {
      "text/plain": [
       "1030"
      ]
     },
     "execution_count": 4,
     "metadata": {},
     "output_type": "execute_result"
    }
   ],
   "source": [
    "def reg(a, b, x):\n",
    "    return a * x + b\n",
    "reg(10, 30, 100)"
   ]
  },
  {
   "cell_type": "code",
   "execution_count": 8,
   "metadata": {},
   "outputs": [
    {
     "name": "stdout",
     "output_type": "stream",
     "text": [
      "1030\n"
     ]
    }
   ],
   "source": [
    "def reg(x):\n",
    "    a = 10\n",
    "    b = 30\n",
    "    return a*x+b\n",
    "print(reg(100))\n",
    "# reg(10, 30, 100) : 오버로딩은 안됀다. "
   ]
  },
  {
   "cell_type": "code",
   "execution_count": 12,
   "metadata": {},
   "outputs": [],
   "source": [
    "# 두수를 더한 값이 10보다 큰지 확인하세요\n",
    "a=10\n",
    "b=20\n",
    "result = a+b\n",
    "if result >= 10:\n",
    "    result  = '10보다 크다'\n",
    "else:\n",
    "    result = '10보다 작다'"
   ]
  },
  {
   "cell_type": "code",
   "execution_count": 11,
   "metadata": {},
   "outputs": [
    {
     "data": {
      "text/plain": [
       "'10보다 크다.'"
      ]
     },
     "execution_count": 11,
     "metadata": {},
     "output_type": "execute_result"
    }
   ],
   "source": [
    "def sum_1(a,b):\n",
    "    result = a+b\n",
    "    \n",
    "    if result>=10:\n",
    "        result = '10보다 크다.'\n",
    "    else:\n",
    "        result = '10보다 작다.'\n",
    "        \n",
    "    return result\n",
    "\n",
    "sum_1(10, 20)"
   ]
  },
  {
   "cell_type": "code",
   "execution_count": 17,
   "metadata": {},
   "outputs": [
    {
     "name": "stdout",
     "output_type": "stream",
     "text": [
      "(20, 10)\n"
     ]
    }
   ],
   "source": [
    "a=10\n",
    "b=20\n",
    "def swap(a,b):\n",
    "    a,b = b,a\n",
    "    return a,b\n",
    "\n",
    "print(swap(10, 20))"
   ]
  },
  {
   "cell_type": "code",
   "execution_count": 18,
   "metadata": {},
   "outputs": [],
   "source": [
    "# def swap(a,b):\n",
    "#     return b,a\n",
    "# x = swap(10, 20) : 함수가 리턴하는 값은 튜플\n",
    "# print(x)\n",
    "# type)x"
   ]
  },
  {
   "cell_type": "code",
   "execution_count": 19,
   "metadata": {},
   "outputs": [
    {
     "name": "stdout",
     "output_type": "stream",
     "text": [
      "30\n",
      "-10\n",
      "200\n"
     ]
    }
   ],
   "source": [
    "# 두 수를 입력받아 +, -, * 하는 함수 3개를 작성\n",
    "# add, subtract, multiply\n",
    "\n",
    "def add(a,b):\n",
    "    result=a+b\n",
    "    return result\n",
    "\n",
    "def subtract(a,b):\n",
    "    result=a-b\n",
    "    return result\n",
    "\n",
    "def multiply(a,b):\n",
    "    result = a*b\n",
    "    return result\n",
    "\n",
    "print(add(10,20))\n",
    "print(subtract(10, 20))\n",
    "print(multiply(10, 20))"
   ]
  },
  {
   "cell_type": "code",
   "execution_count": 20,
   "metadata": {},
   "outputs": [
    {
     "name": "stdout",
     "output_type": "stream",
     "text": [
      "결과 : 30\n",
      "결과 : -10\n",
      "결과 : 200\n"
     ]
    }
   ],
   "source": [
    "# 함수는 일급함수 : 함수가 매개변수로 전달가능, 리턴값으로 가능\n",
    "def changefun(g, a, b):\n",
    "    return g(a,b)\n",
    "print('결과 : {}'.format(changefun(add, 10, 20))) # sort(key함수 전달)\n",
    "print('결과 : {}'.format(changefun(subtract, 10, 20)))\n",
    "print('결과 : {}'.format(changefun(multiply, 10, 20)))"
   ]
  },
  {
   "cell_type": "code",
   "execution_count": 26,
   "metadata": {},
   "outputs": [
    {
     "name": "stdout",
     "output_type": "stream",
     "text": [
      "함수 내부에서 출력 :  [10, 20, 30, [1, 2, 3, 4]]\n",
      "함수 외부에서 출력 :  [10, 20, 30, [1, 2, 3, 4]]\n"
     ]
    }
   ],
   "source": [
    "def changeme(mylist): # mylist = mylist 주소\n",
    "    mylist.append([1,2,3,4]);\n",
    "    print('함수 내부에서 출력 : ',mylist)\n",
    "    return\n",
    "\n",
    "mylist = [10, 20, 30] # heap에 저장, 이유 : 주소값이 넘어갔기 때문에 call by reference\n",
    "\n",
    "changeme(mylist);\n",
    "\n",
    "print('함수 외부에서 출력 : ',mylist)"
   ]
  },
  {
   "cell_type": "code",
   "execution_count": 23,
   "metadata": {},
   "outputs": [
    {
     "name": "stdout",
     "output_type": "stream",
     "text": [
      "함수 내부에서 출력 :  [1, 2, 3, 4]\n",
      "함수 외부에서 출력 :  [10, 20, 30]\n"
     ]
    }
   ],
   "source": [
    "# def changeme(mylist): # mylist = mylist 주소\n",
    "#     mylist=[1,2,3,4]; # 대입이 벌어지면 call by value\n",
    "#     print('함수 내부에서 출력 : ',mylist)\n",
    "#     return\n",
    "\n",
    "# mylist = [10, 20, 30] # heap에 저장, 이유 : 주소값이 넘어갔기 때문에 call by reference\n",
    "\n",
    "# changeme(mylist);\n",
    "\n",
    "# print('함수 외부에서 출력 : ',mylist)"
   ]
  },
  {
   "cell_type": "code",
   "execution_count": 27,
   "metadata": {},
   "outputs": [],
   "source": [
    "# 실행이 안되는 이유 : data type을 관리하는 것은 프로그래머 책임\n",
    "# mylist = [10, 20, 30] \n",
    "\n",
    "# changeme(mylist);\n",
    "\n",
    "# print('함수 외부에서 출력 : ',mylist)"
   ]
  },
  {
   "cell_type": "markdown",
   "metadata": {},
   "source": [
    "### 변동 매개변수"
   ]
  },
  {
   "cell_type": "code",
   "execution_count": 32,
   "metadata": {},
   "outputs": [
    {
     "name": "stdout",
     "output_type": "stream",
     "text": [
      "시작\n",
      "1, 2, 3, \n",
      "1, 2, 3, 4, 5, \n",
      "12, 13, 14, \n"
     ]
    }
   ],
   "source": [
    "def func1(*args): # list\n",
    "    for i in args:\n",
    "        print(i, end=', ')\n",
    "    print()\n",
    "print('시작')\n",
    "func1(1,2,3)\n",
    "func1(1,2,3,4,5)\n",
    "\n",
    "t=(12,13,14)\n",
    "func1(*t)"
   ]
  },
  {
   "cell_type": "code",
   "execution_count": 45,
   "metadata": {},
   "outputs": [
    {
     "name": "stdout",
     "output_type": "stream",
     "text": [
      "args is  (1, 2)\n",
      "kwargs is  {'a': 5.0}\n",
      "Hello Now I'm going to call <function g at 0x00000253FF463678>\n",
      "1\n",
      "2\n",
      "5.0\n"
     ]
    },
    {
     "data": {
      "text/plain": [
       "0.6"
      ]
     },
     "execution_count": 45,
     "metadata": {},
     "output_type": "execute_result"
    }
   ],
   "source": [
    "def say_hello_then_call(f, *args, **kwargs):\n",
    "    print('args is ', args)\n",
    "    print('kwargs is ', kwargs)\n",
    "    print(\"Hello Now I'm going to call %s\"%f) # 함수가 위치한 주소값 출력\n",
    "    return f(*args, **kwargs)\n",
    "\n",
    "def g(x,y,a): # 디폼트 매개변수\n",
    "    print(x)\n",
    "    print(y)\n",
    "    print(a)\n",
    "    return (x+y)/a\n",
    "say_hello_then_call(g, 1,2, a=5.)"
   ]
  },
  {
   "cell_type": "code",
   "execution_count": 36,
   "metadata": {},
   "outputs": [
    {
     "name": "stdout",
     "output_type": "stream",
     "text": [
      "1 0\n",
      "1 2\n",
      "1 2\n"
     ]
    }
   ],
   "source": [
    "def func_test2(a, b=0):\n",
    "    print(a,b)\n",
    "func_test2(1)\n",
    "func_test2(1,2)\n",
    "func_test2(b=2, a=1) # 키 매개변수"
   ]
  },
  {
   "cell_type": "code",
   "execution_count": 50,
   "metadata": {},
   "outputs": [],
   "source": [
    "def func_test4(): # None 객체\n",
    "    pass # 몬동을 미지정"
   ]
  },
  {
   "cell_type": "code",
   "execution_count": 67,
   "metadata": {
    "scrolled": true
   },
   "outputs": [
    {
     "name": "stdout",
     "output_type": "stream",
     "text": [
      "<class 'NoneType'>\n",
      "<class 'NoneType'>\n"
     ]
    },
    {
     "data": {
      "text/plain": [
       "['__bool__',\n",
       " '__class__',\n",
       " '__delattr__',\n",
       " '__dir__',\n",
       " '__doc__',\n",
       " '__eq__',\n",
       " '__format__',\n",
       " '__ge__',\n",
       " '__getattribute__',\n",
       " '__gt__',\n",
       " '__hash__',\n",
       " '__init__',\n",
       " '__init_subclass__',\n",
       " '__le__',\n",
       " '__lt__',\n",
       " '__ne__',\n",
       " '__new__',\n",
       " '__reduce__',\n",
       " '__reduce_ex__',\n",
       " '__repr__',\n",
       " '__setattr__',\n",
       " '__sizeof__',\n",
       " '__str__',\n",
       " '__subclasshook__']"
      ]
     },
     "execution_count": 67,
     "metadata": {},
     "output_type": "execute_result"
    }
   ],
   "source": [
    "# == 숫자나 문자, 객체를 비교할 때는 is\n",
    "result = func_test4()\n",
    "result is None\n",
    "result == None\n",
    "\n",
    "print(type(result))\n",
    "print(type(None))\n",
    "# dir(result)\n",
    "dir(None)"
   ]
  },
  {
   "cell_type": "code",
   "execution_count": 68,
   "metadata": {},
   "outputs": [
    {
     "data": {
      "text/plain": [
       "<method-wrapper '__str__' of NoneType object at 0x00007FFFF6F85CE0>"
      ]
     },
     "execution_count": 68,
     "metadata": {},
     "output_type": "execute_result"
    }
   ],
   "source": [
    "None.__str__"
   ]
  },
  {
   "cell_type": "code",
   "execution_count": 70,
   "metadata": {},
   "outputs": [
    {
     "data": {
      "text/plain": [
       "<method-wrapper '__str__' of NoneType object at 0x00007FFFF6F85CE0>"
      ]
     },
     "execution_count": 70,
     "metadata": {},
     "output_type": "execute_result"
    }
   ],
   "source": [
    "result.__str__"
   ]
  },
  {
   "cell_type": "code",
   "execution_count": 59,
   "metadata": {},
   "outputs": [
    {
     "data": {
      "text/plain": [
       "NoneType"
      ]
     },
     "execution_count": 59,
     "metadata": {},
     "output_type": "execute_result"
    }
   ],
   "source": [
    "result.__class__ # 맴버변수, 시스템에서 생성한 변수"
   ]
  },
  {
   "cell_type": "code",
   "execution_count": 60,
   "metadata": {},
   "outputs": [
    {
     "data": {
      "text/plain": [
       "function"
      ]
     },
     "execution_count": 60,
     "metadata": {},
     "output_type": "execute_result"
    }
   ],
   "source": [
    "func_test4.__class__"
   ]
  },
  {
   "cell_type": "code",
   "execution_count": 71,
   "metadata": {},
   "outputs": [
    {
     "name": "stdout",
     "output_type": "stream",
     "text": [
      "15 5 50\n",
      "<class 'function'>\n"
     ]
    }
   ],
   "source": [
    "def func_test3(a,b):\n",
    "    return a+b, a-b, a*b\n",
    "a, b, c = func_test3(10, 5)\n",
    "print(a,b,c)\n",
    "print(type(func_test3)) # 함수도 객체다"
   ]
  },
  {
   "cell_type": "code",
   "execution_count": 72,
   "metadata": {},
   "outputs": [
    {
     "name": "stdout",
     "output_type": "stream",
     "text": [
      "15\n"
     ]
    }
   ],
   "source": [
    "# 커링\n",
    "def all_number(x,y):\n",
    "    return x+y\n",
    "\n",
    "add_five = lambda y: all_number(5,y) # 무명함수 => 유명함수\n",
    "print(add_five(10))"
   ]
  },
  {
   "cell_type": "code",
   "execution_count": 80,
   "metadata": {},
   "outputs": [
    {
     "data": {
      "text/plain": [
       "['__doc__',\n",
       " '__loader__',\n",
       " '__name__',\n",
       " '__package__',\n",
       " '__spec__',\n",
       " 'acos',\n",
       " 'acosh',\n",
       " 'asin',\n",
       " 'asinh',\n",
       " 'atan',\n",
       " 'atan2',\n",
       " 'atanh',\n",
       " 'ceil',\n",
       " 'copysign',\n",
       " 'cos',\n",
       " 'cosh',\n",
       " 'degrees',\n",
       " 'e',\n",
       " 'erf',\n",
       " 'erfc',\n",
       " 'exp',\n",
       " 'expm1',\n",
       " 'fabs',\n",
       " 'factorial',\n",
       " 'floor',\n",
       " 'fmod',\n",
       " 'frexp',\n",
       " 'fsum',\n",
       " 'gamma',\n",
       " 'gcd',\n",
       " 'hypot',\n",
       " 'inf',\n",
       " 'isclose',\n",
       " 'isfinite',\n",
       " 'isinf',\n",
       " 'isnan',\n",
       " 'ldexp',\n",
       " 'lgamma',\n",
       " 'log',\n",
       " 'log10',\n",
       " 'log1p',\n",
       " 'log2',\n",
       " 'modf',\n",
       " 'nan',\n",
       " 'pi',\n",
       " 'pow',\n",
       " 'radians',\n",
       " 'remainder',\n",
       " 'sin',\n",
       " 'sinh',\n",
       " 'sqrt',\n",
       " 'tan',\n",
       " 'tanh',\n",
       " 'tau',\n",
       " 'trunc']"
      ]
     },
     "execution_count": 80,
     "metadata": {},
     "output_type": "execute_result"
    }
   ],
   "source": [
    "import math\n",
    "dir(math)"
   ]
  },
  {
   "cell_type": "code",
   "execution_count": 91,
   "metadata": {},
   "outputs": [
    {
     "name": "stdout",
     "output_type": "stream",
     "text": [
      "0.0\n"
     ]
    }
   ],
   "source": [
    "# 문제 두 점 사이의 거리값을 구하는 함수를 작성\n",
    "# root => \n",
    "import math\n",
    "# math.sqrt()\n",
    "\n",
    "def pita(x1,y1,x2,y2):\n",
    "    x = (x1-x2)**2\n",
    "    y = (y1-y2)**2\n",
    "    result = math.sqrt(x+y)\n",
    "    return result\n",
    "\n",
    "print(pita(1,1,1,1))"
   ]
  },
  {
   "cell_type": "code",
   "execution_count": 100,
   "metadata": {},
   "outputs": [
    {
     "data": {
      "text/plain": [
       "720"
      ]
     },
     "execution_count": 100,
     "metadata": {},
     "output_type": "execute_result"
    }
   ],
   "source": [
    "# 수학에서 factorial\n",
    "def factorial(n):\n",
    "    sum=1 # 항등원 : 덧셈의 항등원은0, 곱셈의 항등원1, 행렬의 항등원: 단위행렬\n",
    "    for i in range(n, 1, -1):\n",
    "        sum *= i\n",
    "    return sum\n",
    "factorial(6)"
   ]
  },
  {
   "cell_type": "code",
   "execution_count": 109,
   "metadata": {},
   "outputs": [
    {
     "data": {
      "text/plain": [
       "3628800"
      ]
     },
     "execution_count": 109,
     "metadata": {},
     "output_type": "execute_result"
    }
   ],
   "source": [
    "def fac(n):\n",
    "    if n == 1 or n <= 0:\n",
    "        return 1\n",
    "    return fac(n-1)*n\n",
    "\n",
    "fac(10)"
   ]
  },
  {
   "cell_type": "code",
   "execution_count": 102,
   "metadata": {},
   "outputs": [
    {
     "data": {
      "text/plain": [
       "120"
      ]
     },
     "execution_count": 102,
     "metadata": {},
     "output_type": "execute_result"
    }
   ],
   "source": [
    "def facto(n, stop=1):\n",
    "    if n <= stop or n<= 0:\n",
    "        return 1\n",
    "    return n*facto(n-1, stop)\n",
    "facto(5)"
   ]
  },
  {
   "cell_type": "code",
   "execution_count": 110,
   "metadata": {},
   "outputs": [
    {
     "name": "stdout",
     "output_type": "stream",
     "text": [
      "8\n"
     ]
    }
   ],
   "source": [
    "# 문제 power 함수를 구현 2^10  pow(2,10)\n",
    "\n",
    "def power(r,n):\n",
    "    value =1\n",
    "    for i in range(1, n+1):\n",
    "        value = r*value\n",
    "    return value\n",
    "print(power(2,3))"
   ]
  },
  {
   "cell_type": "code",
   "execution_count": 118,
   "metadata": {},
   "outputs": [
    {
     "data": {
      "text/plain": [
       "8"
      ]
     },
     "execution_count": 118,
     "metadata": {},
     "output_type": "execute_result"
    }
   ],
   "source": [
    "def power_(r, n):\n",
    "    if n == 1 or n <= 0:\n",
    "        return r\n",
    "    else:\n",
    "        return r*power_(r,n-1)\n",
    "power_(2,3)"
   ]
  },
  {
   "cell_type": "code",
   "execution_count": 128,
   "metadata": {},
   "outputs": [
    {
     "name": "stdout",
     "output_type": "stream",
     "text": [
      "inner\n",
      "global inner\n"
     ]
    }
   ],
   "source": [
    "# 냅부함수\n",
    "def outer():\n",
    "    def inner():\n",
    "        print('inner')\n",
    "    inner()\n",
    "    \n",
    "def inner():\n",
    "    print('global inner')\n",
    "    \n",
    "outer()"
   ]
  },
  {
   "cell_type": "code",
   "execution_count": 138,
   "metadata": {},
   "outputs": [
    {
     "name": "stdout",
     "output_type": "stream",
     "text": [
      "[0.14015450711414268, 0.7348223431954802, 0.8228568611226006, 0.8085111939791797, 0.8082837713603256]\n"
     ]
    }
   ],
   "source": [
    "#  genorator\n",
    "# for in : Collections(list, tuple, dict, set), iterator(ranges), generator, eneumerate\n",
    "import random\n",
    "\n",
    "def gaus_dist(n):\n",
    "    while n > 0:\n",
    "        yield random.random() # 비동기 호출함수 0 ~ 1\n",
    "#         yield n\n",
    "        n -= 1\n",
    "\n",
    "l = []\n",
    "gd = gaus_dist(5)\n",
    "for i in gd:\n",
    "    l.append(i)\n",
    "    print(i)\n",
    "# [l.append(i) for i in gd]\n",
    "print(l)"
   ]
  },
  {
   "cell_type": "code",
   "execution_count": 141,
   "metadata": {},
   "outputs": [
    {
     "name": "stdout",
     "output_type": "stream",
     "text": [
      "python's recipe no. 1\n",
      "perl's recipe no. 2\n"
     ]
    },
    {
     "data": {
      "text/plain": [
       "(2559790930536, 2559788519000)"
      ]
     },
     "execution_count": 141,
     "metadata": {},
     "output_type": "execute_result"
    }
   ],
   "source": [
    "# 함수가 값을 저장할 수 있게하는 방법\n",
    "# clouser(자바스크립트에서 사용하던 방식)) : 값으 ㄹ저장하는 방법\n",
    "\n",
    "def cookbook(name):\n",
    "    def recipe(no):\n",
    "        print(\"%s's recipe no. %d\"%(name, no))\n",
    "    return recipe\n",
    "\n",
    "python_recipe = cookbook('python')\n",
    "perl_recipe = cookbook('perl')\n",
    "python_recipe(1)\n",
    "perl_recipe(2)\n",
    "\n",
    "id(python_recipe), id(perl_recipe)"
   ]
  },
  {
   "cell_type": "code",
   "execution_count": 145,
   "metadata": {},
   "outputs": [
    {
     "name": "stdout",
     "output_type": "stream",
     "text": [
      "         1.7560\n",
      "         2.2220\n",
      "              1\n"
     ]
    }
   ],
   "source": [
    "# clouser 클로저의 응용(장식자: decorator)\n",
    "def format_and_pad(template, space):\n",
    "    def formatter(x):\n",
    "        return (template % x).rjust(space)\n",
    "    return formatter\n",
    "\n",
    "fmt=format_and_pad('%.4f', 15) # 15 : 앞에 공간\n",
    "print(fmt(1.756))\n",
    "print(fmt(2.222))\n",
    "\n",
    "fmt2 = format_and_pad('%d',15)\n",
    "print(fmt2(1.756))"
   ]
  },
  {
   "cell_type": "code",
   "execution_count": 159,
   "metadata": {
    "scrolled": true
   },
   "outputs": [
    {
     "name": "stdout",
     "output_type": "stream",
     "text": [
      "삼각형의 밑변5\n",
      "삼각형의 높이5\n",
      "사각형의 밑변5\n",
      "사각형의 높이5\n",
      "원의 반지름5\n",
      "\n",
      "삼각형의 넓이 12.5\n",
      "사각형의 넓이 25\n",
      "원의 넓이 78.54\n"
     ]
    }
   ],
   "source": [
    "# 데이터를 입력받아\n",
    "# 삼각형의 넓이(밑변, 높이)\n",
    "# 사각형의 넓이(밑변, 높이)\n",
    "# 원의 넓이를 계산하는 함수를 작성(반지름)\n",
    "import math\n",
    "\n",
    "t_b = int(input('삼각형의 밑변'))\n",
    "t_h = int(input('삼각형의 높이'))\n",
    "\n",
    "r_b = int(input('사각형의 밑변'))\n",
    "r_h = int(input('사각형의 높이'))\n",
    "\n",
    "r_r = int(input('원의 반지름'))\n",
    "\n",
    "def t_avg(a,b):\n",
    "    return t_b*t_h/2\n",
    "\n",
    "def r_avg(a,b):\n",
    "    return r_b * r_h\n",
    "\n",
    "def r_ravg(a):\n",
    "    return a*a*math.pi\n",
    "\n",
    "print('\\n삼각형의 넓이', t_avg(t_b,t_h))\n",
    "print('사각형의 넓이', r_avg(r_b, r_h))\n",
    "print('원의 넓이', round(r_ravg(r_r), 3))"
   ]
  },
  {
   "cell_type": "code",
   "execution_count": 156,
   "metadata": {},
   "outputs": [
    {
     "data": {
      "text/plain": [
       "78.5"
      ]
     },
     "execution_count": 156,
     "metadata": {},
     "output_type": "execute_result"
    }
   ],
   "source": [
    "def calculate_triangle(mylist):\n",
    "    return mylist[0] * mylist[1] /2\n",
    "def calculate_rectangle(mylist):\n",
    "    return mylist[0] * mylist[1]\n",
    "def calculate_circle(mylist):\n",
    "    return math.pi * (mylist[0]**2)\n",
    "\n",
    "mylist = []\n",
    "\n",
    "width = eval(input('밑변이나 반지름으로 사용할 값을 입력하세요'))\n",
    "height = eval(input('삼각형 이나 사각형의 높이를 입력하세요'))\n",
    "mylist.append(width)\n",
    "mylist.append(height)\n",
    "\n",
    "print('삼각형의 넓이 : ', calculate_triangle)\n",
    "print('사각형의 넓이 : ')\n",
    "print('원의 넓이 : ')"
   ]
  },
  {
   "cell_type": "code",
   "execution_count": 171,
   "metadata": {},
   "outputs": [
    {
     "name": "stdout",
     "output_type": "stream",
     "text": [
      "시간 : 40\n",
      "급여 : 8350\n",
      "334000\n"
     ]
    }
   ],
   "source": [
    "# 시간과 시간당 급여를 입력받아 주급을 계산하는 프로그램\n",
    "# 조건 : 40시간이 넘으면 1.5배하여 지급\n",
    "# 매개변수(시간, 시간당급여)\n",
    "# 상수는 변수화하라\n",
    "\n",
    "time = eval(input('시간 : '))\n",
    "mon = eval(input('급여 : '))\n",
    "\n",
    "def mon_(t, m):\n",
    "    if time <= 40:\n",
    "        return time * mon\n",
    "    else:\n",
    "         return (40*mon) + (time-40)*mon*1.5\n",
    "print(mon_(time, mon))"
   ]
  },
  {
   "cell_type": "code",
   "execution_count": 176,
   "metadata": {},
   "outputs": [
    {
     "name": "stdout",
     "output_type": "stream",
     "text": [
      "시간당 급여 : 40\n",
      "근무시간 : 8350\n",
      "주가 수입 : 500,200.00원\n"
     ]
    }
   ],
   "source": [
    "# 상수는 변수화\n",
    "\n",
    "basictime = 40\n",
    "def pay(wage, hours):\n",
    "    if hours <= basictime:\n",
    "        amount = wage * hours\n",
    "    else:\n",
    "        amount = (wage*basictime) + (hours - basictime)*wage*1.5\n",
    "        return amount\n",
    "\n",
    "hourlyWage = eval(input('시간당 급여 : '))\n",
    "hoursWorked = eval(input('근무시간 : '))\n",
    "earnings = pay(hourlyWage, hoursWorked)\n",
    "\n",
    "print('주가 수입 : {0:,.2f}원'.format(earnings))"
   ]
  },
  {
   "cell_type": "code",
   "execution_count": 225,
   "metadata": {},
   "outputs": [
    {
     "name": "stdout",
     "output_type": "stream",
     "text": [
      "원금 입력 : 1000\n",
      "년도 입력 : 2\n"
     ]
    },
    {
     "data": {
      "text/plain": [
       "'총액 : 1082 원, 이자수익 : 82 원'"
      ]
     },
     "execution_count": 225,
     "metadata": {},
     "output_type": "execute_result"
    }
   ],
   "source": [
    "# 이자율이 주어졌을깨 기간거치후의 총액과 이자수익\n",
    "# 복리계산 = (원가1+이율0.04)** 거치년수\n",
    "# INTEREST_RATE=0.04\n",
    "# 매개변수 : 원금 ,거치기간\n",
    "# 단서조건 : 입력함수, 계산함수, 출력함수\n",
    "\n",
    "INTEREST_RATE=0.04\n",
    "l = [] # 입력 받은 값을 list로 담아논다.\n",
    "\n",
    "# 복리계산\n",
    "def boc(won, year):\n",
    "    return won*(1+INTEREST_RATE)**year\n",
    "\n",
    "# 입력 함수\n",
    "def inner():\n",
    "    mone = eval(input('원금 입력 : '))\n",
    "    year = eval(input('년도 입력 : '))\n",
    "    l.append(mone) # list에 원금 넣기\n",
    "    l.append(year) # list에 년도 넣기\n",
    "    return l # list return \n",
    "\n",
    "# 출력 함수\n",
    "def output(*in_): # list를 받아오다.\n",
    "    money = boc(*in_) # 복리 계산값 저장\n",
    "    rate = money - (in_[0]) # 복리금에서 원금 제거\n",
    "    result = \"총액 : {} 원\".format(round(money)) # result에 총액 넣기\n",
    "    result += ', 이자수익 : {} 원'.format(round(rate)) # result에 추갈로 이자 넣기\n",
    "    return result\n",
    "\n",
    "inner()\n",
    "output(*l)"
   ]
  },
  {
   "cell_type": "code",
   "execution_count": 222,
   "metadata": {},
   "outputs": [
    {
     "name": "stdout",
     "output_type": "stream",
     "text": [
      "예금액 : 1000\n",
      "기간 : 1\n",
      "예금 총액 : $ 1,040.00  이자 총액 : $ 40.00\n"
     ]
    }
   ],
   "source": [
    "INTEREST_RATE=0.04\n",
    "def getInput():\n",
    "    principal = eval(input('예금액 : '))\n",
    "    numberOfYears = eval(input('기간 : '))\n",
    "    return (principal, numberOfYears)\n",
    "def balanceAndInterest(prin, numYears):\n",
    "    balance = prin *((1+INTEREST_RATE)**numYears)\n",
    "    interestEarned = balance - prin\n",
    "    return (balance, interestEarned)\n",
    "def displayOutput(bal, intEarned):\n",
    "    print('예금 총액 : $ {0:,.2f}  이자 총액 : $ {1:,.2f}'.format(bal, intEarned))\n",
    "    \n",
    "def main():\n",
    "#     principal, numberOfYears = getInput()\n",
    "#     bal, intEarned = balanceAndInterest(principal, numberOfYears)\n",
    "#     displayOutput(bal, intEarned)\n",
    "    displayOutput(*(balanceAndInterest(*(getInput()))))\n",
    "\n",
    "main()"
   ]
  },
  {
   "cell_type": "code",
   "execution_count": null,
   "metadata": {},
   "outputs": [],
   "source": []
  },
  {
   "cell_type": "code",
   "execution_count": null,
   "metadata": {},
   "outputs": [],
   "source": []
  },
  {
   "cell_type": "code",
   "execution_count": null,
   "metadata": {},
   "outputs": [],
   "source": []
  }
 ],
 "metadata": {
  "kernelspec": {
   "display_name": "Python 3",
   "language": "python",
   "name": "python3"
  },
  "language_info": {
   "codemirror_mode": {
    "name": "ipython",
    "version": 3
   },
   "file_extension": ".py",
   "mimetype": "text/x-python",
   "name": "python",
   "nbconvert_exporter": "python",
   "pygments_lexer": "ipython3",
   "version": "3.7.4"
  }
 },
 "nbformat": 4,
 "nbformat_minor": 2
}
