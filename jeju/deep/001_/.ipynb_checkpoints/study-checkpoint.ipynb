{
 "cells": [
  {
   "cell_type": "code",
   "execution_count": 1,
   "metadata": {},
   "outputs": [
    {
     "name": "stdout",
     "output_type": "stream",
     "text": [
      "b'hello'\n",
      "Tensor(\"Const:0\", shape=(), dtype=string)\n"
     ]
    }
   ],
   "source": [
    "import tensorflow as tf\n",
    "hello = tf.constant('hello')\n",
    "sess = tf.Session()\n",
    "print(sess.run(hello))\n",
    "print(hello)"
   ]
  },
  {
   "cell_type": "code",
   "execution_count": 2,
   "metadata": {},
   "outputs": [
    {
     "name": "stdout",
     "output_type": "stream",
     "text": [
      "Tensor(\"x:0\", shape=(), dtype=int32)\n",
      "<tf.Variable 'y:0' shape=() dtype=int32_ref>\n",
      "35\n"
     ]
    }
   ],
   "source": [
    "\n",
    "x = tf.constant(35, name='x') \n",
    "\n",
    "y=tf.Variable(x+5, name='y') # Variable변수가 있는 경우- 반드시 초기화\n",
    "sess = tf.Session()\n",
    "print(x)\n",
    "print(y)\n",
    "print(sess.run(x))\n",
    "# print(sess.run(y)) # 초기화 하지 않아서 실행되지 않는다."
   ]
  },
  {
   "cell_type": "code",
   "execution_count": 3,
   "metadata": {},
   "outputs": [
    {
     "name": "stdout",
     "output_type": "stream",
     "text": [
      "40\n"
     ]
    }
   ],
   "source": [
    "init = tf.global_variables_initializer() # 변수 초기화\n",
    "\n",
    "sess.run(init)\n",
    "print(sess.run(y))"
   ]
  },
  {
   "cell_type": "code",
   "execution_count": 4,
   "metadata": {},
   "outputs": [
    {
     "name": "stdout",
     "output_type": "stream",
     "text": [
      "feed 변수의 합 :  5\n",
      "feed 변수의 곱 :  6\n",
      "feed 변수의 곱 :  30\n"
     ]
    }
   ],
   "source": [
    "a = tf.placeholder(tf.int16) # 데이터 공간 확보\n",
    "b = tf.placeholder(tf.int16)\n",
    "add = tf.add(a,b)\n",
    "mul = tf.multiply(a,b)\n",
    "total = tf.multiply(add, mul)\n",
    "\n",
    "sess = tf.Session()\n",
    "\n",
    "print('feed 변수의 합 : ',sess.run(add, feed_dict={a:2,b:3}))\n",
    "print('feed 변수의 곱 : ',sess.run(mul, feed_dict={a:2,b:3}))\n",
    "print('feed 변수의 곱 : ',sess.run(total, feed_dict={a:2,b:3}))"
   ]
  },
  {
   "cell_type": "code",
   "execution_count": 5,
   "metadata": {},
   "outputs": [],
   "source": [
    "# placeholder는 feed_dict에서 값을 넣어주면 타고타고 올라가서 계산한다."
   ]
  },
  {
   "cell_type": "code",
   "execution_count": 6,
   "metadata": {},
   "outputs": [
    {
     "name": "stdout",
     "output_type": "stream",
     "text": [
      "[[3. 3.]] \n",
      "\n",
      "[[2.]\n",
      " [2.]] \n",
      "\n",
      "[[12.]]\n"
     ]
    }
   ],
   "source": [
    "matrix1 = tf.constant([[3.,3.]]) # 1x2\n",
    "matrix2 = tf.constant([[2.],[2.]]) # 2x1 => 1x1\n",
    "product = tf.matmul(matrix1, matrix2) # 결과가없다.\n",
    "\n",
    "sess = tf.Session()\n",
    "\n",
    "print(sess.run(matrix1),'\\n')\n",
    "print(sess.run(matrix2),'\\n')\n",
    "result = sess.run(product) # 호출을 해야 계산이 된다.\n",
    "print(result)"
   ]
  },
  {
   "cell_type": "code",
   "execution_count": 7,
   "metadata": {},
   "outputs": [
    {
     "name": "stdout",
     "output_type": "stream",
     "text": [
      "[[0. 0.]\n",
      " [0. 0.]]\n",
      "[1. 1. 1. 1. 1. 1.]\n",
      "[[[4.647131   7.3860703  3.479793  ]\n",
      "  [0.7492435  0.34637928 8.285524  ]\n",
      "  [5.082407   0.81385016 1.5293264 ]]\n",
      "\n",
      " [[0.6044209  8.5548725  4.1290855 ]\n",
      "  [9.997826   0.04800558 4.4250574 ]\n",
      "  [3.2574773  1.7342484  5.8691607 ]]\n",
      "\n",
      " [[9.716513   4.823247   1.8556285 ]\n",
      "  [6.408023   7.514608   2.1199536 ]\n",
      "  [6.2425947  5.0672984  0.3039229 ]]]\n",
      "[[[-3.5515723  -0.6057961   1.0353016 ]\n",
      "  [-1.4044613   1.1528814   1.7604864 ]\n",
      "  [-1.7659334   3.4774854  -1.3967713 ]]\n",
      "\n",
      " [[ 2.6997027   0.49622574 -0.22713293]\n",
      "  [ 0.20918715 -1.6176965  -1.0011568 ]\n",
      "  [-0.9604188   2.6288204   0.6886252 ]]\n",
      "\n",
      " [[-0.8622314  -0.27085572 -1.5941199 ]\n",
      "  [ 1.2006673  -0.8303464   0.96043724]\n",
      "  [ 2.8911753  -0.52161026 -0.54850745]]]\n",
      "[[4.1773443 5.970993 ]\n",
      " [5.1859527 5.4679403]]\n"
     ]
    }
   ],
   "source": [
    "zeros = tf.zeros([2,2]) # 0\n",
    "ones = tf.ones([6]) # 1\n",
    "\n",
    "# 균등분포\n",
    "# 3면, 3행, 3열 0 ~ 10 까지의 랜덤 숫자\n",
    "uniform = tf.random_uniform([3,3,3], minval=0.0, maxval=10)\n",
    "\n",
    "# 정규분포\n",
    "# stddev : 0-D 텐서 또는 dtype타입의 파이썬 값. 정규분포의 표준 편차\n",
    "# 반환값 : 정규 난수값들로 채워진 shape으로 정해진 텐서\n",
    "normal = tf.random_normal([3,3,3], mean=0.0, stddev = 2.0)\n",
    "\n",
    "# 표준편차 2배내의 것으로 초기화\n",
    "# stddev : 0-D 텐서 또는 파이썬 값. 절단정규분포의 표준 편차\n",
    "# 반환값 절단 정규 난수값들로 채워진 shape으로 정해진 텐서.\n",
    "trunc = tf.truncated_normal([2,2], mean=5.0, stddev=1.0)\n",
    "\n",
    "random_var = tf.Variable(tf.truncated_normal([2,2]))\n",
    "\n",
    "print(sess.run(zeros))\n",
    "print(sess.run(ones))\n",
    "print(sess.run(uniform))\n",
    "print(sess.run(normal))\n",
    "print(sess.run(trunc))\n",
    "# print(sess.run(random_var)) # 초기화 안함"
   ]
  },
  {
   "cell_type": "code",
   "execution_count": 8,
   "metadata": {},
   "outputs": [
    {
     "name": "stdout",
     "output_type": "stream",
     "text": [
      "[[5.775522  4.7247443]\n",
      " [5.157931  6.5500407]]\n",
      "[[[9.321059   0.54567456 4.718735  ]\n",
      "  [9.497126   8.777083   7.365701  ]\n",
      "  [4.2725363  7.2346783  4.2186365 ]]\n",
      "\n",
      " [[4.614648   2.3160374  2.3012578 ]\n",
      "  [9.167262   2.962724   9.3617325 ]\n",
      "  [1.1754751  0.15396118 0.26654243]]\n",
      "\n",
      " [[4.4171295  2.5206733  9.721795  ]\n",
      "  [6.2742233  2.0454001  6.10505   ]\n",
      "  [2.7652037  5.6714478  7.3003864 ]]]\n",
      "변수초기화\n",
      " [[ 1.8241861   0.03413663]\n",
      " [-0.2938977  -1.6913216 ]]\n"
     ]
    }
   ],
   "source": [
    "init = tf.global_variables_initializer()\n",
    "sess =tf.Session()\n",
    "sess.run(init) # 초기화 \n",
    "\n",
    "print(sess.run(trunc))\n",
    "print(sess.run(uniform))\n",
    "print('변수초기화\\n',sess.run(random_var))"
   ]
  },
  {
   "cell_type": "code",
   "execution_count": 9,
   "metadata": {},
   "outputs": [
    {
     "name": "stdout",
     "output_type": "stream",
     "text": [
      "(6, 2)\n",
      "Tensor(\"zeros_1:0\", shape=(6, 2), dtype=int32)\n",
      "(6, 2)\n",
      "(6, 2)\n"
     ]
    }
   ],
   "source": [
    "my_tensor = tf.constant(0, shape=[6,2])\n",
    "z = tf.zeros([6,2], dtype='int32')\n",
    "\n",
    "print(my_tensor.get_shape())\n",
    "print(z)\n",
    "sess = tf.Session()\n",
    "print(sess.run(my_tensor).shape)\n",
    "print(sess.run(z).shape)\n",
    "\n",
    "\n",
    "# sess을 하면 shape으로 차원확인 가능\n",
    "# sess를 하기전에 get_shape()으로 확인가능"
   ]
  },
  {
   "cell_type": "code",
   "execution_count": 10,
   "metadata": {},
   "outputs": [
    {
     "name": "stdout",
     "output_type": "stream",
     "text": [
      "(2, 6)\n"
     ]
    }
   ],
   "source": [
    "my_tensor_transposed = tf.transpose(my_tensor) # 행과 열을 바꿔준다.\n",
    "print(my_tensor_transposed.get_shape())"
   ]
  },
  {
   "cell_type": "code",
   "execution_count": 11,
   "metadata": {},
   "outputs": [
    {
     "name": "stdout",
     "output_type": "stream",
     "text": [
      "[0. 0.]\n",
      "(2,)\n",
      "(2,)\n"
     ]
    }
   ],
   "source": [
    "tf.InteractiveSession() # 대화형 세션을 호출하는것\n",
    "a = tf.zeros(2)\n",
    "print(a.eval())\n",
    "print(a.shape)\n",
    "print(a.get_shape())"
   ]
  },
  {
   "cell_type": "code",
   "execution_count": 12,
   "metadata": {},
   "outputs": [
    {
     "name": "stdout",
     "output_type": "stream",
     "text": [
      "[0. 0.]\n"
     ]
    },
    {
     "name": "stderr",
     "output_type": "stream",
     "text": [
      "C:\\ProgramData\\Anaconda3\\lib\\site-packages\\tensorflow\\python\\client\\session.py:1735: UserWarning: An interactive session is already active. This can cause out-of-memory errors in some cases. You must explicitly call `InteractiveSession.close()` to release resources held by the other session(s).\n",
      "  warnings.warn('An interactive session is already active. This can '\n"
     ]
    }
   ],
   "source": [
    "def showvalue(t):\n",
    "    sess = tf.InteractiveSession()\n",
    "    # sess.run(init) 을 줄일수 있다? 대화형으로 쓸수 있다.\n",
    "    tf.global_variables_initializer().run()\n",
    "    print(t.eval())\n",
    "    # session을 닫아준다.\n",
    "    sess.close()\n",
    "showvalue(a)"
   ]
  },
  {
   "cell_type": "code",
   "execution_count": 13,
   "metadata": {},
   "outputs": [
    {
     "name": "stdout",
     "output_type": "stream",
     "text": [
      "[ 3.5 10.1]\n",
      "[-8  5 17]\n"
     ]
    }
   ],
   "source": [
    "c2, c3 = tf.constant([1.2,5.6]), tf.constant([-4,-1,7])\n",
    "v2,v3 = tf.Variable([2.3,4.5]), tf.Variable([-2,3,5])\n",
    "showvalue(tf.add_n([c2,v2]))\n",
    "showvalue(tf.add_n([c3, v3,v3])) # add_n 여러개 가능"
   ]
  },
  {
   "cell_type": "code",
   "execution_count": 14,
   "metadata": {},
   "outputs": [],
   "source": [
    "# 2x+y+z=1\n",
    "# 4x+3y+4z=2\n",
    "# -4x+2y+3z=-6"
   ]
  },
  {
   "cell_type": "code",
   "execution_count": 15,
   "metadata": {},
   "outputs": [
    {
     "name": "stdout",
     "output_type": "stream",
     "text": [
      "[[ 2.  1.  1.]\n",
      " [ 4.  3.  4.]\n",
      " [-4.  2.  2.]]\n",
      "[[ 1.]\n",
      " [ 2.]\n",
      " [-6.]]\n",
      "(3, 3)\n",
      "(3, 1)\n"
     ]
    }
   ],
   "source": [
    "X = tf.constant([2,1,1,4,3,4,-4,2,2], shape=[3,3], dtype=tf.float64)\n",
    "y = tf.constant([1,2,-6], shape=[3,1], dtype=tf.float64)\n",
    "sess = tf.InteractiveSession()\n",
    "\n",
    "print(X.eval())\n",
    "print(y.eval())\n",
    "print(X.shape)\n",
    "print(y.shape)"
   ]
  },
  {
   "cell_type": "code",
   "execution_count": 16,
   "metadata": {},
   "outputs": [
    {
     "data": {
      "text/plain": [
       "array([[ 1.],\n",
       "       [-2.],\n",
       "       [ 1.]])"
      ]
     },
     "execution_count": 16,
     "metadata": {},
     "output_type": "execute_result"
    }
   ],
   "source": [
    "# 역행렬을 구하고 정답 행렬곱하여 x,y,z결과 추출\n",
    "XT = tf.matrix_inverse(X)\n",
    "z = tf.matmul(XT,y)\n",
    "z.eval()"
   ]
  },
  {
   "cell_type": "code",
   "execution_count": 17,
   "metadata": {},
   "outputs": [
    {
     "data": {
      "text/plain": [
       "array([[ 2.50000000e-01,  2.22044605e-16, -1.25000000e-01],\n",
       "       [ 3.00000000e+00, -1.00000000e+00,  5.00000000e-01],\n",
       "       [-2.50000000e+00,  1.00000000e+00, -2.50000000e-01]])"
      ]
     },
     "execution_count": 17,
     "metadata": {},
     "output_type": "execute_result"
    }
   ],
   "source": [
    "# 역행렬\n",
    "XT.eval()"
   ]
  },
  {
   "cell_type": "code",
   "execution_count": 18,
   "metadata": {},
   "outputs": [
    {
     "data": {
      "text/plain": [
       "array([[ 1.],\n",
       "       [-2.],\n",
       "       [ 1.]])"
      ]
     },
     "execution_count": 18,
     "metadata": {},
     "output_type": "execute_result"
    }
   ],
   "source": [
    "# 앞에 X의 역행렬을 알아서 구하고 곱해주고, x,y,z를 구한다.\n",
    "z = tf.matrix_solve(X,y)\n",
    "z.eval()"
   ]
  },
  {
   "cell_type": "code",
   "execution_count": 19,
   "metadata": {},
   "outputs": [
    {
     "data": {
      "text/plain": [
       "array([[ 1.],\n",
       "       [ 2.],\n",
       "       [-6.]])"
      ]
     },
     "execution_count": 19,
     "metadata": {},
     "output_type": "execute_result"
    }
   ],
   "source": [
    "# 검산\n",
    "new_x = tf.matmul(X,z)\n",
    "new_x.eval()"
   ]
  },
  {
   "cell_type": "markdown",
   "metadata": {},
   "source": [
    "## 이부분 이상함"
   ]
  },
  {
   "cell_type": "code",
   "execution_count": 20,
   "metadata": {},
   "outputs": [
    {
     "name": "stdout",
     "output_type": "stream",
     "text": [
      "[[1. 4.]\n",
      " [2. 5.]\n",
      " [3. 6.]]\n",
      "U [[3.7416575 5.656854 ]\n",
      " [5.656854  8.774964 ]]\n",
      "V [[17. 22. 27.]\n",
      " [22. 29. 36.]\n",
      " [27. 36. 45.]]\n"
     ]
    }
   ],
   "source": [
    "a = tf.constant([1,2,3,4,5,6], shape=[2,3],dtype=tf.float32)\n",
    "a_ = tf.transpose(a)\n",
    "print(a_.eval())\n",
    "u = tf.matmul(a,a_)\n",
    "print('U',tf.sqrt(u).eval())\n",
    "v = tf.matmul(a_,a)\n",
    "print('V',v.eval())\n",
    "# s = tf.matmul(u,v)\n",
    "# s.eval()\n"
   ]
  },
  {
   "cell_type": "code",
   "execution_count": 21,
   "metadata": {},
   "outputs": [
    {
     "name": "stdout",
     "output_type": "stream",
     "text": [
      "[[1. 2. 3.]\n",
      " [4. 5. 6.]] \n",
      "\n",
      "[[-0.38631773 -0.92236584]\n",
      " [-0.92236584  0.38631773]] \n",
      "\n",
      "[9.508034   0.77286935] \n",
      "\n",
      "[[-0.42866713  0.8059641 ]\n",
      " [-0.56630695  0.1123824 ]\n",
      " [-0.70394677 -0.58119917]]\n"
     ]
    }
   ],
   "source": [
    "u,s,v = tf.svd(a) # singula value : s(1,2), left singular value : u(2,2), right singular value : v(3,2)\n",
    "\n",
    "print(sess.run(a),'\\n')\n",
    "print(sess.run(s),'\\n')\n",
    "print(sess.run(u),'\\n')\n",
    "print(sess.run(v))"
   ]
  },
  {
   "cell_type": "code",
   "execution_count": 22,
   "metadata": {},
   "outputs": [
    {
     "data": {
      "text/plain": [
       "array([[1, 0, 0, 0],\n",
       "       [0, 2, 0, 0],\n",
       "       [0, 0, 3, 0],\n",
       "       [0, 0, 0, 4]])"
      ]
     },
     "execution_count": 22,
     "metadata": {},
     "output_type": "execute_result"
    }
   ],
   "source": [
    "diagonal = [1,2,3,4]\n",
    "dia = tf.diag(diagonal)\n",
    "dia.eval()"
   ]
  },
  {
   "cell_type": "code",
   "execution_count": 23,
   "metadata": {},
   "outputs": [
    {
     "name": "stdout",
     "output_type": "stream",
     "text": [
      "[1 2 3 4]\n",
      "10\n"
     ]
    }
   ],
   "source": [
    "print(tf.diag_part(dia).eval()) # 대각행의 원소 추출\n",
    "print(tf.trace(dia).eval()) # 대각 행렬의 합"
   ]
  },
  {
   "cell_type": "code",
   "execution_count": 24,
   "metadata": {},
   "outputs": [
    {
     "name": "stdout",
     "output_type": "stream",
     "text": [
      "[[ 58  64]\n",
      " [139 154]]\n"
     ]
    }
   ],
   "source": [
    "import numpy as np\n",
    "a = tf.constant([1,2,3,4,5,6], shape=[2,3])\n",
    "b = tf.constant([7,8,9,10,11,12], shape=[3,2])\n",
    "c = tf.matmul(a,b)\n",
    "print(c.eval()) # 2x2"
   ]
  },
  {
   "cell_type": "code",
   "execution_count": 25,
   "metadata": {},
   "outputs": [
    {
     "name": "stdout",
     "output_type": "stream",
     "text": [
      "[[[ 1  2  3]\n",
      "  [ 4  5  6]]\n",
      "\n",
      " [[ 7  8  9]\n",
      "  [10 11 12]]]\n",
      "[[[13 14]\n",
      "  [15 16]\n",
      "  [17 18]]\n",
      "\n",
      " [[19 20]\n",
      "  [21 22]\n",
      "  [23 24]]]\n"
     ]
    },
    {
     "data": {
      "text/plain": [
       "array([[[ 94, 100],\n",
       "        [229, 244]],\n",
       "\n",
       "       [[508, 532],\n",
       "        [697, 730]]])"
      ]
     },
     "execution_count": 25,
     "metadata": {},
     "output_type": "execute_result"
    }
   ],
   "source": [
    "a = tf.constant(np.arange(1,13), dtype=tf.int32, shape=[2,2,3])\n",
    "print(a.eval())\n",
    "b = tf.constant(np.arange(13,25), dtype=np.int32, shape=[2,3,2])\n",
    "print(b.eval())\n",
    "c = tf.matmul(a,b)\n",
    "c.eval()"
   ]
  },
  {
   "cell_type": "code",
   "execution_count": 26,
   "metadata": {},
   "outputs": [
    {
     "name": "stdout",
     "output_type": "stream",
     "text": [
      "[[[[ 1  2  3]\n",
      "   [ 4  5  6]]\n",
      "\n",
      "  [[ 7  8  9]\n",
      "   [10 11 12]]]\n",
      "\n",
      "\n",
      " [[[13 14 15]\n",
      "   [16 17 18]]\n",
      "\n",
      "  [[19 20 21]\n",
      "   [22 23 24]]]] \n",
      "\n",
      "[[[[25 26]\n",
      "   [27 28]\n",
      "   [29 30]]\n",
      "\n",
      "  [[31 32]\n",
      "   [33 34]\n",
      "   [35 36]]]\n",
      "\n",
      "\n",
      " [[[37 38]\n",
      "   [39 40]\n",
      "   [41 42]]\n",
      "\n",
      "  [[43 44]\n",
      "   [45 46]\n",
      "   [47 48]]]] \n",
      "\n",
      "(2, 2, 2, 2)\n"
     ]
    }
   ],
   "source": [
    "a = tf.constant(np.arange(1,25, dtype=np.int32), shape=[2,2,2,3]) # 행렬을 중심하고 데이터 표현, 차원?, 행,열\n",
    "print(sess.run(a),'\\n')\n",
    "b = tf.constant(np.arange(25,49,dtype=np.int32), shape=[2,2,3,2])\n",
    "print(sess.run(b),'\\n')\n",
    "c = tf.matmul(a,b)\n",
    "\n",
    "print(c.get_shape())"
   ]
  },
  {
   "cell_type": "code",
   "execution_count": 27,
   "metadata": {},
   "outputs": [
    {
     "name": "stdout",
     "output_type": "stream",
     "text": [
      "[[[[  14   32]\n",
      "   [  32   77]]\n",
      "\n",
      "  [[ 194  266]\n",
      "   [ 266  365]]]\n",
      "\n",
      "\n",
      " [[[ 590  716]\n",
      "   [ 716  869]]\n",
      "\n",
      "  [[1202 1382]\n",
      "   [1382 1589]]]]\n",
      "(2, 2, 2, 2)\n",
      "[[[[  14   32]\n",
      "   [  32   77]]\n",
      "\n",
      "  [[ 194  266]\n",
      "   [ 266  365]]]\n",
      "\n",
      "\n",
      " [[[ 590  716]\n",
      "   [ 716  869]]\n",
      "\n",
      "  [[1202 1382]\n",
      "   [1382 1589]]]]\n",
      "(2, 2, 2, 2)\n"
     ]
    }
   ],
   "source": [
    "d = tf.matmul(a, tf.transpose(a, perm=[0,1,3,2]))\n",
    "print(sess.run(d))\n",
    "print(d.get_shape())\n",
    "# 뒤에것을 전치 시킨다.\n",
    "d_2 = tf.matmul(a,a,transpose_b=True) # 전치해서 자기 제곱\n",
    "# 앞에 것을 전치시킨다.\n",
    "# d_2 = tf.matmul(a,a,transpose_a=True) # 전치해서 자기 제곱\n",
    "print(sess.run(d_2))\n",
    "print(d_2.get_shape())"
   ]
  },
  {
   "cell_type": "code",
   "execution_count": 28,
   "metadata": {},
   "outputs": [
    {
     "name": "stdout",
     "output_type": "stream",
     "text": [
      "[[ 1  2  3  4  5  6]\n",
      " [ 7  8  9 10 11 12]] \n",
      "\n",
      "[[ 1  2  3  4  5  6]\n",
      " [ 7  8  9 10 11 12]] \n",
      "\n",
      "[[[ 1  2  3]\n",
      "  [ 4  5  6]]\n",
      "\n",
      " [[ 7  8  9]\n",
      "  [10 11 12]]]\n"
     ]
    }
   ],
   "source": [
    "tensor = np.arange(1,13)\n",
    "print(sess.run(tf.reshape(tensor, [2,-1])), '\\n') # -1이 있으면 게산해서 채워라\n",
    "print(sess.run(tf.reshape(tensor,[-1,6])),'\\n')\n",
    "print(sess.run(tf.reshape(tensor, [2,-1,3])))"
   ]
  },
  {
   "cell_type": "code",
   "execution_count": 29,
   "metadata": {},
   "outputs": [
    {
     "name": "stdout",
     "output_type": "stream",
     "text": [
      "Tensor(\"ExpandDims:0\", shape=(2, 1, 3, 1, 1), dtype=int32)\n"
     ]
    }
   ],
   "source": [
    "# t : 1,2,1,3,1,1\n",
    "t = [1,2,3,4,5,6]\n",
    "t = tf.reshape(t, [2,3,1,1])\n",
    "print(tf.expand_dims(t,1)) # 차원확대, 인덱스 번호 자리에 차원확대\n",
    "# 원하는 숫자는 넣지 못한다."
   ]
  },
  {
   "cell_type": "code",
   "execution_count": 30,
   "metadata": {},
   "outputs": [
    {
     "data": {
      "text/plain": [
       "array([[0, 0, 0, 0, 0],\n",
       "       [0, 1, 2, 3, 0],\n",
       "       [0, 4, 5, 6, 0],\n",
       "       [0, 0, 0, 0, 0]])"
      ]
     },
     "execution_count": 30,
     "metadata": {},
     "output_type": "execute_result"
    }
   ],
   "source": [
    "# padding 충전\n",
    "t = np.arange(1,7).reshape(2,3)\n",
    "paddings = [[1,1],[1,1]]\n",
    "tf.pad(t, paddings, 'CONSTANT').eval()\n",
    "# tf.pad(t, paddings, 'REFLECT').eval()\n",
    "# tf.pad(t, paddings, 'SYMMETRIC').eval()\n",
    "# CONSTNT : 0\n",
    "# REFLECT : 번호를 중심으로 대칭\n",
    "# SYMMETRIC : 번호를 그대로 채운다."
   ]
  },
  {
   "cell_type": "code",
   "execution_count": 42,
   "metadata": {},
   "outputs": [
    {
     "data": {
      "text/plain": [
       "100"
      ]
     },
     "execution_count": 42,
     "metadata": {},
     "output_type": "execute_result"
    }
   ],
   "source": [
    "x_data = np.random.rand(100).astype(np.float32)\n",
    "y_data = x_data * 0.1 + 0.3\n",
    "len(x_data)"
   ]
  },
  {
   "cell_type": "code",
   "execution_count": 56,
   "metadata": {},
   "outputs": [],
   "source": [
    "W = tf.Variable(tf.random_uniform([1], -1.0,1.0)) # 균등분포 -1~1\n",
    "b = tf.Variable(tf.zeros([1])) # 바이어스\n",
    "sess = tf.Session()\n",
    "y = W * x_data + b\n",
    "tf.global_variables_initializer().run()\n",
    "# W.eval()\n",
    "# b.eval()"
   ]
  },
  {
   "cell_type": "code",
   "execution_count": 57,
   "metadata": {},
   "outputs": [],
   "source": [
    "# lost function : mse : 2차원인 경우 포물선을 이루고 최적점은 한개\n",
    "# reduce_mean : 텐서의 차원에서 요소의 평균을 계산합니다\n",
    "loss = tf.reduce_mean(tf.square(y - y_data))\n",
    "# 경사하강법\n",
    "# 기울기 : 미분을 이용, 기울기가 - 이면 가중치에 차를 더하고\n",
    "# + 뺀다.\n",
    "optimizer = tf.train.GradientDescentOptimizer(0.5) # 학습율\n",
    "train = optimizer.minimize(loss) # loss 최적화\n",
    "\n",
    "# loss.eval()\n",
    "# optimizer\n",
    "# train\n",
    "\n",
    "# sess = tf.Session()\n",
    "# init = tf.global_variables_initializer()\n",
    "# sess.run(init)"
   ]
  },
  {
   "cell_type": "code",
   "execution_count": 65,
   "metadata": {},
   "outputs": [
    {
     "name": "stdout",
     "output_type": "stream",
     "text": [
      "0 [0.0999999] [0.30000007]\n",
      "20 [0.0999999] [0.30000007]\n",
      "40 [0.0999999] [0.30000007]\n",
      "60 [0.0999999] [0.30000007]\n",
      "80 [0.0999999] [0.30000007]\n",
      "100 [0.0999999] [0.30000007]\n",
      "120 [0.0999999] [0.30000007]\n",
      "140 [0.0999999] [0.30000007]\n",
      "160 [0.0999999] [0.30000007]\n",
      "180 [0.0999999] [0.30000007]\n",
      "200 [0.0999999] [0.30000007]\n"
     ]
    }
   ],
   "source": [
    "for step in range(201):\n",
    "#     sess.run(train)\n",
    "    train.run()# 계속해서 최적화 한다.\n",
    "    if step % 20 ==0:\n",
    "        print(step, W.eval(), b.eval())\n",
    "#         print(step, sess.run(W), sess.run(b))"
   ]
  },
  {
   "cell_type": "markdown",
   "metadata": {},
   "source": [
    "# 주입식 placeholder"
   ]
  },
  {
   "cell_type": "code",
   "execution_count": 67,
   "metadata": {},
   "outputs": [],
   "source": [
    "x_data = np.random.rand(100).astype(np.float32)\n",
    "y_data = x_data * 0.1 + 0.3\n"
   ]
  },
  {
   "cell_type": "code",
   "execution_count": 78,
   "metadata": {},
   "outputs": [],
   "source": [
    "x = tf.placeholder(tf.float32, name='x')\n",
    "y = tf.placeholder(tf.float32)\n",
    "\n",
    "W = tf.Variable(tf.random_uniform([1], -1.0,1.0))\n",
    "b = tf.Variable(tf.zeros([1]))\n",
    "\n",
    "y_model = x * W + b\n"
   ]
  },
  {
   "cell_type": "code",
   "execution_count": 83,
   "metadata": {},
   "outputs": [],
   "source": [
    "# 오차를 제곱해준다.\n",
    "# 음수의 오차가 있을 수 있으니\n",
    "loss = tf.reduce_mean(tf.square(y_model - y))\n",
    "\n",
    "# 2차원 함수로 만든 오차 함수를 경사하강법으로\n",
    "# 기울기가 0인곳으로 찾아 내려간다.\n",
    "# 학습률은 0.5\n",
    "# 기울기가 음수면 더하고, 양수면 뺀다.\n",
    "optimizer = tf.train.GradientDescentOptimizer(0.5)\n",
    "\n",
    "# loss를 최적화 한다.\n",
    "train = optimizer.minimize(loss)"
   ]
  },
  {
   "cell_type": "code",
   "execution_count": 106,
   "metadata": {},
   "outputs": [],
   "source": [
    "sess = tf.Session()\n",
    "init = tf.global_variables_initializer()\n",
    "sess.run(init)"
   ]
  },
  {
   "cell_type": "code",
   "execution_count": 120,
   "metadata": {},
   "outputs": [
    {
     "name": "stdout",
     "output_type": "stream",
     "text": [
      "0 [0.10000011] [0.29999995]\n",
      "20 [0.10000011] [0.29999995]\n",
      "40 [0.10000011] [0.29999995]\n",
      "60 [0.10000011] [0.29999995]\n",
      "80 [0.10000011] [0.29999995]\n",
      "100 [0.10000011] [0.29999995]\n",
      "120 [0.10000011] [0.29999995]\n",
      "140 [0.10000011] [0.29999995]\n",
      "160 [0.10000011] [0.29999995]\n",
      "180 [0.10000011] [0.29999995]\n",
      "200 [0.10000011] [0.29999995]\n"
     ]
    }
   ],
   "source": [
    "for step in range(201):\n",
    "#     train.run()\n",
    "    sess.run(train, feed_dict = {x:x_data, y:y_data})\n",
    "    if step %20 ==0:\n",
    "#         print(step, W.eval(), b.eval())\n",
    "        print(step, sess.run(W), sess.run(b))"
   ]
  },
  {
   "cell_type": "code",
   "execution_count": 127,
   "metadata": {},
   "outputs": [
    {
     "data": {
      "text/plain": [
       "array([ 0.29999995,  0.40000007,  0.5000002 ,  0.60000026,  0.7000004 ,\n",
       "        0.8000005 ,  0.9000006 ,  1.0000007 ,  1.1000009 ,  1.2000009 ,\n",
       "        1.300001  ,  1.4000012 ,  1.5000012 ,  1.6000013 ,  1.7000015 ,\n",
       "        1.8000015 ,  1.9000016 ,  2.000002  ,  2.1000018 ,  2.200002  ,\n",
       "        2.300002  ,  2.4000022 ,  2.5000024 ,  2.6000023 ,  2.7000024 ,\n",
       "        2.8000026 ,  2.9000027 ,  3.0000029 ,  3.100003  ,  3.200003  ,\n",
       "        3.300003  ,  3.4000032 ,  3.5000033 ,  3.6000035 ,  3.7000036 ,\n",
       "        3.8000038 ,  3.9000037 ,  4.000004  ,  4.100004  ,  4.200004  ,\n",
       "        4.300004  ,  4.4000044 ,  4.500005  ,  4.600004  ,  4.7000046 ,\n",
       "        4.800005  ,  4.9000044 ,  5.000005  ,  5.100005  ,  5.2000055 ,\n",
       "        5.300005  ,  5.4000053 ,  5.5000057 ,  5.600005  ,  5.7000055 ,\n",
       "        5.800006  ,  5.9000063 ,  6.0000057 ,  6.100006  ,  6.2000065 ,\n",
       "        6.300006  ,  6.4000063 ,  6.5000067 ,  6.600007  ,  6.7000065 ,\n",
       "        6.800007  ,  6.9000072 ,  7.0000067 ,  7.100007  ,  7.2000074 ,\n",
       "        7.300008  ,  7.4000072 ,  7.5000076 ,  7.600008  ,  7.7000074 ,\n",
       "        7.800008  ,  7.900008  ,  8.000008  ,  8.100008  ,  8.200008  ,\n",
       "        8.300009  ,  8.400009  ,  8.500009  ,  8.600009  ,  8.700009  ,\n",
       "        8.800009  ,  8.900009  ,  9.00001   ,  9.10001   ,  9.200009  ,\n",
       "        9.30001   ,  9.40001   ,  9.50001   ,  9.60001   ,  9.70001   ,\n",
       "        9.800011  ,  9.90001   , 10.0000105 , 10.100011  , 10.20001   ],\n",
       "      dtype=float32)"
      ]
     },
     "execution_count": 127,
     "metadata": {},
     "output_type": "execute_result"
    }
   ],
   "source": [
    "predicted = sess.run(y_model, feed_dict={x:[i for i in range(100)]})\n",
    "predicted"
   ]
  },
  {
   "cell_type": "code",
   "execution_count": 131,
   "metadata": {},
   "outputs": [
    {
     "data": {
      "image/png": "[encoded data removed]",
      "text/plain": [
       "<Figure size 432x288 with 1 Axes>"
      ]
     },
     "metadata": {
      "needs_background": "light"
     },
     "output_type": "display_data"
    }
   ],
   "source": [
    "%matplotlib inline\n",
    "import matplotlib.pyplot as plt\n",
    "plt.plot(x_data, y_data, 'o', markersize=5)\n",
    "plt.plot(predicted, 'r')\n",
    "plt.show()"
   ]
  },
  {
   "cell_type": "code",
   "execution_count": 140,
   "metadata": {},
   "outputs": [],
   "source": [
    "from tensorflow.python.framework import ops\n",
    "import os\n",
    "ops.reset_default_graph() # 그래프 초기화?\n"
   ]
  },
  {
   "cell_type": "code",
   "execution_count": 144,
   "metadata": {},
   "outputs": [
    {
     "name": "stdout",
     "output_type": "stream",
     "text": [
      "[1. 3. 5. 7. 9.]\n",
      "[ 3.  9. 15. 21. 27.]\n",
      "[ 5. 15. 25. 35. 45.]\n",
      "[ 7. 21. 35. 49. 63.]\n",
      "[ 9. 27. 45. 63. 81.]\n"
     ]
    }
   ],
   "source": [
    "sess = tf.Session()\n",
    "x_vals = np.array([1.,3.,5.,7.,9.])\n",
    "y_vals = np.array([1.,3.,5.,7.,9.])\n",
    "x_data = tf.placeholder(tf.float32)\n",
    "y_data = tf.placeholder(tf.float32)\n",
    "m = tf.constant(3.)\n",
    "\n",
    "# x_data x y_data\n",
    "# 요소별 곱, 행렬곱이 아니다.\n",
    "prod = tf.multiply(x_data, y_data)\n",
    "for x_val in x_vals:\n",
    "    print(sess.run(prod, feed_dict={x_data:x_val, y_data: y_vals}))\n"
   ]
  },
  {
   "cell_type": "code",
   "execution_count": 149,
   "metadata": {},
   "outputs": [],
   "source": [
    "merged = tf.summary.merge_all(0)\n",
    "if not os.path.exists('C://tmp/tensorboard_logs/'):\n",
    "    os.makedirs('C://tmp/tensorboard_logs/')\n",
    "    \n",
    "my_writer = tf.summary.FileWriter('C://tmp/tensorboard_logs/', sess.graph)"
   ]
  },
  {
   "cell_type": "code",
   "execution_count": 150,
   "metadata": {},
   "outputs": [],
   "source": [
    "# 보는 방법이 기억안남"
   ]
  },
  {
   "cell_type": "code",
   "execution_count": 151,
   "metadata": {},
   "outputs": [],
   "source": [
    "rng = np.random\n",
    "\n",
    "# 상수화할 때 : 하드코딩을 줄인다.\n",
    "learning_rate = 0.01\n",
    "training_epochs=4000\n",
    "display_step=50\n",
    "\n",
    "train_X = np.asarray([3.3,4.4,5.5,6.71,6.93,4.168,9.779,6.182,7.59,2.167,7.042,10.791,5.313,7.997,5.654,9.27,3.1])\n",
    "train_Y = np.asarray([1.7,2.76,2.09,3.19,1.694,1.573,3.366,2.596,2.53,1.221,2.827,3.465,1.65,2.904,2.42,2.94,1.3]) "
   ]
  },
  {
   "cell_type": "code",
   "execution_count": 162,
   "metadata": {},
   "outputs": [],
   "source": [
    "n_samples = train_X.shape[0] # (3,4) 차수 : 행, 인덱스 접근\n",
    "X = tf.placeholder('float')\n",
    "Y = tf.placeholder('float')\n",
    "W = tf.Variable(rng.randn(), name='weight') # 설명\n",
    "b = tf.Variable(rng.randn(), name='bias') # 활성화\n",
    "\n",
    "# X요소에 W를 하나씩 곱해주고 b를 더한다.\n",
    "activation = tf.add(tf.multiply(X, W), b)\n",
    "\n",
    "cost = tf.reduce_mean(tf.square(activation - Y) / (2*n_samples))\n",
    "\n",
    "optimizer = tf.train.GradientDescentOptimizer(learning_rate).minimize(cost)\n",
    "init = tf.global_variables_initializer()"
   ]
  },
  {
   "cell_type": "code",
   "execution_count": 170,
   "metadata": {},
   "outputs": [
    {
     "name": "stdout",
     "output_type": "stream",
     "text": [
      "Epoch: 0001 cost= 0.049842384 W= 0.34080014 b= -0.98021054\n",
      "Epoch: 0051 cost= 0.014492843 W= 0.4796691 b= -0.85368043\n",
      "Epoch: 0101 cost= 0.013341746 W= 0.46598536 b= -0.7552406\n",
      "Epoch: 0151 cost= 0.012323568 W= 0.45311552 b= -0.66265583\n",
      "Epoch: 0201 cost= 0.011422956 W= 0.441011 b= -0.5755767\n",
      "Epoch: 0251 cost= 0.010626359 W= 0.42962667 b= -0.493678\n",
      "Epoch: 0301 cost= 0.009921752 W= 0.41891918 b= -0.41664976\n",
      "Epoch: 0351 cost= 0.009298518 W= 0.40884858 b= -0.3442029\n",
      "Epoch: 0401 cost= 0.008747261 W= 0.39937693 b= -0.27606446\n",
      "Epoch: 0451 cost= 0.008259668 W= 0.39046866 b= -0.2119785\n",
      "Epoch: 0501 cost= 0.007828397 W= 0.38209012 b= -0.1517041\n",
      "Epoch: 0551 cost= 0.007446942 W= 0.37420988 b= -0.09501461\n",
      "Epoch: 0601 cost= 0.007109549 W= 0.3667984 b= -0.04169658\n",
      "Epoch: 0651 cost= 0.006811130 W= 0.35982767 b= 0.008450388\n",
      "Epoch: 0701 cost= 0.006547189 W= 0.35327154 b= 0.055614837\n",
      "Epoch: 0751 cost= 0.006313739 W= 0.34710526 b= 0.09997425\n",
      "Epoch: 0801 cost= 0.006107265 W= 0.34130585 b= 0.14169525\n",
      "Epoch: 0851 cost= 0.005924650 W= 0.33585125 b= 0.18093492\n",
      "Epoch: 0901 cost= 0.005763135 W= 0.33072114 b= 0.2178409\n",
      "Epoch: 0951 cost= 0.005620286 W= 0.32589602 b= 0.25255218\n",
      "Epoch: 1001 cost= 0.005493948 W= 0.32135803 b= 0.2851985\n",
      "Epoch: 1051 cost= 0.005382213 W= 0.31708974 b= 0.3159039\n",
      "Epoch: 1101 cost= 0.005283398 W= 0.31307548 b= 0.34478202\n",
      "Epoch: 1151 cost= 0.005196003 W= 0.30929998 b= 0.37194335\n",
      "Epoch: 1201 cost= 0.005118714 W= 0.30574882 b= 0.39748946\n",
      "Epoch: 1251 cost= 0.005050363 W= 0.3024091 b= 0.42151546\n",
      "Epoch: 1301 cost= 0.004989918 W= 0.29926783 b= 0.44411287\n",
      "Epoch: 1351 cost= 0.004936463 W= 0.29631355 b= 0.4653665\n",
      "Epoch: 1401 cost= 0.004889191 W= 0.29353485 b= 0.48535627\n",
      "Epoch: 1451 cost= 0.004847392 W= 0.29092154 b= 0.50415605\n",
      "Epoch: 1501 cost= 0.004810428 W= 0.2884636 b= 0.52183825\n",
      "Epoch: 1551 cost= 0.004777741 W= 0.28615177 b= 0.5384694\n",
      "Epoch: 1601 cost= 0.004748838 W= 0.28397754 b= 0.5541111\n",
      "Epoch: 1651 cost= 0.004723281 W= 0.2819324 b= 0.56882364\n",
      "Epoch: 1701 cost= 0.004700682 W= 0.28000888 b= 0.5826611\n",
      "Epoch: 1751 cost= 0.004680701 W= 0.2781998 b= 0.595676\n",
      "Epoch: 1801 cost= 0.004663035 W= 0.2764982 b= 0.6079169\n",
      "Epoch: 1851 cost= 0.004647418 W= 0.27489805 b= 0.6194282\n",
      "Epoch: 1901 cost= 0.004633613 W= 0.27339318 b= 0.6302539\n",
      "Epoch: 1951 cost= 0.004621410 W= 0.2719778 b= 0.6404359\n",
      "Epoch: 2001 cost= 0.004610620 W= 0.27064666 b= 0.6500118\n",
      "Epoch: 2051 cost= 0.004601083 W= 0.2693946 b= 0.65901875\n",
      "Epoch: 2101 cost= 0.004592651 W= 0.26821706 b= 0.66749036\n",
      "Epoch: 2151 cost= 0.004585199 W= 0.26710948 b= 0.6754582\n",
      "Epoch: 2201 cost= 0.004578612 W= 0.2660679 b= 0.6829518\n",
      "Epoch: 2251 cost= 0.004572792 W= 0.26508808 b= 0.69000006\n",
      "Epoch: 2301 cost= 0.004567645 W= 0.2641666 b= 0.69662946\n",
      "Epoch: 2351 cost= 0.004563099 W= 0.26329988 b= 0.70286435\n",
      "Epoch: 2401 cost= 0.004559080 W= 0.26248473 b= 0.7087287\n",
      "Epoch: 2451 cost= 0.004555531 W= 0.26171798 b= 0.7142447\n",
      "Epoch: 2501 cost= 0.004552394 W= 0.26099682 b= 0.7194322\n",
      "Epoch: 2551 cost= 0.004549623 W= 0.26031867 b= 0.7243112\n",
      "Epoch: 2601 cost= 0.004547175 W= 0.25968072 b= 0.72890073\n",
      "Epoch: 2651 cost= 0.004545012 W= 0.25908053 b= 0.73321766\n",
      "Epoch: 2701 cost= 0.004543101 W= 0.2585163 b= 0.7372773\n",
      "Epoch: 2751 cost= 0.004541415 W= 0.25798556 b= 0.74109524\n",
      "Epoch: 2801 cost= 0.004539926 W= 0.25748634 b= 0.74468666\n",
      "Epoch: 2851 cost= 0.004538610 W= 0.25701675 b= 0.74806476\n",
      "Epoch: 2901 cost= 0.004537449 W= 0.2565752 b= 0.7512416\n",
      "Epoch: 2951 cost= 0.004536424 W= 0.25615978 b= 0.75422996\n",
      "Epoch: 3001 cost= 0.004535520 W= 0.25576913 b= 0.7570401\n",
      "Epoch: 3051 cost= 0.004534721 W= 0.2554017 b= 0.7596836\n",
      "Epoch: 3101 cost= 0.004534017 W= 0.25505617 b= 0.76216924\n",
      "Epoch: 3151 cost= 0.004533395 W= 0.25473106 b= 0.7645084\n",
      "Epoch: 3201 cost= 0.004532848 W= 0.2544253 b= 0.7667075\n",
      "Epoch: 3251 cost= 0.004532364 W= 0.25413784 b= 0.7687757\n",
      "Epoch: 3301 cost= 0.004531939 W= 0.25386727 b= 0.7707219\n",
      "Epoch: 3351 cost= 0.004531563 W= 0.25361288 b= 0.7725519\n",
      "Epoch: 3401 cost= 0.004531231 W= 0.2533737 b= 0.7742722\n",
      "Epoch: 3451 cost= 0.004530940 W= 0.25314867 b= 0.7758912\n",
      "Epoch: 3501 cost= 0.004530683 W= 0.25293708 b= 0.7774144\n",
      "Epoch: 3551 cost= 0.004530457 W= 0.2527379 b= 0.7788469\n",
      "Epoch: 3601 cost= 0.004530259 W= 0.25255063 b= 0.78019285\n",
      "Epoch: 3651 cost= 0.004530083 W= 0.25237468 b= 0.78145933\n",
      "Epoch: 3701 cost= 0.004529930 W= 0.25220904 b= 0.7826508\n",
      "Epoch: 3751 cost= 0.004529793 W= 0.25205326 b= 0.78377193\n",
      "Epoch: 3801 cost= 0.004529674 W= 0.2519067 b= 0.7848266\n",
      "Epoch: 3851 cost= 0.004529570 W= 0.25176895 b= 0.78581667\n",
      "Epoch: 3901 cost= 0.004529478 W= 0.2516399 b= 0.7867455\n",
      "Epoch: 3951 cost= 0.004529399 W= 0.25151843 b= 0.7876188\n",
      "최적화 종료\n",
      "cost= 0.0045293295 W= 0.2514064 b= 0.7884256\n"
     ]
    },
    {
     "data": {
      "image/png": "[encoded data removed]",
      "text/plain": [
       "<Figure size 432x288 with 1 Axes>"
      ]
     },
     "metadata": {
      "needs_background": "light"
     },
     "output_type": "display_data"
    }
   ],
   "source": [
    "with tf.Session() as sess:\n",
    "    sess.run(init)\n",
    "    for epoch in range(training_epochs):\n",
    "        for (x,y) in zip(train_X, train_Y):\n",
    "            sess.run(optimizer, feed_dict={X:x, Y:y})\n",
    "        if epoch % display_step == 0:\n",
    "            print(\"Epoch:\", '%04d' % (epoch+1),'cost=', '{:.9f}'.format(sess.run(cost,feed_dict={\n",
    "                X:train_X, Y:train_Y})),\"W=\", sess.run(W), 'b=', sess.run(b)) # 수렵값\n",
    "            \n",
    "    print(\"최적화 종료\")\n",
    "    # 3999번째의 cost, W, b\n",
    "    print('cost=', sess.run(cost, feed_dict={X:train_X, Y: train_Y}), 'W=', sess.run(W), 'b=', sess.run(b))\n",
    "    plt.plot(train_X, train_Y, 'ro', label='Original data')\n",
    "    # predict 한 결과값 출력\n",
    "    plt.plot(train_X, sess.run(W) * train_X + sess.run(b),label='Fitted line')\n",
    "    plt.legend()\n",
    "    plt.show()"
   ]
  },
  {
   "cell_type": "code",
   "execution_count": 171,
   "metadata": {},
   "outputs": [],
   "source": [
    "W =0.24768482\n",
    "b = 0.80373293"
   ]
  },
  {
   "cell_type": "code",
   "execution_count": 172,
   "metadata": {},
   "outputs": [],
   "source": [
    "# tensor => 직접시각화하는 것이 불가능 => numpy 포멧으로 변경\n",
    "def run_variable(variable):\n",
    "    tf.global_variables_initializer()\n",
    "    with tf.Session() as sess:\n",
    "        return sess.run(variable)"
   ]
  },
  {
   "cell_type": "code",
   "execution_count": 193,
   "metadata": {},
   "outputs": [
    {
     "data": {
      "text/plain": [
       "0.99999607"
      ]
     },
     "execution_count": 193,
     "metadata": {},
     "output_type": "execute_result"
    }
   ],
   "source": [
    "# 600x400\n",
    "# 균등분포\n",
    "# default 0~1\n",
    "my_distribution = tf.random_uniform((600,400), seed=42)\n",
    "uniform = run_variable(my_distribution)"
   ]
  },
  {
   "cell_type": "code",
   "execution_count": 199,
   "metadata": {},
   "outputs": [
    {
     "data": {
      "image/png": "[encoded data removed]",
      "text/plain": [
       "<Figure size 432x288 with 1 Axes>"
      ]
     },
     "metadata": {
      "needs_background": "light"
     },
     "output_type": "display_data"
    }
   ],
   "source": [
    "plt.hist(uniform.flatten()) # 데이터 메모리에 저장 : 1차원으로 저장\n",
    "# flatten 1차원으로 데이터를 만든다. 모든데이터를 1열로 만든다.\n",
    "plt.show()"
   ]
  },
  {
   "cell_type": "markdown",
   "metadata": {},
   "source": [
    "# 회귀? 분류"
   ]
  },
  {
   "cell_type": "code",
   "execution_count": 201,
   "metadata": {},
   "outputs": [
    {
     "name": "stdout",
     "output_type": "stream",
     "text": [
      "[-10.          -9.7979798   -9.5959596   -9.39393939  -9.19191919\n",
      "  -8.98989899  -8.78787879  -8.58585859  -8.38383838  -8.18181818\n",
      "  -7.97979798  -7.77777778  -7.57575758  -7.37373737  -7.17171717\n",
      "  -6.96969697  -6.76767677  -6.56565657  -6.36363636  -6.16161616\n",
      "  -5.95959596  -5.75757576  -5.55555556  -5.35353535  -5.15151515\n",
      "  -4.94949495  -4.74747475  -4.54545455  -4.34343434  -4.14141414\n",
      "  -3.93939394  -3.73737374  -3.53535354  -3.33333333  -3.13131313\n",
      "  -2.92929293  -2.72727273  -2.52525253  -2.32323232  -2.12121212\n",
      "  -1.91919192  -1.71717172  -1.51515152  -1.31313131  -1.11111111\n",
      "  -0.90909091  -0.70707071  -0.50505051  -0.3030303   -0.1010101\n",
      "   0.1010101    0.3030303    0.50505051   0.70707071   0.90909091\n",
      "   1.11111111   1.31313131   1.51515152   1.71717172   1.91919192\n",
      "   2.12121212   2.32323232   2.52525253   2.72727273   2.92929293\n",
      "   3.13131313   3.33333333   3.53535354   3.73737374   3.93939394\n",
      "   4.14141414   4.34343434   4.54545455   4.74747475   4.94949495\n",
      "   5.15151515   5.35353535   5.55555556   5.75757576   5.95959596\n",
      "   6.16161616   6.36363636   6.56565657   6.76767677   6.96969697\n",
      "   7.17171717   7.37373737   7.57575758   7.77777778   7.97979798\n",
      "   8.18181818   8.38383838   8.58585859   8.78787879   8.98989899\n",
      "   9.19191919   9.39393939   9.5959596    9.7979798   10.        ]\n"
     ]
    }
   ],
   "source": [
    "import tensorflow as tf\n",
    "import numpy as np\n",
    "import matplotlib.pyplot as plt\n",
    "from tensorflow.python.framework import ops\n",
    "ops.reset_default_graph()\n",
    "sess = tf.Session()\n",
    "\n",
    "# -10~10까지의 숫자 100개\n",
    "x_vals = np.linspace(start=-10., stop=10., num=100)\n",
    "print(x_vals)"
   ]
  },
  {
   "cell_type": "code",
   "execution_count": 202,
   "metadata": {},
   "outputs": [
    {
     "name": "stdout",
     "output_type": "stream",
     "text": [
      "[ 0.  3. 10.]\n",
      "[0.26894143 0.5        0.7310586 ]\n",
      "[-0.7615942  0.         0.7615942]\n",
      "[-0.63212055  0.          1.        ]\n",
      "[-0.9999546  -0.99994444 -0.999932   -0.99991677 -0.99989814 -0.99987534\n",
      " -0.99984743 -0.99981327 -0.99977147 -0.99972031 -0.99965769 -0.99958106\n",
      " -0.99948727 -0.99937248 -0.999232   -0.99906006 -0.99884964 -0.9985921\n",
      " -0.99827691 -0.99789116 -0.99741905 -0.99684124 -0.99613408 -0.99526861\n",
      " -0.99420938 -0.99291301 -0.99132643 -0.98938465 -0.98700817 -0.98409965\n",
      " -0.98053999 -0.97618343 -0.97085155 -0.96432601 -0.95633957 -0.94656519\n",
      " -0.9346026  -0.9199619  -0.90204355 -0.88011378 -0.85327452 -0.82042669\n",
      " -0.78022512 -0.73102351 -0.67080701 -0.59710968 -0.50691352 -0.3965249\n",
      " -0.26142329 -0.0960761   0.1010101   0.3030303   0.50505051  0.70707071\n",
      "  0.90909091  1.11111111  1.31313131  1.51515152  1.71717172  1.91919192\n",
      "  2.12121212  2.32323232  2.52525253  2.72727273  2.92929293  3.13131313\n",
      "  3.33333333  3.53535354  3.73737374  3.93939394  4.14141414  4.34343434\n",
      "  4.54545455  4.74747475  4.94949495  5.15151515  5.35353535  5.55555556\n",
      "  5.75757576  5.95959596  6.16161616  6.36363636  6.56565657  6.76767677\n",
      "  6.96969697  7.17171717  7.37373737  7.57575758  7.77777778  7.97979798\n",
      "  8.18181818  8.38383838  8.58585859  8.78787879  8.98989899  9.19191919\n",
      "  9.39393939  9.5959596   9.7979798  10.        ]\n",
      "[0.31326166 0.6931472  1.3132616 ]\n",
      "[4.53988992e-05 5.55621925e-05 6.80006294e-05 8.32234827e-05\n",
      " 1.01854002e-04 1.24654915e-04 1.52559623e-04 1.86710374e-04\n",
      " 2.28504961e-04 2.79653838e-04 3.42249995e-04 4.18854392e-04\n",
      " 5.12600439e-04 6.27321712e-04 7.67708042e-04 9.39496227e-04\n",
      " 1.14970295e-03 1.40690911e-03 1.72160671e-03 2.10662180e-03\n",
      " 2.57762963e-03 3.15378152e-03 3.85846667e-03 4.72023638e-03\n",
      " 5.77392318e-03 7.06199264e-03 8.63617122e-03 1.05593993e-02\n",
      " 1.29081631e-02 1.57752639e-02 1.92730804e-02 2.35373794e-02\n",
      " 2.87317129e-02 3.50524161e-02 4.27341757e-02 5.20560700e-02\n",
      " 6.33478781e-02 7.69963170e-02 9.34506760e-02 1.13227094e-01\n",
      " 1.36910472e-01 1.65152775e-01 1.98666320e-01 2.38210660e-01\n",
      " 2.84571982e-01 3.38534624e-01 4.00845440e-01 4.72173209e-01\n",
      " 5.53066799e-01 6.43916968e-01 7.44927069e-01 8.56097102e-01\n",
      " 9.77223714e-01 1.10791615e+00 1.24762553e+00 1.39568309e+00\n",
      " 1.55134197e+00 1.71381783e+00 1.88232449e+00 2.05610239e+00\n",
      " 2.23443922e+00 2.41668300e+00 2.60224884e+00 2.79062061e+00\n",
      " 2.98134900e+00 3.17404731e+00 3.36838575e+00 3.56408525e+00\n",
      " 3.76091112e+00 3.95866702e+00 4.15718941e+00 4.35634251e+00\n",
      " 4.55601394e+00 4.75611092e+00 4.95655694e+00 5.15728907e+00\n",
      " 5.35825559e+00 5.55941402e+00 5.76072954e+00 5.96217359e+00\n",
      " 6.16372278e+00 6.36535797e+00 6.56706347e+00 6.76882647e+00\n",
      " 6.97063647e+00 7.17248488e+00 7.37436470e+00 7.57627018e+00\n",
      " 7.77819663e+00 7.98014023e+00 8.18209784e+00 8.38406689e+00\n",
      " 8.58604530e+00 8.78803135e+00 8.99002364e+00 9.19202105e+00\n",
      " 9.39402262e+00 9.59602760e+00 9.79803536e+00 1.00000454e+01]\n"
     ]
    },
    {
     "data": {
      "image/png": "[encoded data removed]",
      "text/plain": [
       "<Figure size 432x288 with 1 Axes>"
      ]
     },
     "metadata": {
      "needs_background": "light"
     },
     "output_type": "display_data"
    },
    {
     "data": {
      "image/png": "[encoded data removed]",
      "text/plain": [
       "<Figure size 432x288 with 1 Axes>"
      ]
     },
     "metadata": {
      "needs_background": "light"
     },
     "output_type": "display_data"
    }
   ],
   "source": [
    "# 값의 범위: 0에서 무한대 -> relu 가 제일많이 쓰인다. \n",
    "# relu 는 속도도 빠르고 빨리 최적화함  ( relu 수정본 : elu, softplus )\n",
    "# tf.nn : 신결망\n",
    "print(sess.run(tf.nn.relu([-3., 3., 10.])))  \n",
    "# relu 의 단점 : 마이너스 값이 없다 ( 그것을 보완한 것이 elu) \n",
    "y_relu = sess.run(tf.nn.relu(x_vals))   \n",
    "\n",
    "print(sess.run(tf.nn.sigmoid([-1., 0., 1.]))) # 값의 범위 0~1\n",
    "y_sigmoid=sess.run(tf.nn.sigmoid(x_vals))\n",
    "\n",
    "print(sess.run(tf.nn.tanh([-1., 0., 1.]))) # 값의 범위 -1~1\n",
    "y_tanh = sess.run(tf.nn.tanh(x_vals))\n",
    "\n",
    "print(sess.run(tf.nn.elu([-1., 0., 1.])))  # -1~무한대 까지 ( relu 의 수정본이다 ) \n",
    "y_elu=sess.run(tf.nn.elu(x_vals))\n",
    "print(y_elu)\n",
    "print(sess.run(tf.nn.softplus([-1., 0., 1.]))) # relu 의 각진단점을 보완한것이 softplus\n",
    "y_softplus=sess.run(tf.nn.softplus(x_vals))\n",
    "print(y_softplus)\n",
    "\n",
    "plt.plot(x_vals, y_relu, 'b:', label='ReLU', linewidth=2)\n",
    "plt.plot(x_vals,y_elu, 'k-', label='ExpLU', linewidth=0.5)\n",
    "plt.ylim([-1.5,7])\n",
    "plt.legend(loc='upper left')\n",
    "plt.show()\n",
    "\n",
    "plt.plot(x_vals, y_sigmoid,'r--', label=\"Sigmoid\", linewidth=2)\n",
    "plt.plot(x_vals, y_tanh, 'b:', label='Tanh', linewidth=2)\n",
    "plt.ylim([-2,2])\n",
    "plt.legend(loc='upper left')\n",
    "plt.show()"
   ]
  },
  {
   "cell_type": "code",
   "execution_count": 205,
   "metadata": {},
   "outputs": [],
   "source": [
    "ops.reset_default_graph() # 그래프 초기화\n",
    "sess = tf.Session()\n",
    "tf.set_random_seed(5) # 시드 초기값\n",
    "np.random.seed(42)\n",
    "batch_size = 50\n",
    "a1 = tf.Variable(tf.random_normal(shape=[1,1])) # 가중치\n",
    "b1 = tf.Variable(tf.random_normal(shape=[1,1])) # bias\n",
    "a2 = tf.Variable(tf.random_normal(shape=[1,1]))\n",
    "b2 = tf.Variable(tf.random_normal(shape=[1,1]))\n",
    "\n",
    "# 평균 2에서 0.1 준포의 표준편차\n",
    "x = np.random.normal(2,0.1,500) # 500개의 데이터 \n",
    "# 사이즐르 fix하지않고 입력 데이터로 부터 계산\n",
    "# 행데이터로 생성\n",
    "\n",
    "# None 들어오는 데이터로 결정\n",
    "x_data = tf.placeholder(shape=[None, 1], dtype=tf.float32) "
   ]
  },
  {
   "cell_type": "code",
   "execution_count": 207,
   "metadata": {},
   "outputs": [
    {
     "name": "stdout",
     "output_type": "stream",
     "text": [
      "\n",
      " Sigmoid AND Relu 함수의 최적화 0.75\n"
     ]
    }
   ],
   "source": [
    "# y = ax +b\n",
    "# 0 ~ 1 사이 값으로 매핑\n",
    "sigmoid_activation = tf.sigmoid(tf.add(tf.matmul(x_data, a1), b1))\n",
    "# 0 ~ ∞ 사이 값으로 매핑\n",
    "relu_activation = tf.nn.relu(tf.add(tf.matmul(x_data, a2), b2))\n",
    "# 0.75로 수렴과정\n",
    "# MSE\n",
    "\n",
    "# y = 0.75\n",
    "# loss1 = tf.reduce_mean(tf.square(tf.subtract(sigmoid_activation, y)))\n",
    "# substract : 빼기\n",
    "# 결국 오차의 이차함수 만든것이다.\n",
    "loss1 = tf.reduce_mean(tf.square(tf.subtract(sigmoid_activation, 0.75)))\n",
    "loss2 = tf.reduce_mean(tf.square(tf.subtract(relu_activation, 0.75)))\n",
    "\n",
    "init = tf.global_variables_initializer()\n",
    "sess.run(init)\n",
    "\n",
    "# 학습\n",
    "my_opt = tf.train.GradientDescentOptimizer(0.01)\n",
    "\n",
    "# 최적화\n",
    "train_step_sigmoid = my_opt.minimize(loss1)\n",
    "train_step_relu = my_opt.minimize(loss2)\n",
    "\n",
    "print('\\n Sigmoid AND Relu 함수의 최적화 0.75')"
   ]
  },
  {
   "cell_type": "code",
   "execution_count": 208,
   "metadata": {},
   "outputs": [],
   "source": [
    "loss_vec_sigmoid=[] # 로스값을 저장\n",
    "loss_vec_relu = []"
   ]
  },
  {
   "cell_type": "code",
   "execution_count": 212,
   "metadata": {},
   "outputs": [
    {
     "name": "stdout",
     "output_type": "stream",
     "text": [
      "sigmoid :  0.5179345 relu : 1.5724698\n",
      "sigmoid :  0.5774545 relu : 0.7526498\n",
      "sigmoid :  0.6226946 relu : 0.7511373\n",
      "sigmoid :  0.6540121 relu : 0.7519931\n",
      "sigmoid :  0.6752096 relu : 0.7527638\n",
      "sigmoid :  0.6894106 relu : 0.7493521\n",
      "sigmoid :  0.7031772 relu : 0.75309145\n",
      "sigmoid :  0.71089584 relu : 0.7501302\n",
      "sigmoid :  0.72205144 relu : 0.75320876\n",
      "sigmoid :  0.72901475 relu : 0.755317\n"
     ]
    }
   ],
   "source": [
    "for i in range(500):\n",
    "    # 500 -> 50\n",
    "    # 랜덤으로 선택 500개 중 50개만\n",
    "    rand_indices = np.random.choice(len(x), size=batch_size)\n",
    "    \n",
    "    # 모양을 맞추기 위해\n",
    "    # 50x1\n",
    "    x_vals = np.transpose([x[rand_indices]]) \n",
    "    \n",
    "    # 최적화\n",
    "    sess.run(train_step_sigmoid, feed_dict={x_data:x_vals})\n",
    "    sess.run(train_step_relu, feed_dict={x_data:x_vals})\n",
    "    \n",
    "    # 오차\n",
    "    loss_vec_sigmoid.append(sess.run(loss1, feed_dict={x_data:x_vals}))\n",
    "    loss_vec_relu.append(sess.run(loss2, feed_dict={x_data:x_vals}))\n",
    "    \n",
    "    # 각각의 예측?\n",
    "    sigmoid_output = np.mean(sess.run(sigmoid_activation, feed_dict={x_data:x_vals}))\n",
    "    relu_output = np.mean(sess.run(relu_activation, feed_dict={x_data:x_vals}))\n",
    "    \n",
    "    if i % 50 ==0:\n",
    "        print('sigmoid : ',str(np.mean(sigmoid_output))+' relu : '+str(np.mean(relu_output)))\n",
    "        \n",
    "        \n",
    "# 0.75 수렴하는 과정"
   ]
  },
  {
   "cell_type": "code",
   "execution_count": 211,
   "metadata": {},
   "outputs": [
    {
     "data": {
      "text/plain": [
       "(50, 1)"
      ]
     },
     "execution_count": 211,
     "metadata": {},
     "output_type": "execute_result"
    }
   ],
   "source": [
    "x_vals = np.transpose([x[rand_indices]]) \n",
    "x_vals.shape"
   ]
  },
  {
   "cell_type": "code",
   "execution_count": null,
   "metadata": {},
   "outputs": [],
   "source": []
  },
  {
   "cell_type": "code",
   "execution_count": null,
   "metadata": {},
   "outputs": [],
   "source": []
  },
  {
   "cell_type": "code",
   "execution_count": null,
   "metadata": {},
   "outputs": [],
   "source": []
  },
  {
   "cell_type": "code",
   "execution_count": null,
   "metadata": {},
   "outputs": [],
   "source": []
  },
  {
   "cell_type": "code",
   "execution_count": null,
   "metadata": {},
   "outputs": [],
   "source": []
  },
  {
   "cell_type": "code",
   "execution_count": null,
   "metadata": {},
   "outputs": [],
   "source": []
  },
  {
   "cell_type": "code",
   "execution_count": null,
   "metadata": {},
   "outputs": [],
   "source": []
  },
  {
   "cell_type": "code",
   "execution_count": null,
   "metadata": {},
   "outputs": [],
   "source": []
  },
  {
   "cell_type": "code",
   "execution_count": null,
   "metadata": {},
   "outputs": [],
   "source": []
  },
  {
   "cell_type": "code",
   "execution_count": null,
   "metadata": {},
   "outputs": [],
   "source": []
  },
  {
   "cell_type": "code",
   "execution_count": null,
   "metadata": {},
   "outputs": [],
   "source": []
  },
  {
   "cell_type": "code",
   "execution_count": null,
   "metadata": {},
   "outputs": [],
   "source": []
  },
  {
   "cell_type": "code",
   "execution_count": null,
   "metadata": {},
   "outputs": [],
   "source": []
  },
  {
   "cell_type": "code",
   "execution_count": null,
   "metadata": {},
   "outputs": [],
   "source": []
  },
  {
   "cell_type": "code",
   "execution_count": null,
   "metadata": {},
   "outputs": [],
   "source": []
  },
  {
   "cell_type": "code",
   "execution_count": null,
   "metadata": {},
   "outputs": [],
   "source": []
  },
  {
   "cell_type": "code",
   "execution_count": null,
   "metadata": {},
   "outputs": [],
   "source": []
  },
  {
   "cell_type": "code",
   "execution_count": null,
   "metadata": {},
   "outputs": [],
   "source": []
  },
  {
   "cell_type": "code",
   "execution_count": null,
   "metadata": {},
   "outputs": [],
   "source": []
  },
  {
   "cell_type": "code",
   "execution_count": null,
   "metadata": {},
   "outputs": [],
   "source": []
  },
  {
   "cell_type": "code",
   "execution_count": null,
   "metadata": {},
   "outputs": [],
   "source": []
  },
  {
   "cell_type": "code",
   "execution_count": null,
   "metadata": {},
   "outputs": [],
   "source": []
  },
  {
   "cell_type": "code",
   "execution_count": null,
   "metadata": {},
   "outputs": [],
   "source": []
  },
  {
   "cell_type": "code",
   "execution_count": null,
   "metadata": {},
   "outputs": [],
   "source": []
  },
  {
   "cell_type": "code",
   "execution_count": null,
   "metadata": {},
   "outputs": [],
   "source": []
  }
 ],
 "metadata": {
  "kernelspec": {
   "display_name": "Python 3",
   "language": "python",
   "name": "python3"
  },
  "language_info": {
   "codemirror_mode": {
    "name": "ipython",
    "version": 3
   },
   "file_extension": ".py",
   "mimetype": "text/x-python",
   "name": "python",
   "nbconvert_exporter": "python",
   "pygments_lexer": "ipython3",
   "version": "3.7.4"
  }
 },
 "nbformat": 4,
 "nbformat_minor": 2
}
