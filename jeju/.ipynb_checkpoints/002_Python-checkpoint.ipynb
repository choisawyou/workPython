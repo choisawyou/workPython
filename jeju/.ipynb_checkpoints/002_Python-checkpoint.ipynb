{
 "cells": [
  {
   "cell_type": "markdown",
   "metadata": {},
   "source": [
    "# Day2"
   ]
  },
  {
   "cell_type": "code",
   "execution_count": 6,
   "metadata": {},
   "outputs": [
    {
     "name": "stdout",
     "output_type": "stream",
     "text": [
      "[1, 2, 3, [4, 5, [6, 7]], 8, 9]\n"
     ]
    }
   ],
   "source": [
    "a = [1, 2, 3, [4, 5, [6, 7]], 8, 9]\n",
    "print(a)"
   ]
  },
  {
   "cell_type": "code",
   "execution_count": 7,
   "metadata": {},
   "outputs": [
    {
     "name": "stdout",
     "output_type": "stream",
     "text": [
      "[1, 2, 3, [4, 5, [7]], 8, 9]\n"
     ]
    }
   ],
   "source": [
    "a[3][2].remove(6)\n",
    "print(a)"
   ]
  },
  {
   "cell_type": "code",
   "execution_count": 8,
   "metadata": {},
   "outputs": [
    {
     "name": "stdout",
     "output_type": "stream",
     "text": [
      "Non-negative\n"
     ]
    }
   ],
   "source": [
    "# 3항 연산자\n",
    "x = 5\n",
    "ans = 'Non-negative' if x >= 0 else 'Negative'\n",
    "print(ans)"
   ]
  },
  {
   "cell_type": "code",
   "execution_count": 9,
   "metadata": {},
   "outputs": [
    {
     "name": "stdout",
     "output_type": "stream",
     "text": [
      "False\n"
     ]
    }
   ],
   "source": [
    "city = '' # 비어 있으면 False, 한칸이 띄어있으면 True, 0 : False, list:[] : False, dict:{} : False, tuple:() : False\n",
    "if city:\n",
    "    print('empty city')\n",
    "else:\n",
    "    print('False')"
   ]
  },
  {
   "cell_type": "code",
   "execution_count": 10,
   "metadata": {},
   "outputs": [
    {
     "name": "stdout",
     "output_type": "stream",
     "text": [
      "2019-12-26 16:33:52.030261\n",
      "\n",
      "생년워일(19951031)을 입력하시오 : 19930817\n",
      "당신의 나이는   27\n",
      "당신은 미성년자가 아닙니다.\n"
     ]
    }
   ],
   "source": [
    "# 날짜의 입력은 문자열\n",
    "# 특수하게 해석해서 년월일로 해석\n",
    "\n",
    "import datetime\n",
    "dt = datetime.datetime.now()\n",
    "print(dt)\n",
    "print()\n",
    "age = input('생년워일(19951031)을 입력하시오 : ')\n",
    "\n",
    "year = int(age[0:4])\n",
    "month = int(age[4:6])\n",
    "day = int(age[6:])\n",
    "# 분산 : 상계방지 (제곱) 갑자기 왜 말해주는 거지????????????????????????\n",
    "\n",
    "year_diff = dt.year - year\n",
    "month_diff = dt.month - month\n",
    "day_diff = dt.day - day\n",
    "\n",
    "if day_diff < 0:\n",
    "    month_diff -= 1\n",
    "if month_diff < 0:\n",
    "    year_diff -= 1\n",
    "    \n",
    "print('당신의 나이는  ', year_diff + 1)\n",
    "\n",
    "if year_diff < 18:\n",
    "    print('당신은 미성년자 입니다.')\n",
    "else:\n",
    "    print('당신은 미성년자가 아닙니다.')"
   ]
  },
  {
   "cell_type": "code",
   "execution_count": 11,
   "metadata": {},
   "outputs": [],
   "source": [
    "# 데이터 입력 -> 처리 (연산자), 제어문(판단문, 한가지 규칙을 여러 데이터에 적용: 반복문)"
   ]
  },
  {
   "cell_type": "markdown",
   "metadata": {},
   "source": [
    "# 반복문"
   ]
  },
  {
   "cell_type": "code",
   "execution_count": 12,
   "metadata": {},
   "outputs": [],
   "source": [
    "# for(i = 0; i < 100; i++)   인덱스 오버플로우\n",
    "# for in 문\n"
   ]
  },
  {
   "cell_type": "code",
   "execution_count": 13,
   "metadata": {},
   "outputs": [
    {
     "name": "stdout",
     "output_type": "stream",
     "text": [
      "earth air fire water 1, 3, 5, 7, 9, "
     ]
    }
   ],
   "source": [
    "elements = ['earth', 'air', 'fire', 'water']\n",
    "for i in elements: # Collections, iterator, generator, enumerate\n",
    "    print(i, end = ' ') # 끝에 빈공간을 만들겠다.\n",
    "#     print(i, end = ', ')\n",
    "\n",
    "for i in range(1, 10, 2):\n",
    "    print(i, end = ', ')"
   ]
  },
  {
   "cell_type": "code",
   "execution_count": 14,
   "metadata": {},
   "outputs": [],
   "source": [
    "# Collentions : list, tuple, dict, set\n",
    "# iterator : range, (start, end, step)\n",
    "# generator : 데이터 생성, 메모리를 차지하지 않음\n",
    "# enumerate : 매핑을 해줌, 0:earth, 1:air, 2:fire"
   ]
  },
  {
   "cell_type": "code",
   "execution_count": 15,
   "metadata": {},
   "outputs": [
    {
     "name": "stdout",
     "output_type": "stream",
     "text": [
      "0\n",
      "earth\n",
      "1\n",
      "air\n",
      "2\n",
      "fire\n",
      "3\n",
      "water\n"
     ]
    }
   ],
   "source": [
    "for i in range(len(elements)):\n",
    "    print(i)\n",
    "    print(elements[i])"
   ]
  },
  {
   "cell_type": "code",
   "execution_count": 16,
   "metadata": {},
   "outputs": [
    {
     "data": {
      "text/plain": [
       "['__add__',\n",
       " '__class__',\n",
       " '__contains__',\n",
       " '__delattr__',\n",
       " '__delitem__',\n",
       " '__dir__',\n",
       " '__doc__',\n",
       " '__eq__',\n",
       " '__format__',\n",
       " '__ge__',\n",
       " '__getattribute__',\n",
       " '__getitem__',\n",
       " '__gt__',\n",
       " '__hash__',\n",
       " '__iadd__',\n",
       " '__imul__',\n",
       " '__init__',\n",
       " '__init_subclass__',\n",
       " '__iter__',\n",
       " '__le__',\n",
       " '__len__',\n",
       " '__lt__',\n",
       " '__mul__',\n",
       " '__ne__',\n",
       " '__new__',\n",
       " '__reduce__',\n",
       " '__reduce_ex__',\n",
       " '__repr__',\n",
       " '__reversed__',\n",
       " '__rmul__',\n",
       " '__setattr__',\n",
       " '__setitem__',\n",
       " '__sizeof__',\n",
       " '__str__',\n",
       " '__subclasshook__',\n",
       " 'append',\n",
       " 'clear',\n",
       " 'copy',\n",
       " 'count',\n",
       " 'extend',\n",
       " 'index',\n",
       " 'insert',\n",
       " 'pop',\n",
       " 'remove',\n",
       " 'reverse',\n",
       " 'sort']"
      ]
     },
     "execution_count": 16,
     "metadata": {},
     "output_type": "execute_result"
    }
   ],
   "source": [
    "dir(elements)"
   ]
  },
  {
   "cell_type": "code",
   "execution_count": 17,
   "metadata": {},
   "outputs": [
    {
     "name": "stdout",
     "output_type": "stream",
     "text": [
      "range(0, 4)\n",
      "[0, 1, 2, 3]\n",
      "[3, 2, 1, 0]\n"
     ]
    }
   ],
   "source": [
    "# range는 객체다.\n",
    "ra = range(4)\n",
    "print(ra)\n",
    "# list로 케스팅\n",
    "print(list(ra))\n",
    "ra = reversed(ra)\n",
    "print(list(ra))"
   ]
  },
  {
   "cell_type": "code",
   "execution_count": 18,
   "metadata": {},
   "outputs": [
    {
     "name": "stdout",
     "output_type": "stream",
     "text": [
      "[5, 4, 3, 2, 1, 0]\n"
     ]
    }
   ],
   "source": [
    "print(list(range(5, -1, -1)))"
   ]
  },
  {
   "cell_type": "code",
   "execution_count": 19,
   "metadata": {},
   "outputs": [
    {
     "name": "stdout",
     "output_type": "stream",
     "text": [
      "0\n",
      "1\n",
      "2\n",
      "3\n",
      "4\n",
      "5\n",
      "6\n",
      "7\n",
      "8\n",
      "9\n",
      "10\n"
     ]
    }
   ],
   "source": [
    "for i in range(11):\n",
    "    print(i)\n",
    "    i += i"
   ]
  },
  {
   "cell_type": "code",
   "execution_count": 20,
   "metadata": {},
   "outputs": [
    {
     "name": "stdout",
     "output_type": "stream",
     "text": [
      "55\n"
     ]
    }
   ],
   "source": [
    "sum_ = 0\n",
    "for i in range(1, 11):\n",
    "    sum_ += i\n",
    "print(sum_)"
   ]
  },
  {
   "cell_type": "code",
   "execution_count": 21,
   "metadata": {},
   "outputs": [
    {
     "name": "stdout",
     "output_type": "stream",
     "text": [
      "\n",
      "2 * 2 = 4\n",
      "2 * 3 = 6\n",
      "2 * 4 = 8\n",
      "2 * 5 = 10\n",
      "2 * 6 = 12\n",
      "2 * 7 = 14\n",
      "2 * 8 = 16\n",
      "2 * 9 = 18\n",
      "\n",
      "3 * 2 = 6\n",
      "3 * 3 = 9\n",
      "3 * 4 = 12\n",
      "3 * 5 = 15\n",
      "3 * 6 = 18\n",
      "3 * 7 = 21\n",
      "3 * 8 = 24\n",
      "3 * 9 = 27\n"
     ]
    }
   ],
   "source": [
    "for i in range(2,4):\n",
    "    print()\n",
    "    for j in range(2, 10):\n",
    "        print('{} * {} = {}'.format(i, j, i*j))"
   ]
  },
  {
   "cell_type": "code",
   "execution_count": 22,
   "metadata": {},
   "outputs": [
    {
     "name": "stdout",
     "output_type": "stream",
     "text": [
      "\n",
      "2 * 1 = 2\n",
      "2 * 2 = 4\n",
      "2 * 3 = 6\n",
      "2 * 4 = 8\n",
      "2 * 5 = 10\n",
      "2 * 6 = 12\n",
      "2 * 7 = 14\n",
      "2 * 8 = 16\n",
      "2 * 9 = 18\n",
      "\n",
      "3 * 1 = 3\n",
      "3 * 2 = 6\n",
      "3 * 3 = 9\n",
      "3 * 4 = 12\n",
      "3 * 5 = 15\n",
      "3 * 6 = 18\n",
      "3 * 7 = 21\n",
      "3 * 8 = 24\n",
      "3 * 9 = 27\n",
      "\n",
      "4 * 1 = 4\n",
      "4 * 2 = 8\n",
      "4 * 3 = 12\n",
      "4 * 4 = 16\n",
      "4 * 5 = 20\n",
      "4 * 6 = 24\n",
      "4 * 7 = 28\n",
      "4 * 8 = 32\n",
      "4 * 9 = 36\n",
      "\n",
      "5 * 1 = 5\n",
      "5 * 2 = 10\n",
      "5 * 3 = 15\n",
      "5 * 4 = 20\n",
      "5 * 5 = 25\n",
      "5 * 6 = 30\n",
      "5 * 7 = 35\n",
      "5 * 8 = 40\n",
      "5 * 9 = 45\n",
      "\n",
      "6 * 1 = 6\n",
      "6 * 2 = 12\n",
      "6 * 3 = 18\n",
      "6 * 4 = 24\n",
      "6 * 5 = 30\n",
      "6 * 6 = 36\n",
      "6 * 7 = 42\n",
      "6 * 8 = 48\n",
      "6 * 9 = 54\n",
      "\n",
      "7 * 1 = 7\n",
      "7 * 2 = 14\n",
      "7 * 3 = 21\n",
      "7 * 4 = 28\n",
      "7 * 5 = 35\n",
      "7 * 6 = 42\n",
      "7 * 7 = 49\n",
      "7 * 8 = 56\n",
      "7 * 9 = 63\n",
      "\n",
      "8 * 1 = 8\n",
      "8 * 2 = 16\n",
      "8 * 3 = 24\n",
      "8 * 4 = 32\n",
      "8 * 5 = 40\n",
      "8 * 6 = 48\n",
      "8 * 7 = 56\n",
      "8 * 8 = 64\n",
      "8 * 9 = 72\n",
      "\n",
      "9 * 1 = 9\n",
      "9 * 2 = 18\n",
      "9 * 3 = 27\n",
      "9 * 4 = 36\n",
      "9 * 5 = 45\n",
      "9 * 6 = 54\n",
      "9 * 7 = 63\n",
      "9 * 8 = 72\n",
      "9 * 9 = 81\n"
     ]
    }
   ],
   "source": [
    "for i in range(2,10):\n",
    "    print()\n",
    "    for j in range(1, 10):\n",
    "        print('{} * {} = {}'.format(i, j, i*j))"
   ]
  },
  {
   "cell_type": "code",
   "execution_count": 23,
   "metadata": {},
   "outputs": [
    {
     "name": "stdout",
     "output_type": "stream",
     "text": [
      "\n",
      "2 * 1 = 2 \t 3 * 1 = 3 \t 4 * 1 = 4 \t 5 * 1 = 5 \t 6 * 1 = 6 \t 7 * 1 = 7 \t 8 * 1 = 8 \t 9 * 1 = 9 \t \n",
      "2 * 2 = 4 \t 3 * 2 = 6 \t 4 * 2 = 8 \t 5 * 2 = 10 \t 6 * 2 = 12 \t 7 * 2 = 14 \t 8 * 2 = 16 \t 9 * 2 = 18 \t \n",
      "2 * 3 = 6 \t 3 * 3 = 9 \t 4 * 3 = 12 \t 5 * 3 = 15 \t 6 * 3 = 18 \t 7 * 3 = 21 \t 8 * 3 = 24 \t 9 * 3 = 27 \t \n",
      "2 * 4 = 8 \t 3 * 4 = 12 \t 4 * 4 = 16 \t 5 * 4 = 20 \t 6 * 4 = 24 \t 7 * 4 = 28 \t 8 * 4 = 32 \t 9 * 4 = 36 \t \n",
      "2 * 5 = 10 \t 3 * 5 = 15 \t 4 * 5 = 20 \t 5 * 5 = 25 \t 6 * 5 = 30 \t 7 * 5 = 35 \t 8 * 5 = 40 \t 9 * 5 = 45 \t \n",
      "2 * 6 = 12 \t 3 * 6 = 18 \t 4 * 6 = 24 \t 5 * 6 = 30 \t 6 * 6 = 36 \t 7 * 6 = 42 \t 8 * 6 = 48 \t 9 * 6 = 54 \t \n",
      "2 * 7 = 14 \t 3 * 7 = 21 \t 4 * 7 = 28 \t 5 * 7 = 35 \t 6 * 7 = 42 \t 7 * 7 = 49 \t 8 * 7 = 56 \t 9 * 7 = 63 \t \n",
      "2 * 8 = 16 \t 3 * 8 = 24 \t 4 * 8 = 32 \t 5 * 8 = 40 \t 6 * 8 = 48 \t 7 * 8 = 56 \t 8 * 8 = 64 \t 9 * 8 = 72 \t \n",
      "2 * 9 = 18 \t 3 * 9 = 27 \t 4 * 9 = 36 \t 5 * 9 = 45 \t 6 * 9 = 54 \t 7 * 9 = 63 \t 8 * 9 = 72 \t 9 * 9 = 81 \t "
     ]
    }
   ],
   "source": [
    "for i in range(1,10):\n",
    "    print()\n",
    "    for j in range(2, 10):\n",
    "        print('{} * {} = {} \\t'.format(j, i, i*j), end = ' ')"
   ]
  },
  {
   "cell_type": "code",
   "execution_count": 24,
   "metadata": {},
   "outputs": [
    {
     "data": {
      "text/plain": [
       "[0, 1, 2, 3, 4, 5, 6, 7, 8, 9]"
      ]
     },
     "execution_count": 24,
     "metadata": {},
     "output_type": "execute_result"
    }
   ],
   "source": [
    "# 내장 list : 동적으로 데이터 생성\n",
    "[i for i in range(10)]"
   ]
  },
  {
   "cell_type": "code",
   "execution_count": 25,
   "metadata": {},
   "outputs": [
    {
     "data": {
      "text/plain": [
       "[0, 1, 4, 9, 16, 25, 36, 49, 64, 81]"
      ]
     },
     "execution_count": 25,
     "metadata": {},
     "output_type": "execute_result"
    }
   ],
   "source": [
    "[i ** 2 for i in range(10)]"
   ]
  },
  {
   "cell_type": "code",
   "execution_count": 26,
   "metadata": {},
   "outputs": [
    {
     "data": {
      "text/plain": [
       "{0: 0, 1: 1, 2: 8, 3: 27, 4: 64, 5: 125, 6: 216, 7: 343, 8: 512, 9: 729}"
      ]
     },
     "execution_count": 26,
     "metadata": {},
     "output_type": "execute_result"
    }
   ],
   "source": [
    "{i : i**3 for i in range(10)}"
   ]
  },
  {
   "cell_type": "code",
   "execution_count": 27,
   "metadata": {},
   "outputs": [
    {
     "data": {
      "text/plain": [
       "[0, 4, 16, 36, 64]"
      ]
     },
     "execution_count": 27,
     "metadata": {},
     "output_type": "execute_result"
    }
   ],
   "source": [
    "[i ** 2 for i in range(10) if i % 2 == 0]"
   ]
  },
  {
   "cell_type": "code",
   "execution_count": 28,
   "metadata": {},
   "outputs": [
    {
     "data": {
      "text/plain": [
       "[(1, 10),\n",
       " (1, 11),\n",
       " (1, 12),\n",
       " (1, 13),\n",
       " (1, 14),\n",
       " (2, 10),\n",
       " (2, 11),\n",
       " (2, 12),\n",
       " (2, 13),\n",
       " (2, 14),\n",
       " (3, 10),\n",
       " (3, 11),\n",
       " (3, 12),\n",
       " (3, 13),\n",
       " (3, 14),\n",
       " (4, 10),\n",
       " (4, 11),\n",
       " (4, 12),\n",
       " (4, 13),\n",
       " (4, 14)]"
      ]
     },
     "execution_count": 28,
     "metadata": {},
     "output_type": "execute_result"
    }
   ],
   "source": [
    "# for r in rows:\n",
    "#     for c in coles:\n",
    "#         (r,c)\n",
    "\n",
    "rows = range(1, 5)\n",
    "cols = range(10, 15)\n",
    "\n",
    "vector = [(r, c) for r in rows for c in cols]\n",
    "vector"
   ]
  },
  {
   "cell_type": "code",
   "execution_count": 29,
   "metadata": {},
   "outputs": [
    {
     "data": {
      "text/plain": [
       "[1,\n",
       " 2,\n",
       " '3의 배수 ',\n",
       " 4,\n",
       " '5의 배수 ',\n",
       " '3의 배수 ',\n",
       " 7,\n",
       " 8,\n",
       " '3의 배수 ',\n",
       " '5의 배수 ',\n",
       " 11,\n",
       " '3의 배수 ',\n",
       " 13,\n",
       " 14,\n",
       " '3의 배수 5의 배수 ',\n",
       " 16,\n",
       " 17,\n",
       " '3의 배수 ',\n",
       " 19,\n",
       " '5의 배수 ']"
      ]
     },
     "execution_count": 29,
     "metadata": {},
     "output_type": "execute_result"
    }
   ],
   "source": [
    "# 문자열 연산자 +, *(반복)\n",
    "['3의 배수 ' * (i%3==0) + '5의 배수 ' * (i%5==0) or i for i in range(1, 21)]"
   ]
  },
  {
   "cell_type": "code",
   "execution_count": 30,
   "metadata": {},
   "outputs": [
    {
     "name": "stdout",
     "output_type": "stream",
     "text": [
      "점수를 입력하시오 : 90\n",
      "A\n",
      "점수를 입력하시오 : 90\n",
      "A\n"
     ]
    }
   ],
   "source": [
    "# 점수를 입력받아 A,B,C,D,F 학점으로 출력하시오(점수를 학점으로 mapping)\n",
    "score = int(input('점수를 입력하시오 : '))\n",
    "\n",
    "if score >= 90:\n",
    "    print('A')\n",
    "elif score >= 80:\n",
    "    print('B')\n",
    "elif score >= 70:\n",
    "    print('C')\n",
    "elif score >= 60:\n",
    "    print('D')\n",
    "else:\n",
    "    print('F')\n",
    "\n",
    "while True:\n",
    "    score = int(input('점수를 입력하시오 : '))\n",
    "    \n",
    "    if score == 0:\n",
    "        break\n",
    "        \n",
    "    if score >= 90:\n",
    "        print('A')\n",
    "        break\n",
    "    elif score >= 80:\n",
    "        print('B')\n",
    "        break\n",
    "    elif score >= 70:\n",
    "        print('C')\n",
    "        break\n",
    "    elif score >= 60:\n",
    "        print('D')\n",
    "        break\n",
    "    else:\n",
    "        print('F')\n",
    "        break"
   ]
  },
  {
   "cell_type": "code",
   "execution_count": 31,
   "metadata": {},
   "outputs": [
    {
     "name": "stdout",
     "output_type": "stream",
     "text": [
      "번호를 입력학세요 : 1\n",
      "이름을 입력하세요 : 1\n",
      "국어 점수를 입력하세요 : 1\n",
      "영어를 점수를 입력하세요 : 1\n",
      "수학 점수를 입력학세요 : 1\n",
      "\n",
      "번호를 입력학세요 : 1\n",
      "이름을 입력하세요 : 1\n",
      "국어 점수를 입력하세요 : 1\n",
      "영어를 점수를 입력하세요 : 1\n",
      "수학 점수를 입력학세요 : 1\n",
      "\n",
      "번호를 입력학세요 : 1\n",
      "이름을 입력하세요 : 1\n",
      "국어 점수를 입력하세요 : 1\n",
      "영어를 점수를 입력하세요 : 1\n",
      "수학 점수를 입력학세요 : 1\n",
      "\n",
      "[['1', '1', 1, 1, 1], ['1', '1', 1, 1, 1], ['1', '1', 1, 1, 1]]\n"
     ]
    }
   ],
   "source": [
    "# 번호 이름 국어 영어 수학 점수를 입력받아 프로그램 작성 (3명분)\n",
    "# 2차원 리스트\n",
    "final = []\n",
    "for i in range(3):\n",
    "    sungjuk = []\n",
    "    \n",
    "    num = input('번호를 입력학세요 : ')\n",
    "    name = input('이름을 입력하세요 : ')\n",
    "    kor = int(input('국어 점수를 입력하세요 : '))\n",
    "    eng = int(input('영어를 점수를 입력하세요 : '))\n",
    "    math = int(input('수학 점수를 입력학세요 : '))\n",
    "    print()\n",
    "    \n",
    "    sungjuk.append(num)\n",
    "    sungjuk.append(name)\n",
    "    sungjuk.append(kor)\n",
    "    sungjuk.append(eng)\n",
    "    sungjuk.append(math)\n",
    "    \n",
    "    final.append(sungjuk)\n",
    "    \n",
    "print(final)\n",
    "    \n",
    "    "
   ]
  },
  {
   "cell_type": "code",
   "execution_count": 140,
   "metadata": {},
   "outputs": [
    {
     "name": "stdout",
     "output_type": "stream",
     "text": [
      "이름을 입력하세요 : Kim\n",
      "국어 점수를 입력하세요 : 90\n",
      "영어를 점수를 입력하세요 : 89\n",
      "수학 점수를 입력학세요 : 97\n",
      "\n",
      "이름을 입력하세요 : Hong\n",
      "국어 점수를 입력하세요 : 78\n",
      "영어를 점수를 입력하세요 : 98\n",
      "수학 점수를 입력학세요 : 45\n",
      "\n",
      "이름을 입력하세요 : Kang\n",
      "국어 점수를 입력하세요 : 78\n",
      "영어를 점수를 입력하세요 : 88\n",
      "수학 점수를 입력학세요 : 95\n",
      "\n",
      "[[1, 'Kim', 90, 89, 97, 276, 92.0, 'A'], [2, 'Hong', 78, 98, 45, 221, 73.67, 'C'], [3, 'Kang', 78, 88, 95, 261, 87.0, 'B']]\n"
     ]
    }
   ],
   "source": [
    "# 문제 합계와 평균을 구해서 추가시켜 보세요\n",
    "# 평균은 소수점 3째 자리엣허 반올림하고 2째 자리까지 표현\n",
    "final = []\n",
    "num = 0\n",
    "\n",
    "for i in range(3):\n",
    "    sungjuk = []\n",
    "    sum_ = 0\n",
    "    avg = 0\n",
    "    \n",
    "    num += 1\n",
    "    name = input('이름을 입력하세요 : ')\n",
    "    kor = int(input('국어 점수를 입력하세요 : '))\n",
    "    eng = int(input('영어를 점수를 입력하세요 : '))\n",
    "    math = int(input('수학 점수를 입력학세요 : '))\n",
    "    sum_ = kor + eng + math\n",
    "    avg = round(sum / 3, 2)\n",
    "#     avg = float('%0.2f'%round(sum_ / 3, 2))\n",
    "\n",
    "    if avg >= 90:\n",
    "        grade = 'A'\n",
    "    elif avg >= 80:\n",
    "        grade = 'B'\n",
    "    elif avg >= 70:\n",
    "        grade = 'C'\n",
    "    elif avg >= 60:\n",
    "        grade = 'D'\n",
    "    else:\n",
    "        grade = 'F'\n",
    "    \n",
    "    print()\n",
    "    \n",
    "    sungjuk.append(num)\n",
    "    sungjuk.append(name)\n",
    "    sungjuk.append(kor)\n",
    "    sungjuk.append(eng)\n",
    "    sungjuk.append(math)\n",
    "    sungjuk.append(sum_)\n",
    "    sungjuk.append(avg)\n",
    "    sungjuk.append(grade)\n",
    "    \n",
    "    final.append(sungjuk)\n",
    "    \n",
    "print(final)"
   ]
  },
  {
   "cell_type": "code",
   "execution_count": 141,
   "metadata": {},
   "outputs": [
    {
     "data": {
      "text/plain": [
       "'90.00'"
      ]
     },
     "execution_count": 141,
     "metadata": {},
     "output_type": "execute_result"
    }
   ],
   "source": [
    "avg = round(270 / 3, 3)\n",
    "a = '%0.2f'% avg\n",
    "a"
   ]
  },
  {
   "cell_type": "code",
   "execution_count": 142,
   "metadata": {},
   "outputs": [
    {
     "name": "stdout",
     "output_type": "stream",
     "text": [
      "None\n"
     ]
    },
    {
     "data": {
      "text/plain": [
       "[[1, 'Kim', 90, 89, 97, 276, 92.0, 'A'],\n",
       " [2, 'Hong', 78, 98, 45, 221, 73.67, 'C'],\n",
       " [3, 'Kang', 78, 88, 95, 261, 87.0, 'B']]"
      ]
     },
     "execution_count": 142,
     "metadata": {},
     "output_type": "execute_result"
    }
   ],
   "source": [
    "# 정렬하고 싶은 경우\n",
    "# 기본 데이터 타입 : str, int float, list, set, dict, tuple\n",
    "# 모든것이 객체(변수 + 함수) : 사용자 저의 데이터 타입\n",
    "\n",
    "print(final.sort())\n",
    "final"
   ]
  },
  {
   "cell_type": "code",
   "execution_count": 143,
   "metadata": {},
   "outputs": [
    {
     "name": "stdout",
     "output_type": "stream",
     "text": [
      "[[2, 'Hong', 78, 98, 45, 221, 73.67, 'C'], [3, 'Kang', 78, 88, 95, 261, 87.0, 'B'], [1, 'Kim', 90, 89, 97, 276, 92.0, 'A']]\n"
     ]
    }
   ],
   "source": [
    "# 함수를 키로한다.\n",
    "def getKey(a1):\n",
    "    return a1[1]\n",
    "final.sort(key=getKey)\n",
    "print(final)\n",
    "# print(final.sort(key=getKey, reverse = True))"
   ]
  },
  {
   "cell_type": "code",
   "execution_count": 144,
   "metadata": {},
   "outputs": [
    {
     "name": "stdout",
     "output_type": "stream",
     "text": [
      "[[2, 'Hong', 78, 98, 45, 221, 73.67, 'C'], [3, 'Kang', 78, 88, 95, 261, 87.0, 'B'], [1, 'Kim', 90, 89, 97, 276, 92.0, 'A']]\n"
     ]
    }
   ],
   "source": [
    "# lambda 함수 : 무명함수, 간단한 함수를 작성할 때 사용\n",
    "final.sort(key=lambda row:row[1])\n",
    "print(final)"
   ]
  },
  {
   "cell_type": "code",
   "execution_count": 145,
   "metadata": {},
   "outputs": [
    {
     "data": {
      "text/plain": [
       "[[1, 'Kim', 90, 89, 97, 276, 92.0, 'A', 1],\n",
       " [3, 'Kang', 78, 88, 95, 261, 87.0, 'B', 2],\n",
       " [2, 'Hong', 78, 98, 45, 221, 73.67, 'C', 3]]"
      ]
     },
     "execution_count": 145,
     "metadata": {},
     "output_type": "execute_result"
    }
   ],
   "source": [
    "# 등수를 입력하는 필들르 추가하시요\n",
    "final.sort(key=lambda row:row[5], reverse = True)\n",
    "\n",
    "# for i in range(len(final)):\n",
    "for i in range(3):\n",
    "    final[i].append(i + 1)\n",
    "    \n",
    "final\n",
    "\n"
   ]
  },
  {
   "cell_type": "code",
   "execution_count": 146,
   "metadata": {},
   "outputs": [
    {
     "data": {
      "text/plain": [
       "[[1, 'Kim', 90, 89, 97, 276, 92.0, 'A', 1],\n",
       " [2, 'Hong', 78, 98, 45, 221, 73.67, 'C', 3],\n",
       " [3, 'Kang', 78, 88, 95, 261, 87.0, 'B', 2]]"
      ]
     },
     "execution_count": 146,
     "metadata": {},
     "output_type": "execute_result"
    }
   ],
   "source": [
    "final.sort()\n",
    "final"
   ]
  },
  {
   "cell_type": "code",
   "execution_count": 148,
   "metadata": {},
   "outputs": [
    {
     "name": "stdout",
     "output_type": "stream",
     "text": [
      "번호 이름  국어 영어 수학 총점 평균 학점 등수 \n",
      "1 Kim 90 89 97 276 92.0 A 1 \n",
      "2 Hong 78 98 45 221 73.67 C 3 \n",
      "3 Kang 78 88 95 261 87.0 B 2 "
     ]
    }
   ],
   "source": [
    "tot_list = ['번호', '이름',' 국어', '영어', '수학', '총점', '평균', '학점', '등수']\n",
    "for j in range(len(final[0])):\n",
    "    print(tot_list[j], end = ' ')\n",
    "\n",
    "for i in range(len(final)):\n",
    "    print(end = '\\n')\n",
    "    for j in range(9):\n",
    "        print(final[i][j], end = ' ')"
   ]
  },
  {
   "cell_type": "code",
   "execution_count": 149,
   "metadata": {},
   "outputs": [],
   "source": [
    "# 문제 number guess(숫자 맞추기 게임 1:1)\n",
    "# computer는 숫자를 랜덤으로 발생시킵니다.(1~100)\n",
    "\n",
    "# 사용자는 숫자를 입력합니다.\n",
    "\n",
    "# 컴퓨터가 낸 숫자와 사용자가 입력한 숫자가 일치하는지 확인하고 일치하면 확인하고\n",
    "# 다시 다음 게임을 진행합니다.\n",
    "\n",
    "# 만약 맞추지 못하였으면 사용자가 입력한 숫자가 컴퓨터가 가지고 있는 수 보다 큰지 작은지를 알려줍니다.\n",
    "\n",
    "# 무한루프로 진행하던 게임은 q가 눌리면 종료\n",
    "\n",
    "# 몇회만에 맞추었는지를 확인 하여 출력\n",
    "\n",
    "# 총 진행 회수하고 guess횟수 누적시킨다음 평균 시도 횟수를 출력\n"
   ]
  },
  {
   "cell_type": "code",
   "execution_count": 24,
   "metadata": {},
   "outputs": [
    {
     "name": "stdout",
     "output_type": "stream",
     "text": [
      "숫자를 입력하세요 : \n"
     ]
    },
    {
     "ename": "ValueError",
     "evalue": "invalid literal for int() with base 10: ''",
     "output_type": "error",
     "traceback": [
      "\u001b[1;31m---------------------------------------------------------------------------\u001b[0m",
      "\u001b[1;31mValueError\u001b[0m                                Traceback (most recent call last)",
      "\u001b[1;32m<ipython-input-24-d8f29d8bb4b6>\u001b[0m in \u001b[0;36m<module>\u001b[1;34m\u001b[0m\n\u001b[0;32m     37\u001b[0m                 \u001b[0msys\u001b[0m\u001b[1;33m.\u001b[0m\u001b[0mexit\u001b[0m\u001b[1;33m(\u001b[0m\u001b[1;36m0\u001b[0m\u001b[1;33m)\u001b[0m\u001b[1;33m\u001b[0m\u001b[1;33m\u001b[0m\u001b[0m\n\u001b[0;32m     38\u001b[0m \u001b[1;33m\u001b[0m\u001b[0m\n\u001b[1;32m---> 39\u001b[1;33m         \u001b[1;32mif\u001b[0m \u001b[0mcomputer\u001b[0m \u001b[1;33m!=\u001b[0m \u001b[0mint\u001b[0m\u001b[1;33m(\u001b[0m\u001b[0muser\u001b[0m\u001b[1;33m)\u001b[0m \u001b[1;32mor\u001b[0m \u001b[0muser\u001b[0m \u001b[1;33m==\u001b[0m \u001b[1;32mNone\u001b[0m\u001b[1;33m:\u001b[0m\u001b[1;33m\u001b[0m\u001b[1;33m\u001b[0m\u001b[0m\n\u001b[0m\u001b[0;32m     40\u001b[0m             \u001b[1;32mif\u001b[0m \u001b[0mcomputer\u001b[0m \u001b[1;33m>\u001b[0m \u001b[0mint\u001b[0m\u001b[1;33m(\u001b[0m\u001b[0muser\u001b[0m\u001b[1;33m)\u001b[0m\u001b[1;33m:\u001b[0m\u001b[1;33m\u001b[0m\u001b[1;33m\u001b[0m\u001b[0m\n\u001b[0;32m     41\u001b[0m                 \u001b[0mprint\u001b[0m\u001b[1;33m(\u001b[0m\u001b[1;34m'UP!!!'\u001b[0m\u001b[1;33m)\u001b[0m\u001b[1;33m\u001b[0m\u001b[1;33m\u001b[0m\u001b[0m\n",
      "\u001b[1;31mValueError\u001b[0m: invalid literal for int() with base 10: ''"
     ]
    }
   ],
   "source": [
    "# 필요한 변수 : 컴퓨터선정수, 사용자 입력, 총횟수, 평균시도횟수\n",
    "from random import randint\n",
    "import sys\n",
    "\n",
    "# 총 횟수\n",
    "round_ = 0\n",
    "\n",
    "# 시도\n",
    "guess = 0\n",
    "\n",
    "# 평균시도횟수\n",
    "avg = 0\n",
    "\n",
    "while True:\n",
    "    round_ += 1\n",
    "    \n",
    "    # 컴퓨터 번호\n",
    "    n = randint(1, 101)\n",
    "    computer = n\n",
    "    \n",
    "    guess += 1\n",
    "    \n",
    "    while True:\n",
    "        # 사용자 입력수\n",
    "        user = input('숫자를 입력하세요 : ')\n",
    "        \n",
    "        if user.upper() == 'Q':\n",
    "            if round_ == 1: # 1라운드에서 하기 싫을때\n",
    "                guess = 1\n",
    "                avg = guess / round_\n",
    "                print('시도 횟수 : {}, 평균 시도 횟수 : {}, Round : {}'.format(guess, avg, round_))\n",
    "                sys.exit(0)\n",
    "            else:\n",
    "                guess -= 1\n",
    "                round_ -= 1\n",
    "                print('시도 횟수 : {}, 평균 시도 횟수 : {}, Round : {}'.format(guess, avg, round_))\n",
    "                sys.exit(0)\n",
    "\n",
    "        if computer != int(user):\n",
    "            if computer > int(user):\n",
    "                print('UP!!!')\n",
    "                print()\n",
    "                guess += 1\n",
    "                total += guess\n",
    "            else:\n",
    "                print('DOWN!!!')\n",
    "                print()\n",
    "                guess += 1\n",
    "                total += guess\n",
    "                \n",
    "        if computer == int(user):\n",
    "            avg = guess / round_\n",
    "            print()\n",
    "            print('정답~!!!!!!!!\\n컴퓨터 선정 번호 : {}, 시도 횟수 : {}, 평균 시도 횟수 : {}, Round : {}'.format(computer, guess, avg, round_))\n",
    "            print()\n",
    "            break\n",
    "        \n",
    "\n",
    "\n",
    "       \n",
    "\n"
   ]
  },
  {
   "cell_type": "code",
   "execution_count": 54,
   "metadata": {},
   "outputs": [
    {
     "name": "stdout",
     "output_type": "stream",
     "text": [
      "숫자입력(q or Q) : 50\n",
      "UP\n",
      "숫자입력(q or Q) : 75\n",
      "DOWN\n",
      "숫자입력(q or Q) : 68\n",
      "UP\n",
      "숫자입력(q or Q) : 72\n",
      "정답\n",
      "숫자입력(q or Q) : 50\n",
      "UP\n",
      "숫자입력(q or Q) : 75\n",
      "UP\n",
      "숫자입력(q or Q) : 85\n",
      "DOWN\n",
      "숫자입력(q or Q) : 80\n",
      "UP\n",
      "숫자입력(q or Q) : 83\n",
      "정답\n",
      "숫자입력(q or Q) : q\n",
      "총게임 수 :  2  이긴 수 :  2\n",
      "평균 시도 횟수  :  4.5\n",
      "[4, 5]\n"
     ]
    },
    {
     "ename": "SystemExit",
     "evalue": "0",
     "output_type": "error",
     "traceback": [
      "An exception has occurred, use %tb to see the full traceback.\n",
      "\u001b[1;31mSystemExit\u001b[0m\u001b[1;31m:\u001b[0m 0\n"
     ]
    }
   ],
   "source": [
    "from random import randint\n",
    "import sys\n",
    "\n",
    "tot_game = 0 # 총 게임 수\n",
    "win = 0 # 이긴 경우 수\n",
    "tot_attempt = [ ] # 전체 시도 횟수\n",
    "\n",
    "\n",
    "while True:\n",
    "    n  = randint(1, 101)\n",
    "    tot_game +=1\n",
    "    \n",
    "    game = 0\n",
    "    \n",
    "    while True:\n",
    "        ans = input('숫자입력(q or Q) : ')\n",
    "        game += 1\n",
    "        \n",
    "        if ans.upper() == 'Q':\n",
    "            print('총게임 수 : ',tot_game-1,' 이긴 수 : ', win)\n",
    "            \n",
    "            game_tot = sum(tot_attempt)\n",
    "#             print('평균 시도 횟수 : {}'.format((game_tot/(tot_game-1))))\n",
    "            if game_tot !=0:\n",
    "                print('평균 시도 횟수  : ', game_tot/(tot_game-1))\n",
    "                print(tot_attempt)\n",
    "            \n",
    "            sys.exit(0) # 프로그램 종료\n",
    "            \n",
    "        ians = int(ans)\n",
    "        \n",
    "        if (n == ians):\n",
    "            print('정답')\n",
    "            win += 1\n",
    "            tot_attempt.append(game)\n",
    "            break\n",
    "        elif (n > ians):\n",
    "            print('UP')\n",
    "        else:\n",
    "            print('DOWN')"
   ]
  },
  {
   "cell_type": "code",
   "execution_count": 26,
   "metadata": {},
   "outputs": [
    {
     "name": "stdout",
     "output_type": "stream",
     "text": [
      "제곱미터로 입력하세요 : 105\n",
      "중형 아파트  : 31.77004538577912\n"
     ]
    }
   ],
   "source": [
    "# 무제 1 제곱미터로 입력되는 아파트 면적을 평형으로 계산하여 종류 판정(30평을 기준으로 판정)하는 프로그램 작성\n",
    "# 소형(17), 중소형(25), 중형(30)\n",
    "# 평형수 = 제곱미터 / 3.305\n",
    "\n",
    "meter = int(input('제곱미터로 입력하세요 : '))\n",
    "p = meter / 3.305\n",
    "\n",
    "if p >= 30:\n",
    "    print('중형 아파트  : {}'.format(p))\n",
    "elif p >= 25:\n",
    "    print('중소형 아파트 : {}'.format(p))\n",
    "else:\n",
    "    print('소형 아파트 : {}'.format(p))"
   ]
  },
  {
   "cell_type": "code",
   "execution_count": 27,
   "metadata": {},
   "outputs": [],
   "source": [
    "# meter = int(input('제곱 : '))\n",
    "# p = meter / 3.305\n",
    "# if p >= 30:\n",
    "#     print('아파트유형 중형', p)\n",
    "# elif p>=25:\n",
    "#     print('중소형', p)\n",
    "# else:\n",
    "#     print('소옇ㅇ', p)"
   ]
  },
  {
   "cell_type": "code",
   "execution_count": 38,
   "metadata": {},
   "outputs": [
    {
     "name": "stdout",
     "output_type": "stream",
     "text": [
      "날 입력 : 1\n",
      "86400 초\n"
     ]
    }
   ],
   "source": [
    "# 문제 2 날 수를 입력하면 이를 초로 변경하는 프로그램 작성\n",
    "\n",
    "day = int(input('날 입력 : '))\n",
    "\n",
    "sec = day * 24 * 60 * 60\n",
    "print(sec, '초')\n"
   ]
  },
  {
   "cell_type": "code",
   "execution_count": 39,
   "metadata": {},
   "outputs": [
    {
     "ename": "SyntaxError",
     "evalue": "invalid syntax (<ipython-input-39-fc22b39b8695>, line 13)",
     "output_type": "error",
     "traceback": [
      "\u001b[1;36m  File \u001b[1;32m\"<ipython-input-39-fc22b39b8695>\"\u001b[1;36m, line \u001b[1;32m13\u001b[0m\n\u001b[1;33m    tax = 10000000*0.095+30000000*0.019+\u001b[0m\n\u001b[1;37m                                        ^\u001b[0m\n\u001b[1;31mSyntaxError\u001b[0m\u001b[1;31m:\u001b[0m invalid syntax\n"
     ]
    }
   ],
   "source": [
    "# 소득세 계산 : 소득 세율표를 구해보고 이를 이용하여 소득이 들어오면 세금이 얼마인지\n",
    "# 계산해 보시오(연봉, 단순히 세율만 적용합니다.)\n",
    "# 1천망원 미만시 연봉 9.5% / 1천~4천 : 19% / 4천~8천 : 28% / 8천이상 : 37%\n",
    "\n",
    "# annual_income = int(input('연봉 : '))\n",
    "# tax = 0.0\n",
    "\n",
    "# if annual_income < 10000000:\n",
    "#     tax = annual_income * 0.095\n",
    "# elif annual_incom < 40000000:\n",
    "#     tax = 10000000*0.095+(annual_income-10000000)*0.019\n",
    "# elif annual_income < 80000000:\n",
    "#     tax = 10000000*0.095+30000000*0.019+(annual_income-40000000)*0.028\n",
    "# else:\n",
    "#     tax = 10000000*0.095+30000000*0.019+40000000*0.028+(annual_income-80000000)*0.037\n",
    "    \n",
    "# print('입력',income, '세금',tax)"
   ]
  },
  {
   "cell_type": "code",
   "execution_count": null,
   "metadata": {},
   "outputs": [],
   "source": [
    "# 놀이공원 매표소 단체 입장료 계산하기\n",
    "# 조건 : 팀별 인원 구성을 입력(초등, 청소년, 일반인, 경로대상) 하면 입장료 소견표에\n",
    "# 정산요금 : 초등(5000원), 청소년(10000원), 일반인(15000원), 경로대상(3000원)\n",
    "# 팀별 할인 카드 확인\n",
    "# 카드 없음 : 할인 무, 일반카드 : 10%, 퍄ㅖ : 20%\n",
    "# ele = int(input('초딩'))\n",
    "# mid = int(input('청소년'))\n",
    "# adult = int(input('일반'))\n",
    "# old = int(input('경로대상'))\n",
    "\n",
    "# ele_tot = 5000*ele\n",
    "# mid_tot = 10000*mid\n",
    "# adult_tot = 150000*adult\n",
    "# old_tot = 3000*old\n",
    "# tot = ele_tot+mid_tot+adult_tot+old_tot\n",
    "\n",
    "# dis = int(input('없음(0), 일반(1), VIP(2)'))\n",
    "# select = [tot, tot*0.9, tot*0.8]\n",
    "# print('요금',select[dis])"
   ]
  },
  {
   "cell_type": "code",
   "execution_count": null,
   "metadata": {},
   "outputs": [],
   "source": []
  },
  {
   "cell_type": "code",
   "execution_count": 44,
   "metadata": {},
   "outputs": [
    {
     "name": "stdout",
     "output_type": "stream",
     "text": [
      "숫자를 입력하세요 : 10\n",
      "* \n",
      "* * \n",
      "* * * \n",
      "* * * * \n",
      "* * * * * \n",
      "* * * * * * \n",
      "* * * * * * * \n",
      "* * * * * * * * \n",
      "* * * * * * * * * \n",
      "* * * * * * * * * * \n"
     ]
    }
   ],
   "source": [
    "numberOfRows = int(input('숫자를 입력하세요 : '))\n",
    "\n",
    "for i in range(numberOfRows):\n",
    "    for j in range(i+1):\n",
    "        print('*', end = ' ')\n",
    "    print()"
   ]
  },
  {
   "cell_type": "code",
   "execution_count": 124,
   "metadata": {},
   "outputs": [
    {
     "name": "stdout",
     "output_type": "stream",
     "text": [
      "숫자를 입력하세요 : 11\n",
      "                      * \n",
      "                    * * \n",
      "                  * * * \n",
      "                * * * * \n",
      "              * * * * * \n",
      "            * * * * * * \n",
      "          * * * * * * * \n",
      "        * * * * * * * * \n",
      "      * * * * * * * * * \n",
      "    * * * * * * * * * * \n",
      "  * * * * * * * * * * * \n"
     ]
    }
   ],
   "source": [
    "numberOfRows = int(input('숫자를 입력하세요 : '))\n",
    "\n",
    "for i in range(numberOfRows):\n",
    "    for k in range(numberOfRows-i):\n",
    "        print(' ', end = ' ')\n",
    "    for j in range(i+1):\n",
    "        print('*', end = ' ')\n",
    "    \n",
    "    print()"
   ]
  },
  {
   "cell_type": "code",
   "execution_count": 123,
   "metadata": {},
   "outputs": [
    {
     "name": "stdout",
     "output_type": "stream",
     "text": [
      "숫자를 입력하세요 : 11\n",
      "           *\n",
      "          ***\n",
      "         *****\n",
      "        *******\n",
      "       *********\n",
      "      ***********\n",
      "     *************\n",
      "    ***************\n",
      "   *****************\n",
      "  *******************\n",
      " *********************\n"
     ]
    }
   ],
   "source": [
    "numberOfRows = int(input('숫자를 입력하세요 : '))\n",
    "\n",
    "for i in range(numberOfRows):\n",
    "    for k in range(numberOfRows-i,0,-1):\n",
    "        print(' ', end = '')\n",
    "    for j in range(i+1, (i+1)*3-1):\n",
    "        print('*', end = '')\n",
    "    \n",
    "    print()"
   ]
  },
  {
   "cell_type": "code",
   "execution_count": 122,
   "metadata": {
    "scrolled": true
   },
   "outputs": [
    {
     "name": "stdout",
     "output_type": "stream",
     "text": [
      "숫자를 입력하세요 : 10\n",
      "*\n",
      "**\n",
      "***\n",
      "****\n",
      "*****\n",
      "*****\n",
      "****\n",
      "***\n",
      "**\n",
      "*\n"
     ]
    }
   ],
   "source": [
    "numberOfRows = int(input('숫자를 입력하세요 : '))\n",
    "\n",
    "for i in range(numberOfRows):\n",
    "    if i <= numberOfRows // 2-1:\n",
    "        for j in range(i+1):\n",
    "            print('*', end = '')\n",
    "    if i > numberOfRows // 2-1:\n",
    "        for k in range(numberOfRows-i, 0, -1):\n",
    "            print('*', end = '')\n",
    "    \n",
    "    print()\n",
    "# 짝수일때, 홀수일때 다름\n"
   ]
  },
  {
   "cell_type": "code",
   "execution_count": 125,
   "metadata": {},
   "outputs": [
    {
     "name": "stdout",
     "output_type": "stream",
     "text": [
      "숫자를 입력하세요 : 11\n",
      "***********************\n",
      " *********************\n",
      "  *******************\n",
      "   *****************\n",
      "    ***************\n",
      "     *************\n",
      "      ***********\n",
      "       *********\n",
      "        *******\n",
      "         *****\n",
      "          ***\n"
     ]
    }
   ],
   "source": [
    "numberOfRows = int(input('숫자를 입력하세요 : '))\n",
    "\n",
    "for i in range(numberOfRows):\n",
    "    for j in range(i):\n",
    "        print(' ', end = '')\n",
    "    for k in range((numberOfRows*2)-(i*2-1), 0, -1):\n",
    "        print('*', end = '')\n",
    "    \n",
    "    print()\n",
    "# 짝수, 홀수 다름"
   ]
  },
  {
   "cell_type": "code",
   "execution_count": 126,
   "metadata": {},
   "outputs": [
    {
     "name": "stdout",
     "output_type": "stream",
     "text": [
      "숫자를 입력하세요 : 11\n",
      "*                       *\n",
      "**                     **\n",
      "***                   ***\n",
      "****                 ****\n",
      "*****               *****\n",
      "******             ******\n",
      "*******           *******\n",
      "********         ********\n",
      "*********       *********\n",
      "**********     **********\n",
      "***********   ***********\n"
     ]
    }
   ],
   "source": [
    "numberOfRows = int(input('숫자를 입력하세요 : '))\n",
    "\n",
    "for i in range(numberOfRows):\n",
    "    for j in range(i+1):\n",
    "        print('*', end = '')\n",
    "    for k in range((numberOfRows*2)-(i*2-1),0,-1):\n",
    "        print(' ', end = '')\n",
    "    for r in range(i+1):\n",
    "        print('*', end = '')\n",
    "    \n",
    "    print()"
   ]
  },
  {
   "cell_type": "code",
   "execution_count": null,
   "metadata": {},
   "outputs": [],
   "source": []
  }
 ],
 "metadata": {
  "kernelspec": {
   "display_name": "Python 3",
   "language": "python",
   "name": "python3"
  },
  "language_info": {
   "codemirror_mode": {
    "name": "ipython",
    "version": 3
   },
   "file_extension": ".py",
   "mimetype": "text/x-python",
   "name": "python",
   "nbconvert_exporter": "python",
   "pygments_lexer": "ipython3",
   "version": "3.7.4"
  }
 },
 "nbformat": 4,
 "nbformat_minor": 2
}
