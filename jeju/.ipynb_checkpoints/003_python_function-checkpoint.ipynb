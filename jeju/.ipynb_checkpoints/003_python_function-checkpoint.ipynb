{
 "cells": [
  {
   "cell_type": "markdown",
   "metadata": {},
   "source": [
    "# 함수(function)\n",
    "* 함수이름은 중복이 되면 안됨(오버로딩은 default매개변수로 해결)\n",
    "* Required auguments(매개변수를 순서적으로 입력)\n",
    "* keyword auguments(키 매개변수의 순서 변경이 가능)\n",
    "* Default auguments(오버로딩 해결)\n",
    "* Variable-length auguments(변동매개변수 : * -> list, ** -> dict)"
   ]
  },
  {
   "cell_type": "code",
   "execution_count": null,
   "metadata": {},
   "outputs": [],
   "source": [
    "a = 10\n",
    "b = 20\n",
    "result = a + b\n",
    "print(result)"
   ]
  },
  {
   "cell_type": "code",
   "execution_count": null,
   "metadata": {},
   "outputs": [],
   "source": [
    "def addvalue(a, b): # 주소값만 전달 call by reference\n",
    "    return a + b\n",
    "\n",
    "print(addvalue(10, 20)) # 호출시 데이터는 힘에 저장 => 주소값만 전달\n",
    "print(addvalue(30, 40))"
   ]
  },
  {
   "cell_type": "markdown",
   "metadata": {},
   "source": [
    "### 회귀분석\n",
    "##### y = ax + b # 기울기 : a, bias(y절편) : b"
   ]
  },
  {
   "cell_type": "code",
   "execution_count": null,
   "metadata": {},
   "outputs": [],
   "source": [
    "def reg(a, b, x):\n",
    "    return a * x + b\n",
    "reg(10, 30, 100)"
   ]
  },
  {
   "cell_type": "code",
   "execution_count": null,
   "metadata": {},
   "outputs": [],
   "source": [
    "def reg(x):\n",
    "    a = 10\n",
    "    b = 30\n",
    "    return a*x+b\n",
    "print(reg(100))\n",
    "# reg(10, 30, 100) : 오버로딩은 안됀다. "
   ]
  },
  {
   "cell_type": "code",
   "execution_count": null,
   "metadata": {},
   "outputs": [],
   "source": [
    "# 두수를 더한 값이 10보다 큰지 확인하세요\n",
    "a=10\n",
    "b=20\n",
    "result = a+b\n",
    "if result >= 10:\n",
    "    result  = '10보다 크다'\n",
    "else:\n",
    "    result = '10보다 작다'"
   ]
  },
  {
   "cell_type": "code",
   "execution_count": null,
   "metadata": {},
   "outputs": [],
   "source": [
    "def sum_1(a,b):\n",
    "    result = a+b\n",
    "    \n",
    "    if result>=10:\n",
    "        result = '10보다 크다.'\n",
    "    else:\n",
    "        result = '10보다 작다.'\n",
    "        \n",
    "    return result\n",
    "\n",
    "sum_1(10, 20)"
   ]
  },
  {
   "cell_type": "code",
   "execution_count": null,
   "metadata": {},
   "outputs": [],
   "source": [
    "a=10\n",
    "b=20\n",
    "def swap(a,b):\n",
    "    a,b = b,a\n",
    "    return a,b\n",
    "\n",
    "print(swap(10, 20))"
   ]
  },
  {
   "cell_type": "code",
   "execution_count": null,
   "metadata": {},
   "outputs": [],
   "source": [
    "# def swap(a,b):\n",
    "#     return b,a\n",
    "# x = swap(10, 20) : 함수가 리턴하는 값은 튜플\n",
    "# print(x)\n",
    "# type)x"
   ]
  },
  {
   "cell_type": "code",
   "execution_count": null,
   "metadata": {},
   "outputs": [],
   "source": [
    "# 두 수를 입력받아 +, -, * 하는 함수 3개를 작성\n",
    "# add, subtract, multiply\n",
    "\n",
    "def add(a,b):\n",
    "    result=a+b\n",
    "    return result\n",
    "\n",
    "def subtract(a,b):\n",
    "    result=a-b\n",
    "    return result\n",
    "\n",
    "def multiply(a,b):\n",
    "    result = a*b\n",
    "    return result\n",
    "\n",
    "print(add(10,20))\n",
    "print(subtract(10, 20))\n",
    "print(multiply(10, 20))"
   ]
  },
  {
   "cell_type": "code",
   "execution_count": null,
   "metadata": {},
   "outputs": [],
   "source": [
    "# 함수는 일급함수 : 함수가 매개변수로 전달가능, 리턴값으로 가능\n",
    "def changefun(g, a, b):\n",
    "    return g(a,b)\n",
    "print('결과 : {}'.format(changefun(add, 10, 20))) # sort(key함수 전달)\n",
    "print('결과 : {}'.format(changefun(subtract, 10, 20)))\n",
    "print('결과 : {}'.format(changefun(multiply, 10, 20)))"
   ]
  },
  {
   "cell_type": "code",
   "execution_count": null,
   "metadata": {},
   "outputs": [],
   "source": [
    "def changeme(mylist): # mylist = mylist 주소\n",
    "    mylist.append([1,2,3,4]);\n",
    "    print('함수 내부에서 출력 : ',mylist)\n",
    "    return\n",
    "\n",
    "mylist = [10, 20, 30] # heap에 저장, 이유 : 주소값이 넘어갔기 때문에 call by reference\n",
    "\n",
    "changeme(mylist);\n",
    "\n",
    "print('함수 외부에서 출력 : ',mylist)"
   ]
  },
  {
   "cell_type": "code",
   "execution_count": null,
   "metadata": {},
   "outputs": [],
   "source": [
    "# def changeme(mylist): # mylist = mylist 주소\n",
    "#     mylist=[1,2,3,4]; # 대입이 벌어지면 call by value\n",
    "#     print('함수 내부에서 출력 : ',mylist)\n",
    "#     return\n",
    "\n",
    "# mylist = [10, 20, 30] # heap에 저장, 이유 : 주소값이 넘어갔기 때문에 call by reference\n",
    "\n",
    "# changeme(mylist);\n",
    "\n",
    "# print('함수 외부에서 출력 : ',mylist)"
   ]
  },
  {
   "cell_type": "code",
   "execution_count": null,
   "metadata": {},
   "outputs": [],
   "source": [
    "# 실행이 안되는 이유 : data type을 관리하는 것은 프로그래머 책임\n",
    "# mylist = [10, 20, 30] \n",
    "\n",
    "# changeme(mylist);\n",
    "\n",
    "# print('함수 외부에서 출력 : ',mylist)"
   ]
  },
  {
   "cell_type": "markdown",
   "metadata": {},
   "source": [
    "### 변동 매개변수"
   ]
  },
  {
   "cell_type": "code",
   "execution_count": null,
   "metadata": {},
   "outputs": [],
   "source": [
    "def func1(*args): # list\n",
    "    for i in args:\n",
    "        print(i, end=', ')\n",
    "    print()\n",
    "print('시작')\n",
    "func1(1,2,3)\n",
    "func1(1,2,3,4,5)\n",
    "\n",
    "t=(12,13,14)\n",
    "func1(*t)"
   ]
  },
  {
   "cell_type": "code",
   "execution_count": null,
   "metadata": {},
   "outputs": [],
   "source": [
    "def say_hello_then_call(f, *args, **kwargs):\n",
    "    print('args is ', args)\n",
    "    print('kwargs is ', kwargs)\n",
    "    print(\"Hello Now I'm going to call %s\"%f) # 함수가 위치한 주소값 출력\n",
    "    return f(*args, **kwargs)\n",
    "\n",
    "def g(x,y,a): # 디폼트 매개변수\n",
    "    print(x)\n",
    "    print(y)\n",
    "    print(a)\n",
    "    return (x+y)/a\n",
    "say_hello_then_call(g, 1,2, a=5.)"
   ]
  },
  {
   "cell_type": "code",
   "execution_count": null,
   "metadata": {},
   "outputs": [],
   "source": [
    "def func_test2(a, b=0):\n",
    "    print(a,b)\n",
    "func_test2(1)\n",
    "func_test2(1,2)\n",
    "func_test2(b=2, a=1) # 키 매개변수"
   ]
  },
  {
   "cell_type": "code",
   "execution_count": null,
   "metadata": {},
   "outputs": [],
   "source": [
    "def func_test4(): # None 객체\n",
    "    pass # 몬동을 미지정"
   ]
  },
  {
   "cell_type": "code",
   "execution_count": null,
   "metadata": {
    "scrolled": true
   },
   "outputs": [],
   "source": [
    "# == 숫자나 문자, 객체를 비교할 때는 is\n",
    "result = func_test4()\n",
    "result is None\n",
    "result == None\n",
    "\n",
    "print(type(result))\n",
    "print(type(None))\n",
    "# dir(result)\n",
    "dir(None)"
   ]
  },
  {
   "cell_type": "code",
   "execution_count": null,
   "metadata": {},
   "outputs": [],
   "source": [
    "None.__str__"
   ]
  },
  {
   "cell_type": "code",
   "execution_count": null,
   "metadata": {},
   "outputs": [],
   "source": [
    "result.__str__"
   ]
  },
  {
   "cell_type": "code",
   "execution_count": null,
   "metadata": {},
   "outputs": [],
   "source": [
    "result.__class__ # 맴버변수, 시스템에서 생성한 변수"
   ]
  },
  {
   "cell_type": "code",
   "execution_count": null,
   "metadata": {},
   "outputs": [],
   "source": [
    "func_test4.__class__"
   ]
  },
  {
   "cell_type": "code",
   "execution_count": null,
   "metadata": {},
   "outputs": [],
   "source": [
    "def func_test3(a,b):\n",
    "    return a+b, a-b, a*b\n",
    "a, b, c = func_test3(10, 5)\n",
    "print(a,b,c)\n",
    "print(type(func_test3)) # 함수도 객체다"
   ]
  },
  {
   "cell_type": "code",
   "execution_count": null,
   "metadata": {},
   "outputs": [],
   "source": [
    "# 커링\n",
    "def all_number(x,y):\n",
    "    return x+y\n",
    "\n",
    "add_five = lambda y: all_number(5,y) # 무명함수 => 유명함수\n",
    "print(add_five(10))"
   ]
  },
  {
   "cell_type": "code",
   "execution_count": null,
   "metadata": {},
   "outputs": [],
   "source": [
    "import math\n",
    "dir(math)"
   ]
  },
  {
   "cell_type": "code",
   "execution_count": null,
   "metadata": {},
   "outputs": [],
   "source": [
    "# 문제 두 점 사이의 거리값을 구하는 함수를 작성\n",
    "# root => \n",
    "import math\n",
    "# math.sqrt()\n",
    "\n",
    "def pita(x1,y1,x2,y2):\n",
    "    x = (x1-x2)**2\n",
    "    y = (y1-y2)**2\n",
    "    result = math.sqrt(x+y)\n",
    "    return result\n",
    "\n",
    "print(pita(1,1,1,1))"
   ]
  },
  {
   "cell_type": "code",
   "execution_count": null,
   "metadata": {},
   "outputs": [],
   "source": [
    "# 수학에서 factorial\n",
    "def factorial(n):\n",
    "    sum=1 # 항등원 : 덧셈의 항등원은0, 곱셈의 항등원1, 행렬의 항등원: 단위행렬\n",
    "    for i in range(n, 1, -1):\n",
    "        sum *= i\n",
    "    return sum\n",
    "factorial(6)"
   ]
  },
  {
   "cell_type": "code",
   "execution_count": null,
   "metadata": {},
   "outputs": [],
   "source": [
    "def fac(n):\n",
    "    if n == 1 or n <= 0:\n",
    "        return 1\n",
    "    return fac(n-1)*n\n",
    "\n",
    "fac(10)"
   ]
  },
  {
   "cell_type": "code",
   "execution_count": null,
   "metadata": {},
   "outputs": [],
   "source": [
    "def facto(n, stop=1):\n",
    "    if n <= stop or n<= 0:\n",
    "        return 1\n",
    "    return n*facto(n-1, stop)\n",
    "facto(5)"
   ]
  },
  {
   "cell_type": "code",
   "execution_count": null,
   "metadata": {},
   "outputs": [],
   "source": [
    "# 문제 power 함수를 구현 2^10  pow(2,10)\n",
    "\n",
    "def power(r,n):\n",
    "    value =1\n",
    "    for i in range(1, n+1):\n",
    "        value = r*value\n",
    "    return value\n",
    "print(power(2,3))"
   ]
  },
  {
   "cell_type": "code",
   "execution_count": null,
   "metadata": {},
   "outputs": [],
   "source": [
    "def power_(r, n):\n",
    "    if n == 1 or n <= 0:\n",
    "        return r\n",
    "    else:\n",
    "        return r*power_(r,n-1)\n",
    "power_(2,3)"
   ]
  },
  {
   "cell_type": "code",
   "execution_count": null,
   "metadata": {},
   "outputs": [],
   "source": [
    "# 냅부함수\n",
    "def outer():\n",
    "    def inner():\n",
    "        print('inner')\n",
    "    inner()\n",
    "    \n",
    "def inner():\n",
    "    print('global inner')\n",
    "    \n",
    "outer()"
   ]
  },
  {
   "cell_type": "code",
   "execution_count": null,
   "metadata": {},
   "outputs": [],
   "source": [
    "#  genorator\n",
    "# for in : Collections(list, tuple, dict, set), iterator(ranges), generator, eneumerate\n",
    "import random\n",
    "\n",
    "def gaus_dist(n):\n",
    "    while n > 0:\n",
    "        yield random.random() # 비동기 호출함수 0 ~ 1\n",
    "#         yield n\n",
    "        n -= 1\n",
    "\n",
    "l = []\n",
    "gd = gaus_dist(5)\n",
    "for i in gd:\n",
    "    l.append(i)\n",
    "    print(i)\n",
    "# [l.append(i) for i in gd]\n",
    "print(l)"
   ]
  },
  {
   "cell_type": "code",
   "execution_count": null,
   "metadata": {},
   "outputs": [],
   "source": [
    "# 함수가 값을 저장할 수 있게하는 방법\n",
    "# clouser(자바스크립트에서 사용하던 방식)) : 값으 ㄹ저장하는 방법\n",
    "\n",
    "def cookbook(name):\n",
    "    def recipe(no):\n",
    "        print(\"%s's recipe no. %d\"%(name, no))\n",
    "    return recipe\n",
    "\n",
    "python_recipe = cookbook('python')\n",
    "perl_recipe = cookbook('perl')\n",
    "python_recipe(1)\n",
    "perl_recipe(2)\n",
    "\n",
    "id(python_recipe), id(perl_recipe)"
   ]
  },
  {
   "cell_type": "code",
   "execution_count": null,
   "metadata": {},
   "outputs": [],
   "source": [
    "# clouser 클로저의 응용(장식자: decorator)\n",
    "def format_and_pad(template, space):\n",
    "    def formatter(x):\n",
    "        return (template % x).rjust(space)\n",
    "    return formatter\n",
    "\n",
    "fmt=format_and_pad('%.4f', 15) # 15 : 앞에 공간\n",
    "print(fmt(1.756))\n",
    "print(fmt(2.222))\n",
    "\n",
    "fmt2 = format_and_pad('%d',15)\n",
    "print(fmt2(1.756))"
   ]
  },
  {
   "cell_type": "code",
   "execution_count": null,
   "metadata": {
    "scrolled": true
   },
   "outputs": [],
   "source": [
    "# 데이터를 입력받아\n",
    "# 삼각형의 넓이(밑변, 높이)\n",
    "# 사각형의 넓이(밑변, 높이)\n",
    "# 원의 넓이를 계산하는 함수를 작성(반지름)\n",
    "import math\n",
    "\n",
    "t_b = int(input('삼각형의 밑변'))\n",
    "t_h = int(input('삼각형의 높이'))\n",
    "\n",
    "r_b = int(input('사각형의 밑변'))\n",
    "r_h = int(input('사각형의 높이'))\n",
    "\n",
    "r_r = int(input('원의 반지름'))\n",
    "\n",
    "def t_avg(a,b):\n",
    "    return t_b*t_h/2\n",
    "\n",
    "def r_avg(a,b):\n",
    "    return r_b * r_h\n",
    "\n",
    "def r_ravg(a):\n",
    "    return a*a*math.pi\n",
    "\n",
    "print('\\n삼각형의 넓이', t_avg(t_b,t_h))\n",
    "print('사각형의 넓이', r_avg(r_b, r_h))\n",
    "print('원의 넓이', round(r_ravg(r_r), 3))"
   ]
  },
  {
   "cell_type": "code",
   "execution_count": null,
   "metadata": {},
   "outputs": [],
   "source": [
    "def calculate_triangle(mylist):\n",
    "    return mylist[0] * mylist[1] /2\n",
    "def calculate_rectangle(mylist):\n",
    "    return mylist[0] * mylist[1]\n",
    "def calculate_circle(mylist):\n",
    "    return math.pi * (mylist[0]**2)\n",
    "\n",
    "mylist = []\n",
    "\n",
    "width = eval(input('밑변이나 반지름으로 사용할 값을 입력하세요'))\n",
    "height = eval(input('삼각형 이나 사각형의 높이를 입력하세요'))\n",
    "mylist.append(width)\n",
    "mylist.append(height)\n",
    "\n",
    "print('삼각형의 넓이 : ', calculate_triangle)\n",
    "print('사각형의 넓이 : ')\n",
    "print('원의 넓이 : ')"
   ]
  },
  {
   "cell_type": "code",
   "execution_count": null,
   "metadata": {},
   "outputs": [],
   "source": [
    "# 시간과 시간당 급여를 입력받아 주급을 계산하는 프로그램\n",
    "# 조건 : 40시간이 넘으면 1.5배하여 지급\n",
    "# 매개변수(시간, 시간당급여)\n",
    "# 상수는 변수화하라\n",
    "\n",
    "time = eval(input('시간 : '))\n",
    "mon = eval(input('급여 : '))\n",
    "\n",
    "def mon_(t, m):\n",
    "    if time <= 40:\n",
    "        return time * mon\n",
    "    else:\n",
    "         return (40*mon) + (time-40)*mon*1.5\n",
    "print(mon_(time, mon))"
   ]
  },
  {
   "cell_type": "code",
   "execution_count": null,
   "metadata": {},
   "outputs": [],
   "source": [
    "# 상수는 변수화\n",
    "\n",
    "basictime = 40\n",
    "def pay(wage, hours):\n",
    "    if hours <= basictime:\n",
    "        amount = wage * hours\n",
    "    else:\n",
    "        amount = (wage*basictime) + (hours - basictime)*wage*1.5\n",
    "        return amount\n",
    "\n",
    "hourlyWage = eval(input('시간당 급여 : '))\n",
    "hoursWorked = eval(input('근무시간 : '))\n",
    "earnings = pay(hourlyWage, hoursWorked)\n",
    "\n",
    "print('주가 수입 : {0:,.2f}원'.format(earnings))"
   ]
  },
  {
   "cell_type": "code",
   "execution_count": null,
   "metadata": {},
   "outputs": [],
   "source": [
    "# 이자율이 주어졌을깨 기간거치후의 총액과 이자수익\n",
    "# 복리계산 = (원가1+이율0.04)** 거치년수\n",
    "# INTEREST_RATE=0.04\n",
    "# 매개변수 : 원금 ,거치기간\n",
    "# 단서조건 : 입력함수, 계산함수, 출력함수\n",
    "\n",
    "INTEREST_RATE=0.04\n",
    "l = [] # 입력 받은 값을 list로 담아논다.\n",
    "\n",
    "# 복리계산\n",
    "def boc(won, year):\n",
    "    return won*(1+INTEREST_RATE)**year\n",
    "\n",
    "# 입력 함수\n",
    "def inner():\n",
    "    mone = eval(input('원금 입력 : '))\n",
    "    year = eval(input('년도 입력 : '))\n",
    "    l.append(mone) # list에 원금 넣기\n",
    "    l.append(year) # list에 년도 넣기\n",
    "    return l # list return \n",
    "\n",
    "# 출력 함수\n",
    "def output(*in_): # list를 받아오다.\n",
    "    money = boc(*in_) # 복리 계산값 저장\n",
    "    rate = money - (in_[0]) # 복리금에서 원금 제거\n",
    "    result = \"총액 : {} 원\".format(round(money)) # result에 총액 넣기\n",
    "    result += ', 이자수익 : {} 원'.format(round(rate)) # result에 추갈로 이자 넣기\n",
    "    return result\n",
    "\n",
    "inner()\n",
    "output(*l)"
   ]
  },
  {
   "cell_type": "code",
   "execution_count": null,
   "metadata": {},
   "outputs": [],
   "source": [
    "INTEREST_RATE=0.04\n",
    "def getInput():\n",
    "    principal = eval(input('예금액 : '))\n",
    "    numberOfYears = eval(input('기간 : '))\n",
    "    return (principal, numberOfYears)\n",
    "def balanceAndInterest(prin, numYears):\n",
    "    balance = prin *((1+INTEREST_RATE)**numYears)\n",
    "    interestEarned = balance - prin\n",
    "    return (balance, interestEarned)\n",
    "def displayOutput(bal, intEarned):\n",
    "    print('예금 총액 : $ {0:,.2f}  이자 총액 : $ {1:,.2f}'.format(bal, intEarned))\n",
    "    \n",
    "def main():\n",
    "#     principal, numberOfYears = getInput()\n",
    "#     bal, intEarned = balanceAndInterest(principal, numberOfYears)\n",
    "#     displayOutput(bal, intEarned)\n",
    "    displayOutput(*(balanceAndInterest(*(getInput()))))\n",
    "\n",
    "main()"
   ]
  },
  {
   "cell_type": "markdown",
   "metadata": {},
   "source": [
    "# 함수화 프로그래밍"
   ]
  },
  {
   "cell_type": "code",
   "execution_count": null,
   "metadata": {},
   "outputs": [],
   "source": [
    "# for + 함수를 적용\n",
    "# lambda 함수를 이용한 처리가 많음"
   ]
  },
  {
   "cell_type": "code",
   "execution_count": null,
   "metadata": {},
   "outputs": [],
   "source": [
    "(lambda x:x*x)(10)"
   ]
  },
  {
   "cell_type": "code",
   "execution_count": 44,
   "metadata": {},
   "outputs": [
    {
     "data": {
      "text/plain": [
       "100"
      ]
     },
     "execution_count": 44,
     "metadata": {},
     "output_type": "execute_result"
    }
   ],
   "source": [
    "(lambda x:x*x)(10)"
   ]
  },
  {
   "cell_type": "code",
   "execution_count": null,
   "metadata": {},
   "outputs": [],
   "source": [
    "incr = lambda x, incr=1: x+incr # 무명함수 -> 우명함수\n",
    "print(incr(10))\n",
    "incr(10,5)"
   ]
  },
  {
   "cell_type": "code",
   "execution_count": 45,
   "metadata": {},
   "outputs": [
    {
     "name": "stdout",
     "output_type": "stream",
     "text": [
      "11\n"
     ]
    },
    {
     "data": {
      "text/plain": [
       "15"
      ]
     },
     "execution_count": 45,
     "metadata": {},
     "output_type": "execute_result"
    }
   ],
   "source": [
    "incr = lambda x, incr=1: x+incr\n",
    "print(incr(10)) # incr(lambda) 함수에 10을 넣어 x=10이되었다.\n",
    "incr(10,5) # incr(lambda) 함수에 10넣어서 x=10, 다음 5는 incr에 들어가 x+incr"
   ]
  },
  {
   "cell_type": "code",
   "execution_count": null,
   "metadata": {},
   "outputs": [],
   "source": [
    "strings=['foo','card','bar','aaaa','abab']\n",
    "# 정렬기준을 key에 함수로 전달()\n",
    "strings.sort(key=lambda x: len(set(list(x)))) # 중복되지않는 데인터 개수에 따라\n",
    "print(strings) # a : 한개, fo : 두개, ab : 두개, bar : 세개, card : 네개"
   ]
  },
  {
   "cell_type": "code",
   "execution_count": 46,
   "metadata": {},
   "outputs": [
    {
     "name": "stdout",
     "output_type": "stream",
     "text": [
      "['aaaa', 'foo', 'adad', 'bar', 'abcabc', 'card']\n"
     ]
    }
   ],
   "source": [
    "strings = ['foo','card','bar','aaaa','adad','abcabc']\n",
    "strings.sort(key=lambda x: len(set(list(x))))\n",
    "print(strings)\n",
    "# 예상\n",
    "# ['aaaa','adad','foo','abcabc','bar','card']"
   ]
  },
  {
   "cell_type": "code",
   "execution_count": null,
   "metadata": {},
   "outputs": [],
   "source": [
    "m = map(lambda x: x*x, [3,4]) # 첫번째 매개변수는 함수, 두번쩨 ?; 고유한 포멧으로 출력, map은 디폴트가 없다\n",
    "print(m)\n",
    "print(list(m)) # list로 케스팅해야 출력된다."
   ]
  },
  {
   "cell_type": "code",
   "execution_count": 47,
   "metadata": {},
   "outputs": [
    {
     "name": "stdout",
     "output_type": "stream",
     "text": [
      "<map object at 0x000001EB8E554F08>\n",
      "[9, 16]\n"
     ]
    }
   ],
   "source": [
    "m=map(lambda x: x*x, [3,4])\n",
    "print(m)\n",
    "print(list(m))"
   ]
  },
  {
   "cell_type": "code",
   "execution_count": null,
   "metadata": {},
   "outputs": [],
   "source": [
    "list(map(lambda x: x*x, range(5)))\n"
   ]
  },
  {
   "cell_type": "code",
   "execution_count": 48,
   "metadata": {},
   "outputs": [
    {
     "data": {
      "text/plain": [
       "[0, 1, 4, 9, 16]"
      ]
     },
     "execution_count": 48,
     "metadata": {},
     "output_type": "execute_result"
    }
   ],
   "source": [
    "list(map(lambda x:x*x, range(5)))"
   ]
  },
  {
   "cell_type": "code",
   "execution_count": null,
   "metadata": {},
   "outputs": [],
   "source": [
    "sqr = lambda x: x*x\n",
    "list(map(sqr, range(5)))"
   ]
  },
  {
   "cell_type": "code",
   "execution_count": 49,
   "metadata": {},
   "outputs": [
    {
     "data": {
      "text/plain": [
       "[0, 1, 4, 9, 16]"
      ]
     },
     "execution_count": 49,
     "metadata": {},
     "output_type": "execute_result"
    }
   ],
   "source": [
    "sqr = lambda x: x*x\n",
    "list(map(sqr, range(5)))"
   ]
  },
  {
   "cell_type": "code",
   "execution_count": null,
   "metadata": {},
   "outputs": [],
   "source": [
    "def sqr2(x):\n",
    "    return x*x\n",
    "list(map(sqr2, range(5)))"
   ]
  },
  {
   "cell_type": "code",
   "execution_count": 81,
   "metadata": {},
   "outputs": [
    {
     "name": "stdout",
     "output_type": "stream",
     "text": [
      "[1210000, 1135000, 910000, 1360000, 2260000, 3010000]\n"
     ]
    }
   ],
   "source": [
    "# 기본요금 10000원, 시간당 75000원 급여\n",
    "# lambda map 이용\n",
    "total_time = [160, 150, 120, 180, 300, 400]\n",
    "calc = lambda x :10000 + 7500 * x\n",
    "pay = list(map(calc, total_time))\n",
    "print(pay)"
   ]
  },
  {
   "cell_type": "code",
   "execution_count": 51,
   "metadata": {},
   "outputs": [
    {
     "name": "stdout",
     "output_type": "stream",
     "text": [
      "[1210000, 1135000, 910000, 1360000, 2260000, 3010000]\n"
     ]
    }
   ],
   "source": [
    "total_time = [160, 150, 120, 180, 300, 400]\n",
    "calc = lambda x:10000 + 7500 *x\n",
    "pay = list(map(calc, total_time))\n",
    "print(pay)"
   ]
  },
  {
   "cell_type": "code",
   "execution_count": null,
   "metadata": {},
   "outputs": [],
   "source": [
    "pay = list(map(lambda x : 10000+7500*x, total_time))\n",
    "print(pay)"
   ]
  },
  {
   "cell_type": "code",
   "execution_count": null,
   "metadata": {},
   "outputs": [],
   "source": [
    "def odd(p):\n",
    "    return [i for i in p if i%2] # 홀수\n",
    "odd(range(10))"
   ]
  },
  {
   "cell_type": "code",
   "execution_count": null,
   "metadata": {},
   "outputs": [],
   "source": [
    "# 필터의 함수는 True/False를 리턴하는 함수여야 함\n",
    "def odd_(k):\n",
    "    return k%2\n",
    "print(list(filter(odd_, range(100))))"
   ]
  },
  {
   "cell_type": "code",
   "execution_count": null,
   "metadata": {},
   "outputs": [],
   "source": [
    "# 1~99사이의 데이터중 3으로 나누어 떨어지는 데이터를 filter이용\n",
    "\n",
    "def hhh(t):\n",
    "    return t%3==0\n",
    "print(list(filter(hhh, range(1,99))))\n"
   ]
  },
  {
   "cell_type": "code",
   "execution_count": 53,
   "metadata": {},
   "outputs": [
    {
     "data": {
      "text/plain": [
       "55"
      ]
     },
     "execution_count": 53,
     "metadata": {},
     "output_type": "execute_result"
    }
   ],
   "source": [
    "# reduce(분산처리시 값을 계산할 때 사용)\n",
    "from functools import reduce\n",
    "reduce(lambda x,y:x+y, range(11)) # 이전에 계산된값이 x로"
   ]
  },
  {
   "cell_type": "code",
   "execution_count": 54,
   "metadata": {},
   "outputs": [
    {
     "data": {
      "text/plain": [
       "55"
      ]
     },
     "execution_count": 54,
     "metadata": {},
     "output_type": "execute_result"
    }
   ],
   "source": [
    "reduce(lambda x,y : x+y, range(11))"
   ]
  },
  {
   "cell_type": "code",
   "execution_count": 60,
   "metadata": {},
   "outputs": [
    {
     "name": "stdout",
     "output_type": "stream",
     "text": [
      "55\n"
     ]
    }
   ],
   "source": [
    "sum = 0\n",
    "for i in range(1, 11):\n",
    "    sum += i\n",
    "print(sum)"
   ]
  },
  {
   "cell_type": "code",
   "execution_count": 55,
   "metadata": {},
   "outputs": [
    {
     "data": {
      "text/plain": [
       "362880"
      ]
     },
     "execution_count": 55,
     "metadata": {},
     "output_type": "execute_result"
    }
   ],
   "source": [
    "reduce(lambda x,y:x*y, range(1, 10)) # 이전에 계산된값이 x로"
   ]
  },
  {
   "cell_type": "code",
   "execution_count": null,
   "metadata": {},
   "outputs": [],
   "source": [
    "reduce(lambda x,y:y+x, 'abcde') # 이전에 계산된값이 x로"
   ]
  },
  {
   "cell_type": "code",
   "execution_count": null,
   "metadata": {},
   "outputs": [],
   "source": [
    "func_choice = [lambda x,y : x**y, lambda x,y:x/y]\n",
    "print(func_choice[0](10,2))\n",
    "print(func_choice[1](10,2))"
   ]
  },
  {
   "cell_type": "code",
   "execution_count": null,
   "metadata": {},
   "outputs": [],
   "source": [
    "# 4보다큰수만출력 filtering\n",
    "data = [1, 2, 3 , 4, 5 ,6 ,7 ,8 ,3 ,4, 2, 1]\n",
    "fil = list(filter(lambda x: x >4, data ))\n",
    "print(fil)"
   ]
  },
  {
   "cell_type": "code",
   "execution_count": null,
   "metadata": {},
   "outputs": [],
   "source": [
    "# 숫자를 입력 받아서 홀수인 경우 '나는 행복합니다.'\n",
    "# 짝수인경울' 나는 귀중한 사람이다.' 출력\n",
    "\n",
    "func_choice = [lambda:print('나는 귀중한 사람입니다.'), lambda : print('나는 행복합니다.')]\n",
    "condition = eval(input('숫자를 입력하세요 : '))\n",
    "condition %= 2\n",
    "func_choice[condition]()"
   ]
  },
  {
   "cell_type": "code",
   "execution_count": null,
   "metadata": {},
   "outputs": [],
   "source": [
    "# 성적프로그램을 입력, 처리, 출력 함수를 이용해서 구현하시오\n",
    "# -이름, 국어, 영어, 수학, 총점, 평균\n",
    "sungjuk = []\n",
    "student_ = []\n",
    "\n",
    "def get_input():\n",
    "    name = input('이름을 입력하세요 : ')\n",
    "    kor = eval(input('국어 성적을 입력하세요 : '))\n",
    "    eng = eval(input('영어 성적을 입력하세요 : '))\n",
    "    math = eval(input('수학 성적을 입력하세요 : '))\n",
    "    \n",
    "    sungjuk.append(kor)\n",
    "    sungjuk.append(eng)\n",
    "    sungjuk.append(math)\n",
    "    student_.append(name)\n",
    "    student_.append(sungjuk)\n",
    "    \n",
    "    return student_\n",
    "\n",
    "def sung(*kem):\n",
    "    total = kem[1][0] +kem[1][1] + kem[1][2]\n",
    "    avg = total / len(sungjuk)\n",
    "    student_.append(total)\n",
    "    student_.append(avg)\n",
    "    \n",
    "    return student_\n",
    "\n",
    "def outPut(*args):\n",
    "    result = '이름은 : {}'.format(args[0])\n",
    "    result += ' 국어 점수 : {},'.format(args[1][0])\n",
    "    result += ' 영어 점수 : {},'.format(args[1][1])\n",
    "    result += ' 영어 점수 : {},'.format(args[1][2])\n",
    "    result += ' 총점 : {},'.format(args[2])\n",
    "    result += ' 평균 : {},'.format(round(args[3], 2))\n",
    "    print(args)\n",
    "    return result\n",
    "\n",
    "outPut(*(sung(*(get_input()))))\n"
   ]
  },
  {
   "cell_type": "code",
   "execution_count": 43,
   "metadata": {
    "scrolled": true
   },
   "outputs": [
    {
     "name": "stdout",
     "output_type": "stream",
     "text": [
      "학생추가 => 1번, 그만 => 2 번 : \n",
      "1\n",
      "\n",
      "이름 : Kim\n",
      "국어 점수 : 90\n",
      "영어 점수 : 90\n",
      "수학 점수 : 90\n",
      "학생추가 => 1번, 그만 => 2 번 : \n",
      "1\n",
      "\n",
      "이름 : Hong\n",
      "국어 점수 : 80\n",
      "영어 점수 : 80\n",
      "수학 점수 : 80\n",
      "학생추가 => 1번, 그만 => 2 번 : \n",
      "2\n",
      "\n",
      "출석부~!!!\n",
      "번호\t이름\t국어\t영어\t수학\t총점\t평균\t\n",
      "1\tKim\t90\t90\t90\t270\t90.0\t\n",
      "2\tHong\t80\t80\t80\t240\t80.0\t"
     ]
    }
   ],
   "source": [
    "# 성적프로그램을 입력, 처리, 출력 함수를 이용해서 구현하시오\n",
    "# -이름, 국어, 영어, 수학, 총점, 평균\n",
    "sungjuk = []\n",
    "student = []\n",
    "class_ = []\n",
    "NUM = 0\n",
    "\n",
    "def get_input_():\n",
    "    name = input('\\n이름 : ')\n",
    "    kor = eval(input('국어 점수 : '))\n",
    "    eng = eval(input('영어 점수 : '))\n",
    "    math = eval(input('수학 점수 : '))\n",
    "    \n",
    "    sungjuk.append(kor)\n",
    "    sungjuk.append(eng)\n",
    "    sungjuk.append(math)    \n",
    "    student.append(NUM)\n",
    "    student.append(name)\n",
    "    student.append(sungjuk)\n",
    "    \n",
    "def sung_():\n",
    "    total = sum(student[2])\n",
    "    avg = round(total / len(sungjuk), 2)\n",
    "    student.append(total)\n",
    "    student.append(avg)\n",
    "\n",
    "\n",
    "def outPut_():\n",
    "    label = ['번호', '이름', '국어','영어', '수학','총점','평균']\n",
    "    for j in range(7):\n",
    "        print(label[j], end = '\\t')\n",
    "        \n",
    "    for i in range(len(class_)):\n",
    "        print(end = '\\n')\n",
    "        for j in range(5):\n",
    "            if j == 2:\n",
    "                for k in range(3):\n",
    "                    print(class_[i][j][k], end = '\\t')\n",
    "            else:\n",
    "                print(class_[i][j], end = '\\t')\n",
    "\n",
    "\n",
    "while True:\n",
    "    insert = eval(input('\\n학생추가 => 1번, 그만 => 2 번 : \\n'))\n",
    "    if insert == 1:\n",
    "        NUM += 1\n",
    "        get_input_()\n",
    "        sung_()\n",
    "        student[0] = NUM\n",
    "        class_.append(student)\n",
    "        student = []\n",
    "        sungjuk = []\n",
    "        \n",
    "    else:\n",
    "        print('\\n출석부~!!!')\n",
    "        outPut_()\n",
    "        break\n"
   ]
  },
  {
   "cell_type": "code",
   "execution_count": 93,
   "metadata": {},
   "outputs": [
    {
     "name": "stdout",
     "output_type": "stream",
     "text": [
      "[1, 2, 3, 4, 5, 6, 7, 8, 9, 10]\n",
      "[1, 2, 3, 4, 5, 6, 7, 8, 9, 10]\n",
      "4\n"
     ]
    }
   ],
   "source": [
    "sum_ = 0\n",
    "score = [1, 2, 3, 4, 5, 6, 7, 8, 9, 10]\n",
    "score2 = [1, 2, 3, 4, 5, 6, 7, 8, 9, 10]\n",
    "print(score)\n",
    "print(score2)\n",
    "def Sum(param):\n",
    "    return lambda x: x, param[1]\n",
    "\n",
    "sum_ += list(Sum(score))[1]\n",
    "sum_ += list(Sum(score2))[1]\n",
    "print(sum_)\n"
   ]
  },
  {
   "cell_type": "code",
   "execution_count": null,
   "metadata": {},
   "outputs": [],
   "source": []
  }
 ],
 "metadata": {
  "kernelspec": {
   "display_name": "Python 3",
   "language": "python",
   "name": "python3"
  },
  "language_info": {
   "codemirror_mode": {
    "name": "ipython",
    "version": 3
   },
   "file_extension": ".py",
   "mimetype": "text/x-python",
   "name": "python",
   "nbconvert_exporter": "python",
   "pygments_lexer": "ipython3",
   "version": "3.7.4"
  }
 },
 "nbformat": 4,
 "nbformat_minor": 2
}
