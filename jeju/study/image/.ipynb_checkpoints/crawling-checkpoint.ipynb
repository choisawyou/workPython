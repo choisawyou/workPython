{
 "cells": [
  {
   "cell_type": "code",
   "execution_count": 143,
   "metadata": {},
   "outputs": [
    {
     "name": "stdout",
     "output_type": "stream",
     "text": [
      "rimg2/pta91.jpg\n",
      "이미지 url :  http://10000img.com/rimg2/pta91.jpg\n",
      "rimg2/pta91.jpg\n",
      "이미지 url :  http://10000img.com/rimg2/pta91.jpg\n",
      "크롤링 종료\n"
     ]
    }
   ],
   "source": [
    "from bs4 import BeautifulSoup\n",
    "import requests\n",
    "from requests import get\n",
    "import os\n",
    "from PIL import Image\n",
    "\n",
    "r = requests.get(url)\n",
    "soup = BeautifulSoup(r.text, 'lxml')\n",
    "\n",
    "with open('image/'+filename, 'wb') as f:\n",
    "    f.write(image)\n",
    "\n",
    "def get(max_count=1):\n",
    "    base_url = 'http://10000img.com/'\n",
    "    url = 'http://10000img.com/ran.php'\n",
    "    \n",
    "    count = 1\n",
    "    \n",
    "    while count <= max_count:\n",
    "        img = soup.select('img')[0]['src']\n",
    "        img\n",
    "        img_url = base_url + img\n",
    "        image = requests.get(img_url).content\n",
    "        \n",
    "        \n",
    "        filename = os.path.basename(img_url)\n",
    "        \n",
    "        with open('image/'+filename, 'wb') as f:\n",
    "            f.write(image)\n",
    "        \n",
    "        print(img)\n",
    "        print('이미지 url : ',img_url)\n",
    "        count += 1\n",
    "    else : \n",
    "        print('크롤링 종료')\n",
    "        \n",
    "get(2)"
   ]
  },
  {
   "cell_type": "code",
   "execution_count": 32,
   "metadata": {},
   "outputs": [
    {
     "name": "stdout",
     "output_type": "stream",
     "text": [
      "\n",
      "Item no.: 1 --> Item name = styrofoam\n",
      "Evaluating...\n",
      "Looks like we cannot locate the path the 'chromedriver' (use the '--chromedriver' argument to specify the path to the executable.) or google chrome browser is not installed on your machine (exception: argument of type 'NoneType' is not iterable)\n"
     ]
    },
    {
     "ename": "SystemExit",
     "evalue": "",
     "output_type": "error",
     "traceback": [
      "An exception has occurred, use %tb to see the full traceback.\n",
      "\u001b[1;31mSystemExit\u001b[0m\n"
     ]
    }
   ],
   "source": [
    "from selenium import webdriver\n",
    "from selenium.webdriver.common.keys import Keys\n",
    "from google_images_download import google_images_download as gd\n",
    "driver = webdriver.Chrome(executable_path=\"./chromedriver.exe\")\n",
    "driver.implicitly_wait(30)\n",
    "\n",
    "import ssl\n",
    "ssl._create_default_https_context = ssl._create_unverified_context\n",
    "\n",
    "def imageCrawling(keyword, dir):\n",
    "    reaponse = gd.googleimagesdownload()\n",
    "    \n",
    "    arguments = {'keywords': keyword,\n",
    "                'limit':200,\n",
    "                'print_urls':True,\n",
    "                'no_directory':True,\n",
    "                'output_directory' : dir}\n",
    "    paths = reaponse.download(arguments)\n",
    "    print(paths)\n",
    "    \n",
    "imageCrawling('styrofoam','image/styrofoam/')"
   ]
  },
  {
   "cell_type": "code",
   "execution_count": null,
   "metadata": {},
   "outputs": [],
   "source": []
  },
  {
   "cell_type": "code",
   "execution_count": 46,
   "metadata": {},
   "outputs": [],
   "source": [
    "from selenium import webdriver\n",
    "\n",
    "# search_term = 'styrofoam'\n",
    "url = 'https://google.co.in/search?q=' + search_term+ '&tbm=isch'\n",
    "\n",
    "first_list =['styrofoam', ]\n",
    "second_list = []\n",
    "\n",
    "for first in first_list:\n",
    "    for second in second_list:\n",
    "        new_query = first + ' '+second\n",
    "        url = 'https://google.co.in/search?q=' + + '&tbm=isch'\n",
    "        \n",
    "\n",
    "browser = webdriver.Chrome('chromedriver.exe')\n",
    "browser.get(url)\n",
    "\n",
    "for i in range(200):\n",
    "    \n",
    "    browser.execute_script('window.scrollBy(0,10000)')\n",
    "    \n",
    "for idx, el in enumerate(browser.find_elements_by_class_name('rg_ic')):\n",
    "    browser.implicitly_wait(10)\n",
    "    el.screenshot('image/'+str(idx)+'.jpg')\n",
    "    \n",
    "browser.close()"
   ]
  },
  {
   "cell_type": "code",
   "execution_count": null,
   "metadata": {},
   "outputs": [],
   "source": []
  },
  {
   "cell_type": "code",
   "execution_count": null,
   "metadata": {},
   "outputs": [],
   "source": []
  },
  {
   "cell_type": "code",
   "execution_count": null,
   "metadata": {},
   "outputs": [],
   "source": []
  },
  {
   "cell_type": "code",
   "execution_count": null,
   "metadata": {},
   "outputs": [],
   "source": []
  },
  {
   "cell_type": "code",
   "execution_count": null,
   "metadata": {},
   "outputs": [],
   "source": []
  },
  {
   "cell_type": "code",
   "execution_count": null,
   "metadata": {},
   "outputs": [],
   "source": []
  },
  {
   "cell_type": "code",
   "execution_count": null,
   "metadata": {},
   "outputs": [],
   "source": []
  },
  {
   "cell_type": "code",
   "execution_count": null,
   "metadata": {},
   "outputs": [],
   "source": []
  },
  {
   "cell_type": "code",
   "execution_count": null,
   "metadata": {},
   "outputs": [],
   "source": []
  },
  {
   "cell_type": "code",
   "execution_count": null,
   "metadata": {},
   "outputs": [],
   "source": []
  },
  {
   "cell_type": "code",
   "execution_count": null,
   "metadata": {},
   "outputs": [],
   "source": []
  },
  {
   "cell_type": "code",
   "execution_count": null,
   "metadata": {},
   "outputs": [],
   "source": []
  },
  {
   "cell_type": "code",
   "execution_count": null,
   "metadata": {},
   "outputs": [],
   "source": []
  },
  {
   "cell_type": "code",
   "execution_count": null,
   "metadata": {},
   "outputs": [],
   "source": []
  },
  {
   "cell_type": "code",
   "execution_count": null,
   "metadata": {},
   "outputs": [],
   "source": []
  },
  {
   "cell_type": "code",
   "execution_count": null,
   "metadata": {},
   "outputs": [],
   "source": []
  },
  {
   "cell_type": "code",
   "execution_count": null,
   "metadata": {},
   "outputs": [],
   "source": []
  },
  {
   "cell_type": "code",
   "execution_count": null,
   "metadata": {},
   "outputs": [],
   "source": []
  },
  {
   "cell_type": "code",
   "execution_count": null,
   "metadata": {},
   "outputs": [],
   "source": []
  },
  {
   "cell_type": "code",
   "execution_count": null,
   "metadata": {},
   "outputs": [],
   "source": []
  },
  {
   "cell_type": "code",
   "execution_count": null,
   "metadata": {},
   "outputs": [],
   "source": []
  },
  {
   "cell_type": "code",
   "execution_count": null,
   "metadata": {},
   "outputs": [],
   "source": []
  },
  {
   "cell_type": "code",
   "execution_count": null,
   "metadata": {},
   "outputs": [],
   "source": []
  }
 ],
 "metadata": {
  "kernelspec": {
   "display_name": "Python 3",
   "language": "python",
   "name": "python3"
  },
  "language_info": {
   "codemirror_mode": {
    "name": "ipython",
    "version": 3
   },
   "file_extension": ".py",
   "mimetype": "text/x-python",
   "name": "python",
   "nbconvert_exporter": "python",
   "pygments_lexer": "ipython3",
   "version": "3.7.4"
  }
 },
 "nbformat": 4,
 "nbformat_minor": 2
}
