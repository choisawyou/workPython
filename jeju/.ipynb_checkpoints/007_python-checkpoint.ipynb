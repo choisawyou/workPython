{
 "cells": [
  {
   "cell_type": "markdown",
   "metadata": {},
   "source": [
    "# numpy"
   ]
  },
  {
   "cell_type": "code",
   "execution_count": 6,
   "metadata": {},
   "outputs": [
    {
     "name": "stdout",
     "output_type": "stream",
     "text": [
      "1.16.5\n",
      "type : <class 'numpy.ndarray'>\n",
      "shape : (3,), dimension : 1, dtype : int32\n",
      "Array's Data : \n",
      " [1 2 3]\n",
      "\n",
      "type : <class 'numpy.ndarray'>\n",
      "shape : (3,), dimension : 1, dtype : int32\n",
      "Array's Data : \n",
      " [1 2 3]\n"
     ]
    }
   ],
   "source": [
    "import matplotlib # 시각화\n",
    "import numpy as np # 별칭\n",
    "print(np.__version__) # 상위 오브젝트가 가진 속성\n",
    "def pprint(arr): # ndarray : numpy의 기본 데이터 배영\n",
    "    print('type : {}'.format(type(arr)))\n",
    "    print('shape : {}, dimension : {}, dtype : {}'.format(arr.shape, arr.ndim, arr.dtype))\n",
    "    print(\"Array's Data : \\n\",arr)\n",
    "          \n",
    "arr = [1, 2, 3] # 리스트\n",
    "a = np.array([1, 2, 3]) # ndarray\n",
    "b = np.array(arr)\n",
    "pprint(a)\n",
    "print()\n",
    "pprint(b)"
   ]
  },
  {
   "cell_type": "code",
   "execution_count": 10,
   "metadata": {},
   "outputs": [
    {
     "name": "stdout",
     "output_type": "stream",
     "text": [
      "2662624098784\n",
      "10\n",
      "[0. 1. 2. 3. 4. 5. 6. 7. 8. 9.]\n",
      "40\n"
     ]
    },
    {
     "data": {
      "text/plain": [
       "array([  0,   1,   2,   3,   4,   5,   6,   7,   8,   9,  10,  11,  12,\n",
       "        13,  14,  15,  16,  17,  18,  19,  20,  21,  22,  23,  24,  25,\n",
       "        26,  27,  28,  29,  30,  31,  32,  33,  34,  35,  36,  37,  38,\n",
       "        39,  40,  41,  42,  43,  44,  45,  46,  47,  48,  49,  50,  51,\n",
       "        52,  53,  54,  55,  56,  57,  58,  59,  60,  61,  62,  63,  64,\n",
       "        65,  66,  67,  68,  69,  70,  71,  72,  73,  74,  75,  76,  77,\n",
       "        78,  79,  80,  81,  82,  83,  84,  85,  86,  87,  88,  89,  90,\n",
       "        91,  92,  93,  94,  95,  96,  97,  98,  99, 100, 101, 102, 103,\n",
       "       104, 105, 106, 107, 108, 109, 110, 111, 112, 113, 114, 115, 116,\n",
       "       117, 118, 119, 120, 121, 122, 123, 124, 125, 126, 127, 128, 129,\n",
       "       130, 131, 132, 133, 134, 135, 136, 137, 138, 139, 140, 141, 142,\n",
       "       143, 144, 145, 146, 147, 148, 149, 150, 151, 152, 153, 154, 155,\n",
       "       156, 157, 158, 159, 160, 161, 162, 163, 164, 165, 166, 167, 168,\n",
       "       169, 170, 171, 172, 173, 174, 175, 176, 177, 178, 179, 180, 181,\n",
       "       182, 183, 184, 185, 186, 187, 188, 189, 190, 191, 192, 193, 194,\n",
       "       195, 196, 197, 198, 199, 200, 201, 202, 203, 204, 205, 206, 207,\n",
       "       208, 209, 210, 211, 212, 213, 214, 215, 216, 217, 218, 219, 220,\n",
       "       221, 222, 223, 224, 225, 226, 227, 228, 229, 230, 231, 232, 233,\n",
       "       234, 235, 236, 237, 238, 239, 240, 241, 242, 243, 244, 245, 246,\n",
       "       247, 248, 249, 250, 251, 252, 253, 254, 255, 256, 257, 258, 259,\n",
       "       260, 261, 262, 263, 264, 265, 266, 267, 268, 269, 270, 271, 272,\n",
       "       273, 274, 275, 276, 277, 278, 279, 280, 281, 282, 283, 284, 285,\n",
       "       286, 287, 288, 289, 290, 291, 292, 293, 294, 295, 296, 297, 298,\n",
       "       299, 300, 301, 302, 303, 304, 305, 306, 307, 308, 309, 310, 311,\n",
       "       312, 313, 314, 315, 316, 317, 318, 319, 320, 321, 322, 323, 324,\n",
       "       325, 326, 327, 328, 329, 330, 331, 332, 333, 334, 335, 336, 337,\n",
       "       338, 339, 340, 341, 342, 343, 344, 345, 346, 347, 348, 349, 350,\n",
       "       351, 352, 353, 354, 355, 356, 357, 358, 359, 360, 361, 362, 363,\n",
       "       364, 365, 366, 367, 368, 369, 370, 371, 372, 373, 374, 375, 376,\n",
       "       377, 378, 379, 380, 381, 382, 383, 384, 385, 386, 387, 388, 389,\n",
       "       390, 391, 392, 393, 394, 395, 396, 397, 398, 399, 400, 401, 402,\n",
       "       403, 404, 405, 406, 407, 408, 409, 410, 411, 412, 413, 414, 415,\n",
       "       416, 417, 418, 419, 420, 421, 422, 423, 424, 425, 426, 427, 428,\n",
       "       429, 430, 431, 432, 433, 434, 435, 436, 437, 438, 439, 440, 441,\n",
       "       442, 443, 444, 445, 446, 447, 448, 449, 450, 451, 452, 453, 454,\n",
       "       455, 456, 457, 458, 459, 460, 461, 462, 463, 464, 465, 466, 467,\n",
       "       468, 469, 470, 471, 472, 473, 474, 475, 476, 477, 478, 479, 480,\n",
       "       481, 482, 483, 484, 485, 486, 487, 488, 489, 490, 491, 492, 493,\n",
       "       494, 495, 496, 497, 498, 499, 500, 501, 502, 503, 504, 505, 506,\n",
       "       507, 508, 509, 510, 511, 512, 513, 514, 515, 516, 517, 518, 519,\n",
       "       520, 521, 522, 523, 524, 525, 526, 527, 528, 529, 530, 531, 532,\n",
       "       533, 534, 535, 536, 537, 538, 539, 540, 541, 542, 543, 544, 545,\n",
       "       546, 547, 548, 549, 550, 551, 552, 553, 554, 555, 556, 557, 558,\n",
       "       559, 560, 561, 562, 563, 564, 565, 566, 567, 568, 569, 570, 571,\n",
       "       572, 573, 574, 575, 576, 577, 578, 579, 580, 581, 582, 583, 584,\n",
       "       585, 586, 587, 588, 589, 590, 591, 592, 593, 594, 595, 596, 597,\n",
       "       598, 599, 600, 601, 602, 603, 604, 605, 606, 607, 608, 609, 610,\n",
       "       611, 612, 613, 614, 615, 616, 617, 618, 619, 620, 621, 622, 623,\n",
       "       624, 625, 626, 627, 628, 629, 630, 631, 632, 633, 634, 635, 636,\n",
       "       637, 638, 639, 640, 641, 642, 643, 644, 645, 646, 647, 648, 649,\n",
       "       650, 651, 652, 653, 654, 655, 656, 657, 658, 659, 660, 661, 662,\n",
       "       663, 664, 665, 666, 667, 668, 669, 670, 671, 672, 673, 674, 675,\n",
       "       676, 677, 678, 679, 680, 681, 682, 683, 684, 685, 686, 687, 688,\n",
       "       689, 690, 691, 692, 693, 694, 695, 696, 697, 698, 699, 700, 701,\n",
       "       702, 703, 704, 705, 706, 707, 708, 709, 710, 711, 712, 713, 714,\n",
       "       715, 716, 717, 718, 719, 720, 721, 722, 723, 724, 725, 726, 727,\n",
       "       728, 729, 730, 731, 732, 733, 734, 735, 736, 737, 738, 739, 740,\n",
       "       741, 742, 743, 744, 745, 746, 747, 748, 749, 750, 751, 752, 753,\n",
       "       754, 755, 756, 757, 758, 759, 760, 761, 762, 763, 764, 765, 766,\n",
       "       767, 768, 769, 770, 771, 772, 773, 774, 775, 776, 777, 778, 779,\n",
       "       780, 781, 782, 783, 784, 785, 786, 787, 788, 789, 790, 791, 792,\n",
       "       793, 794, 795, 796, 797, 798, 799, 800, 801, 802, 803, 804, 805,\n",
       "       806, 807, 808, 809, 810, 811, 812, 813, 814, 815, 816, 817, 818,\n",
       "       819, 820, 821, 822, 823, 824, 825, 826, 827, 828, 829, 830, 831,\n",
       "       832, 833, 834, 835, 836, 837, 838, 839, 840, 841, 842, 843, 844,\n",
       "       845, 846, 847, 848, 849, 850, 851, 852, 853, 854, 855, 856, 857,\n",
       "       858, 859, 860, 861, 862, 863, 864, 865, 866, 867, 868, 869, 870,\n",
       "       871, 872, 873, 874, 875, 876, 877, 878, 879, 880, 881, 882, 883,\n",
       "       884, 885, 886, 887, 888, 889, 890, 891, 892, 893, 894, 895, 896,\n",
       "       897, 898, 899, 900, 901, 902, 903, 904, 905, 906, 907, 908, 909,\n",
       "       910, 911, 912, 913, 914, 915, 916, 917, 918, 919, 920, 921, 922,\n",
       "       923, 924, 925, 926, 927, 928, 929, 930, 931, 932, 933, 934, 935,\n",
       "       936, 937, 938, 939, 940, 941, 942, 943, 944, 945, 946, 947, 948,\n",
       "       949, 950, 951, 952, 953, 954, 955, 956, 957, 958, 959, 960, 961,\n",
       "       962, 963, 964, 965, 966, 967, 968, 969, 970, 971, 972, 973, 974,\n",
       "       975, 976, 977, 978, 979, 980, 981, 982, 983, 984, 985, 986, 987,\n",
       "       988, 989, 990, 991, 992, 993, 994, 995, 996, 997, 998, 999])"
      ]
     },
     "execution_count": 10,
     "metadata": {},
     "output_type": "execute_result"
    }
   ],
   "source": [
    "# 인스턴스상태\n",
    "a = np.array([0, 1, 2, 3, 4, 5, 6, 7, 8, 9]) # ndarray\n",
    "print(id(a)) # python core 주소값 확인\n",
    "print(a.size) # 데이터 개수 \n",
    "print(a.astype(np.float32)) # 대이터 타입 변경, numpy는 행중심, 동질적\n",
    "print(a.dtype.itemsize*a.size) # 전체 메모기 사이즈 (바이트)\n",
    "# iterator for in range => lsit\n",
    "a = np.arange(1000) # arange => ndarray\n",
    "a"
   ]
  },
  {
   "cell_type": "code",
   "execution_count": 15,
   "metadata": {},
   "outputs": [
    {
     "name": "stdout",
     "output_type": "stream",
     "text": [
      "[[0. 0. 0. 0.]\n",
      " [0. 0. 0. 0.]\n",
      " [0. 0. 0. 0.]]\n",
      "\n",
      "[[[1 1 1 1]\n",
      "  [1 1 1 1]\n",
      "  [1 1 1 1]]\n",
      "\n",
      " [[1 1 1 1]\n",
      "  [1 1 1 1]\n",
      "  [1 1 1 1]]]\n",
      "\n",
      "[[7 7]\n",
      " [7 7]]\n",
      "\n",
      "[[1. 0. 0. 0.]\n",
      " [0. 1. 0. 0.]\n",
      " [0. 0. 1. 0.]\n",
      " [0. 0. 0. 1.]]\n",
      "\n",
      "[[0.00000000e+000 0.00000000e+000]\n",
      " [0.00000000e+000 0.00000000e+000]\n",
      " [0.00000000e+000 5.47424736e-321]\n",
      " [1.24611741e-306 1.11261027e-306]]\n"
     ]
    }
   ],
   "source": [
    "# ndarray 초기화 함수들\n",
    "print(np.zeros((3, 4)))\n",
    "print()\n",
    "print(np.ones((2, 3, 4), dtype=np.int16))  # 1, 3차원 면, 행, 열\n",
    "print()\n",
    "print(np.full((2, 2), 7))\n",
    "print()\n",
    "print(np.eye(4)) # 댇각형렬 identity, 행렬연산에거 항등원 +, *\n",
    "print()\n",
    "print(np.empty((4, 2))) # 쓰래기값"
   ]
  },
  {
   "cell_type": "code",
   "execution_count": 18,
   "metadata": {},
   "outputs": [
    {
     "name": "stdout",
     "output_type": "stream",
     "text": [
      "[1, 5, -1]\n",
      "[ 0 10 20 30 40 50 60 70 80 90]\n",
      "[10 50 90]\n"
     ]
    }
   ],
   "source": [
    "a = np.arange(0, 100, 10) # ndarray\n",
    "indices = [1, 5, -1] # list\n",
    "print(indices)\n",
    "b = a[indices] # 리스트를 첨자로 사용, a[1], a[5], a[-1]\n",
    "print(a)\n",
    "print(b)"
   ]
  },
  {
   "cell_type": "code",
   "execution_count": 27,
   "metadata": {},
   "outputs": [
    {
     "name": "stdout",
     "output_type": "stream",
     "text": [
      "[11 12 13 14 15 16 17 18 19 20 21 22 23 24 25 26 27 28 29 30 31 32 33 34\n",
      " 35]\n",
      "[[11 12 13 14 15]\n",
      " [16 17 18 19 20]\n",
      " [21 22 23 24 25]\n",
      " [26 27 28 29 30]\n",
      " [31 32 33 34 35]]\n",
      "<class 'numpy.ndarray'>\n",
      "int32\n",
      "25\n",
      "(5, 5)\n",
      "2\n",
      "100\n",
      "(20, 4)\n"
     ]
    }
   ],
   "source": [
    "a = np.arange(11, 36) # 1차원\n",
    "print(a)\n",
    "a.shape = (5, 5) # 개수가 맞아야함\n",
    "print(a)\n",
    "print(type(a))\n",
    "print(a.dtype)\n",
    "print(a.size)\n",
    "print(a.shape) # 차수\n",
    "print(a.ndim) # 2차원\n",
    "print(a.nbytes) # 100바이트 = 25*4\n",
    "print(a.strides) # (20,4) 다음열의 데이터는 몇바이트를 건너 뛰어야 하는가, 다음행은 몇바이트를 건너뛰어야 하는가"
   ]
  },
  {
   "cell_type": "code",
   "execution_count": 28,
   "metadata": {},
   "outputs": [
    {
     "name": "stdout",
     "output_type": "stream",
     "text": [
      "<class 'numpy.ndarray'>\n",
      "[0 1 2 3 4 5 6 7 8 9]\n",
      "5\n",
      "[5 6 7]\n",
      "[ 1  2  3  4 12]\n"
     ]
    }
   ],
   "source": [
    "arr = np.arange(10)\n",
    "print(type(arr))\n",
    "print(arr)\n",
    "print(arr[5])\n",
    "print(arr[5:8])\n",
    "arr[5:8] = 12\n",
    "print(arr[1:6])"
   ]
  },
  {
   "cell_type": "code",
   "execution_count": 32,
   "metadata": {},
   "outputs": [
    {
     "name": "stdout",
     "output_type": "stream",
     "text": [
      "[1 2 3]\n",
      "3\n",
      "3\n",
      "[[1 2 3]\n",
      " [4 5 6]]\n",
      "[[2 3]\n",
      " [5 6]]\n",
      "[4 5]\n",
      "[[0 2 3]\n",
      " [0 5 6]\n",
      " [7 8 9]]\n",
      "<class 'numpy.ndarray'>\n"
     ]
    }
   ],
   "source": [
    "# numpy 첨자생략 불가\n",
    "arr2d = np.array([[1,2,3],[4,5,6],[7,8,9]])\n",
    "print(arr2d[0]) # 행우선 : 행\n",
    "print(arr2d[0][2])\n",
    "print(arr2d[0,2])\n",
    "print(arr2d[:2]) # 0,1 행\n",
    "print(arr2d[:2,1:])\n",
    "print(arr2d[1,:2])\n",
    "arr2d[:2,:1] = 0\n",
    "arr2d[:2,:1] = 0\n",
    "print(arr2d)\n",
    "\n",
    "# array, ndarray\n",
    "print(type(arr2d))\n"
   ]
  },
  {
   "cell_type": "code",
   "execution_count": 33,
   "metadata": {},
   "outputs": [
    {
     "name": "stdout",
     "output_type": "stream",
     "text": [
      "스트라이드 값 :  (160, 40, 8)\n"
     ]
    }
   ],
   "source": [
    "# 실제 저장은 일렬로 사람이 데이터를 다루는 것은 입체로 전체 480바이트\n",
    "# 해렬연산에서 앞의 행렬열수와 뒤의 행렬의 행수를 일치 시켜야 행렬곱이 가능\n",
    "# 행렬곱에서 행렬 앞뒤로 바꾸면 안됨\n",
    "print(\"스트라이드 값 : \", np.ones((3,4,5), dtype=np.float64).strides)\n",
    "# 단일 데이터 float64 : 8바이트"
   ]
  },
  {
   "cell_type": "code",
   "execution_count": 51,
   "metadata": {},
   "outputs": [
    {
     "name": "stdout",
     "output_type": "stream",
     "text": [
      "첫면 [[1 2 3]\n",
      " [4 5 6]]\n",
      "첫차원 첫행 [1 2 3]\n",
      "첫요소 1\n",
      "8\n",
      "12\n"
     ]
    }
   ],
   "source": [
    "# 문제\n",
    "arr3d = np.array([[[1,2,3],[4,5,6]],[[7,8,9],[10,11,12]]]) # 2,2,3\n",
    "print(\"첫면\", arr3d[0])\n",
    "print('첫차원 첫행', arr3d[0,0])\n",
    "print('첫요소',arr3d[0,0,0])\n",
    "print(arr3d[1,0,1])\n",
    "print(arr3d[1,1,2]) # 면, 행, 열([면][행][열])"
   ]
  },
  {
   "cell_type": "code",
   "execution_count": 52,
   "metadata": {},
   "outputs": [
    {
     "name": "stdout",
     "output_type": "stream",
     "text": [
      "값의 변경후\n",
      "[[[42 42 42]\n",
      "  [42 42 42]]\n",
      "\n",
      " [[ 7  8  9]\n",
      "  [10 11 12]]]\n",
      "이전값으로 \n",
      "[[[ 1  2  3]\n",
      "  [ 4  5  6]]\n",
      "\n",
      " [[ 7  8  9]\n",
      "  [10 11 12]]]\n"
     ]
    }
   ],
   "source": [
    "# 백업이 안됨 : 대임하면 같은 주소를 가리키기 때문에 \n",
    "old_values=arr3d.copy() # 대입 : 주소를 복사\n",
    "arr3d[0]=42\n",
    "print('값의 변경후')\n",
    "print(arr3d)\n",
    "print('이전값으로 ')\n",
    "arr3d = old_values\n",
    "print(arr3d)"
   ]
  },
  {
   "cell_type": "code",
   "execution_count": 56,
   "metadata": {},
   "outputs": [
    {
     "name": "stdout",
     "output_type": "stream",
     "text": [
      "[ 0  1  2  3  4  5  6  7  8  9 10 11 12 13 14 15 16 17 18 19 20 21 22 23\n",
      " 24 25 26 27 28 29 30 31 32 33 34 35]\n",
      "\n",
      "[[ 0  1  2  3  4  5]\n",
      " [ 6  7  8  9 10 11]\n",
      " [12 13 14 15 16 17]\n",
      " [18 19 20 21 22 23]\n",
      " [24 25 26 27 28 29]\n",
      " [30 31 32 33 34 35]]\n",
      "\n",
      "[[[ 0  1  2  3  4  5]\n",
      "  [ 6  7  8  9 10 11]\n",
      "  [12 13 14 15 16 17]]\n",
      "\n",
      " [[18 19 20 21 22 23]\n",
      "  [24 25 26 27 28 29]\n",
      "  [30 31 32 33 34 35]]]\n"
     ]
    }
   ],
   "source": [
    "Z = np.arange(36)\n",
    "print(Z)\n",
    "print()\n",
    "Z = Z.reshape((6,6))\n",
    "print(Z)\n",
    "print()\n",
    "reshape2 = Z.reshape((2,3,6))\n",
    "print(reshape2)"
   ]
  },
  {
   "cell_type": "code",
   "execution_count": 64,
   "metadata": {},
   "outputs": [
    {
     "name": "stdout",
     "output_type": "stream",
     "text": [
      "[[ 0  1  2  3]\n",
      " [ 4  5  6  7]\n",
      " [ 8  9 10 11]\n",
      " [12 13 14 15]\n",
      " [16 17 18 19]\n",
      " [20 21 22 23]\n",
      " [24 25 26 27]\n",
      " [28 29 30 31]]\n",
      "\n",
      "[[ 4  5  6  7]\n",
      " [20 21 22 23]\n",
      " [28 29 30 31]\n",
      " [ 8  9 10 11]]\n",
      "\n",
      "[[28 29 30 31]\n",
      " [12 13 14 15]\n",
      " [ 4  5  6  7]\n",
      " [24 25 26 27]]\n",
      "\n",
      "[ 4 23 29 10]\n",
      "\n",
      "[[ 4  5  6  7]\n",
      " [ 8  9 10 11]\n",
      " [20 21 22 23]\n",
      " [28 29 30 31]]\n",
      "\n",
      "[[ 4  7  5  6]\n",
      " [20 23 21 22]\n",
      " [28 31 29 30]\n",
      " [ 8 11  9 10]]\n"
     ]
    }
   ],
   "source": [
    "arr=np.arange(32).reshape((8,4))\n",
    "print(arr)\n",
    "print()\n",
    "print(arr[[1,5,7,2]]) # 행중심\n",
    "print()\n",
    "print(arr[[-1,-5,-7,-2]]) # 거꾸로 인덱싱\n",
    "print()\n",
    "print(arr[[1,5,7,2],[0,3,1,2]]) # [1][0], [7][3],...\n",
    "print()\n",
    "\n",
    "print(arr[[1,2,5,7]][:])\n",
    "print()\n",
    "print(arr[[1,5,7,2]][:,[0,3,1,2]])"
   ]
  },
  {
   "cell_type": "code",
   "execution_count": 73,
   "metadata": {},
   "outputs": [
    {
     "name": "stdout",
     "output_type": "stream",
     "text": [
      "[[0, 1, 2, 3, 4, 5], [10, 11, 12, 13, 14, 15], [20, 21, 22, 23, 24, 25], [30, 31, 32, 33, 34, 35], [40, 41, 42, 43, 44, 45], [50, 51, 52, 53, 54, 55]]\n"
     ]
    }
   ],
   "source": [
    "arr = []\n",
    "for i in range(6):\n",
    "    ad=[]\n",
    "    for j in range(6):\n",
    "        ad.append(i*10 +j)\n",
    "    arr.append(ad)\n",
    "print(arr)\n",
    "arr = np.array(arr)"
   ]
  },
  {
   "cell_type": "code",
   "execution_count": 81,
   "metadata": {},
   "outputs": [
    {
     "name": "stdout",
     "output_type": "stream",
     "text": [
      "[ 1 12 23 34 45]\n"
     ]
    }
   ],
   "source": [
    "orange = arr[[0,1,2,3,4],[1,2,3,4,5]]\n",
    "print(orange)"
   ]
  },
  {
   "cell_type": "code",
   "execution_count": 82,
   "metadata": {},
   "outputs": [
    {
     "name": "stdout",
     "output_type": "stream",
     "text": [
      "[ 2 22 52]\n"
     ]
    }
   ],
   "source": [
    "red = arr[[0,2,5],[2,2,2]]\n",
    "# arr[[0,2,5],2]\n",
    "print(red)"
   ]
  },
  {
   "cell_type": "code",
   "execution_count": 83,
   "metadata": {},
   "outputs": [
    {
     "name": "stdout",
     "output_type": "stream",
     "text": [
      "[[30 32 35]\n",
      " [40 42 45]\n",
      " [50 52 55]]\n"
     ]
    }
   ],
   "source": [
    "skyblue = arr[[3,4,5]][:,[0,2,5]]\n",
    "# arr[3:6][:,0,2,5]\n",
    "print(skyblue)"
   ]
  },
  {
   "cell_type": "code",
   "execution_count": 85,
   "metadata": {},
   "outputs": [
    {
     "data": {
      "text/plain": [
       "array([[ 2],\n",
       "       [12],\n",
       "       [22],\n",
       "       [32],\n",
       "       [42],\n",
       "       [52]])"
      ]
     },
     "execution_count": 85,
     "metadata": {},
     "output_type": "execute_result"
    }
   ],
   "source": [
    "red = arr[:,[2]]"
   ]
  },
  {
   "cell_type": "code",
   "execution_count": 103,
   "metadata": {},
   "outputs": [
    {
     "data": {
      "text/plain": [
       "array([[3, 4]])"
      ]
     },
     "execution_count": 103,
     "metadata": {},
     "output_type": "execute_result"
    }
   ],
   "source": [
    "orange = arr[[0]][:,[3,4]]\n",
    "# arr[0,[3,4]]"
   ]
  },
  {
   "cell_type": "code",
   "execution_count": 104,
   "metadata": {},
   "outputs": [
    {
     "data": {
      "text/plain": [
       "array([[20, 22, 25],\n",
       "       [40, 42, 45]])"
      ]
     },
     "execution_count": 104,
     "metadata": {},
     "output_type": "execute_result"
    }
   ],
   "source": [
    "green = arr[[2,4]][:,[0,2,5]]\n"
   ]
  },
  {
   "cell_type": "code",
   "execution_count": 105,
   "metadata": {},
   "outputs": [
    {
     "data": {
      "text/plain": [
       "array([[44, 45],\n",
       "       [54, 55]])"
      ]
     },
     "execution_count": 105,
     "metadata": {},
     "output_type": "execute_result"
    }
   ],
   "source": [
    "blue = arr[[4,5]][:,[4,5]]"
   ]
  },
  {
   "cell_type": "code",
   "execution_count": 114,
   "metadata": {},
   "outputs": [
    {
     "name": "stdout",
     "output_type": "stream",
     "text": [
      "타일출력\n",
      "[[1 0 1]\n",
      " [1 0 1]\n",
      " [1 0 1]\n",
      " [1 0 1]]\n",
      "[[ 2  2  4]\n",
      " [ 5  5  7]\n",
      " [ 8  8 10]\n",
      " [11 11 13]]\n",
      "[[ 2  2  4]\n",
      " [ 5  5  7]\n",
      " [ 8  8 10]\n",
      " [11 11 13]]\n",
      "[[ 4  5  6]\n",
      " [ 7  8  9]\n",
      " [10 11 12]\n",
      " [13 14 15]]\n"
     ]
    }
   ],
   "source": [
    "x = np.array([[1,2,3],[4,5,6],[7,8,9],[10,11,12]]) # 4x3\n",
    "v = np.array([1,0,1])\n",
    "print('타일출력')\n",
    "vv = np.tile(v,(4,1))\n",
    "# [[1 0 1]\n",
    "#  [1 0 1]\n",
    "#  [1 0 1]\n",
    "#  [1 0 1]]\n",
    "print(vv)\n",
    "y = x+vv # 4x3 배열연산 => 요소별 연산\n",
    "print(y)\n",
    "# 배열연산 : 양쪽 차원이 일치해야함\n",
    "print(x+v)\n",
    "print(x +3) # 4x3, 1x3 broadcasting"
   ]
  },
  {
   "cell_type": "code",
   "execution_count": 116,
   "metadata": {},
   "outputs": [
    {
     "name": "stdout",
     "output_type": "stream",
     "text": [
      "[[ 1  2  3]\n",
      " [ 4  5  6]\n",
      " [ 7  8  9]\n",
      " [10 11 12]]\n",
      "2\n",
      "(4, 3)\n"
     ]
    }
   ],
   "source": [
    "a = np.arange(1,13)\n",
    "a.shape = (4,3)\n",
    "print(a)\n",
    "print(a.ndim)\n",
    "print(a.shape)"
   ]
  },
  {
   "cell_type": "code",
   "execution_count": 117,
   "metadata": {},
   "outputs": [
    {
     "name": "stdout",
     "output_type": "stream",
     "text": [
      "[[0 1]\n",
      " [2 3]\n",
      " [4 5]]\n"
     ]
    }
   ],
   "source": [
    "x = np.arange(6).reshape((3,2))\n",
    "print(x)"
   ]
  },
  {
   "cell_type": "code",
   "execution_count": 119,
   "metadata": {},
   "outputs": [
    {
     "data": {
      "text/plain": [
       "array([[0, 2, 4],\n",
       "       [1, 3, 5]])"
      ]
     },
     "execution_count": 119,
     "metadata": {},
     "output_type": "execute_result"
    }
   ],
   "source": [
    "# 거듭제곱(행열곱)\n",
    "# x@x => 앞의 행렬 열수와 뒤의 행렬의 행수가 일치해야함\n",
    "# 전치행렬 열과 행을 뒤집는것\n",
    "x@x.T\n",
    "# np.transpose(x)"
   ]
  },
  {
   "cell_type": "code",
   "execution_count": 122,
   "metadata": {},
   "outputs": [
    {
     "name": "stdout",
     "output_type": "stream",
     "text": [
      "[[[ 0  1  2  3]\n",
      "  [ 4  5  6  7]\n",
      "  [ 8  9 10 11]]\n",
      "\n",
      " [[12 13 14 15]\n",
      "  [16 17 18 19]\n",
      "  [20 21 22 23]]]\n",
      "[[[ 0  1  2  3]\n",
      "  [12 13 14 15]]\n",
      "\n",
      " [[ 4  5  6  7]\n",
      "  [16 17 18 19]]\n",
      "\n",
      " [[ 8  9 10 11]\n",
      "  [20 21 22 23]]]\n",
      "[[[ 0  4  8]\n",
      "  [ 1  5  9]\n",
      "  [ 2  6 10]\n",
      "  [ 3  7 11]]\n",
      "\n",
      " [[12 16 20]\n",
      "  [13 17 21]\n",
      "  [14 18 22]\n",
      "  [15 19 23]]]\n"
     ]
    }
   ],
   "source": [
    "arr = np.arange(24).reshape((2,3,4))\n",
    "print(arr)\n",
    "print(arr.transpose((1,0,2))) # 면,행,열 순서 변경 3,2,4\n",
    "print(arr.transpose((0,2,1))) # 2,4,3"
   ]
  },
  {
   "cell_type": "code",
   "execution_count": 127,
   "metadata": {},
   "outputs": [
    {
     "name": "stdout",
     "output_type": "stream",
     "text": [
      "[ True False False False False False False]\n",
      "[[ 0.48716523 -0.11894411 -0.18704164 -0.43842514]]\n",
      "[[-0.18704164 -0.43842514]]\n",
      "[-0.43842514]\n",
      "[False  True  True  True  True  True  True]\n",
      "[False  True  True  True  True  True  True]\n",
      "[ True False False False False False False]\n",
      "[[ 0.48716523 -0.11894411 -0.18704164 -0.43842514]]\n"
     ]
    }
   ],
   "source": [
    "# Boolean indexing (True/False)\n",
    "# 문자열은 대소문자 구분\n",
    "names= np.array(['Seoul','Daejun','Chungju','seoul','chungju','Daejun','Daejun'])\n",
    "data = np.random.randn(7,4)\n",
    "print(names =='Seoul') # 1,0,0,0,0,0,0\n",
    "print(data[names=='Seoul']) # 7x4에서 True는 0번째 0번째 랜덤값 list print\n",
    "print(data[names=='Seoul',2:])\n",
    "print(data[names=='Seoul',3])\n",
    "print(names != 'Seoul')\n",
    "print(~(names=='Seoul'))\n",
    "mask = (names=='Seoul')|(names=='shungju')\n",
    "print(mask)\n",
    "print(data[mask])"
   ]
  },
  {
   "cell_type": "code",
   "execution_count": 130,
   "metadata": {},
   "outputs": [
    {
     "name": "stdout",
     "output_type": "stream",
     "text": [
      "<zip object at 0x0000026BF2324E08>\n",
      "[(1.1, 2.1, True), (1.2, 2.2, False), (1.3, 2.3, True), (1.4, 2.4, True), (1.5, 2.5, False)]\n",
      "result :  [1.1, 2.2, 1.3, 1.4, 2.5]\n"
     ]
    }
   ],
   "source": [
    "xarr = np.array([1.1,1.2,1.3,1.4,1.5])\n",
    "yarr = np.array([2.1,2.2,2.3,2.4,2.5])\n",
    "cond = np.array([True, False, True, True, False])\n",
    "print(zip(xarr,yarr, cond)) # zip 요소별로 데이터를 묶는다.\n",
    "print(list(zip(xarr, yarr, cond)))\n",
    "result = [(x if c else y) for x,y,c in zip(xarr, yarr, cond)] # 3 항연산자\n",
    "print('result : ',result)    "
   ]
  },
  {
   "cell_type": "code",
   "execution_count": 131,
   "metadata": {},
   "outputs": [
    {
     "name": "stdout",
     "output_type": "stream",
     "text": [
      "[1.1 2.2 1.3 1.4 2.5]\n"
     ]
    }
   ],
   "source": [
    "result = np.where(cond, xarr, yarr)\n",
    "print(result)"
   ]
  },
  {
   "cell_type": "code",
   "execution_count": 134,
   "metadata": {},
   "outputs": [
    {
     "name": "stdout",
     "output_type": "stream",
     "text": [
      "1.1\n",
      "2.2\n",
      "1.3\n",
      "1.4\n",
      "2.5\n"
     ]
    }
   ],
   "source": [
    "for x,y,c in zip(xarr,yarr,cond):\n",
    "    if c:\n",
    "        print(x)\n",
    "    else:\n",
    "        print(y)"
   ]
  },
  {
   "cell_type": "code",
   "execution_count": 132,
   "metadata": {},
   "outputs": [
    {
     "name": "stdout",
     "output_type": "stream",
     "text": [
      "[[ 0.57388853 -0.65384082 -0.12503025 -1.35744369]\n",
      " [-0.98793086  2.15852878  1.04503862 -0.84084403]\n",
      " [-1.94635127  0.29190667  0.11179322  0.69624572]\n",
      " [ 0.35849259  0.41274034  1.04062847  1.17213343]]\n",
      "[[ 2 -2 -2 -2]\n",
      " [-2  2  2 -2]\n",
      " [-2  2  2  2]\n",
      " [ 2  2  2  2]]\n"
     ]
    }
   ],
   "source": [
    "# random 난수 정규분포에 출력 16개 출력\n",
    "arr = np.random.randn(4,4)\n",
    "print(arr)\n",
    "print(np.where(arr>0,2,-2))"
   ]
  },
  {
   "cell_type": "code",
   "execution_count": 138,
   "metadata": {},
   "outputs": [
    {
     "name": "stdout",
     "output_type": "stream",
     "text": [
      "[[-1.33387353 -0.05697712 -0.47477367  1.67878066]\n",
      " [-1.55811669  1.25179233 -0.44413448  1.90537388]\n",
      " [ 0.65202742 -1.48001886 -2.14199671 -1.94613552]\n",
      " [ 1.40291708  0.90303814 -0.82805813  0.46126068]\n",
      " [ 1.3312781  -2.40184939 -0.3911907   0.75079595]\n",
      " [-0.46314672 -1.09160488  0.24097547  0.30323691]\n",
      " [-1.1041949   1.47161209 -1.15087493  0.92174993]]\n",
      "\n",
      "[ True False False False False False False]\n",
      "\n",
      "[[-1.33387353 -0.05697712 -0.47477367  1.67878066]]\n"
     ]
    }
   ],
   "source": [
    "names= np.array(['Seoul','Daejun','Chungju','seoul','chungju','Daejun','Daejun'])\n",
    "data = np.random.randn(7,4)\n",
    "print(data)\n",
    "print()\n",
    "print(names =='Seoul') # 1,0,0,0,0,0,0\n",
    "print()\n",
    "print(data[names=='Seoul'])"
   ]
  },
  {
   "cell_type": "code",
   "execution_count": 167,
   "metadata": {},
   "outputs": [],
   "source": [
    "# 문제\n",
    "# 다음 데이터를 이용하여 두개다 참일때는 0, cond1이 참일때는 1, cond2가 참일때는 2 그외 때는 3으로 처리 하여 출력\n",
    "result = []\n",
    "cond1 = np.array([1,0,1,1,0,0,1], dtype =bool)\n",
    "cond2 = np.array([0,1,1,1,0,1,1], dtype =bool)\n"
   ]
  },
  {
   "cell_type": "code",
   "execution_count": 160,
   "metadata": {},
   "outputs": [
    {
     "name": "stdout",
     "output_type": "stream",
     "text": [
      "[1 2 0 0 3 2 0]\n"
     ]
    }
   ],
   "source": [
    "result = np.where(cond1 & cond2,0,np.where(cond1==True,1,np.where(cond2==True,2,3)))\n",
    "print(result)"
   ]
  },
  {
   "cell_type": "code",
   "execution_count": 162,
   "metadata": {},
   "outputs": [
    {
     "name": "stdout",
     "output_type": "stream",
     "text": [
      "[1, 2, 0, 0, 3, 2, 0]\n"
     ]
    }
   ],
   "source": [
    "for cond1,cond2 in zip(cond1,cond2):\n",
    "    if cond1 ==True and cond2 == True:\n",
    "        result.append(0)\n",
    "    elif cond1 ==True:\n",
    "        result.append(1)\n",
    "    elif cond2==True:\n",
    "        result.append(2)\n",
    "    else:\n",
    "        result.append(3)\n",
    "    \n",
    "print(result)"
   ]
  },
  {
   "cell_type": "code",
   "execution_count": 170,
   "metadata": {},
   "outputs": [
    {
     "name": "stdout",
     "output_type": "stream",
     "text": [
      "[1, 2, 0, 0, 3, 2, 0]\n"
     ]
    }
   ],
   "source": [
    "for i in range(len(cond1)):\n",
    "    if cond1[i] and cond2[i]:\n",
    "        result.append(0)\n",
    "    elif cond1[i]:\n",
    "        result.append(1)\n",
    "    elif cond2[i]:\n",
    "        result.append(2)\n",
    "    else:\n",
    "        result.append(3)\n",
    "    \n",
    "print(result)"
   ]
  },
  {
   "cell_type": "code",
   "execution_count": 166,
   "metadata": {},
   "outputs": [
    {
     "name": "stdout",
     "output_type": "stream",
     "text": [
      "[1 2 0 0 3 2 0]\n"
     ]
    }
   ],
   "source": [
    "result = 1*(cond1 & ~cond2) + 2*(cond2 & ~cond1) + 3* ~(cond1|cond2)\n",
    "print(result)"
   ]
  },
  {
   "cell_type": "code",
   "execution_count": 173,
   "metadata": {},
   "outputs": [
    {
     "name": "stdout",
     "output_type": "stream",
     "text": [
      "[10002 10004 10006 ... 29996 29998 30000]\n"
     ]
    }
   ],
   "source": [
    "x = np.arange(1, 10001)\n",
    "y = np.arange(10001, 20001)\n",
    "\n",
    "z = np.zeros_like(x) # 다른 랭렬과 같은 사이즈로 초기화 \n",
    "for i in range(10000):\n",
    "    z[i] = x[i] + y[i]\n",
    "print(z)"
   ]
  },
  {
   "cell_type": "code",
   "execution_count": 175,
   "metadata": {},
   "outputs": [
    {
     "name": "stdout",
     "output_type": "stream",
     "text": [
      "False\n",
      "True\n",
      "[ 2.71828183  7.3890561  20.08553692 54.59815003]\n"
     ]
    }
   ],
   "source": [
    "a = np.array([1,2,3,4])\n",
    "b = np.array([4,2,2,4])\n",
    "print(np.all(a==b)) # 요소 전체가 참일때 참\n",
    "print(np.any(a==b)) # 요소 하나라도 참이면 참\n",
    "print(np.exp(a)) # 지수함수(자연대수 : 2.718)"
   ]
  },
  {
   "cell_type": "code",
   "execution_count": 176,
   "metadata": {},
   "outputs": [],
   "source": [
    "# 선형대수 : 선형으로 해결하자 => 비선형도 잘게 나누면 선형\n",
    "# 내적 : 두 백터사이각\n",
    "# A = (1,2,3), B = (2,3,4)\n",
    "# A·B = 20(1*2+2*3+3*4)\n",
    "#cosθ = A·B / |A||B|\n",
    "#θ = acos(A·B / |A||B|)\n"
   ]
  },
  {
   "cell_type": "code",
   "execution_count": null,
   "metadata": {},
   "outputs": [],
   "source": []
  }
 ],
 "metadata": {
  "kernelspec": {
   "display_name": "Python 3",
   "language": "python",
   "name": "python3"
  },
  "language_info": {
   "codemirror_mode": {
    "name": "ipython",
    "version": 3
   },
   "file_extension": ".py",
   "mimetype": "text/x-python",
   "name": "python",
   "nbconvert_exporter": "python",
   "pygments_lexer": "ipython3",
   "version": "3.7.4"
  }
 },
 "nbformat": 4,
 "nbformat_minor": 2
}
