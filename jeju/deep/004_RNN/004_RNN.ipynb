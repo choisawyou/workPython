{
 "cells": [
  {
   "cell_type": "code",
   "execution_count": 5,
   "metadata": {},
   "outputs": [
    {
     "name": "stdout",
     "output_type": "stream",
     "text": [
      "WARNING:tensorflow:Entity <bound method BasicRNNCell.call of <tensorflow.python.ops.rnn_cell_impl.BasicRNNCell object at 0x0000021A0F15EF08>> could not be transformed and will be executed as-is. Please report this to the AutgoGraph team. When filing the bug, set the verbosity to 10 (on Linux, `export AUTOGRAPH_VERBOSITY=10`) and attach the full output. Cause: converting <bound method BasicRNNCell.call of <tensorflow.python.ops.rnn_cell_impl.BasicRNNCell object at 0x0000021A0F15EF08>>: AssertionError: Bad argument number for Name: 3, expecting 4\n",
      "WARNING: Entity <bound method BasicRNNCell.call of <tensorflow.python.ops.rnn_cell_impl.BasicRNNCell object at 0x0000021A0F15EF08>> could not be transformed and will be executed as-is. Please report this to the AutgoGraph team. When filing the bug, set the verbosity to 10 (on Linux, `export AUTOGRAPH_VERBOSITY=10`) and attach the full output. Cause: converting <bound method BasicRNNCell.call of <tensorflow.python.ops.rnn_cell_impl.BasicRNNCell object at 0x0000021A0F15EF08>>: AssertionError: Bad argument number for Name: 3, expecting 4\n",
      "WARNING:tensorflow:Entity <bound method BasicRNNCell.call of <tensorflow.python.ops.rnn_cell_impl.BasicRNNCell object at 0x0000021A0F15EF08>> could not be transformed and will be executed as-is. Please report this to the AutgoGraph team. When filing the bug, set the verbosity to 10 (on Linux, `export AUTOGRAPH_VERBOSITY=10`) and attach the full output. Cause: converting <bound method BasicRNNCell.call of <tensorflow.python.ops.rnn_cell_impl.BasicRNNCell object at 0x0000021A0F15EF08>>: AssertionError: Bad argument number for Name: 3, expecting 4\n",
      "WARNING: Entity <bound method BasicRNNCell.call of <tensorflow.python.ops.rnn_cell_impl.BasicRNNCell object at 0x0000021A0F15EF08>> could not be transformed and will be executed as-is. Please report this to the AutgoGraph team. When filing the bug, set the verbosity to 10 (on Linux, `export AUTOGRAPH_VERBOSITY=10`) and attach the full output. Cause: converting <bound method BasicRNNCell.call of <tensorflow.python.ops.rnn_cell_impl.BasicRNNCell object at 0x0000021A0F15EF08>>: AssertionError: Bad argument number for Name: 3, expecting 4\n"
     ]
    }
   ],
   "source": [
    "import numpy as np\n",
    "import os\n",
    "import tensorflow as tf\n",
    "n_inputs=3 # 입력데이터\n",
    "n_neurons = 5 # 셀의 가중치 사이즈\n",
    "tf.reset_default_graph() # 그라프 초기화(변수 생성)\n",
    "\n",
    "X0 = tf.placeholder(tf.float32, [None, n_inputs]) # 4x3 말단데이터 개수가 3\n",
    "X1 = tf.placeholder(tf.float32, [None, n_inputs]) # 4x3\n",
    "#[0,1,2] 사이즈가 하나의 셀로 입력\n",
    "# FFNN(feed forweard neural network)\n",
    "\n",
    "# 가중치 사이즈 => 특성을 찾아내는  것\n",
    "basic_cell = tf.contrib.rnn.BasicRNNCell(num_units=n_neurons)\n",
    "# static_rnn : rnn network : 4개의 셀이 자동으로 연결된면서 메모리 확보\n",
    "output_seqs,states = tf.contrib.rnn.static_rnn(basic_cell,[X0,X1],dtype=tf.float32) # 2x4x3 , 배치사이즈 * 셀 수 * 뉴런 수\n",
    "\n",
    "Y0,Y1 = output_seqs\n",
    "\n",
    "# 출력, 다음셀로 전달되는 값 : 마지막 states값(수평으로 셀을 연결)\n",
    "init = tf.global_variables_initializer()\n",
    "X0_batch = np.array([[0,1,2],[3,4,5],[6,7,8],[9,0,1]]) # 4x3\n",
    "X1_batch = np.array([[9,8,7],[0,0,0],[6,5,4],[3,2,1]])"
   ]
  },
  {
   "cell_type": "code",
   "execution_count": 14,
   "metadata": {},
   "outputs": [
    {
     "name": "stdout",
     "output_type": "stream",
     "text": [
      "처음 데이터 특성 : \n",
      "[[-0.26267087 -0.4901868   0.7722618  -0.2539589  -0.82851994]\n",
      " [-0.9975106   0.304628    0.9998549  -0.96382904 -0.99927425]\n",
      " [-0.9999947   0.8228348   0.9999998  -0.9988603  -0.9999974 ]\n",
      " [-0.9999732   0.9999565   0.9999958  -0.9999015  -0.4035643 ]] \n",
      "차수 : (4, 5) \n",
      "두번째 데이터 특성 : \n",
      "[[-1.          0.98944694  1.         -0.9997908  -0.9999995 ]\n",
      " [-0.68050057 -0.50715476 -0.13742533 -0.06794281 -0.52975273]\n",
      " [-0.99999845  0.94697773  0.99999297 -0.99803555 -0.99984795]\n",
      " [-0.9989914   0.7985397   0.9939831  -0.95307386 -0.9350582 ]] \n",
      "차수 : (4, 5) \n"
     ]
    }
   ],
   "source": [
    "with tf.Session() as sess:\n",
    "#     sess.run(init)\n",
    "    init.run()\n",
    "    Y0_val, Y1_val = sess.run([Y0,Y1], feed_dict={X0:X0_batch, X1:X1_batch})\n",
    "    \n",
    "    print('처음 데이터 특성 : \\n{} \\n차수 : {} '.format(Y0_val, Y0_val.shape))\n",
    "    print('두번째 데이터 특성 : \\n{} \\n차수 : {} '.format(Y1_val, Y1_val.shape))\n",
    "    # 4x3 => 4x5"
   ]
  },
  {
   "cell_type": "markdown",
   "metadata": {},
   "source": [
    "? 셀이 가지고 있는 가중치 사이즈 : 3x5?"
   ]
  },
  {
   "cell_type": "markdown",
   "metadata": {},
   "source": [
    "## 분류"
   ]
  },
  {
   "cell_type": "code",
   "execution_count": 23,
   "metadata": {
    "scrolled": false
   },
   "outputs": [
    {
     "name": "stdout",
     "output_type": "stream",
     "text": [
      "WARNING:tensorflow:Entity <bound method BasicRNNCell.call of <tensorflow.python.ops.rnn_cell_impl.BasicRNNCell object at 0x0000021A097CC748>> could not be transformed and will be executed as-is. Please report this to the AutgoGraph team. When filing the bug, set the verbosity to 10 (on Linux, `export AUTOGRAPH_VERBOSITY=10`) and attach the full output. Cause: converting <bound method BasicRNNCell.call of <tensorflow.python.ops.rnn_cell_impl.BasicRNNCell object at 0x0000021A097CC748>>: AssertionError: Bad argument number for Name: 3, expecting 4\n",
      "WARNING: Entity <bound method BasicRNNCell.call of <tensorflow.python.ops.rnn_cell_impl.BasicRNNCell object at 0x0000021A097CC748>> could not be transformed and will be executed as-is. Please report this to the AutgoGraph team. When filing the bug, set the verbosity to 10 (on Linux, `export AUTOGRAPH_VERBOSITY=10`) and attach the full output. Cause: converting <bound method BasicRNNCell.call of <tensorflow.python.ops.rnn_cell_impl.BasicRNNCell object at 0x0000021A097CC748>>: AssertionError: Bad argument number for Name: 3, expecting 4\n",
      "WARNING:tensorflow:Entity <bound method Dense.call of <tensorflow.python.layers.core.Dense object at 0x0000021A0F3C6148>> could not be transformed and will be executed as-is. Please report this to the AutgoGraph team. When filing the bug, set the verbosity to 10 (on Linux, `export AUTOGRAPH_VERBOSITY=10`) and attach the full output. Cause: converting <bound method Dense.call of <tensorflow.python.layers.core.Dense object at 0x0000021A0F3C6148>>: AssertionError: Bad argument number for Name: 3, expecting 4\n",
      "WARNING: Entity <bound method Dense.call of <tensorflow.python.layers.core.Dense object at 0x0000021A0F3C6148>> could not be transformed and will be executed as-is. Please report this to the AutgoGraph team. When filing the bug, set the verbosity to 10 (on Linux, `export AUTOGRAPH_VERBOSITY=10`) and attach the full output. Cause: converting <bound method Dense.call of <tensorflow.python.layers.core.Dense object at 0x0000021A0F3C6148>>: AssertionError: Bad argument number for Name: 3, expecting 4\n"
     ]
    }
   ],
   "source": [
    "tf.reset_default_graph() # 그라프 초기화(변수 생성)\n",
    "n_steps = 28 # 셀수 \n",
    "n_inputs = 28 # 셀당 인풋사이즈\n",
    "n_neurons = 150 # 뉴런\n",
    "n_outputs = 10 # 확률사이즈\n",
    "learning_rate = 0.001\n",
    "\n",
    "# 3차원으로 데이터를 받아오기때문에\n",
    "X = tf.placeholder(tf.float32, [None, n_steps, n_inputs]) # ? x 28x 28\n",
    "y = tf.placeholder(tf.int32, [None])\n",
    "\n",
    "# FFNN\n",
    "basic_cell = tf.contrib.rnn.BasicRNNCell(num_units=n_neurons) #150\n",
    "# 데이터가 3차원으로 입력됨\n",
    "# 2차원이 셀수\n",
    "# 셀 : 28개\n",
    "# state 마지막셀의 수평으로 전달되는 값\n",
    "# state 마지막셀의 output과 같다.\n",
    "# 28개의 셀이 있는데 마지막 한개의 output을 사용 => many to one\n",
    "# 감정분류 -> 분류\n",
    "# state의 차수 : 150x150\n",
    "# output의 차수 : latent time 지연시간을 통해 계산된 셀의 \n",
    "# 모든 값을 결합 출력 150x28x150\n",
    "outputs, states = tf.nn.dynamic_rnn(basic_cell, X,dtype=tf.float32)\n",
    "\n",
    "# 150개의 특징중에 10개만 추출\n",
    "# dense 입력차수, 출력차수만 지정하면 자동으로 바이어스를 생성\n",
    "# 가중치 공간을 확보해서 \n",
    "# 150x150, => 150x10\n",
    "# dense.의 가중치 사이즈 = 150x10\n",
    "logits = tf.layers.dense(states, n_outputs)\n",
    "# 분류를 위한 미분이 가능한 식으로 바뀜\n",
    "xentropy = tf.nn.sparse_softmax_cross_entropy_with_logits(labels = y, logits=logits)\n",
    "\n",
    "loss = tf.reduce_mean(xentropy) # 배치사이즈  => 평균을 통해서 loss를 구한다.\n",
    "\n",
    "# momentum _ propgrad\n",
    "optimizer = tf.train.AdamOptimizer(learning_rate = learning_rate)\n",
    "training_op = optimizer.minimize(loss)\n",
    "\n",
    "# 양쪽에서 큰놈으로 \n",
    "# 가장큰값\n",
    "correct = tf.nn.in_top_k(logits, y, 1)\n",
    "accuracy = tf.reduce_mean(tf.cast(correct, tf.float32))\n",
    "init = tf.global_variables_initializer()"
   ]
  },
  {
   "cell_type": "code",
   "execution_count": 24,
   "metadata": {},
   "outputs": [
    {
     "name": "stdout",
     "output_type": "stream",
     "text": [
      "Extracting /tmp/data/train-images-idx3-ubyte.gz\n",
      "Extracting /tmp/data/train-labels-idx1-ubyte.gz\n",
      "Extracting /tmp/data/t10k-images-idx3-ubyte.gz\n",
      "Extracting /tmp/data/t10k-labels-idx1-ubyte.gz\n"
     ]
    }
   ],
   "source": [
    "from tensorflow.examples.tutorials.mnist import input_data\n",
    "mnist = input_data.read_data_sets('/tmp/data/')\n",
    "# 원래이미지 모양으로 학습한다.\n",
    "X_test = mnist.test.images.reshape((-1,n_steps, n_inputs))\n",
    "y_test = mnist.test.labels"
   ]
  },
  {
   "cell_type": "code",
   "execution_count": 25,
   "metadata": {},
   "outputs": [
    {
     "name": "stdout",
     "output_type": "stream",
     "text": [
      "0 Train accuracy :  0.96 Test accyract :  0.9228\n",
      "1 Train accuracy :  0.94666666 Test accyract :  0.9509\n",
      "2 Train accuracy :  0.96666664 Test accyract :  0.946\n",
      "3 Train accuracy :  0.96 Test accyract :  0.9508\n",
      "4 Train accuracy :  0.9866667 Test accyract :  0.9657\n",
      "5 Train accuracy :  0.9866667 Test accyract :  0.9673\n",
      "6 Train accuracy :  0.96666664 Test accyract :  0.9567\n",
      "7 Train accuracy :  0.98 Test accyract :  0.9681\n",
      "8 Train accuracy :  0.96666664 Test accyract :  0.971\n",
      "9 Train accuracy :  1.0 Test accyract :  0.9723\n",
      "10 Train accuracy :  0.94666666 Test accyract :  0.9647\n",
      "11 Train accuracy :  0.97333336 Test accyract :  0.9711\n",
      "12 Train accuracy :  0.98 Test accyract :  0.9716\n",
      "13 Train accuracy :  0.9866667 Test accyract :  0.9732\n",
      "14 Train accuracy :  0.99333334 Test accyract :  0.9779\n",
      "15 Train accuracy :  0.99333334 Test accyract :  0.976\n",
      "16 Train accuracy :  0.96666664 Test accyract :  0.9748\n",
      "17 Train accuracy :  0.96666664 Test accyract :  0.9762\n",
      "18 Train accuracy :  0.99333334 Test accyract :  0.9752\n",
      "19 Train accuracy :  0.98 Test accyract :  0.9771\n",
      "20 Train accuracy :  0.99333334 Test accyract :  0.9739\n",
      "21 Train accuracy :  0.99333334 Test accyract :  0.9768\n",
      "22 Train accuracy :  0.9866667 Test accyract :  0.9749\n",
      "23 Train accuracy :  0.98 Test accyract :  0.9743\n",
      "24 Train accuracy :  0.9866667 Test accyract :  0.9763\n",
      "25 Train accuracy :  0.9866667 Test accyract :  0.9784\n",
      "26 Train accuracy :  1.0 Test accyract :  0.9766\n",
      "27 Train accuracy :  0.9866667 Test accyract :  0.9763\n",
      "28 Train accuracy :  1.0 Test accyract :  0.9785\n",
      "29 Train accuracy :  0.99333334 Test accyract :  0.973\n",
      "30 Train accuracy :  1.0 Test accyract :  0.9771\n",
      "31 Train accuracy :  0.99333334 Test accyract :  0.9763\n",
      "32 Train accuracy :  0.99333334 Test accyract :  0.9763\n",
      "33 Train accuracy :  0.98 Test accyract :  0.976\n",
      "34 Train accuracy :  0.99333334 Test accyract :  0.9741\n",
      "35 Train accuracy :  1.0 Test accyract :  0.9763\n",
      "36 Train accuracy :  1.0 Test accyract :  0.9755\n",
      "37 Train accuracy :  0.99333334 Test accyract :  0.9793\n",
      "38 Train accuracy :  0.98 Test accyract :  0.98\n",
      "39 Train accuracy :  1.0 Test accyract :  0.9771\n",
      "40 Train accuracy :  0.9866667 Test accyract :  0.9785\n",
      "41 Train accuracy :  0.97333336 Test accyract :  0.9802\n",
      "42 Train accuracy :  0.9866667 Test accyract :  0.9807\n",
      "43 Train accuracy :  0.99333334 Test accyract :  0.9786\n",
      "44 Train accuracy :  0.98 Test accyract :  0.9729\n",
      "45 Train accuracy :  0.99333334 Test accyract :  0.9793\n",
      "46 Train accuracy :  1.0 Test accyract :  0.9791\n",
      "47 Train accuracy :  1.0 Test accyract :  0.975\n",
      "48 Train accuracy :  1.0 Test accyract :  0.9789\n",
      "49 Train accuracy :  0.99333334 Test accyract :  0.9796\n",
      "50 Train accuracy :  0.99333334 Test accyract :  0.9783\n",
      "51 Train accuracy :  1.0 Test accyract :  0.9761\n",
      "52 Train accuracy :  1.0 Test accyract :  0.9727\n",
      "53 Train accuracy :  1.0 Test accyract :  0.9744\n",
      "54 Train accuracy :  0.98 Test accyract :  0.9797\n",
      "55 Train accuracy :  0.99333334 Test accyract :  0.9791\n",
      "56 Train accuracy :  0.99333334 Test accyract :  0.9758\n",
      "57 Train accuracy :  1.0 Test accyract :  0.9768\n",
      "58 Train accuracy :  1.0 Test accyract :  0.9774\n",
      "59 Train accuracy :  0.9866667 Test accyract :  0.9788\n",
      "60 Train accuracy :  1.0 Test accyract :  0.9795\n",
      "61 Train accuracy :  0.98 Test accyract :  0.9765\n",
      "62 Train accuracy :  0.99333334 Test accyract :  0.9759\n",
      "63 Train accuracy :  0.99333334 Test accyract :  0.9756\n",
      "64 Train accuracy :  0.9866667 Test accyract :  0.9761\n",
      "65 Train accuracy :  0.99333334 Test accyract :  0.9762\n",
      "66 Train accuracy :  1.0 Test accyract :  0.9757\n",
      "67 Train accuracy :  1.0 Test accyract :  0.9777\n",
      "68 Train accuracy :  0.99333334 Test accyract :  0.9799\n",
      "69 Train accuracy :  1.0 Test accyract :  0.9778\n",
      "70 Train accuracy :  0.9866667 Test accyract :  0.9727\n",
      "71 Train accuracy :  0.99333334 Test accyract :  0.9735\n",
      "72 Train accuracy :  0.99333334 Test accyract :  0.9733\n",
      "73 Train accuracy :  0.9866667 Test accyract :  0.976\n",
      "74 Train accuracy :  0.99333334 Test accyract :  0.9786\n",
      "75 Train accuracy :  0.9866667 Test accyract :  0.9767\n",
      "76 Train accuracy :  0.9866667 Test accyract :  0.9738\n",
      "77 Train accuracy :  1.0 Test accyract :  0.9769\n",
      "78 Train accuracy :  0.9866667 Test accyract :  0.9705\n",
      "79 Train accuracy :  1.0 Test accyract :  0.9751\n",
      "80 Train accuracy :  1.0 Test accyract :  0.9749\n",
      "81 Train accuracy :  0.97333336 Test accyract :  0.9756\n",
      "82 Train accuracy :  0.99333334 Test accyract :  0.9788\n",
      "83 Train accuracy :  0.9866667 Test accyract :  0.9775\n",
      "84 Train accuracy :  0.9866667 Test accyract :  0.976\n",
      "85 Train accuracy :  1.0 Test accyract :  0.978\n",
      "86 Train accuracy :  0.99333334 Test accyract :  0.9747\n",
      "87 Train accuracy :  0.99333334 Test accyract :  0.9774\n",
      "88 Train accuracy :  0.96666664 Test accyract :  0.9709\n",
      "89 Train accuracy :  0.99333334 Test accyract :  0.9766\n",
      "90 Train accuracy :  0.99333334 Test accyract :  0.9781\n",
      "91 Train accuracy :  0.99333334 Test accyract :  0.9792\n",
      "92 Train accuracy :  0.98 Test accyract :  0.9784\n",
      "93 Train accuracy :  1.0 Test accyract :  0.9766\n",
      "94 Train accuracy :  0.99333334 Test accyract :  0.973\n",
      "95 Train accuracy :  0.98 Test accyract :  0.9587\n",
      "96 Train accuracy :  1.0 Test accyract :  0.9762\n",
      "97 Train accuracy :  0.9866667 Test accyract :  0.9776\n",
      "98 Train accuracy :  0.99333334 Test accyract :  0.9753\n",
      "99 Train accuracy :  1.0 Test accyract :  0.976\n"
     ]
    }
   ],
   "source": [
    "n_epochs= 100\n",
    "batch_size = 150\n",
    "with tf.Session() as sess:\n",
    "    init.run()\n",
    "    for epoch in  range(n_epochs):\n",
    "        for iteration in range(mnist.train.num_examples // batch_size): # 60000/150 을 100번 반복해서 돈다.\n",
    "            X_batch, y_batch = mnist.train.next_batch(batch_size)\n",
    "            # 이미지 사이즈로 생성\n",
    "            X_batch = X_batch.reshape((-1,n_steps, n_inputs))\n",
    "            sess.run(training_op, feed_dict={X:X_batch, y:y_batch})\n",
    "        acc_train = accuracy.eval(feed_dict={X:X_batch, y:y_batch})\n",
    "        acc_test = accuracy.eval(feed_dict={X:X_test, y:y_test})\n",
    "        print(epoch, 'Train accuracy : ', acc_train, 'Test accyract : ',acc_test)"
   ]
  },
  {
   "cell_type": "code",
   "execution_count": null,
   "metadata": {},
   "outputs": [],
   "source": []
  },
  {
   "cell_type": "code",
   "execution_count": null,
   "metadata": {},
   "outputs": [],
   "source": []
  },
  {
   "cell_type": "code",
   "execution_count": null,
   "metadata": {},
   "outputs": [],
   "source": []
  },
  {
   "cell_type": "code",
   "execution_count": null,
   "metadata": {},
   "outputs": [],
   "source": []
  },
  {
   "cell_type": "code",
   "execution_count": null,
   "metadata": {},
   "outputs": [],
   "source": []
  },
  {
   "cell_type": "code",
   "execution_count": null,
   "metadata": {},
   "outputs": [],
   "source": []
  },
  {
   "cell_type": "code",
   "execution_count": null,
   "metadata": {},
   "outputs": [],
   "source": []
  },
  {
   "cell_type": "code",
   "execution_count": null,
   "metadata": {},
   "outputs": [],
   "source": []
  },
  {
   "cell_type": "code",
   "execution_count": null,
   "metadata": {},
   "outputs": [],
   "source": []
  },
  {
   "cell_type": "code",
   "execution_count": null,
   "metadata": {},
   "outputs": [],
   "source": []
  },
  {
   "cell_type": "code",
   "execution_count": null,
   "metadata": {},
   "outputs": [],
   "source": []
  },
  {
   "cell_type": "code",
   "execution_count": null,
   "metadata": {},
   "outputs": [],
   "source": []
  },
  {
   "cell_type": "code",
   "execution_count": null,
   "metadata": {},
   "outputs": [],
   "source": []
  },
  {
   "cell_type": "code",
   "execution_count": null,
   "metadata": {},
   "outputs": [],
   "source": []
  },
  {
   "cell_type": "code",
   "execution_count": null,
   "metadata": {},
   "outputs": [],
   "source": []
  },
  {
   "cell_type": "code",
   "execution_count": null,
   "metadata": {},
   "outputs": [],
   "source": []
  },
  {
   "cell_type": "code",
   "execution_count": null,
   "metadata": {},
   "outputs": [],
   "source": []
  },
  {
   "cell_type": "code",
   "execution_count": null,
   "metadata": {},
   "outputs": [],
   "source": []
  },
  {
   "cell_type": "code",
   "execution_count": null,
   "metadata": {},
   "outputs": [],
   "source": []
  },
  {
   "cell_type": "code",
   "execution_count": null,
   "metadata": {},
   "outputs": [],
   "source": []
  },
  {
   "cell_type": "code",
   "execution_count": null,
   "metadata": {},
   "outputs": [],
   "source": []
  },
  {
   "cell_type": "code",
   "execution_count": null,
   "metadata": {},
   "outputs": [],
   "source": []
  },
  {
   "cell_type": "code",
   "execution_count": null,
   "metadata": {},
   "outputs": [],
   "source": []
  },
  {
   "cell_type": "code",
   "execution_count": null,
   "metadata": {},
   "outputs": [],
   "source": []
  },
  {
   "cell_type": "code",
   "execution_count": null,
   "metadata": {},
   "outputs": [],
   "source": []
  },
  {
   "cell_type": "code",
   "execution_count": null,
   "metadata": {},
   "outputs": [],
   "source": []
  },
  {
   "cell_type": "code",
   "execution_count": null,
   "metadata": {},
   "outputs": [],
   "source": []
  },
  {
   "cell_type": "code",
   "execution_count": null,
   "metadata": {},
   "outputs": [],
   "source": []
  },
  {
   "cell_type": "code",
   "execution_count": null,
   "metadata": {},
   "outputs": [],
   "source": []
  },
  {
   "cell_type": "code",
   "execution_count": null,
   "metadata": {},
   "outputs": [],
   "source": []
  },
  {
   "cell_type": "code",
   "execution_count": null,
   "metadata": {},
   "outputs": [],
   "source": []
  },
  {
   "cell_type": "code",
   "execution_count": null,
   "metadata": {},
   "outputs": [],
   "source": []
  }
 ],
 "metadata": {
  "kernelspec": {
   "display_name": "Python 3",
   "language": "python",
   "name": "python3"
  },
  "language_info": {
   "codemirror_mode": {
    "name": "ipython",
    "version": 3
   },
   "file_extension": ".py",
   "mimetype": "text/x-python",
   "name": "python",
   "nbconvert_exporter": "python",
   "pygments_lexer": "ipython3",
   "version": "3.7.4"
  }
 },
 "nbformat": 4,
 "nbformat_minor": 2
}
