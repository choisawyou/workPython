{
 "cells": [
  {
   "cell_type": "code",
   "execution_count": 5,
   "metadata": {},
   "outputs": [
    {
     "name": "stdout",
     "output_type": "stream",
     "text": [
      "Extracting /tmp/data/train-images-idx3-ubyte.gz\n",
      "Extracting /tmp/data/train-labels-idx1-ubyte.gz\n",
      "Extracting /tmp/data/t10k-images-idx3-ubyte.gz\n",
      "Extracting /tmp/data/t10k-labels-idx1-ubyte.gz\n",
      "INFO:tensorflow:Restoring parameters from data/cnn_model.ckpt\n",
      "0.96875\n",
      "[7 2 1 0 4 1 4 9 5 9]\n"
     ]
    }
   ],
   "source": [
    "import tensorflow as tf\n",
    "from tensorflow.python.framework import ops\n",
    "from tensorflow.examples.tutorials.mnist import input_data\n",
    "mnist = input_data.read_data_sets('/tmp/data/', one_hot=True)\n",
    "\n",
    "ops.reset_default_graph() # 그래프 초기화\n",
    "tf.set_random_seed(777)\n",
    "sess = tf.InteractiveSession()\n",
    "new_saver = tf.train.import_meta_graph('data/cnn_model.ckpt.meta')\n",
    "new_saver.restore(sess, 'data/cnn_model.ckpt')\n",
    "tf.get_default_graph()\n",
    "Xi = sess.graph.get_tensor_by_name('input:0')\n",
    "Yi = sess.graph.get_tensor_by_name('output:0')\n",
    "keep = sess.graph.get_tensor_by_name('keep:0')\n",
    "accuracy = sess.graph.get_tensor_by_name('accuracy:0')\n",
    "prediction = sess.graph.get_tensor_by_name('prediction:0')\n",
    "\n",
    "result = sess.run(accuracy, feed_dict={Xi:mnist.test.images[:256], Yi:mnist.test.labels[:256], keep:1.0})\n",
    "\n",
    "predict = sess.run(tf.argmax(prediction,1),feed_dict={Xi:mnist.test.images[:10], Yi:mnist.test.labels[:10], keep:1.0})\n",
    "\n",
    "print(result)\n",
    "print(predict)\n"
   ]
  },
  {
   "cell_type": "code",
   "execution_count": 10,
   "metadata": {},
   "outputs": [
    {
     "ename": "NameError",
     "evalue": "name 'labels' is not defined",
     "output_type": "error",
     "traceback": [
      "\u001b[1;31m---------------------------------------------------------------------------\u001b[0m",
      "\u001b[1;31mNameError\u001b[0m                                 Traceback (most recent call last)",
      "\u001b[1;32m<ipython-input-10-f56b47fdc5f1>\u001b[0m in \u001b[0;36m<module>\u001b[1;34m\u001b[0m\n\u001b[0;32m      6\u001b[0m \u001b[1;33m\u001b[0m\u001b[0m\n\u001b[0;32m      7\u001b[0m \u001b[1;33m\u001b[0m\u001b[0m\n\u001b[1;32m----> 8\u001b[1;33m \u001b[0mprint\u001b[0m\u001b[1;33m(\u001b[0m\u001b[0mlen\u001b[0m\u001b[1;33m(\u001b[0m\u001b[0mlabels\u001b[0m\u001b[1;33m)\u001b[0m\u001b[1;33m)\u001b[0m \u001b[1;31m#1001\u001b[0m\u001b[1;33m\u001b[0m\u001b[1;33m\u001b[0m\u001b[0m\n\u001b[0m\u001b[0;32m      9\u001b[0m \u001b[1;32mdel\u001b[0m \u001b[0mlabels\u001b[0m\u001b[1;33m[\u001b[0m\u001b[1;36m0\u001b[0m\u001b[1;33m]\u001b[0m\u001b[1;33m\u001b[0m\u001b[1;33m\u001b[0m\u001b[0m\n\u001b[0;32m     10\u001b[0m \u001b[0mprint\u001b[0m\u001b[1;33m(\u001b[0m\u001b[0mlen\u001b[0m\u001b[1;33m(\u001b[0m\u001b[0mlabels\u001b[0m\u001b[1;33m)\u001b[0m\u001b[1;33m)\u001b[0m \u001b[1;31m#1000\u001b[0m\u001b[1;33m\u001b[0m\u001b[1;33m\u001b[0m\u001b[0m\n",
      "\u001b[1;31mNameError\u001b[0m: name 'labels' is not defined"
     ]
    }
   ],
   "source": [
    "import tensorflow as tf\n",
    "tf.set_random_seed(777)\n",
    "import sys\n",
    "from PIL import Image\n",
    "import numpy as np\n",
    "\n",
    "\n",
    "\n",
    "\n",
    "width = 299 \n",
    "height = 299\n",
    "color = 3 #색수\n",
    "X = tf.placeholder(dtype = tf.float32, shape = [None, width, height, color])\n",
    "\n",
    "logits, end_points = inception_v3.inception_v3(inputs=X, num_classes=1000, is_training=False, dropout_keep_prob=1.)\n",
    "\n",
    "prediction = tf.nn.softmax(logits)\n",
    "\n",
    "\n",
    "\n",
    "\n",
    "import tensorflow as tf\n",
    "from tensorflow.python.framework import ops\n",
    "from tensorflow.examples.tutorials.mnist import input_data\n",
    "mnist = input_data.read_data_sets('/tmp/data/', one_hot=True)\n",
    "\n",
    "ops.reset_default_graph() # 그래프 초기화\n",
    "tf.set_random_seed(777)\n",
    "sess = tf.InteractiveSession()\n",
    "# new_saver = tf.train.import_meta_graph('003_CNN/전달/inception/inception_v3.ckpt.meta')\n",
    "\n",
    "saver = tf.train.Saver() #모델 가중치 불러오기\n",
    "saver.restore(sess, '/전달/inception/inception_v3.ckpt')\n",
    "tf.get_default_graph()\n",
    "Xi = sess.graph.get_tensor_by_name('input:0')\n",
    "Yi = sess.graph.get_tensor_by_name('output:0')\n",
    "keep = sess.graph.get_tensor_by_name('keep:0')\n",
    "accuracy = sess.graph.get_tensor_by_name('accuracy:0')\n",
    "prediction = sess.graph.get_tensor_by_name('prediction:0')\n",
    "\n",
    "result = sess.run(accuracy, feed_dict={Xi:mnist.test.images[:256], Yi:mnist.test.labels[:256], keep:1.0})\n",
    "\n",
    "predict = sess.run(tf.argmax(prediction,1),feed_dict={Xi:mnist.test.images[:10], Yi:mnist.test.labels[:10], keep:1.0})\n",
    "\n",
    "print(result)\n",
    "print(predict)\n"
   ]
  },
  {
   "cell_type": "code",
   "execution_count": null,
   "metadata": {},
   "outputs": [],
   "source": []
  }
 ],
 "metadata": {
  "kernelspec": {
   "display_name": "Python 3",
   "language": "python",
   "name": "python3"
  },
  "language_info": {
   "codemirror_mode": {
    "name": "ipython",
    "version": 3
   },
   "file_extension": ".py",
   "mimetype": "text/x-python",
   "name": "python",
   "nbconvert_exporter": "python",
   "pygments_lexer": "ipython3",
   "version": "3.7.4"
  }
 },
 "nbformat": 4,
 "nbformat_minor": 2
}
