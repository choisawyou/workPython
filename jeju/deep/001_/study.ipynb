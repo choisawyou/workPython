{
 "cells": [
  {
   "cell_type": "code",
   "execution_count": 43,
   "metadata": {},
   "outputs": [
    {
     "name": "stdout",
     "output_type": "stream",
     "text": [
      "b'hello'\n",
      "Tensor(\"Const_19:0\", shape=(), dtype=string)\n"
     ]
    }
   ],
   "source": [
    "import tensorflow as tf\n",
    "hello = tf.constant('hello')\n",
    "sess = tf.Session()\n",
    "print(sess.run(hello))\n",
    "print(hello)"
   ]
  },
  {
   "cell_type": "code",
   "execution_count": 44,
   "metadata": {},
   "outputs": [
    {
     "name": "stdout",
     "output_type": "stream",
     "text": [
      "Tensor(\"x_4:0\", shape=(), dtype=int32)\n",
      "<tf.Variable 'y_4:0' shape=() dtype=int32_ref>\n",
      "35\n"
     ]
    }
   ],
   "source": [
    "\n",
    "x = tf.constant(35, name='x') \n",
    "\n",
    "y=tf.Variable(x+5, name='y') # Variable변수가 있는 경우- 반드시 초기화\n",
    "sess = tf.Session()\n",
    "print(x)\n",
    "print(y)\n",
    "print(sess.run(x))\n",
    "# print(sess.run(y)) # 초기화 하지 않아서 실행되지 않는다."
   ]
  },
  {
   "cell_type": "code",
   "execution_count": 45,
   "metadata": {},
   "outputs": [
    {
     "name": "stdout",
     "output_type": "stream",
     "text": [
      "40\n"
     ]
    }
   ],
   "source": [
    "init = tf.global_variables_initializer() # 변수 초기화\n",
    "\n",
    "sess.run(init)\n",
    "print(sess.run(y))"
   ]
  },
  {
   "cell_type": "code",
   "execution_count": 46,
   "metadata": {},
   "outputs": [
    {
     "name": "stdout",
     "output_type": "stream",
     "text": [
      "feed 변수의 합 :  5\n",
      "feed 변수의 곱 :  6\n",
      "feed 변수의 곱 :  30\n"
     ]
    }
   ],
   "source": [
    "a = tf.placeholder(tf.int16) # 데이터 공간 확보\n",
    "b = tf.placeholder(tf.int16)\n",
    "add = tf.add(a,b)\n",
    "mul = tf.multiply(a,b)\n",
    "total = tf.multiply(add, mul)\n",
    "\n",
    "sess = tf.Session()\n",
    "\n",
    "print('feed 변수의 합 : ',sess.run(add, feed_dict={a:2,b:3}))\n",
    "print('feed 변수의 곱 : ',sess.run(mul, feed_dict={a:2,b:3}))\n",
    "print('feed 변수의 곱 : ',sess.run(total, feed_dict={a:2,b:3}))"
   ]
  },
  {
   "cell_type": "code",
   "execution_count": 47,
   "metadata": {},
   "outputs": [],
   "source": [
    "# placeholder는 feed_dict에서 값을 넣어주면 타고타고 올라가서 계산한다."
   ]
  },
  {
   "cell_type": "code",
   "execution_count": 48,
   "metadata": {},
   "outputs": [
    {
     "name": "stdout",
     "output_type": "stream",
     "text": [
      "[[3. 3.]] \n",
      "\n",
      "[[2.]\n",
      " [2.]] \n",
      "\n",
      "[[12.]]\n"
     ]
    }
   ],
   "source": [
    "matrix1 = tf.constant([[3.,3.]]) # 1x2\n",
    "matrix2 = tf.constant([[2.],[2.]]) # 2x1 => 1x1\n",
    "product = tf.matmul(matrix1, matrix2) # 결과가없다.\n",
    "\n",
    "sess = tf.Session()\n",
    "\n",
    "print(sess.run(matrix1),'\\n')\n",
    "print(sess.run(matrix2),'\\n')\n",
    "result = sess.run(product) # 호출을 해야 계산이 된다.\n",
    "print(result)"
   ]
  },
  {
   "cell_type": "code",
   "execution_count": 49,
   "metadata": {},
   "outputs": [
    {
     "name": "stdout",
     "output_type": "stream",
     "text": [
      "[[0. 0.]\n",
      " [0. 0.]]\n",
      "[1. 1. 1. 1. 1. 1.]\n",
      "[[[1.1303079  3.0046117  1.1439049 ]\n",
      "  [4.720107   4.3737946  6.8310013 ]\n",
      "  [8.052029   2.7646685  0.5720222 ]]\n",
      "\n",
      " [[3.756175   7.313504   9.802452  ]\n",
      "  [4.73541    9.308826   2.376647  ]\n",
      "  [3.3324945  0.3140223  5.0217257 ]]\n",
      "\n",
      " [[8.700475   9.304394   0.572201  ]\n",
      "  [1.0697365  8.032145   6.386615  ]\n",
      "  [0.28264284 0.978781   0.4718697 ]]]\n",
      "[[[ 3.747987    4.747337    1.3955262 ]\n",
      "  [-1.8808072  -0.23395377  0.7796535 ]\n",
      "  [-1.8285902  -0.1717751   0.38936156]]\n",
      "\n",
      " [[ 0.3900049  -0.8544696  -0.1543081 ]\n",
      "  [-0.7635156  -1.6682619   2.3648043 ]\n",
      "  [ 0.78783816  1.6084886   0.04117389]]\n",
      "\n",
      " [[-3.1122088   1.7762533   5.887308  ]\n",
      "  [ 2.3410227  -0.01560754 -1.4018234 ]\n",
      "  [ 3.8890865   2.2116752  -1.9527235 ]]]\n",
      "[[4.703965  5.4831886]\n",
      " [4.0261602 5.3943777]]\n"
     ]
    }
   ],
   "source": [
    "zeros = tf.zeros([2,2]) # 0\n",
    "ones = tf.ones([6]) # 1\n",
    "\n",
    "# 균등분포\n",
    "# 3면, 3행, 3열 0 ~ 10 까지의 랜덤 숫자\n",
    "uniform = tf.random_uniform([3,3,3], minval=0.0, maxval=10)\n",
    "\n",
    "# 정규분포\n",
    "# stddev : 0-D 텐서 또는 dtype타입의 파이썬 값. 정규분포의 표준 편차\n",
    "# 반환값 : 정규 난수값들로 채워진 shape으로 정해진 텐서\n",
    "normal = tf.random_normal([3,3,3], mean=0.0, stddev = 2.0)\n",
    "\n",
    "# 표준편차 2배내의 것으로 초기화\n",
    "# stddev : 0-D 텐서 또는 파이썬 값. 절단정규분포의 표준 편차\n",
    "# 반환값 절단 정규 난수값들로 채워진 shape으로 정해진 텐서.\n",
    "trunc = tf.truncated_normal([2,2], mean=5.0, stddev=1.0)\n",
    "\n",
    "random_var = tf.Variable(tf.truncated_normal([2,2]))\n",
    "\n",
    "print(sess.run(zeros))\n",
    "print(sess.run(ones))\n",
    "print(sess.run(uniform))\n",
    "print(sess.run(normal))\n",
    "print(sess.run(trunc))\n",
    "# print(sess.run(random_var)) # 초기화 안함"
   ]
  },
  {
   "cell_type": "code",
   "execution_count": 50,
   "metadata": {},
   "outputs": [
    {
     "name": "stdout",
     "output_type": "stream",
     "text": [
      "[[5.9206176 4.5952644]\n",
      " [5.5912952 6.741829 ]]\n",
      "[[[8.905853   5.0972724  7.914318  ]\n",
      "  [0.22861242 7.466074   8.727892  ]\n",
      "  [4.6500015  4.613402   1.8345976 ]]\n",
      "\n",
      " [[7.896577   8.753833   8.205048  ]\n",
      "  [7.2505736  9.147243   0.4052651 ]\n",
      "  [9.0009     1.3365924  8.750042  ]]\n",
      "\n",
      " [[7.0118213  4.4525814  8.025721  ]\n",
      "  [8.759977   8.322245   3.5348928 ]\n",
      "  [6.7314887  0.86984277 5.5000854 ]]]\n",
      "변수초기화\n",
      " [[-0.7907693   1.4835737 ]\n",
      " [ 0.89962053 -0.83974767]]\n"
     ]
    }
   ],
   "source": [
    "init = tf.global_variables_initializer()\n",
    "sess =tf.Session()\n",
    "sess.run(init) # 초기화 \n",
    "\n",
    "print(sess.run(trunc))\n",
    "print(sess.run(uniform))\n",
    "print('변수초기화\\n',sess.run(random_var))"
   ]
  },
  {
   "cell_type": "code",
   "execution_count": 51,
   "metadata": {},
   "outputs": [
    {
     "name": "stdout",
     "output_type": "stream",
     "text": [
      "(6, 2)\n",
      "Tensor(\"zeros_24:0\", shape=(6, 2), dtype=int32)\n",
      "(6, 2)\n",
      "(6, 2)\n"
     ]
    }
   ],
   "source": [
    "my_tensor = tf.constant(0, shape=[6,2])\n",
    "z = tf.zeros([6,2], dtype='int32')\n",
    "\n",
    "print(my_tensor.get_shape())\n",
    "print(z)\n",
    "sess = tf.Session()\n",
    "print(sess.run(my_tensor).shape)\n",
    "print(sess.run(z).shape)\n",
    "\n",
    "\n",
    "# sess을 하면 shape으로 차원확인 가능\n",
    "# sess를 하기전에 get_shape()으로 확인가능"
   ]
  },
  {
   "cell_type": "code",
   "execution_count": 52,
   "metadata": {},
   "outputs": [
    {
     "name": "stdout",
     "output_type": "stream",
     "text": [
      "(2, 6)\n"
     ]
    }
   ],
   "source": [
    "my_tensor_transposed = tf.transpose(my_tensor) # 행과 열을 바꿔준다.\n",
    "print(my_tensor_transposed.get_shape())"
   ]
  },
  {
   "cell_type": "code",
   "execution_count": 54,
   "metadata": {},
   "outputs": [
    {
     "name": "stdout",
     "output_type": "stream",
     "text": [
      "[0. 0.]\n",
      "(2,)\n",
      "(2,)\n"
     ]
    }
   ],
   "source": [
    "tf.InteractiveSession() # 대화형 세션을 호출하는것\n",
    "a = tf.zeros(2)\n",
    "print(a.eval())\n",
    "print(a.shape)\n",
    "print(a.get_shape())"
   ]
  },
  {
   "cell_type": "code",
   "execution_count": 55,
   "metadata": {},
   "outputs": [
    {
     "name": "stdout",
     "output_type": "stream",
     "text": [
      "[0. 0.]\n"
     ]
    }
   ],
   "source": [
    "def showvalue(t):\n",
    "    sess = tf.InteractiveSession()\n",
    "    # sess.run(init) 을 줄일수 있다? 대화형으로 쓸수 있다.\n",
    "    tf.global_variables_initializer().run()\n",
    "    print(t.eval())\n",
    "    # session을 닫아준다.\n",
    "    sess.close()\n",
    "showvalue(a)"
   ]
  },
  {
   "cell_type": "code",
   "execution_count": 60,
   "metadata": {},
   "outputs": [
    {
     "name": "stdout",
     "output_type": "stream",
     "text": [
      "[ 3.5 10.1]\n",
      "[-8  5 17]\n"
     ]
    }
   ],
   "source": [
    "c2, c3 = tf.constant([1.2,5.6]), tf.constant([-4,-1,7])\n",
    "v2,v3 = tf.Variable([2.3,4.5]), tf.Variable([-2,3,5])\n",
    "showvalue(tf.add_n([c2,v2]))\n",
    "showvalue(tf.add_n([c3, v3,v3])) # add_n 여러개 가능"
   ]
  },
  {
   "cell_type": "code",
   "execution_count": null,
   "metadata": {},
   "outputs": [],
   "source": [
    "# 2x+y+z=1\n",
    "# 4x+3y+4z=2\n",
    "# -4x+2y+3z=-6"
   ]
  },
  {
   "cell_type": "code",
   "execution_count": 80,
   "metadata": {},
   "outputs": [
    {
     "name": "stdout",
     "output_type": "stream",
     "text": [
      "[[ 2.  1.  1.]\n",
      " [ 4.  3.  4.]\n",
      " [-4.  2.  2.]]\n",
      "[[ 1.]\n",
      " [ 2.]\n",
      " [-6.]]\n",
      "(3, 3)\n",
      "(3, 1)\n"
     ]
    }
   ],
   "source": [
    "X = tf.constant([2,1,1,4,3,4,-4,2,2], shape=[3,3], dtype=tf.float64)\n",
    "y = tf.constant([1,2,-6], shape=[3,1], dtype=tf.float64)\n",
    "sess = tf.InteractiveSession()\n",
    "\n",
    "print(X.eval())\n",
    "print(y.eval())\n",
    "print(X.shape)\n",
    "print(y.shape)"
   ]
  },
  {
   "cell_type": "code",
   "execution_count": 81,
   "metadata": {},
   "outputs": [
    {
     "data": {
      "text/plain": [
       "array([[ 1.],\n",
       "       [-2.],\n",
       "       [ 1.]])"
      ]
     },
     "execution_count": 81,
     "metadata": {},
     "output_type": "execute_result"
    }
   ],
   "source": [
    "# 역행렬을 구하고 정답 행렬곱하여 x,y,z결과 추출\n",
    "XT = tf.matrix_inverse(X)\n",
    "z = tf.matmul(XT,y)\n",
    "z.eval()"
   ]
  },
  {
   "cell_type": "code",
   "execution_count": 85,
   "metadata": {},
   "outputs": [
    {
     "data": {
      "text/plain": [
       "array([[ 2.50000000e-01,  2.22044605e-16, -1.25000000e-01],\n",
       "       [ 3.00000000e+00, -1.00000000e+00,  5.00000000e-01],\n",
       "       [-2.50000000e+00,  1.00000000e+00, -2.50000000e-01]])"
      ]
     },
     "execution_count": 85,
     "metadata": {},
     "output_type": "execute_result"
    }
   ],
   "source": [
    "# 역행렬\n",
    "XT.eval()"
   ]
  },
  {
   "cell_type": "code",
   "execution_count": 82,
   "metadata": {},
   "outputs": [
    {
     "data": {
      "text/plain": [
       "array([[ 1.],\n",
       "       [-2.],\n",
       "       [ 1.]])"
      ]
     },
     "execution_count": 82,
     "metadata": {},
     "output_type": "execute_result"
    }
   ],
   "source": [
    "# 앞에 X의 역행렬을 알아서 구하고 곱해주고, x,y,z를 구한다.\n",
    "z = tf.matrix_solve(X,y)\n",
    "z.eval()"
   ]
  },
  {
   "cell_type": "code",
   "execution_count": 84,
   "metadata": {},
   "outputs": [
    {
     "data": {
      "text/plain": [
       "array([[ 1.],\n",
       "       [ 2.],\n",
       "       [-6.]])"
      ]
     },
     "execution_count": 84,
     "metadata": {},
     "output_type": "execute_result"
    }
   ],
   "source": [
    "# 검산\n",
    "new_x = tf.matmul(X,z)\n",
    "new_x.eval()"
   ]
  },
  {
   "cell_type": "markdown",
   "metadata": {},
   "source": [
    "## 이부분 이상함"
   ]
  },
  {
   "cell_type": "code",
   "execution_count": 104,
   "metadata": {},
   "outputs": [
    {
     "name": "stdout",
     "output_type": "stream",
     "text": [
      "[[1. 4.]\n",
      " [2. 5.]\n",
      " [3. 6.]]\n",
      "U [[3.7416573 5.6568537]\n",
      " [5.6568537 8.774964 ]]\n",
      "V [[17. 22. 27.]\n",
      " [22. 29. 36.]\n",
      " [27. 36. 45.]]\n"
     ]
    }
   ],
   "source": [
    "a = tf.constant([1,2,3,4,5,6], shape=[2,3],dtype=tf.float32)\n",
    "a_ = tf.transpose(a)\n",
    "print(a_.eval())\n",
    "u = tf.matmul(a,a_)\n",
    "print('U',tf.sqrt(u).eval())\n",
    "v = tf.matmul(a_,a)\n",
    "print('V',v.eval())\n",
    "# s = tf.matmul(u,v)\n",
    "# s.eval()\n"
   ]
  },
  {
   "cell_type": "code",
   "execution_count": 98,
   "metadata": {},
   "outputs": [
    {
     "name": "stdout",
     "output_type": "stream",
     "text": [
      "[[1. 2. 3.]\n",
      " [4. 5. 6.]] \n",
      "\n",
      "[[-0.38631773 -0.92236584]\n",
      " [-0.92236584  0.38631773]] \n",
      "\n",
      "[9.508034   0.77286935] \n",
      "\n",
      "[[-0.42866713  0.8059641 ]\n",
      " [-0.56630695  0.1123824 ]\n",
      " [-0.70394677 -0.58119917]]\n"
     ]
    }
   ],
   "source": [
    "u,s,v = tf.svd(a) # singula value : s(1,2), left singular value : u(2,2), right singular value : v(3,2)\n",
    "\n",
    "print(sess.run(a),'\\n')\n",
    "print(sess.run(s),'\\n')\n",
    "print(sess.run(u),'\\n')\n",
    "print(sess.run(v))"
   ]
  },
  {
   "cell_type": "code",
   "execution_count": 106,
   "metadata": {},
   "outputs": [
    {
     "data": {
      "text/plain": [
       "array([[1, 0, 0, 0],\n",
       "       [0, 2, 0, 0],\n",
       "       [0, 0, 3, 0],\n",
       "       [0, 0, 0, 4]])"
      ]
     },
     "execution_count": 106,
     "metadata": {},
     "output_type": "execute_result"
    }
   ],
   "source": [
    "diagonal = [1,2,3,4]\n",
    "dia = tf.diag(diagonal)\n",
    "dia.eval()"
   ]
  },
  {
   "cell_type": "code",
   "execution_count": 110,
   "metadata": {},
   "outputs": [
    {
     "name": "stdout",
     "output_type": "stream",
     "text": [
      "[1 2 3 4]\n",
      "10\n"
     ]
    }
   ],
   "source": [
    "print(tf.diag_part(dia).eval()) # 대각행의 원소 추출\n",
    "print(tf.trace(dia).eval()) # 대각 행렬의 합"
   ]
  },
  {
   "cell_type": "code",
   "execution_count": 111,
   "metadata": {},
   "outputs": [
    {
     "name": "stdout",
     "output_type": "stream",
     "text": [
      "[[ 58  64]\n",
      " [139 154]]\n"
     ]
    }
   ],
   "source": [
    "import numpy as np\n",
    "a = tf.constant([1,2,3,4,5,6], shape=[2,3])\n",
    "b = tf.constant([7,8,9,10,11,12], shape=[3,2])\n",
    "c = tf.matmul(a,b)\n",
    "print(c.eval()) # 2x2"
   ]
  },
  {
   "cell_type": "code",
   "execution_count": 116,
   "metadata": {},
   "outputs": [
    {
     "name": "stdout",
     "output_type": "stream",
     "text": [
      "[[[ 1  2  3]\n",
      "  [ 4  5  6]]\n",
      "\n",
      " [[ 7  8  9]\n",
      "  [10 11 12]]]\n",
      "[[[13 14]\n",
      "  [15 16]\n",
      "  [17 18]]\n",
      "\n",
      " [[19 20]\n",
      "  [21 22]\n",
      "  [23 24]]]\n"
     ]
    },
    {
     "data": {
      "text/plain": [
       "array([[[ 94, 100],\n",
       "        [229, 244]],\n",
       "\n",
       "       [[508, 532],\n",
       "        [697, 730]]])"
      ]
     },
     "execution_count": 116,
     "metadata": {},
     "output_type": "execute_result"
    }
   ],
   "source": [
    "a = tf.constant(np.arange(1,13), dtype=tf.int32, shape=[2,2,3])\n",
    "print(a.eval())\n",
    "b = tf.constant(np.arange(13,25), dtype=np.int32, shape=[2,3,2])\n",
    "print(b.eval())\n",
    "c = tf.matmul(a,b)\n",
    "c.eval()"
   ]
  },
  {
   "cell_type": "code",
   "execution_count": 134,
   "metadata": {},
   "outputs": [
    {
     "name": "stdout",
     "output_type": "stream",
     "text": [
      "[[[[ 1  2  3]\n",
      "   [ 4  5  6]]\n",
      "\n",
      "  [[ 7  8  9]\n",
      "   [10 11 12]]]\n",
      "\n",
      "\n",
      " [[[13 14 15]\n",
      "   [16 17 18]]\n",
      "\n",
      "  [[19 20 21]\n",
      "   [22 23 24]]]] \n",
      "\n",
      "[[[[25 26]\n",
      "   [27 28]\n",
      "   [29 30]]\n",
      "\n",
      "  [[31 32]\n",
      "   [33 34]\n",
      "   [35 36]]]\n",
      "\n",
      "\n",
      " [[[37 38]\n",
      "   [39 40]\n",
      "   [41 42]]\n",
      "\n",
      "  [[43 44]\n",
      "   [45 46]\n",
      "   [47 48]]]] \n",
      "\n",
      "(2, 2, 2, 2)\n"
     ]
    }
   ],
   "source": [
    "a = tf.constant(np.arange(1,25, dtype=np.int32), shape=[2,2,2,3]) # 행렬을 중심하고 데이터 표현, 차원?, 행,열\n",
    "print(sess.run(a),'\\n')\n",
    "b = tf.constant(np.arange(25,49,dtype=np.int32), shape=[2,2,3,2])\n",
    "print(sess.run(b),'\\n')\n",
    "c = tf.matmul(a,b)\n",
    "\n",
    "print(c.get_shape())"
   ]
  },
  {
   "cell_type": "code",
   "execution_count": 139,
   "metadata": {},
   "outputs": [
    {
     "name": "stdout",
     "output_type": "stream",
     "text": [
      "[[[[  14   32]\n",
      "   [  32   77]]\n",
      "\n",
      "  [[ 194  266]\n",
      "   [ 266  365]]]\n",
      "\n",
      "\n",
      " [[[ 590  716]\n",
      "   [ 716  869]]\n",
      "\n",
      "  [[1202 1382]\n",
      "   [1382 1589]]]]\n",
      "(2, 2, 2, 2)\n",
      "[[[[  17   22   27]\n",
      "   [  22   29   36]\n",
      "   [  27   36   45]]\n",
      "\n",
      "  [[ 149  166  183]\n",
      "   [ 166  185  204]\n",
      "   [ 183  204  225]]]\n",
      "\n",
      "\n",
      " [[[ 425  454  483]\n",
      "   [ 454  485  516]\n",
      "   [ 483  516  549]]\n",
      "\n",
      "  [[ 845  886  927]\n",
      "   [ 886  929  972]\n",
      "   [ 927  972 1017]]]]\n",
      "(2, 2, 3, 3)\n"
     ]
    }
   ],
   "source": [
    "d = tf.matmul(a, tf.transpose(a, perm=[0,1,3,2]))\n",
    "print(sess.run(d))\n",
    "print(d.get_shape())\n",
    "# 뒤에것을 전치 시킨다.\n",
    "d_2 = tf.matmul(a,a,transpose_b=True) # 전치해서 자기 제곱\n",
    "# 앞에 것을 전치시킨다.\n",
    "# d_2 = tf.matmul(a,a,transpose_a=True) # 전치해서 자기 제곱\n",
    "print(sess.run(d_2))\n",
    "print(d_2.get_shape())"
   ]
  },
  {
   "cell_type": "code",
   "execution_count": 143,
   "metadata": {},
   "outputs": [
    {
     "name": "stdout",
     "output_type": "stream",
     "text": [
      "[[ 1  2  3  4  5  6]\n",
      " [ 7  8  9 10 11 12]] \n",
      "\n",
      "[[ 1  2  3  4  5  6]\n",
      " [ 7  8  9 10 11 12]] \n",
      "\n",
      "[[[ 1  2  3]\n",
      "  [ 4  5  6]]\n",
      "\n",
      " [[ 7  8  9]\n",
      "  [10 11 12]]]\n"
     ]
    }
   ],
   "source": [
    "tensor = np.arange(1,13)\n",
    "print(sess.run(tf.reshape(tensor, [2,-1])), '\\n') # -1이 있으면 게산해서 채워라\n",
    "print(sess.run(tf.reshape(tensor,[-1,6])),'\\n')\n",
    "print(sess.run(tf.reshape(tensor, [2,-1,3])))"
   ]
  },
  {
   "cell_type": "code",
   "execution_count": 152,
   "metadata": {},
   "outputs": [
    {
     "name": "stdout",
     "output_type": "stream",
     "text": [
      "Tensor(\"ExpandDims_6:0\", shape=(2, 1, 3, 1, 1), dtype=int32)\n"
     ]
    }
   ],
   "source": [
    "# t : 1,2,1,3,1,1\n",
    "t = [1,2,3,4,5,6]\n",
    "t = tf.reshape(t, [2,3,1,1])\n",
    "print(tf.expand_dims(t,1)) # 차원확대, 인덱스 번호 자리에 차원확대\n",
    "# 원하는 숫자는 넣지 못한다."
   ]
  },
  {
   "cell_type": "code",
   "execution_count": 155,
   "metadata": {},
   "outputs": [
    {
     "data": {
      "text/plain": [
       "array([[0, 0, 0, 0, 0],\n",
       "       [0, 1, 2, 3, 0],\n",
       "       [0, 4, 5, 6, 0],\n",
       "       [0, 0, 0, 0, 0]])"
      ]
     },
     "execution_count": 155,
     "metadata": {},
     "output_type": "execute_result"
    }
   ],
   "source": [
    "# padding 충전\n",
    "t = np.arange(1,7).reshape(2,3)\n",
    "paddings = [[1,1],[1,1]]\n",
    "tf.pad(t, paddings, 'CONSTANT').eval()\n",
    "# tf.pad(t, paddings, 'REFLECT').eval()\n",
    "# tf.pad(t, paddings, 'SYMMETRIC').eval()\n",
    "# CONSTNT : 0\n",
    "# REFLECT : 번호를 중심으로 대칭\n",
    "# SYMMETRIC : 번호를 그대로 채운다."
   ]
  },
  {
   "cell_type": "code",
   "execution_count": 170,
   "metadata": {},
   "outputs": [
    {
     "data": {
      "text/plain": [
       "100"
      ]
     },
     "execution_count": 170,
     "metadata": {},
     "output_type": "execute_result"
    }
   ],
   "source": [
    "x_data = np.random.rand(100).astype(np.float32)\n",
    "y_data = x_data * 0.1 + 0.3\n",
    "len(x_data)"
   ]
  },
  {
   "cell_type": "code",
   "execution_count": 178,
   "metadata": {},
   "outputs": [
    {
     "data": {
      "text/plain": [
       "array([-0.15593767], dtype=float32)"
      ]
     },
     "execution_count": 178,
     "metadata": {},
     "output_type": "execute_result"
    }
   ],
   "source": [
    "W = tf.Variable(tf.random_uniform([1], -1.0,1.0)) # 균등분포 -1~1\n",
    "b = tf.Variable(tf.zeros([1])) # 바이어스\n",
    "sess = tf.Session()\n",
    "y = W * x_data + b\n",
    "tf.global_variables_initializer().run()\n",
    "W.eval()\n",
    "\n",
    "# b.eval()"
   ]
  },
  {
   "cell_type": "code",
   "execution_count": 186,
   "metadata": {},
   "outputs": [
    {
     "data": {
      "text/plain": [
       "<tf.Operation 'GradientDescent_7' type=NoOp>"
      ]
     },
     "execution_count": 186,
     "metadata": {},
     "output_type": "execute_result"
    }
   ],
   "source": [
    "# lost function : mse : 2차원인 경우 포물선을 이루고 최적점은 한개\n",
    "# reduce_mean : 텐서의 차원에서 요소의 평균을 계산합니다\n",
    "loss = tf.reduce_mean(tf.square(y - y_data))\n",
    "# 경사하강법\n",
    "# 기울기 : 미분을 이용, 기울기가 - 이면 가중치에 차를 더하고\n",
    "# + 뺀다.\n",
    "optimizer = tf.train.GradientDescentOptimizer(0.5) # 학습율\n",
    "train = optimizer.minimize(loss) # loss 최적화\n",
    "\n",
    "loss.eval()\n",
    "optimizer\n",
    "train"
   ]
  },
  {
   "cell_type": "code",
   "execution_count": null,
   "metadata": {},
   "outputs": [],
   "source": []
  },
  {
   "cell_type": "code",
   "execution_count": null,
   "metadata": {},
   "outputs": [],
   "source": []
  },
  {
   "cell_type": "code",
   "execution_count": null,
   "metadata": {},
   "outputs": [],
   "source": []
  },
  {
   "cell_type": "code",
   "execution_count": null,
   "metadata": {},
   "outputs": [],
   "source": []
  },
  {
   "cell_type": "code",
   "execution_count": null,
   "metadata": {},
   "outputs": [],
   "source": []
  },
  {
   "cell_type": "code",
   "execution_count": null,
   "metadata": {},
   "outputs": [],
   "source": []
  },
  {
   "cell_type": "code",
   "execution_count": null,
   "metadata": {},
   "outputs": [],
   "source": []
  },
  {
   "cell_type": "code",
   "execution_count": null,
   "metadata": {},
   "outputs": [],
   "source": []
  },
  {
   "cell_type": "code",
   "execution_count": null,
   "metadata": {},
   "outputs": [],
   "source": []
  },
  {
   "cell_type": "code",
   "execution_count": null,
   "metadata": {},
   "outputs": [],
   "source": []
  },
  {
   "cell_type": "code",
   "execution_count": null,
   "metadata": {},
   "outputs": [],
   "source": []
  },
  {
   "cell_type": "code",
   "execution_count": null,
   "metadata": {},
   "outputs": [],
   "source": []
  }
 ],
 "metadata": {
  "kernelspec": {
   "display_name": "Python 3",
   "language": "python",
   "name": "python3"
  },
  "language_info": {
   "codemirror_mode": {
    "name": "ipython",
    "version": 3
   },
   "file_extension": ".py",
   "mimetype": "text/x-python",
   "name": "python",
   "nbconvert_exporter": "python",
   "pygments_lexer": "ipython3",
   "version": "3.7.4"
  }
 },
 "nbformat": 4,
 "nbformat_minor": 2
}
