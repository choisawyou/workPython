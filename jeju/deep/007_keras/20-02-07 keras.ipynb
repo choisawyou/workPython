{
 "cells": [
  {
   "cell_type": "code",
   "execution_count": 1,
   "metadata": {},
   "outputs": [],
   "source": [
    "# 지금까지 \n",
    "# constant , variables( 가중치 저장되는 공간 ) , placeholder( 데이터 주입)\n",
    "# 가중치가 들어오는 데이터와 행렬연산을 통해 오차기반 학습을 했다 \n",
    "# for 문을 이용해서 epoch 와 batchsize 를 돌렸다  ---> keras 에서는 for문 안쓰고, fit 함수를 이용해서 한번에 가능하다 (tensorflow 는 그 fit 내용을 이해하기 위해 배웠음)\n"
   ]
  },
  {
   "cell_type": "code",
   "execution_count": 2,
   "metadata": {},
   "outputs": [],
   "source": [
    "# keras \n",
    "#keras 의 backend :  tensorflow, CNTK, Theano ( 즉 이런것등을 추가해서 묶은것이다 =  keras 는 왼쪽것들을 wrapper 시킨것이다. )\n",
    "# keras 의 compile  (compile 은 loss, activation, optimizer 이런것을 말함. compile 아래에 저런것들이 있음 )\n",
    "# keras 는 model 을 layer 방식으로 만들었다(=가중치 선언할필요가 없다), keras에서는 return 받는 과정이 생략된다 ( 점찍고 함수 호출하고 )\n",
    "# layer 로 만들어졌기때문에 다른것들도 layer 로 구성되어있는데 Input, Dense, CNN, RNN 모두 layer 로 만들었다 (input dense 통과하면 회귀망)\n",
    "# 즉 keras 는 출력 차수 값만 지정하면 된다 \n",
    "\n",
    "# keras 에서 model 을 만드는 방법\n",
    "# 1. sequential  ( 간단한 망, simple input, simple output) \n",
    "# 2. functional ( multi input, multi output ( ex. 한쪽은 이미지 한쪽은 텍스트를 받아서 RNN 망 학습시키면 이미지를 텍스트로 번역할수있다))\n",
    "# 3. model  ( 상속을 받아서 하는 것으로 class base 로 프로그램을 하게 만들어줬다 )\n",
    "\n",
    "\n",
    "# evaluate 하고 predict  ( evaluate 에는 test 데이터 넣어주고 predict 에는 실제 사용할 데이터 넣어주면 된다 ) \n",
    "\n",
    "#  keras 는 scikit 과 연결되어있는데 그래서 classifier 와 regressor 을 이용해서 ? \n",
    "# scikit 의 장점은 pipeline, gridsearchcv  \n",
    "# 사이킷에 있는 gridsearchcv 를 이용해서 최적의 하이퍼파라미터를 정해질수 있게끔 해준다 (즉 keras 는 하이퍼파라미터 튜닝 기능 사용할 수 있다 )"
   ]
  },
  {
   "cell_type": "code",
   "execution_count": 3,
   "metadata": {},
   "outputs": [],
   "source": [
    "# application  transform learning(처음부터 가중치를 학습시키는 것은 오래걸림)\n",
    "# 즉 대표적인 분야에서 pre training 을 해둔다 ( pretrainging 하면 어느정도 가중치가 학습되어있다 ) \n",
    "# 가중치를 처음부터 학습하지 않고, -> 그니까 빨리 적합할수있다 "
   ]
  },
  {
   "cell_type": "code",
   "execution_count": 4,
   "metadata": {},
   "outputs": [],
   "source": [
    "# GRU  ( LSTM 보다 속도 빠름 ) \n",
    "# GRU 에서 sequence2sequence 했음 "
   ]
  },
  {
   "cell_type": "code",
   "execution_count": 5,
   "metadata": {},
   "outputs": [],
   "source": [
    "# NMT -> transformer -> BERT (transform 이용해서 양방향으로 작동하게 하는 망) "
   ]
  },
  {
   "cell_type": "code",
   "execution_count": 6,
   "metadata": {},
   "outputs": [],
   "source": [
    "# image , movie -> opencv\n",
    "# sound  -> librosa\n",
    "# text -> mltk, corpus"
   ]
  },
  {
   "cell_type": "code",
   "execution_count": null,
   "metadata": {},
   "outputs": [],
   "source": []
  },
  {
   "cell_type": "code",
   "execution_count": null,
   "metadata": {},
   "outputs": [],
   "source": []
  },
  {
   "cell_type": "code",
   "execution_count": null,
   "metadata": {},
   "outputs": [],
   "source": []
  },
  {
   "cell_type": "code",
   "execution_count": null,
   "metadata": {},
   "outputs": [],
   "source": []
  },
  {
   "cell_type": "code",
   "execution_count": 7,
   "metadata": {},
   "outputs": [],
   "source": [
    "# 오늘 : 파라미터 튜닝, 기본구조"
   ]
  },
  {
   "cell_type": "code",
   "execution_count": 1,
   "metadata": {},
   "outputs": [
    {
     "name": "stderr",
     "output_type": "stream",
     "text": [
      "Using TensorFlow backend.\n"
     ]
    },
    {
     "name": "stdout",
     "output_type": "stream",
     "text": [
      "WARNING:tensorflow:From C:\\ProgramData\\Anaconda3\\lib\\site-packages\\keras\\backend\\tensorflow_backend.py:422: The name tf.global_variables is deprecated. Please use tf.compat.v1.global_variables instead.\n",
      "\n",
      "입력데이터=[0.29466096 0.30317302], 예측결과=[0.5031222]\n",
      "입력데이터=[0.39445118 0.79390858], 예측결과=[0.63287973]\n",
      "입력데이터=[0.02884127 0.6208843 ], 예측결과=[0.5568099]\n"
     ]
    }
   ],
   "source": [
    "# 회귀 \n",
    "from keras.models import Sequential  # sequential -> models 서브패키지 \n",
    "from keras.layers import Dense       # layers 에서 모델 구성을 한다 ( Dense 등 ) \n",
    "from sklearn.datasets import make_regression\n",
    "\n",
    "# 신경망에서는 정규화를 해야한다 \n",
    "from sklearn.preprocessing import MinMaxScaler\n",
    "\n",
    "X, y= make_regression(n_samples=100, n_features=2, noise=0.1, random_state=1) # 샘플100개, feature2니까 100x2 ( -> y는 100개가 만들어짐 )\n",
    "\n",
    "scalarX, scalarY = MinMaxScaler(), MinMaxScaler() # 민맥스 2개를 만든 이유는? 데이터 사이즈가 다르기 때문이다 .(값의 범위가 다르니까)\n",
    "scalarX.fit(X)\n",
    "scalarY.fit(y.reshape(100,1)) # 행으로\n",
    "model = Sequential()\n",
    "y = scalarY.transform(y.reshape(100,1))\n",
    "# 여기서부터 keras model 시작 \n",
    "model = Sequential() # sequential 모델 사용했다 \n",
    "model.add(Dense(4, input_dim=2, activation='relu')) \n",
    "##>>  dense 가 출력차수만 지정하면 가중치를 알아서 만들어준다 ( 100x2 가 들어왔고 dense 가 출력 2x4 를 만들어준다 )\n",
    "model.add(Dense(4,activation='relu')) # 두번째층의 입력망은 100x4 이다. 가중치는 4x4 이다. 출력차수는 100x4 가 됨 \n",
    "model.add(Dense(1,activation='linear')) # 입력은 100x4, 가중치는 4x1  출력은 100x1 이다.(즉 100x1 로 예측이된다)  \n",
    "\n",
    "\n",
    "# 모델을 만들어두고, compile 하는 것은 ? backend 가 tensorflow 이기 때문이다 (즉 tesnorflow 로 바꿔주는 것이 compile 이다 )\n",
    "model.compile(loss='mse', optimizer='adam') # compile 은 tensorflow 로 모델을 변형하는 역할을 한다 \n",
    "# >>> compile 쓰니까 간단하게 loss, optimizer 동시 사용 가능\n",
    "#loss 함수 :  회귀일땐 mse, 분류일때는 enthropy, gan 에서는 KL-divergence(이건 분포를 비교해준다) \n",
    "\n",
    "# tesnorflow 에서는 이중 for 문을 썼었다 ( 위에 for 문은 epoch, 밑에 for문은 minibatch 였음) 근데 keras 에서는 아래처럼 간단\n",
    "model.fit(X, y ,epochs=1000, verbose=0) # X 는 100x2,  출력차수는 2x4 이다.  \n",
    "\n",
    "\n",
    "# 테스트 해보려고 새로운 샘플을 만들었다 \n",
    "Xnew, a = make_regression(n_samples=3, n_features=2, noise=0.1, random_state=1)\n",
    "Xnew = scalarX.transform(Xnew)\n",
    "ynew = model.predict(Xnew)\n",
    "for i in range(len(Xnew)):\n",
    "    print('입력데이터=%s, 예측결과=%s' % (Xnew[i], ynew[i]))\n",
    "    \n",
    "                          "
   ]
  },
  {
   "cell_type": "code",
   "execution_count": 9,
   "metadata": {},
   "outputs": [],
   "source": [
    "# keras \n",
    "# model에 add 해서 layer 를 추가하면 된다 (keras 가 알아서 layer 를 많이 만들어뒀음. 그 중에 많이 쓰는 것이 dense망 이다)\n",
    "# dense 망은 FFNN 망을만들때 쓴다 "
   ]
  },
  {
   "cell_type": "code",
   "execution_count": null,
   "metadata": {},
   "outputs": [],
   "source": []
  },
  {
   "cell_type": "code",
   "execution_count": null,
   "metadata": {},
   "outputs": [],
   "source": []
  },
  {
   "cell_type": "code",
   "execution_count": 10,
   "metadata": {},
   "outputs": [
    {
     "name": "stdout",
     "output_type": "stream",
     "text": [
      "WARNING:tensorflow:From C:\\Users\\ICT01_10\\Anaconda3\\lib\\site-packages\\tensorflow\\python\\ops\\nn_impl.py:180: add_dispatch_support.<locals>.wrapper (from tensorflow.python.ops.array_ops) is deprecated and will be removed in a future version.\n",
      "Instructions for updating:\n",
      "Use tf.where in 2.0, which has the same broadcast rule as np.where\n",
      "Epoch 1/150\n",
      "768/768 [==============================] - 0s 423us/step - loss: 3.1751 - accuracy: 0.5820\n",
      "Epoch 2/150\n",
      "768/768 [==============================] - 0s 104us/step - loss: 0.9555 - accuracy: 0.5716\n",
      "Epoch 3/150\n",
      "768/768 [==============================] - 0s 87us/step - loss: 0.7622 - accuracy: 0.6302\n",
      "Epoch 4/150\n",
      "768/768 [==============================] - 0s 83us/step - loss: 0.7211 - accuracy: 0.6471\n",
      "Epoch 5/150\n",
      "768/768 [==============================] - 0s 88us/step - loss: 0.6940 - accuracy: 0.6745\n",
      "Epoch 6/150\n",
      "768/768 [==============================] - 0s 97us/step - loss: 0.6683 - accuracy: 0.6862\n",
      "Epoch 7/150\n",
      "768/768 [==============================] - 0s 100us/step - loss: 0.6626 - accuracy: 0.6745\n",
      "Epoch 8/150\n",
      "768/768 [==============================] - 0s 82us/step - loss: 0.6480 - accuracy: 0.6875\n",
      "Epoch 9/150\n",
      "768/768 [==============================] - 0s 73us/step - loss: 0.6347 - accuracy: 0.6979\n",
      "Epoch 10/150\n",
      "768/768 [==============================] - 0s 104us/step - loss: 0.6432 - accuracy: 0.6810\n",
      "Epoch 11/150\n",
      "768/768 [==============================] - 0s 97us/step - loss: 0.6573 - accuracy: 0.6706\n",
      "Epoch 12/150\n",
      "768/768 [==============================] - 0s 86us/step - loss: 0.6491 - accuracy: 0.6706\n",
      "Epoch 13/150\n",
      "768/768 [==============================] - 0s 87us/step - loss: 0.6332 - accuracy: 0.6823\n",
      "Epoch 14/150\n",
      "768/768 [==============================] - 0s 82us/step - loss: 0.6238 - accuracy: 0.6992\n",
      "Epoch 15/150\n",
      "768/768 [==============================] - 0s 88us/step - loss: 0.6050 - accuracy: 0.7057\n",
      "Epoch 16/150\n",
      "768/768 [==============================] - 0s 79us/step - loss: 0.5893 - accuracy: 0.7044\n",
      "Epoch 17/150\n",
      "768/768 [==============================] - 0s 84us/step - loss: 0.5852 - accuracy: 0.7031\n",
      "Epoch 18/150\n",
      "768/768 [==============================] - 0s 87us/step - loss: 0.5934 - accuracy: 0.6914\n",
      "Epoch 19/150\n",
      "768/768 [==============================] - 0s 91us/step - loss: 0.5775 - accuracy: 0.7122\n",
      "Epoch 20/150\n",
      "768/768 [==============================] - 0s 84us/step - loss: 0.5774 - accuracy: 0.7279\n",
      "Epoch 21/150\n",
      "768/768 [==============================] - 0s 81us/step - loss: 0.5674 - accuracy: 0.7122\n",
      "Epoch 22/150\n",
      "768/768 [==============================] - 0s 90us/step - loss: 0.5798 - accuracy: 0.6979\n",
      "Epoch 23/150\n",
      "768/768 [==============================] - 0s 84us/step - loss: 0.5743 - accuracy: 0.7083\n",
      "Epoch 24/150\n",
      "768/768 [==============================] - 0s 87us/step - loss: 0.5682 - accuracy: 0.7318\n",
      "Epoch 25/150\n",
      "768/768 [==============================] - 0s 75us/step - loss: 0.5558 - accuracy: 0.7461\n",
      "Epoch 26/150\n",
      "768/768 [==============================] - 0s 79us/step - loss: 0.5728 - accuracy: 0.7188\n",
      "Epoch 27/150\n",
      "768/768 [==============================] - 0s 89us/step - loss: 0.5568 - accuracy: 0.7214\n",
      "Epoch 28/150\n",
      "768/768 [==============================] - 0s 114us/step - loss: 0.5573 - accuracy: 0.7227\n",
      "Epoch 29/150\n",
      "768/768 [==============================] - 0s 79us/step - loss: 0.5789 - accuracy: 0.7161\n",
      "Epoch 30/150\n",
      "768/768 [==============================] - 0s 101us/step - loss: 0.5622 - accuracy: 0.7201\n",
      "Epoch 31/150\n",
      "768/768 [==============================] - 0s 101us/step - loss: 0.5713 - accuracy: 0.7109\n",
      "Epoch 32/150\n",
      "768/768 [==============================] - 0s 100us/step - loss: 0.5671 - accuracy: 0.7201\n",
      "Epoch 33/150\n",
      "768/768 [==============================] - 0s 90us/step - loss: 0.5551 - accuracy: 0.7135\n",
      "Epoch 34/150\n",
      "768/768 [==============================] - 0s 112us/step - loss: 0.5541 - accuracy: 0.7279\n",
      "Epoch 35/150\n",
      "768/768 [==============================] - 0s 93us/step - loss: 0.5556 - accuracy: 0.7188\n",
      "Epoch 36/150\n",
      "768/768 [==============================] - 0s 95us/step - loss: 0.5654 - accuracy: 0.7135\n",
      "Epoch 37/150\n",
      "768/768 [==============================] - 0s 92us/step - loss: 0.5359 - accuracy: 0.7331\n",
      "Epoch 38/150\n",
      "768/768 [==============================] - 0s 96us/step - loss: 0.5461 - accuracy: 0.7148\n",
      "Epoch 39/150\n",
      "768/768 [==============================] - 0s 90us/step - loss: 0.5520 - accuracy: 0.7240\n",
      "Epoch 40/150\n",
      "768/768 [==============================] - 0s 91us/step - loss: 0.5504 - accuracy: 0.7109\n",
      "Epoch 41/150\n",
      "768/768 [==============================] - 0s 74us/step - loss: 0.5495 - accuracy: 0.7266\n",
      "Epoch 42/150\n",
      "768/768 [==============================] - 0s 84us/step - loss: 0.5407 - accuracy: 0.7279\n",
      "Epoch 43/150\n",
      "768/768 [==============================] - 0s 88us/step - loss: 0.5361 - accuracy: 0.7357\n",
      "Epoch 44/150\n",
      "768/768 [==============================] - 0s 90us/step - loss: 0.5402 - accuracy: 0.7396\n",
      "Epoch 45/150\n",
      "768/768 [==============================] - 0s 91us/step - loss: 0.5374 - accuracy: 0.7565\n",
      "Epoch 46/150\n",
      "768/768 [==============================] - 0s 93us/step - loss: 0.5313 - accuracy: 0.7448\n",
      "Epoch 47/150\n",
      "768/768 [==============================] - 0s 79us/step - loss: 0.5396 - accuracy: 0.7318\n",
      "Epoch 48/150\n",
      "768/768 [==============================] - 0s 73us/step - loss: 0.5409 - accuracy: 0.7344\n",
      "Epoch 49/150\n",
      "768/768 [==============================] - 0s 97us/step - loss: 0.5404 - accuracy: 0.7396\n",
      "Epoch 50/150\n",
      "768/768 [==============================] - 0s 82us/step - loss: 0.5326 - accuracy: 0.7344\n",
      "Epoch 51/150\n",
      "768/768 [==============================] - 0s 99us/step - loss: 0.5344 - accuracy: 0.7435\n",
      "Epoch 52/150\n",
      "768/768 [==============================] - 0s 88us/step - loss: 0.5377 - accuracy: 0.7318\n",
      "Epoch 53/150\n",
      "768/768 [==============================] - 0s 88us/step - loss: 0.5438 - accuracy: 0.7383\n",
      "Epoch 54/150\n",
      "768/768 [==============================] - 0s 86us/step - loss: 0.5456 - accuracy: 0.7292\n",
      "Epoch 55/150\n",
      "768/768 [==============================] - 0s 92us/step - loss: 0.5269 - accuracy: 0.7396\n",
      "Epoch 56/150\n",
      "768/768 [==============================] - 0s 77us/step - loss: 0.5356 - accuracy: 0.7422\n",
      "Epoch 57/150\n",
      "768/768 [==============================] - 0s 71us/step - loss: 0.5386 - accuracy: 0.7383\n",
      "Epoch 58/150\n",
      "768/768 [==============================] - 0s 82us/step - loss: 0.5301 - accuracy: 0.7474\n",
      "Epoch 59/150\n",
      "768/768 [==============================] - 0s 100us/step - loss: 0.5192 - accuracy: 0.7526\n",
      "Epoch 60/150\n",
      "768/768 [==============================] - 0s 81us/step - loss: 0.5429 - accuracy: 0.7305\n",
      "Epoch 61/150\n",
      "768/768 [==============================] - 0s 87us/step - loss: 0.5349 - accuracy: 0.7253\n",
      "Epoch 62/150\n",
      "768/768 [==============================] - 0s 73us/step - loss: 0.5220 - accuracy: 0.7461\n",
      "Epoch 63/150\n",
      "768/768 [==============================] - 0s 72us/step - loss: 0.5525 - accuracy: 0.7227\n",
      "Epoch 64/150\n",
      "768/768 [==============================] - 0s 82us/step - loss: 0.5423 - accuracy: 0.7292\n",
      "Epoch 65/150\n",
      "768/768 [==============================] - 0s 79us/step - loss: 0.5266 - accuracy: 0.7422\n",
      "Epoch 66/150\n",
      "768/768 [==============================] - 0s 86us/step - loss: 0.5132 - accuracy: 0.7474\n",
      "Epoch 67/150\n",
      "768/768 [==============================] - 0s 84us/step - loss: 0.5220 - accuracy: 0.7305\n",
      "Epoch 68/150\n",
      "768/768 [==============================] - 0s 94us/step - loss: 0.5224 - accuracy: 0.7409\n",
      "Epoch 69/150\n",
      "768/768 [==============================] - 0s 95us/step - loss: 0.5253 - accuracy: 0.7409\n",
      "Epoch 70/150\n",
      "768/768 [==============================] - 0s 87us/step - loss: 0.5401 - accuracy: 0.7279\n",
      "Epoch 71/150\n",
      "768/768 [==============================] - 0s 81us/step - loss: 0.5263 - accuracy: 0.7487\n",
      "Epoch 72/150\n",
      "768/768 [==============================] - 0s 82us/step - loss: 0.5236 - accuracy: 0.7448\n",
      "Epoch 73/150\n",
      "768/768 [==============================] - 0s 88us/step - loss: 0.5229 - accuracy: 0.7422\n",
      "Epoch 74/150\n",
      "768/768 [==============================] - 0s 90us/step - loss: 0.5197 - accuracy: 0.7552\n",
      "Epoch 75/150\n",
      "768/768 [==============================] - 0s 84us/step - loss: 0.5186 - accuracy: 0.7409\n",
      "Epoch 76/150\n",
      "768/768 [==============================] - 0s 82us/step - loss: 0.5204 - accuracy: 0.7435\n",
      "Epoch 77/150\n",
      "768/768 [==============================] - 0s 86us/step - loss: 0.5251 - accuracy: 0.7578\n",
      "Epoch 78/150\n",
      "768/768 [==============================] - 0s 84us/step - loss: 0.5193 - accuracy: 0.7513\n",
      "Epoch 79/150\n",
      "768/768 [==============================] - 0s 91us/step - loss: 0.5195 - accuracy: 0.7409\n",
      "Epoch 80/150\n",
      "768/768 [==============================] - 0s 100us/step - loss: 0.5155 - accuracy: 0.7565\n",
      "Epoch 81/150\n",
      "768/768 [==============================] - 0s 96us/step - loss: 0.5142 - accuracy: 0.7591\n",
      "Epoch 82/150\n",
      "768/768 [==============================] - 0s 93us/step - loss: 0.5044 - accuracy: 0.7500\n",
      "Epoch 83/150\n",
      "768/768 [==============================] - 0s 87us/step - loss: 0.5067 - accuracy: 0.7513\n",
      "Epoch 84/150\n",
      "768/768 [==============================] - 0s 77us/step - loss: 0.5013 - accuracy: 0.7630\n",
      "Epoch 85/150\n",
      "768/768 [==============================] - 0s 84us/step - loss: 0.5107 - accuracy: 0.7448\n",
      "Epoch 86/150\n",
      "768/768 [==============================] - 0s 84us/step - loss: 0.5107 - accuracy: 0.7435\n",
      "Epoch 87/150\n",
      "768/768 [==============================] - 0s 90us/step - loss: 0.5015 - accuracy: 0.7552\n",
      "Epoch 88/150\n",
      "768/768 [==============================] - 0s 84us/step - loss: 0.5064 - accuracy: 0.7604\n",
      "Epoch 89/150\n",
      "768/768 [==============================] - 0s 96us/step - loss: 0.5092 - accuracy: 0.7643\n",
      "Epoch 90/150\n",
      "768/768 [==============================] - 0s 99us/step - loss: 0.5124 - accuracy: 0.7409\n",
      "Epoch 91/150\n",
      "768/768 [==============================] - 0s 103us/step - loss: 0.5024 - accuracy: 0.7435\n",
      "Epoch 92/150\n",
      "768/768 [==============================] - 0s 87us/step - loss: 0.5121 - accuracy: 0.7396\n",
      "Epoch 93/150\n",
      "768/768 [==============================] - 0s 93us/step - loss: 0.4987 - accuracy: 0.7539\n",
      "Epoch 94/150\n",
      "768/768 [==============================] - 0s 96us/step - loss: 0.5004 - accuracy: 0.7578\n",
      "Epoch 95/150\n",
      "768/768 [==============================] - 0s 108us/step - loss: 0.5091 - accuracy: 0.7448\n",
      "Epoch 96/150\n",
      "768/768 [==============================] - 0s 94us/step - loss: 0.4991 - accuracy: 0.7526\n",
      "Epoch 97/150\n",
      "768/768 [==============================] - 0s 95us/step - loss: 0.4986 - accuracy: 0.7708\n",
      "Epoch 98/150\n",
      "768/768 [==============================] - 0s 86us/step - loss: 0.4926 - accuracy: 0.7604\n",
      "Epoch 99/150\n",
      "768/768 [==============================] - 0s 88us/step - loss: 0.4963 - accuracy: 0.7552\n",
      "Epoch 100/150\n",
      "768/768 [==============================] - 0s 86us/step - loss: 0.4889 - accuracy: 0.7708\n",
      "Epoch 101/150\n",
      "768/768 [==============================] - 0s 93us/step - loss: 0.4926 - accuracy: 0.7682\n",
      "Epoch 102/150\n",
      "768/768 [==============================] - 0s 88us/step - loss: 0.5020 - accuracy: 0.7552\n",
      "Epoch 103/150\n",
      "768/768 [==============================] - 0s 96us/step - loss: 0.5008 - accuracy: 0.7552\n",
      "Epoch 104/150\n",
      "768/768 [==============================] - 0s 91us/step - loss: 0.4939 - accuracy: 0.7721\n",
      "Epoch 105/150\n",
      "768/768 [==============================] - 0s 82us/step - loss: 0.5306 - accuracy: 0.7422\n",
      "Epoch 106/150\n",
      "768/768 [==============================] - 0s 94us/step - loss: 0.4977 - accuracy: 0.7695\n",
      "Epoch 107/150\n",
      "768/768 [==============================] - 0s 99us/step - loss: 0.4922 - accuracy: 0.7747\n",
      "Epoch 108/150\n",
      "768/768 [==============================] - 0s 92us/step - loss: 0.5063 - accuracy: 0.7500\n",
      "Epoch 109/150\n",
      "768/768 [==============================] - 0s 92us/step - loss: 0.4893 - accuracy: 0.7526\n",
      "Epoch 110/150\n",
      "768/768 [==============================] - 0s 87us/step - loss: 0.4902 - accuracy: 0.7617\n",
      "Epoch 111/150\n",
      "768/768 [==============================] - 0s 97us/step - loss: 0.4855 - accuracy: 0.7721\n",
      "Epoch 112/150\n",
      "768/768 [==============================] - 0s 95us/step - loss: 0.4941 - accuracy: 0.7721\n",
      "Epoch 113/150\n",
      "768/768 [==============================] - 0s 95us/step - loss: 0.5099 - accuracy: 0.7526\n",
      "Epoch 114/150\n",
      "768/768 [==============================] - 0s 90us/step - loss: 0.4937 - accuracy: 0.7461\n",
      "Epoch 115/150\n",
      "768/768 [==============================] - 0s 87us/step - loss: 0.4945 - accuracy: 0.7591\n",
      "Epoch 116/150\n",
      "768/768 [==============================] - 0s 86us/step - loss: 0.4914 - accuracy: 0.7747\n",
      "Epoch 117/150\n",
      "768/768 [==============================] - 0s 95us/step - loss: 0.4950 - accuracy: 0.7578\n",
      "Epoch 118/150\n",
      "768/768 [==============================] - 0s 94us/step - loss: 0.4911 - accuracy: 0.7695\n",
      "Epoch 119/150\n",
      "768/768 [==============================] - 0s 84us/step - loss: 0.4870 - accuracy: 0.7643\n",
      "Epoch 120/150\n",
      "768/768 [==============================] - 0s 95us/step - loss: 0.4988 - accuracy: 0.7656\n",
      "Epoch 121/150\n",
      "768/768 [==============================] - 0s 88us/step - loss: 0.4962 - accuracy: 0.7734\n",
      "Epoch 122/150\n",
      "768/768 [==============================] - 0s 88us/step - loss: 0.4815 - accuracy: 0.7734\n",
      "Epoch 123/150\n",
      "768/768 [==============================] - 0s 88us/step - loss: 0.4888 - accuracy: 0.7630\n",
      "Epoch 124/150\n",
      "768/768 [==============================] - 0s 88us/step - loss: 0.4840 - accuracy: 0.7760\n",
      "Epoch 125/150\n",
      "768/768 [==============================] - 0s 82us/step - loss: 0.4827 - accuracy: 0.7865\n",
      "Epoch 126/150\n",
      "768/768 [==============================] - 0s 87us/step - loss: 0.4831 - accuracy: 0.7617\n",
      "Epoch 127/150\n",
      "768/768 [==============================] - 0s 86us/step - loss: 0.4893 - accuracy: 0.7617\n",
      "Epoch 128/150\n",
      "768/768 [==============================] - 0s 95us/step - loss: 0.4732 - accuracy: 0.7786\n",
      "Epoch 129/150\n",
      "768/768 [==============================] - 0s 90us/step - loss: 0.4800 - accuracy: 0.7669\n",
      "Epoch 130/150\n",
      "768/768 [==============================] - 0s 96us/step - loss: 0.4693 - accuracy: 0.7852\n",
      "Epoch 131/150\n",
      "768/768 [==============================] - 0s 95us/step - loss: 0.4816 - accuracy: 0.7617\n",
      "Epoch 132/150\n",
      "768/768 [==============================] - 0s 94us/step - loss: 0.4803 - accuracy: 0.7773\n",
      "Epoch 133/150\n",
      "768/768 [==============================] - 0s 91us/step - loss: 0.4844 - accuracy: 0.7682\n",
      "Epoch 134/150\n",
      "768/768 [==============================] - 0s 83us/step - loss: 0.4832 - accuracy: 0.7721\n",
      "Epoch 135/150\n",
      "768/768 [==============================] - 0s 105us/step - loss: 0.4728 - accuracy: 0.7747\n",
      "Epoch 136/150\n",
      "768/768 [==============================] - 0s 90us/step - loss: 0.4733 - accuracy: 0.7630\n",
      "Epoch 137/150\n",
      "768/768 [==============================] - 0s 92us/step - loss: 0.4676 - accuracy: 0.7839\n",
      "Epoch 138/150\n",
      "768/768 [==============================] - 0s 94us/step - loss: 0.4779 - accuracy: 0.7891\n",
      "Epoch 139/150\n",
      "768/768 [==============================] - 0s 103us/step - loss: 0.4681 - accuracy: 0.7682\n",
      "Epoch 140/150\n",
      "768/768 [==============================] - 0s 90us/step - loss: 0.4791 - accuracy: 0.7786\n",
      "Epoch 141/150\n",
      "768/768 [==============================] - 0s 91us/step - loss: 0.4707 - accuracy: 0.7891\n",
      "Epoch 142/150\n",
      "768/768 [==============================] - 0s 85us/step - loss: 0.4810 - accuracy: 0.7656\n",
      "Epoch 143/150\n",
      "768/768 [==============================] - 0s 84us/step - loss: 0.4748 - accuracy: 0.7734\n",
      "Epoch 144/150\n",
      "768/768 [==============================] - 0s 95us/step - loss: 0.4728 - accuracy: 0.7734\n",
      "Epoch 145/150\n",
      "768/768 [==============================] - 0s 97us/step - loss: 0.4932 - accuracy: 0.7591\n",
      "Epoch 146/150\n",
      "768/768 [==============================] - 0s 97us/step - loss: 0.4916 - accuracy: 0.7630\n",
      "Epoch 147/150\n",
      "768/768 [==============================] - 0s 88us/step - loss: 0.4852 - accuracy: 0.7812\n",
      "Epoch 148/150\n",
      "768/768 [==============================] - 0s 95us/step - loss: 0.4760 - accuracy: 0.7760\n",
      "Epoch 149/150\n",
      "768/768 [==============================] - 0s 92us/step - loss: 0.4765 - accuracy: 0.7565\n",
      "Epoch 150/150\n",
      "768/768 [==============================] - 0s 88us/step - loss: 0.4756 - accuracy: 0.7812\n",
      "768/768 [==============================] - 0s 65us/step\n",
      "\n",
      "accuracy: 77.34%\n"
     ]
    }
   ],
   "source": [
    "from keras.models import Sequential  # sequentialo : 입력도 1개, output 도 1개이다 \n",
    "from keras.layers import Dense\n",
    "import numpy\n",
    "numpy.random.seed(7)\n",
    "dataset = numpy.loadtxt('pima.data', delimiter=',') # 데이터 로드\n",
    "X = dataset[:,0:8] # 독립변수 8개 \n",
    "Y = dataset[:,8]  # 9번째있는 것이 종속변수이다 \n",
    "\n",
    "model = Sequential()\n",
    "# ? x8  8x12 -> ? x12 \n",
    "model.add(Dense(12, input_dim=8, activation='relu'))\n",
    "#?x12   12x8 -> ?x8\n",
    "model.add(Dense(8, activation='relu'))  \n",
    "# ?x8  8x1 --> ?x1  이 된다 \n",
    "\n",
    "model.add(Dense(1, activation='sigmoid')) # 앞에서는 linear 가 왔다 (에측이 되는것 ) 여기선 sigmoid 가 왔다 ( 0.5 보다 크면 1 아니면 0이된다 0)\n",
    "model.compile(loss='binary_crossentropy', optimizer = 'adam', metrics=['accuracy']) # compile 할때 주로, loss optimizer, metrics 쓴다 \n",
    "model.fit(X,Y, epochs=150, batch_size=10) # epochs 와 batch_size 가 들어옴 \n",
    "\n",
    "scores = model.evaluate(X,Y)\n",
    "# print(model.metrics_names)\n",
    "#->  2번째 accuracy \n",
    "print('\\n%s: %.2f%%' %(model.metrics_names[1], scores[1]*100))"
   ]
  },
  {
   "cell_type": "code",
   "execution_count": 11,
   "metadata": {},
   "outputs": [
    {
     "name": "stdout",
     "output_type": "stream",
     "text": [
      "Train on 514 samples, validate on 254 samples\n",
      "Epoch 1/150\n",
      "514/514 [==============================] - 0s 637us/step - loss: 0.6906 - accuracy: 0.6576 - val_loss: 0.6552 - val_accuracy: 0.6693\n",
      "Epoch 2/150\n",
      "514/514 [==============================] - 0s 138us/step - loss: 0.6566 - accuracy: 0.6304 - val_loss: 0.6302 - val_accuracy: 0.6614\n",
      "Epoch 3/150\n",
      "514/514 [==============================] - 0s 124us/step - loss: 0.6427 - accuracy: 0.6304 - val_loss: 0.6347 - val_accuracy: 0.6614\n",
      "Epoch 4/150\n",
      "514/514 [==============================] - 0s 126us/step - loss: 0.6337 - accuracy: 0.6440 - val_loss: 0.6277 - val_accuracy: 0.6693\n",
      "Epoch 5/150\n",
      "514/514 [==============================] - 0s 116us/step - loss: 0.6257 - accuracy: 0.6654 - val_loss: 0.6228 - val_accuracy: 0.6654\n",
      "Epoch 6/150\n",
      "514/514 [==============================] - 0s 109us/step - loss: 0.6224 - accuracy: 0.6654 - val_loss: 0.6208 - val_accuracy: 0.6614\n",
      "Epoch 7/150\n",
      "514/514 [==============================] - 0s 103us/step - loss: 0.6116 - accuracy: 0.6693 - val_loss: 0.6173 - val_accuracy: 0.6614\n",
      "Epoch 8/150\n",
      "514/514 [==============================] - 0s 109us/step - loss: 0.6064 - accuracy: 0.6790 - val_loss: 0.6240 - val_accuracy: 0.6890\n",
      "Epoch 9/150\n",
      "514/514 [==============================] - 0s 116us/step - loss: 0.6073 - accuracy: 0.6790 - val_loss: 0.6072 - val_accuracy: 0.6732\n",
      "Epoch 10/150\n",
      "514/514 [==============================] - 0s 120us/step - loss: 0.6087 - accuracy: 0.6868 - val_loss: 0.6063 - val_accuracy: 0.6850\n",
      "Epoch 11/150\n",
      "514/514 [==============================] - 0s 113us/step - loss: 0.6026 - accuracy: 0.6712 - val_loss: 0.6110 - val_accuracy: 0.6693\n",
      "Epoch 12/150\n",
      "514/514 [==============================] - 0s 126us/step - loss: 0.6011 - accuracy: 0.6693 - val_loss: 0.6043 - val_accuracy: 0.6890\n",
      "Epoch 13/150\n",
      "514/514 [==============================] - 0s 113us/step - loss: 0.5947 - accuracy: 0.6848 - val_loss: 0.6154 - val_accuracy: 0.6535\n",
      "Epoch 14/150\n",
      "514/514 [==============================] - 0s 113us/step - loss: 0.5933 - accuracy: 0.6907 - val_loss: 0.6005 - val_accuracy: 0.6811\n",
      "Epoch 15/150\n",
      "514/514 [==============================] - 0s 109us/step - loss: 0.5939 - accuracy: 0.6868 - val_loss: 0.5973 - val_accuracy: 0.6850\n",
      "Epoch 16/150\n",
      "514/514 [==============================] - 0s 105us/step - loss: 0.5962 - accuracy: 0.6809 - val_loss: 0.6053 - val_accuracy: 0.6496\n",
      "Epoch 17/150\n",
      "514/514 [==============================] - 0s 116us/step - loss: 0.5929 - accuracy: 0.6673 - val_loss: 0.6008 - val_accuracy: 0.6732\n",
      "Epoch 18/150\n",
      "514/514 [==============================] - 0s 111us/step - loss: 0.5847 - accuracy: 0.6848 - val_loss: 0.5982 - val_accuracy: 0.6850\n",
      "Epoch 19/150\n",
      "514/514 [==============================] - 0s 113us/step - loss: 0.5911 - accuracy: 0.6868 - val_loss: 0.5914 - val_accuracy: 0.6890\n",
      "Epoch 20/150\n",
      "514/514 [==============================] - 0s 120us/step - loss: 0.5859 - accuracy: 0.6887 - val_loss: 0.6010 - val_accuracy: 0.6850\n",
      "Epoch 21/150\n",
      "514/514 [==============================] - 0s 116us/step - loss: 0.5877 - accuracy: 0.6809 - val_loss: 0.5983 - val_accuracy: 0.6732\n",
      "Epoch 22/150\n",
      "514/514 [==============================] - 0s 115us/step - loss: 0.5871 - accuracy: 0.6887 - val_loss: 0.6107 - val_accuracy: 0.6772\n",
      "Epoch 23/150\n",
      "514/514 [==============================] - 0s 109us/step - loss: 0.5815 - accuracy: 0.6770 - val_loss: 0.5931 - val_accuracy: 0.6850\n",
      "Epoch 24/150\n",
      "514/514 [==============================] - 0s 107us/step - loss: 0.5825 - accuracy: 0.6926 - val_loss: 0.5951 - val_accuracy: 0.6850\n",
      "Epoch 25/150\n",
      "514/514 [==============================] - 0s 102us/step - loss: 0.5892 - accuracy: 0.6829 - val_loss: 0.5963 - val_accuracy: 0.6732\n",
      "Epoch 26/150\n",
      "514/514 [==============================] - 0s 113us/step - loss: 0.5800 - accuracy: 0.6984 - val_loss: 0.5911 - val_accuracy: 0.6890\n",
      "Epoch 27/150\n",
      "514/514 [==============================] - 0s 109us/step - loss: 0.5845 - accuracy: 0.6790 - val_loss: 0.5865 - val_accuracy: 0.7008\n",
      "Epoch 28/150\n",
      "514/514 [==============================] - 0s 103us/step - loss: 0.5842 - accuracy: 0.6848 - val_loss: 0.6135 - val_accuracy: 0.6575\n",
      "Epoch 29/150\n",
      "514/514 [==============================] - 0s 116us/step - loss: 0.5883 - accuracy: 0.6770 - val_loss: 0.6034 - val_accuracy: 0.6850\n",
      "Epoch 30/150\n",
      "514/514 [==============================] - 0s 114us/step - loss: 0.5779 - accuracy: 0.6907 - val_loss: 0.5922 - val_accuracy: 0.6890\n",
      "Epoch 31/150\n",
      "514/514 [==============================] - 0s 120us/step - loss: 0.5766 - accuracy: 0.6848 - val_loss: 0.5836 - val_accuracy: 0.6929\n",
      "Epoch 32/150\n",
      "514/514 [==============================] - 0s 116us/step - loss: 0.5779 - accuracy: 0.6887 - val_loss: 0.6194 - val_accuracy: 0.6535\n",
      "Epoch 33/150\n",
      "514/514 [==============================] - 0s 134us/step - loss: 0.5905 - accuracy: 0.6965 - val_loss: 0.5971 - val_accuracy: 0.6969\n",
      "Epoch 34/150\n",
      "514/514 [==============================] - 0s 122us/step - loss: 0.5738 - accuracy: 0.6965 - val_loss: 0.5878 - val_accuracy: 0.6890\n",
      "Epoch 35/150\n",
      "514/514 [==============================] - 0s 122us/step - loss: 0.5713 - accuracy: 0.7004 - val_loss: 0.5796 - val_accuracy: 0.6969\n",
      "Epoch 36/150\n",
      "514/514 [==============================] - 0s 122us/step - loss: 0.5815 - accuracy: 0.6984 - val_loss: 0.5865 - val_accuracy: 0.6811\n",
      "Epoch 37/150\n",
      "514/514 [==============================] - 0s 118us/step - loss: 0.5748 - accuracy: 0.6984 - val_loss: 0.5842 - val_accuracy: 0.7047\n",
      "Epoch 38/150\n",
      "514/514 [==============================] - 0s 138us/step - loss: 0.5713 - accuracy: 0.6965 - val_loss: 0.5800 - val_accuracy: 0.7087\n",
      "Epoch 39/150\n",
      "514/514 [==============================] - 0s 116us/step - loss: 0.5678 - accuracy: 0.6868 - val_loss: 0.5823 - val_accuracy: 0.7047\n",
      "Epoch 40/150\n",
      "514/514 [==============================] - 0s 138us/step - loss: 0.5781 - accuracy: 0.6790 - val_loss: 0.5812 - val_accuracy: 0.6969\n",
      "Epoch 41/150\n",
      "514/514 [==============================] - 0s 147us/step - loss: 0.5676 - accuracy: 0.6984 - val_loss: 0.5823 - val_accuracy: 0.7087\n",
      "Epoch 42/150\n",
      "514/514 [==============================] - 0s 276us/step - loss: 0.5665 - accuracy: 0.6829 - val_loss: 0.5913 - val_accuracy: 0.6969\n",
      "Epoch 43/150\n",
      "514/514 [==============================] - 0s 116us/step - loss: 0.5690 - accuracy: 0.6907 - val_loss: 0.5793 - val_accuracy: 0.7047\n",
      "Epoch 44/150\n",
      "514/514 [==============================] - 0s 120us/step - loss: 0.5665 - accuracy: 0.6965 - val_loss: 0.5900 - val_accuracy: 0.6929\n",
      "Epoch 45/150\n",
      "514/514 [==============================] - 0s 115us/step - loss: 0.5622 - accuracy: 0.6887 - val_loss: 0.6098 - val_accuracy: 0.6693\n",
      "Epoch 46/150\n",
      "514/514 [==============================] - 0s 113us/step - loss: 0.5744 - accuracy: 0.6790 - val_loss: 0.5951 - val_accuracy: 0.6890\n",
      "Epoch 47/150\n",
      "514/514 [==============================] - 0s 137us/step - loss: 0.5673 - accuracy: 0.6887 - val_loss: 0.5863 - val_accuracy: 0.6929\n",
      "Epoch 48/150\n",
      "514/514 [==============================] - 0s 107us/step - loss: 0.5659 - accuracy: 0.6926 - val_loss: 0.5831 - val_accuracy: 0.7047\n",
      "Epoch 49/150\n",
      "514/514 [==============================] - 0s 124us/step - loss: 0.5643 - accuracy: 0.6965 - val_loss: 0.5835 - val_accuracy: 0.6811\n",
      "Epoch 50/150\n",
      "514/514 [==============================] - 0s 118us/step - loss: 0.5668 - accuracy: 0.6868 - val_loss: 0.5935 - val_accuracy: 0.7008\n",
      "Epoch 51/150\n",
      "514/514 [==============================] - 0s 114us/step - loss: 0.5618 - accuracy: 0.6926 - val_loss: 0.5808 - val_accuracy: 0.7008\n",
      "Epoch 52/150\n",
      "514/514 [==============================] - 0s 114us/step - loss: 0.5657 - accuracy: 0.6907 - val_loss: 0.5963 - val_accuracy: 0.6969\n",
      "Epoch 53/150\n",
      "514/514 [==============================] - 0s 113us/step - loss: 0.5638 - accuracy: 0.6965 - val_loss: 0.5846 - val_accuracy: 0.6969\n",
      "Epoch 54/150\n",
      "514/514 [==============================] - 0s 108us/step - loss: 0.5649 - accuracy: 0.6829 - val_loss: 0.5795 - val_accuracy: 0.7087\n",
      "Epoch 55/150\n",
      "514/514 [==============================] - 0s 107us/step - loss: 0.5637 - accuracy: 0.6868 - val_loss: 0.6116 - val_accuracy: 0.7008\n",
      "Epoch 56/150\n",
      "514/514 [==============================] - 0s 113us/step - loss: 0.5734 - accuracy: 0.6654 - val_loss: 0.6025 - val_accuracy: 0.6850\n"
     ]
    },
    {
     "name": "stdout",
     "output_type": "stream",
     "text": [
      "Epoch 57/150\n",
      "514/514 [==============================] - 0s 122us/step - loss: 0.5685 - accuracy: 0.6868 - val_loss: 0.5760 - val_accuracy: 0.7008\n",
      "Epoch 58/150\n",
      "514/514 [==============================] - 0s 118us/step - loss: 0.5576 - accuracy: 0.6984 - val_loss: 0.5961 - val_accuracy: 0.6929\n",
      "Epoch 59/150\n",
      "514/514 [==============================] - 0s 116us/step - loss: 0.5702 - accuracy: 0.6907 - val_loss: 0.6194 - val_accuracy: 0.6457\n",
      "Epoch 60/150\n",
      "514/514 [==============================] - 0s 114us/step - loss: 0.5655 - accuracy: 0.6907 - val_loss: 0.5849 - val_accuracy: 0.6969\n",
      "Epoch 61/150\n",
      "514/514 [==============================] - 0s 111us/step - loss: 0.5664 - accuracy: 0.6829 - val_loss: 0.5803 - val_accuracy: 0.7047\n",
      "Epoch 62/150\n",
      "514/514 [==============================] - 0s 114us/step - loss: 0.5577 - accuracy: 0.6965 - val_loss: 0.5840 - val_accuracy: 0.7008\n",
      "Epoch 63/150\n",
      "514/514 [==============================] - 0s 103us/step - loss: 0.5533 - accuracy: 0.6926 - val_loss: 0.5778 - val_accuracy: 0.7126\n",
      "Epoch 64/150\n",
      "514/514 [==============================] - 0s 111us/step - loss: 0.5510 - accuracy: 0.7004 - val_loss: 0.5946 - val_accuracy: 0.6929\n",
      "Epoch 65/150\n",
      "514/514 [==============================] - 0s 111us/step - loss: 0.5622 - accuracy: 0.6907 - val_loss: 0.5901 - val_accuracy: 0.6929\n",
      "Epoch 66/150\n",
      "514/514 [==============================] - 0s 120us/step - loss: 0.5540 - accuracy: 0.6829 - val_loss: 0.5807 - val_accuracy: 0.7047\n",
      "Epoch 67/150\n",
      "514/514 [==============================] - 0s 118us/step - loss: 0.5535 - accuracy: 0.7043 - val_loss: 0.5931 - val_accuracy: 0.6969\n",
      "Epoch 68/150\n",
      "514/514 [==============================] - 0s 113us/step - loss: 0.5628 - accuracy: 0.6848 - val_loss: 0.5819 - val_accuracy: 0.7047\n",
      "Epoch 69/150\n",
      "514/514 [==============================] - 0s 109us/step - loss: 0.5548 - accuracy: 0.6848 - val_loss: 0.5878 - val_accuracy: 0.6890\n",
      "Epoch 70/150\n",
      "514/514 [==============================] - 0s 96us/step - loss: 0.5532 - accuracy: 0.6965 - val_loss: 0.6050 - val_accuracy: 0.6929\n",
      "Epoch 71/150\n",
      "514/514 [==============================] - 0s 147us/step - loss: 0.5559 - accuracy: 0.6946 - val_loss: 0.5753 - val_accuracy: 0.7047\n",
      "Epoch 72/150\n",
      "514/514 [==============================] - 0s 120us/step - loss: 0.5524 - accuracy: 0.6946 - val_loss: 0.5853 - val_accuracy: 0.7047\n",
      "Epoch 73/150\n",
      "514/514 [==============================] - 0s 138us/step - loss: 0.5635 - accuracy: 0.6790 - val_loss: 0.5795 - val_accuracy: 0.6929\n",
      "Epoch 74/150\n",
      "514/514 [==============================] - 0s 113us/step - loss: 0.5494 - accuracy: 0.6946 - val_loss: 0.5871 - val_accuracy: 0.6929\n",
      "Epoch 75/150\n",
      "514/514 [==============================] - 0s 114us/step - loss: 0.5504 - accuracy: 0.6946 - val_loss: 0.5778 - val_accuracy: 0.7008\n",
      "Epoch 76/150\n",
      "514/514 [==============================] - 0s 110us/step - loss: 0.5430 - accuracy: 0.7043 - val_loss: 0.5797 - val_accuracy: 0.7165\n",
      "Epoch 77/150\n",
      "514/514 [==============================] - 0s 116us/step - loss: 0.5519 - accuracy: 0.6887 - val_loss: 0.5897 - val_accuracy: 0.7165\n",
      "Epoch 78/150\n",
      "514/514 [==============================] - 0s 122us/step - loss: 0.5568 - accuracy: 0.6868 - val_loss: 0.5892 - val_accuracy: 0.7047\n",
      "Epoch 79/150\n",
      "514/514 [==============================] - 0s 120us/step - loss: 0.5631 - accuracy: 0.6984 - val_loss: 0.5865 - val_accuracy: 0.6929\n",
      "Epoch 80/150\n",
      "514/514 [==============================] - 0s 120us/step - loss: 0.5463 - accuracy: 0.6965 - val_loss: 0.5851 - val_accuracy: 0.7008\n",
      "Epoch 81/150\n",
      "514/514 [==============================] - 0s 120us/step - loss: 0.5539 - accuracy: 0.6965 - val_loss: 0.5812 - val_accuracy: 0.7126\n",
      "Epoch 82/150\n",
      "514/514 [==============================] - 0s 114us/step - loss: 0.5485 - accuracy: 0.6946 - val_loss: 0.5849 - val_accuracy: 0.7165\n",
      "Epoch 83/150\n",
      "514/514 [==============================] - 0s 110us/step - loss: 0.5456 - accuracy: 0.6946 - val_loss: 0.6002 - val_accuracy: 0.7008\n",
      "Epoch 84/150\n",
      "514/514 [==============================] - 0s 111us/step - loss: 0.5521 - accuracy: 0.6946 - val_loss: 0.5823 - val_accuracy: 0.7126\n",
      "Epoch 85/150\n",
      "514/514 [==============================] - 0s 116us/step - loss: 0.5602 - accuracy: 0.6887 - val_loss: 0.5740 - val_accuracy: 0.7126\n",
      "Epoch 86/150\n",
      "514/514 [==============================] - 0s 115us/step - loss: 0.5419 - accuracy: 0.7004 - val_loss: 0.5822 - val_accuracy: 0.7047\n",
      "Epoch 87/150\n",
      "514/514 [==============================] - 0s 113us/step - loss: 0.5406 - accuracy: 0.7043 - val_loss: 0.5991 - val_accuracy: 0.7087\n",
      "Epoch 88/150\n",
      "514/514 [==============================] - 0s 113us/step - loss: 0.5404 - accuracy: 0.7043 - val_loss: 0.5819 - val_accuracy: 0.7008\n",
      "Epoch 89/150\n",
      "514/514 [==============================] - 0s 113us/step - loss: 0.5363 - accuracy: 0.6965 - val_loss: 0.6005 - val_accuracy: 0.7008\n",
      "Epoch 90/150\n",
      "514/514 [==============================] - 0s 113us/step - loss: 0.5508 - accuracy: 0.7004 - val_loss: 0.6042 - val_accuracy: 0.6811\n",
      "Epoch 91/150\n",
      "514/514 [==============================] - 0s 109us/step - loss: 0.5507 - accuracy: 0.6984 - val_loss: 0.5891 - val_accuracy: 0.7087\n",
      "Epoch 92/150\n",
      "514/514 [==============================] - 0s 112us/step - loss: 0.5575 - accuracy: 0.6887 - val_loss: 0.5818 - val_accuracy: 0.7165\n",
      "Epoch 93/150\n",
      "514/514 [==============================] - 0s 119us/step - loss: 0.5416 - accuracy: 0.7004 - val_loss: 0.5874 - val_accuracy: 0.7087\n",
      "Epoch 94/150\n",
      "514/514 [==============================] - 0s 134us/step - loss: 0.5428 - accuracy: 0.6887 - val_loss: 0.5837 - val_accuracy: 0.7087\n",
      "Epoch 95/150\n",
      "514/514 [==============================] - 0s 118us/step - loss: 0.5466 - accuracy: 0.7082 - val_loss: 0.6071 - val_accuracy: 0.6693\n",
      "Epoch 96/150\n",
      "514/514 [==============================] - 0s 114us/step - loss: 0.5426 - accuracy: 0.6907 - val_loss: 0.5973 - val_accuracy: 0.7008\n",
      "Epoch 97/150\n",
      "514/514 [==============================] - 0s 118us/step - loss: 0.5374 - accuracy: 0.6984 - val_loss: 0.5816 - val_accuracy: 0.7244\n",
      "Epoch 98/150\n",
      "514/514 [==============================] - 0s 126us/step - loss: 0.5435 - accuracy: 0.7004 - val_loss: 0.5818 - val_accuracy: 0.7087\n",
      "Epoch 99/150\n",
      "514/514 [==============================] - 0s 124us/step - loss: 0.5452 - accuracy: 0.6907 - val_loss: 0.5931 - val_accuracy: 0.7047\n",
      "Epoch 100/150\n",
      "514/514 [==============================] - 0s 116us/step - loss: 0.5478 - accuracy: 0.6887 - val_loss: 0.5821 - val_accuracy: 0.7165\n",
      "Epoch 101/150\n",
      "514/514 [==============================] - 0s 138us/step - loss: 0.5374 - accuracy: 0.7062 - val_loss: 0.5874 - val_accuracy: 0.7008\n",
      "Epoch 102/150\n",
      "514/514 [==============================] - 0s 114us/step - loss: 0.5365 - accuracy: 0.6946 - val_loss: 0.5878 - val_accuracy: 0.7126\n",
      "Epoch 103/150\n",
      "514/514 [==============================] - 0s 113us/step - loss: 0.5434 - accuracy: 0.6965 - val_loss: 0.5771 - val_accuracy: 0.7008\n",
      "Epoch 104/150\n",
      "514/514 [==============================] - 0s 115us/step - loss: 0.5520 - accuracy: 0.7004 - val_loss: 0.5846 - val_accuracy: 0.7283\n",
      "Epoch 105/150\n",
      "514/514 [==============================] - 0s 128us/step - loss: 0.5362 - accuracy: 0.7082 - val_loss: 0.5882 - val_accuracy: 0.7126\n",
      "Epoch 106/150\n",
      "514/514 [==============================] - 0s 116us/step - loss: 0.5464 - accuracy: 0.6848 - val_loss: 0.6038 - val_accuracy: 0.7205\n",
      "Epoch 107/150\n",
      "514/514 [==============================] - 0s 115us/step - loss: 0.5370 - accuracy: 0.7023 - val_loss: 0.5928 - val_accuracy: 0.7126\n",
      "Epoch 108/150\n",
      "514/514 [==============================] - 0s 113us/step - loss: 0.5460 - accuracy: 0.7043 - val_loss: 0.6113 - val_accuracy: 0.7087\n",
      "Epoch 109/150\n",
      "514/514 [==============================] - 0s 104us/step - loss: 0.5402 - accuracy: 0.6926 - val_loss: 0.5802 - val_accuracy: 0.7087\n",
      "Epoch 110/150\n",
      "514/514 [==============================] - 0s 129us/step - loss: 0.5342 - accuracy: 0.7023 - val_loss: 0.6201 - val_accuracy: 0.7047\n",
      "Epoch 111/150\n",
      "514/514 [==============================] - 0s 118us/step - loss: 0.5477 - accuracy: 0.6965 - val_loss: 0.5969 - val_accuracy: 0.7087\n",
      "Epoch 112/150\n",
      "514/514 [==============================] - 0s 109us/step - loss: 0.5365 - accuracy: 0.6984 - val_loss: 0.6099 - val_accuracy: 0.6850\n",
      "Epoch 113/150\n"
     ]
    },
    {
     "name": "stdout",
     "output_type": "stream",
     "text": [
      "514/514 [==============================] - 0s 115us/step - loss: 0.5452 - accuracy: 0.6946 - val_loss: 0.5969 - val_accuracy: 0.6890\n",
      "Epoch 114/150\n",
      "514/514 [==============================] - 0s 124us/step - loss: 0.5308 - accuracy: 0.7023 - val_loss: 0.5940 - val_accuracy: 0.7047\n",
      "Epoch 115/150\n",
      "514/514 [==============================] - 0s 122us/step - loss: 0.5407 - accuracy: 0.7004 - val_loss: 0.5813 - val_accuracy: 0.7087\n",
      "Epoch 116/150\n",
      "514/514 [==============================] - 0s 107us/step - loss: 0.5300 - accuracy: 0.7140 - val_loss: 0.6019 - val_accuracy: 0.7126\n",
      "Epoch 117/150\n",
      "514/514 [==============================] - 0s 107us/step - loss: 0.5464 - accuracy: 0.6926 - val_loss: 0.6099 - val_accuracy: 0.6969\n",
      "Epoch 118/150\n",
      "514/514 [==============================] - 0s 113us/step - loss: 0.5365 - accuracy: 0.7023 - val_loss: 0.5972 - val_accuracy: 0.7205\n",
      "Epoch 119/150\n",
      "514/514 [==============================] - 0s 101us/step - loss: 0.5572 - accuracy: 0.7043 - val_loss: 0.5921 - val_accuracy: 0.7087\n",
      "Epoch 120/150\n",
      "514/514 [==============================] - 0s 101us/step - loss: 0.5292 - accuracy: 0.7062 - val_loss: 0.5840 - val_accuracy: 0.7087\n",
      "Epoch 121/150\n",
      "514/514 [==============================] - 0s 103us/step - loss: 0.5400 - accuracy: 0.6887 - val_loss: 0.6182 - val_accuracy: 0.7087\n",
      "Epoch 122/150\n",
      "514/514 [==============================] - 0s 109us/step - loss: 0.5398 - accuracy: 0.7004 - val_loss: 0.5980 - val_accuracy: 0.7047\n",
      "Epoch 123/150\n",
      "514/514 [==============================] - 0s 103us/step - loss: 0.5296 - accuracy: 0.7043 - val_loss: 0.6198 - val_accuracy: 0.6575\n",
      "Epoch 124/150\n",
      "514/514 [==============================] - 0s 116us/step - loss: 0.5338 - accuracy: 0.7062 - val_loss: 0.6021 - val_accuracy: 0.6969\n",
      "Epoch 125/150\n",
      "514/514 [==============================] - 0s 114us/step - loss: 0.5341 - accuracy: 0.6965 - val_loss: 0.5852 - val_accuracy: 0.7205\n",
      "Epoch 126/150\n",
      "514/514 [==============================] - 0s 114us/step - loss: 0.5267 - accuracy: 0.6887 - val_loss: 0.5962 - val_accuracy: 0.7126\n",
      "Epoch 127/150\n",
      "514/514 [==============================] - 0s 114us/step - loss: 0.5298 - accuracy: 0.7101 - val_loss: 0.5962 - val_accuracy: 0.6969\n",
      "Epoch 128/150\n",
      "514/514 [==============================] - 0s 130us/step - loss: 0.5311 - accuracy: 0.7160 - val_loss: 0.5860 - val_accuracy: 0.7165\n",
      "Epoch 129/150\n",
      "514/514 [==============================] - 0s 114us/step - loss: 0.5335 - accuracy: 0.6946 - val_loss: 0.6054 - val_accuracy: 0.6929\n",
      "Epoch 130/150\n",
      "514/514 [==============================] - 0s 116us/step - loss: 0.5365 - accuracy: 0.7043 - val_loss: 0.5846 - val_accuracy: 0.7244\n",
      "Epoch 131/150\n",
      "514/514 [==============================] - 0s 114us/step - loss: 0.5354 - accuracy: 0.7082 - val_loss: 0.6039 - val_accuracy: 0.7126\n",
      "Epoch 132/150\n",
      "514/514 [==============================] - 0s 111us/step - loss: 0.5341 - accuracy: 0.7023 - val_loss: 0.5937 - val_accuracy: 0.7244\n",
      "Epoch 133/150\n",
      "514/514 [==============================] - 0s 103us/step - loss: 0.5294 - accuracy: 0.7101 - val_loss: 0.5837 - val_accuracy: 0.7323\n",
      "Epoch 134/150\n",
      "514/514 [==============================] - 0s 103us/step - loss: 0.5320 - accuracy: 0.7082 - val_loss: 0.5895 - val_accuracy: 0.7126\n",
      "Epoch 135/150\n",
      "514/514 [==============================] - 0s 108us/step - loss: 0.5237 - accuracy: 0.7121 - val_loss: 0.5826 - val_accuracy: 0.7205\n",
      "Epoch 136/150\n",
      "514/514 [==============================] - 0s 111us/step - loss: 0.5343 - accuracy: 0.7062 - val_loss: 0.6028 - val_accuracy: 0.6969\n",
      "Epoch 137/150\n",
      "514/514 [==============================] - 0s 116us/step - loss: 0.5307 - accuracy: 0.7101 - val_loss: 0.5863 - val_accuracy: 0.7165\n",
      "Epoch 138/150\n",
      "514/514 [==============================] - 0s 114us/step - loss: 0.5277 - accuracy: 0.6984 - val_loss: 0.5818 - val_accuracy: 0.7165\n",
      "Epoch 139/150\n",
      "514/514 [==============================] - 0s 118us/step - loss: 0.5256 - accuracy: 0.6965 - val_loss: 0.6012 - val_accuracy: 0.7008\n",
      "Epoch 140/150\n",
      "514/514 [==============================] - 0s 113us/step - loss: 0.5303 - accuracy: 0.6984 - val_loss: 0.5843 - val_accuracy: 0.7205\n",
      "Epoch 141/150\n",
      "514/514 [==============================] - 0s 116us/step - loss: 0.5307 - accuracy: 0.7004 - val_loss: 0.5827 - val_accuracy: 0.7126\n",
      "Epoch 142/150\n",
      "514/514 [==============================] - 0s 111us/step - loss: 0.5392 - accuracy: 0.6984 - val_loss: 0.5948 - val_accuracy: 0.7165\n",
      "Epoch 143/150\n",
      "514/514 [==============================] - 0s 111us/step - loss: 0.5292 - accuracy: 0.7004 - val_loss: 0.5977 - val_accuracy: 0.7047\n",
      "Epoch 144/150\n",
      "514/514 [==============================] - 0s 113us/step - loss: 0.5452 - accuracy: 0.7062 - val_loss: 0.5806 - val_accuracy: 0.7283\n",
      "Epoch 145/150\n",
      "514/514 [==============================] - 0s 116us/step - loss: 0.5265 - accuracy: 0.7043 - val_loss: 0.5805 - val_accuracy: 0.7244\n",
      "Epoch 146/150\n",
      "514/514 [==============================] - 0s 112us/step - loss: 0.5234 - accuracy: 0.7062 - val_loss: 0.6032 - val_accuracy: 0.7126\n",
      "Epoch 147/150\n",
      "514/514 [==============================] - 0s 126us/step - loss: 0.5237 - accuracy: 0.7121 - val_loss: 0.5751 - val_accuracy: 0.7205\n",
      "Epoch 148/150\n",
      "514/514 [==============================] - 0s 120us/step - loss: 0.5263 - accuracy: 0.7043 - val_loss: 0.5759 - val_accuracy: 0.7283\n",
      "Epoch 149/150\n",
      "514/514 [==============================] - 0s 109us/step - loss: 0.5171 - accuracy: 0.7082 - val_loss: 0.5992 - val_accuracy: 0.6890\n",
      "Epoch 150/150\n",
      "514/514 [==============================] - 0s 116us/step - loss: 0.5209 - accuracy: 0.7121 - val_loss: 0.5750 - val_accuracy: 0.7126\n",
      "768/768 [==============================] - 0s 13us/step\n",
      "\n",
      "accuracy: 70.70%\n"
     ]
    }
   ],
   "source": [
    "# kernel_initalizer 사용 , return 을 사용했을때? \n",
    "from keras.models import Sequential \n",
    "from keras.layers import Dense\n",
    "import numpy\n",
    "numpy.random.seed(7)\n",
    "dataset = numpy.loadtxt('pima.data', delimiter=',') \n",
    "X = dataset[:,0:8] \n",
    "Y = dataset[:,8] \n",
    "\n",
    "model = Sequential()\n",
    "model.add(Dense(12, input_dim=8, activation='relu', kernel_initializer='uniform')) \n",
    "# kernel_initializr 를 통해서 초기화방법 지정해줄수있다 >> 우리도 모르게 만들어지는 가중치를 균등분포로 초기화해주었다 \n",
    "model.add(Dense(8, activation='relu'))  \n",
    "\n",
    "\n",
    "model.add(Dense(1, activation='sigmoid'))\n",
    "model.compile(loss='binary_crossentropy', optimizer = 'adam', metrics=['accuracy'])  \n",
    "\n",
    "history = model.fit(X,Y, epochs=150,validation_split=0.33,  batch_size=10) # history 로 리턴받았다 --> 아래 참고 \n",
    "     # 데이터를 분리할때  train 와 test 로 분리되는데 과적합 되는 현상이 벌어짐) \n",
    "     # -> train, validation, test 로 나눈다 ( 검증용 데이터인 validation 을 만드는 것 )\n",
    "scores = model.evaluate(X,Y)\n",
    "\n",
    "print('\\n%s: %.2f%%' %(model.metrics_names[1], scores[1]*100))"
   ]
  },
  {
   "cell_type": "code",
   "execution_count": 12,
   "metadata": {},
   "outputs": [
    {
     "name": "stdout",
     "output_type": "stream",
     "text": [
      "dict_keys(['val_loss', 'val_accuracy', 'loss', 'accuracy'])\n"
     ]
    }
   ],
   "source": [
    "print(history.history.keys()) # history 로 리턴받으면 -->> loss, accuracy 가 둘다 나온다. "
   ]
  },
  {
   "cell_type": "code",
   "execution_count": 13,
   "metadata": {},
   "outputs": [
    {
     "data": {
      "image/png": "[encoded data removed]",
      "text/plain": [
       "<Figure size 432x288 with 1 Axes>"
      ]
     },
     "metadata": {
      "needs_background": "light"
     },
     "output_type": "display_data"
    }
   ],
   "source": [
    "%matplotlib inline\n",
    "import matplotlib.pyplot as plt\n",
    "plt.plot(history.history['accuracy'])\n",
    "plt.show()"
   ]
  },
  {
   "cell_type": "code",
   "execution_count": 14,
   "metadata": {},
   "outputs": [
    {
     "name": "stdout",
     "output_type": "stream",
     "text": [
      "dict_keys(['val_loss', 'val_accuracy', 'loss', 'accuracy'])\n"
     ]
    },
    {
     "data": {
      "image/png": "[encoded data removed]",
      "text/plain": [
       "<Figure size 432x288 with 1 Axes>"
      ]
     },
     "metadata": {
      "needs_background": "light"
     },
     "output_type": "display_data"
    }
   ],
   "source": [
    "print(history.history.keys())\n",
    "# val_loss, val_accuracy , loss, accuracy\n",
    "\n",
    "plt.plot(history.history['accuracy'])\n",
    "plt.plot(history.history['val_accuracy'])\n",
    "plt.title('accuracy')\n",
    "plt.ylabel('accuracy')\n",
    "plt.xlabel('epoch')\n",
    "plt.legend(['train', 'test'], loc='upper left')\n",
    "plt.show()"
   ]
  },
  {
   "cell_type": "code",
   "execution_count": 15,
   "metadata": {},
   "outputs": [
    {
     "data": {
      "image/png": "[encoded data removed]",
      "text/plain": [
       "<Figure size 432x288 with 1 Axes>"
      ]
     },
     "metadata": {
      "needs_background": "light"
     },
     "output_type": "display_data"
    }
   ],
   "source": [
    "plt.plot(history.history['loss'])\n",
    "plt.plot(history.history['val_loss'])\n",
    "plt.title('loss')\n",
    "plt.ylabel('loss')\n",
    "plt.xlabel('epoch')\n",
    "plt.legend(['train', 'test'], loc='upper left')\n",
    "plt.show()"
   ]
  },
  {
   "cell_type": "code",
   "execution_count": 16,
   "metadata": {},
   "outputs": [
    {
     "name": "stdout",
     "output_type": "stream",
     "text": [
      "(1000, 2)\n",
      "(1000,)\n"
     ]
    }
   ],
   "source": [
    "from sklearn.preprocessing import scale\n",
    "from sklearn.model_selection import train_test_split\n",
    "from sklearn.datasets import make_moons\n",
    "X, Y =make_moons(noise=0.2, random_state=0, n_samples=1000)  # X 는 1000x2\n",
    "X = scale(X)\n",
    "X_train, X_test, Y_train, Y_test = train_test_split(X, Y, test_size=.5)\n",
    "\n",
    "print(X.shape)  # X 는 1000x2 \n",
    "print(Y.shape)"
   ]
  },
  {
   "cell_type": "code",
   "execution_count": 17,
   "metadata": {},
   "outputs": [
    {
     "data": {
      "text/plain": [
       "[Text(0, 0.5, 'Y'),\n",
       " Text(0.5, 0, 'X'),\n",
       " Text(0.5, 1.0, 'binary classification ')]"
      ]
     },
     "execution_count": 17,
     "metadata": {},
     "output_type": "execute_result"
    },
    {
     "data": {
      "image/png": "[encoded data removed]",
      "text/plain": [
       "<Figure size 432x288 with 1 Axes>"
      ]
     },
     "metadata": {
      "needs_background": "light"
     },
     "output_type": "display_data"
    }
   ],
   "source": [
    "fig, ax = plt.subplots()\n",
    "ax.scatter(X[Y==0,0], X[Y==0,1], label='Class 0 ')\n",
    "ax.scatter(X[Y==1, 0], X[Y==1, 1], color='r', label='Class 1')\n",
    "ax.legend()\n",
    "ax.set(xlabel='X', ylabel='Y', title='binary classification ')"
   ]
  },
  {
   "cell_type": "code",
   "execution_count": 18,
   "metadata": {},
   "outputs": [],
   "source": [
    "import keras"
   ]
  },
  {
   "cell_type": "code",
   "execution_count": 19,
   "metadata": {},
   "outputs": [
    {
     "name": "stdout",
     "output_type": "stream",
     "text": [
      "WARNING:tensorflow:From C:\\Users\\ICT01_10\\Anaconda3\\lib\\site-packages\\keras\\callbacks\\tensorboard_v1.py:146: The name tf.summary.histogram is deprecated. Please use tf.compat.v1.summary.histogram instead.\n",
      "\n",
      "WARNING:tensorflow:From C:\\Users\\ICT01_10\\Anaconda3\\lib\\site-packages\\keras\\callbacks\\tensorboard_v1.py:200: The name tf.summary.merge_all is deprecated. Please use tf.compat.v1.summary.merge_all instead.\n",
      "\n",
      "WARNING:tensorflow:From C:\\Users\\ICT01_10\\Anaconda3\\lib\\site-packages\\keras\\callbacks\\tensorboard_v1.py:203: The name tf.summary.FileWriter is deprecated. Please use tf.compat.v1.summary.FileWriter instead.\n",
      "\n"
     ]
    }
   ],
   "source": [
    "# 비선형모델일때 -> 신경망쓴다 \n",
    "model = Sequential()\n",
    "# 행렬연산 -> 설명을 확대 (변수32 - 설명) \n",
    "# 1000x2  2x32=64  + 32 = 96 ---> 1000x32 \n",
    "\n",
    "\n",
    "model.add(Dense(32, input_dim=2, activation='relu')) # 여기에는 1000x32 가 들어오고 가중치는 32x1이 되고 결과는 1000x1 이 된다 (분류라는것)\n",
    "                                                                                         # 32x1 = 33+bias1 =34 (즉 가중치가 있으면 bias 가 있다) \n",
    "model.add(Dense(1, activation='sigmoid')) \n",
    "\n",
    "model.compile(optimizer='AdaDelta', loss='binary_crossentropy', metrics=['accuracy'])\n",
    "# callback 함수는 언제쓰냐?\n",
    "# callback 함수는 window 에서 자동으로 호출되는 함수이다 \n",
    "tb_callback = keras.callbacks.TensorBoard(log_dir = './Graph/model_1/',   # graph 이미지 출력 \n",
    "                                         histogram_freq = 100, write_graph=True,\n",
    "                                         write_images = False)\n",
    "\n",
    "tb_callback.set_model(model) # 콜백을 모델에 등록해준다 (이미지를 간단하게 불러오는것을 콜백함수가 쓴것이라고 생각하자)\n",
    "# 콜백함수를 모델에 등록하면 --> 모델이 훈련되면서 자동으로 위에 3문장을 호출해준다 (tb_callback = keras.callbacks.TensorBoard(log_dir = './Graph/model_1/',   # graph 이미지 출력 \n",
    "                                                                               # histogram_freq = 100, write_graph=True,\n",
    "                                                                               #  write_images = False)  --> 이걸 자동으로 호출해준다 \n",
    "        \n"
   ]
  },
  {
   "cell_type": "code",
   "execution_count": 20,
   "metadata": {},
   "outputs": [
    {
     "name": "stdout",
     "output_type": "stream",
     "text": [
      "WARNING:tensorflow:From C:\\Users\\ICT01_10\\Anaconda3\\lib\\site-packages\\keras\\callbacks\\tensorboard_v1.py:343: The name tf.Summary is deprecated. Please use tf.compat.v1.Summary instead.\n",
      "\n"
     ]
    }
   ],
   "source": [
    "# 위에서 등록을 했고 fit 할때 호출을 한다 \n",
    "hist = model.fit(X_train, Y_train, batch_size=32, epochs=200, verbose= 0, validation_data = (X_test, Y_test), callbacks=[tb_callback])"
   ]
  },
  {
   "cell_type": "code",
   "execution_count": 21,
   "metadata": {},
   "outputs": [
    {
     "name": "stdout",
     "output_type": "stream",
     "text": [
      "Test Loss:  0.12789358568191528\n",
      "Test accuracy: 0.949999988079071\n"
     ]
    }
   ],
   "source": [
    "score = model.evaluate(X_test, Y_test, verbose=0)\n",
    "print(\"Test Loss: \" , score[0])\n",
    "print(\"Test accuracy:\", score[1]) "
   ]
  },
  {
   "cell_type": "code",
   "execution_count": 22,
   "metadata": {},
   "outputs": [
    {
     "name": "stdout",
     "output_type": "stream",
     "text": [
      "Model: \"sequential_5\"\n",
      "_________________________________________________________________\n",
      "Layer (type)                 Output Shape              Param #   \n",
      "=================================================================\n",
      "dense_10 (Dense)             (None, 32)                96        \n",
      "_________________________________________________________________\n",
      "dense_11 (Dense)             (None, 1)                 33        \n",
      "=================================================================\n",
      "Total params: 129\n",
      "Trainable params: 129\n",
      "Non-trainable params: 0\n",
      "_________________________________________________________________\n"
     ]
    }
   ],
   "source": [
    "keras.utils.print_summary(model) # #print 하고 summary 하면 모델의 구성을 출력하낟 "
   ]
  },
  {
   "cell_type": "code",
   "execution_count": 23,
   "metadata": {},
   "outputs": [
    {
     "data": {
      "image/png": "[encoded data removed]",
      "text/plain": [
       "<IPython.core.display.Image object>"
      ]
     },
     "execution_count": 23,
     "metadata": {},
     "output_type": "execute_result"
    }
   ],
   "source": [
    "keras.utils.plot_model(model)  # 이건 모델의 구성!"
   ]
  },
  {
   "cell_type": "code",
   "execution_count": 24,
   "metadata": {},
   "outputs": [
    {
     "data": {
      "text/plain": [
       "<pydot.Dot at 0x264a06aad48>"
      ]
     },
     "execution_count": 24,
     "metadata": {},
     "output_type": "execute_result"
    }
   ],
   "source": [
    "%matplotlib inline\n",
    "from keras.utils.vis_utils import model_to_dot\n",
    "model_to_dot(model)"
   ]
  },
  {
   "cell_type": "code",
   "execution_count": 25,
   "metadata": {},
   "outputs": [
    {
     "data": {
      "image/svg+xml": [
       "<svg height=\"255pt\" viewBox=\"0.00 0.00 181.00 191.00\" width=\"241pt\" xmlns=\"http://www.w3.org/2000/svg\" xmlns:xlink=\"http://www.w3.org/1999/xlink\">\n",
       "<g class=\"graph\" id=\"graph0\" transform=\"scale(1.33333 1.33333) rotate(0) translate(4 187)\">\n",
       "<title>G</title>\n",
       "<polygon fill=\"white\" points=\"-4,4 -4,-187 177,-187 177,4 -4,4\" stroke=\"none\"/>\n",
       "<!-- 2631160332936 -->\n",
       "<g class=\"node\" id=\"node1\"><title>2631160332936</title>\n",
       "<polygon fill=\"none\" points=\"0,-146.5 0,-182.5 173,-182.5 173,-146.5 0,-146.5\" stroke=\"black\"/>\n",
       "<text font-family=\"Times New Roman,serif\" font-size=\"14.00\" text-anchor=\"middle\" x=\"86.5\" y=\"-160.8\">dense_10_input: InputLayer</text>\n",
       "</g>\n",
       "<!-- 2631160333448 -->\n",
       "<g class=\"node\" id=\"node2\"><title>2631160333448</title>\n",
       "<polygon fill=\"none\" points=\"31,-73.5 31,-109.5 142,-109.5 142,-73.5 31,-73.5\" stroke=\"black\"/>\n",
       "<text font-family=\"Times New Roman,serif\" font-size=\"14.00\" text-anchor=\"middle\" x=\"86.5\" y=\"-87.8\">dense_10: Dense</text>\n",
       "</g>\n",
       "<!-- 2631160332936&#45;&gt;2631160333448 -->\n",
       "<g class=\"edge\" id=\"edge1\"><title>2631160332936-&gt;2631160333448</title>\n",
       "<path d=\"M86.5,-146.313C86.5,-138.289 86.5,-128.547 86.5,-119.569\" fill=\"none\" stroke=\"black\"/>\n",
       "<polygon fill=\"black\" points=\"90.0001,-119.529 86.5,-109.529 83.0001,-119.529 90.0001,-119.529\" stroke=\"black\"/>\n",
       "</g>\n",
       "<!-- 2631154149384 -->\n",
       "<g class=\"node\" id=\"node3\"><title>2631154149384</title>\n",
       "<polygon fill=\"none\" points=\"31,-0.5 31,-36.5 142,-36.5 142,-0.5 31,-0.5\" stroke=\"black\"/>\n",
       "<text font-family=\"Times New Roman,serif\" font-size=\"14.00\" text-anchor=\"middle\" x=\"86.5\" y=\"-14.8\">dense_11: Dense</text>\n",
       "</g>\n",
       "<!-- 2631160333448&#45;&gt;2631154149384 -->\n",
       "<g class=\"edge\" id=\"edge2\"><title>2631160333448-&gt;2631154149384</title>\n",
       "<path d=\"M86.5,-73.3129C86.5,-65.2895 86.5,-55.5475 86.5,-46.5691\" fill=\"none\" stroke=\"black\"/>\n",
       "<polygon fill=\"black\" points=\"90.0001,-46.5288 86.5,-36.5288 83.0001,-46.5289 90.0001,-46.5288\" stroke=\"black\"/>\n",
       "</g>\n",
       "</g>\n",
       "</svg>"
      ],
      "text/plain": [
       "<IPython.core.display.SVG object>"
      ]
     },
     "execution_count": 25,
     "metadata": {},
     "output_type": "execute_result"
    }
   ],
   "source": [
    "from IPython.display import Image, SVG\n",
    "SVG(model_to_dot(model).create(prog='dot', format='svg'))"
   ]
  },
  {
   "cell_type": "code",
   "execution_count": 26,
   "metadata": {},
   "outputs": [
    {
     "name": "stdout",
     "output_type": "stream",
     "text": [
      "(60000, 28, 28) uint8\n",
      "(60000,) uint8\n",
      "(10000, 28, 28) uint8\n",
      "(10000,) uint8\n"
     ]
    }
   ],
   "source": [
    "from keras.datasets import mnist\n",
    "import matplotlib.pylab as plt\n",
    "(X_train0, y_train0), (X_test0, y_test0) = mnist.load_data()\n",
    "print(X_train0.shape, X_train0.dtype)  # 60000,  28x28 이 나온다   -> 28x28이라고 안해도 된다 (내맘대로 조정한다)\n",
    "print(y_train0.shape, y_train0.dtype)  # 60000\n",
    "print(X_test0.shape, X_test0.dtype)   # 10000, 28x28\n",
    "print(y_test0.shape, y_test0.dtype) # "
   ]
  },
  {
   "cell_type": "code",
   "execution_count": 27,
   "metadata": {},
   "outputs": [
    {
     "data": {
      "image/png": "[encoded data removed]",
      "text/plain": [
       "<Figure size 432x288 with 1 Axes>"
      ]
     },
     "metadata": {
      "needs_background": "light"
     },
     "output_type": "display_data"
    }
   ],
   "source": [
    "plt.imshow(X_train0[0])\n",
    "plt.grid(False)\n",
    "plt.show()\n"
   ]
  },
  {
   "cell_type": "code",
   "execution_count": 28,
   "metadata": {},
   "outputs": [
    {
     "name": "stdout",
     "output_type": "stream",
     "text": [
      "(60000, 784) float32\n"
     ]
    }
   ],
   "source": [
    "# fully-connected : flatten : FFNN 은 \n",
    "\n",
    "X_train = X_train0.reshape(60000,784).astype('float32')/255.0  # 255  로 나누는 이유 -> 이미지 정규화 (이미지는 원래 0~255사이의 값이므로 255로 나누니까 0~1 로 바뀐다=정규화) / 나누려면 float 형으로 바꾸어야한다. \n",
    "X_test = X_test0.reshape(10000,784).astype('float32')/255.0\n",
    "print(X_train.shape, X_train.dtype)"
   ]
  },
  {
   "cell_type": "code",
   "execution_count": 29,
   "metadata": {},
   "outputs": [
    {
     "data": {
      "text/plain": [
       "array([5, 0, 4, 1, 9], dtype=uint8)"
      ]
     },
     "execution_count": 29,
     "metadata": {},
     "output_type": "execute_result"
    }
   ],
   "source": [
    "\n",
    "y_train0[:5] # 이걸확인해보면 one_hot_encoding 여부 확인가능  \n",
    "# 5,0,4,1,9   로 나온다 -> onehotencoding 되어있지 않다   -> 해주어야한다 .\n",
    "\n",
    "#( a만약 강아지고양이 이렇게 말고 3개가 넘어가면 softmax 해준다 )\n"
   ]
  },
  {
   "cell_type": "code",
   "execution_count": 30,
   "metadata": {},
   "outputs": [
    {
     "data": {
      "text/plain": [
       "array([[0., 0., 0., 0., 0., 1., 0., 0., 0., 0.],\n",
       "       [1., 0., 0., 0., 0., 0., 0., 0., 0., 0.],\n",
       "       [0., 0., 0., 0., 1., 0., 0., 0., 0., 0.],\n",
       "       [0., 1., 0., 0., 0., 0., 0., 0., 0., 0.],\n",
       "       [0., 0., 0., 0., 0., 0., 0., 0., 0., 1.]], dtype=float32)"
      ]
     },
     "execution_count": 30,
     "metadata": {},
     "output_type": "execute_result"
    }
   ],
   "source": [
    "# categorical 함수를 이용해서 원핫인코딩한다\n",
    "from keras.utils import np_utils\n",
    "Y_train = np_utils.to_categorical(y_train0, 10)\n",
    "Y_test = np_utils.to_categorical(y_test0, 10)\n",
    "Y_train[:5]"
   ]
  },
  {
   "cell_type": "code",
   "execution_count": 31,
   "metadata": {},
   "outputs": [],
   "source": [
    "import numpy as np\n",
    "from keras.optimizers import SGD\n",
    "import numpy as np\n",
    "np.random.seed(0)\n",
    "model = Sequential()\n",
    "# 60000x784 ,  784x 15  ---> 60000x15\n",
    "model.add(Dense(15, input_dim=784, activation='sigmoid'))\n",
    "# 60000x15   15x10   ->  60000x10 \n",
    "model.add(Dense(10, activation='sigmoid'))\n",
    "model.compile(optimizer=SGD(lr=0.2), loss='mean_squared_error', metrics=['accuracy']) \n",
    "# learning rate(lr)\n",
    "# stockhastic gradient descent : SGD : 확률적 경사하강법"
   ]
  },
  {
   "cell_type": "code",
   "execution_count": 32,
   "metadata": {},
   "outputs": [],
   "source": [
    "# model.add(Dense(15, input_dim=784, activation='sigmoid')) 이것을 \n",
    "# 출력차수가 512 인 레이어를 추가하고 싶을땐 \n",
    "# model.add(Dense(512, input_dim=784, activation='sigmoid')) ; model.add(Dense(15)) 로 바꿔보자 "
   ]
  },
  {
   "cell_type": "code",
   "execution_count": 33,
   "metadata": {},
   "outputs": [
    {
     "data": {
      "text/plain": [
       "[<keras.layers.core.Dense at 0x264a06f4448>,\n",
       " <keras.layers.core.Dense at 0x2649d42f5c8>]"
      ]
     },
     "execution_count": 33,
     "metadata": {},
     "output_type": "execute_result"
    }
   ],
   "source": [
    "model.layers\n"
   ]
  },
  {
   "cell_type": "code",
   "execution_count": 34,
   "metadata": {},
   "outputs": [
    {
     "data": {
      "text/plain": [
       "<function keras.activations.sigmoid(x)>"
      ]
     },
     "execution_count": 34,
     "metadata": {},
     "output_type": "execute_result"
    }
   ],
   "source": [
    "l1 = model.layers[0]\n",
    "l2 = model.layers[1]\n",
    "# 레이어 속성으로 정보확인\n",
    "l1.name\n",
    "l1.input_shape\n",
    "l1.output_shape\n",
    "l1.activation"
   ]
  },
  {
   "cell_type": "code",
   "execution_count": 35,
   "metadata": {},
   "outputs": [
    {
     "name": "stderr",
     "output_type": "stream",
     "text": [
      "C:\\Users\\ICT01_10\\Anaconda3\\lib\\site-packages\\ipykernel_launcher.py:2: UserWarning: The `nb_epoch` argument in `fit` has been renamed `epochs`.\n",
      "  \n"
     ]
    },
    {
     "name": "stdout",
     "output_type": "stream",
     "text": [
      "Train on 60000 samples, validate on 10000 samples\n",
      "Epoch 1/30\n",
      " - 1s - loss: 0.1019 - accuracy: 0.2440 - val_loss: 0.0864 - val_accuracy: 0.3212\n",
      "Epoch 2/30\n",
      " - 1s - loss: 0.0845 - accuracy: 0.3921 - val_loss: 0.0821 - val_accuracy: 0.4409\n",
      "Epoch 3/30\n",
      " - 1s - loss: 0.0796 - accuracy: 0.4997 - val_loss: 0.0765 - val_accuracy: 0.5340\n",
      "Epoch 4/30\n",
      " - 1s - loss: 0.0740 - accuracy: 0.5620 - val_loss: 0.0707 - val_accuracy: 0.5852\n",
      "Epoch 5/30\n",
      " - 1s - loss: 0.0682 - accuracy: 0.6149 - val_loss: 0.0649 - val_accuracy: 0.6522\n",
      "Epoch 6/30\n",
      " - 1s - loss: 0.0625 - accuracy: 0.6759 - val_loss: 0.0594 - val_accuracy: 0.6998\n",
      "Epoch 7/30\n",
      " - 1s - loss: 0.0576 - accuracy: 0.7101 - val_loss: 0.0551 - val_accuracy: 0.7316\n",
      "Epoch 8/30\n",
      " - 1s - loss: 0.0537 - accuracy: 0.7325 - val_loss: 0.0516 - val_accuracy: 0.7485\n",
      "Epoch 9/30\n",
      " - 1s - loss: 0.0505 - accuracy: 0.7474 - val_loss: 0.0486 - val_accuracy: 0.7639\n",
      "Epoch 10/30\n",
      " - 1s - loss: 0.0478 - accuracy: 0.7609 - val_loss: 0.0461 - val_accuracy: 0.7759\n",
      "Epoch 11/30\n",
      " - 1s - loss: 0.0455 - accuracy: 0.7739 - val_loss: 0.0439 - val_accuracy: 0.7893\n",
      "Epoch 12/30\n",
      " - 1s - loss: 0.0435 - accuracy: 0.7859 - val_loss: 0.0420 - val_accuracy: 0.8023\n",
      "Epoch 13/30\n",
      " - 1s - loss: 0.0417 - accuracy: 0.7977 - val_loss: 0.0402 - val_accuracy: 0.8132\n",
      "Epoch 14/30\n",
      " - 1s - loss: 0.0400 - accuracy: 0.8083 - val_loss: 0.0386 - val_accuracy: 0.8255\n",
      "Epoch 15/30\n",
      " - 1s - loss: 0.0385 - accuracy: 0.8192 - val_loss: 0.0371 - val_accuracy: 0.8359\n",
      "Epoch 16/30\n",
      " - 1s - loss: 0.0371 - accuracy: 0.8288 - val_loss: 0.0358 - val_accuracy: 0.8432\n",
      "Epoch 17/30\n",
      " - 1s - loss: 0.0359 - accuracy: 0.8371 - val_loss: 0.0345 - val_accuracy: 0.8503\n",
      "Epoch 18/30\n",
      " - 1s - loss: 0.0347 - accuracy: 0.8440 - val_loss: 0.0334 - val_accuracy: 0.8557\n",
      "Epoch 19/30\n",
      " - 1s - loss: 0.0336 - accuracy: 0.8506 - val_loss: 0.0323 - val_accuracy: 0.8618\n",
      "Epoch 20/30\n",
      " - 1s - loss: 0.0326 - accuracy: 0.8565 - val_loss: 0.0313 - val_accuracy: 0.8651\n",
      "Epoch 21/30\n",
      " - 1s - loss: 0.0316 - accuracy: 0.8610 - val_loss: 0.0304 - val_accuracy: 0.8706\n",
      "Epoch 22/30\n",
      " - 1s - loss: 0.0308 - accuracy: 0.8646 - val_loss: 0.0295 - val_accuracy: 0.8742\n",
      "Epoch 23/30\n",
      " - 1s - loss: 0.0299 - accuracy: 0.8680 - val_loss: 0.0287 - val_accuracy: 0.8777\n",
      "Epoch 24/30\n",
      " - 1s - loss: 0.0292 - accuracy: 0.8709 - val_loss: 0.0280 - val_accuracy: 0.8790\n",
      "Epoch 25/30\n",
      " - 1s - loss: 0.0285 - accuracy: 0.8738 - val_loss: 0.0273 - val_accuracy: 0.8814\n",
      "Epoch 26/30\n",
      " - 1s - loss: 0.0278 - accuracy: 0.8765 - val_loss: 0.0267 - val_accuracy: 0.8845\n",
      "Epoch 27/30\n",
      " - 1s - loss: 0.0272 - accuracy: 0.8787 - val_loss: 0.0261 - val_accuracy: 0.8863\n",
      "Epoch 28/30\n",
      " - 1s - loss: 0.0266 - accuracy: 0.8814 - val_loss: 0.0255 - val_accuracy: 0.8878\n",
      "Epoch 29/30\n",
      " - 1s - loss: 0.0261 - accuracy: 0.8829 - val_loss: 0.0250 - val_accuracy: 0.8894\n",
      "Epoch 30/30\n",
      " - 1s - loss: 0.0256 - accuracy: 0.8844 - val_loss: 0.0245 - val_accuracy: 0.8904\n"
     ]
    },
    {
     "data": {
      "image/png": "[encoded data removed]",
      "text/plain": [
       "<Figure size 432x288 with 1 Axes>"
      ]
     },
     "metadata": {
      "needs_background": "light"
     },
     "output_type": "display_data"
    }
   ],
   "source": [
    "hist = model.fit(X_train, Y_train, nb_epoch=30, batch_size=100,\n",
    "                validation_data = (X_test, Y_test), verbose=2) # validation data 를 저렇게 별도로 주어도된다 \n",
    "plt.plot(hist.history['loss']) # 작업했던 내용을 확인할수있다. \n",
    "plt.show()"
   ]
  },
  {
   "cell_type": "code",
   "execution_count": 36,
   "metadata": {},
   "outputs": [
    {
     "data": {
      "image/png": "[encoded data removed]",
      "text/plain": [
       "<Figure size 432x288 with 1 Axes>"
      ]
     },
     "metadata": {
      "needs_background": "light"
     },
     "output_type": "display_data"
    },
    {
     "name": "stdout",
     "output_type": "stream",
     "text": [
      "<keras.engine.sequential.Sequential object at 0x00000264A08202C8>\n",
      "{'batch_size': 100, 'epochs': 30, 'steps': None, 'samples': 60000, 'verbose': 2, 'do_validation': True, 'metrics': ['loss', 'accuracy', 'val_loss', 'val_accuracy']}\n",
      "[0.24401666, 0.39213333, 0.49971667, 0.56201667, 0.6149167, 0.6759167, 0.7101333, 0.7325, 0.7474167, 0.76085, 0.77395, 0.7858833, 0.79766667, 0.8082833, 0.81918335, 0.82878333, 0.83713335, 0.84403336, 0.8506333, 0.85646665, 0.8609667, 0.8646167, 0.86795, 0.87091666, 0.87381667, 0.87651664, 0.8786833, 0.88136667, 0.8829, 0.8844]\n",
      "0.8903999924659729\n"
     ]
    }
   ],
   "source": [
    "plt.plot(hist.history['accuracy'],'b-', label='training')\n",
    "plt.plot(hist.history['val_accuracy'],'r:', label='test')\n",
    "plt.legend()\n",
    "plt.show()\n",
    "\n",
    "print(hist.model)\n",
    "print(hist.params)\n",
    "print(hist.history['accuracy'])\n",
    "print(hist.history['val_accuracy'][29])"
   ]
  },
  {
   "cell_type": "code",
   "execution_count": 37,
   "metadata": {},
   "outputs": [],
   "source": [
    "# callback class\n",
    "# callback 함수를 상속받으면 custom callback 함수를 제작할 수 있다\n",
    "# >> keras 가 가지고있는 call back 기능은 함수에 의해서 호출되는 객체이다 \n",
    "\n",
    "class CustomHistory(keras.callbacks.Callback): # () 안에 보이는것처럼 상속을 받는다. \n",
    "    def init(self):   #__init 랑 다른가??? (이해안됨)  \n",
    "        self.train_loss = []\n",
    "        self.val_loss = []\n",
    "        self.train_acc = []\n",
    "        self.val_acc = []\n",
    "    def on_epoch_end(self, batch,logs={}):  # 오버라이딩하고있다 (배치와 로고가 매개변수로 들어온다) \n",
    "        self.train_loss.append(logs.get('loss'))\n",
    "        self.val_loss.append(logs.get('val_loss'))\n",
    "        self.train_acc.append(logs.get('acc'))\n",
    "        self.val_acc.append(logs.get('val_acc'))"
   ]
  },
  {
   "cell_type": "code",
   "execution_count": 38,
   "metadata": {},
   "outputs": [
    {
     "name": "stdout",
     "output_type": "stream",
     "text": [
      "Train on 60000 samples, validate on 10000 samples\n",
      "Epoch 1/30\n"
     ]
    },
    {
     "name": "stderr",
     "output_type": "stream",
     "text": [
      "C:\\Users\\ICT01_10\\Anaconda3\\lib\\site-packages\\ipykernel_launcher.py:4: UserWarning: The `nb_epoch` argument in `fit` has been renamed `epochs`.\n",
      "  after removing the cwd from sys.path.\n"
     ]
    },
    {
     "name": "stdout",
     "output_type": "stream",
     "text": [
      " - 1s - loss: 0.0251 - accuracy: 0.8863 - val_loss: 0.0241 - val_accuracy: 0.8911\n",
      "Epoch 2/30\n",
      " - 1s - loss: 0.0246 - accuracy: 0.8873 - val_loss: 0.0236 - val_accuracy: 0.8929\n",
      "Epoch 3/30\n",
      " - 1s - loss: 0.0242 - accuracy: 0.8886 - val_loss: 0.0232 - val_accuracy: 0.8946\n",
      "Epoch 4/30\n",
      " - 1s - loss: 0.0238 - accuracy: 0.8897 - val_loss: 0.0229 - val_accuracy: 0.8956\n",
      "Epoch 5/30\n",
      " - 1s - loss: 0.0234 - accuracy: 0.8910 - val_loss: 0.0225 - val_accuracy: 0.8963\n",
      "Epoch 6/30\n",
      " - 1s - loss: 0.0231 - accuracy: 0.8920 - val_loss: 0.0222 - val_accuracy: 0.8976\n",
      "Epoch 7/30\n",
      " - 1s - loss: 0.0228 - accuracy: 0.8928 - val_loss: 0.0219 - val_accuracy: 0.8985\n",
      "Epoch 8/30\n",
      " - 1s - loss: 0.0225 - accuracy: 0.8935 - val_loss: 0.0216 - val_accuracy: 0.8997\n",
      "Epoch 9/30\n",
      " - 1s - loss: 0.0222 - accuracy: 0.8945 - val_loss: 0.0213 - val_accuracy: 0.9002\n",
      "Epoch 10/30\n",
      " - 1s - loss: 0.0219 - accuracy: 0.8956 - val_loss: 0.0210 - val_accuracy: 0.9012\n",
      "Epoch 11/30\n",
      " - 1s - loss: 0.0216 - accuracy: 0.8962 - val_loss: 0.0208 - val_accuracy: 0.9019\n",
      "Epoch 12/30\n",
      " - 1s - loss: 0.0214 - accuracy: 0.8967 - val_loss: 0.0205 - val_accuracy: 0.9022\n",
      "Epoch 13/30\n",
      " - 1s - loss: 0.0211 - accuracy: 0.8980 - val_loss: 0.0203 - val_accuracy: 0.9027\n",
      "Epoch 14/30\n",
      " - 1s - loss: 0.0209 - accuracy: 0.8986 - val_loss: 0.0201 - val_accuracy: 0.9026\n",
      "Epoch 15/30\n",
      " - 1s - loss: 0.0207 - accuracy: 0.8992 - val_loss: 0.0199 - val_accuracy: 0.9031\n",
      "Epoch 16/30\n",
      " - 1s - loss: 0.0205 - accuracy: 0.9000 - val_loss: 0.0197 - val_accuracy: 0.9033\n",
      "Epoch 17/30\n",
      " - 1s - loss: 0.0203 - accuracy: 0.9007 - val_loss: 0.0195 - val_accuracy: 0.9038\n",
      "Epoch 18/30\n",
      " - 1s - loss: 0.0201 - accuracy: 0.9015 - val_loss: 0.0193 - val_accuracy: 0.9043\n",
      "Epoch 19/30\n",
      " - 1s - loss: 0.0199 - accuracy: 0.9018 - val_loss: 0.0191 - val_accuracy: 0.9050\n",
      "Epoch 20/30\n",
      " - 1s - loss: 0.0197 - accuracy: 0.9025 - val_loss: 0.0190 - val_accuracy: 0.9049\n",
      "Epoch 21/30\n",
      " - 1s - loss: 0.0195 - accuracy: 0.9031 - val_loss: 0.0188 - val_accuracy: 0.9058\n",
      "Epoch 22/30\n",
      " - 1s - loss: 0.0194 - accuracy: 0.9034 - val_loss: 0.0187 - val_accuracy: 0.9063\n",
      "Epoch 23/30\n",
      " - 1s - loss: 0.0192 - accuracy: 0.9037 - val_loss: 0.0185 - val_accuracy: 0.9069\n",
      "Epoch 24/30\n",
      " - 1s - loss: 0.0191 - accuracy: 0.9043 - val_loss: 0.0184 - val_accuracy: 0.9070\n",
      "Epoch 25/30\n",
      " - 1s - loss: 0.0189 - accuracy: 0.9046 - val_loss: 0.0182 - val_accuracy: 0.9072\n",
      "Epoch 26/30\n",
      " - 1s - loss: 0.0188 - accuracy: 0.9053 - val_loss: 0.0181 - val_accuracy: 0.9076\n",
      "Epoch 27/30\n",
      " - 1s - loss: 0.0186 - accuracy: 0.9055 - val_loss: 0.0180 - val_accuracy: 0.9082\n",
      "Epoch 28/30\n",
      " - 1s - loss: 0.0185 - accuracy: 0.9060 - val_loss: 0.0179 - val_accuracy: 0.9089\n",
      "Epoch 29/30\n",
      " - 1s - loss: 0.0184 - accuracy: 0.9062 - val_loss: 0.0177 - val_accuracy: 0.9088\n",
      "Epoch 30/30\n",
      " - 1s - loss: 0.0183 - accuracy: 0.9069 - val_loss: 0.0176 - val_accuracy: 0.9095\n"
     ]
    },
    {
     "ename": "TypeError",
     "evalue": "'dict' object is not callable",
     "output_type": "error",
     "traceback": [
      "\u001b[1;31m---------------------------------------------------------------------------\u001b[0m",
      "\u001b[1;31mTypeError\u001b[0m                                 Traceback (most recent call last)",
      "\u001b[1;32m<ipython-input-38-a0357c651ec5>\u001b[0m in \u001b[0;36m<module>\u001b[1;34m\u001b[0m\n\u001b[0;32m      4\u001b[0m                  callbacks=[custom_hist], verbose=2)\n\u001b[0;32m      5\u001b[0m \u001b[1;33m\u001b[0m\u001b[0m\n\u001b[1;32m----> 6\u001b[1;33m \u001b[0mplt\u001b[0m\u001b[1;33m.\u001b[0m\u001b[0mplot\u001b[0m\u001b[1;33m(\u001b[0m\u001b[0mhist\u001b[0m\u001b[1;33m.\u001b[0m\u001b[0mhistory\u001b[0m\u001b[1;33m(\u001b[0m\u001b[1;33m)\u001b[0m\u001b[1;33m)\u001b[0m\u001b[1;33m\u001b[0m\u001b[1;33m\u001b[0m\u001b[0m\n\u001b[0m",
      "\u001b[1;31mTypeError\u001b[0m: 'dict' object is not callable"
     ]
    }
   ],
   "source": [
    "custom_hist = CustomHistory()\n",
    "custom_hist.init()  # init 를 호출하면 안되는데 어떻게 호출했나? \n",
    "hist = model.fit(X_train, Y_train, nb_epoch=30, batch_size=100, validation_data = (X_test,Y_test),\n",
    "                 callbacks=[custom_hist], verbose=2)\n",
    "                 \n",
    "plt.plot(hist.history())"
   ]
  },
  {
   "cell_type": "code",
   "execution_count": 271,
   "metadata": {},
   "outputs": [
    {
     "data": {
      "image/png": "[encoded data removed]",
      "text/plain": [
       "<Figure size 432x288 with 1 Axes>"
      ]
     },
     "metadata": {
      "needs_background": "light"
     },
     "output_type": "display_data"
    },
    {
     "name": "stdout",
     "output_type": "stream",
     "text": [
      "<keras.engine.sequential.Sequential object at 0x00000264A08202C8>\n",
      "{'batch_size': 100, 'epochs': 30, 'steps': None, 'samples': 60000, 'verbose': 2, 'do_validation': True, 'metrics': ['loss', 'accuracy', 'val_loss', 'val_accuracy']}\n",
      "[0.88628334, 0.88731664, 0.8886333, 0.8896833, 0.89103335, 0.89198333, 0.89278334, 0.89351666, 0.8944833, 0.89555, 0.8961667, 0.89673334, 0.898, 0.89863336, 0.89916664, 0.90003335, 0.90075, 0.9015167, 0.90183336, 0.90253335, 0.90305, 0.9033833, 0.9037333, 0.90426666, 0.90456665, 0.90525, 0.9055, 0.90603334, 0.9062, 0.9069]\n",
      "0.909500002861023\n"
     ]
    },
    {
     "data": {
      "image/png": "[encoded data removed]",
      "text/plain": [
       "<Figure size 432x288 with 1 Axes>"
      ]
     },
     "metadata": {
      "needs_background": "light"
     },
     "output_type": "display_data"
    }
   ],
   "source": [
    "plt.plot(hist.history['accuracy'],'-b', label='training')\n",
    "plt.plot(hist.history['val_accuracy'], 'r:', label='test')\n",
    "plt.legend()\n",
    "plt.show()\n",
    "\n",
    "print(hist.model)\n",
    "print(hist.params)\n",
    "print(hist.history['accuracy'])\n",
    "print(hist.history['val_accuracy'][29])\n",
    "plt.show()\n",
    "plt.plot(custom_hist.train_loss, 'y', label='train loss')\n",
    "plt.show()"
   ]
  },
  {
   "cell_type": "code",
   "execution_count": 40,
   "metadata": {},
   "outputs": [
    {
     "data": {
      "text/plain": [
       "array([[0.00637829, 0.00547901, 0.00877038, 0.02193788, 0.00460088,\n",
       "        0.03031099, 0.00612146, 0.9678394 , 0.00214405, 0.01650386]],\n",
       "      dtype=float32)"
      ]
     },
     "execution_count": 40,
     "metadata": {},
     "output_type": "execute_result"
    }
   ],
   "source": [
    "# 문제 : X_test 의 이미지 한장의 label 을 예측하라\n",
    "model.predict(X_test[:1,:])"
   ]
  },
  {
   "cell_type": "code",
   "execution_count": 41,
   "metadata": {},
   "outputs": [
    {
     "data": {
      "text/plain": [
       "array([7], dtype=int64)"
      ]
     },
     "execution_count": 41,
     "metadata": {},
     "output_type": "execute_result"
    }
   ],
   "source": [
    "model.predict_classes(X_test[:1,:],verbose=0)"
   ]
  },
  {
   "cell_type": "code",
   "execution_count": null,
   "metadata": {},
   "outputs": [],
   "source": []
  },
  {
   "cell_type": "code",
   "execution_count": null,
   "metadata": {},
   "outputs": [],
   "source": []
  },
  {
   "cell_type": "code",
   "execution_count": null,
   "metadata": {},
   "outputs": [],
   "source": []
  },
  {
   "cell_type": "code",
   "execution_count": 42,
   "metadata": {},
   "outputs": [
    {
     "name": "stdout",
     "output_type": "stream",
     "text": [
      "Downloading data from https://s3.amazonaws.com/keras-datasets/boston_housing.npz\n",
      "57344/57026 [==============================] - 0s 7us/step\n"
     ]
    }
   ],
   "source": [
    "from keras.datasets import boston_housing\n",
    "(x_train, y_train), (x_test, y_test) = boston_housing.load_data()"
   ]
  },
  {
   "cell_type": "code",
   "execution_count": 43,
   "metadata": {},
   "outputs": [
    {
     "name": "stdout",
     "output_type": "stream",
     "text": [
      "(404, 13)\n"
     ]
    }
   ],
   "source": [
    "print(x_train.shape) # e다른것도 확인하기"
   ]
  },
  {
   "cell_type": "code",
   "execution_count": 44,
   "metadata": {},
   "outputs": [],
   "source": [
    "model = Sequential()\n",
    "num_features=13\n",
    "# 회귀만들기 -=> dense만 하나 쓰면된다.\n",
    "model.add(Dense(1, input_dim=num_features, activation='linear'))"
   ]
  },
  {
   "cell_type": "code",
   "execution_count": 45,
   "metadata": {},
   "outputs": [
    {
     "name": "stdout",
     "output_type": "stream",
     "text": [
      "Model: \"sequential_7\"\n",
      "_________________________________________________________________\n",
      "Layer (type)                 Output Shape              Param #   \n",
      "=================================================================\n",
      "dense_14 (Dense)             (None, 1)                 14        \n",
      "=================================================================\n",
      "Total params: 14\n",
      "Trainable params: 14\n",
      "Non-trainable params: 0\n",
      "_________________________________________________________________\n",
      "Epoch 1/10\n",
      "404/404 [==============================] - 0s 797us/step - loss: 34142.8877 - mae: 154.5619\n",
      "Epoch 2/10\n",
      "404/404 [==============================] - 0s 521us/step - loss: 1713.0123 - mae: 32.2951\n",
      "Epoch 3/10\n",
      "404/404 [==============================] - 0s 580us/step - loss: 506.9301 - mae: 17.5108\n",
      "Epoch 4/10\n",
      "404/404 [==============================] - 0s 548us/step - loss: 201.6745 - mae: 10.6537\n",
      "Epoch 5/10\n",
      "404/404 [==============================] - 0s 614us/step - loss: 160.3872 - mae: 9.6243\n",
      "Epoch 6/10\n",
      "404/404 [==============================] - 0s 568us/step - loss: 144.7382 - mae: 9.0129\n",
      "Epoch 7/10\n",
      "404/404 [==============================] - 0s 553us/step - loss: 130.8145 - mae: 8.6111\n",
      "Epoch 8/10\n",
      "404/404 [==============================] - 0s 550us/step - loss: 118.8362 - mae: 8.1053\n",
      "Epoch 9/10\n",
      "404/404 [==============================] - 0s 529us/step - loss: 107.9125 - mae: 7.6927\n",
      "Epoch 10/10\n",
      "404/404 [==============================] - 0s 534us/step - loss: 104.2699 - mae: 7.5255\n"
     ]
    },
    {
     "data": {
      "text/plain": [
       "<keras.callbacks.callbacks.History at 0x264a0e36188>"
      ]
     },
     "execution_count": 45,
     "metadata": {},
     "output_type": "execute_result"
    }
   ],
   "source": [
    "model.summary()\n",
    "model.compile(optimizer='rmsprop', loss='mse', metrics=['mae'])\n",
    "model.fit(x_train, y_train, batch_size=1, epochs=10, verbose=1) # 회귀가 간단하게 된다"
   ]
  },
  {
   "cell_type": "code",
   "execution_count": 46,
   "metadata": {},
   "outputs": [
    {
     "data": {
      "text/plain": [
       "(102.68482283049939, 10.133352003680686, 7.577787399291992)"
      ]
     },
     "execution_count": 46,
     "metadata": {},
     "output_type": "execute_result"
    }
   ],
   "source": [
    "# 아까는 accuracy 였는데 지금은 mae ??  (metrics 에 mae 지정했기때문)\n",
    "mse, mae = model.evaluate(x_test, y_test, verbose=False)  \n",
    "rmse = np.sqrt(mse)\n",
    "mse, rmse,mae"
   ]
  },
  {
   "cell_type": "code",
   "execution_count": 47,
   "metadata": {},
   "outputs": [],
   "source": [
    "# quiz : x_test 의 앞의 3집을 예측해보시오 "
   ]
  },
  {
   "cell_type": "code",
   "execution_count": 48,
   "metadata": {},
   "outputs": [],
   "source": [
    "pred=model.predict(x_test[:3,:])\n",
    "real = y_test[:3]"
   ]
  },
  {
   "cell_type": "code",
   "execution_count": 49,
   "metadata": {},
   "outputs": [],
   "source": [
    "pred = pred.reshape(3,)"
   ]
  },
  {
   "cell_type": "code",
   "execution_count": 50,
   "metadata": {},
   "outputs": [
    {
     "data": {
      "text/plain": [
       "array([[1.        , 0.97028993],\n",
       "       [0.97028993, 1.        ]])"
      ]
     },
     "execution_count": 50,
     "metadata": {},
     "output_type": "execute_result"
    }
   ],
   "source": [
    "# 상관계수를 확인하라\n",
    "import numpy as np\n",
    "np.corrcoef(pred,real)"
   ]
  },
  {
   "cell_type": "code",
   "execution_count": 268,
   "metadata": {},
   "outputs": [],
   "source": [
    "# scitkits --keras를 연결 : KerasClassifier\n",
    "import numpy as np\n",
    "from sklearn.model_selection import GridSearchCV\n",
    "from keras.models import Sequential\n",
    "from keras.layers import Dense, Dropout\n",
    "from keras.wrappers.scikit_learn import KerasClassifier"
   ]
  },
  {
   "cell_type": "code",
   "execution_count": 269,
   "metadata": {},
   "outputs": [
    {
     "name": "stdout",
     "output_type": "stream",
     "text": [
      "(768, 9)\n",
      "(768, 8)\n",
      "(768,)\n"
     ]
    }
   ],
   "source": [
    "# 768x9 => 768x8 => 독립변수, 768x1 종속변수\n",
    "#  변수 8\n",
    "def create_model():\n",
    "    model = Sequential()\n",
    "    # 8x12 => 768x12\n",
    "    model.add(Dense(12, input_dim=8,activation='relu'))\n",
    "    # 768x12 => 768x1\n",
    "    model.add(Dense(1, activation='sigmoid')) # 0~1\n",
    "    model.compile(loss ='binary_crossentropy', optimizer='adam', metrics=['accuracy'])\n",
    "    return model\n",
    "\n",
    "seed=7\n",
    "numpy.random.seed(seed)\n",
    "dataset = np.loadtxt('pima.csv', delimiter=',')\n",
    "print(dataset.shape)\n",
    "X = dataset[:,0:8]\n",
    "Y = dataset[:,8]\n",
    "model = KerasClassifier(build_fn=create_model, verbose=0) # verbose : 설명을 달것인가 말것인다.0,1\n",
    "print(X.shape)\n",
    "print(Y.shape)"
   ]
  },
  {
   "cell_type": "code",
   "execution_count": 270,
   "metadata": {},
   "outputs": [
    {
     "name": "stderr",
     "output_type": "stream",
     "text": [
      "C:\\Users\\ICT01_10\\Anaconda3\\lib\\site-packages\\sklearn\\model_selection\\_split.py:1978: FutureWarning: The default value of cv will change from 3 to 5 in version 0.22. Specify it explicitly to silence this warning.\n",
      "  warnings.warn(CV_WARNING, FutureWarning)\n"
     ]
    },
    {
     "name": "stdout",
     "output_type": "stream",
     "text": [
      "최적스코어: 0.7135416666666666 사용한 파라미터조합 : \n",
      "0.59896 (0.05263) with : {'batch_size': 10, 'epochs': 10}\n",
      "0.66016 (0.04072) with : {'batch_size': 10, 'epochs': 50}\n",
      "0.71354 (0.00737) with : {'batch_size': 10, 'epochs': 100}\n",
      "0.58854 (0.01757) with : {'batch_size': 20, 'epochs': 10}\n",
      "0.67448 (0.02307) with : {'batch_size': 20, 'epochs': 50}\n",
      "0.70833 (0.02415) with : {'batch_size': 20, 'epochs': 100}\n",
      "0.57552 (0.06461) with : {'batch_size': 40, 'epochs': 10}\n",
      "0.66276 (0.03513) with : {'batch_size': 40, 'epochs': 50}\n",
      "0.67969 (0.02300) with : {'batch_size': 40, 'epochs': 100}\n",
      "0.62760 (0.00921) with : {'batch_size': 60, 'epochs': 10}\n",
      "0.65365 (0.04469) with : {'batch_size': 60, 'epochs': 50}\n",
      "0.65234 (0.03880) with : {'batch_size': 60, 'epochs': 100}\n",
      "0.56641 (0.07459) with : {'batch_size': 80, 'epochs': 10}\n",
      "0.60026 (0.04965) with : {'batch_size': 80, 'epochs': 50}\n",
      "0.67708 (0.02578) with : {'batch_size': 80, 'epochs': 100}\n",
      "0.39844 (0.07224) with : {'batch_size': 100, 'epochs': 10}\n",
      "0.62760 (0.04247) with : {'batch_size': 100, 'epochs': 50}\n",
      "0.64583 (0.04903) with : {'batch_size': 100, 'epochs': 100}\n"
     ]
    }
   ],
   "source": [
    "# 파라미터 조합\n",
    "batch_size = [10,20,40,60,80,100]\n",
    "epochs=[10,50,100]\n",
    "# 매개변수 입력형태는 dictionary\n",
    "param_grid = dict(batch_size = batch_size, epochs = epochs)\n",
    "\n",
    "grid = GridSearchCV(estimator=model, param_grid=param_grid, n_jobs=-1)\n",
    "grid_result = grid.fit(X,Y)\n",
    "print('최적스코어: {} 사용한 파라미터조합 : '.format(grid_result.best_score_, grid_result.best_params_))\n",
    "means = grid_result.cv_results_['mean_test_score']\n",
    "stds = grid_result.cv_results_['std_test_score']\n",
    "params = grid_result.cv_results_['params']\n",
    "\n",
    "for mean, stdev, param in zip(means, stds, params):\n",
    "    print('{:.5f} ({:.5f}) with : {}'.format(mean, stdev, param))"
   ]
  },
  {
   "cell_type": "code",
   "execution_count": 276,
   "metadata": {},
   "outputs": [
    {
     "data": {
      "text/plain": [
       "{'batch_size': 10, 'epochs': 100}"
      ]
     },
     "execution_count": 276,
     "metadata": {},
     "output_type": "execute_result"
    }
   ],
   "source": [
    "grid.best_params_"
   ]
  },
  {
   "cell_type": "code",
   "execution_count": null,
   "metadata": {},
   "outputs": [],
   "source": [
    "# 가중치 초기화 매개변수를 넣고 (kernel_initializer)\n",
    "# ['uniform ' , 'lecun_uniform', 'normal', 'zero',' glorot_normal', 'glorot_uniform', 'he_normal', 'he_uniform']"
   ]
  },
  {
   "cell_type": "code",
   "execution_count": 112,
   "metadata": {},
   "outputs": [],
   "source": [
    "init_mode = ['uniform' , 'lecun_uniform', 'normal', 'zero','glorot_normal', 'glorot_uniform', 'he_normal', 'he_uniform']\n",
    "activation = ['softmax','softplus','softsign','relu','tanh','sigmoid','hard_sigmoid','linear']"
   ]
  },
  {
   "cell_type": "code",
   "execution_count": 113,
   "metadata": {},
   "outputs": [
    {
     "name": "stdout",
     "output_type": "stream",
     "text": [
      "(768, 9)\n",
      "(768, 8)\n",
      "(768,)\n"
     ]
    }
   ],
   "source": [
    "# 768x9 => 768x8 => 독립변수, 768x1 종속변수\n",
    "#  변수 8\n",
    "def create_model(init_mode, activation):\n",
    "    model = Sequential()\n",
    "    # 8x12 => 768x12\n",
    "    model.add(Dense(12, input_dim=8,activation=activation))\n",
    "    # 768x12 => 768x1\n",
    "    model.add(Dense(1,kernel_initializer=init_mode, activation='sigmoid')) # 0~1\n",
    "    model.compile(loss ='binary_crossentropy', optimizer='adam', metrics=['accuracy'])\n",
    "    return model\n",
    "\n",
    "seed=7\n",
    "numpy.random.seed(seed)\n",
    "dataset = np.loadtxt('pima.csv', delimiter=',')\n",
    "print(dataset.shape)\n",
    "X = dataset[:,0:8]\n",
    "Y = dataset[:,8]\n",
    "model = KerasClassifier(build_fn=create_model, verbose=0) # verbose : 설명을 달것인가 말것인다.0,1\n",
    "print(X.shape)\n",
    "print(Y.shape)"
   ]
  },
  {
   "cell_type": "code",
   "execution_count": 114,
   "metadata": {},
   "outputs": [
    {
     "name": "stdout",
     "output_type": "stream",
     "text": [
      "최적스코어: 0.6549479166666666 사용한 파라미터조합 : \n",
      "0.65495 (0.02477) with : {'activation': 'softmax', 'init_mode': 'uniform'}\n",
      "0.63932 (0.02963) with : {'activation': 'softmax', 'init_mode': 'lecun_uniform'}\n",
      "0.65104 (0.02415) with : {'activation': 'softmax', 'init_mode': 'normal'}\n",
      "0.65104 (0.02477) with : {'activation': 'softmax', 'init_mode': 'zero'}\n",
      "0.52083 (0.13845) with : {'activation': 'softmax', 'init_mode': 'glorot_normal'}\n",
      "0.45703 (0.14647) with : {'activation': 'softmax', 'init_mode': 'glorot_uniform'}\n",
      "0.48958 (0.12113) with : {'activation': 'softmax', 'init_mode': 'he_normal'}\n",
      "0.47005 (0.06616) with : {'activation': 'softmax', 'init_mode': 'he_uniform'}\n",
      "0.50391 (0.11049) with : {'activation': 'softplus', 'init_mode': 'uniform'}\n",
      "0.59245 (0.10967) with : {'activation': 'softplus', 'init_mode': 'lecun_uniform'}\n",
      "0.44922 (0.11053) with : {'activation': 'softplus', 'init_mode': 'normal'}\n",
      "0.65104 (0.02477) with : {'activation': 'softplus', 'init_mode': 'zero'}\n",
      "0.48047 (0.11053) with : {'activation': 'softplus', 'init_mode': 'glorot_normal'}\n",
      "0.50651 (0.12238) with : {'activation': 'softplus', 'init_mode': 'glorot_uniform'}\n",
      "0.55208 (0.07644) with : {'activation': 'softplus', 'init_mode': 'he_normal'}\n",
      "0.58464 (0.09377) with : {'activation': 'softplus', 'init_mode': 'he_uniform'}\n",
      "0.62240 (0.03805) with : {'activation': 'softsign', 'init_mode': 'uniform'}\n",
      "0.52214 (0.08258) with : {'activation': 'softsign', 'init_mode': 'lecun_uniform'}\n",
      "0.64974 (0.02436) with : {'activation': 'softsign', 'init_mode': 'normal'}\n",
      "0.65104 (0.02477) with : {'activation': 'softsign', 'init_mode': 'zero'}\n",
      "0.43359 (0.04522) with : {'activation': 'softsign', 'init_mode': 'glorot_normal'}\n",
      "0.48307 (0.09023) with : {'activation': 'softsign', 'init_mode': 'glorot_uniform'}\n",
      "0.47656 (0.13825) with : {'activation': 'softsign', 'init_mode': 'he_normal'}\n",
      "0.44141 (0.11930) with : {'activation': 'softsign', 'init_mode': 'he_uniform'}\n",
      "0.50781 (0.12183) with : {'activation': 'relu', 'init_mode': 'uniform'}\n",
      "0.49219 (0.12746) with : {'activation': 'relu', 'init_mode': 'lecun_uniform'}\n",
      "0.55859 (0.06900) with : {'activation': 'relu', 'init_mode': 'normal'}\n",
      "0.65495 (0.03528) with : {'activation': 'relu', 'init_mode': 'zero'}\n",
      "0.35938 (0.01776) with : {'activation': 'relu', 'init_mode': 'glorot_normal'}\n",
      "0.60938 (0.04763) with : {'activation': 'relu', 'init_mode': 'glorot_uniform'}\n",
      "0.42057 (0.06821) with : {'activation': 'relu', 'init_mode': 'he_normal'}\n",
      "0.51042 (0.12354) with : {'activation': 'relu', 'init_mode': 'he_uniform'}\n",
      "0.65104 (0.02477) with : {'activation': 'tanh', 'init_mode': 'uniform'}\n",
      "0.60938 (0.01276) with : {'activation': 'tanh', 'init_mode': 'lecun_uniform'}\n",
      "0.58724 (0.07177) with : {'activation': 'tanh', 'init_mode': 'normal'}\n",
      "0.65104 (0.02477) with : {'activation': 'tanh', 'init_mode': 'zero'}\n",
      "0.46875 (0.06922) with : {'activation': 'tanh', 'init_mode': 'glorot_normal'}\n",
      "0.50521 (0.13608) with : {'activation': 'tanh', 'init_mode': 'glorot_uniform'}\n",
      "0.61458 (0.07317) with : {'activation': 'tanh', 'init_mode': 'he_normal'}\n",
      "0.47135 (0.06738) with : {'activation': 'tanh', 'init_mode': 'he_uniform'}\n",
      "0.59245 (0.09163) with : {'activation': 'sigmoid', 'init_mode': 'uniform'}\n",
      "0.56771 (0.08380) with : {'activation': 'sigmoid', 'init_mode': 'lecun_uniform'}\n",
      "0.53125 (0.15293) with : {'activation': 'sigmoid', 'init_mode': 'normal'}\n",
      "0.65104 (0.02477) with : {'activation': 'sigmoid', 'init_mode': 'zero'}\n",
      "0.52214 (0.12807) with : {'activation': 'sigmoid', 'init_mode': 'glorot_normal'}\n",
      "0.53255 (0.13660) with : {'activation': 'sigmoid', 'init_mode': 'glorot_uniform'}\n",
      "0.39453 (0.08862) with : {'activation': 'sigmoid', 'init_mode': 'he_normal'}\n",
      "0.46094 (0.11380) with : {'activation': 'sigmoid', 'init_mode': 'he_uniform'}\n",
      "0.65104 (0.02477) with : {'activation': 'hard_sigmoid', 'init_mode': 'uniform'}\n",
      "0.61328 (0.04465) with : {'activation': 'hard_sigmoid', 'init_mode': 'lecun_uniform'}\n",
      "0.65234 (0.02532) with : {'activation': 'hard_sigmoid', 'init_mode': 'normal'}\n",
      "0.65104 (0.02477) with : {'activation': 'hard_sigmoid', 'init_mode': 'zero'}\n",
      "0.59766 (0.11326) with : {'activation': 'hard_sigmoid', 'init_mode': 'glorot_normal'}\n",
      "0.37240 (0.03627) with : {'activation': 'hard_sigmoid', 'init_mode': 'glorot_uniform'}\n",
      "0.37891 (0.06660) with : {'activation': 'hard_sigmoid', 'init_mode': 'he_normal'}\n",
      "0.52604 (0.10789) with : {'activation': 'hard_sigmoid', 'init_mode': 'he_uniform'}\n",
      "0.52734 (0.10802) with : {'activation': 'linear', 'init_mode': 'uniform'}\n",
      "0.57161 (0.06647) with : {'activation': 'linear', 'init_mode': 'lecun_uniform'}\n",
      "0.42057 (0.03528) with : {'activation': 'linear', 'init_mode': 'normal'}\n",
      "0.65234 (0.02611) with : {'activation': 'linear', 'init_mode': 'zero'}\n",
      "0.51823 (0.12623) with : {'activation': 'linear', 'init_mode': 'glorot_normal'}\n",
      "0.56641 (0.05820) with : {'activation': 'linear', 'init_mode': 'glorot_uniform'}\n",
      "0.50130 (0.06723) with : {'activation': 'linear', 'init_mode': 'he_normal'}\n",
      "0.35286 (0.02124) with : {'activation': 'linear', 'init_mode': 'he_uniform'}\n"
     ]
    }
   ],
   "source": [
    "# 파라미터 조합\n",
    "batch_size = [10,20,40,60,80,100]\n",
    "epochs=[10,50,100]\n",
    "\n",
    "# 매개변수 입력형태는 dictionary\n",
    "param_grid = dict(init_mode = init_mode, activation=activation)\n",
    "\n",
    "grid = GridSearchCV(estimator=model, param_grid=param_grid, n_jobs=-1)\n",
    "grid_result = grid.fit(X,Y)\n",
    "print('최적스코어: {} 사용한 파라미터조합 : '.format(grid_result.best_score_, grid_result.best_params_))\n",
    "means = grid_result.cv_results_['mean_test_score']\n",
    "stds = grid_result.cv_results_['std_test_score']\n",
    "params = grid_result.cv_results_['params']\n",
    "\n",
    "for mean, stdev, param in zip(means, stds, params):\n",
    "    print('{:.5f} ({:.5f}) with : {}'.format(mean, stdev, param))"
   ]
  },
  {
   "cell_type": "code",
   "execution_count": 125,
   "metadata": {},
   "outputs": [
    {
     "name": "stdout",
     "output_type": "stream",
     "text": [
      "(768, 9)\n",
      "(768, 8)\n",
      "(768,)\n"
     ]
    }
   ],
   "source": [
    "# 과적합 방지\n",
    "from keras.callbacks import EarlyStopping\n",
    "stopper = EarlyStopping(monitor='val_acc', patience=3,verbose=1)\n",
    "\n",
    "\n",
    "# 768x9 => 768x8 => 독립변수, 768x1 종속변수\n",
    "#  변수 8\n",
    "def create_model(init_mode, activation, dropout_rate):\n",
    "    model = Sequential()\n",
    "    # 8x12 => 768x12\n",
    "    model.add(Dense(12, input_dim=8,activation=activation))\n",
    "    \n",
    "    model.add(Dropout(dropout_rate))\n",
    "    # 768x12 => 768x1\n",
    "    model.add(Dense(1,kernel_initializer=init_mode, activation='sigmoid')) # 0~1\n",
    "    model.compile(loss ='binary_crossentropy', optimizer='adam', metrics=['accuracy'])\n",
    "    \n",
    "    return model\n",
    "\n",
    "dropout_rate = [0.0,0.1,0.2,0.3,0.4,0.5,0.6,0.7,0.8,0.9]\n",
    "init_mode = ['uniform' , 'lecun_uniform', 'normal', 'zero','glorot_normal', 'glorot_uniform', 'he_normal', 'he_uniform']\n",
    "activation = ['softmax','softplus','softsign','relu','tanh','sigmoid','hard_sigmoid','linear']\n",
    "\n",
    "seed=7\n",
    "numpy.random.seed(seed)\n",
    "dataset = np.loadtxt('pima.csv', delimiter=',')\n",
    "print(dataset.shape)\n",
    "X = dataset[:,0:8]\n",
    "Y = dataset[:,8]\n",
    "model = KerasClassifier(build_fn=create_model, verbose=0) # verbose : 설명을 달것인가 말것인다.0,1\n",
    "print(X.shape)\n",
    "print(Y.shape)"
   ]
  },
  {
   "cell_type": "code",
   "execution_count": 126,
   "metadata": {},
   "outputs": [
    {
     "name": "stdout",
     "output_type": "stream",
     "text": [
      "WARNING:tensorflow:Large dropout rate: 0.7 (>0.5). In TensorFlow 2.x, dropout() uses dropout rate instead of keep_prob. Please ensure that this is intended.\n",
      "최적스코어: 0.6783854166666666 사용한 파라미터조합 : \n",
      "0.59115 (0.07563) with : {'activation': 'softmax', 'dropout_rate': 0.0, 'init_mode': 'uniform'}\n",
      "0.51953 (0.06403) with : {'activation': 'softmax', 'dropout_rate': 0.0, 'init_mode': 'lecun_uniform'}\n",
      "0.61719 (0.05103) with : {'activation': 'softmax', 'dropout_rate': 0.0, 'init_mode': 'normal'}\n",
      "0.65104 (0.02477) with : {'activation': 'softmax', 'dropout_rate': 0.0, 'init_mode': 'zero'}\n",
      "0.47656 (0.10350) with : {'activation': 'softmax', 'dropout_rate': 0.0, 'init_mode': 'glorot_normal'}\n",
      "0.48568 (0.10248) with : {'activation': 'softmax', 'dropout_rate': 0.0, 'init_mode': 'glorot_uniform'}\n",
      "0.54036 (0.13995) with : {'activation': 'softmax', 'dropout_rate': 0.0, 'init_mode': 'he_normal'}\n",
      "0.41797 (0.10802) with : {'activation': 'softmax', 'dropout_rate': 0.0, 'init_mode': 'he_uniform'}\n",
      "0.65495 (0.02171) with : {'activation': 'softmax', 'dropout_rate': 0.1, 'init_mode': 'uniform'}\n",
      "0.65234 (0.01940) with : {'activation': 'softmax', 'dropout_rate': 0.1, 'init_mode': 'lecun_uniform'}\n",
      "0.52604 (0.11341) with : {'activation': 'softmax', 'dropout_rate': 0.1, 'init_mode': 'normal'}\n",
      "0.65104 (0.02477) with : {'activation': 'softmax', 'dropout_rate': 0.1, 'init_mode': 'zero'}\n",
      "0.43620 (0.09570) with : {'activation': 'softmax', 'dropout_rate': 0.1, 'init_mode': 'glorot_normal'}\n",
      "0.52995 (0.07841) with : {'activation': 'softmax', 'dropout_rate': 0.1, 'init_mode': 'glorot_uniform'}\n",
      "0.56120 (0.05156) with : {'activation': 'softmax', 'dropout_rate': 0.1, 'init_mode': 'he_normal'}\n",
      "0.56771 (0.09744) with : {'activation': 'softmax', 'dropout_rate': 0.1, 'init_mode': 'he_uniform'}\n",
      "0.56510 (0.13244) with : {'activation': 'softmax', 'dropout_rate': 0.2, 'init_mode': 'uniform'}\n",
      "0.55859 (0.12418) with : {'activation': 'softmax', 'dropout_rate': 0.2, 'init_mode': 'lecun_uniform'}\n",
      "0.65234 (0.02532) with : {'activation': 'softmax', 'dropout_rate': 0.2, 'init_mode': 'normal'}\n",
      "0.65104 (0.02477) with : {'activation': 'softmax', 'dropout_rate': 0.2, 'init_mode': 'zero'}\n",
      "0.59115 (0.07657) with : {'activation': 'softmax', 'dropout_rate': 0.2, 'init_mode': 'glorot_normal'}\n",
      "0.56771 (0.07577) with : {'activation': 'softmax', 'dropout_rate': 0.2, 'init_mode': 'glorot_uniform'}\n",
      "0.54427 (0.13229) with : {'activation': 'softmax', 'dropout_rate': 0.2, 'init_mode': 'he_normal'}\n",
      "0.53255 (0.14951) with : {'activation': 'softmax', 'dropout_rate': 0.2, 'init_mode': 'he_uniform'}\n",
      "0.54557 (0.14470) with : {'activation': 'softmax', 'dropout_rate': 0.3, 'init_mode': 'uniform'}\n",
      "0.51302 (0.03499) with : {'activation': 'softmax', 'dropout_rate': 0.3, 'init_mode': 'lecun_uniform'}\n",
      "0.53646 (0.15029) with : {'activation': 'softmax', 'dropout_rate': 0.3, 'init_mode': 'normal'}\n",
      "0.65104 (0.02477) with : {'activation': 'softmax', 'dropout_rate': 0.3, 'init_mode': 'zero'}\n",
      "0.44141 (0.05013) with : {'activation': 'softmax', 'dropout_rate': 0.3, 'init_mode': 'glorot_normal'}\n",
      "0.46745 (0.14013) with : {'activation': 'softmax', 'dropout_rate': 0.3, 'init_mode': 'glorot_uniform'}\n",
      "0.53125 (0.11353) with : {'activation': 'softmax', 'dropout_rate': 0.3, 'init_mode': 'he_normal'}\n",
      "0.65495 (0.03258) with : {'activation': 'softmax', 'dropout_rate': 0.3, 'init_mode': 'he_uniform'}\n",
      "0.64844 (0.02835) with : {'activation': 'softmax', 'dropout_rate': 0.4, 'init_mode': 'uniform'}\n",
      "0.45312 (0.14345) with : {'activation': 'softmax', 'dropout_rate': 0.4, 'init_mode': 'lecun_uniform'}\n",
      "0.52474 (0.11332) with : {'activation': 'softmax', 'dropout_rate': 0.4, 'init_mode': 'normal'}\n",
      "0.65104 (0.02477) with : {'activation': 'softmax', 'dropout_rate': 0.4, 'init_mode': 'zero'}\n",
      "0.49089 (0.11096) with : {'activation': 'softmax', 'dropout_rate': 0.4, 'init_mode': 'glorot_normal'}\n",
      "0.41927 (0.02051) with : {'activation': 'softmax', 'dropout_rate': 0.4, 'init_mode': 'glorot_uniform'}\n",
      "0.46224 (0.10133) with : {'activation': 'softmax', 'dropout_rate': 0.4, 'init_mode': 'he_normal'}\n",
      "0.46484 (0.10583) with : {'activation': 'softmax', 'dropout_rate': 0.4, 'init_mode': 'he_uniform'}\n",
      "0.62500 (0.02611) with : {'activation': 'softmax', 'dropout_rate': 0.5, 'init_mode': 'uniform'}\n",
      "0.43359 (0.08360) with : {'activation': 'softmax', 'dropout_rate': 0.5, 'init_mode': 'lecun_uniform'}\n",
      "0.57812 (0.10774) with : {'activation': 'softmax', 'dropout_rate': 0.5, 'init_mode': 'normal'}\n",
      "0.65104 (0.02477) with : {'activation': 'softmax', 'dropout_rate': 0.5, 'init_mode': 'zero'}\n",
      "0.57943 (0.13977) with : {'activation': 'softmax', 'dropout_rate': 0.5, 'init_mode': 'glorot_normal'}\n",
      "0.63411 (0.03937) with : {'activation': 'softmax', 'dropout_rate': 0.5, 'init_mode': 'glorot_uniform'}\n",
      "0.53646 (0.14561) with : {'activation': 'softmax', 'dropout_rate': 0.5, 'init_mode': 'he_normal'}\n",
      "0.45312 (0.11878) with : {'activation': 'softmax', 'dropout_rate': 0.5, 'init_mode': 'he_uniform'}\n",
      "0.57682 (0.05156) with : {'activation': 'softmax', 'dropout_rate': 0.6, 'init_mode': 'uniform'}\n",
      "0.54688 (0.09825) with : {'activation': 'softmax', 'dropout_rate': 0.6, 'init_mode': 'lecun_uniform'}\n",
      "0.53125 (0.09194) with : {'activation': 'softmax', 'dropout_rate': 0.6, 'init_mode': 'normal'}\n",
      "0.65104 (0.02477) with : {'activation': 'softmax', 'dropout_rate': 0.6, 'init_mode': 'zero'}\n",
      "0.43880 (0.14343) with : {'activation': 'softmax', 'dropout_rate': 0.6, 'init_mode': 'glorot_normal'}\n",
      "0.65104 (0.02713) with : {'activation': 'softmax', 'dropout_rate': 0.6, 'init_mode': 'glorot_uniform'}\n",
      "0.35807 (0.03440) with : {'activation': 'softmax', 'dropout_rate': 0.6, 'init_mode': 'he_normal'}\n",
      "0.43359 (0.04291) with : {'activation': 'softmax', 'dropout_rate': 0.6, 'init_mode': 'he_uniform'}\n",
      "0.54427 (0.14498) with : {'activation': 'softmax', 'dropout_rate': 0.7, 'init_mode': 'uniform'}\n",
      "0.48177 (0.12807) with : {'activation': 'softmax', 'dropout_rate': 0.7, 'init_mode': 'lecun_uniform'}\n",
      "0.54297 (0.11810) with : {'activation': 'softmax', 'dropout_rate': 0.7, 'init_mode': 'normal'}\n",
      "0.65104 (0.02477) with : {'activation': 'softmax', 'dropout_rate': 0.7, 'init_mode': 'zero'}\n",
      "0.44531 (0.05741) with : {'activation': 'softmax', 'dropout_rate': 0.7, 'init_mode': 'glorot_normal'}\n",
      "0.48177 (0.13446) with : {'activation': 'softmax', 'dropout_rate': 0.7, 'init_mode': 'glorot_uniform'}\n",
      "0.58984 (0.11049) with : {'activation': 'softmax', 'dropout_rate': 0.7, 'init_mode': 'he_normal'}\n",
      "0.48958 (0.13351) with : {'activation': 'softmax', 'dropout_rate': 0.7, 'init_mode': 'he_uniform'}\n",
      "0.55078 (0.13610) with : {'activation': 'softmax', 'dropout_rate': 0.8, 'init_mode': 'uniform'}\n",
      "0.51562 (0.11007) with : {'activation': 'softmax', 'dropout_rate': 0.8, 'init_mode': 'lecun_uniform'}\n",
      "0.52995 (0.13742) with : {'activation': 'softmax', 'dropout_rate': 0.8, 'init_mode': 'normal'}\n",
      "0.65104 (0.02477) with : {'activation': 'softmax', 'dropout_rate': 0.8, 'init_mode': 'zero'}\n",
      "0.47917 (0.13720) with : {'activation': 'softmax', 'dropout_rate': 0.8, 'init_mode': 'glorot_normal'}\n",
      "0.52344 (0.08274) with : {'activation': 'softmax', 'dropout_rate': 0.8, 'init_mode': 'glorot_uniform'}\n",
      "0.37760 (0.04354) with : {'activation': 'softmax', 'dropout_rate': 0.8, 'init_mode': 'he_normal'}\n",
      "0.56510 (0.11305) with : {'activation': 'softmax', 'dropout_rate': 0.8, 'init_mode': 'he_uniform'}\n",
      "0.59245 (0.01757) with : {'activation': 'softmax', 'dropout_rate': 0.9, 'init_mode': 'uniform'}\n",
      "0.54557 (0.08707) with : {'activation': 'softmax', 'dropout_rate': 0.9, 'init_mode': 'lecun_uniform'}\n",
      "0.63411 (0.06105) with : {'activation': 'softmax', 'dropout_rate': 0.9, 'init_mode': 'normal'}\n",
      "0.65104 (0.02477) with : {'activation': 'softmax', 'dropout_rate': 0.9, 'init_mode': 'zero'}\n",
      "0.60547 (0.09669) with : {'activation': 'softmax', 'dropout_rate': 0.9, 'init_mode': 'glorot_normal'}\n",
      "0.59635 (0.05619) with : {'activation': 'softmax', 'dropout_rate': 0.9, 'init_mode': 'glorot_uniform'}\n",
      "0.57422 (0.10025) with : {'activation': 'softmax', 'dropout_rate': 0.9, 'init_mode': 'he_normal'}\n",
      "0.37500 (0.04315) with : {'activation': 'softmax', 'dropout_rate': 0.9, 'init_mode': 'he_uniform'}\n",
      "0.53125 (0.09510) with : {'activation': 'softplus', 'dropout_rate': 0.0, 'init_mode': 'uniform'}\n",
      "0.50391 (0.12006) with : {'activation': 'softplus', 'dropout_rate': 0.0, 'init_mode': 'lecun_uniform'}\n",
      "0.60156 (0.06282) with : {'activation': 'softplus', 'dropout_rate': 0.0, 'init_mode': 'normal'}\n",
      "0.64062 (0.01595) with : {'activation': 'softplus', 'dropout_rate': 0.0, 'init_mode': 'zero'}\n",
      "0.54036 (0.07247) with : {'activation': 'softplus', 'dropout_rate': 0.0, 'init_mode': 'glorot_normal'}\n",
      "0.43359 (0.09653) with : {'activation': 'softplus', 'dropout_rate': 0.0, 'init_mode': 'glorot_uniform'}\n",
      "0.51172 (0.07245) with : {'activation': 'softplus', 'dropout_rate': 0.0, 'init_mode': 'he_normal'}\n",
      "0.45182 (0.03738) with : {'activation': 'softplus', 'dropout_rate': 0.0, 'init_mode': 'he_uniform'}\n",
      "0.59375 (0.05063) with : {'activation': 'softplus', 'dropout_rate': 0.1, 'init_mode': 'uniform'}\n",
      "0.39193 (0.04955) with : {'activation': 'softplus', 'dropout_rate': 0.1, 'init_mode': 'lecun_uniform'}\n",
      "0.52734 (0.13293) with : {'activation': 'softplus', 'dropout_rate': 0.1, 'init_mode': 'normal'}\n",
      "0.62891 (0.03375) with : {'activation': 'softplus', 'dropout_rate': 0.1, 'init_mode': 'zero'}\n",
      "0.54948 (0.15184) with : {'activation': 'softplus', 'dropout_rate': 0.1, 'init_mode': 'glorot_normal'}\n",
      "0.64193 (0.01573) with : {'activation': 'softplus', 'dropout_rate': 0.1, 'init_mode': 'glorot_uniform'}\n",
      "0.56250 (0.14395) with : {'activation': 'softplus', 'dropout_rate': 0.1, 'init_mode': 'he_normal'}\n",
      "0.57161 (0.13359) with : {'activation': 'softplus', 'dropout_rate': 0.1, 'init_mode': 'he_uniform'}\n",
      "0.55078 (0.06907) with : {'activation': 'softplus', 'dropout_rate': 0.2, 'init_mode': 'uniform'}\n",
      "0.50911 (0.14339) with : {'activation': 'softplus', 'dropout_rate': 0.2, 'init_mode': 'lecun_uniform'}\n",
      "0.49089 (0.11395) with : {'activation': 'softplus', 'dropout_rate': 0.2, 'init_mode': 'normal'}\n",
      "0.63542 (0.01923) with : {'activation': 'softplus', 'dropout_rate': 0.2, 'init_mode': 'zero'}\n",
      "0.55599 (0.14268) with : {'activation': 'softplus', 'dropout_rate': 0.2, 'init_mode': 'glorot_normal'}\n",
      "0.65625 (0.02923) with : {'activation': 'softplus', 'dropout_rate': 0.2, 'init_mode': 'glorot_uniform'}\n",
      "0.50391 (0.12357) with : {'activation': 'softplus', 'dropout_rate': 0.2, 'init_mode': 'he_normal'}\n",
      "0.46484 (0.11335) with : {'activation': 'softplus', 'dropout_rate': 0.2, 'init_mode': 'he_uniform'}\n",
      "0.51172 (0.12991) with : {'activation': 'softplus', 'dropout_rate': 0.3, 'init_mode': 'uniform'}\n",
      "0.42708 (0.11096) with : {'activation': 'softplus', 'dropout_rate': 0.3, 'init_mode': 'lecun_uniform'}\n",
      "0.52214 (0.09469) with : {'activation': 'softplus', 'dropout_rate': 0.3, 'init_mode': 'normal'}\n",
      "0.63281 (0.02233) with : {'activation': 'softplus', 'dropout_rate': 0.3, 'init_mode': 'zero'}\n",
      "0.43880 (0.09930) with : {'activation': 'softplus', 'dropout_rate': 0.3, 'init_mode': 'glorot_normal'}\n",
      "0.51302 (0.11201) with : {'activation': 'softplus', 'dropout_rate': 0.3, 'init_mode': 'glorot_uniform'}\n",
      "0.45573 (0.10864) with : {'activation': 'softplus', 'dropout_rate': 0.3, 'init_mode': 'he_normal'}\n",
      "0.56641 (0.10025) with : {'activation': 'softplus', 'dropout_rate': 0.3, 'init_mode': 'he_uniform'}\n",
      "0.54948 (0.10836) with : {'activation': 'softplus', 'dropout_rate': 0.4, 'init_mode': 'uniform'}\n",
      "0.53516 (0.14950) with : {'activation': 'softplus', 'dropout_rate': 0.4, 'init_mode': 'lecun_uniform'}\n",
      "0.52474 (0.10057) with : {'activation': 'softplus', 'dropout_rate': 0.4, 'init_mode': 'normal'}\n",
      "0.64974 (0.02436) with : {'activation': 'softplus', 'dropout_rate': 0.4, 'init_mode': 'zero'}\n",
      "0.38411 (0.04581) with : {'activation': 'softplus', 'dropout_rate': 0.4, 'init_mode': 'glorot_normal'}\n",
      "0.38672 (0.05643) with : {'activation': 'softplus', 'dropout_rate': 0.4, 'init_mode': 'glorot_uniform'}\n",
      "0.57552 (0.08864) with : {'activation': 'softplus', 'dropout_rate': 0.4, 'init_mode': 'he_normal'}\n",
      "0.51823 (0.13984) with : {'activation': 'softplus', 'dropout_rate': 0.4, 'init_mode': 'he_uniform'}\n",
      "0.55469 (0.04385) with : {'activation': 'softplus', 'dropout_rate': 0.5, 'init_mode': 'uniform'}\n",
      "0.44271 (0.10444) with : {'activation': 'softplus', 'dropout_rate': 0.5, 'init_mode': 'lecun_uniform'}\n",
      "0.39453 (0.04826) with : {'activation': 'softplus', 'dropout_rate': 0.5, 'init_mode': 'normal'}\n",
      "0.65234 (0.02491) with : {'activation': 'softplus', 'dropout_rate': 0.5, 'init_mode': 'zero'}\n",
      "0.55078 (0.11904) with : {'activation': 'softplus', 'dropout_rate': 0.5, 'init_mode': 'glorot_normal'}\n",
      "0.42578 (0.13580) with : {'activation': 'softplus', 'dropout_rate': 0.5, 'init_mode': 'glorot_uniform'}\n",
      "0.46484 (0.14490) with : {'activation': 'softplus', 'dropout_rate': 0.5, 'init_mode': 'he_normal'}\n",
      "0.62760 (0.04903) with : {'activation': 'softplus', 'dropout_rate': 0.5, 'init_mode': 'he_uniform'}\n",
      "0.56771 (0.04965) with : {'activation': 'softplus', 'dropout_rate': 0.6, 'init_mode': 'uniform'}\n",
      "0.52995 (0.14067) with : {'activation': 'softplus', 'dropout_rate': 0.6, 'init_mode': 'lecun_uniform'}\n",
      "0.57161 (0.03147) with : {'activation': 'softplus', 'dropout_rate': 0.6, 'init_mode': 'normal'}\n",
      "0.64974 (0.02351) with : {'activation': 'softplus', 'dropout_rate': 0.6, 'init_mode': 'zero'}\n",
      "0.63932 (0.01757) with : {'activation': 'softplus', 'dropout_rate': 0.6, 'init_mode': 'glorot_normal'}\n",
      "0.54036 (0.14467) with : {'activation': 'softplus', 'dropout_rate': 0.6, 'init_mode': 'glorot_uniform'}\n",
      "0.56380 (0.12329) with : {'activation': 'softplus', 'dropout_rate': 0.6, 'init_mode': 'he_normal'}\n",
      "0.64844 (0.02408) with : {'activation': 'softplus', 'dropout_rate': 0.6, 'init_mode': 'he_uniform'}\n",
      "0.62760 (0.03273) with : {'activation': 'softplus', 'dropout_rate': 0.7, 'init_mode': 'uniform'}\n",
      "0.47396 (0.13998) with : {'activation': 'softplus', 'dropout_rate': 0.7, 'init_mode': 'lecun_uniform'}\n",
      "0.56380 (0.05046) with : {'activation': 'softplus', 'dropout_rate': 0.7, 'init_mode': 'normal'}\n",
      "0.65495 (0.02894) with : {'activation': 'softplus', 'dropout_rate': 0.7, 'init_mode': 'zero'}\n",
      "0.41276 (0.07254) with : {'activation': 'softplus', 'dropout_rate': 0.7, 'init_mode': 'glorot_normal'}\n",
      "0.47917 (0.10532) with : {'activation': 'softplus', 'dropout_rate': 0.7, 'init_mode': 'glorot_uniform'}\n",
      "0.60677 (0.08932) with : {'activation': 'softplus', 'dropout_rate': 0.7, 'init_mode': 'he_normal'}\n",
      "0.48307 (0.12846) with : {'activation': 'softplus', 'dropout_rate': 0.7, 'init_mode': 'he_uniform'}\n",
      "0.58854 (0.07697) with : {'activation': 'softplus', 'dropout_rate': 0.8, 'init_mode': 'uniform'}\n",
      "0.64323 (0.03556) with : {'activation': 'softplus', 'dropout_rate': 0.8, 'init_mode': 'lecun_uniform'}\n",
      "0.47917 (0.13838) with : {'activation': 'softplus', 'dropout_rate': 0.8, 'init_mode': 'normal'}\n",
      "0.58984 (0.06513) with : {'activation': 'softplus', 'dropout_rate': 0.8, 'init_mode': 'zero'}\n",
      "0.44922 (0.12849) with : {'activation': 'softplus', 'dropout_rate': 0.8, 'init_mode': 'glorot_normal'}\n",
      "0.65104 (0.02477) with : {'activation': 'softplus', 'dropout_rate': 0.8, 'init_mode': 'glorot_uniform'}\n",
      "0.45833 (0.14968) with : {'activation': 'softplus', 'dropout_rate': 0.8, 'init_mode': 'he_normal'}\n",
      "0.57031 (0.13262) with : {'activation': 'softplus', 'dropout_rate': 0.8, 'init_mode': 'he_uniform'}\n",
      "0.43359 (0.13147) with : {'activation': 'softplus', 'dropout_rate': 0.9, 'init_mode': 'uniform'}\n",
      "0.59635 (0.06858) with : {'activation': 'softplus', 'dropout_rate': 0.9, 'init_mode': 'lecun_uniform'}\n",
      "0.52865 (0.14498) with : {'activation': 'softplus', 'dropout_rate': 0.9, 'init_mode': 'normal'}\n",
      "0.60156 (0.08438) with : {'activation': 'softplus', 'dropout_rate': 0.9, 'init_mode': 'zero'}\n",
      "0.44922 (0.12565) with : {'activation': 'softplus', 'dropout_rate': 0.9, 'init_mode': 'glorot_normal'}\n",
      "0.58073 (0.07918) with : {'activation': 'softplus', 'dropout_rate': 0.9, 'init_mode': 'glorot_uniform'}\n",
      "0.52734 (0.12320) with : {'activation': 'softplus', 'dropout_rate': 0.9, 'init_mode': 'he_normal'}\n",
      "0.54427 (0.14652) with : {'activation': 'softplus', 'dropout_rate': 0.9, 'init_mode': 'he_uniform'}\n",
      "0.64714 (0.02415) with : {'activation': 'softsign', 'dropout_rate': 0.0, 'init_mode': 'uniform'}\n",
      "0.55990 (0.06029) with : {'activation': 'softsign', 'dropout_rate': 0.0, 'init_mode': 'lecun_uniform'}\n",
      "0.63151 (0.01605) with : {'activation': 'softsign', 'dropout_rate': 0.0, 'init_mode': 'normal'}\n",
      "0.64974 (0.02436) with : {'activation': 'softsign', 'dropout_rate': 0.0, 'init_mode': 'zero'}\n",
      "0.53255 (0.15110) with : {'activation': 'softsign', 'dropout_rate': 0.0, 'init_mode': 'glorot_normal'}\n",
      "0.64714 (0.03015) with : {'activation': 'softsign', 'dropout_rate': 0.0, 'init_mode': 'glorot_uniform'}\n",
      "0.50651 (0.04872) with : {'activation': 'softsign', 'dropout_rate': 0.0, 'init_mode': 'he_normal'}\n",
      "0.45833 (0.05987) with : {'activation': 'softsign', 'dropout_rate': 0.0, 'init_mode': 'he_uniform'}\n",
      "0.64974 (0.02436) with : {'activation': 'softsign', 'dropout_rate': 0.1, 'init_mode': 'uniform'}\n",
      "0.59896 (0.07563) with : {'activation': 'softsign', 'dropout_rate': 0.1, 'init_mode': 'lecun_uniform'}\n",
      "0.57552 (0.10356) with : {'activation': 'softsign', 'dropout_rate': 0.1, 'init_mode': 'normal'}\n",
      "0.65104 (0.02477) with : {'activation': 'softsign', 'dropout_rate': 0.1, 'init_mode': 'zero'}\n",
      "0.63932 (0.03065) with : {'activation': 'softsign', 'dropout_rate': 0.1, 'init_mode': 'glorot_normal'}\n",
      "0.51042 (0.09996) with : {'activation': 'softsign', 'dropout_rate': 0.1, 'init_mode': 'glorot_uniform'}\n",
      "0.45964 (0.15251) with : {'activation': 'softsign', 'dropout_rate': 0.1, 'init_mode': 'he_normal'}\n",
      "0.49219 (0.09944) with : {'activation': 'softsign', 'dropout_rate': 0.1, 'init_mode': 'he_uniform'}\n",
      "0.65365 (0.00664) with : {'activation': 'softsign', 'dropout_rate': 0.2, 'init_mode': 'uniform'}\n",
      "0.36979 (0.00664) with : {'activation': 'softsign', 'dropout_rate': 0.2, 'init_mode': 'lecun_uniform'}\n",
      "0.65625 (0.01992) with : {'activation': 'softsign', 'dropout_rate': 0.2, 'init_mode': 'normal'}\n",
      "0.65104 (0.02477) with : {'activation': 'softsign', 'dropout_rate': 0.2, 'init_mode': 'zero'}\n",
      "0.50911 (0.11576) with : {'activation': 'softsign', 'dropout_rate': 0.2, 'init_mode': 'glorot_normal'}\n",
      "0.46094 (0.05741) with : {'activation': 'softsign', 'dropout_rate': 0.2, 'init_mode': 'glorot_uniform'}\n",
      "0.54557 (0.07275) with : {'activation': 'softsign', 'dropout_rate': 0.2, 'init_mode': 'he_normal'}\n",
      "0.61979 (0.03528) with : {'activation': 'softsign', 'dropout_rate': 0.2, 'init_mode': 'he_uniform'}\n",
      "0.62760 (0.02051) with : {'activation': 'softsign', 'dropout_rate': 0.3, 'init_mode': 'uniform'}\n",
      "0.54948 (0.11345) with : {'activation': 'softsign', 'dropout_rate': 0.3, 'init_mode': 'lecun_uniform'}\n",
      "0.54948 (0.13244) with : {'activation': 'softsign', 'dropout_rate': 0.3, 'init_mode': 'normal'}\n",
      "0.65104 (0.02477) with : {'activation': 'softsign', 'dropout_rate': 0.3, 'init_mode': 'zero'}\n",
      "0.53255 (0.13660) with : {'activation': 'softsign', 'dropout_rate': 0.3, 'init_mode': 'glorot_normal'}\n",
      "0.47266 (0.04910) with : {'activation': 'softsign', 'dropout_rate': 0.3, 'init_mode': 'glorot_uniform'}\n",
      "0.53906 (0.07734) with : {'activation': 'softsign', 'dropout_rate': 0.3, 'init_mode': 'he_normal'}\n",
      "0.61328 (0.02780) with : {'activation': 'softsign', 'dropout_rate': 0.3, 'init_mode': 'he_uniform'}\n",
      "0.64453 (0.02725) with : {'activation': 'softsign', 'dropout_rate': 0.4, 'init_mode': 'uniform'}\n",
      "0.55339 (0.12362) with : {'activation': 'softsign', 'dropout_rate': 0.4, 'init_mode': 'lecun_uniform'}\n",
      "0.58203 (0.08438) with : {'activation': 'softsign', 'dropout_rate': 0.4, 'init_mode': 'normal'}\n",
      "0.65104 (0.02477) with : {'activation': 'softsign', 'dropout_rate': 0.4, 'init_mode': 'zero'}\n",
      "0.58203 (0.06152) with : {'activation': 'softsign', 'dropout_rate': 0.4, 'init_mode': 'glorot_normal'}\n",
      "0.58724 (0.07789) with : {'activation': 'softsign', 'dropout_rate': 0.4, 'init_mode': 'glorot_uniform'}\n",
      "0.53646 (0.14707) with : {'activation': 'softsign', 'dropout_rate': 0.4, 'init_mode': 'he_normal'}\n",
      "0.60938 (0.08293) with : {'activation': 'softsign', 'dropout_rate': 0.4, 'init_mode': 'he_uniform'}\n",
      "0.63411 (0.03015) with : {'activation': 'softsign', 'dropout_rate': 0.5, 'init_mode': 'uniform'}\n",
      "0.46224 (0.13998) with : {'activation': 'softsign', 'dropout_rate': 0.5, 'init_mode': 'lecun_uniform'}\n",
      "0.58984 (0.07741) with : {'activation': 'softsign', 'dropout_rate': 0.5, 'init_mode': 'normal'}\n",
      "0.65104 (0.02477) with : {'activation': 'softsign', 'dropout_rate': 0.5, 'init_mode': 'zero'}\n",
      "0.59635 (0.11785) with : {'activation': 'softsign', 'dropout_rate': 0.5, 'init_mode': 'glorot_normal'}\n",
      "0.51562 (0.11723) with : {'activation': 'softsign', 'dropout_rate': 0.5, 'init_mode': 'glorot_uniform'}\n",
      "0.51562 (0.07793) with : {'activation': 'softsign', 'dropout_rate': 0.5, 'init_mode': 'he_normal'}\n",
      "0.47917 (0.11237) with : {'activation': 'softsign', 'dropout_rate': 0.5, 'init_mode': 'he_uniform'}\n",
      "0.60807 (0.04669) with : {'activation': 'softsign', 'dropout_rate': 0.6, 'init_mode': 'uniform'}\n",
      "0.51432 (0.08008) with : {'activation': 'softsign', 'dropout_rate': 0.6, 'init_mode': 'lecun_uniform'}\n",
      "0.63021 (0.03410) with : {'activation': 'softsign', 'dropout_rate': 0.6, 'init_mode': 'normal'}\n",
      "0.65234 (0.02611) with : {'activation': 'softsign', 'dropout_rate': 0.6, 'init_mode': 'zero'}\n",
      "0.51172 (0.12553) with : {'activation': 'softsign', 'dropout_rate': 0.6, 'init_mode': 'glorot_normal'}\n",
      "0.43750 (0.07661) with : {'activation': 'softsign', 'dropout_rate': 0.6, 'init_mode': 'glorot_uniform'}\n",
      "0.53385 (0.08938) with : {'activation': 'softsign', 'dropout_rate': 0.6, 'init_mode': 'he_normal'}\n",
      "0.50391 (0.13759) with : {'activation': 'softsign', 'dropout_rate': 0.6, 'init_mode': 'he_uniform'}\n",
      "0.60807 (0.04013) with : {'activation': 'softsign', 'dropout_rate': 0.7, 'init_mode': 'uniform'}\n",
      "0.56120 (0.11802) with : {'activation': 'softsign', 'dropout_rate': 0.7, 'init_mode': 'lecun_uniform'}\n",
      "0.58333 (0.08020) with : {'activation': 'softsign', 'dropout_rate': 0.7, 'init_mode': 'normal'}\n",
      "0.65104 (0.02477) with : {'activation': 'softsign', 'dropout_rate': 0.7, 'init_mode': 'zero'}\n",
      "0.53385 (0.10464) with : {'activation': 'softsign', 'dropout_rate': 0.7, 'init_mode': 'glorot_normal'}\n",
      "0.55990 (0.07091) with : {'activation': 'softsign', 'dropout_rate': 0.7, 'init_mode': 'glorot_uniform'}\n",
      "0.47656 (0.11108) with : {'activation': 'softsign', 'dropout_rate': 0.7, 'init_mode': 'he_normal'}\n",
      "0.46354 (0.15367) with : {'activation': 'softsign', 'dropout_rate': 0.7, 'init_mode': 'he_uniform'}\n",
      "0.63021 (0.03320) with : {'activation': 'softsign', 'dropout_rate': 0.8, 'init_mode': 'uniform'}\n",
      "0.58203 (0.08576) with : {'activation': 'softsign', 'dropout_rate': 0.8, 'init_mode': 'lecun_uniform'}\n",
      "0.65104 (0.02787) with : {'activation': 'softsign', 'dropout_rate': 0.8, 'init_mode': 'normal'}\n",
      "0.64714 (0.03015) with : {'activation': 'softsign', 'dropout_rate': 0.8, 'init_mode': 'zero'}\n",
      "0.52995 (0.11169) with : {'activation': 'softsign', 'dropout_rate': 0.8, 'init_mode': 'glorot_normal'}\n",
      "0.46354 (0.10647) with : {'activation': 'softsign', 'dropout_rate': 0.8, 'init_mode': 'glorot_uniform'}\n",
      "0.62891 (0.03552) with : {'activation': 'softsign', 'dropout_rate': 0.8, 'init_mode': 'he_normal'}\n",
      "0.50911 (0.12130) with : {'activation': 'softsign', 'dropout_rate': 0.8, 'init_mode': 'he_uniform'}\n",
      "0.63802 (0.02675) with : {'activation': 'softsign', 'dropout_rate': 0.9, 'init_mode': 'uniform'}\n",
      "0.47656 (0.06907) with : {'activation': 'softsign', 'dropout_rate': 0.9, 'init_mode': 'lecun_uniform'}\n",
      "0.59505 (0.07509) with : {'activation': 'softsign', 'dropout_rate': 0.9, 'init_mode': 'normal'}\n",
      "0.65104 (0.02477) with : {'activation': 'softsign', 'dropout_rate': 0.9, 'init_mode': 'zero'}\n",
      "0.49219 (0.11645) with : {'activation': 'softsign', 'dropout_rate': 0.9, 'init_mode': 'glorot_normal'}\n",
      "0.59766 (0.01150) with : {'activation': 'softsign', 'dropout_rate': 0.9, 'init_mode': 'glorot_uniform'}\n",
      "0.63672 (0.02780) with : {'activation': 'softsign', 'dropout_rate': 0.9, 'init_mode': 'he_normal'}\n",
      "0.46224 (0.11233) with : {'activation': 'softsign', 'dropout_rate': 0.9, 'init_mode': 'he_uniform'}\n",
      "0.57292 (0.08453) with : {'activation': 'relu', 'dropout_rate': 0.0, 'init_mode': 'uniform'}\n",
      "0.54167 (0.14718) with : {'activation': 'relu', 'dropout_rate': 0.0, 'init_mode': 'lecun_uniform'}\n",
      "0.54167 (0.05046) with : {'activation': 'relu', 'dropout_rate': 0.0, 'init_mode': 'normal'}\n",
      "0.63151 (0.04113) with : {'activation': 'relu', 'dropout_rate': 0.0, 'init_mode': 'zero'}\n",
      "0.48307 (0.10532) with : {'activation': 'relu', 'dropout_rate': 0.0, 'init_mode': 'glorot_normal'}\n",
      "0.62109 (0.06922) with : {'activation': 'relu', 'dropout_rate': 0.0, 'init_mode': 'glorot_uniform'}\n",
      "0.46875 (0.14710) with : {'activation': 'relu', 'dropout_rate': 0.0, 'init_mode': 'he_normal'}\n",
      "0.50781 (0.11486) with : {'activation': 'relu', 'dropout_rate': 0.0, 'init_mode': 'he_uniform'}\n",
      "0.61458 (0.04626) with : {'activation': 'relu', 'dropout_rate': 0.1, 'init_mode': 'uniform'}\n",
      "0.57552 (0.13660) with : {'activation': 'relu', 'dropout_rate': 0.1, 'init_mode': 'lecun_uniform'}\n",
      "0.57031 (0.05607) with : {'activation': 'relu', 'dropout_rate': 0.1, 'init_mode': 'normal'}\n",
      "0.62891 (0.02408) with : {'activation': 'relu', 'dropout_rate': 0.1, 'init_mode': 'zero'}\n",
      "0.46615 (0.14893) with : {'activation': 'relu', 'dropout_rate': 0.1, 'init_mode': 'glorot_normal'}\n",
      "0.44141 (0.08948) with : {'activation': 'relu', 'dropout_rate': 0.1, 'init_mode': 'glorot_uniform'}\n",
      "0.54167 (0.10718) with : {'activation': 'relu', 'dropout_rate': 0.1, 'init_mode': 'he_normal'}\n",
      "0.48698 (0.10213) with : {'activation': 'relu', 'dropout_rate': 0.1, 'init_mode': 'he_uniform'}\n",
      "0.43359 (0.09293) with : {'activation': 'relu', 'dropout_rate': 0.2, 'init_mode': 'uniform'}\n",
      "0.45964 (0.15403) with : {'activation': 'relu', 'dropout_rate': 0.2, 'init_mode': 'lecun_uniform'}\n",
      "0.49870 (0.09570) with : {'activation': 'relu', 'dropout_rate': 0.2, 'init_mode': 'normal'}\n",
      "0.63151 (0.03195) with : {'activation': 'relu', 'dropout_rate': 0.2, 'init_mode': 'zero'}\n",
      "0.63672 (0.02762) with : {'activation': 'relu', 'dropout_rate': 0.2, 'init_mode': 'glorot_normal'}\n",
      "0.57422 (0.10496) with : {'activation': 'relu', 'dropout_rate': 0.2, 'init_mode': 'glorot_uniform'}\n",
      "0.37370 (0.02477) with : {'activation': 'relu', 'dropout_rate': 0.2, 'init_mode': 'he_normal'}\n",
      "0.47656 (0.11035) with : {'activation': 'relu', 'dropout_rate': 0.2, 'init_mode': 'he_uniform'}\n",
      "0.64974 (0.01473) with : {'activation': 'relu', 'dropout_rate': 0.3, 'init_mode': 'uniform'}\n",
      "0.58854 (0.07303) with : {'activation': 'relu', 'dropout_rate': 0.3, 'init_mode': 'lecun_uniform'}\n",
      "0.62240 (0.04283) with : {'activation': 'relu', 'dropout_rate': 0.3, 'init_mode': 'normal'}\n",
      "0.65104 (0.02477) with : {'activation': 'relu', 'dropout_rate': 0.3, 'init_mode': 'zero'}\n",
      "0.48047 (0.13869) with : {'activation': 'relu', 'dropout_rate': 0.3, 'init_mode': 'glorot_normal'}\n",
      "0.55729 (0.08319) with : {'activation': 'relu', 'dropout_rate': 0.3, 'init_mode': 'glorot_uniform'}\n",
      "0.47266 (0.10191) with : {'activation': 'relu', 'dropout_rate': 0.3, 'init_mode': 'he_normal'}\n",
      "0.46615 (0.14927) with : {'activation': 'relu', 'dropout_rate': 0.3, 'init_mode': 'he_uniform'}\n",
      "0.47526 (0.12238) with : {'activation': 'relu', 'dropout_rate': 0.4, 'init_mode': 'uniform'}\n",
      "0.50911 (0.08453) with : {'activation': 'relu', 'dropout_rate': 0.4, 'init_mode': 'lecun_uniform'}\n",
      "0.53125 (0.10858) with : {'activation': 'relu', 'dropout_rate': 0.4, 'init_mode': 'normal'}\n",
      "0.60677 (0.05918) with : {'activation': 'relu', 'dropout_rate': 0.4, 'init_mode': 'zero'}\n",
      "0.66146 (0.01208) with : {'activation': 'relu', 'dropout_rate': 0.4, 'init_mode': 'glorot_normal'}\n",
      "0.42448 (0.05726) with : {'activation': 'relu', 'dropout_rate': 0.4, 'init_mode': 'glorot_uniform'}\n",
      "0.54557 (0.11824) with : {'activation': 'relu', 'dropout_rate': 0.4, 'init_mode': 'he_normal'}\n",
      "0.55859 (0.12220) with : {'activation': 'relu', 'dropout_rate': 0.4, 'init_mode': 'he_uniform'}\n",
      "0.47786 (0.11802) with : {'activation': 'relu', 'dropout_rate': 0.5, 'init_mode': 'uniform'}\n",
      "0.36198 (0.02859) with : {'activation': 'relu', 'dropout_rate': 0.5, 'init_mode': 'lecun_uniform'}\n",
      "0.41016 (0.06863) with : {'activation': 'relu', 'dropout_rate': 0.5, 'init_mode': 'normal'}\n",
      "0.58333 (0.08020) with : {'activation': 'relu', 'dropout_rate': 0.5, 'init_mode': 'zero'}\n",
      "0.45833 (0.06761) with : {'activation': 'relu', 'dropout_rate': 0.5, 'init_mode': 'glorot_normal'}\n",
      "0.45833 (0.14718) with : {'activation': 'relu', 'dropout_rate': 0.5, 'init_mode': 'glorot_uniform'}\n",
      "0.45833 (0.11242) with : {'activation': 'relu', 'dropout_rate': 0.5, 'init_mode': 'he_normal'}\n",
      "0.50911 (0.13136) with : {'activation': 'relu', 'dropout_rate': 0.5, 'init_mode': 'he_uniform'}\n",
      "0.58333 (0.13926) with : {'activation': 'relu', 'dropout_rate': 0.6, 'init_mode': 'uniform'}\n",
      "0.47917 (0.11323) with : {'activation': 'relu', 'dropout_rate': 0.6, 'init_mode': 'lecun_uniform'}\n",
      "0.58594 (0.01390) with : {'activation': 'relu', 'dropout_rate': 0.6, 'init_mode': 'normal'}\n",
      "0.51432 (0.13190) with : {'activation': 'relu', 'dropout_rate': 0.6, 'init_mode': 'zero'}\n",
      "0.40495 (0.07034) with : {'activation': 'relu', 'dropout_rate': 0.6, 'init_mode': 'glorot_normal'}\n",
      "0.62760 (0.03898) with : {'activation': 'relu', 'dropout_rate': 0.6, 'init_mode': 'glorot_uniform'}\n",
      "0.47135 (0.13926) with : {'activation': 'relu', 'dropout_rate': 0.6, 'init_mode': 'he_normal'}\n",
      "0.45573 (0.14652) with : {'activation': 'relu', 'dropout_rate': 0.6, 'init_mode': 'he_uniform'}\n",
      "0.61589 (0.07393) with : {'activation': 'relu', 'dropout_rate': 0.7, 'init_mode': 'uniform'}\n",
      "0.62500 (0.06637) with : {'activation': 'relu', 'dropout_rate': 0.7, 'init_mode': 'lecun_uniform'}\n",
      "0.50911 (0.09146) with : {'activation': 'relu', 'dropout_rate': 0.7, 'init_mode': 'normal'}\n",
      "0.65365 (0.02750) with : {'activation': 'relu', 'dropout_rate': 0.7, 'init_mode': 'zero'}\n",
      "0.54036 (0.15681) with : {'activation': 'relu', 'dropout_rate': 0.7, 'init_mode': 'glorot_normal'}\n",
      "0.51562 (0.12220) with : {'activation': 'relu', 'dropout_rate': 0.7, 'init_mode': 'glorot_uniform'}\n",
      "0.61849 (0.04626) with : {'activation': 'relu', 'dropout_rate': 0.7, 'init_mode': 'he_normal'}\n",
      "0.37500 (0.01776) with : {'activation': 'relu', 'dropout_rate': 0.7, 'init_mode': 'he_uniform'}\n",
      "0.48828 (0.10688) with : {'activation': 'relu', 'dropout_rate': 0.8, 'init_mode': 'uniform'}\n",
      "0.51042 (0.07873) with : {'activation': 'relu', 'dropout_rate': 0.8, 'init_mode': 'lecun_uniform'}\n",
      "0.42578 (0.13007) with : {'activation': 'relu', 'dropout_rate': 0.8, 'init_mode': 'normal'}\n",
      "0.65234 (0.02532) with : {'activation': 'relu', 'dropout_rate': 0.8, 'init_mode': 'zero'}\n",
      "0.60807 (0.04307) with : {'activation': 'relu', 'dropout_rate': 0.8, 'init_mode': 'glorot_normal'}\n",
      "0.49609 (0.12806) with : {'activation': 'relu', 'dropout_rate': 0.8, 'init_mode': 'glorot_uniform'}\n",
      "0.54297 (0.14833) with : {'activation': 'relu', 'dropout_rate': 0.8, 'init_mode': 'he_normal'}\n",
      "0.42708 (0.13458) with : {'activation': 'relu', 'dropout_rate': 0.8, 'init_mode': 'he_uniform'}\n",
      "0.54036 (0.15314) with : {'activation': 'relu', 'dropout_rate': 0.9, 'init_mode': 'uniform'}\n",
      "0.44271 (0.08146) with : {'activation': 'relu', 'dropout_rate': 0.9, 'init_mode': 'lecun_uniform'}\n",
      "0.58594 (0.11605) with : {'activation': 'relu', 'dropout_rate': 0.9, 'init_mode': 'normal'}\n",
      "0.56510 (0.10799) with : {'activation': 'relu', 'dropout_rate': 0.9, 'init_mode': 'zero'}\n",
      "0.56510 (0.12088) with : {'activation': 'relu', 'dropout_rate': 0.9, 'init_mode': 'glorot_normal'}\n",
      "0.45052 (0.14769) with : {'activation': 'relu', 'dropout_rate': 0.9, 'init_mode': 'glorot_uniform'}\n",
      "0.63932 (0.02859) with : {'activation': 'relu', 'dropout_rate': 0.9, 'init_mode': 'he_normal'}\n",
      "0.47786 (0.11004) with : {'activation': 'relu', 'dropout_rate': 0.9, 'init_mode': 'he_uniform'}\n",
      "0.64714 (0.02713) with : {'activation': 'tanh', 'dropout_rate': 0.0, 'init_mode': 'uniform'}\n",
      "0.55078 (0.11671) with : {'activation': 'tanh', 'dropout_rate': 0.0, 'init_mode': 'lecun_uniform'}\n",
      "0.63802 (0.03988) with : {'activation': 'tanh', 'dropout_rate': 0.0, 'init_mode': 'normal'}\n",
      "0.64714 (0.02578) with : {'activation': 'tanh', 'dropout_rate': 0.0, 'init_mode': 'zero'}\n",
      "0.54036 (0.04039) with : {'activation': 'tanh', 'dropout_rate': 0.0, 'init_mode': 'glorot_normal'}\n",
      "0.55469 (0.12959) with : {'activation': 'tanh', 'dropout_rate': 0.0, 'init_mode': 'glorot_uniform'}\n",
      "0.49479 (0.12921) with : {'activation': 'tanh', 'dropout_rate': 0.0, 'init_mode': 'he_normal'}\n",
      "0.44141 (0.10544) with : {'activation': 'tanh', 'dropout_rate': 0.0, 'init_mode': 'he_uniform'}\n",
      "0.58073 (0.10967) with : {'activation': 'tanh', 'dropout_rate': 0.1, 'init_mode': 'uniform'}\n",
      "0.50521 (0.08829) with : {'activation': 'tanh', 'dropout_rate': 0.1, 'init_mode': 'lecun_uniform'}\n",
      "0.64323 (0.03320) with : {'activation': 'tanh', 'dropout_rate': 0.1, 'init_mode': 'normal'}\n",
      "0.63932 (0.01757) with : {'activation': 'tanh', 'dropout_rate': 0.1, 'init_mode': 'zero'}\n",
      "0.55339 (0.12188) with : {'activation': 'tanh', 'dropout_rate': 0.1, 'init_mode': 'glorot_normal'}\n",
      "0.61849 (0.04064) with : {'activation': 'tanh', 'dropout_rate': 0.1, 'init_mode': 'glorot_uniform'}\n",
      "0.53255 (0.06445) with : {'activation': 'tanh', 'dropout_rate': 0.1, 'init_mode': 'he_normal'}\n",
      "0.45703 (0.04146) with : {'activation': 'tanh', 'dropout_rate': 0.1, 'init_mode': 'he_uniform'}\n",
      "0.63151 (0.02394) with : {'activation': 'tanh', 'dropout_rate': 0.2, 'init_mode': 'uniform'}\n",
      "0.50781 (0.08341) with : {'activation': 'tanh', 'dropout_rate': 0.2, 'init_mode': 'lecun_uniform'}\n",
      "0.48958 (0.11114) with : {'activation': 'tanh', 'dropout_rate': 0.2, 'init_mode': 'normal'}\n",
      "0.65104 (0.02477) with : {'activation': 'tanh', 'dropout_rate': 0.2, 'init_mode': 'zero'}\n",
      "0.43880 (0.07359) with : {'activation': 'tanh', 'dropout_rate': 0.2, 'init_mode': 'glorot_normal'}\n",
      "0.64453 (0.03678) with : {'activation': 'tanh', 'dropout_rate': 0.2, 'init_mode': 'glorot_uniform'}\n",
      "0.60807 (0.06555) with : {'activation': 'tanh', 'dropout_rate': 0.2, 'init_mode': 'he_normal'}\n",
      "0.48958 (0.12695) with : {'activation': 'tanh', 'dropout_rate': 0.2, 'init_mode': 'he_uniform'}\n",
      "0.63542 (0.04648) with : {'activation': 'tanh', 'dropout_rate': 0.3, 'init_mode': 'uniform'}\n",
      "0.49089 (0.11969) with : {'activation': 'tanh', 'dropout_rate': 0.3, 'init_mode': 'lecun_uniform'}\n",
      "0.62500 (0.03237) with : {'activation': 'tanh', 'dropout_rate': 0.3, 'init_mode': 'normal'}\n",
      "0.65104 (0.02477) with : {'activation': 'tanh', 'dropout_rate': 0.3, 'init_mode': 'zero'}\n",
      "0.58594 (0.07245) with : {'activation': 'tanh', 'dropout_rate': 0.3, 'init_mode': 'glorot_normal'}\n",
      "0.53385 (0.11457) with : {'activation': 'tanh', 'dropout_rate': 0.3, 'init_mode': 'glorot_uniform'}\n",
      "0.53906 (0.13692) with : {'activation': 'tanh', 'dropout_rate': 0.3, 'init_mode': 'he_normal'}\n",
      "0.51432 (0.11703) with : {'activation': 'tanh', 'dropout_rate': 0.3, 'init_mode': 'he_uniform'}\n",
      "0.65104 (0.02477) with : {'activation': 'tanh', 'dropout_rate': 0.4, 'init_mode': 'uniform'}\n",
      "0.58594 (0.08879) with : {'activation': 'tanh', 'dropout_rate': 0.4, 'init_mode': 'lecun_uniform'}\n",
      "0.65104 (0.02477) with : {'activation': 'tanh', 'dropout_rate': 0.4, 'init_mode': 'normal'}\n",
      "0.65234 (0.02300) with : {'activation': 'tanh', 'dropout_rate': 0.4, 'init_mode': 'zero'}\n",
      "0.52344 (0.11486) with : {'activation': 'tanh', 'dropout_rate': 0.4, 'init_mode': 'glorot_normal'}\n",
      "0.60938 (0.03996) with : {'activation': 'tanh', 'dropout_rate': 0.4, 'init_mode': 'glorot_uniform'}\n",
      "0.50521 (0.09279) with : {'activation': 'tanh', 'dropout_rate': 0.4, 'init_mode': 'he_normal'}\n",
      "0.47005 (0.12338) with : {'activation': 'tanh', 'dropout_rate': 0.4, 'init_mode': 'he_uniform'}\n",
      "0.53776 (0.08392) with : {'activation': 'tanh', 'dropout_rate': 0.5, 'init_mode': 'uniform'}\n",
      "0.44661 (0.03195) with : {'activation': 'tanh', 'dropout_rate': 0.5, 'init_mode': 'lecun_uniform'}\n",
      "0.53385 (0.14673) with : {'activation': 'tanh', 'dropout_rate': 0.5, 'init_mode': 'normal'}\n",
      "0.64974 (0.02436) with : {'activation': 'tanh', 'dropout_rate': 0.5, 'init_mode': 'zero'}\n",
      "0.60156 (0.06591) with : {'activation': 'tanh', 'dropout_rate': 0.5, 'init_mode': 'glorot_normal'}\n",
      "0.44141 (0.08024) with : {'activation': 'tanh', 'dropout_rate': 0.5, 'init_mode': 'glorot_uniform'}\n",
      "0.60547 (0.02611) with : {'activation': 'tanh', 'dropout_rate': 0.5, 'init_mode': 'he_normal'}\n",
      "0.53385 (0.14470) with : {'activation': 'tanh', 'dropout_rate': 0.5, 'init_mode': 'he_uniform'}\n",
      "0.65104 (0.03410) with : {'activation': 'tanh', 'dropout_rate': 0.6, 'init_mode': 'uniform'}\n",
      "0.59245 (0.09575) with : {'activation': 'tanh', 'dropout_rate': 0.6, 'init_mode': 'lecun_uniform'}\n",
      "0.51953 (0.08682) with : {'activation': 'tanh', 'dropout_rate': 0.6, 'init_mode': 'normal'}\n",
      "0.65104 (0.02477) with : {'activation': 'tanh', 'dropout_rate': 0.6, 'init_mode': 'zero'}\n",
      "0.44010 (0.11746) with : {'activation': 'tanh', 'dropout_rate': 0.6, 'init_mode': 'glorot_normal'}\n",
      "0.48177 (0.10733) with : {'activation': 'tanh', 'dropout_rate': 0.6, 'init_mode': 'glorot_uniform'}\n",
      "0.66016 (0.01595) with : {'activation': 'tanh', 'dropout_rate': 0.6, 'init_mode': 'he_normal'}\n",
      "0.37240 (0.07373) with : {'activation': 'tanh', 'dropout_rate': 0.6, 'init_mode': 'he_uniform'}\n",
      "0.58073 (0.07982) with : {'activation': 'tanh', 'dropout_rate': 0.7, 'init_mode': 'uniform'}\n",
      "0.55469 (0.11285) with : {'activation': 'tanh', 'dropout_rate': 0.7, 'init_mode': 'lecun_uniform'}\n",
      "0.67839 (0.03226) with : {'activation': 'tanh', 'dropout_rate': 0.7, 'init_mode': 'normal'}\n",
      "0.65104 (0.02477) with : {'activation': 'tanh', 'dropout_rate': 0.7, 'init_mode': 'zero'}\n",
      "0.39974 (0.06063) with : {'activation': 'tanh', 'dropout_rate': 0.7, 'init_mode': 'glorot_normal'}\n",
      "0.54297 (0.06274) with : {'activation': 'tanh', 'dropout_rate': 0.7, 'init_mode': 'glorot_uniform'}\n",
      "0.52214 (0.12623) with : {'activation': 'tanh', 'dropout_rate': 0.7, 'init_mode': 'he_normal'}\n",
      "0.55469 (0.13902) with : {'activation': 'tanh', 'dropout_rate': 0.7, 'init_mode': 'he_uniform'}\n",
      "0.60547 (0.05013) with : {'activation': 'tanh', 'dropout_rate': 0.8, 'init_mode': 'uniform'}\n",
      "0.58594 (0.10515) with : {'activation': 'tanh', 'dropout_rate': 0.8, 'init_mode': 'lecun_uniform'}\n",
      "0.50391 (0.12601) with : {'activation': 'tanh', 'dropout_rate': 0.8, 'init_mode': 'normal'}\n",
      "0.65234 (0.02300) with : {'activation': 'tanh', 'dropout_rate': 0.8, 'init_mode': 'zero'}\n",
      "0.53125 (0.14044) with : {'activation': 'tanh', 'dropout_rate': 0.8, 'init_mode': 'glorot_normal'}\n",
      "0.51562 (0.13692) with : {'activation': 'tanh', 'dropout_rate': 0.8, 'init_mode': 'glorot_uniform'}\n",
      "0.47786 (0.08524) with : {'activation': 'tanh', 'dropout_rate': 0.8, 'init_mode': 'he_normal'}\n",
      "0.46615 (0.03031) with : {'activation': 'tanh', 'dropout_rate': 0.8, 'init_mode': 'he_uniform'}\n",
      "0.62500 (0.05820) with : {'activation': 'tanh', 'dropout_rate': 0.9, 'init_mode': 'uniform'}\n",
      "0.46745 (0.14236) with : {'activation': 'tanh', 'dropout_rate': 0.9, 'init_mode': 'lecun_uniform'}\n",
      "0.60677 (0.07657) with : {'activation': 'tanh', 'dropout_rate': 0.9, 'init_mode': 'normal'}\n",
      "0.64714 (0.02124) with : {'activation': 'tanh', 'dropout_rate': 0.9, 'init_mode': 'zero'}\n",
      "0.49219 (0.12710) with : {'activation': 'tanh', 'dropout_rate': 0.9, 'init_mode': 'glorot_normal'}\n",
      "0.44661 (0.05619) with : {'activation': 'tanh', 'dropout_rate': 0.9, 'init_mode': 'glorot_uniform'}\n",
      "0.65104 (0.02713) with : {'activation': 'tanh', 'dropout_rate': 0.9, 'init_mode': 'he_normal'}\n",
      "0.49609 (0.10525) with : {'activation': 'tanh', 'dropout_rate': 0.9, 'init_mode': 'he_uniform'}\n",
      "0.59115 (0.06946) with : {'activation': 'sigmoid', 'dropout_rate': 0.0, 'init_mode': 'uniform'}\n",
      "0.55990 (0.11395) with : {'activation': 'sigmoid', 'dropout_rate': 0.0, 'init_mode': 'lecun_uniform'}\n",
      "0.60547 (0.02725) with : {'activation': 'sigmoid', 'dropout_rate': 0.0, 'init_mode': 'normal'}\n",
      "0.65104 (0.02477) with : {'activation': 'sigmoid', 'dropout_rate': 0.0, 'init_mode': 'zero'}\n",
      "0.61979 (0.06088) with : {'activation': 'sigmoid', 'dropout_rate': 0.0, 'init_mode': 'glorot_normal'}\n",
      "0.40365 (0.06236) with : {'activation': 'sigmoid', 'dropout_rate': 0.0, 'init_mode': 'glorot_uniform'}\n",
      "0.58724 (0.07482) with : {'activation': 'sigmoid', 'dropout_rate': 0.0, 'init_mode': 'he_normal'}\n",
      "0.44922 (0.03375) with : {'activation': 'sigmoid', 'dropout_rate': 0.0, 'init_mode': 'he_uniform'}\n",
      "0.60417 (0.04559) with : {'activation': 'sigmoid', 'dropout_rate': 0.1, 'init_mode': 'uniform'}\n",
      "0.35026 (0.02436) with : {'activation': 'sigmoid', 'dropout_rate': 0.1, 'init_mode': 'lecun_uniform'}\n",
      "0.54688 (0.12512) with : {'activation': 'sigmoid', 'dropout_rate': 0.1, 'init_mode': 'normal'}\n",
      "0.65104 (0.02477) with : {'activation': 'sigmoid', 'dropout_rate': 0.1, 'init_mode': 'zero'}\n",
      "0.57031 (0.06629) with : {'activation': 'sigmoid', 'dropout_rate': 0.1, 'init_mode': 'glorot_normal'}\n",
      "0.49870 (0.13775) with : {'activation': 'sigmoid', 'dropout_rate': 0.1, 'init_mode': 'glorot_uniform'}\n",
      "0.54818 (0.12176) with : {'activation': 'sigmoid', 'dropout_rate': 0.1, 'init_mode': 'he_normal'}\n",
      "0.45443 (0.06768) with : {'activation': 'sigmoid', 'dropout_rate': 0.1, 'init_mode': 'he_uniform'}\n",
      "0.60026 (0.06961) with : {'activation': 'sigmoid', 'dropout_rate': 0.2, 'init_mode': 'uniform'}\n",
      "0.41797 (0.10774) with : {'activation': 'sigmoid', 'dropout_rate': 0.2, 'init_mode': 'lecun_uniform'}\n",
      "0.65104 (0.02477) with : {'activation': 'sigmoid', 'dropout_rate': 0.2, 'init_mode': 'normal'}\n",
      "0.65104 (0.02477) with : {'activation': 'sigmoid', 'dropout_rate': 0.2, 'init_mode': 'zero'}\n",
      "0.49219 (0.11601) with : {'activation': 'sigmoid', 'dropout_rate': 0.2, 'init_mode': 'glorot_normal'}\n",
      "0.45964 (0.15049) with : {'activation': 'sigmoid', 'dropout_rate': 0.2, 'init_mode': 'glorot_uniform'}\n",
      "0.64844 (0.02408) with : {'activation': 'sigmoid', 'dropout_rate': 0.2, 'init_mode': 'he_normal'}\n",
      "0.53255 (0.14855) with : {'activation': 'sigmoid', 'dropout_rate': 0.2, 'init_mode': 'he_uniform'}\n",
      "0.60417 (0.06445) with : {'activation': 'sigmoid', 'dropout_rate': 0.3, 'init_mode': 'uniform'}\n",
      "0.54427 (0.14762) with : {'activation': 'sigmoid', 'dropout_rate': 0.3, 'init_mode': 'lecun_uniform'}\n",
      "0.47656 (0.11326) with : {'activation': 'sigmoid', 'dropout_rate': 0.3, 'init_mode': 'normal'}\n",
      "0.65104 (0.02477) with : {'activation': 'sigmoid', 'dropout_rate': 0.3, 'init_mode': 'zero'}\n",
      "0.49479 (0.10718) with : {'activation': 'sigmoid', 'dropout_rate': 0.3, 'init_mode': 'glorot_normal'}\n",
      "0.52604 (0.14293) with : {'activation': 'sigmoid', 'dropout_rate': 0.3, 'init_mode': 'glorot_uniform'}\n",
      "0.56771 (0.10188) with : {'activation': 'sigmoid', 'dropout_rate': 0.3, 'init_mode': 'he_normal'}\n",
      "0.39062 (0.04910) with : {'activation': 'sigmoid', 'dropout_rate': 0.3, 'init_mode': 'he_uniform'}\n",
      "0.64974 (0.02436) with : {'activation': 'sigmoid', 'dropout_rate': 0.4, 'init_mode': 'uniform'}\n",
      "0.54167 (0.10057) with : {'activation': 'sigmoid', 'dropout_rate': 0.4, 'init_mode': 'lecun_uniform'}\n",
      "0.65104 (0.02477) with : {'activation': 'sigmoid', 'dropout_rate': 0.4, 'init_mode': 'normal'}\n",
      "0.65104 (0.02477) with : {'activation': 'sigmoid', 'dropout_rate': 0.4, 'init_mode': 'zero'}\n",
      "0.44141 (0.12742) with : {'activation': 'sigmoid', 'dropout_rate': 0.4, 'init_mode': 'glorot_normal'}\n",
      "0.62240 (0.04163) with : {'activation': 'sigmoid', 'dropout_rate': 0.4, 'init_mode': 'glorot_uniform'}\n",
      "0.49479 (0.11986) with : {'activation': 'sigmoid', 'dropout_rate': 0.4, 'init_mode': 'he_normal'}\n",
      "0.46224 (0.12020) with : {'activation': 'sigmoid', 'dropout_rate': 0.4, 'init_mode': 'he_uniform'}\n",
      "0.65104 (0.02477) with : {'activation': 'sigmoid', 'dropout_rate': 0.5, 'init_mode': 'uniform'}\n",
      "0.37891 (0.03360) with : {'activation': 'sigmoid', 'dropout_rate': 0.5, 'init_mode': 'lecun_uniform'}\n",
      "0.47005 (0.14673) with : {'activation': 'sigmoid', 'dropout_rate': 0.5, 'init_mode': 'normal'}\n",
      "0.65104 (0.02477) with : {'activation': 'sigmoid', 'dropout_rate': 0.5, 'init_mode': 'zero'}\n",
      "0.61979 (0.06843) with : {'activation': 'sigmoid', 'dropout_rate': 0.5, 'init_mode': 'glorot_normal'}\n",
      "0.44141 (0.04385) with : {'activation': 'sigmoid', 'dropout_rate': 0.5, 'init_mode': 'glorot_uniform'}\n",
      "0.54036 (0.09495) with : {'activation': 'sigmoid', 'dropout_rate': 0.5, 'init_mode': 'he_normal'}\n",
      "0.42188 (0.11353) with : {'activation': 'sigmoid', 'dropout_rate': 0.5, 'init_mode': 'he_uniform'}\n",
      "0.63802 (0.02675) with : {'activation': 'sigmoid', 'dropout_rate': 0.6, 'init_mode': 'uniform'}\n",
      "0.56641 (0.07500) with : {'activation': 'sigmoid', 'dropout_rate': 0.6, 'init_mode': 'lecun_uniform'}\n",
      "0.63021 (0.03320) with : {'activation': 'sigmoid', 'dropout_rate': 0.6, 'init_mode': 'normal'}\n",
      "0.65104 (0.02477) with : {'activation': 'sigmoid', 'dropout_rate': 0.6, 'init_mode': 'zero'}\n",
      "0.53516 (0.14744) with : {'activation': 'sigmoid', 'dropout_rate': 0.6, 'init_mode': 'glorot_normal'}\n",
      "0.43359 (0.13061) with : {'activation': 'sigmoid', 'dropout_rate': 0.6, 'init_mode': 'glorot_uniform'}\n",
      "0.41797 (0.05820) with : {'activation': 'sigmoid', 'dropout_rate': 0.6, 'init_mode': 'he_normal'}\n",
      "0.50651 (0.09728) with : {'activation': 'sigmoid', 'dropout_rate': 0.6, 'init_mode': 'he_uniform'}\n",
      "0.64583 (0.02477) with : {'activation': 'sigmoid', 'dropout_rate': 0.7, 'init_mode': 'uniform'}\n",
      "0.54688 (0.10755) with : {'activation': 'sigmoid', 'dropout_rate': 0.7, 'init_mode': 'lecun_uniform'}\n",
      "0.54297 (0.14588) with : {'activation': 'sigmoid', 'dropout_rate': 0.7, 'init_mode': 'normal'}\n",
      "0.65104 (0.02477) with : {'activation': 'sigmoid', 'dropout_rate': 0.7, 'init_mode': 'zero'}\n",
      "0.47396 (0.14526) with : {'activation': 'sigmoid', 'dropout_rate': 0.7, 'init_mode': 'glorot_normal'}\n",
      "0.57161 (0.13359) with : {'activation': 'sigmoid', 'dropout_rate': 0.7, 'init_mode': 'glorot_uniform'}\n",
      "0.61198 (0.02240) with : {'activation': 'sigmoid', 'dropout_rate': 0.7, 'init_mode': 'he_normal'}\n",
      "0.39453 (0.06818) with : {'activation': 'sigmoid', 'dropout_rate': 0.7, 'init_mode': 'he_uniform'}\n",
      "0.56510 (0.10551) with : {'activation': 'sigmoid', 'dropout_rate': 0.8, 'init_mode': 'uniform'}\n",
      "0.51953 (0.11904) with : {'activation': 'sigmoid', 'dropout_rate': 0.8, 'init_mode': 'lecun_uniform'}\n",
      "0.59896 (0.09780) with : {'activation': 'sigmoid', 'dropout_rate': 0.8, 'init_mode': 'normal'}\n",
      "0.65104 (0.02477) with : {'activation': 'sigmoid', 'dropout_rate': 0.8, 'init_mode': 'zero'}\n",
      "0.58724 (0.06236) with : {'activation': 'sigmoid', 'dropout_rate': 0.8, 'init_mode': 'glorot_normal'}\n",
      "0.42708 (0.13458) with : {'activation': 'sigmoid', 'dropout_rate': 0.8, 'init_mode': 'glorot_uniform'}\n",
      "0.57682 (0.12906) with : {'activation': 'sigmoid', 'dropout_rate': 0.8, 'init_mode': 'he_normal'}\n",
      "0.43880 (0.02946) with : {'activation': 'sigmoid', 'dropout_rate': 0.8, 'init_mode': 'he_uniform'}\n",
      "0.63672 (0.01776) with : {'activation': 'sigmoid', 'dropout_rate': 0.9, 'init_mode': 'uniform'}\n",
      "0.58984 (0.06818) with : {'activation': 'sigmoid', 'dropout_rate': 0.9, 'init_mode': 'lecun_uniform'}\n",
      "0.40104 (0.02415) with : {'activation': 'sigmoid', 'dropout_rate': 0.9, 'init_mode': 'normal'}\n",
      "0.65104 (0.02477) with : {'activation': 'sigmoid', 'dropout_rate': 0.9, 'init_mode': 'zero'}\n",
      "0.43620 (0.07815) with : {'activation': 'sigmoid', 'dropout_rate': 0.9, 'init_mode': 'glorot_normal'}\n",
      "0.45964 (0.14308) with : {'activation': 'sigmoid', 'dropout_rate': 0.9, 'init_mode': 'glorot_uniform'}\n",
      "0.42708 (0.13458) with : {'activation': 'sigmoid', 'dropout_rate': 0.9, 'init_mode': 'he_normal'}\n",
      "0.35026 (0.02307) with : {'activation': 'sigmoid', 'dropout_rate': 0.9, 'init_mode': 'he_uniform'}\n",
      "0.65104 (0.02477) with : {'activation': 'hard_sigmoid', 'dropout_rate': 0.0, 'init_mode': 'uniform'}\n",
      "0.63021 (0.02124) with : {'activation': 'hard_sigmoid', 'dropout_rate': 0.0, 'init_mode': 'lecun_uniform'}\n",
      "0.47917 (0.14229) with : {'activation': 'hard_sigmoid', 'dropout_rate': 0.0, 'init_mode': 'normal'}\n",
      "0.65104 (0.02477) with : {'activation': 'hard_sigmoid', 'dropout_rate': 0.0, 'init_mode': 'zero'}\n",
      "0.52865 (0.12037) with : {'activation': 'hard_sigmoid', 'dropout_rate': 0.0, 'init_mode': 'glorot_normal'}\n",
      "0.51172 (0.10515) with : {'activation': 'hard_sigmoid', 'dropout_rate': 0.0, 'init_mode': 'glorot_uniform'}\n",
      "0.46484 (0.06371) with : {'activation': 'hard_sigmoid', 'dropout_rate': 0.0, 'init_mode': 'he_normal'}\n",
      "0.52734 (0.14345) with : {'activation': 'hard_sigmoid', 'dropout_rate': 0.0, 'init_mode': 'he_uniform'}\n",
      "0.63411 (0.04342) with : {'activation': 'hard_sigmoid', 'dropout_rate': 0.1, 'init_mode': 'uniform'}\n",
      "0.38932 (0.02750) with : {'activation': 'hard_sigmoid', 'dropout_rate': 0.1, 'init_mode': 'lecun_uniform'}\n",
      "0.56380 (0.11935) with : {'activation': 'hard_sigmoid', 'dropout_rate': 0.1, 'init_mode': 'normal'}\n",
      "0.65104 (0.02477) with : {'activation': 'hard_sigmoid', 'dropout_rate': 0.1, 'init_mode': 'zero'}\n",
      "0.55339 (0.11939) with : {'activation': 'hard_sigmoid', 'dropout_rate': 0.1, 'init_mode': 'glorot_normal'}\n",
      "0.48958 (0.12003) with : {'activation': 'hard_sigmoid', 'dropout_rate': 0.1, 'init_mode': 'glorot_uniform'}\n",
      "0.59115 (0.08453) with : {'activation': 'hard_sigmoid', 'dropout_rate': 0.1, 'init_mode': 'he_normal'}\n",
      "0.47135 (0.11961) with : {'activation': 'hard_sigmoid', 'dropout_rate': 0.1, 'init_mode': 'he_uniform'}\n",
      "0.63672 (0.02762) with : {'activation': 'hard_sigmoid', 'dropout_rate': 0.2, 'init_mode': 'uniform'}\n",
      "0.62109 (0.01105) with : {'activation': 'hard_sigmoid', 'dropout_rate': 0.2, 'init_mode': 'lecun_uniform'}\n",
      "0.45052 (0.09884) with : {'activation': 'hard_sigmoid', 'dropout_rate': 0.2, 'init_mode': 'normal'}\n",
      "0.65104 (0.02477) with : {'activation': 'hard_sigmoid', 'dropout_rate': 0.2, 'init_mode': 'zero'}\n",
      "0.45703 (0.11618) with : {'activation': 'hard_sigmoid', 'dropout_rate': 0.2, 'init_mode': 'glorot_normal'}\n",
      "0.34635 (0.02750) with : {'activation': 'hard_sigmoid', 'dropout_rate': 0.2, 'init_mode': 'glorot_uniform'}\n",
      "0.44661 (0.15015) with : {'activation': 'hard_sigmoid', 'dropout_rate': 0.2, 'init_mode': 'he_normal'}\n",
      "0.54557 (0.09146) with : {'activation': 'hard_sigmoid', 'dropout_rate': 0.2, 'init_mode': 'he_uniform'}\n",
      "0.65234 (0.02532) with : {'activation': 'hard_sigmoid', 'dropout_rate': 0.3, 'init_mode': 'uniform'}\n",
      "0.45573 (0.14652) with : {'activation': 'hard_sigmoid', 'dropout_rate': 0.3, 'init_mode': 'lecun_uniform'}\n",
      "0.64974 (0.02656) with : {'activation': 'hard_sigmoid', 'dropout_rate': 0.3, 'init_mode': 'normal'}\n",
      "0.65104 (0.02477) with : {'activation': 'hard_sigmoid', 'dropout_rate': 0.3, 'init_mode': 'zero'}\n",
      "0.50260 (0.13548) with : {'activation': 'hard_sigmoid', 'dropout_rate': 0.3, 'init_mode': 'glorot_normal'}\n",
      "0.53125 (0.15333) with : {'activation': 'hard_sigmoid', 'dropout_rate': 0.3, 'init_mode': 'glorot_uniform'}\n",
      "0.48047 (0.10544) with : {'activation': 'hard_sigmoid', 'dropout_rate': 0.3, 'init_mode': 'he_normal'}\n",
      "0.53516 (0.14744) with : {'activation': 'hard_sigmoid', 'dropout_rate': 0.3, 'init_mode': 'he_uniform'}\n",
      "0.65625 (0.01462) with : {'activation': 'hard_sigmoid', 'dropout_rate': 0.4, 'init_mode': 'uniform'}\n",
      "0.62370 (0.06880) with : {'activation': 'hard_sigmoid', 'dropout_rate': 0.4, 'init_mode': 'lecun_uniform'}\n",
      "0.62500 (0.00319) with : {'activation': 'hard_sigmoid', 'dropout_rate': 0.4, 'init_mode': 'normal'}\n",
      "0.65104 (0.02477) with : {'activation': 'hard_sigmoid', 'dropout_rate': 0.4, 'init_mode': 'zero'}\n",
      "0.40365 (0.07386) with : {'activation': 'hard_sigmoid', 'dropout_rate': 0.4, 'init_mode': 'glorot_normal'}\n",
      "0.50391 (0.13498) with : {'activation': 'hard_sigmoid', 'dropout_rate': 0.4, 'init_mode': 'glorot_uniform'}\n",
      "0.49740 (0.12370) with : {'activation': 'hard_sigmoid', 'dropout_rate': 0.4, 'init_mode': 'he_normal'}\n",
      "0.50130 (0.12743) with : {'activation': 'hard_sigmoid', 'dropout_rate': 0.4, 'init_mode': 'he_uniform'}\n",
      "0.65234 (0.02532) with : {'activation': 'hard_sigmoid', 'dropout_rate': 0.5, 'init_mode': 'uniform'}\n",
      "0.38542 (0.04354) with : {'activation': 'hard_sigmoid', 'dropout_rate': 0.5, 'init_mode': 'lecun_uniform'}\n",
      "0.64974 (0.02598) with : {'activation': 'hard_sigmoid', 'dropout_rate': 0.5, 'init_mode': 'normal'}\n",
      "0.65104 (0.02477) with : {'activation': 'hard_sigmoid', 'dropout_rate': 0.5, 'init_mode': 'zero'}\n",
      "0.55208 (0.08077) with : {'activation': 'hard_sigmoid', 'dropout_rate': 0.5, 'init_mode': 'glorot_normal'}\n",
      "0.40885 (0.08404) with : {'activation': 'hard_sigmoid', 'dropout_rate': 0.5, 'init_mode': 'glorot_uniform'}\n",
      "0.52474 (0.13090) with : {'activation': 'hard_sigmoid', 'dropout_rate': 0.5, 'init_mode': 'he_normal'}\n",
      "0.55729 (0.08008) with : {'activation': 'hard_sigmoid', 'dropout_rate': 0.5, 'init_mode': 'he_uniform'}\n",
      "0.60938 (0.04499) with : {'activation': 'hard_sigmoid', 'dropout_rate': 0.6, 'init_mode': 'uniform'}\n",
      "0.53646 (0.13623) with : {'activation': 'hard_sigmoid', 'dropout_rate': 0.6, 'init_mode': 'lecun_uniform'}\n",
      "0.65495 (0.02675) with : {'activation': 'hard_sigmoid', 'dropout_rate': 0.6, 'init_mode': 'normal'}\n",
      "0.65104 (0.02477) with : {'activation': 'hard_sigmoid', 'dropout_rate': 0.6, 'init_mode': 'zero'}\n",
      "0.51172 (0.12258) with : {'activation': 'hard_sigmoid', 'dropout_rate': 0.6, 'init_mode': 'glorot_normal'}\n",
      "0.41536 (0.05927) with : {'activation': 'hard_sigmoid', 'dropout_rate': 0.6, 'init_mode': 'glorot_uniform'}\n",
      "0.65755 (0.01328) with : {'activation': 'hard_sigmoid', 'dropout_rate': 0.6, 'init_mode': 'he_normal'}\n",
      "0.54818 (0.14769) with : {'activation': 'hard_sigmoid', 'dropout_rate': 0.6, 'init_mode': 'he_uniform'}\n",
      "0.54818 (0.14107) with : {'activation': 'hard_sigmoid', 'dropout_rate': 0.7, 'init_mode': 'uniform'}\n",
      "0.46354 (0.10248) with : {'activation': 'hard_sigmoid', 'dropout_rate': 0.7, 'init_mode': 'lecun_uniform'}\n",
      "0.57292 (0.07106) with : {'activation': 'hard_sigmoid', 'dropout_rate': 0.7, 'init_mode': 'normal'}\n",
      "0.65104 (0.02477) with : {'activation': 'hard_sigmoid', 'dropout_rate': 0.7, 'init_mode': 'zero'}\n",
      "0.38021 (0.03937) with : {'activation': 'hard_sigmoid', 'dropout_rate': 0.7, 'init_mode': 'glorot_normal'}\n",
      "0.58984 (0.07734) with : {'activation': 'hard_sigmoid', 'dropout_rate': 0.7, 'init_mode': 'glorot_uniform'}\n",
      "0.54297 (0.14160) with : {'activation': 'hard_sigmoid', 'dropout_rate': 0.7, 'init_mode': 'he_normal'}\n",
      "0.54167 (0.11395) with : {'activation': 'hard_sigmoid', 'dropout_rate': 0.7, 'init_mode': 'he_uniform'}\n",
      "0.60156 (0.09413) with : {'activation': 'hard_sigmoid', 'dropout_rate': 0.8, 'init_mode': 'uniform'}\n",
      "0.45052 (0.11995) with : {'activation': 'hard_sigmoid', 'dropout_rate': 0.8, 'init_mode': 'lecun_uniform'}\n",
      "0.62500 (0.03867) with : {'activation': 'hard_sigmoid', 'dropout_rate': 0.8, 'init_mode': 'normal'}\n",
      "0.65104 (0.02477) with : {'activation': 'hard_sigmoid', 'dropout_rate': 0.8, 'init_mode': 'zero'}\n",
      "0.56380 (0.10733) with : {'activation': 'hard_sigmoid', 'dropout_rate': 0.8, 'init_mode': 'glorot_normal'}\n",
      "0.51953 (0.07974) with : {'activation': 'hard_sigmoid', 'dropout_rate': 0.8, 'init_mode': 'glorot_uniform'}\n",
      "0.61068 (0.03724) with : {'activation': 'hard_sigmoid', 'dropout_rate': 0.8, 'init_mode': 'he_normal'}\n",
      "0.45312 (0.14588) with : {'activation': 'hard_sigmoid', 'dropout_rate': 0.8, 'init_mode': 'he_uniform'}\n",
      "0.64323 (0.02436) with : {'activation': 'hard_sigmoid', 'dropout_rate': 0.9, 'init_mode': 'uniform'}\n",
      "0.52995 (0.15416) with : {'activation': 'hard_sigmoid', 'dropout_rate': 0.9, 'init_mode': 'lecun_uniform'}\n",
      "0.65104 (0.02477) with : {'activation': 'hard_sigmoid', 'dropout_rate': 0.9, 'init_mode': 'normal'}\n",
      "0.65104 (0.02477) with : {'activation': 'hard_sigmoid', 'dropout_rate': 0.9, 'init_mode': 'zero'}\n",
      "0.44531 (0.12258) with : {'activation': 'hard_sigmoid', 'dropout_rate': 0.9, 'init_mode': 'glorot_normal'}\n",
      "0.57292 (0.09463) with : {'activation': 'hard_sigmoid', 'dropout_rate': 0.9, 'init_mode': 'glorot_uniform'}\n",
      "0.63151 (0.02026) with : {'activation': 'hard_sigmoid', 'dropout_rate': 0.9, 'init_mode': 'he_normal'}\n",
      "0.50260 (0.12663) with : {'activation': 'hard_sigmoid', 'dropout_rate': 0.9, 'init_mode': 'he_uniform'}\n",
      "0.55469 (0.15498) with : {'activation': 'linear', 'dropout_rate': 0.0, 'init_mode': 'uniform'}\n",
      "0.51302 (0.10287) with : {'activation': 'linear', 'dropout_rate': 0.0, 'init_mode': 'lecun_uniform'}\n",
      "0.53776 (0.09971) with : {'activation': 'linear', 'dropout_rate': 0.0, 'init_mode': 'normal'}\n",
      "0.65104 (0.02124) with : {'activation': 'linear', 'dropout_rate': 0.0, 'init_mode': 'zero'}\n",
      "0.55339 (0.09474) with : {'activation': 'linear', 'dropout_rate': 0.0, 'init_mode': 'glorot_normal'}\n",
      "0.55469 (0.13692) with : {'activation': 'linear', 'dropout_rate': 0.0, 'init_mode': 'glorot_uniform'}\n",
      "0.44401 (0.09644) with : {'activation': 'linear', 'dropout_rate': 0.0, 'init_mode': 'he_normal'}\n",
      "0.46745 (0.13374) with : {'activation': 'linear', 'dropout_rate': 0.0, 'init_mode': 'he_uniform'}\n",
      "0.49870 (0.10435) with : {'activation': 'linear', 'dropout_rate': 0.1, 'init_mode': 'uniform'}\n",
      "0.41276 (0.08596) with : {'activation': 'linear', 'dropout_rate': 0.1, 'init_mode': 'lecun_uniform'}\n",
      "0.59766 (0.05441) with : {'activation': 'linear', 'dropout_rate': 0.1, 'init_mode': 'normal'}\n",
      "0.65365 (0.02351) with : {'activation': 'linear', 'dropout_rate': 0.1, 'init_mode': 'zero'}\n",
      "0.54557 (0.14718) with : {'activation': 'linear', 'dropout_rate': 0.1, 'init_mode': 'glorot_normal'}\n",
      "0.53385 (0.09910) with : {'activation': 'linear', 'dropout_rate': 0.1, 'init_mode': 'glorot_uniform'}\n",
      "0.61198 (0.03697) with : {'activation': 'linear', 'dropout_rate': 0.1, 'init_mode': 'he_normal'}\n",
      "0.51432 (0.12599) with : {'activation': 'linear', 'dropout_rate': 0.1, 'init_mode': 'he_uniform'}\n",
      "0.62760 (0.03410) with : {'activation': 'linear', 'dropout_rate': 0.2, 'init_mode': 'uniform'}\n",
      "0.47526 (0.05116) with : {'activation': 'linear', 'dropout_rate': 0.2, 'init_mode': 'lecun_uniform'}\n",
      "0.50130 (0.07345) with : {'activation': 'linear', 'dropout_rate': 0.2, 'init_mode': 'normal'}\n",
      "0.65365 (0.01208) with : {'activation': 'linear', 'dropout_rate': 0.2, 'init_mode': 'zero'}\n",
      "0.60026 (0.05619) with : {'activation': 'linear', 'dropout_rate': 0.2, 'init_mode': 'glorot_normal'}\n",
      "0.50521 (0.12846) with : {'activation': 'linear', 'dropout_rate': 0.2, 'init_mode': 'glorot_uniform'}\n",
      "0.60938 (0.01390) with : {'activation': 'linear', 'dropout_rate': 0.2, 'init_mode': 'he_normal'}\n",
      "0.52865 (0.06961) with : {'activation': 'linear', 'dropout_rate': 0.2, 'init_mode': 'he_uniform'}\n",
      "0.58724 (0.03320) with : {'activation': 'linear', 'dropout_rate': 0.3, 'init_mode': 'uniform'}\n",
      "0.55859 (0.04465) with : {'activation': 'linear', 'dropout_rate': 0.3, 'init_mode': 'lecun_uniform'}\n",
      "0.60807 (0.00737) with : {'activation': 'linear', 'dropout_rate': 0.3, 'init_mode': 'normal'}\n",
      "0.65104 (0.03098) with : {'activation': 'linear', 'dropout_rate': 0.3, 'init_mode': 'zero'}\n",
      "0.46615 (0.02859) with : {'activation': 'linear', 'dropout_rate': 0.3, 'init_mode': 'glorot_normal'}\n",
      "0.55859 (0.12900) with : {'activation': 'linear', 'dropout_rate': 0.3, 'init_mode': 'glorot_uniform'}\n",
      "0.51823 (0.12906) with : {'activation': 'linear', 'dropout_rate': 0.3, 'init_mode': 'he_normal'}\n",
      "0.44792 (0.10391) with : {'activation': 'linear', 'dropout_rate': 0.3, 'init_mode': 'he_uniform'}\n",
      "0.54297 (0.06788) with : {'activation': 'linear', 'dropout_rate': 0.4, 'init_mode': 'uniform'}\n",
      "0.61068 (0.03380) with : {'activation': 'linear', 'dropout_rate': 0.4, 'init_mode': 'lecun_uniform'}\n",
      "0.56901 (0.13175) with : {'activation': 'linear', 'dropout_rate': 0.4, 'init_mode': 'normal'}\n",
      "0.65104 (0.02263) with : {'activation': 'linear', 'dropout_rate': 0.4, 'init_mode': 'zero'}\n",
      "0.52995 (0.14718) with : {'activation': 'linear', 'dropout_rate': 0.4, 'init_mode': 'glorot_normal'}\n",
      "0.65625 (0.01914) with : {'activation': 'linear', 'dropout_rate': 0.4, 'init_mode': 'glorot_uniform'}\n",
      "0.53125 (0.09282) with : {'activation': 'linear', 'dropout_rate': 0.4, 'init_mode': 'he_normal'}\n",
      "0.53776 (0.10213) with : {'activation': 'linear', 'dropout_rate': 0.4, 'init_mode': 'he_uniform'}\n",
      "0.64062 (0.02210) with : {'activation': 'linear', 'dropout_rate': 0.5, 'init_mode': 'uniform'}\n",
      "0.55599 (0.06105) with : {'activation': 'linear', 'dropout_rate': 0.5, 'init_mode': 'lecun_uniform'}\n",
      "0.52734 (0.07541) with : {'activation': 'linear', 'dropout_rate': 0.5, 'init_mode': 'normal'}\n",
      "0.66406 (0.01776) with : {'activation': 'linear', 'dropout_rate': 0.5, 'init_mode': 'zero'}\n",
      "0.54427 (0.10483) with : {'activation': 'linear', 'dropout_rate': 0.5, 'init_mode': 'glorot_normal'}\n",
      "0.41927 (0.06708) with : {'activation': 'linear', 'dropout_rate': 0.5, 'init_mode': 'glorot_uniform'}\n",
      "0.55859 (0.11671) with : {'activation': 'linear', 'dropout_rate': 0.5, 'init_mode': 'he_normal'}\n",
      "0.55208 (0.08146) with : {'activation': 'linear', 'dropout_rate': 0.5, 'init_mode': 'he_uniform'}\n",
      "0.57943 (0.03098) with : {'activation': 'linear', 'dropout_rate': 0.6, 'init_mode': 'uniform'}\n",
      "0.54818 (0.14268) with : {'activation': 'linear', 'dropout_rate': 0.6, 'init_mode': 'lecun_uniform'}\n",
      "0.57161 (0.06738) with : {'activation': 'linear', 'dropout_rate': 0.6, 'init_mode': 'normal'}\n",
      "0.64062 (0.03043) with : {'activation': 'linear', 'dropout_rate': 0.6, 'init_mode': 'zero'}\n",
      "0.52214 (0.14315) with : {'activation': 'linear', 'dropout_rate': 0.6, 'init_mode': 'glorot_normal'}\n",
      "0.51953 (0.07053) with : {'activation': 'linear', 'dropout_rate': 0.6, 'init_mode': 'glorot_uniform'}\n",
      "0.54688 (0.06403) with : {'activation': 'linear', 'dropout_rate': 0.6, 'init_mode': 'he_normal'}\n",
      "0.48958 (0.14193) with : {'activation': 'linear', 'dropout_rate': 0.6, 'init_mode': 'he_uniform'}\n",
      "0.42708 (0.08221) with : {'activation': 'linear', 'dropout_rate': 0.7, 'init_mode': 'uniform'}\n",
      "0.37760 (0.04648) with : {'activation': 'linear', 'dropout_rate': 0.7, 'init_mode': 'lecun_uniform'}\n",
      "0.49479 (0.11554) with : {'activation': 'linear', 'dropout_rate': 0.7, 'init_mode': 'normal'}\n",
      "0.64974 (0.02436) with : {'activation': 'linear', 'dropout_rate': 0.7, 'init_mode': 'zero'}\n",
      "0.52083 (0.11091) with : {'activation': 'linear', 'dropout_rate': 0.7, 'init_mode': 'glorot_normal'}\n",
      "0.64974 (0.02713) with : {'activation': 'linear', 'dropout_rate': 0.7, 'init_mode': 'glorot_uniform'}\n",
      "0.55599 (0.10188) with : {'activation': 'linear', 'dropout_rate': 0.7, 'init_mode': 'he_normal'}\n",
      "0.56120 (0.12088) with : {'activation': 'linear', 'dropout_rate': 0.7, 'init_mode': 'he_uniform'}\n",
      "0.56380 (0.08771) with : {'activation': 'linear', 'dropout_rate': 0.8, 'init_mode': 'uniform'}\n",
      "0.64844 (0.02611) with : {'activation': 'linear', 'dropout_rate': 0.8, 'init_mode': 'lecun_uniform'}\n",
      "0.64974 (0.01814) with : {'activation': 'linear', 'dropout_rate': 0.8, 'init_mode': 'normal'}\n",
      "0.61979 (0.02477) with : {'activation': 'linear', 'dropout_rate': 0.8, 'init_mode': 'zero'}\n",
      "0.49089 (0.11260) with : {'activation': 'linear', 'dropout_rate': 0.8, 'init_mode': 'glorot_normal'}\n",
      "0.44141 (0.11380) with : {'activation': 'linear', 'dropout_rate': 0.8, 'init_mode': 'glorot_uniform'}\n",
      "0.35286 (0.03015) with : {'activation': 'linear', 'dropout_rate': 0.8, 'init_mode': 'he_normal'}\n",
      "0.46354 (0.14817) with : {'activation': 'linear', 'dropout_rate': 0.8, 'init_mode': 'he_uniform'}\n",
      "0.60286 (0.09495) with : {'activation': 'linear', 'dropout_rate': 0.9, 'init_mode': 'uniform'}\n",
      "0.54167 (0.14378) with : {'activation': 'linear', 'dropout_rate': 0.9, 'init_mode': 'lecun_uniform'}\n",
      "0.42448 (0.12823) with : {'activation': 'linear', 'dropout_rate': 0.9, 'init_mode': 'normal'}\n",
      "0.65104 (0.02415) with : {'activation': 'linear', 'dropout_rate': 0.9, 'init_mode': 'zero'}\n",
      "0.45833 (0.11677) with : {'activation': 'linear', 'dropout_rate': 0.9, 'init_mode': 'glorot_normal'}\n",
      "0.47135 (0.07414) with : {'activation': 'linear', 'dropout_rate': 0.9, 'init_mode': 'glorot_uniform'}\n",
      "0.53255 (0.13845) with : {'activation': 'linear', 'dropout_rate': 0.9, 'init_mode': 'he_normal'}\n",
      "0.42318 (0.10435) with : {'activation': 'linear', 'dropout_rate': 0.9, 'init_mode': 'he_uniform'}\n"
     ]
    }
   ],
   "source": [
    "# 파라미터 조합\n",
    "batch_size = [10,20,40,60,80,100]\n",
    "epochs=[10,50,100]\n",
    "\n",
    "# 매개변수 입력형태는 dictionary\n",
    "param_grid = dict(init_mode = init_mode, activation=activation, dropout_rate=dropout_rate)\n",
    "\n",
    "grid = GridSearchCV(estimator=model, param_grid=param_grid, n_jobs=-1)\n",
    "fit_params=dict(callbacks=[stopper])\n",
    "# 변동매개변수\n",
    "grid_result = grid.fit(X,Y, **fit_params)\n",
    "print('최적스코어: {} 사용한 파라미터조합 : '.format(grid_result.best_score_, grid_result.best_params_))\n",
    "means = grid_result.cv_results_['mean_test_score']\n",
    "stds = grid_result.cv_results_['std_test_score']\n",
    "params = grid_result.cv_results_['params']\n",
    "\n",
    "for mean, stdev, param in zip(means, stds, params):\n",
    "    print('{:.5f} ({:.5f}) with : {}'.format(mean, stdev, param))"
   ]
  },
  {
   "cell_type": "code",
   "execution_count": null,
   "metadata": {},
   "outputs": [],
   "source": []
  },
  {
   "cell_type": "code",
   "execution_count": null,
   "metadata": {},
   "outputs": [],
   "source": [
    "# Use scikit-learn to grid search the weight initialization\n",
    "import numpy\n",
    "from sklearn.model_selection import GridSearchCV\n",
    "from keras.models import Sequential\n",
    "from keras.layers import Dense, Dropout\n",
    "from keras.wrappers.scikit_learn import KerasClassifier\n",
    "from keras.callbacks import EarlyStopping\n",
    "stopper = EarlyStopping(monitor='var_accuracy', patience=3, verbose=1)\n",
    "# Function to create model, required for KerasClassifier\n",
    "def create_model(init_mode='uniform',optimizer='relu',dropout_rate=0.1):\n",
    "# create model\n",
    "    model = Sequential()\n",
    "    model.add(Dense(12, input_dim=8, kernel_initializer=init_mode, activation=optimizer))\n",
    "    model.add(Dropout(dropout_rate))\n",
    "    model.add(Dense(1))\n",
    "    # Compile model\n",
    "    model.compile(loss='binary_crossentropy', optimizer='adam', metrics=['accuracy'])\n",
    "    return model\n",
    "# fix random seed for reproducibility\n",
    "seed = 7\n",
    "numpy.random.seed(seed)\n",
    "# load dataset\n",
    "dataset = numpy.loadtxt(\"pima.csv\", delimiter=\",\")\n",
    "# split into input (X) and output (Y) variables\n",
    "X = dataset[:,0:8]\n",
    "Y = dataset[:,8]\n",
    "# create model\n",
    "# Earlystopping\n",
    "model = KerasClassifier(build_fn=create_model, epochs=100, batch_size=10, verbose=1)\n",
    "# define the grid search parameters\n",
    "dropout_rate=[0.1,0.2,0.3] # ,0.4,0.5,0.6,0.7,0.8,0.9\n",
    "init_mode = ['uniform', 'lecun_uniform']# ,'normal','zero','glorot_normal','glorot_uniform','he_normal','he_uniform'\n",
    "optimizer = ['softmax','relu'] #, 'softplus', 'softsign','tanh','sigmoid','hard_sigmoid','linear'\n",
    "param_grid = dict(init_mode=init_mode,optimizer=optimizer,dropout_rate=dropout_rate)\n",
    "fit_params = dict(callbacks=[stopper])\n",
    "grid = GridSearchCV(estimator=model, param_grid=param_grid, n_jobs=-1, cv=3)\n",
    "# 변동 매개변수\n",
    "grid_result = grid.fit(X, Y, **fit_params)\n",
    "# summarize results\n",
    "print(\"Best: %f using %s\" % (grid_result.best_score_, grid_result.best_params_))\n",
    "means = grid_result.cv_results_['mean_test_score']\n",
    "stds = grid_result.cv_results_['std_test_score']\n",
    "params = grid_result.cv_results_['params']\n",
    "for mean, stdev, param in zip(means, stds, params):\n",
    "    print(\"%f (%f) with: %r\" % (mean, stdev, param))"
   ]
  },
  {
   "cell_type": "code",
   "execution_count": null,
   "metadata": {},
   "outputs": [],
   "source": []
  },
  {
   "cell_type": "code",
   "execution_count": null,
   "metadata": {},
   "outputs": [],
   "source": []
  },
  {
   "cell_type": "code",
   "execution_count": 231,
   "metadata": {},
   "outputs": [],
   "source": [
    "# 이번엔 회귀를 해보자\n",
    "from keras.wrappers.scikit_learn import KerasRegressor\n",
    "from sklearn.model_selection import cross_val_score\n",
    "from sklearn.model_selection import KFold\n",
    "from sklearn.preprocessing import StandardScaler\n",
    "from sklearn.pipeline import Pipeline\n",
    "import pandas"
   ]
  },
  {
   "cell_type": "code",
   "execution_count": 232,
   "metadata": {},
   "outputs": [
    {
     "name": "stdout",
     "output_type": "stream",
     "text": [
      "(506, 13)\n"
     ]
    }
   ],
   "source": [
    "dataframe = pandas.read_csv('housing.csv', delim_whitespace=True, header=None)\n",
    "dataset = dataframe.values\n",
    "X= dataset[:,0:13]\n",
    "Y = dataset[:,13] # reshape\n",
    "print(X.shape)"
   ]
  },
  {
   "cell_type": "code",
   "execution_count": 233,
   "metadata": {},
   "outputs": [],
   "source": [
    "def baseline_model():\n",
    "    model = Sequential()\n",
    "    # 506x13, 13x13 => 506x13\n",
    "    model.add(Dense(13, input_dim=13, kernel_initializer='normal', activation='relu' ))\n",
    "    # 506x13, 13x1 =. 506x1\n",
    "    model.add(Dense(1,kernel_initializer='normal'))\n",
    "    model.compile(loss='mean_squared_error', optimizer='adam')\n",
    "    return model "
   ]
  },
  {
   "cell_type": "code",
   "execution_count": 234,
   "metadata": {},
   "outputs": [],
   "source": [
    "seed = 7\n",
    "numpy.random.seed(seed)\n",
    "estimator = KerasRegressor(build_fn = baseline_model, nb_epoch=100, batch_size=5, verbose=0)"
   ]
  },
  {
   "cell_type": "code",
   "execution_count": 235,
   "metadata": {},
   "outputs": [
    {
     "name": "stdout",
     "output_type": "stream",
     "text": [
      "Results: -114.53 (82.67) MSE\n"
     ]
    }
   ],
   "source": [
    "kfold = KFold(n_splits=10, random_state=seed)\n",
    "results = cross_val_score(estimator, X, Y, cv=kfold)\n",
    "print(\"Results: %.2f (%.2f) MSE\" % (results.mean(), results.std()))"
   ]
  },
  {
   "cell_type": "code",
   "execution_count": 236,
   "metadata": {},
   "outputs": [
    {
     "name": "stdout",
     "output_type": "stream",
     "text": [
      "Standardized: -29.22 ( 27.46) MSE\n"
     ]
    }
   ],
   "source": [
    "numpy.random.seed(seed)\n",
    "estimators= []\n",
    "estimators.append(('standardize', StandardScaler()))\n",
    "estimators.append(('mlp', KerasRegressor(build_fn = baseline_model, epochs=50, batch_size=5, verbose=0)))\n",
    "# Pipeline 매개변수가 리스트를 요구\n",
    "pipeline = Pipeline(estimators)\n",
    "kfold =KFold(n_splits=10, random_state=seed)\n",
    "results = cross_val_score(pipeline, X, Y, cv=kfold)\n",
    "print('Standardized: %.2f ( %.2f) MSE' % (results.mean(), results.std()))"
   ]
  },
  {
   "cell_type": "code",
   "execution_count": 237,
   "metadata": {},
   "outputs": [
    {
     "data": {
      "text/plain": [
       "Pipeline(memory=None,\n",
       "         steps=[('standardize',\n",
       "                 StandardScaler(copy=True, with_mean=True, with_std=True)),\n",
       "                ('mlp',\n",
       "                 <keras.wrappers.scikit_learn.KerasRegressor object at 0x00000264F05A3D48>)],\n",
       "         verbose=False)"
      ]
     },
     "execution_count": 237,
     "metadata": {},
     "output_type": "execute_result"
    }
   ],
   "source": [
    "pipeline.fit(X,Y)"
   ]
  },
  {
   "cell_type": "code",
   "execution_count": 238,
   "metadata": {},
   "outputs": [
    {
     "data": {
      "text/plain": [
       "29.821651"
      ]
     },
     "execution_count": 238,
     "metadata": {},
     "output_type": "execute_result"
    }
   ],
   "source": [
    "res = pipeline.predict(X)\n",
    "res[0]"
   ]
  },
  {
   "cell_type": "code",
   "execution_count": 240,
   "metadata": {},
   "outputs": [
    {
     "data": {
      "text/plain": [
       "array([[1.       , 0.9126572],\n",
       "       [0.9126572, 1.       ]])"
      ]
     },
     "execution_count": 240,
     "metadata": {},
     "output_type": "execute_result"
    }
   ],
   "source": [
    "import numpy as np\n",
    "numpy.corrcoef(res, Y)"
   ]
  },
  {
   "cell_type": "code",
   "execution_count": null,
   "metadata": {},
   "outputs": [],
   "source": []
  },
  {
   "cell_type": "code",
   "execution_count": 246,
   "metadata": {},
   "outputs": [],
   "source": [
    "def larger_model():\n",
    "    model = Sequential()\n",
    "    # 506x13, 13x13 => 506x13\n",
    "    model.add(Dense(13, input_dim=13, kernel_initializer='normal', activation='relu' ))\n",
    "    model.add(Dense(6, kernel_initializer='normal'))\n",
    "    # 506x13, 13x1 =. 506x1\n",
    "    model.add(Dense(1,kernel_initializer='normal'))\n",
    "    model.compile(loss='mean_squared_error', optimizer='adam')\n",
    "    return model "
   ]
  },
  {
   "cell_type": "code",
   "execution_count": 247,
   "metadata": {},
   "outputs": [],
   "source": [
    "seed = 7\n",
    "numpy.random.seed(seed)\n",
    "estimator = KerasRegressor(build_fn = larger_model, nb_epoch=100, batch_size=5, verbose=0)"
   ]
  },
  {
   "cell_type": "code",
   "execution_count": 248,
   "metadata": {},
   "outputs": [
    {
     "name": "stdout",
     "output_type": "stream",
     "text": [
      "Results: -141.48 (109.68) MSE\n"
     ]
    }
   ],
   "source": [
    "kfold = KFold(n_splits=10, random_state=seed)\n",
    "results = cross_val_score(estimator, X, Y, cv=kfold)\n",
    "print(\"Results: %.2f (%.2f) MSE\" % (results.mean(), results.std()))"
   ]
  },
  {
   "cell_type": "code",
   "execution_count": 249,
   "metadata": {},
   "outputs": [
    {
     "name": "stdout",
     "output_type": "stream",
     "text": [
      "Standardized: -29.34 ( 27.75) MSE\n"
     ]
    }
   ],
   "source": [
    "numpy.random.seed(seed)\n",
    "estimators= []\n",
    "estimators.append(('standardize', StandardScaler()))\n",
    "estimators.append(('mlp', KerasRegressor(build_fn = baseline_model, epochs=50, batch_size=5, verbose=0)))\n",
    "# Pipeline 매개변수가 리스트를 요구\n",
    "pipeline = Pipeline(estimators)\n",
    "kfold =KFold(n_splits=10, random_state=seed)\n",
    "results = cross_val_score(pipeline, X, Y, cv=kfold)\n",
    "print('Standardized: %.2f ( %.2f) MSE' % (results.mean(), results.std()))"
   ]
  },
  {
   "cell_type": "code",
   "execution_count": 250,
   "metadata": {},
   "outputs": [
    {
     "data": {
      "text/plain": [
       "Pipeline(memory=None,\n",
       "         steps=[('standardize',\n",
       "                 StandardScaler(copy=True, with_mean=True, with_std=True)),\n",
       "                ('mlp',\n",
       "                 <keras.wrappers.scikit_learn.KerasRegressor object at 0x0000026519ADA148>)],\n",
       "         verbose=False)"
      ]
     },
     "execution_count": 250,
     "metadata": {},
     "output_type": "execute_result"
    }
   ],
   "source": [
    "pipeline.fit(X,Y)"
   ]
  },
  {
   "cell_type": "code",
   "execution_count": 251,
   "metadata": {},
   "outputs": [
    {
     "data": {
      "text/plain": [
       "29.818867"
      ]
     },
     "execution_count": 251,
     "metadata": {},
     "output_type": "execute_result"
    }
   ],
   "source": [
    "res = pipeline.predict(X)\n",
    "res[0]"
   ]
  },
  {
   "cell_type": "code",
   "execution_count": 252,
   "metadata": {},
   "outputs": [
    {
     "data": {
      "text/plain": [
       "array([[1.        , 0.91265606],\n",
       "       [0.91265606, 1.        ]])"
      ]
     },
     "execution_count": 252,
     "metadata": {},
     "output_type": "execute_result"
    }
   ],
   "source": [
    "import numpy as np\n",
    "numpy.corrcoef(res, Y)"
   ]
  },
  {
   "cell_type": "code",
   "execution_count": null,
   "metadata": {},
   "outputs": [],
   "source": []
  },
  {
   "cell_type": "code",
   "execution_count": 261,
   "metadata": {},
   "outputs": [],
   "source": [
    "def wider_model():\n",
    "    model = Sequential()\n",
    "    # 506x13, 13x13 => 506x13\n",
    "    model.add(Dense(20, input_dim=13, kernel_initializer='normal', activation='relu' ))\n",
    "    # 506x13, 13x1 =. 506x1\n",
    "    model.add(Dense(1,kernel_initializer='normal'))\n",
    "    model.compile(loss='mean_squared_error', optimizer='adam')\n",
    "    return model "
   ]
  },
  {
   "cell_type": "code",
   "execution_count": 262,
   "metadata": {},
   "outputs": [],
   "source": [
    "seed = 7\n",
    "numpy.random.seed(seed)\n",
    "estimator = KerasRegressor(build_fn = wider_model, nb_epoch=100, batch_size=5, verbose=0)"
   ]
  },
  {
   "cell_type": "code",
   "execution_count": 263,
   "metadata": {},
   "outputs": [
    {
     "name": "stdout",
     "output_type": "stream",
     "text": [
      "Results: -102.00 (72.22) MSE\n"
     ]
    }
   ],
   "source": [
    "kfold = KFold(n_splits=10, random_state=seed)\n",
    "results = cross_val_score(estimator, X, Y, cv=kfold)\n",
    "print(\"Results: %.2f (%.2f) MSE\" % (results.mean(), results.std()))"
   ]
  },
  {
   "cell_type": "code",
   "execution_count": 264,
   "metadata": {},
   "outputs": [
    {
     "name": "stdout",
     "output_type": "stream",
     "text": [
      "Standardized: -29.30 ( 27.54) MSE\n"
     ]
    }
   ],
   "source": [
    "numpy.random.seed(seed)\n",
    "estimators= []\n",
    "estimators.append(('standardize', StandardScaler()))\n",
    "estimators.append(('mlp', KerasRegressor(build_fn = baseline_model, epochs=50, batch_size=5, verbose=0)))\n",
    "# Pipeline 매개변수가 리스트를 요구\n",
    "pipeline = Pipeline(estimators)\n",
    "kfold =KFold(n_splits=10, random_state=seed)\n",
    "results = cross_val_score(pipeline, X, Y, cv=kfold)\n",
    "print('Standardized: %.2f ( %.2f) MSE' % (results.mean(), results.std()))"
   ]
  },
  {
   "cell_type": "code",
   "execution_count": 265,
   "metadata": {},
   "outputs": [
    {
     "data": {
      "text/plain": [
       "Pipeline(memory=None,\n",
       "         steps=[('standardize',\n",
       "                 StandardScaler(copy=True, with_mean=True, with_std=True)),\n",
       "                ('mlp',\n",
       "                 <keras.wrappers.scikit_learn.KerasRegressor object at 0x0000026536EDA388>)],\n",
       "         verbose=False)"
      ]
     },
     "execution_count": 265,
     "metadata": {},
     "output_type": "execute_result"
    }
   ],
   "source": [
    "pipeline.fit(X,Y)"
   ]
  },
  {
   "cell_type": "code",
   "execution_count": 266,
   "metadata": {},
   "outputs": [
    {
     "data": {
      "text/plain": [
       "29.837921"
      ]
     },
     "execution_count": 266,
     "metadata": {},
     "output_type": "execute_result"
    }
   ],
   "source": [
    "res = pipeline.predict(X)\n",
    "res[0]"
   ]
  },
  {
   "cell_type": "code",
   "execution_count": 267,
   "metadata": {},
   "outputs": [
    {
     "data": {
      "text/plain": [
       "array([[1.        , 0.91279034],\n",
       "       [0.91279034, 1.        ]])"
      ]
     },
     "execution_count": 267,
     "metadata": {},
     "output_type": "execute_result"
    }
   ],
   "source": [
    "import numpy as np\n",
    "numpy.corrcoef(res, Y)"
   ]
  },
  {
   "cell_type": "code",
   "execution_count": null,
   "metadata": {},
   "outputs": [],
   "source": []
  },
  {
   "cell_type": "code",
   "execution_count": null,
   "metadata": {},
   "outputs": [],
   "source": [
    "# 숙제()\n",
    "# - iris.csv 데이터를 로딩한 다음\n",
    "# - qnsfb망을 구성하시요\n",
    "# - parameter tuning을 구현하시요(pipeline 사용도 함께)"
   ]
  },
  {
   "cell_type": "code",
   "execution_count": null,
   "metadata": {},
   "outputs": [],
   "source": []
  },
  {
   "cell_type": "code",
   "execution_count": null,
   "metadata": {},
   "outputs": [],
   "source": []
  },
  {
   "cell_type": "code",
   "execution_count": null,
   "metadata": {},
   "outputs": [],
   "source": []
  },
  {
   "cell_type": "code",
   "execution_count": null,
   "metadata": {},
   "outputs": [],
   "source": []
  },
  {
   "cell_type": "code",
   "execution_count": null,
   "metadata": {},
   "outputs": [],
   "source": []
  },
  {
   "cell_type": "code",
   "execution_count": null,
   "metadata": {},
   "outputs": [],
   "source": []
  },
  {
   "cell_type": "code",
   "execution_count": null,
   "metadata": {},
   "outputs": [],
   "source": []
  },
  {
   "cell_type": "code",
   "execution_count": null,
   "metadata": {},
   "outputs": [],
   "source": []
  },
  {
   "cell_type": "code",
   "execution_count": null,
   "metadata": {},
   "outputs": [],
   "source": []
  },
  {
   "cell_type": "code",
   "execution_count": null,
   "metadata": {},
   "outputs": [],
   "source": []
  },
  {
   "cell_type": "code",
   "execution_count": null,
   "metadata": {},
   "outputs": [],
   "source": []
  },
  {
   "cell_type": "code",
   "execution_count": null,
   "metadata": {},
   "outputs": [],
   "source": []
  },
  {
   "cell_type": "code",
   "execution_count": null,
   "metadata": {},
   "outputs": [],
   "source": []
  },
  {
   "cell_type": "code",
   "execution_count": null,
   "metadata": {},
   "outputs": [],
   "source": []
  },
  {
   "cell_type": "code",
   "execution_count": null,
   "metadata": {},
   "outputs": [],
   "source": []
  },
  {
   "cell_type": "code",
   "execution_count": null,
   "metadata": {},
   "outputs": [],
   "source": []
  },
  {
   "cell_type": "code",
   "execution_count": null,
   "metadata": {},
   "outputs": [],
   "source": []
  },
  {
   "cell_type": "code",
   "execution_count": null,
   "metadata": {},
   "outputs": [],
   "source": []
  },
  {
   "cell_type": "code",
   "execution_count": null,
   "metadata": {},
   "outputs": [],
   "source": []
  },
  {
   "cell_type": "code",
   "execution_count": null,
   "metadata": {},
   "outputs": [],
   "source": []
  },
  {
   "cell_type": "code",
   "execution_count": null,
   "metadata": {},
   "outputs": [],
   "source": []
  },
  {
   "cell_type": "code",
   "execution_count": null,
   "metadata": {},
   "outputs": [],
   "source": []
  },
  {
   "cell_type": "code",
   "execution_count": null,
   "metadata": {},
   "outputs": [],
   "source": []
  },
  {
   "cell_type": "code",
   "execution_count": null,
   "metadata": {},
   "outputs": [],
   "source": []
  },
  {
   "cell_type": "code",
   "execution_count": null,
   "metadata": {},
   "outputs": [],
   "source": []
  },
  {
   "cell_type": "code",
   "execution_count": null,
   "metadata": {},
   "outputs": [],
   "source": []
  },
  {
   "cell_type": "code",
   "execution_count": null,
   "metadata": {},
   "outputs": [],
   "source": []
  },
  {
   "cell_type": "code",
   "execution_count": null,
   "metadata": {},
   "outputs": [],
   "source": []
  },
  {
   "cell_type": "code",
   "execution_count": null,
   "metadata": {},
   "outputs": [],
   "source": []
  }
 ],
 "metadata": {
  "kernelspec": {
   "display_name": "Python 3",
   "language": "python",
   "name": "python3"
  },
  "language_info": {
   "codemirror_mode": {
    "name": "ipython",
    "version": 3
   },
   "file_extension": ".py",
   "mimetype": "text/x-python",
   "name": "python",
   "nbconvert_exporter": "python",
   "pygments_lexer": "ipython3",
   "version": "3.7.4"
  }
 },
 "nbformat": 4,
 "nbformat_minor": 2
}
