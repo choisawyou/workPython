{
 "cells": [
  {
   "cell_type": "code",
   "execution_count": 37,
   "metadata": {},
   "outputs": [
    {
     "name": "stdout",
     "output_type": "stream",
     "text": [
      "\n",
      "Item no.: 1 --> Item name = styrofoam\n",
      "Evaluating...\n",
      "Starting Download...\n",
      "\n",
      "\n",
      "Unfortunately all 100 could not be downloaded because some images were not downloadable. 0 is all we got for this search filter!\n",
      "\n",
      "Errors: 0\n",
      "\n",
      "({'styrofoam': []}, 0)\n"
     ]
    }
   ],
   "source": [
    "from google_images_download import google_images_download as gd\n",
    "\n",
    "\n",
    "import ssl\n",
    "ssl._create_default_https_context = ssl._create_unverified_context\n",
    "\n",
    "def imageCrawling(keyword, dir):\n",
    "    reaponse = gd.googleimagesdownload()\n",
    "    \n",
    "    arguments = {'keywords': keyword,\n",
    "                'limit':100,\n",
    "                'print_urls':True,\n",
    "                'no_directory':True,\n",
    "                'output_directory' : dir}\n",
    "    paths = reaponse.download(arguments)\n",
    "    print(paths)\n",
    "    \n",
    "imageCrawling('styrofoam','styrofoam/')"
   ]
  }
 ],
 "metadata": {
  "kernelspec": {
   "display_name": "Python 3",
   "language": "python",
   "name": "python3"
  },
  "language_info": {
   "codemirror_mode": {
    "name": "ipython",
    "version": 3
   },
   "file_extension": ".py",
   "mimetype": "text/x-python",
   "name": "python",
   "nbconvert_exporter": "python",
   "pygments_lexer": "ipython3",
   "version": "3.7.4"
  }
 },
 "nbformat": 4,
 "nbformat_minor": 2
}
