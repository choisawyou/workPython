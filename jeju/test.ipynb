{
 "cells": [
  {
   "cell_type": "code",
   "execution_count": 22,
   "metadata": {},
   "outputs": [
    {
     "name": "stdout",
     "output_type": "stream",
     "text": [
      "\n",
      "{'id': 1, 'car_num': '00가0000', 'name': '김철수', 'enroll': 'O', 'type': '중형', 'parking': 'O', 'in_time': datetime.datetime(2019, 8, 8, 13, 30), 'out_time': None}\n",
      "\n",
      "{'id': 2, 'car_num': '01가0001', 'name': '이상형', 'enroll': 'O', 'type': '중형', 'parking': 'O', 'in_time': datetime.datetime(2019, 8, 8, 13, 30), 'out_time': None}\n",
      "\n",
      "{'id': 3, 'car_num': '03가0003', 'name': '김반차', 'enroll': 'X', 'type': '준중형', 'parking': 'O', 'in_time': datetime.datetime(2019, 8, 4, 15, 20, 45), 'out_time': None}\n",
      "\n",
      "{'id': 4, 'car_num': '04가0004', 'name': '내차키', 'enroll': 'X', 'type': '대형', 'parking': 'X', 'in_time': datetime.datetime(2018, 6, 6, 7, 45, 30), 'out_time': datetime.datetime(2018, 6, 6, 12, 50, 34)}\n",
      "\n",
      "{'id': 5, 'car_num': '00가1004', 'name': '김천사', 'enroll': 'O', 'type': '소형', 'parking': 'O', 'in_time': datetime.datetime(1004, 10, 4, 0, 10, 4), 'out_time': None}\n",
      "\n",
      "{'id': 6, 'car_num': '02가0002', 'name': '내월차', 'enroll': 'X', 'type': '소형', 'parking': 'X', 'in_time': datetime.datetime(2012, 2, 20, 2, 2, 20), 'out_time': datetime.datetime(2012, 3, 30, 3, 3, 3)}\n",
      "\n",
      "{'id': 7, 'car_num': '81오6247', 'name': '이현명', 'enroll': 'O', 'type': '대형', 'parking': 'X', 'in_time': datetime.datetime(2015, 11, 21, 1, 5), 'out_time': datetime.datetime(2020, 1, 4, 17, 9, 18)}\n",
      "\n",
      "{'id': 10, 'car_num': '18야1818', 'name': '흠하하', 'enroll': 'X', 'type': '소형', 'parking': None, 'in_time': datetime.datetime(2818, 8, 18, 8, 28, 18), 'out_time': datetime.datetime(2828, 8, 18, 8, 28, 18)}\n"
     ]
    }
   ],
   "source": [
    "import pymysql\n",
    "\n",
    "conn = pymysql.connect(host ='localhost', user='root', password='ehdgus2',\n",
    "                      db='parking', charset='utf8', cursorclass=pymysql.cursors.DictCursor)\n",
    "\n",
    "curs = conn.cursor()\n",
    "\n",
    "sql = 'select * from car'\n",
    "curs.execute(sql)\n",
    "\n",
    "row = curs.fetchall()\n",
    "\n",
    "for r in row:\n",
    "    print()\n",
    "    print(r)\n",
    "\n",
    "conn.close()"
   ]
  },
  {
   "cell_type": "code",
   "execution_count": 41,
   "metadata": {},
   "outputs": [],
   "source": [
    "conn = pymysql.connect(host ='localhost', user='root', password='ehdgus2',\n",
    "                      db='parking', charset='utf8', cursorclass=pymysql.cursors.DictCursor)\n",
    "\n",
    "curs = conn.cursor()"
   ]
  },
  {
   "cell_type": "code",
   "execution_count": 42,
   "metadata": {},
   "outputs": [
    {
     "name": "stdout",
     "output_type": "stream",
     "text": [
      "{'id': 1, 'car_num': '00가0000', 'name': '김철수', 'enroll': 'O', 'type': '중형', 'parking': 'O', 'in_time': datetime.datetime(2019, 8, 8, 13, 30), 'out_time': None}\n",
      "{'id': 2, 'car_num': '01가0001', 'name': '이상형', 'enroll': 'O', 'type': '중형', 'parking': 'O', 'in_time': datetime.datetime(2019, 8, 8, 13, 30), 'out_time': None}\n",
      "{'id': 3, 'car_num': '03가0003', 'name': '김반차', 'enroll': 'X', 'type': '준중형', 'parking': 'O', 'in_time': datetime.datetime(2019, 8, 4, 15, 20, 45), 'out_time': None}\n",
      "{'id': 4, 'car_num': '04가0004', 'name': '내차키', 'enroll': 'X', 'type': '대형', 'parking': 'X', 'in_time': datetime.datetime(2018, 6, 6, 7, 45, 30), 'out_time': datetime.datetime(2018, 6, 6, 12, 50, 34)}\n",
      "{'id': 5, 'car_num': '00가1004', 'name': '김천사', 'enroll': 'O', 'type': '소형', 'parking': 'O', 'in_time': datetime.datetime(1004, 10, 4, 0, 10, 4), 'out_time': None}\n",
      "{'id': 6, 'car_num': '02가0002', 'name': '내월차', 'enroll': 'X', 'type': '소형', 'parking': 'X', 'in_time': datetime.datetime(2012, 2, 20, 2, 2, 20), 'out_time': datetime.datetime(2012, 3, 30, 3, 3, 3)}\n",
      "{'id': 7, 'car_num': '81오6247', 'name': '이현명', 'enroll': 'O', 'type': '대형', 'parking': 'X', 'in_time': datetime.datetime(2015, 11, 21, 1, 5), 'out_time': datetime.datetime(2020, 1, 4, 17, 9, 18)}\n",
      "{'id': 10, 'car_num': '18야1818', 'name': '흠하하', 'enroll': 'X', 'type': '소형', 'parking': None, 'in_time': datetime.datetime(2818, 8, 18, 8, 28, 18), 'out_time': datetime.datetime(2828, 8, 18, 8, 28, 18)}\n"
     ]
    }
   ],
   "source": [
    "curs.callproc('car_select')\n",
    "\n",
    "for result in curs:\n",
    "    print(result)\n",
    "# curs.execute(sql)\n",
    "# row = curs.fetchall()\n",
    "# for i in row:\n",
    "#     print(i)\n",
    "\n",
    "\n",
    "\n",
    "\n"
   ]
  },
  {
   "cell_type": "code",
   "execution_count": 43,
   "metadata": {},
   "outputs": [],
   "source": [
    "curs.close()\n",
    "conn.close()"
   ]
  },
  {
   "cell_type": "code",
   "execution_count": null,
   "metadata": {},
   "outputs": [],
   "source": []
  }
 ],
 "metadata": {
  "kernelspec": {
   "display_name": "Python 3",
   "language": "python",
   "name": "python3"
  },
  "language_info": {
   "codemirror_mode": {
    "name": "ipython",
    "version": 3
   },
   "file_extension": ".py",
   "mimetype": "text/x-python",
   "name": "python",
   "nbconvert_exporter": "python",
   "pygments_lexer": "ipython3",
   "version": "3.7.4"
  }
 },
 "nbformat": 4,
 "nbformat_minor": 2
}
