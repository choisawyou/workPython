{
 "cells": [
  {
   "cell_type": "markdown",
   "metadata": {},
   "source": [
    "# 숫제 : 서울소재 10개 대학의 좌표를 출력해보시오"
   ]
  },
  {
   "cell_type": "code",
   "execution_count": 1,
   "metadata": {},
   "outputs": [
    {
     "data": {
      "text/html": [
       "<div style=\"width:100%;\"><div style=\"position:relative;width:100%;height:0;padding-bottom:60%;\"><iframe src=\"data:text/html;charset=utf-8;base64,PCFET0NUWVBFIGh0bWw+CjxoZWFkPiAgICAKICAgIDxtZXRhIGh0dHAtZXF1aXY9ImNvbnRlbnQtdHlwZSIgY29udGVudD0idGV4dC9odG1sOyBjaGFyc2V0PVVURi04IiAvPgogICAgCiAgICAgICAgPHNjcmlwdD4KICAgICAgICAgICAgTF9OT19UT1VDSCA9IGZhbHNlOwogICAgICAgICAgICBMX0RJU0FCTEVfM0QgPSBmYWxzZTsKICAgICAgICA8L3NjcmlwdD4KICAgIAogICAgPHNjcmlwdCBzcmM9Imh0dHBzOi8vY2RuLmpzZGVsaXZyLm5ldC9ucG0vbGVhZmxldEAxLjUuMS9kaXN0L2xlYWZsZXQuanMiPjwvc2NyaXB0PgogICAgPHNjcmlwdCBzcmM9Imh0dHBzOi8vY29kZS5qcXVlcnkuY29tL2pxdWVyeS0xLjEyLjQubWluLmpzIj48L3NjcmlwdD4KICAgIDxzY3JpcHQgc3JjPSJodHRwczovL21heGNkbi5ib290c3RyYXBjZG4uY29tL2Jvb3RzdHJhcC8zLjIuMC9qcy9ib290c3RyYXAubWluLmpzIj48L3NjcmlwdD4KICAgIDxzY3JpcHQgc3JjPSJodHRwczovL2NkbmpzLmNsb3VkZmxhcmUuY29tL2FqYXgvbGlicy9MZWFmbGV0LmF3ZXNvbWUtbWFya2Vycy8yLjAuMi9sZWFmbGV0LmF3ZXNvbWUtbWFya2Vycy5qcyI+PC9zY3JpcHQ+CiAgICA8bGluayByZWw9InN0eWxlc2hlZXQiIGhyZWY9Imh0dHBzOi8vY2RuLmpzZGVsaXZyLm5ldC9ucG0vbGVhZmxldEAxLjUuMS9kaXN0L2xlYWZsZXQuY3NzIi8+CiAgICA8bGluayByZWw9InN0eWxlc2hlZXQiIGhyZWY9Imh0dHBzOi8vbWF4Y2RuLmJvb3RzdHJhcGNkbi5jb20vYm9vdHN0cmFwLzMuMi4wL2Nzcy9ib290c3RyYXAubWluLmNzcyIvPgogICAgPGxpbmsgcmVsPSJzdHlsZXNoZWV0IiBocmVmPSJodHRwczovL21heGNkbi5ib290c3RyYXBjZG4uY29tL2Jvb3RzdHJhcC8zLjIuMC9jc3MvYm9vdHN0cmFwLXRoZW1lLm1pbi5jc3MiLz4KICAgIDxsaW5rIHJlbD0ic3R5bGVzaGVldCIgaHJlZj0iaHR0cHM6Ly9tYXhjZG4uYm9vdHN0cmFwY2RuLmNvbS9mb250LWF3ZXNvbWUvNC42LjMvY3NzL2ZvbnQtYXdlc29tZS5taW4uY3NzIi8+CiAgICA8bGluayByZWw9InN0eWxlc2hlZXQiIGhyZWY9Imh0dHBzOi8vY2RuanMuY2xvdWRmbGFyZS5jb20vYWpheC9saWJzL0xlYWZsZXQuYXdlc29tZS1tYXJrZXJzLzIuMC4yL2xlYWZsZXQuYXdlc29tZS1tYXJrZXJzLmNzcyIvPgogICAgPGxpbmsgcmVsPSJzdHlsZXNoZWV0IiBocmVmPSJodHRwczovL3Jhd2Nkbi5naXRoYWNrLmNvbS9weXRob24tdmlzdWFsaXphdGlvbi9mb2xpdW0vbWFzdGVyL2ZvbGl1bS90ZW1wbGF0ZXMvbGVhZmxldC5hd2Vzb21lLnJvdGF0ZS5jc3MiLz4KICAgIDxzdHlsZT5odG1sLCBib2R5IHt3aWR0aDogMTAwJTtoZWlnaHQ6IDEwMCU7bWFyZ2luOiAwO3BhZGRpbmc6IDA7fTwvc3R5bGU+CiAgICA8c3R5bGU+I21hcCB7cG9zaXRpb246YWJzb2x1dGU7dG9wOjA7Ym90dG9tOjA7cmlnaHQ6MDtsZWZ0OjA7fTwvc3R5bGU+CiAgICAKICAgICAgICAgICAgPG1ldGEgbmFtZT0idmlld3BvcnQiIGNvbnRlbnQ9IndpZHRoPWRldmljZS13aWR0aCwKICAgICAgICAgICAgICAgIGluaXRpYWwtc2NhbGU9MS4wLCBtYXhpbXVtLXNjYWxlPTEuMCwgdXNlci1zY2FsYWJsZT1ubyIgLz4KICAgICAgICAgICAgPHN0eWxlPgogICAgICAgICAgICAgICAgI21hcF85OGMyNTdhZjIzMjY0ZDY0YWI0ZjlmMGZlM2UwMmRlYiB7CiAgICAgICAgICAgICAgICAgICAgcG9zaXRpb246IHJlbGF0aXZlOwogICAgICAgICAgICAgICAgICAgIHdpZHRoOiAxMDAuMCU7CiAgICAgICAgICAgICAgICAgICAgaGVpZ2h0OiAxMDAuMCU7CiAgICAgICAgICAgICAgICAgICAgbGVmdDogMC4wJTsKICAgICAgICAgICAgICAgICAgICB0b3A6IDAuMCU7CiAgICAgICAgICAgICAgICB9CiAgICAgICAgICAgIDwvc3R5bGU+CiAgICAgICAgCjwvaGVhZD4KPGJvZHk+ICAgIAogICAgCiAgICAgICAgICAgIDxkaXYgY2xhc3M9ImZvbGl1bS1tYXAiIGlkPSJtYXBfOThjMjU3YWYyMzI2NGQ2NGFiNGY5ZjBmZTNlMDJkZWIiID48L2Rpdj4KICAgICAgICAKPC9ib2R5Pgo8c2NyaXB0PiAgICAKICAgIAogICAgICAgICAgICB2YXIgbWFwXzk4YzI1N2FmMjMyNjRkNjRhYjRmOWYwZmUzZTAyZGViID0gTC5tYXAoCiAgICAgICAgICAgICAgICAibWFwXzk4YzI1N2FmMjMyNjRkNjRhYjRmOWYwZmUzZTAyZGViIiwKICAgICAgICAgICAgICAgIHsKICAgICAgICAgICAgICAgICAgICBjZW50ZXI6IFszNy41NjU3MTEsIDEyNi45NzgwOV0sCiAgICAgICAgICAgICAgICAgICAgY3JzOiBMLkNSUy5FUFNHMzg1NywKICAgICAgICAgICAgICAgICAgICB6b29tOiAxMSwKICAgICAgICAgICAgICAgICAgICB6b29tQ29udHJvbDogdHJ1ZSwKICAgICAgICAgICAgICAgICAgICBwcmVmZXJDYW52YXM6IGZhbHNlLAogICAgICAgICAgICAgICAgfQogICAgICAgICAgICApOwoKICAgICAgICAgICAgCgogICAgICAgIAogICAgCiAgICAgICAgICAgIHZhciB0aWxlX2xheWVyXzEyMzI2MDY4YjFmOTRhZDA5YzliMWRjNmU0OTE1ZDAyID0gTC50aWxlTGF5ZXIoCiAgICAgICAgICAgICAgICAiaHR0cHM6Ly97c30udGlsZS5vcGVuc3RyZWV0bWFwLm9yZy97en0ve3h9L3t5fS5wbmciLAogICAgICAgICAgICAgICAgeyJhdHRyaWJ1dGlvbiI6ICJEYXRhIGJ5IFx1MDAyNmNvcHk7IFx1MDAzY2EgaHJlZj1cImh0dHA6Ly9vcGVuc3RyZWV0bWFwLm9yZ1wiXHUwMDNlT3BlblN0cmVldE1hcFx1MDAzYy9hXHUwMDNlLCB1bmRlciBcdTAwM2NhIGhyZWY9XCJodHRwOi8vd3d3Lm9wZW5zdHJlZXRtYXAub3JnL2NvcHlyaWdodFwiXHUwMDNlT0RiTFx1MDAzYy9hXHUwMDNlLiIsICJkZXRlY3RSZXRpbmEiOiBmYWxzZSwgIm1heE5hdGl2ZVpvb20iOiAxOCwgIm1heFpvb20iOiAxOCwgIm1pblpvb20iOiAwLCAibm9XcmFwIjogZmFsc2UsICJvcGFjaXR5IjogMSwgInN1YmRvbWFpbnMiOiAiYWJjIiwgInRtcyI6IGZhbHNlfQogICAgICAgICAgICApLmFkZFRvKG1hcF85OGMyNTdhZjIzMjY0ZDY0YWI0ZjlmMGZlM2UwMmRlYik7CiAgICAgICAgCiAgICAKICAgICAgICAgICAgdmFyIG1hcmtlcl81YjhiODdiOGRmMGY0ZjAxODA3MjA1ZDQ1MGE0MzZjNiA9IEwubWFya2VyKAogICAgICAgICAgICAgICAgWzM3LjQ2MDAzMSwgMTI2Ljk1MTkxMV0sCiAgICAgICAgICAgICAgICB7fQogICAgICAgICAgICApLmFkZFRvKG1hcF85OGMyNTdhZjIzMjY0ZDY0YWI0ZjlmMGZlM2UwMmRlYik7CiAgICAgICAgCiAgICAKICAgICAgICAgICAgdmFyIGljb25fZWUxNTU5NjI0N2FkNDM4YmFmNDY3MGY0ZjAxMDg4ZTUgPSBMLkF3ZXNvbWVNYXJrZXJzLmljb24oCiAgICAgICAgICAgICAgICB7ImV4dHJhQ2xhc3NlcyI6ICJmYS1yb3RhdGUtMCIsICJpY29uIjogImNsb3VkIiwgImljb25Db2xvciI6ICJ3aGl0ZSIsICJtYXJrZXJDb2xvciI6ICJibHVlIiwgInByZWZpeCI6ICJnbHlwaGljb24ifQogICAgICAgICAgICApOwogICAgICAgICAgICBtYXJrZXJfNWI4Yjg3YjhkZjBmNGYwMTgwNzIwNWQ0NTBhNDM2YzYuc2V0SWNvbihpY29uX2VlMTU1OTYyNDdhZDQzOGJhZjQ2NzBmNGYwMTA4OGU1KTsKICAgICAgICAKICAgIAogICAgICAgIHZhciBwb3B1cF8yZWJkNGNjY2U4Zjc0MmEwYWRhYTYxMTExMDE0NjI3MSA9IEwucG9wdXAoeyJtYXhXaWR0aCI6ICIxMDAlIn0pOwoKICAgICAgICAKICAgICAgICAgICAgdmFyIGh0bWxfM2MwYzU4ZDA0NmY0NDFlNzhhODg4MDM2NGUyN2ExM2UgPSAkKGA8ZGl2IGlkPSJodG1sXzNjMGM1OGQwNDZmNDQxZTc4YTg4ODAzNjRlMjdhMTNlIiBzdHlsZT0id2lkdGg6IDEwMC4wJTsgaGVpZ2h0OiAxMDAuMCU7Ij7shJzsmrjrjIA8L2Rpdj5gKVswXTsKICAgICAgICAgICAgcG9wdXBfMmViZDRjY2NlOGY3NDJhMGFkYWE2MTExMTAxNDYyNzEuc2V0Q29udGVudChodG1sXzNjMGM1OGQwNDZmNDQxZTc4YTg4ODAzNjRlMjdhMTNlKTsKICAgICAgICAKCiAgICAgICAgbWFya2VyXzViOGI4N2I4ZGYwZjRmMDE4MDcyMDVkNDUwYTQzNmM2LmJpbmRQb3B1cChwb3B1cF8yZWJkNGNjY2U4Zjc0MmEwYWRhYTYxMTExMDE0NjI3MSkKICAgICAgICA7CgogICAgICAgIAogICAgCiAgICAKICAgICAgICAgICAgdmFyIG1hcmtlcl82MzFkYzJjNjExYjU0YWU2ODdlMjJmNzY1NjFkNjU5NCA9IEwubWFya2VyKAogICAgICAgICAgICAgICAgWzM3LjU2NjQ2MSwgMTI3LjA0NDg1XSwKICAgICAgICAgICAgICAgIHt9CiAgICAgICAgICAgICkuYWRkVG8obWFwXzk4YzI1N2FmMjMyNjRkNjRhYjRmOWYwZmUzZTAyZGViKTsKICAgICAgICAKICAgIAogICAgICAgICAgICB2YXIgaWNvbl8zNzhjNjkyOTk1MTU0NmVlOTY4OTk1YWEwMTJkYzkzMyA9IEwuQXdlc29tZU1hcmtlcnMuaWNvbigKICAgICAgICAgICAgICAgIHsiZXh0cmFDbGFzc2VzIjogImZhLXJvdGF0ZS0wIiwgImljb24iOiAiY2xvdWQiLCAiaWNvbkNvbG9yIjogIndoaXRlIiwgIm1hcmtlckNvbG9yIjogImJsdWUiLCAicHJlZml4IjogImdseXBoaWNvbiJ9CiAgICAgICAgICAgICk7CiAgICAgICAgICAgIG1hcmtlcl82MzFkYzJjNjExYjU0YWU2ODdlMjJmNzY1NjFkNjU5NC5zZXRJY29uKGljb25fMzc4YzY5Mjk5NTE1NDZlZTk2ODk5NWFhMDEyZGM5MzMpOwogICAgICAgIAogICAgCiAgICAgICAgdmFyIHBvcHVwX2JjNGZiZWZkNWVhNzQzMWFhNWVlYmQyMjU3Mzg5ZGE2ID0gTC5wb3B1cCh7Im1heFdpZHRoIjogIjEwMCUifSk7CgogICAgICAgIAogICAgICAgICAgICB2YXIgaHRtbF82YjJjMWE1OTZkZjE0MWUxOTQ5N2ZmYTU1OWUyNDhlYyA9ICQoYDxkaXYgaWQ9Imh0bWxfNmIyYzFhNTk2ZGYxNDFlMTk0OTdmZmE1NTllMjQ4ZWMiIHN0eWxlPSJ3aWR0aDogMTAwLjAlOyBoZWlnaHQ6IDEwMC4wJTsiPu2VnOyWkeuMgDwvZGl2PmApWzBdOwogICAgICAgICAgICBwb3B1cF9iYzRmYmVmZDVlYTc0MzFhYTVlZWJkMjI1NzM4OWRhNi5zZXRDb250ZW50KGh0bWxfNmIyYzFhNTk2ZGYxNDFlMTk0OTdmZmE1NTllMjQ4ZWMpOwogICAgICAgIAoKICAgICAgICBtYXJrZXJfNjMxZGMyYzYxMWI1NGFlNjg3ZTIyZjc2NTYxZDY1OTQuYmluZFBvcHVwKHBvcHVwX2JjNGZiZWZkNWVhNzQzMWFhNWVlYmQyMjU3Mzg5ZGE2KQogICAgICAgIDsKCiAgICAgICAgCiAgICAKICAgIAogICAgICAgICAgICB2YXIgbWFya2VyXzcwYzM4OThkNDU4MzQ0YTI5NjI0N2RmYmVjMTYxNThhID0gTC5tYXJrZXIoCiAgICAgICAgICAgICAgICBbMzcuNTg4NDU3LCAxMjYuOTkzNTk1XSwKICAgICAgICAgICAgICAgIHt9CiAgICAgICAgICAgICkuYWRkVG8obWFwXzk4YzI1N2FmMjMyNjRkNjRhYjRmOWYwZmUzZTAyZGViKTsKICAgICAgICAKICAgIAogICAgICAgICAgICB2YXIgaWNvbl9kNWM3ZGM4MTdkNWE0MGFiOTEzM2ZhZWQ3YmQ1MDlhNyA9IEwuQXdlc29tZU1hcmtlcnMuaWNvbigKICAgICAgICAgICAgICAgIHsiZXh0cmFDbGFzc2VzIjogImZhLXJvdGF0ZS0wIiwgImljb24iOiAiY2xvdWQiLCAiaWNvbkNvbG9yIjogIndoaXRlIiwgIm1hcmtlckNvbG9yIjogImJsdWUiLCAicHJlZml4IjogImdseXBoaWNvbiJ9CiAgICAgICAgICAgICk7CiAgICAgICAgICAgIG1hcmtlcl83MGMzODk4ZDQ1ODM0NGEyOTYyNDdkZmJlYzE2MTU4YS5zZXRJY29uKGljb25fZDVjN2RjODE3ZDVhNDBhYjkxMzNmYWVkN2JkNTA5YTcpOwogICAgICAgIAogICAgCiAgICAgICAgdmFyIHBvcHVwXzA3NjVkZTljY2ExMzQ1NzM4NTVmYTkxZGZhNDdjYWU1ID0gTC5wb3B1cCh7Im1heFdpZHRoIjogIjEwMCUifSk7CgogICAgICAgIAogICAgICAgICAgICB2YXIgaHRtbF9mMzY2ZmQxOWI3ZTE0MzkwOTc5ZGYwOTNmYjEzNTEyZSA9ICQoYDxkaXYgaWQ9Imh0bWxfZjM2NmZkMTliN2UxNDM5MDk3OWRmMDkzZmIxMzUxMmUiIHN0eWxlPSJ3aWR0aDogMTAwLjAlOyBoZWlnaHQ6IDEwMC4wJTsiPuyEseq3oOq0gOuMgDwvZGl2PmApWzBdOwogICAgICAgICAgICBwb3B1cF8wNzY1ZGU5Y2NhMTM0NTczODU1ZmE5MWRmYTQ3Y2FlNS5zZXRDb250ZW50KGh0bWxfZjM2NmZkMTliN2UxNDM5MDk3OWRmMDkzZmIxMzUxMmUpOwogICAgICAgIAoKICAgICAgICBtYXJrZXJfNzBjMzg5OGQ0NTgzNDRhMjk2MjQ3ZGZiZWMxNjE1OGEuYmluZFBvcHVwKHBvcHVwXzA3NjVkZTljY2ExMzQ1NzM4NTVmYTkxZGZhNDdjYWU1KQogICAgICAgIDsKCiAgICAgICAgCiAgICAKICAgIAogICAgICAgICAgICB2YXIgbWFya2VyXzljYWM5ODg4ZTkwYTQxOWY5YmVkMzQ3YjM5YjA4YWQwID0gTC5tYXJrZXIoCiAgICAgICAgICAgICAgICBbMzcuNTUxMjI1LCAxMjYuOTQxMDEzXSwKICAgICAgICAgICAgICAgIHt9CiAgICAgICAgICAgICkuYWRkVG8obWFwXzk4YzI1N2FmMjMyNjRkNjRhYjRmOWYwZmUzZTAyZGViKTsKICAgICAgICAKICAgIAogICAgICAgICAgICB2YXIgaWNvbl83Yzc0MzBjOWYwNTk0MzJhYWM5YjU0ZTU2Mjc0ZTBkMCA9IEwuQXdlc29tZU1hcmtlcnMuaWNvbigKICAgICAgICAgICAgICAgIHsiZXh0cmFDbGFzc2VzIjogImZhLXJvdGF0ZS0wIiwgImljb24iOiAiY2xvdWQiLCAiaWNvbkNvbG9yIjogIndoaXRlIiwgIm1hcmtlckNvbG9yIjogImJsdWUiLCAicHJlZml4IjogImdseXBoaWNvbiJ9CiAgICAgICAgICAgICk7CiAgICAgICAgICAgIG1hcmtlcl85Y2FjOTg4OGU5MGE0MTlmOWJlZDM0N2IzOWIwOGFkMC5zZXRJY29uKGljb25fN2M3NDMwYzlmMDU5NDMyYWFjOWI1NGU1NjI3NGUwZDApOwogICAgICAgIAogICAgCiAgICAgICAgdmFyIHBvcHVwXzMzMjI1ODcwMDU4YzQwODlhNDdhYjk3NTJkMWYzYWJjID0gTC5wb3B1cCh7Im1heFdpZHRoIjogIjEwMCUifSk7CgogICAgICAgIAogICAgICAgICAgICB2YXIgaHRtbF8zNWM3ZWNkODg4OWY0YjJiOWEyYjhmMzIzMGFhOGEyMSA9ICQoYDxkaXYgaWQ9Imh0bWxfMzVjN2VjZDg4ODlmNGIyYjlhMmI4ZjMyMzBhYThhMjEiIHN0eWxlPSJ3aWR0aDogMTAwLjAlOyBoZWlnaHQ6IDEwMC4wJTsiPuyEnOqwleuMgDwvZGl2PmApWzBdOwogICAgICAgICAgICBwb3B1cF8zMzIyNTg3MDA1OGM0MDg5YTQ3YWI5NzUyZDFmM2FiYy5zZXRDb250ZW50KGh0bWxfMzVjN2VjZDg4ODlmNGIyYjlhMmI4ZjMyMzBhYThhMjEpOwogICAgICAgIAoKICAgICAgICBtYXJrZXJfOWNhYzk4ODhlOTBhNDE5ZjliZWQzNDdiMzliMDhhZDAuYmluZFBvcHVwKHBvcHVwXzMzMjI1ODcwMDU4YzQwODlhNDdhYjk3NTJkMWYzYWJjKQogICAgICAgIDsKCiAgICAgICAgCiAgICAKICAgIAogICAgICAgICAgICB2YXIgbWFya2VyXzVmMDYyODBmOWU0MTQ1MTY4ZmIxMjM4YWQ1OWNlODM0ID0gTC5tYXJrZXIoCiAgICAgICAgICAgICAgICBbMzcuNTY1OTk3LCAxMjYuOTM4MTc1XSwKICAgICAgICAgICAgICAgIHt9CiAgICAgICAgICAgICkuYWRkVG8obWFwXzk4YzI1N2FmMjMyNjRkNjRhYjRmOWYwZmUzZTAyZGViKTsKICAgICAgICAKICAgIAogICAgICAgICAgICB2YXIgaWNvbl8wMzM2OGVlMzIxN2U0NWM4OWM3MDZkMDNhNTdiNjNlZiA9IEwuQXdlc29tZU1hcmtlcnMuaWNvbigKICAgICAgICAgICAgICAgIHsiZXh0cmFDbGFzc2VzIjogImZhLXJvdGF0ZS0wIiwgImljb24iOiAiY2xvdWQiLCAiaWNvbkNvbG9yIjogIndoaXRlIiwgIm1hcmtlckNvbG9yIjogImJsdWUiLCAicHJlZml4IjogImdseXBoaWNvbiJ9CiAgICAgICAgICAgICk7CiAgICAgICAgICAgIG1hcmtlcl81ZjA2MjgwZjllNDE0NTE2OGZiMTIzOGFkNTljZTgzNC5zZXRJY29uKGljb25fMDMzNjhlZTMyMTdlNDVjODljNzA2ZDAzYTU3YjYzZWYpOwogICAgICAgIAogICAgCiAgICAgICAgdmFyIHBvcHVwX2U0NWI0ODViYTg4NzQ3NTNhNjI5ZTNhZGU2ODZkZDdlID0gTC5wb3B1cCh7Im1heFdpZHRoIjogIjEwMCUifSk7CgogICAgICAgIAogICAgICAgICAgICB2YXIgaHRtbF81ZjY5MTU2ZjExZmY0OTVhYWZkM2FmZjRkYjcwZTNmNyA9ICQoYDxkaXYgaWQ9Imh0bWxfNWY2OTE1NmYxMWZmNDk1YWFmZDNhZmY0ZGI3MGUzZjciIHN0eWxlPSJ3aWR0aDogMTAwLjAlOyBoZWlnaHQ6IDEwMC4wJTsiPuyXsOyEuOuMgDwvZGl2PmApWzBdOwogICAgICAgICAgICBwb3B1cF9lNDViNDg1YmE4ODc0NzUzYTYyOWUzYWRlNjg2ZGQ3ZS5zZXRDb250ZW50KGh0bWxfNWY2OTE1NmYxMWZmNDk1YWFmZDNhZmY0ZGI3MGUzZjcpOwogICAgICAgIAoKICAgICAgICBtYXJrZXJfNWYwNjI4MGY5ZTQxNDUxNjhmYjEyMzhhZDU5Y2U4MzQuYmluZFBvcHVwKHBvcHVwX2U0NWI0ODViYTg4NzQ3NTNhNjI5ZTNhZGU2ODZkZDdlKQogICAgICAgIDsKCiAgICAgICAgCiAgICAKICAgIAogICAgICAgICAgICB2YXIgbWFya2VyX2QyNWYxMzU2M2I5NzQzMWE5NTE1ODk1ZWUzOWY5Y2Q2ID0gTC5tYXJrZXIoCiAgICAgICAgICAgICAgICBbMzcuNTkxMDQ2LCAxMjcuMDI3ODg1XSwKICAgICAgICAgICAgICAgIHt9CiAgICAgICAgICAgICkuYWRkVG8obWFwXzk4YzI1N2FmMjMyNjRkNjRhYjRmOWYwZmUzZTAyZGViKTsKICAgICAgICAKICAgIAogICAgICAgICAgICB2YXIgaWNvbl9iY2JiZTQzYzhkYzI0ZDhmOTFlMjI2ZDNjN2ExOWYyZCA9IEwuQXdlc29tZU1hcmtlcnMuaWNvbigKICAgICAgICAgICAgICAgIHsiZXh0cmFDbGFzc2VzIjogImZhLXJvdGF0ZS0wIiwgImljb24iOiAiY2xvdWQiLCAiaWNvbkNvbG9yIjogIndoaXRlIiwgIm1hcmtlckNvbG9yIjogImJsdWUiLCAicHJlZml4IjogImdseXBoaWNvbiJ9CiAgICAgICAgICAgICk7CiAgICAgICAgICAgIG1hcmtlcl9kMjVmMTM1NjNiOTc0MzFhOTUxNTg5NWVlMzlmOWNkNi5zZXRJY29uKGljb25fYmNiYmU0M2M4ZGMyNGQ4ZjkxZTIyNmQzYzdhMTlmMmQpOwogICAgICAgIAogICAgCiAgICAgICAgdmFyIHBvcHVwXzZmOGEwMWJiOTkyNDQxZWM4YjViMjRhMWE0ZjJjOWViID0gTC5wb3B1cCh7Im1heFdpZHRoIjogIjEwMCUifSk7CgogICAgICAgIAogICAgICAgICAgICB2YXIgaHRtbF9iYjVhMzVkZmMzOTQ0MDc3OTg2YjhkYzY3YjE4OTVkOCA9ICQoYDxkaXYgaWQ9Imh0bWxfYmI1YTM1ZGZjMzk0NDA3Nzk4NmI4ZGM2N2IxODk1ZDgiIHN0eWxlPSJ3aWR0aDogMTAwLjAlOyBoZWlnaHQ6IDEwMC4wJTsiPuqzoOugpOuMgDwvZGl2PmApWzBdOwogICAgICAgICAgICBwb3B1cF82ZjhhMDFiYjk5MjQ0MWVjOGI1YjI0YTFhNGYyYzllYi5zZXRDb250ZW50KGh0bWxfYmI1YTM1ZGZjMzk0NDA3Nzk4NmI4ZGM2N2IxODk1ZDgpOwogICAgICAgIAoKICAgICAgICBtYXJrZXJfZDI1ZjEzNTYzYjk3NDMxYTk1MTU4OTVlZTM5ZjljZDYuYmluZFBvcHVwKHBvcHVwXzZmOGEwMWJiOTkyNDQxZWM4YjViMjRhMWE0ZjJjOWViKQogICAgICAgIDsKCiAgICAgICAgCiAgICAKICAgIAogICAgICAgICAgICB2YXIgbWFya2VyXzNkOTIwZWUwZTYwZTQyNGFhOGJjYWM0MTZhYmU4ZjBjID0gTC5tYXJrZXIoCiAgICAgICAgICAgICAgICBbMzcuNTA1MzE4LCAxMjYuOTU3MTEyXSwKICAgICAgICAgICAgICAgIHt9CiAgICAgICAgICAgICkuYWRkVG8obWFwXzk4YzI1N2FmMjMyNjRkNjRhYjRmOWYwZmUzZTAyZGViKTsKICAgICAgICAKICAgIAogICAgICAgICAgICB2YXIgaWNvbl9hZDA3ZmJhMjFmOGE0ZWQ0YTU2ZDk4MGM3ZDYyMDA3OSA9IEwuQXdlc29tZU1hcmtlcnMuaWNvbigKICAgICAgICAgICAgICAgIHsiZXh0cmFDbGFzc2VzIjogImZhLXJvdGF0ZS0wIiwgImljb24iOiAiY2xvdWQiLCAiaWNvbkNvbG9yIjogIndoaXRlIiwgIm1hcmtlckNvbG9yIjogImJsdWUiLCAicHJlZml4IjogImdseXBoaWNvbiJ9CiAgICAgICAgICAgICk7CiAgICAgICAgICAgIG1hcmtlcl8zZDkyMGVlMGU2MGU0MjRhYThiY2FjNDE2YWJlOGYwYy5zZXRJY29uKGljb25fYWQwN2ZiYTIxZjhhNGVkNGE1NmQ5ODBjN2Q2MjAwNzkpOwogICAgICAgIAogICAgCiAgICAgICAgdmFyIHBvcHVwXzYzNDFiNmUyNGJkMjRmNWE5MjA0NmY4Y2NhOTJlZGUxID0gTC5wb3B1cCh7Im1heFdpZHRoIjogIjEwMCUifSk7CgogICAgICAgIAogICAgICAgICAgICB2YXIgaHRtbF9iMzRmMmIxZTkyN2I0OThmOTgwODA1OGIzNWEyOTEzZCA9ICQoYDxkaXYgaWQ9Imh0bWxfYjM0ZjJiMWU5MjdiNDk4Zjk4MDgwNThiMzVhMjkxM2QiIHN0eWxlPSJ3aWR0aDogMTAwLjAlOyBoZWlnaHQ6IDEwMC4wJTsiPuykkeyVmeuMgDwvZGl2PmApWzBdOwogICAgICAgICAgICBwb3B1cF82MzQxYjZlMjRiZDI0ZjVhOTIwNDZmOGNjYTkyZWRlMS5zZXRDb250ZW50KGh0bWxfYjM0ZjJiMWU5MjdiNDk4Zjk4MDgwNThiMzVhMjkxM2QpOwogICAgICAgIAoKICAgICAgICBtYXJrZXJfM2Q5MjBlZTBlNjBlNDI0YWE4YmNhYzQxNmFiZThmMGMuYmluZFBvcHVwKHBvcHVwXzYzNDFiNmUyNGJkMjRmNWE5MjA0NmY4Y2NhOTJlZGUxKQogICAgICAgIDsKCiAgICAgICAgCiAgICAKICAgIAogICAgICAgICAgICB2YXIgbWFya2VyX2IwZTNjZDg3OWE3NDRhODk5YWE4OTUxZGM4ZGNlMmFjID0gTC5tYXJrZXIoCiAgICAgICAgICAgICAgICBbMzcuNTYwMDAzLCAxMjYuOTQ1NDY5XSwKICAgICAgICAgICAgICAgIHt9CiAgICAgICAgICAgICkuYWRkVG8obWFwXzk4YzI1N2FmMjMyNjRkNjRhYjRmOWYwZmUzZTAyZGViKTsKICAgICAgICAKICAgIAogICAgICAgICAgICB2YXIgaWNvbl9hYmNiZGZkMjdlM2Q0MmMwYmRjNDg1ZmNjNjVkYTE0YyA9IEwuQXdlc29tZU1hcmtlcnMuaWNvbigKICAgICAgICAgICAgICAgIHsiZXh0cmFDbGFzc2VzIjogImZhLXJvdGF0ZS0wIiwgImljb24iOiAiY2xvdWQiLCAiaWNvbkNvbG9yIjogIndoaXRlIiwgIm1hcmtlckNvbG9yIjogImJsdWUiLCAicHJlZml4IjogImdseXBoaWNvbiJ9CiAgICAgICAgICAgICk7CiAgICAgICAgICAgIG1hcmtlcl9iMGUzY2Q4NzlhNzQ0YTg5OWFhODk1MWRjOGRjZTJhYy5zZXRJY29uKGljb25fYWJjYmRmZDI3ZTNkNDJjMGJkYzQ4NWZjYzY1ZGExNGMpOwogICAgICAgIAogICAgCiAgICAgICAgdmFyIHBvcHVwXzc2ZmIzNGZkZDA4YzQyMmJhYTY2NDhiNGI4ODhmMjQyID0gTC5wb3B1cCh7Im1heFdpZHRoIjogIjEwMCUifSk7CgogICAgICAgIAogICAgICAgICAgICB2YXIgaHRtbF9lNTY0ZDlkOWY5MGI0YzI0YjY4MjkzZWU1YzQ3MzllNCA9ICQoYDxkaXYgaWQ9Imh0bWxfZTU2NGQ5ZDlmOTBiNGMyNGI2ODI5M2VlNWM0NzM5ZTQiIHN0eWxlPSJ3aWR0aDogMTAwLjAlOyBoZWlnaHQ6IDEwMC4wJTsiPuydtO2ZlOyXrOuMgDwvZGl2PmApWzBdOwogICAgICAgICAgICBwb3B1cF83NmZiMzRmZGQwOGM0MjJiYWE2NjQ4YjRiODg4ZjI0Mi5zZXRDb250ZW50KGh0bWxfZTU2NGQ5ZDlmOTBiNGMyNGI2ODI5M2VlNWM0NzM5ZTQpOwogICAgICAgIAoKICAgICAgICBtYXJrZXJfYjBlM2NkODc5YTc0NGE4OTlhYTg5NTFkYzhkY2UyYWMuYmluZFBvcHVwKHBvcHVwXzc2ZmIzNGZkZDA4YzQyMmJhYTY2NDhiNGI4ODhmMjQyKQogICAgICAgIDsKCiAgICAgICAgCiAgICAKICAgIAogICAgICAgICAgICB2YXIgbWFya2VyXzBmNWI3ZDc2OWE5YzRlNTZhMjJkODgxYmRjMGEzNDNmID0gTC5tYXJrZXIoCiAgICAgICAgICAgICAgICBbMzcuNTk2MzkxLCAxMjcuMDUyNTg3XSwKICAgICAgICAgICAgICAgIHt9CiAgICAgICAgICAgICkuYWRkVG8obWFwXzk4YzI1N2FmMjMyNjRkNjRhYjRmOWYwZmUzZTAyZGViKTsKICAgICAgICAKICAgIAogICAgICAgICAgICB2YXIgaWNvbl8xZjUwZjk1MWJlNWI0OGQyOTc5YjFhM2E3NjU1NTgzOSA9IEwuQXdlc29tZU1hcmtlcnMuaWNvbigKICAgICAgICAgICAgICAgIHsiZXh0cmFDbGFzc2VzIjogImZhLXJvdGF0ZS0wIiwgImljb24iOiAiY2xvdWQiLCAiaWNvbkNvbG9yIjogIndoaXRlIiwgIm1hcmtlckNvbG9yIjogImJsdWUiLCAicHJlZml4IjogImdseXBoaWNvbiJ9CiAgICAgICAgICAgICk7CiAgICAgICAgICAgIG1hcmtlcl8wZjViN2Q3NjlhOWM0ZTU2YTIyZDg4MWJkYzBhMzQzZi5zZXRJY29uKGljb25fMWY1MGY5NTFiZTViNDhkMjk3OWIxYTNhNzY1NTU4MzkpOwogICAgICAgIAogICAgCiAgICAgICAgdmFyIHBvcHVwXzljODIxZThiOTMyOTQ3YTViMGUzOGJlZGFhMWE2Y2U1ID0gTC5wb3B1cCh7Im1heFdpZHRoIjogIjEwMCUifSk7CgogICAgICAgIAogICAgICAgICAgICB2YXIgaHRtbF82ODc0N2Q3YjE5OGU0M2VkYmQxMjNhNTcwMWRkZjY5OCA9ICQoYDxkaXYgaWQ9Imh0bWxfNjg3NDdkN2IxOThlNDNlZGJkMTIzYTU3MDFkZGY2OTgiIHN0eWxlPSJ3aWR0aDogMTAwLjAlOyBoZWlnaHQ6IDEwMC4wJTsiPuqyve2drOuMgDwvZGl2PmApWzBdOwogICAgICAgICAgICBwb3B1cF85YzgyMWU4YjkzMjk0N2E1YjBlMzhiZWRhYTFhNmNlNS5zZXRDb250ZW50KGh0bWxfNjg3NDdkN2IxOThlNDNlZGJkMTIzYTU3MDFkZGY2OTgpOwogICAgICAgIAoKICAgICAgICBtYXJrZXJfMGY1YjdkNzY5YTljNGU1NmEyMmQ4ODFiZGMwYTM0M2YuYmluZFBvcHVwKHBvcHVwXzljODIxZThiOTMyOTQ3YTViMGUzOGJlZGFhMWE2Y2U1KQogICAgICAgIDsKCiAgICAgICAgCiAgICAKICAgIAogICAgICAgICAgICB2YXIgbWFya2VyXzkxNDQ4ZDgzMzc0MTQ4YjhhMjRiNWI1MTdhMWMzYTI1ID0gTC5tYXJrZXIoCiAgICAgICAgICAgICAgICBbMzcuNTQ2NTYsIDEyNi45NjQ4MzFdLAogICAgICAgICAgICAgICAge30KICAgICAgICAgICAgKS5hZGRUbyhtYXBfOThjMjU3YWYyMzI2NGQ2NGFiNGY5ZjBmZTNlMDJkZWIpOwogICAgICAgIAogICAgCiAgICAgICAgICAgIHZhciBpY29uXzExZjI2ZjhiNTI3ZjRmOTJiNmUzOTg5NzRmZjRkNWExID0gTC5Bd2Vzb21lTWFya2Vycy5pY29uKAogICAgICAgICAgICAgICAgeyJleHRyYUNsYXNzZXMiOiAiZmEtcm90YXRlLTAiLCAiaWNvbiI6ICJjbG91ZCIsICJpY29uQ29sb3IiOiAid2hpdGUiLCAibWFya2VyQ29sb3IiOiAiYmx1ZSIsICJwcmVmaXgiOiAiZ2x5cGhpY29uIn0KICAgICAgICAgICAgKTsKICAgICAgICAgICAgbWFya2VyXzkxNDQ4ZDgzMzc0MTQ4YjhhMjRiNWI1MTdhMWMzYTI1LnNldEljb24oaWNvbl8xMWYyNmY4YjUyN2Y0ZjkyYjZlMzk4OTc0ZmY0ZDVhMSk7CiAgICAgICAgCiAgICAKICAgICAgICB2YXIgcG9wdXBfOGJhZTZjMjg1MTgyNDYzZjk5ZDAzZmRhYTYyMzFjZDggPSBMLnBvcHVwKHsibWF4V2lkdGgiOiAiMTAwJSJ9KTsKCiAgICAgICAgCiAgICAgICAgICAgIHZhciBodG1sXzM5MTRjMTM3NDhjZjQwYWFhY2U2MzNiMzJiYzQ1OTg2ID0gJChgPGRpdiBpZD0iaHRtbF8zOTE0YzEzNzQ4Y2Y0MGFhYWNlNjMzYjMyYmM0NTk4NiIgc3R5bGU9IndpZHRoOiAxMDAuMCU7IGhlaWdodDogMTAwLjAlOyI+7IiZ66qF64yAPC9kaXY+YClbMF07CiAgICAgICAgICAgIHBvcHVwXzhiYWU2YzI4NTE4MjQ2M2Y5OWQwM2ZkYWE2MjMxY2Q4LnNldENvbnRlbnQoaHRtbF8zOTE0YzEzNzQ4Y2Y0MGFhYWNlNjMzYjMyYmM0NTk4Nik7CiAgICAgICAgCgogICAgICAgIG1hcmtlcl85MTQ0OGQ4MzM3NDE0OGI4YTI0YjViNTE3YTFjM2EyNS5iaW5kUG9wdXAocG9wdXBfOGJhZTZjMjg1MTgyNDYzZjk5ZDAzZmRhYTYyMzFjZDgpCiAgICAgICAgOwoKICAgICAgICAKICAgIAo8L3NjcmlwdD4=\" style=\"position:absolute;width:100%;height:100%;left:0;top:0;border:none !important;\" allowfullscreen webkitallowfullscreen mozallowfullscreen></iframe></div></div>"
      ],
      "text/plain": [
       "<folium.folium.Map at 0x2158144a108>"
      ]
     },
     "execution_count": 1,
     "metadata": {},
     "output_type": "execute_result"
    }
   ],
   "source": [
    "in_seoul = [\n",
    "[37.460031, 126.951911],\n",
    "[37.566461, 127.044850],\n",
    "[37.588457, 126.993595],\n",
    "[37.551225, 126.941013],\n",
    "[37.565997, 126.938175],\n",
    "[37.591046, 127.027885],\n",
    "[37.505318, 126.957112],\n",
    "[37.560003, 126.945469],\n",
    "[37.596391, 127.052587],\n",
    "[37.546560, 126.964831]]\n",
    "\n",
    "name = ['서울대','한양대', '성균관대','서강대','연세대','고려대','중앙대','이화여대','경희대','숙명대']\n",
    "\n",
    "import folium\n",
    "map_2=folium.Map(location=[37.565711,126.978090],zoom_start=11)\n",
    "\n",
    "for i in range(len(name)):\n",
    "    folium.Marker(in_seoul[i], popup=name[i],icon=folium.Icon(icon='cloud')).add_to(map_2)\n",
    "map_2"
   ]
  },
  {
   "cell_type": "code",
   "execution_count": 2,
   "metadata": {},
   "outputs": [],
   "source": [
    "# 문제 다음 데이터를 데이터프레임에 저장하시요\n",
    "#         지역  2018     2017   2016    2015     2015-2018 증가율\n",
    "# 서울 수도권  9904312 9631482 9762546 9853972    0.0283\n",
    "# 부산 경상권  3448737 3393191 3512547 3655437    0.0163\n",
    "# 인천 수도권  2890451 2632035 2517680 2466338    0.0982\n",
    "# 대구 경상권  2466052 2431774 2456016 2473990    0.0141 "
   ]
  },
  {
   "cell_type": "code",
   "execution_count": 4,
   "metadata": {},
   "outputs": [
    {
     "data": {
      "text/html": [
       "<div>\n",
       "<style scoped>\n",
       "    .dataframe tbody tr th:only-of-type {\n",
       "        vertical-align: middle;\n",
       "    }\n",
       "\n",
       "    .dataframe tbody tr th {\n",
       "        vertical-align: top;\n",
       "    }\n",
       "\n",
       "    .dataframe thead th {\n",
       "        text-align: right;\n",
       "    }\n",
       "</style>\n",
       "<table border=\"1\" class=\"dataframe\">\n",
       "  <thead>\n",
       "    <tr style=\"text-align: right;\">\n",
       "      <th></th>\n",
       "      <th>지역</th>\n",
       "      <th>2015</th>\n",
       "      <th>2016</th>\n",
       "      <th>2017</th>\n",
       "      <th>2018</th>\n",
       "      <th>2015-2018 증가율</th>\n",
       "    </tr>\n",
       "  </thead>\n",
       "  <tbody>\n",
       "    <tr>\n",
       "      <td>서울</td>\n",
       "      <td>수도권</td>\n",
       "      <td>9853972</td>\n",
       "      <td>9762546</td>\n",
       "      <td>9631482</td>\n",
       "      <td>9904312</td>\n",
       "      <td>0.0283</td>\n",
       "    </tr>\n",
       "    <tr>\n",
       "      <td>부산</td>\n",
       "      <td>경상권</td>\n",
       "      <td>3655437</td>\n",
       "      <td>3512547</td>\n",
       "      <td>3393191</td>\n",
       "      <td>3448737</td>\n",
       "      <td>0.0163</td>\n",
       "    </tr>\n",
       "    <tr>\n",
       "      <td>인천</td>\n",
       "      <td>수도권</td>\n",
       "      <td>2466338</td>\n",
       "      <td>2517680</td>\n",
       "      <td>2632035</td>\n",
       "      <td>2890451</td>\n",
       "      <td>0.0982</td>\n",
       "    </tr>\n",
       "    <tr>\n",
       "      <td>데구</td>\n",
       "      <td>경상권</td>\n",
       "      <td>2473990</td>\n",
       "      <td>2456016</td>\n",
       "      <td>2431774</td>\n",
       "      <td>2466052</td>\n",
       "      <td>0.0141</td>\n",
       "    </tr>\n",
       "  </tbody>\n",
       "</table>\n",
       "</div>"
      ],
      "text/plain": [
       "     지역     2015     2016     2017     2018  2015-2018 증가율\n",
       "서울  수도권  9853972  9762546  9631482  9904312         0.0283\n",
       "부산  경상권  3655437  3512547  3393191  3448737         0.0163\n",
       "인천  수도권  2466338  2517680  2632035  2890451         0.0982\n",
       "데구  경상권  2473990  2456016  2431774  2466052         0.0141"
      ]
     },
     "execution_count": 4,
     "metadata": {},
     "output_type": "execute_result"
    }
   ],
   "source": [
    "import pandas as pd\n",
    "data = {'지역' : ['수도권','경상권','수도권','경상권'],\n",
    "           '2018' : [9904312,3448737,2890451,2466052],\n",
    "           '2017' : [9631482,3393191,2632035,2431774],\n",
    "           '2016' : [9762546,3512547,2517680,2456016],\n",
    "           '2015' : [9853972,3655437,2466338,2473990],\n",
    "           '2015-2018 증가율' : [0.0283,0.0163,0.0982,0.0141]}\n",
    "frame = pd.DataFrame(data,columns = ['지역','2015','2016','2017','2018','2015-2018 증가율'],index = ['서울','부산','인천','데구'])\n",
    "frame"
   ]
  },
  {
   "cell_type": "code",
   "execution_count": 5,
   "metadata": {},
   "outputs": [],
   "source": [
    "# 문제 : 2015-2018 증가율을 %로 변경\n",
    "# 문제 : 2015-2017의 증가율을 구해서 변수를 추가\n",
    "# 열이름:2015-2017등가율"
   ]
  },
  {
   "cell_type": "code",
   "execution_count": 6,
   "metadata": {},
   "outputs": [
    {
     "data": {
      "text/html": [
       "<div>\n",
       "<style scoped>\n",
       "    .dataframe tbody tr th:only-of-type {\n",
       "        vertical-align: middle;\n",
       "    }\n",
       "\n",
       "    .dataframe tbody tr th {\n",
       "        vertical-align: top;\n",
       "    }\n",
       "\n",
       "    .dataframe thead th {\n",
       "        text-align: right;\n",
       "    }\n",
       "</style>\n",
       "<table border=\"1\" class=\"dataframe\">\n",
       "  <thead>\n",
       "    <tr style=\"text-align: right;\">\n",
       "      <th></th>\n",
       "      <th>지역</th>\n",
       "      <th>2015</th>\n",
       "      <th>2016</th>\n",
       "      <th>2017</th>\n",
       "      <th>2018</th>\n",
       "      <th>2015-2018 증가율</th>\n",
       "    </tr>\n",
       "  </thead>\n",
       "  <tbody>\n",
       "    <tr>\n",
       "      <td>서울</td>\n",
       "      <td>수도권</td>\n",
       "      <td>9853972</td>\n",
       "      <td>9762546</td>\n",
       "      <td>9631482</td>\n",
       "      <td>9904312</td>\n",
       "      <td>0.005109</td>\n",
       "    </tr>\n",
       "    <tr>\n",
       "      <td>부산</td>\n",
       "      <td>경상권</td>\n",
       "      <td>3655437</td>\n",
       "      <td>3512547</td>\n",
       "      <td>3393191</td>\n",
       "      <td>3448737</td>\n",
       "      <td>-0.056546</td>\n",
       "    </tr>\n",
       "    <tr>\n",
       "      <td>인천</td>\n",
       "      <td>수도권</td>\n",
       "      <td>2466338</td>\n",
       "      <td>2517680</td>\n",
       "      <td>2632035</td>\n",
       "      <td>2890451</td>\n",
       "      <td>0.171961</td>\n",
       "    </tr>\n",
       "    <tr>\n",
       "      <td>데구</td>\n",
       "      <td>경상권</td>\n",
       "      <td>2473990</td>\n",
       "      <td>2456016</td>\n",
       "      <td>2431774</td>\n",
       "      <td>2466052</td>\n",
       "      <td>-0.003209</td>\n",
       "    </tr>\n",
       "  </tbody>\n",
       "</table>\n",
       "</div>"
      ],
      "text/plain": [
       "     지역     2015     2016     2017     2018  2015-2018 증가율\n",
       "서울  수도권  9853972  9762546  9631482  9904312       0.005109\n",
       "부산  경상권  3655437  3512547  3393191  3448737      -0.056546\n",
       "인천  수도권  2466338  2517680  2632035  2890451       0.171961\n",
       "데구  경상권  2473990  2456016  2431774  2466052      -0.003209"
      ]
     },
     "execution_count": 6,
     "metadata": {},
     "output_type": "execute_result"
    }
   ],
   "source": [
    "frame['2015-2018 증가율'] = (frame['2018']-frame['2015'])/frame['2015']\n",
    "frame"
   ]
  },
  {
   "cell_type": "code",
   "execution_count": 7,
   "metadata": {},
   "outputs": [
    {
     "data": {
      "text/html": [
       "<div>\n",
       "<style scoped>\n",
       "    .dataframe tbody tr th:only-of-type {\n",
       "        vertical-align: middle;\n",
       "    }\n",
       "\n",
       "    .dataframe tbody tr th {\n",
       "        vertical-align: top;\n",
       "    }\n",
       "\n",
       "    .dataframe thead th {\n",
       "        text-align: right;\n",
       "    }\n",
       "</style>\n",
       "<table border=\"1\" class=\"dataframe\">\n",
       "  <thead>\n",
       "    <tr style=\"text-align: right;\">\n",
       "      <th></th>\n",
       "      <th>지역</th>\n",
       "      <th>2015</th>\n",
       "      <th>2016</th>\n",
       "      <th>2017</th>\n",
       "      <th>2018</th>\n",
       "      <th>2015-2018 증가율</th>\n",
       "    </tr>\n",
       "  </thead>\n",
       "  <tbody>\n",
       "    <tr>\n",
       "      <td>서울</td>\n",
       "      <td>수도권</td>\n",
       "      <td>9853972</td>\n",
       "      <td>9762546</td>\n",
       "      <td>9631482</td>\n",
       "      <td>9904312</td>\n",
       "      <td>0.510860</td>\n",
       "    </tr>\n",
       "    <tr>\n",
       "      <td>부산</td>\n",
       "      <td>경상권</td>\n",
       "      <td>3655437</td>\n",
       "      <td>3512547</td>\n",
       "      <td>3393191</td>\n",
       "      <td>3448737</td>\n",
       "      <td>-5.654591</td>\n",
       "    </tr>\n",
       "    <tr>\n",
       "      <td>인천</td>\n",
       "      <td>수도권</td>\n",
       "      <td>2466338</td>\n",
       "      <td>2517680</td>\n",
       "      <td>2632035</td>\n",
       "      <td>2890451</td>\n",
       "      <td>17.196062</td>\n",
       "    </tr>\n",
       "    <tr>\n",
       "      <td>데구</td>\n",
       "      <td>경상권</td>\n",
       "      <td>2473990</td>\n",
       "      <td>2456016</td>\n",
       "      <td>2431774</td>\n",
       "      <td>2466052</td>\n",
       "      <td>-0.320858</td>\n",
       "    </tr>\n",
       "  </tbody>\n",
       "</table>\n",
       "</div>"
      ],
      "text/plain": [
       "     지역     2015     2016     2017     2018  2015-2018 증가율\n",
       "서울  수도권  9853972  9762546  9631482  9904312       0.510860\n",
       "부산  경상권  3655437  3512547  3393191  3448737      -5.654591\n",
       "인천  수도권  2466338  2517680  2632035  2890451      17.196062\n",
       "데구  경상권  2473990  2456016  2431774  2466052      -0.320858"
      ]
     },
     "execution_count": 7,
     "metadata": {},
     "output_type": "execute_result"
    }
   ],
   "source": [
    "frame['2015-2018 증가율'] = frame['2015-2018 증가율']*100\n",
    "frame"
   ]
  },
  {
   "cell_type": "code",
   "execution_count": 8,
   "metadata": {},
   "outputs": [
    {
     "data": {
      "text/html": [
       "<div>\n",
       "<style scoped>\n",
       "    .dataframe tbody tr th:only-of-type {\n",
       "        vertical-align: middle;\n",
       "    }\n",
       "\n",
       "    .dataframe tbody tr th {\n",
       "        vertical-align: top;\n",
       "    }\n",
       "\n",
       "    .dataframe thead th {\n",
       "        text-align: right;\n",
       "    }\n",
       "</style>\n",
       "<table border=\"1\" class=\"dataframe\">\n",
       "  <thead>\n",
       "    <tr style=\"text-align: right;\">\n",
       "      <th></th>\n",
       "      <th>지역</th>\n",
       "      <th>2015</th>\n",
       "      <th>2016</th>\n",
       "      <th>2017</th>\n",
       "      <th>2018</th>\n",
       "      <th>2015-2018 증가율</th>\n",
       "      <th>2015-2017증가율</th>\n",
       "    </tr>\n",
       "  </thead>\n",
       "  <tbody>\n",
       "    <tr>\n",
       "      <td>서울</td>\n",
       "      <td>수도권</td>\n",
       "      <td>9853972</td>\n",
       "      <td>9762546</td>\n",
       "      <td>9631482</td>\n",
       "      <td>9904312</td>\n",
       "      <td>0.510860</td>\n",
       "      <td>-0.022579</td>\n",
       "    </tr>\n",
       "    <tr>\n",
       "      <td>부산</td>\n",
       "      <td>경상권</td>\n",
       "      <td>3655437</td>\n",
       "      <td>3512547</td>\n",
       "      <td>3393191</td>\n",
       "      <td>3448737</td>\n",
       "      <td>-5.654591</td>\n",
       "      <td>-0.071741</td>\n",
       "    </tr>\n",
       "    <tr>\n",
       "      <td>인천</td>\n",
       "      <td>수도권</td>\n",
       "      <td>2466338</td>\n",
       "      <td>2517680</td>\n",
       "      <td>2632035</td>\n",
       "      <td>2890451</td>\n",
       "      <td>17.196062</td>\n",
       "      <td>0.067183</td>\n",
       "    </tr>\n",
       "    <tr>\n",
       "      <td>데구</td>\n",
       "      <td>경상권</td>\n",
       "      <td>2473990</td>\n",
       "      <td>2456016</td>\n",
       "      <td>2431774</td>\n",
       "      <td>2466052</td>\n",
       "      <td>-0.320858</td>\n",
       "      <td>-0.017064</td>\n",
       "    </tr>\n",
       "  </tbody>\n",
       "</table>\n",
       "</div>"
      ],
      "text/plain": [
       "     지역     2015     2016     2017     2018  2015-2018 증가율  2015-2017증가율\n",
       "서울  수도권  9853972  9762546  9631482  9904312       0.510860     -0.022579\n",
       "부산  경상권  3655437  3512547  3393191  3448737      -5.654591     -0.071741\n",
       "인천  수도권  2466338  2517680  2632035  2890451      17.196062      0.067183\n",
       "데구  경상권  2473990  2456016  2431774  2466052      -0.320858     -0.017064"
      ]
     },
     "execution_count": 8,
     "metadata": {},
     "output_type": "execute_result"
    }
   ],
   "source": [
    "frame['2015-2017증가율'] = (frame['2017']-frame['2015'])/frame['2015']\n",
    "frame"
   ]
  },
  {
   "cell_type": "code",
   "execution_count": null,
   "metadata": {},
   "outputs": [],
   "source": []
  },
  {
   "cell_type": "code",
   "execution_count": null,
   "metadata": {},
   "outputs": [],
   "source": []
  }
 ],
 "metadata": {
  "kernelspec": {
   "display_name": "Python 3",
   "language": "python",
   "name": "python3"
  },
  "language_info": {
   "codemirror_mode": {
    "name": "ipython",
    "version": 3
   },
   "file_extension": ".py",
   "mimetype": "text/x-python",
   "name": "python",
   "nbconvert_exporter": "python",
   "pygments_lexer": "ipython3",
   "version": "3.7.4"
  }
 },
 "nbformat": 4,
 "nbformat_minor": 2
}
