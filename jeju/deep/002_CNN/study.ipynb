{
 "cells": [
  {
   "cell_type": "code",
   "execution_count": 2,
   "metadata": {},
   "outputs": [],
   "source": [
    "import warnings\n",
    "warnings.filterwarnings(action=\"ignore\")"
   ]
  },
  {
   "cell_type": "code",
   "execution_count": 3,
   "metadata": {},
   "outputs": [],
   "source": [
    "# FFNN"
   ]
  },
  {
   "cell_type": "code",
   "execution_count": 4,
   "metadata": {},
   "outputs": [
    {
     "name": "stdout",
     "output_type": "stream",
     "text": [
      "WARNING:tensorflow:From <ipython-input-4-0b4570db1f0b>:2: read_data_sets (from tensorflow.contrib.learn.python.learn.datasets.mnist) is deprecated and will be removed in a future version.\n",
      "Instructions for updating:\n",
      "Please use alternatives such as official/mnist/dataset.py from tensorflow/models.\n",
      "WARNING:tensorflow:From C:\\ProgramData\\Anaconda3\\lib\\site-packages\\tensorflow\\contrib\\learn\\python\\learn\\datasets\\mnist.py:260: maybe_download (from tensorflow.contrib.learn.python.learn.datasets.base) is deprecated and will be removed in a future version.\n",
      "Instructions for updating:\n",
      "Please write your own downloading logic.\n",
      "WARNING:tensorflow:From C:\\ProgramData\\Anaconda3\\lib\\site-packages\\tensorflow\\contrib\\learn\\python\\learn\\datasets\\mnist.py:262: extract_images (from tensorflow.contrib.learn.python.learn.datasets.mnist) is deprecated and will be removed in a future version.\n",
      "Instructions for updating:\n",
      "Please use tf.data to implement this functionality.\n",
      "Extracting /tmp/data/train-images-idx3-ubyte.gz\n",
      "WARNING:tensorflow:From C:\\ProgramData\\Anaconda3\\lib\\site-packages\\tensorflow\\contrib\\learn\\python\\learn\\datasets\\mnist.py:267: extract_labels (from tensorflow.contrib.learn.python.learn.datasets.mnist) is deprecated and will be removed in a future version.\n",
      "Instructions for updating:\n",
      "Please use tf.data to implement this functionality.\n",
      "Extracting /tmp/data/train-labels-idx1-ubyte.gz\n",
      "WARNING:tensorflow:From C:\\ProgramData\\Anaconda3\\lib\\site-packages\\tensorflow\\contrib\\learn\\python\\learn\\datasets\\mnist.py:110: dense_to_one_hot (from tensorflow.contrib.learn.python.learn.datasets.mnist) is deprecated and will be removed in a future version.\n",
      "Instructions for updating:\n",
      "Please use tf.one_hot on tensors.\n",
      "Extracting /tmp/data/t10k-images-idx3-ubyte.gz\n",
      "Extracting /tmp/data/t10k-labels-idx1-ubyte.gz\n",
      "WARNING:tensorflow:From C:\\ProgramData\\Anaconda3\\lib\\site-packages\\tensorflow\\contrib\\learn\\python\\learn\\datasets\\mnist.py:290: DataSet.__init__ (from tensorflow.contrib.learn.python.learn.datasets.mnist) is deprecated and will be removed in a future version.\n",
      "Instructions for updating:\n",
      "Please use alternatives such as official/mnist/dataset.py from tensorflow/models.\n"
     ]
    }
   ],
   "source": [
    "from tensorflow.examples.tutorials.mnist import input_data\n",
    "mnist = input_data.read_data_sets('/tmp/data/', one_hot=True)\n",
    "import tensorflow as tf"
   ]
  },
  {
   "cell_type": "code",
   "execution_count": 8,
   "metadata": {},
   "outputs": [
    {
     "name": "stdout",
     "output_type": "stream",
     "text": [
      "(128, 784)\n",
      "(128, 10)\n"
     ]
    }
   ],
   "source": [
    "batch_x, batch_y = mnist.train.next_batch(128)\n",
    "print(batch_x.shape) # 128x784\n",
    "print(batch_y.shape) # 128x10\n",
    "learning_rate = 0.1\n",
    "num_steps = 500\n",
    "batch_size = 128\n",
    "display_step =100 \n"
   ]
  },
  {
   "cell_type": "code",
   "execution_count": 10,
   "metadata": {},
   "outputs": [],
   "source": [
    "# 히든 에이러가 2개\n",
    "# 784(픽셀 1개를 변수로 ) => 784x256 -> 256x256 -> 256x10\n",
    "n_hidden_1 = 256\n",
    "n_hidden_2 = 256\n",
    "num_input = 784\n",
    "num_classes = 10 # target 0 ~ 9\n",
    "X = tf.placeholder('float', [None, num_input]) # 128 x 784\n",
    "Y = tf.placeholder('float', [None, num_classes]) # 128 x 10"
   ]
  },
  {
   "cell_type": "code",
   "execution_count": 11,
   "metadata": {},
   "outputs": [],
   "source": [
    "# 가중치 : 설명렬, 계수\n",
    "weights = {\n",
    "    # 784x256\n",
    "    'h1':tf.Variable(tf.random_normal([num_input, n_hidden_1])),\n",
    "    # 256x256\n",
    "    'h2':tf.Variable(tf.random_normal([n_hidden_1, n_hidden_2])),\n",
    "    # 256x10\n",
    "    'out':tf.Variable(tf.random_normal([n_hidden_2, num_classes])),\n",
    "}\n",
    "\n",
    "# bias : activation\n",
    "biases = {\n",
    "    # 256, 변수 개수 만큼\n",
    "    'b1':tf.Variable(tf.random_normal([n_hidden_1])),\n",
    "    # 256\n",
    "    'b2':tf.Variable(tf.random_normal([n_hidden_2])),\n",
    "    # 10\n",
    "    'out':tf.Variable(tf.random_normal([num_classes])),\n",
    "}"
   ]
  },
  {
   "cell_type": "code",
   "execution_count": 15,
   "metadata": {},
   "outputs": [],
   "source": [
    "def neural_net(x):\n",
    "    layer_1 = tf.add(tf.matmul(x,weights['h1']), biases['b1'])\n",
    "    layer_2 = tf.add(tf.matmul(layer_1, weights['h2']), biases['b2'])\n",
    "    out_layer = tf.add(tf.matmul(layer_2, weights['out']), biases['out'])\n",
    "    return out_layer"
   ]
  },
  {
   "cell_type": "code",
   "execution_count": 16,
   "metadata": {},
   "outputs": [],
   "source": [
    "logits = neural_net(X)\n",
    "\n",
    "# 경사하강법 -> 미분가능 -> 분류\n",
    "# softmax확률 값으로 계산\n",
    "loss_op = tf.reduce_mean(tf.nn.softmax_cross_entropy_with_logits_v2(logits=logits, labels=Y))\n",
    "\n",
    "# 최적화기 : 기울기, 학습률\n",
    "# adgrad : learning-rate 처음엔 크게 -> 점점 작게 끝나지않아도 0으로 만든다.\n",
    "# momentum + propgrad() : adaptive 적을적으로 현재 상태를 보고\n",
    "optimizer = tf.train.AdamOptimizer(learning_rate=learning_rate)\n",
    "train_op = optimizer.minimize(loss_op)\n",
    "\n",
    "# 가장큰값의 인덱스를 구함(one-hot-encoding) => target\n",
    "# true, false => 0,1\n",
    "correct_pred = tf.equal(tf.argmax(logits, 1), tf.argmax(Y,1))\n",
    "\n",
    "# 형변환\n",
    "# 합을 평균함\n",
    "accuracy = tf.reduce_mean(tf.cast(correct_pred, tf.float32))\n",
    "\n",
    "# 초기화\n",
    "init = tf.global_variables_initializer()\n"
   ]
  },
  {
   "cell_type": "code",
   "execution_count": 19,
   "metadata": {},
   "outputs": [
    {
     "name": "stdout",
     "output_type": "stream",
     "text": [
      "Step : 1 Minibatch Loss : 9142.0381 TrainingAccuracy : 0.461\n",
      "Step : 100 Minibatch Loss : 393.4442 TrainingAccuracy : 0.820\n",
      "Step : 200 Minibatch Loss : 57.8098 TrainingAccuracy : 0.922\n",
      "Step : 300 Minibatch Loss : 46.1588 TrainingAccuracy : 0.898\n",
      "Step : 400 Minibatch Loss : 39.6960 TrainingAccuracy : 0.836\n",
      "Step : 500 Minibatch Loss : 80.1962 TrainingAccuracy : 0.867\n",
      "테스트 정확도 :  0.8363\n"
     ]
    }
   ],
   "source": [
    "with tf.Session() as sess:\n",
    "    sess.run(init)\n",
    "    for step in range(1,num_steps+1):\n",
    "        batch_x, batch_y = mnist.train.next_batch(batch_size)\n",
    "        sess.run(train_op, feed_dict={X:batch_x, Y:batch_y})\n",
    "        if step % display_step ==0 or step==1:\n",
    "            loss, acc = sess.run([loss_op, accuracy], feed_dict={X:batch_x, Y:batch_y})\n",
    "            print('Step : {} Minibatch Loss : {:.4f} TrainingAccuracy : {:.3f}'.format(str(step), loss, acc))\n",
    "    print('테스트 정확도 : ', sess.run(accuracy, feed_dict={X:mnist.test.images, Y:mnist.test.labels}))"
   ]
  },
  {
   "cell_type": "code",
   "execution_count": 20,
   "metadata": {},
   "outputs": [
    {
     "data": {
      "text/html": [
       "<div>\n",
       "<style scoped>\n",
       "    .dataframe tbody tr th:only-of-type {\n",
       "        vertical-align: middle;\n",
       "    }\n",
       "\n",
       "    .dataframe tbody tr th {\n",
       "        vertical-align: top;\n",
       "    }\n",
       "\n",
       "    .dataframe thead th {\n",
       "        text-align: right;\n",
       "    }\n",
       "</style>\n",
       "<table border=\"1\" class=\"dataframe\">\n",
       "  <thead>\n",
       "    <tr style=\"text-align: right;\">\n",
       "      <th></th>\n",
       "      <th>CRIM</th>\n",
       "      <th>ZN</th>\n",
       "      <th>INDUS</th>\n",
       "      <th>CHAS</th>\n",
       "      <th>NOX</th>\n",
       "      <th>RM</th>\n",
       "      <th>AGE</th>\n",
       "      <th>DIS</th>\n",
       "      <th>RAD</th>\n",
       "      <th>TAX</th>\n",
       "      <th>PTRATIO</th>\n",
       "      <th>B</th>\n",
       "      <th>LSTAT</th>\n",
       "      <th>const</th>\n",
       "    </tr>\n",
       "  </thead>\n",
       "  <tbody>\n",
       "    <tr>\n",
       "      <td>501</td>\n",
       "      <td>0.06263</td>\n",
       "      <td>0.0</td>\n",
       "      <td>11.93</td>\n",
       "      <td>0.0</td>\n",
       "      <td>0.573</td>\n",
       "      <td>6.593</td>\n",
       "      <td>69.1</td>\n",
       "      <td>2.4786</td>\n",
       "      <td>1.0</td>\n",
       "      <td>273.0</td>\n",
       "      <td>21.0</td>\n",
       "      <td>391.99</td>\n",
       "      <td>9.67</td>\n",
       "      <td>1.0</td>\n",
       "    </tr>\n",
       "    <tr>\n",
       "      <td>502</td>\n",
       "      <td>0.04527</td>\n",
       "      <td>0.0</td>\n",
       "      <td>11.93</td>\n",
       "      <td>0.0</td>\n",
       "      <td>0.573</td>\n",
       "      <td>6.120</td>\n",
       "      <td>76.7</td>\n",
       "      <td>2.2875</td>\n",
       "      <td>1.0</td>\n",
       "      <td>273.0</td>\n",
       "      <td>21.0</td>\n",
       "      <td>396.90</td>\n",
       "      <td>9.08</td>\n",
       "      <td>1.0</td>\n",
       "    </tr>\n",
       "    <tr>\n",
       "      <td>503</td>\n",
       "      <td>0.06076</td>\n",
       "      <td>0.0</td>\n",
       "      <td>11.93</td>\n",
       "      <td>0.0</td>\n",
       "      <td>0.573</td>\n",
       "      <td>6.976</td>\n",
       "      <td>91.0</td>\n",
       "      <td>2.1675</td>\n",
       "      <td>1.0</td>\n",
       "      <td>273.0</td>\n",
       "      <td>21.0</td>\n",
       "      <td>396.90</td>\n",
       "      <td>5.64</td>\n",
       "      <td>1.0</td>\n",
       "    </tr>\n",
       "    <tr>\n",
       "      <td>504</td>\n",
       "      <td>0.10959</td>\n",
       "      <td>0.0</td>\n",
       "      <td>11.93</td>\n",
       "      <td>0.0</td>\n",
       "      <td>0.573</td>\n",
       "      <td>6.794</td>\n",
       "      <td>89.3</td>\n",
       "      <td>2.3889</td>\n",
       "      <td>1.0</td>\n",
       "      <td>273.0</td>\n",
       "      <td>21.0</td>\n",
       "      <td>393.45</td>\n",
       "      <td>6.48</td>\n",
       "      <td>1.0</td>\n",
       "    </tr>\n",
       "    <tr>\n",
       "      <td>505</td>\n",
       "      <td>0.04741</td>\n",
       "      <td>0.0</td>\n",
       "      <td>11.93</td>\n",
       "      <td>0.0</td>\n",
       "      <td>0.573</td>\n",
       "      <td>6.030</td>\n",
       "      <td>80.8</td>\n",
       "      <td>2.5050</td>\n",
       "      <td>1.0</td>\n",
       "      <td>273.0</td>\n",
       "      <td>21.0</td>\n",
       "      <td>396.90</td>\n",
       "      <td>7.88</td>\n",
       "      <td>1.0</td>\n",
       "    </tr>\n",
       "  </tbody>\n",
       "</table>\n",
       "</div>"
      ],
      "text/plain": [
       "        CRIM   ZN  INDUS  CHAS    NOX     RM   AGE     DIS  RAD    TAX  \\\n",
       "501  0.06263  0.0  11.93   0.0  0.573  6.593  69.1  2.4786  1.0  273.0   \n",
       "502  0.04527  0.0  11.93   0.0  0.573  6.120  76.7  2.2875  1.0  273.0   \n",
       "503  0.06076  0.0  11.93   0.0  0.573  6.976  91.0  2.1675  1.0  273.0   \n",
       "504  0.10959  0.0  11.93   0.0  0.573  6.794  89.3  2.3889  1.0  273.0   \n",
       "505  0.04741  0.0  11.93   0.0  0.573  6.030  80.8  2.5050  1.0  273.0   \n",
       "\n",
       "     PTRATIO       B  LSTAT  const  \n",
       "501     21.0  391.99   9.67    1.0  \n",
       "502     21.0  396.90   9.08    1.0  \n",
       "503     21.0  396.90   5.64    1.0  \n",
       "504     21.0  393.45   6.48    1.0  \n",
       "505     21.0  396.90   7.88    1.0  "
      ]
     },
     "execution_count": 20,
     "metadata": {},
     "output_type": "execute_result"
    }
   ],
   "source": [
    "from sklearn.datasets import load_boston\n",
    "import pandas as pd\n",
    "import numpy as np\n",
    "import tensorflow as tf\n",
    "boston = load_boston()\n",
    "df = pd.DataFrame(boston.data, columns = boston.feature_names)\n",
    "df['const'] = np.ones(df.shape[0]) # 전부 1이라는 변수 추가\n",
    "df.tail()\n"
   ]
  },
  {
   "cell_type": "code",
   "execution_count": 28,
   "metadata": {},
   "outputs": [
    {
     "data": {
      "text/plain": [
       "14"
      ]
     },
     "execution_count": 28,
     "metadata": {},
     "output_type": "execute_result"
    }
   ],
   "source": [
    "n,m =df.shape\n",
    "X = tf.placeholder(tf.float64, shape=(n,m)) # 506x14\n",
    "Y = tf.placeholder(tf.float64, shape=(n,1)) # 506x1\n",
    "XT = tf.transpose(X) # 14x506\n",
    "XT.shape, X\n",
    "m"
   ]
  },
  {
   "cell_type": "code",
   "execution_count": 25,
   "metadata": {},
   "outputs": [
    {
     "name": "stdout",
     "output_type": "stream",
     "text": [
      "예측한 집값 : [18.40613603] 실제 집값 [18.40613603] \n"
     ]
    }
   ],
   "source": [
    "# 14x560, 506x14 => 14x14\n",
    "# 역행렬(14x14), 14x506 => 14x506\n",
    "# 14x506, 506x1 => 14x1\n",
    "# 역행렬을 이용해서 가중치 결정\n",
    "W = tf.matmul(tf.matmul(tf.matrix_inverse(tf.matmul(XT,X)), XT), Y)\n",
    "y_pred = tf.matmul(X,W) # 506x14, 14x1 => 506x1 회귀식\n",
    "with tf.Session() as sess:\n",
    "    y_pred_ = sess.run(y_pred, feed_dict={X:df.values, Y:boston.target.reshape(-1,1)})\n",
    "    \n",
    "print('예측한 집값 : {} 실제 집값 {} '.format(y_pred_[19], y_pred_[19]))"
   ]
  },
  {
   "cell_type": "code",
   "execution_count": 31,
   "metadata": {},
   "outputs": [
    {
     "name": "stdout",
     "output_type": "stream",
     "text": [
      "[0 2 3 0 2 3 0 2 3 0 2 3 0 2 3]\n"
     ]
    }
   ],
   "source": [
    "import tensorflow as tf\n",
    "sess = tf.Session()\n",
    "\n",
    "val = [0,2,3]\n",
    "val = tf.tile(val, [5]) # 몇개의 타일\n",
    "print(sess.run(val))"
   ]
  },
  {
   "cell_type": "code",
   "execution_count": 32,
   "metadata": {},
   "outputs": [
    {
     "name": "stdout",
     "output_type": "stream",
     "text": [
      "[[1 1 1 1 1 1]\n",
      " [2 2 2 2 2 2]\n",
      " [3 3 3 3 3 3]\n",
      " [1 1 1 1 1 1]\n",
      " [2 2 2 2 2 2]\n",
      " [3 3 3 3 3 3]\n",
      " [1 1 1 1 1 1]\n",
      " [2 2 2 2 2 2]\n",
      " [3 3 3 3 3 3]\n",
      " [1 1 1 1 1 1]\n",
      " [2 2 2 2 2 2]\n",
      " [3 3 3 3 3 3]\n",
      " [1 1 1 1 1 1]\n",
      " [2 2 2 2 2 2]\n",
      " [3 3 3 3 3 3]]\n"
     ]
    }
   ],
   "source": [
    "val = [[1,1,1],[2,2,2],[3,3,3]] # 3x3\n",
    "val = tf.tile(val, [5,2]) # 3x3, 5x2 => (3x5)x(3x2) => 15x6\n",
    "print(sess.run(val))"
   ]
  },
  {
   "cell_type": "code",
   "execution_count": 33,
   "metadata": {},
   "outputs": [
    {
     "name": "stdout",
     "output_type": "stream",
     "text": [
      "[[ 1.  2.  1.  2.  1.  2.]\n",
      " [ 2.  1.  2.  1.  2.  1.]\n",
      " [-2. -1. -2. -1. -2. -1.]]\n",
      "[[ 1.  2.  1.  2.  1.  2.]\n",
      " [ 2.  1.  2.  1.  2.  1.]\n",
      " [-2. -1. -2. -1. -2. -1.]\n",
      " [ 1.  2.  1.  2.  1.  2.]\n",
      " [ 2.  1.  2.  1.  2.  1.]\n",
      " [-2. -1. -2. -1. -2. -1.]]\n"
     ]
    }
   ],
   "source": [
    "input_vecs = [[1.,2.],[2.,1.],[-2.,-1]]\n",
    "tiled_vecs = tf.tile(input_vecs, [1,3])\n",
    "print(sess.run(tiled_vecs))\n",
    "tiled_vecs = tf.tile(input_vecs, [2,3])\n",
    "print(sess.run(tiled_vecs))\n"
   ]
  },
  {
   "cell_type": "markdown",
   "metadata": {},
   "source": [
    "# tile\n",
    "# kmeans"
   ]
  },
  {
   "cell_type": "code",
   "execution_count": 36,
   "metadata": {},
   "outputs": [],
   "source": [
    "import numpy as np\n",
    "import matplotlib.pyplot as plt\n",
    "import tensorflow as tf\n",
    "from sklearn import datasets\n",
    "from sklearn.preprocessing import scale\n",
    "from tensorflow.python.framework import ops\n",
    "ops.reset_default_graph()\n",
    "sess = tf.Session()\n",
    "iris = datasets.load_iris()"
   ]
  },
  {
   "cell_type": "code",
   "execution_count": 91,
   "metadata": {},
   "outputs": [],
   "source": [
    "num_pts = len(iris.data) # 행수 150\n",
    "num_feats = len(iris.data[0]) # columns 개수\n",
    "k = 3 # 군집수\n",
    "generations=25 # epoch\n",
    "data_points=tf.Variable(iris.data)\n",
    "\n",
    "# 레이블 변수\n",
    "# 150\n",
    "cluster_labels = tf.Variable(tf.zeros([num_pts], dtype=tf.int64))\n",
    "\n",
    "# 중심데이터를 랜덤으로 취함\n",
    "# 중심의 열변수 개수 -> 4개\n",
    "# iris.data에서 랜덤으로 뽑는다\n",
    "# np.random.choice(len(iris.data)) : 랜덤으로 뽑은 행 번호\n",
    "rand_starts = np.array([iris.data[np.random.choice(len(iris.data))] for _ in range(k)])\n",
    "\n",
    "# 중심\n",
    "centroids = tf.Variable(rand_starts)\n",
    "# reshape(150,3,4)\n",
    "centroid_matrix = tf.reshape(tf.tile(centroids, [num_pts,1]), [num_pts, k, num_feats])\n",
    "\n",
    "# 결국 150x12(4개의 변수가 3번더) => reshpae(150x3x4)\n",
    "point_matrix = tf.reshape(tf.tile(data_points, [1,k]), [num_pts, k, num_feats])\n",
    "\n",
    "# 열중심으로 한버에 뽑는다.\n",
    "distances = tf.reduce_sum(tf.square(point_matrix - centroid_matrix), axis=2)\n",
    "\n",
    "# 중심거리1, 중심거리2, 중심거리3\n",
    "# argmin : 2개 전체(인덱스, 실제값 비교)\n",
    "centroid_group = tf.argmin(distances, 1)"
   ]
  },
  {
   "cell_type": "code",
   "execution_count": 92,
   "metadata": {},
   "outputs": [],
   "source": [
    "# 그룹별로 거리의 평균\n",
    "# 중심거리를 재계선해서 중심값을 재할당\n",
    "def data_group_avg(group_ids, data):\n",
    "    # 라벨번호로 값의 합계 : 라벨 - 값, 그룹이 3개\n",
    "    sum_total = tf.unsorted_segment_sum(data, group_ids,3)\n",
    "    # 그룹의 전체 개수\n",
    "    num_total = tf.unsorted_segment_sum(tf.ones_like(data), group_ids, 3)\n",
    "    # 그룹의 평균거리\n",
    "    avg_by_group = sum_total / num_total\n",
    "    \n",
    "    return avg_by_group\n",
    "\n",
    "means = data_group_avg(centroid_group, data_points)\n",
    "# 업데이트 node를 결정\n",
    "update = tf.group(centroids.assign(means), cluster_labels.assign(centroid_group))\n",
    "# 초기화\n",
    "init = tf.global_variables_initializer()\n",
    "sess.run(init)"
   ]
  },
  {
   "cell_type": "code",
   "execution_count": 93,
   "metadata": {},
   "outputs": [
    {
     "name": "stdout",
     "output_type": "stream",
     "text": [
      "Calculating gen 0, out of 25\n",
      "Group counts : [29, 71, 50]\n",
      "Calculating gen 1, out of 25\n",
      "Group counts : [35, 65, 50]\n",
      "Calculating gen 2, out of 25\n",
      "Group counts : [39, 61, 50]\n",
      "Calculating gen 3, out of 25\n",
      "Group counts : [42, 58, 50]\n",
      "Calculating gen 4, out of 25\n",
      "Group counts : [47, 53, 50]\n",
      "Calculating gen 5, out of 25\n",
      "Group counts : [50, 50, 50]\n",
      "Calculating gen 6, out of 25\n",
      "Group counts : [54, 46, 50]\n",
      "Calculating gen 7, out of 25\n",
      "Group counts : [57, 43, 50]\n",
      "Calculating gen 8, out of 25\n",
      "Group counts : [60, 40, 50]\n",
      "Calculating gen 9, out of 25\n",
      "Group counts : [61, 39, 50]\n",
      "Calculating gen 10, out of 25\n",
      "Group counts : [61, 39, 50]\n",
      "Calculating gen 11, out of 25\n",
      "Group counts : [61, 39, 50]\n",
      "Calculating gen 12, out of 25\n",
      "Group counts : [61, 39, 50]\n",
      "Calculating gen 13, out of 25\n",
      "Group counts : [61, 39, 50]\n",
      "Calculating gen 14, out of 25\n",
      "Group counts : [61, 39, 50]\n",
      "Calculating gen 15, out of 25\n",
      "Group counts : [61, 39, 50]\n",
      "Calculating gen 16, out of 25\n",
      "Group counts : [61, 39, 50]\n",
      "Calculating gen 17, out of 25\n",
      "Group counts : [61, 39, 50]\n",
      "Calculating gen 18, out of 25\n",
      "Group counts : [61, 39, 50]\n",
      "Calculating gen 19, out of 25\n",
      "Group counts : [61, 39, 50]\n",
      "Calculating gen 20, out of 25\n",
      "Group counts : [61, 39, 50]\n",
      "Calculating gen 21, out of 25\n",
      "Group counts : [61, 39, 50]\n",
      "Calculating gen 22, out of 25\n",
      "Group counts : [61, 39, 50]\n",
      "Calculating gen 23, out of 25\n",
      "Group counts : [61, 39, 50]\n",
      "Calculating gen 24, out of 25\n",
      "Group counts : [61, 39, 50]\n"
     ]
    }
   ],
   "source": [
    "for i in range(generations):\n",
    "    print('Calculating gen {}, out of {}'.format(i, generations))\n",
    "    _, centroid_group_count = sess.run([update, centroid_group])\n",
    "    group_count = []\n",
    "    \n",
    "    for ix in range(k):\n",
    "        group_count.append(np.sum(centroid_group_count == ix))\n",
    "        \n",
    "    print('Group counts : {}'.format(group_count))\n",
    "    \n",
    "[centers, assignments] = sess.run([centroids, cluster_labels])"
   ]
  },
  {
   "cell_type": "code",
   "execution_count": 48,
   "metadata": {},
   "outputs": [
    {
     "name": "stdout",
     "output_type": "stream",
     "text": [
      "Accracy : 0.89\n"
     ]
    }
   ],
   "source": [
    "def most_common(my_list):\n",
    "    return (max(set(my_list), key = my_list.count))\n",
    "\n",
    "label0 = most_common(list(assignments[0:50])) # 라벨링\n",
    "label1 = most_common(list(assignments[50:100]))\n",
    "label2 = most_common(list(assignments[100:150]))\n",
    "\n",
    "group0_count = np.sum(assignments[0:50] == label0)\n",
    "group1_count = np.sum(assignments[50:100] == label1)\n",
    "group2_count = np.sum(assignments[100:150] == label2)\n",
    "\n",
    "accracy = (group0_count + group1_count + group2_count)/ 150\n",
    "print('Accracy : {:.2f}'.format(accracy)) # "
   ]
  },
  {
   "cell_type": "markdown",
   "metadata": {},
   "source": [
    "# CNN"
   ]
  },
  {
   "cell_type": "code",
   "execution_count": 130,
   "metadata": {},
   "outputs": [],
   "source": [
    "import os\n",
    "def save_fig(fig_id, tight_layout=True):\n",
    "    path = os.path.join('./images/', fig_id + '.png')\n",
    "    print('Saving figure', fig_id)\n",
    "    if tight_layout:\n",
    "        plt.tilght_layout()\n",
    "    plt.savefig(path, format='png', dpi=3000) # dot per indch"
   ]
  },
  {
   "cell_type": "code",
   "execution_count": 131,
   "metadata": {},
   "outputs": [],
   "source": [
    "def reset_graph(seed=42):\n",
    "    tf.reset_default_graph()\n",
    "    tf.set_random_seed(seed)\n",
    "    np.random.seed(seed)"
   ]
  },
  {
   "cell_type": "code",
   "execution_count": 132,
   "metadata": {},
   "outputs": [],
   "source": [
    "from sklearn.datasets import load_sample_image\n",
    "china = load_sample_image('china.jpg')\n",
    "\n",
    "# 70(높이 : 행), 120(가로:열)\n",
    "image = china[150:220, 130:250] # clipping\n",
    "height, width, channels = image.shape\n",
    "\n",
    "# 0 ~255\n",
    "# axis = 2 : channels => 컬러 3개의 컬러가있는 값들을 평균내서 2차원으로 만듬\n",
    "image_grayscale = image.mean(axis=2).astype(np.float32)\n",
    "# 다시 차원을 늘려준다.? 왜????\n",
    "images = image_grayscale.reshape(1,height, width, 1)"
   ]
  },
  {
   "cell_type": "code",
   "execution_count": 133,
   "metadata": {},
   "outputs": [],
   "source": [
    "# 흑백\n",
    "def plot_image(image):\n",
    "    plt.imshow(image, cmap='gray', interpolation='nearest') # 보간법\n",
    "    plt.axis('off') # 이미니축생략\n",
    "    \n",
    "# 컬러\n",
    "def plot_color_image(image):\n",
    "    plt.imshow(image.astype(np.unit8), interpolation='nearest')\n",
    "    plt.axis('off')\n",
    "# unit8 : 0~255\n",
    "# 양수만 표현이 가능함\n",
    "# 2^8개수 만큼 표현이 가능"
   ]
  },
  {
   "cell_type": "code",
   "execution_count": 134,
   "metadata": {},
   "outputs": [
    {
     "data": {
      "text/plain": [
       "array([[0., 0., 0., 0., 0., 0., 0.],\n",
       "       [0., 0., 0., 0., 0., 0., 0.],\n",
       "       [2., 2., 2., 2., 2., 2., 2.],\n",
       "       [1., 1., 1., 1., 1., 1., 1.],\n",
       "       [0., 0., 0., 0., 0., 0., 0.],\n",
       "       [0., 0., 0., 0., 0., 0., 0.],\n",
       "       [0., 0., 0., 0., 0., 0., 0.]], dtype=float32)"
      ]
     },
     "execution_count": 134,
     "metadata": {},
     "output_type": "execute_result"
    }
   ],
   "source": [
    "# 필터 (필터의 높이, 필터의 가로, 입력 채널, 출력 채널)\n",
    "# 필터 2개 \n",
    "import numpy as np\n",
    "fmap = np.zeros(shape=(7,7,1,2), dtype=np.float32)\n",
    "fmap[:,3,0,0]=1\n",
    "fmap[3,:,0,1]=1\n",
    "fmap[:,2,0,0]=2\n",
    "fmap[2,:,0,1]=2\n",
    "fmap[:,:,0,1]"
   ]
  },
  {
   "cell_type": "code",
   "execution_count": 135,
   "metadata": {},
   "outputs": [
    {
     "name": "stdout",
     "output_type": "stream",
     "text": [
      "[[0. 0. 2. 1. 0. 0. 0.]\n",
      " [0. 0. 2. 1. 0. 0. 0.]\n",
      " [0. 0. 2. 1. 0. 0. 0.]\n",
      " [0. 0. 2. 1. 0. 0. 0.]\n",
      " [0. 0. 2. 1. 0. 0. 0.]\n",
      " [0. 0. 2. 1. 0. 0. 0.]\n",
      " [0. 0. 2. 1. 0. 0. 0.]]\n"
     ]
    },
    {
     "data": {
      "image/png": "[encoded data removed]",
      "text/plain": [
       "<Figure size 432x288 with 1 Axes>"
      ]
     },
     "metadata": {
      "needs_background": "light"
     },
     "output_type": "display_data"
    },
    {
     "name": "stdout",
     "output_type": "stream",
     "text": [
      "[[0. 0. 0. 0. 0. 0. 0.]\n",
      " [0. 0. 0. 0. 0. 0. 0.]\n",
      " [2. 2. 2. 2. 2. 2. 2.]\n",
      " [1. 1. 1. 1. 1. 1. 1.]\n",
      " [0. 0. 0. 0. 0. 0. 0.]\n",
      " [0. 0. 0. 0. 0. 0. 0.]\n",
      " [0. 0. 0. 0. 0. 0. 0.]]\n"
     ]
    },
    {
     "data": {
      "image/png": "[encoded data removed]",
      "text/plain": [
       "<Figure size 432x288 with 1 Axes>"
      ]
     },
     "metadata": {
      "needs_background": "light"
     },
     "output_type": "display_data"
    }
   ],
   "source": [
    "plot_image(fmap[:,:,0,0])\n",
    "print(fmap[:,:,0,0])\n",
    "plt.show()\n",
    "plot_image(fmap[:,:,0,1])\n",
    "print(fmap[:,:,0,1])\n",
    "plt.show()\n",
    "\n"
   ]
  },
  {
   "cell_type": "code",
   "execution_count": 136,
   "metadata": {},
   "outputs": [],
   "source": [
    "reset_graph()\n",
    "# 장수, 높이, 가로, 채넣수\n",
    "X = tf.placeholder(tf.float32, shape=(None, height, width, 1))\n",
    "feature_maps = tf.constant(fmap) # 필터를 상수로\n",
    "\n",
    "# convolution은 1d(text), 2d(image), 3d(동영상)\n",
    "# 패딩 : SAME\n",
    "# convolution, filter, padding, strides\n",
    "# 70x120 => 70x120 => padding이 SAME\n",
    "# 64x114 => padding이 SAME이 아니라면 70-7+1 = 64\n",
    "# padding : SAME, VALID\n",
    "\n",
    "convolution = tf.nn.conv2d(X,feature_maps, strides=[1,1,1,1], padding='SAME', use_cudnn_on_gpu=False)\n",
    "# pooling은 별도로 진행"
   ]
  },
  {
   "cell_type": "code",
   "execution_count": 137,
   "metadata": {},
   "outputs": [
    {
     "data": {
      "text/plain": [
       "<tf.Tensor 'Const:0' shape=(7, 7, 1, 2) dtype=float32>"
      ]
     },
     "execution_count": 137,
     "metadata": {},
     "output_type": "execute_result"
    }
   ],
   "source": [
    "feature_maps"
   ]
  },
  {
   "cell_type": "code",
   "execution_count": 138,
   "metadata": {},
   "outputs": [],
   "source": [
    "with tf.Session() as sess:\n",
    "    output = convolution.eval(feed_dict = {X:images})"
   ]
  },
  {
   "cell_type": "code",
   "execution_count": 139,
   "metadata": {},
   "outputs": [
    {
     "name": "stdout",
     "output_type": "stream",
     "text": [
      "Saving figure china_original\n"
     ]
    },
    {
     "data": {
      "image/png": "[encoded data removed]",
      "text/plain": [
       "<Figure size 432x288 with 1 Axes>"
      ]
     },
     "metadata": {
      "needs_background": "light"
     },
     "output_type": "display_data"
    }
   ],
   "source": [
    "plot_image(images[0,:,:,0])\n",
    "save_fig('china_original', tight_layout=False)\n",
    "plt.show()"
   ]
  },
  {
   "cell_type": "code",
   "execution_count": 140,
   "metadata": {},
   "outputs": [
    {
     "name": "stdout",
     "output_type": "stream",
     "text": [
      "Saving figure china_vertical\n"
     ]
    },
    {
     "data": {
      "image/png": "[encoded data removed]",
      "text/plain": [
       "<Figure size 432x288 with 1 Axes>"
      ]
     },
     "metadata": {
      "needs_background": "light"
     },
     "output_type": "display_data"
    }
   ],
   "source": [
    "# 2장의 이미지 : 필터가 다르면 특성도 다르게 잡힌다.\n",
    "plot_image(output[0,:,:,0]) # 0번 필터 적용 : 세로줄\n",
    "save_fig('china_vertical', tight_layout=False)\n",
    "plt.show()"
   ]
  },
  {
   "cell_type": "code",
   "execution_count": 143,
   "metadata": {
    "scrolled": true
   },
   "outputs": [
    {
     "name": "stdout",
     "output_type": "stream",
     "text": [
      "Saving figure china_horizonral\n"
     ]
    },
    {
     "data": {
      "image/png": "[encoded data removed]",
      "text/plain": [
       "<Figure size 432x288 with 1 Axes>"
      ]
     },
     "metadata": {
      "needs_background": "light"
     },
     "output_type": "display_data"
    }
   ],
   "source": [
    "plot_image(output[0,:,:,1])\n",
    "save_fig('china_horizonral', tight_layout=False)\n",
    "plt.show()"
   ]
  },
  {
   "cell_type": "code",
   "execution_count": null,
   "metadata": {},
   "outputs": [],
   "source": []
  },
  {
   "cell_type": "code",
   "execution_count": null,
   "metadata": {},
   "outputs": [],
   "source": []
  },
  {
   "cell_type": "code",
   "execution_count": null,
   "metadata": {},
   "outputs": [],
   "source": []
  },
  {
   "cell_type": "code",
   "execution_count": null,
   "metadata": {},
   "outputs": [],
   "source": []
  },
  {
   "cell_type": "code",
   "execution_count": null,
   "metadata": {},
   "outputs": [],
   "source": []
  },
  {
   "cell_type": "code",
   "execution_count": null,
   "metadata": {},
   "outputs": [],
   "source": []
  },
  {
   "cell_type": "code",
   "execution_count": null,
   "metadata": {},
   "outputs": [],
   "source": []
  },
  {
   "cell_type": "code",
   "execution_count": null,
   "metadata": {},
   "outputs": [],
   "source": []
  },
  {
   "cell_type": "code",
   "execution_count": null,
   "metadata": {},
   "outputs": [],
   "source": []
  },
  {
   "cell_type": "code",
   "execution_count": null,
   "metadata": {},
   "outputs": [],
   "source": []
  },
  {
   "cell_type": "code",
   "execution_count": null,
   "metadata": {},
   "outputs": [],
   "source": []
  },
  {
   "cell_type": "code",
   "execution_count": null,
   "metadata": {},
   "outputs": [],
   "source": []
  },
  {
   "cell_type": "code",
   "execution_count": null,
   "metadata": {},
   "outputs": [],
   "source": []
  },
  {
   "cell_type": "code",
   "execution_count": null,
   "metadata": {},
   "outputs": [],
   "source": []
  },
  {
   "cell_type": "code",
   "execution_count": null,
   "metadata": {},
   "outputs": [],
   "source": []
  },
  {
   "cell_type": "code",
   "execution_count": null,
   "metadata": {},
   "outputs": [],
   "source": []
  }
 ],
 "metadata": {
  "kernelspec": {
   "display_name": "Python 3",
   "language": "python",
   "name": "python3"
  },
  "language_info": {
   "codemirror_mode": {
    "name": "ipython",
    "version": 3
   },
   "file_extension": ".py",
   "mimetype": "text/x-python",
   "name": "python",
   "nbconvert_exporter": "python",
   "pygments_lexer": "ipython3",
   "version": "3.7.4"
  }
 },
 "nbformat": 4,
 "nbformat_minor": 2
}
