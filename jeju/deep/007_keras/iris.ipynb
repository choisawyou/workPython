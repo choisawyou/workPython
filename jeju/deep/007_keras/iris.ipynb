{
 "cells": [
  {
   "cell_type": "code",
   "execution_count": 118,
   "metadata": {},
   "outputs": [],
   "source": [
    "# 숙제()\n",
    "# - iris.csv 데이터를 로딩한 다음\n",
    "# - qnsfb망을 구성하시요\n",
    "# - parameter tuning을 구현하시요(pipeline 사용도 함께)"
   ]
  },
  {
   "cell_type": "code",
   "execution_count": 146,
   "metadata": {},
   "outputs": [],
   "source": [
    "from keras.models import Sequential\n",
    "from keras.layers import Dense\n",
    "from keras.wrappers.scikit_learn import KerasClassifier\n",
    "from keras.utils import np_utils\n",
    "from sklearn.model_selection import cross_val_score\n",
    "from sklearn.model_selection import KFold\n",
    "from sklearn.preprocessing import LabelEncoder\n",
    "from sklearn.pipeline import Pipeline\n",
    "from sklearn.model_selection import train_test_split\n",
    "import pandas as pd"
   ]
  },
  {
   "cell_type": "code",
   "execution_count": 135,
   "metadata": {},
   "outputs": [],
   "source": [
    "dataframe = pd.read_csv('iris.csv', header=None)\n",
    "dataset = dataframe.values\n",
    "X = dataset[1:,0:4].astype(float)\n",
    "y = dataset[1:,4]"
   ]
  },
  {
   "cell_type": "code",
   "execution_count": 136,
   "metadata": {},
   "outputs": [],
   "source": [
    "encoder = LabelEncoder()\n",
    "encoder.fit(y)\n",
    "encoded_y = encoder.transform(y)\n",
    "\n",
    "Y = np_utils.to_categorical(encoded_y)"
   ]
  },
  {
   "cell_type": "code",
   "execution_count": 147,
   "metadata": {},
   "outputs": [],
   "source": [
    "X_train, X_test,Y_train, Y_test = train_test_split(X,Y)"
   ]
  },
  {
   "cell_type": "code",
   "execution_count": 137,
   "metadata": {},
   "outputs": [],
   "source": [
    "def baseline_model():\n",
    "    model = Sequential()\n",
    "    model.add(Dense(8, input_dim=4, activation='relu'))\n",
    "    model.add(Dense(3, activation='softmax'))\n",
    "    model.compile(loss='categorical_crossentropy', optimizer='adam', metrics=['accuracy'])\n",
    "    return model"
   ]
  },
  {
   "cell_type": "code",
   "execution_count": 138,
   "metadata": {},
   "outputs": [],
   "source": [
    "estimators = []\n",
    "estimators.append(('standardize', StandardScaler()))\n",
    "estimators.append(('mlp',KerasClassifier(build_fn=baseline_model,verbose=0)))\n",
    "pipeline = Pipeline(estimators)\n",
    "# kfold = KFold(n_splits=10, shuffle=True)\n",
    "# results = cross_val_score(pipeline, X, Y, cv=kfold)\n",
    "# print(\"Baseline: %.2f%% (%.2f%%)\" % (results.mean()*100, results.std()*100))"
   ]
  },
  {
   "cell_type": "code",
   "execution_count": 142,
   "metadata": {},
   "outputs": [
    {
     "name": "stderr",
     "output_type": "stream",
     "text": [
      "C:\\ProgramData\\Anaconda3\\lib\\site-packages\\joblib\\externals\\loky\\process_executor.py:706: UserWarning: A worker stopped while some jobs were given to the executor. This can be caused by a too short worker timeout or by a memory leak.\n",
      "  \"timeout or by a memory leak.\", UserWarning\n"
     ]
    },
    {
     "name": "stdout",
     "output_type": "stream",
     "text": [
      "0.77333, (0.09043) with : {'mlp__batch_size': 5, 'mlp__epochs': 10}\n",
      "0.90667, (0.06799) with : {'mlp__batch_size': 5, 'mlp__epochs': 50}\n",
      "0.96000, (0.04422) with : {'mlp__batch_size': 5, 'mlp__epochs': 100}\n",
      "0.95333, (0.05207) with : {'mlp__batch_size': 5, 'mlp__epochs': 150}\n",
      "0.96667, (0.04472) with : {'mlp__batch_size': 5, 'mlp__epochs': 200}\n",
      "0.96667, (0.04472) with : {'mlp__batch_size': 5, 'mlp__epochs': 250}\n",
      "0.58000, (0.20011) with : {'mlp__batch_size': 10, 'mlp__epochs': 10}\n",
      "0.87333, (0.06960) with : {'mlp__batch_size': 10, 'mlp__epochs': 50}\n",
      "0.93333, (0.05164) with : {'mlp__batch_size': 10, 'mlp__epochs': 100}\n",
      "0.97333, (0.04422) with : {'mlp__batch_size': 10, 'mlp__epochs': 150}\n",
      "0.96667, (0.04472) with : {'mlp__batch_size': 10, 'mlp__epochs': 200}\n",
      "0.96667, (0.04472) with : {'mlp__batch_size': 10, 'mlp__epochs': 250}\n",
      "0.51333, (0.18148) with : {'mlp__batch_size': 20, 'mlp__epochs': 10}\n",
      "0.86000, (0.09165) with : {'mlp__batch_size': 20, 'mlp__epochs': 50}\n",
      "0.90667, (0.06110) with : {'mlp__batch_size': 20, 'mlp__epochs': 100}\n",
      "0.93333, (0.07888) with : {'mlp__batch_size': 20, 'mlp__epochs': 150}\n",
      "0.96667, (0.04472) with : {'mlp__batch_size': 20, 'mlp__epochs': 200}\n",
      "0.95333, (0.05207) with : {'mlp__batch_size': 20, 'mlp__epochs': 250}\n",
      "0.55333, (0.21510) with : {'mlp__batch_size': 40, 'mlp__epochs': 10}\n",
      "0.77333, (0.11624) with : {'mlp__batch_size': 40, 'mlp__epochs': 50}\n",
      "0.82667, (0.08537) with : {'mlp__batch_size': 40, 'mlp__epochs': 100}\n",
      "0.91333, (0.07333) with : {'mlp__batch_size': 40, 'mlp__epochs': 150}\n",
      "0.94000, (0.06289) with : {'mlp__batch_size': 40, 'mlp__epochs': 200}\n",
      "0.94667, (0.04989) with : {'mlp__batch_size': 40, 'mlp__epochs': 250}\n",
      "0.39333, (0.20966) with : {'mlp__batch_size': 60, 'mlp__epochs': 10}\n",
      "0.77333, (0.14967) with : {'mlp__batch_size': 60, 'mlp__epochs': 50}\n",
      "0.84000, (0.09978) with : {'mlp__batch_size': 60, 'mlp__epochs': 100}\n",
      "0.86667, (0.07303) with : {'mlp__batch_size': 60, 'mlp__epochs': 150}\n",
      "0.86667, (0.10328) with : {'mlp__batch_size': 60, 'mlp__epochs': 200}\n",
      "0.89333, (0.07424) with : {'mlp__batch_size': 60, 'mlp__epochs': 250}\n",
      "0.38667, (0.25087) with : {'mlp__batch_size': 80, 'mlp__epochs': 10}\n",
      "0.56000, (0.15549) with : {'mlp__batch_size': 80, 'mlp__epochs': 50}\n",
      "0.78000, (0.08459) with : {'mlp__batch_size': 80, 'mlp__epochs': 100}\n",
      "0.86667, (0.09428) with : {'mlp__batch_size': 80, 'mlp__epochs': 150}\n",
      "0.87333, (0.06289) with : {'mlp__batch_size': 80, 'mlp__epochs': 200}\n",
      "0.88667, (0.07916) with : {'mlp__batch_size': 80, 'mlp__epochs': 250}\n",
      "0.56667, (0.17951) with : {'mlp__batch_size': 100, 'mlp__epochs': 10}\n",
      "0.69333, (0.18667) with : {'mlp__batch_size': 100, 'mlp__epochs': 50}\n",
      "0.71333, (0.13679) with : {'mlp__batch_size': 100, 'mlp__epochs': 100}\n",
      "0.85333, (0.05812) with : {'mlp__batch_size': 100, 'mlp__epochs': 150}\n",
      "0.84000, (0.10414) with : {'mlp__batch_size': 100, 'mlp__epochs': 200}\n",
      "0.88667, (0.05207) with : {'mlp__batch_size': 100, 'mlp__epochs': 250}\n",
      "최적 스코어 : 0.9733333349227905, 사용한 파라미터 조합 : {'mlp__batch_size': 10, 'mlp__epochs': 150}\n"
     ]
    }
   ],
   "source": [
    "batch_size = [5,10,20,40,60,80,100]\n",
    "epochs=[10,50,100, 150, 200,250]\n",
    "param_grid = {'mlp__batch_size' : batch_size, 'mlp__epochs':epochs}\n",
    "\n",
    "kfold = KFold(n_splits=10, shuffle=True)\n",
    "# results = cross_val_score(pipeline, X, Y, cv=kfold)\n",
    "\n",
    "grid = GridSearchCV(estimator=pipeline, param_grid=param_grid,n_jobs=-1, cv=kfold)\n",
    "grid_result = grid.fit(X,Y)\n",
    "\n",
    "means = grid_result.cv_results_['mean_test_score']\n",
    "stds = grid_result.cv_results_['std_test_score']\n",
    "params = grid_result.cv_results_['params']\n",
    "\n",
    "for mean, stdev, param in zip(means, stds, params):\n",
    "    print('{:.5f}, ({:.5f}) with : {}'.format(mean, stdev, param))\n",
    "    \n",
    "print('최적 스코어 : {}, 사용한 파라미터 조합 : {}'.format(grid_result.best_score_,grid_result.best_params_))"
   ]
  },
  {
   "cell_type": "code",
   "execution_count": 145,
   "metadata": {},
   "outputs": [
    {
     "data": {
      "text/plain": [
       "array([2, 1, 2, 0, 0, 0, 0, 2, 1, 0, 1, 1, 0, 0, 2, 1, 2, 2, 2, 0, 2, 2,\n",
       "       0, 1, 2, 0, 1, 2, 1, 2, 1, 1, 1, 2, 2, 2, 2, 2, 0, 0, 2, 2, 2, 0,\n",
       "       0, 2, 0, 2, 0, 2, 0, 1, 1, 0, 1, 2, 2, 2, 2, 1, 1, 2, 2, 2, 1, 2,\n",
       "       0, 2, 2, 0, 0, 1, 0, 2, 2, 0, 1, 1, 1, 2, 0, 1, 1, 1, 2, 0, 1, 1,\n",
       "       2, 0, 2, 1, 0, 0, 2, 0, 0, 2, 2, 0, 0, 1, 0, 1, 0, 0, 0, 0, 1, 0,\n",
       "       2, 1, 0, 2, 0, 1, 1, 0, 0, 1, 1, 2, 0, 1, 1, 1, 0, 1, 1, 2, 2, 0,\n",
       "       2, 1, 1, 0, 1, 0, 0, 2, 0, 1, 2, 1, 1, 1, 0, 1, 2, 1])"
      ]
     },
     "execution_count": 145,
     "metadata": {},
     "output_type": "execute_result"
    }
   ],
   "source": [
    "grid_result.predict(X)"
   ]
  },
  {
   "cell_type": "code",
   "execution_count": null,
   "metadata": {},
   "outputs": [],
   "source": []
  },
  {
   "cell_type": "code",
   "execution_count": null,
   "metadata": {},
   "outputs": [],
   "source": []
  },
  {
   "cell_type": "code",
   "execution_count": null,
   "metadata": {},
   "outputs": [],
   "source": []
  }
 ],
 "metadata": {
  "kernelspec": {
   "display_name": "Python 3",
   "language": "python",
   "name": "python3"
  },
  "language_info": {
   "codemirror_mode": {
    "name": "ipython",
    "version": 3
   },
   "file_extension": ".py",
   "mimetype": "text/x-python",
   "name": "python",
   "nbconvert_exporter": "python",
   "pygments_lexer": "ipython3",
   "version": "3.7.4"
  }
 },
 "nbformat": 4,
 "nbformat_minor": 2
}
