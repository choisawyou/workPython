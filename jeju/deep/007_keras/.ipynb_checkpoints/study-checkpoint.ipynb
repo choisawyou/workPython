{
 "cells": [
  {
   "cell_type": "markdown",
   "metadata": {},
   "source": [
    "# 회귀"
   ]
  },
  {
   "cell_type": "code",
   "execution_count": 33,
   "metadata": {},
   "outputs": [
    {
     "data": {
      "text/plain": [
       "MinMaxScaler(copy=True, feature_range=(0, 1))"
      ]
     },
     "execution_count": 33,
     "metadata": {},
     "output_type": "execute_result"
    }
   ],
   "source": [
    "from keras.models import Sequential # sequential - >models 서브패키지\n",
    "from keras.layers import Dense # layers에서 모델 구성을 한다. Dense등\n",
    "from sklearn.datasets import make_regression\n",
    "# 신경망에서는 정규화를 해야한다.\n",
    "from sklearn.preprocessing import MinMaxScaler\n",
    "\n",
    "X , Y = make_regression(n_samples=100, n_features=2, noise=0.1, random_state=1)\n",
    "\n",
    "# 민맥스 2개를 만드는이유 : 데이터 사이즈가 다르기 때문에(값의 범위가 다르다.)\n",
    "scalarX, scalarY = MinMaxScaler(), MinMaxScaler()\n",
    "scalarX.fit(X)\n",
    "scalarY.fit(Y.reshape(100,1))"
   ]
  },
  {
   "cell_type": "code",
   "execution_count": 34,
   "metadata": {},
   "outputs": [
    {
     "data": {
      "text/plain": [
       "<keras.callbacks.callbacks.History at 0x219a9caaf48>"
      ]
     },
     "execution_count": 34,
     "metadata": {},
     "output_type": "execute_result"
    }
   ],
   "source": [
    "# keras모델 시작\n",
    "model = Sequential()\n",
    "# Dense에 출력 차수만 입력해주면 가중치를 알아서 만들어 준다.\n",
    "# 100x2, 2z4 => 100x4\n",
    "model.add(Dense(4, input_dim=2, activation='relu'))\n",
    "# 100x4, 4x4 => 100x4\n",
    "model.add(Dense(4, activation='relu'))\n",
    "# 100x4, 4x1 => 100x1(100x1로 예측)\n",
    "model.add(Dense(1, activation='relu'))\n",
    "\n",
    "# 모델을 만들어두고, compile하는것은?\n",
    "# backend가 tensorflow이기 때문에\n",
    "# 즉, tensorflow로 바꿔주는 것이 compile\n",
    "# compile 사용하면 간단하게 loss, optimizer동시에 사용가능\n",
    "model.compile(loss='mse', optimizer='adam')\n",
    "# loss함수 : 회귀일땐 mse, 분류일땐 entropy, gan에서는 KL-divergence(이건 분포를 비교)\n",
    "\n",
    "# tensorflow에서는 이중for문을 쓴것이다.\n",
    "# epoch와 minibatch를 한번에 쓴것이 fit이다.\n",
    "model.fit(X,Y, epochs=1000, verbose=0)"
   ]
  },
  {
   "cell_type": "code",
   "execution_count": 36,
   "metadata": {},
   "outputs": [
    {
     "name": "stdout",
     "output_type": "stream",
     "text": [
      "입력데이터=[0.29466096 0.30317302], 예측결과=[0.]\n",
      "입력데이터=[0.39445118 0.79390858], 예측결과=[0.]\n",
      "입력데이터=[0.02884127 0.6208843 ], 예측결과=[0.]\n"
     ]
    }
   ],
   "source": [
    "Xnew, a = make_regression(n_samples=3, n_features=2, noise=0.1, random_state=1)\n",
    "Xnew = scalarX.transform(Xnew)\n",
    "ynew = model.predict(Xnew)\n",
    "for i in range(len(Xnew)):\n",
    "    print('입력데이터=%s, 예측결과=%s' % (Xnew[i], ynew[i]))\n",
    "    "
   ]
  },
  {
   "cell_type": "markdown",
   "metadata": {},
   "source": [
    "# 분류 2개"
   ]
  },
  {
   "cell_type": "code",
   "execution_count": 50,
   "metadata": {},
   "outputs": [
    {
     "name": "stdout",
     "output_type": "stream",
     "text": [
      "(768, 8)\n",
      "['loss', 'accuracy']\n"
     ]
    }
   ],
   "source": [
    "print(X.shape)\n",
    "print(model.metrics_names)"
   ]
  },
  {
   "cell_type": "code",
   "execution_count": 48,
   "metadata": {},
   "outputs": [
    {
     "name": "stdout",
     "output_type": "stream",
     "text": [
      "Epoch 1/150\n",
      "768/768 [==============================] - 0s 370us/step - loss: 3.1753 - accuracy: 0.5820\n",
      "Epoch 2/150\n",
      "768/768 [==============================] - 0s 305us/step - loss: 0.9557 - accuracy: 0.5729\n",
      "Epoch 3/150\n",
      "768/768 [==============================] - 0s 116us/step - loss: 0.7631 - accuracy: 0.6315\n",
      "Epoch 4/150\n",
      "768/768 [==============================] - 0s 125us/step - loss: 0.7226 - accuracy: 0.6471\n",
      "Epoch 5/150\n",
      "768/768 [==============================] - 0s 136us/step - loss: 0.6941 - accuracy: 0.6732\n",
      "Epoch 6/150\n",
      "768/768 [==============================] - 0s 161us/step - loss: 0.6683 - accuracy: 0.6836\n",
      "Epoch 7/150\n",
      "768/768 [==============================] - 0s 127us/step - loss: 0.6628 - accuracy: 0.6719\n",
      "Epoch 8/150\n",
      "768/768 [==============================] - 0s 123us/step - loss: 0.6483 - accuracy: 0.6836\n",
      "Epoch 9/150\n",
      "768/768 [==============================] - 0s 122us/step - loss: 0.6346 - accuracy: 0.7018\n",
      "Epoch 10/150\n",
      "768/768 [==============================] - 0s 116us/step - loss: 0.6429 - accuracy: 0.6797\n",
      "Epoch 11/150\n",
      "768/768 [==============================] - 0s 151us/step - loss: 0.6564 - accuracy: 0.6732\n",
      "Epoch 12/150\n",
      "768/768 [==============================] - 0s 149us/step - loss: 0.6524 - accuracy: 0.6641\n",
      "Epoch 13/150\n",
      "768/768 [==============================] - 0s 148us/step - loss: 0.6322 - accuracy: 0.6836\n",
      "Epoch 14/150\n",
      "768/768 [==============================] - 0s 143us/step - loss: 0.6219 - accuracy: 0.7005\n",
      "Epoch 15/150\n",
      "768/768 [==============================] - 0s 131us/step - loss: 0.6021 - accuracy: 0.7083\n",
      "Epoch 16/150\n",
      "768/768 [==============================] - 0s 134us/step - loss: 0.5872 - accuracy: 0.7018\n",
      "Epoch 17/150\n",
      "768/768 [==============================] - 0s 152us/step - loss: 0.5818 - accuracy: 0.6992\n",
      "Epoch 18/150\n",
      "768/768 [==============================] - 0s 148us/step - loss: 0.5941 - accuracy: 0.6979\n",
      "Epoch 19/150\n",
      "768/768 [==============================] - 0s 149us/step - loss: 0.5751 - accuracy: 0.7031\n",
      "Epoch 20/150\n",
      "768/768 [==============================] - 0s 188us/step - loss: 0.5744 - accuracy: 0.7383\n",
      "Epoch 21/150\n",
      "768/768 [==============================] - 0s 138us/step - loss: 0.5654 - accuracy: 0.7188\n",
      "Epoch 22/150\n",
      "768/768 [==============================] - 0s 153us/step - loss: 0.5791 - accuracy: 0.7018\n",
      "Epoch 23/150\n",
      "768/768 [==============================] - 0s 144us/step - loss: 0.5710 - accuracy: 0.7135\n",
      "Epoch 24/150\n",
      "768/768 [==============================] - 0s 140us/step - loss: 0.5676 - accuracy: 0.7253\n",
      "Epoch 25/150\n",
      "768/768 [==============================] - 0s 140us/step - loss: 0.5557 - accuracy: 0.7448\n",
      "Epoch 26/150\n",
      "768/768 [==============================] - 0s 119us/step - loss: 0.5731 - accuracy: 0.7148\n",
      "Epoch 27/150\n",
      "768/768 [==============================] - 0s 114us/step - loss: 0.5568 - accuracy: 0.7214\n",
      "Epoch 28/150\n",
      "768/768 [==============================] - 0s 125us/step - loss: 0.5580 - accuracy: 0.7214\n",
      "Epoch 29/150\n",
      "768/768 [==============================] - 0s 173us/step - loss: 0.5779 - accuracy: 0.7188\n",
      "Epoch 30/150\n",
      "768/768 [==============================] - 0s 147us/step - loss: 0.5625 - accuracy: 0.7214\n",
      "Epoch 31/150\n",
      "768/768 [==============================] - 0s 166us/step - loss: 0.5719 - accuracy: 0.7135\n",
      "Epoch 32/150\n",
      "768/768 [==============================] - 0s 160us/step - loss: 0.5673 - accuracy: 0.7161\n",
      "Epoch 33/150\n",
      "768/768 [==============================] - 0s 143us/step - loss: 0.5552 - accuracy: 0.7135\n",
      "Epoch 34/150\n",
      "768/768 [==============================] - 0s 141us/step - loss: 0.5544 - accuracy: 0.7253\n",
      "Epoch 35/150\n",
      "768/768 [==============================] - 0s 151us/step - loss: 0.5558 - accuracy: 0.7201\n",
      "Epoch 36/150\n",
      "768/768 [==============================] - 0s 144us/step - loss: 0.5640 - accuracy: 0.7148\n",
      "Epoch 37/150\n",
      "768/768 [==============================] - 0s 155us/step - loss: 0.5351 - accuracy: 0.7331\n",
      "Epoch 38/150\n",
      "768/768 [==============================] - 0s 135us/step - loss: 0.5450 - accuracy: 0.7240\n",
      "Epoch 39/150\n",
      "768/768 [==============================] - 0s 114us/step - loss: 0.5524 - accuracy: 0.7188\n",
      "Epoch 40/150\n",
      "768/768 [==============================] - 0s 117us/step - loss: 0.5500 - accuracy: 0.7214\n",
      "Epoch 41/150\n",
      "768/768 [==============================] - 0s 116us/step - loss: 0.5485 - accuracy: 0.7279\n",
      "Epoch 42/150\n",
      "768/768 [==============================] - 0s 126us/step - loss: 0.5413 - accuracy: 0.7292\n",
      "Epoch 43/150\n",
      "768/768 [==============================] - 0s 118us/step - loss: 0.5364 - accuracy: 0.7357\n",
      "Epoch 44/150\n",
      "768/768 [==============================] - 0s 121us/step - loss: 0.5400 - accuracy: 0.7422\n",
      "Epoch 45/150\n",
      "768/768 [==============================] - 0s 119us/step - loss: 0.5366 - accuracy: 0.7591\n",
      "Epoch 46/150\n",
      "768/768 [==============================] - 0s 126us/step - loss: 0.5292 - accuracy: 0.7435\n",
      "Epoch 47/150\n",
      "768/768 [==============================] - 0s 118us/step - loss: 0.5375 - accuracy: 0.7344\n",
      "Epoch 48/150\n",
      "768/768 [==============================] - 0s 155us/step - loss: 0.5387 - accuracy: 0.7318\n",
      "Epoch 49/150\n",
      "768/768 [==============================] - 0s 138us/step - loss: 0.5384 - accuracy: 0.7474\n",
      "Epoch 50/150\n",
      "768/768 [==============================] - 0s 152us/step - loss: 0.5304 - accuracy: 0.7370\n",
      "Epoch 51/150\n",
      "768/768 [==============================] - 0s 147us/step - loss: 0.5329 - accuracy: 0.7448\n",
      "Epoch 52/150\n",
      "768/768 [==============================] - 0s 127us/step - loss: 0.5404 - accuracy: 0.7305\n",
      "Epoch 53/150\n",
      "768/768 [==============================] - 0s 131us/step - loss: 0.5398 - accuracy: 0.7396\n",
      "Epoch 54/150\n",
      "768/768 [==============================] - 0s 125us/step - loss: 0.5440 - accuracy: 0.7344\n",
      "Epoch 55/150\n",
      "768/768 [==============================] - 0s 121us/step - loss: 0.5227 - accuracy: 0.7474\n",
      "Epoch 56/150\n",
      "768/768 [==============================] - 0s 129us/step - loss: 0.5326 - accuracy: 0.7409\n",
      "Epoch 57/150\n",
      "768/768 [==============================] - 0s 160us/step - loss: 0.5370 - accuracy: 0.7409\n",
      "Epoch 58/150\n",
      "768/768 [==============================] - 0s 123us/step - loss: 0.5279 - accuracy: 0.7500\n",
      "Epoch 59/150\n",
      "768/768 [==============================] - 0s 126us/step - loss: 0.5161 - accuracy: 0.7539\n",
      "Epoch 60/150\n",
      "768/768 [==============================] - 0s 129us/step - loss: 0.5387 - accuracy: 0.7383\n",
      "Epoch 61/150\n",
      "768/768 [==============================] - 0s 147us/step - loss: 0.5302 - accuracy: 0.7292\n",
      "Epoch 62/150\n",
      "768/768 [==============================] - 0s 123us/step - loss: 0.5219 - accuracy: 0.7461\n",
      "Epoch 63/150\n",
      "768/768 [==============================] - 0s 118us/step - loss: 0.5482 - accuracy: 0.7227\n",
      "Epoch 64/150\n",
      "768/768 [==============================] - 0s 121us/step - loss: 0.5403 - accuracy: 0.7383\n",
      "Epoch 65/150\n",
      "768/768 [==============================] - 0s 122us/step - loss: 0.5252 - accuracy: 0.7487\n",
      "Epoch 66/150\n",
      "768/768 [==============================] - 0s 125us/step - loss: 0.5122 - accuracy: 0.7396\n",
      "Epoch 67/150\n",
      "768/768 [==============================] - 0s 117us/step - loss: 0.5196 - accuracy: 0.7318\n",
      "Epoch 68/150\n",
      "768/768 [==============================] - 0s 126us/step - loss: 0.5206 - accuracy: 0.7500\n",
      "Epoch 69/150\n",
      "768/768 [==============================] - 0s 122us/step - loss: 0.5228 - accuracy: 0.7409\n",
      "Epoch 70/150\n",
      "768/768 [==============================] - 0s 121us/step - loss: 0.5377 - accuracy: 0.7227\n",
      "Epoch 71/150\n",
      "768/768 [==============================] - 0s 127us/step - loss: 0.5248 - accuracy: 0.7474\n",
      "Epoch 72/150\n",
      "768/768 [==============================] - 0s 123us/step - loss: 0.5202 - accuracy: 0.7500\n",
      "Epoch 73/150\n",
      "768/768 [==============================] - 0s 119us/step - loss: 0.5214 - accuracy: 0.7370\n",
      "Epoch 74/150\n",
      "768/768 [==============================] - 0s 122us/step - loss: 0.5184 - accuracy: 0.7578\n",
      "Epoch 75/150\n",
      "768/768 [==============================] - 0s 126us/step - loss: 0.5169 - accuracy: 0.7513\n",
      "Epoch 76/150\n",
      "768/768 [==============================] - 0s 116us/step - loss: 0.5169 - accuracy: 0.7500\n",
      "Epoch 77/150\n",
      "768/768 [==============================] - 0s 125us/step - loss: 0.5249 - accuracy: 0.7526\n",
      "Epoch 78/150\n",
      "768/768 [==============================] - 0s 145us/step - loss: 0.5185 - accuracy: 0.7643\n",
      "Epoch 79/150\n"
     ]
    },
    {
     "name": "stdout",
     "output_type": "stream",
     "text": [
      "768/768 [==============================] - 0s 114us/step - loss: 0.5168 - accuracy: 0.7487\n",
      "Epoch 80/150\n",
      "768/768 [==============================] - 0s 116us/step - loss: 0.5158 - accuracy: 0.7565\n",
      "Epoch 81/150\n",
      "768/768 [==============================] - 0s 123us/step - loss: 0.5111 - accuracy: 0.7604\n",
      "Epoch 82/150\n",
      "768/768 [==============================] - 0s 123us/step - loss: 0.5021 - accuracy: 0.7539\n",
      "Epoch 83/150\n",
      "768/768 [==============================] - 0s 118us/step - loss: 0.5044 - accuracy: 0.7552\n",
      "Epoch 84/150\n",
      "768/768 [==============================] - 0s 123us/step - loss: 0.4977 - accuracy: 0.7630\n",
      "Epoch 85/150\n",
      "768/768 [==============================] - 0s 129us/step - loss: 0.5060 - accuracy: 0.7448\n",
      "Epoch 86/150\n",
      "768/768 [==============================] - 0s 125us/step - loss: 0.5101 - accuracy: 0.7435\n",
      "Epoch 87/150\n",
      "768/768 [==============================] - 0s 112us/step - loss: 0.4991 - accuracy: 0.7539\n",
      "Epoch 88/150\n",
      "768/768 [==============================] - 0s 121us/step - loss: 0.5003 - accuracy: 0.7565\n",
      "Epoch 89/150\n",
      "768/768 [==============================] - 0s 122us/step - loss: 0.5043 - accuracy: 0.7747\n",
      "Epoch 90/150\n",
      "768/768 [==============================] - 0s 116us/step - loss: 0.5079 - accuracy: 0.7513\n",
      "Epoch 91/150\n",
      "768/768 [==============================] - 0s 119us/step - loss: 0.4987 - accuracy: 0.7513\n",
      "Epoch 92/150\n",
      "768/768 [==============================] - 0s 117us/step - loss: 0.5059 - accuracy: 0.7435\n",
      "Epoch 93/150\n",
      "768/768 [==============================] - 0s 120us/step - loss: 0.4966 - accuracy: 0.7591\n",
      "Epoch 94/150\n",
      "768/768 [==============================] - 0s 149us/step - loss: 0.4960 - accuracy: 0.7604\n",
      "Epoch 95/150\n",
      "768/768 [==============================] - 0s 129us/step - loss: 0.5078 - accuracy: 0.7357\n",
      "Epoch 96/150\n",
      "768/768 [==============================] - 0s 134us/step - loss: 0.4930 - accuracy: 0.7630\n",
      "Epoch 97/150\n",
      "768/768 [==============================] - 0s 121us/step - loss: 0.4923 - accuracy: 0.7760\n",
      "Epoch 98/150\n",
      "768/768 [==============================] - 0s 117us/step - loss: 0.4898 - accuracy: 0.7643\n",
      "Epoch 99/150\n",
      "768/768 [==============================] - 0s 125us/step - loss: 0.4908 - accuracy: 0.7695\n",
      "Epoch 100/150\n",
      "768/768 [==============================] - 0s 122us/step - loss: 0.4875 - accuracy: 0.7682\n",
      "Epoch 101/150\n",
      "768/768 [==============================] - 0s 129us/step - loss: 0.4852 - accuracy: 0.7682\n",
      "Epoch 102/150\n",
      "768/768 [==============================] - 0s 117us/step - loss: 0.5034 - accuracy: 0.7500\n",
      "Epoch 103/150\n",
      "768/768 [==============================] - 0s 125us/step - loss: 0.4951 - accuracy: 0.7565\n",
      "Epoch 104/150\n",
      "768/768 [==============================] - 0s 119us/step - loss: 0.4922 - accuracy: 0.7773\n",
      "Epoch 105/150\n",
      "768/768 [==============================] - 0s 118us/step - loss: 0.5238 - accuracy: 0.7461\n",
      "Epoch 106/150\n",
      "768/768 [==============================] - 0s 125us/step - loss: 0.4979 - accuracy: 0.7578\n",
      "Epoch 107/150\n",
      "768/768 [==============================] - 0s 119us/step - loss: 0.4958 - accuracy: 0.7721\n",
      "Epoch 108/150\n",
      "768/768 [==============================] - 0s 129us/step - loss: 0.5023 - accuracy: 0.7617\n",
      "Epoch 109/150\n",
      "768/768 [==============================] - 0s 144us/step - loss: 0.4854 - accuracy: 0.7630\n",
      "Epoch 110/150\n",
      "768/768 [==============================] - 0s 117us/step - loss: 0.4879 - accuracy: 0.7565\n",
      "Epoch 111/150\n",
      "768/768 [==============================] - 0s 117us/step - loss: 0.4817 - accuracy: 0.7695\n",
      "Epoch 112/150\n",
      "768/768 [==============================] - 0s 119us/step - loss: 0.4903 - accuracy: 0.7656\n",
      "Epoch 113/150\n",
      "768/768 [==============================] - 0s 114us/step - loss: 0.5011 - accuracy: 0.7513\n",
      "Epoch 114/150\n",
      "768/768 [==============================] - 0s 121us/step - loss: 0.4911 - accuracy: 0.7435\n",
      "Epoch 115/150\n",
      "768/768 [==============================] - 0s 113us/step - loss: 0.4908 - accuracy: 0.7656\n",
      "Epoch 116/150\n",
      "768/768 [==============================] - 0s 127us/step - loss: 0.4911 - accuracy: 0.7695\n",
      "Epoch 117/150\n",
      "768/768 [==============================] - 0s 134us/step - loss: 0.4906 - accuracy: 0.7669\n",
      "Epoch 118/150\n",
      "768/768 [==============================] - 0s 152us/step - loss: 0.4928 - accuracy: 0.7695\n",
      "Epoch 119/150\n",
      "768/768 [==============================] - 0s 132us/step - loss: 0.4880 - accuracy: 0.7708\n",
      "Epoch 120/150\n",
      "768/768 [==============================] - 0s 125us/step - loss: 0.4975 - accuracy: 0.7565\n",
      "Epoch 121/150\n",
      "768/768 [==============================] - 0s 132us/step - loss: 0.4979 - accuracy: 0.7708\n",
      "Epoch 122/150\n",
      "768/768 [==============================] - 0s 125us/step - loss: 0.4807 - accuracy: 0.7591\n",
      "Epoch 123/150\n",
      "768/768 [==============================] - 0s 125us/step - loss: 0.4882 - accuracy: 0.7617\n",
      "Epoch 124/150\n",
      "768/768 [==============================] - 0s 125us/step - loss: 0.4838 - accuracy: 0.7695\n",
      "Epoch 125/150\n",
      "768/768 [==============================] - 0s 123us/step - loss: 0.4815 - accuracy: 0.7812\n",
      "Epoch 126/150\n",
      "768/768 [==============================] - 0s 129us/step - loss: 0.4796 - accuracy: 0.7565\n",
      "Epoch 127/150\n",
      "768/768 [==============================] - 0s 118us/step - loss: 0.4911 - accuracy: 0.7539\n",
      "Epoch 128/150\n",
      "768/768 [==============================] - 0s 121us/step - loss: 0.4705 - accuracy: 0.7630\n",
      "Epoch 129/150\n",
      "768/768 [==============================] - 0s 116us/step - loss: 0.4852 - accuracy: 0.7682\n",
      "Epoch 130/150\n",
      "768/768 [==============================] - 0s 129us/step - loss: 0.4679 - accuracy: 0.7839\n",
      "Epoch 131/150\n",
      "768/768 [==============================] - 0s 129us/step - loss: 0.4807 - accuracy: 0.7682\n",
      "Epoch 132/150\n",
      "768/768 [==============================] - 0s 118us/step - loss: 0.4793 - accuracy: 0.7773\n",
      "Epoch 133/150\n",
      "768/768 [==============================] - 0s 131us/step - loss: 0.4801 - accuracy: 0.7643\n",
      "Epoch 134/150\n",
      "768/768 [==============================] - 0s 139us/step - loss: 0.4819 - accuracy: 0.7643\n",
      "Epoch 135/150\n",
      "768/768 [==============================] - 0s 140us/step - loss: 0.4701 - accuracy: 0.7695\n",
      "Epoch 136/150\n",
      "768/768 [==============================] - 0s 142us/step - loss: 0.4691 - accuracy: 0.7643\n",
      "Epoch 137/150\n",
      "768/768 [==============================] - 0s 148us/step - loss: 0.4661 - accuracy: 0.7734\n",
      "Epoch 138/150\n",
      "768/768 [==============================] - 0s 118us/step - loss: 0.4773 - accuracy: 0.7747\n",
      "Epoch 139/150\n",
      "768/768 [==============================] - 0s 147us/step - loss: 0.4710 - accuracy: 0.7773\n",
      "Epoch 140/150\n",
      "768/768 [==============================] - 0s 134us/step - loss: 0.4788 - accuracy: 0.7734\n",
      "Epoch 141/150\n",
      "768/768 [==============================] - 0s 138us/step - loss: 0.4681 - accuracy: 0.7695\n",
      "Epoch 142/150\n",
      "768/768 [==============================] - 0s 143us/step - loss: 0.4803 - accuracy: 0.7604\n",
      "Epoch 143/150\n",
      "768/768 [==============================] - 0s 125us/step - loss: 0.4730 - accuracy: 0.7721\n",
      "Epoch 144/150\n",
      "768/768 [==============================] - 0s 134us/step - loss: 0.4740 - accuracy: 0.7760\n",
      "Epoch 145/150\n",
      "768/768 [==============================] - 0s 134us/step - loss: 0.4883 - accuracy: 0.7721\n",
      "Epoch 146/150\n",
      "768/768 [==============================] - 0s 134us/step - loss: 0.4967 - accuracy: 0.7552\n",
      "Epoch 147/150\n",
      "768/768 [==============================] - 0s 156us/step - loss: 0.4831 - accuracy: 0.7773\n",
      "Epoch 148/150\n",
      "768/768 [==============================] - 0s 153us/step - loss: 0.4747 - accuracy: 0.7708\n",
      "Epoch 149/150\n",
      "768/768 [==============================] - 0s 146us/step - loss: 0.4730 - accuracy: 0.7630\n",
      "Epoch 150/150\n",
      "768/768 [==============================] - 0s 140us/step - loss: 0.4754 - accuracy: 0.7773\n",
      "768/768 [==============================] - 0s 97us/step\n",
      "accuracy : 78.52%\n"
     ]
    }
   ],
   "source": [
    "from keras.models import Sequential\n",
    "from keras.layers import Dense\n",
    "import numpy as np\n",
    "\n",
    "np.random.seed(7)\n",
    "dataset = np.loadtxt('pima.data', delimiter=',')\n",
    "X = dataset[:,0:8]\n",
    "Y = dataset[:,8]\n",
    "\n",
    "model = Sequential()\n",
    "# 768x8, 8x12 => 768x12\n",
    "model.add(Dense(12, input_dim=8, activation='relu'))\n",
    "# 768x12, 12x8 => 768x8\n",
    "model.add(Dense(8, activation='relu'))\n",
    "# 768x8, 8x1 => 768x1\n",
    "# sigmoid 0,1 2가지 분류에 사용\n",
    "model.add(Dense(1, activation='sigmoid'))\n",
    "# compile할때 주로, loss, optimizer, metrics를 쓴다.\n",
    "model.compile(loss='binary_crossentropy', optimizer='adam', metrics=['accuracy'])\n",
    "# fit을 할땐 epoch, batch_size가 들어갈 수 있다.\n",
    "model.fit(X,Y, epochs=150, batch_size=10)\n",
    "\n",
    "scores = model.evaluate(X,Y)\n",
    "# model.metrics_names : loss, accuracy 등 여러가지가있다.\n",
    "print('{} : {:.2f}%'.format(model.metrics_names[1], scores[1]*100))"
   ]
  },
  {
   "cell_type": "code",
   "execution_count": 52,
   "metadata": {},
   "outputs": [
    {
     "name": "stdout",
     "output_type": "stream",
     "text": [
      "Train on 514 samples, validate on 254 samples\n",
      "Epoch 1/150\n",
      "514/514 [==============================] - 0s 869us/step - loss: 0.6936 - accuracy: 0.6576 - val_loss: 0.6577 - val_accuracy: 0.6654\n",
      "Epoch 2/150\n",
      "514/514 [==============================] - 0s 179us/step - loss: 0.6585 - accuracy: 0.6265 - val_loss: 0.6304 - val_accuracy: 0.6614\n",
      "Epoch 3/150\n",
      "514/514 [==============================] - 0s 171us/step - loss: 0.6463 - accuracy: 0.6381 - val_loss: 0.6275 - val_accuracy: 0.6614\n",
      "Epoch 4/150\n",
      "514/514 [==============================] - 0s 169us/step - loss: 0.6381 - accuracy: 0.6420 - val_loss: 0.6143 - val_accuracy: 0.6654\n",
      "Epoch 5/150\n",
      "514/514 [==============================] - 0s 175us/step - loss: 0.6301 - accuracy: 0.6751 - val_loss: 0.6112 - val_accuracy: 0.7008\n",
      "Epoch 6/150\n",
      "514/514 [==============================] - 0s 206us/step - loss: 0.6249 - accuracy: 0.6732 - val_loss: 0.6003 - val_accuracy: 0.6732\n",
      "Epoch 7/150\n",
      "514/514 [==============================] - 0s 169us/step - loss: 0.6226 - accuracy: 0.6693 - val_loss: 0.6017 - val_accuracy: 0.6772\n",
      "Epoch 8/150\n",
      "514/514 [==============================] - 0s 177us/step - loss: 0.6136 - accuracy: 0.6868 - val_loss: 0.5969 - val_accuracy: 0.6850\n",
      "Epoch 9/150\n",
      "514/514 [==============================] - 0s 171us/step - loss: 0.6061 - accuracy: 0.6809 - val_loss: 0.6017 - val_accuracy: 0.6929\n",
      "Epoch 10/150\n",
      "514/514 [==============================] - 0s 167us/step - loss: 0.6087 - accuracy: 0.6868 - val_loss: 0.5992 - val_accuracy: 0.6890\n",
      "Epoch 11/150\n",
      "514/514 [==============================] - 0s 182us/step - loss: 0.5954 - accuracy: 0.6984 - val_loss: 0.6164 - val_accuracy: 0.6929\n",
      "Epoch 12/150\n",
      "514/514 [==============================] - 0s 163us/step - loss: 0.5982 - accuracy: 0.6770 - val_loss: 0.5772 - val_accuracy: 0.6969\n",
      "Epoch 13/150\n",
      "514/514 [==============================] - 0s 198us/step - loss: 0.5984 - accuracy: 0.6848 - val_loss: 0.5895 - val_accuracy: 0.6969\n",
      "Epoch 14/150\n",
      "514/514 [==============================] - 0s 186us/step - loss: 0.5922 - accuracy: 0.6984 - val_loss: 0.5903 - val_accuracy: 0.7047\n",
      "Epoch 15/150\n",
      "514/514 [==============================] - 0s 190us/step - loss: 0.5878 - accuracy: 0.6887 - val_loss: 0.5798 - val_accuracy: 0.7087\n",
      "Epoch 16/150\n",
      "514/514 [==============================] - 0s 184us/step - loss: 0.5920 - accuracy: 0.6965 - val_loss: 0.5777 - val_accuracy: 0.7008\n",
      "Epoch 17/150\n",
      "514/514 [==============================] - 0s 202us/step - loss: 0.5848 - accuracy: 0.6965 - val_loss: 0.5959 - val_accuracy: 0.6850\n",
      "Epoch 18/150\n",
      "514/514 [==============================] - 0s 171us/step - loss: 0.5953 - accuracy: 0.6926 - val_loss: 0.6007 - val_accuracy: 0.6850\n",
      "Epoch 19/150\n",
      "514/514 [==============================] - 0s 169us/step - loss: 0.5906 - accuracy: 0.7023 - val_loss: 0.5663 - val_accuracy: 0.6850\n",
      "Epoch 20/150\n",
      "514/514 [==============================] - 0s 179us/step - loss: 0.5789 - accuracy: 0.7004 - val_loss: 0.5669 - val_accuracy: 0.7244\n",
      "Epoch 21/150\n",
      "514/514 [==============================] - 0s 167us/step - loss: 0.5818 - accuracy: 0.7023 - val_loss: 0.5703 - val_accuracy: 0.7205\n",
      "Epoch 22/150\n",
      "514/514 [==============================] - 0s 177us/step - loss: 0.5737 - accuracy: 0.7257 - val_loss: 0.5677 - val_accuracy: 0.7087\n",
      "Epoch 23/150\n",
      "514/514 [==============================] - 0s 180us/step - loss: 0.5818 - accuracy: 0.6984 - val_loss: 0.5647 - val_accuracy: 0.6969\n",
      "Epoch 24/150\n",
      "514/514 [==============================] - 0s 188us/step - loss: 0.5632 - accuracy: 0.7082 - val_loss: 0.5629 - val_accuracy: 0.7126\n",
      "Epoch 25/150\n",
      "514/514 [==============================] - 0s 175us/step - loss: 0.5707 - accuracy: 0.6926 - val_loss: 0.5585 - val_accuracy: 0.6929\n",
      "Epoch 26/150\n",
      "514/514 [==============================] - 0s 180us/step - loss: 0.5683 - accuracy: 0.7082 - val_loss: 0.5750 - val_accuracy: 0.7165\n",
      "Epoch 27/150\n",
      "514/514 [==============================] - 0s 210us/step - loss: 0.5633 - accuracy: 0.7237 - val_loss: 0.5746 - val_accuracy: 0.7008\n",
      "Epoch 28/150\n",
      "514/514 [==============================] - 0s 208us/step - loss: 0.5585 - accuracy: 0.7101 - val_loss: 0.6304 - val_accuracy: 0.6378\n",
      "Epoch 29/150\n",
      "514/514 [==============================] - 0s 167us/step - loss: 0.5741 - accuracy: 0.7023 - val_loss: 0.5821 - val_accuracy: 0.7126\n",
      "Epoch 30/150\n",
      "514/514 [==============================] - 0s 175us/step - loss: 0.5774 - accuracy: 0.7082 - val_loss: 0.5697 - val_accuracy: 0.6732\n",
      "Epoch 31/150\n",
      "514/514 [==============================] - 0s 177us/step - loss: 0.5659 - accuracy: 0.7043 - val_loss: 0.5740 - val_accuracy: 0.7126\n",
      "Epoch 32/150\n",
      "514/514 [==============================] - 0s 200us/step - loss: 0.5672 - accuracy: 0.7062 - val_loss: 0.6087 - val_accuracy: 0.6575\n",
      "Epoch 33/150\n",
      "514/514 [==============================] - 0s 165us/step - loss: 0.5835 - accuracy: 0.6848 - val_loss: 0.5662 - val_accuracy: 0.7205\n",
      "Epoch 34/150\n",
      "514/514 [==============================] - 0s 221us/step - loss: 0.5624 - accuracy: 0.7062 - val_loss: 0.5715 - val_accuracy: 0.7087\n",
      "Epoch 35/150\n",
      "514/514 [==============================] - 0s 179us/step - loss: 0.5629 - accuracy: 0.7004 - val_loss: 0.5610 - val_accuracy: 0.7126\n",
      "Epoch 36/150\n",
      "514/514 [==============================] - 0s 173us/step - loss: 0.5618 - accuracy: 0.7160 - val_loss: 0.5692 - val_accuracy: 0.7323\n",
      "Epoch 37/150\n",
      "514/514 [==============================] - 0s 186us/step - loss: 0.5535 - accuracy: 0.7062 - val_loss: 0.5709 - val_accuracy: 0.7047\n",
      "Epoch 38/150\n",
      "514/514 [==============================] - 0s 188us/step - loss: 0.5549 - accuracy: 0.7218 - val_loss: 0.5540 - val_accuracy: 0.7323\n",
      "Epoch 39/150\n",
      "514/514 [==============================] - 0s 180us/step - loss: 0.5519 - accuracy: 0.7004 - val_loss: 0.5641 - val_accuracy: 0.7244\n",
      "Epoch 40/150\n",
      "514/514 [==============================] - 0s 159us/step - loss: 0.5517 - accuracy: 0.7198 - val_loss: 0.5619 - val_accuracy: 0.7126\n",
      "Epoch 41/150\n",
      "514/514 [==============================] - 0s 163us/step - loss: 0.5544 - accuracy: 0.7082 - val_loss: 0.5513 - val_accuracy: 0.7165\n",
      "Epoch 42/150\n",
      "514/514 [==============================] - 0s 163us/step - loss: 0.5740 - accuracy: 0.6926 - val_loss: 0.5851 - val_accuracy: 0.7047\n",
      "Epoch 43/150\n",
      "514/514 [==============================] - 0s 167us/step - loss: 0.5518 - accuracy: 0.7062 - val_loss: 0.5610 - val_accuracy: 0.7283\n",
      "Epoch 44/150\n",
      "514/514 [==============================] - 0s 177us/step - loss: 0.5618 - accuracy: 0.7004 - val_loss: 0.5616 - val_accuracy: 0.7244\n",
      "Epoch 45/150\n",
      "514/514 [==============================] - 0s 180us/step - loss: 0.5473 - accuracy: 0.7276 - val_loss: 0.5916 - val_accuracy: 0.6654\n",
      "Epoch 46/150\n",
      "514/514 [==============================] - 0s 161us/step - loss: 0.5617 - accuracy: 0.7062 - val_loss: 0.5715 - val_accuracy: 0.7087\n",
      "Epoch 47/150\n",
      "514/514 [==============================] - 0s 173us/step - loss: 0.5501 - accuracy: 0.7101 - val_loss: 0.5565 - val_accuracy: 0.7362\n",
      "Epoch 48/150\n",
      "514/514 [==============================] - 0s 172us/step - loss: 0.5450 - accuracy: 0.7082 - val_loss: 0.5520 - val_accuracy: 0.7126\n",
      "Epoch 49/150\n",
      "514/514 [==============================] - 0s 229us/step - loss: 0.5472 - accuracy: 0.7160 - val_loss: 0.5476 - val_accuracy: 0.7283\n",
      "Epoch 50/150\n",
      "514/514 [==============================] - 0s 165us/step - loss: 0.5442 - accuracy: 0.7198 - val_loss: 0.5764 - val_accuracy: 0.6890\n",
      "Epoch 51/150\n",
      "514/514 [==============================] - 0s 163us/step - loss: 0.5425 - accuracy: 0.7257 - val_loss: 0.5637 - val_accuracy: 0.7244\n",
      "Epoch 52/150\n",
      "514/514 [==============================] - 0s 171us/step - loss: 0.5424 - accuracy: 0.7315 - val_loss: 0.5635 - val_accuracy: 0.7165\n",
      "Epoch 53/150\n",
      "514/514 [==============================] - 0s 175us/step - loss: 0.5429 - accuracy: 0.7296 - val_loss: 0.5579 - val_accuracy: 0.6969\n",
      "Epoch 54/150\n",
      "514/514 [==============================] - 0s 177us/step - loss: 0.5426 - accuracy: 0.7121 - val_loss: 0.5706 - val_accuracy: 0.7244\n",
      "Epoch 55/150\n",
      "514/514 [==============================] - 0s 175us/step - loss: 0.5409 - accuracy: 0.7179 - val_loss: 0.5613 - val_accuracy: 0.7087\n",
      "Epoch 56/150\n",
      "514/514 [==============================] - 0s 165us/step - loss: 0.5486 - accuracy: 0.7082 - val_loss: 0.5583 - val_accuracy: 0.7362\n"
     ]
    },
    {
     "name": "stdout",
     "output_type": "stream",
     "text": [
      "Epoch 57/150\n",
      "514/514 [==============================] - 0s 171us/step - loss: 0.5412 - accuracy: 0.7218 - val_loss: 0.5550 - val_accuracy: 0.7087\n",
      "Epoch 58/150\n",
      "514/514 [==============================] - 0s 165us/step - loss: 0.5353 - accuracy: 0.7276 - val_loss: 0.5784 - val_accuracy: 0.6772\n",
      "Epoch 59/150\n",
      "514/514 [==============================] - 0s 157us/step - loss: 0.5491 - accuracy: 0.7101 - val_loss: 0.5545 - val_accuracy: 0.7402\n",
      "Epoch 60/150\n",
      "514/514 [==============================] - 0s 172us/step - loss: 0.5332 - accuracy: 0.7237 - val_loss: 0.5482 - val_accuracy: 0.7362\n",
      "Epoch 61/150\n",
      "514/514 [==============================] - 0s 167us/step - loss: 0.5446 - accuracy: 0.7004 - val_loss: 0.5521 - val_accuracy: 0.7126\n",
      "Epoch 62/150\n",
      "514/514 [==============================] - 0s 161us/step - loss: 0.5404 - accuracy: 0.7218 - val_loss: 0.5434 - val_accuracy: 0.7441\n",
      "Epoch 63/150\n",
      "514/514 [==============================] - 0s 165us/step - loss: 0.5338 - accuracy: 0.7140 - val_loss: 0.5380 - val_accuracy: 0.7402\n",
      "Epoch 64/150\n",
      "514/514 [==============================] - 0s 182us/step - loss: 0.5336 - accuracy: 0.7393 - val_loss: 0.5467 - val_accuracy: 0.7283\n",
      "Epoch 65/150\n",
      "514/514 [==============================] - 0s 202us/step - loss: 0.5347 - accuracy: 0.7218 - val_loss: 0.5618 - val_accuracy: 0.7205\n",
      "Epoch 66/150\n",
      "514/514 [==============================] - 0s 169us/step - loss: 0.5322 - accuracy: 0.7257 - val_loss: 0.5437 - val_accuracy: 0.7283\n",
      "Epoch 67/150\n",
      "514/514 [==============================] - 0s 180us/step - loss: 0.5315 - accuracy: 0.7160 - val_loss: 0.5749 - val_accuracy: 0.7126\n",
      "Epoch 68/150\n",
      "514/514 [==============================] - 0s 171us/step - loss: 0.5425 - accuracy: 0.7101 - val_loss: 0.5556 - val_accuracy: 0.7205\n",
      "Epoch 69/150\n",
      "514/514 [==============================] - 0s 177us/step - loss: 0.5371 - accuracy: 0.7121 - val_loss: 0.5565 - val_accuracy: 0.7323\n",
      "Epoch 70/150\n",
      "514/514 [==============================] - 0s 169us/step - loss: 0.5340 - accuracy: 0.7393 - val_loss: 0.5572 - val_accuracy: 0.7165\n",
      "Epoch 71/150\n",
      "514/514 [==============================] - 0s 213us/step - loss: 0.5275 - accuracy: 0.7335 - val_loss: 0.5580 - val_accuracy: 0.7205\n",
      "Epoch 72/150\n",
      "514/514 [==============================] - 0s 169us/step - loss: 0.5361 - accuracy: 0.7257 - val_loss: 0.5437 - val_accuracy: 0.7283\n",
      "Epoch 73/150\n",
      "514/514 [==============================] - 0s 161us/step - loss: 0.5321 - accuracy: 0.7315 - val_loss: 0.5415 - val_accuracy: 0.7559\n",
      "Epoch 74/150\n",
      "514/514 [==============================] - 0s 163us/step - loss: 0.5285 - accuracy: 0.7218 - val_loss: 0.5520 - val_accuracy: 0.7559\n",
      "Epoch 75/150\n",
      "514/514 [==============================] - 0s 159us/step - loss: 0.5272 - accuracy: 0.7451 - val_loss: 0.5459 - val_accuracy: 0.7402\n",
      "Epoch 76/150\n",
      "514/514 [==============================] - 0s 169us/step - loss: 0.5180 - accuracy: 0.7237 - val_loss: 0.5447 - val_accuracy: 0.7480\n",
      "Epoch 77/150\n",
      "514/514 [==============================] - 0s 204us/step - loss: 0.5187 - accuracy: 0.7335 - val_loss: 0.5480 - val_accuracy: 0.7402\n",
      "Epoch 78/150\n",
      "514/514 [==============================] - 0s 175us/step - loss: 0.5251 - accuracy: 0.7296 - val_loss: 0.5442 - val_accuracy: 0.7598\n",
      "Epoch 79/150\n",
      "514/514 [==============================] - 0s 175us/step - loss: 0.5257 - accuracy: 0.7451 - val_loss: 0.5555 - val_accuracy: 0.7362\n",
      "Epoch 80/150\n",
      "514/514 [==============================] - 0s 173us/step - loss: 0.5253 - accuracy: 0.7296 - val_loss: 0.5544 - val_accuracy: 0.7480\n",
      "Epoch 81/150\n",
      "514/514 [==============================] - 0s 184us/step - loss: 0.5312 - accuracy: 0.7237 - val_loss: 0.5558 - val_accuracy: 0.7126\n",
      "Epoch 82/150\n",
      "514/514 [==============================] - 0s 221us/step - loss: 0.5260 - accuracy: 0.7374 - val_loss: 0.5366 - val_accuracy: 0.7559\n",
      "Epoch 83/150\n",
      "514/514 [==============================] - 0s 167us/step - loss: 0.5095 - accuracy: 0.7393 - val_loss: 0.5545 - val_accuracy: 0.7087\n",
      "Epoch 84/150\n",
      "514/514 [==============================] - 0s 169us/step - loss: 0.5184 - accuracy: 0.7412 - val_loss: 0.5434 - val_accuracy: 0.7559\n",
      "Epoch 85/150\n",
      "514/514 [==============================] - 0s 171us/step - loss: 0.5174 - accuracy: 0.7412 - val_loss: 0.5371 - val_accuracy: 0.7402\n",
      "Epoch 86/150\n",
      "514/514 [==============================] - 0s 186us/step - loss: 0.5145 - accuracy: 0.7451 - val_loss: 0.5571 - val_accuracy: 0.7480\n",
      "Epoch 87/150\n",
      "514/514 [==============================] - 0s 180us/step - loss: 0.5174 - accuracy: 0.7393 - val_loss: 0.5374 - val_accuracy: 0.7402\n",
      "Epoch 88/150\n",
      "514/514 [==============================] - 0s 179us/step - loss: 0.5061 - accuracy: 0.7471 - val_loss: 0.5552 - val_accuracy: 0.7402\n",
      "Epoch 89/150\n",
      "514/514 [==============================] - 0s 177us/step - loss: 0.5114 - accuracy: 0.7335 - val_loss: 0.5436 - val_accuracy: 0.7205\n",
      "Epoch 90/150\n",
      "514/514 [==============================] - 0s 177us/step - loss: 0.5143 - accuracy: 0.7549 - val_loss: 0.5559 - val_accuracy: 0.7283\n",
      "Epoch 91/150\n",
      "514/514 [==============================] - 0s 169us/step - loss: 0.5125 - accuracy: 0.7451 - val_loss: 0.5493 - val_accuracy: 0.7362\n",
      "Epoch 92/150\n",
      "514/514 [==============================] - 0s 186us/step - loss: 0.5224 - accuracy: 0.7374 - val_loss: 0.5449 - val_accuracy: 0.7165\n",
      "Epoch 93/150\n",
      "514/514 [==============================] - 0s 219us/step - loss: 0.5137 - accuracy: 0.7607 - val_loss: 0.5465 - val_accuracy: 0.7559\n",
      "Epoch 94/150\n",
      "514/514 [==============================] - 0s 173us/step - loss: 0.5106 - accuracy: 0.7510 - val_loss: 0.5284 - val_accuracy: 0.7677\n",
      "Epoch 95/150\n",
      "514/514 [==============================] - 0s 169us/step - loss: 0.5084 - accuracy: 0.7549 - val_loss: 0.5590 - val_accuracy: 0.7126\n",
      "Epoch 96/150\n",
      "514/514 [==============================] - 0s 167us/step - loss: 0.5154 - accuracy: 0.7276 - val_loss: 0.5434 - val_accuracy: 0.7598\n",
      "Epoch 97/150\n",
      "514/514 [==============================] - 0s 171us/step - loss: 0.5046 - accuracy: 0.7451 - val_loss: 0.5373 - val_accuracy: 0.7559\n",
      "Epoch 98/150\n",
      "514/514 [==============================] - 0s 180us/step - loss: 0.5104 - accuracy: 0.7354 - val_loss: 0.5381 - val_accuracy: 0.7598\n",
      "Epoch 99/150\n",
      "514/514 [==============================] - 0s 182us/step - loss: 0.5114 - accuracy: 0.7451 - val_loss: 0.5473 - val_accuracy: 0.7677\n",
      "Epoch 100/150\n",
      "514/514 [==============================] - 0s 213us/step - loss: 0.5066 - accuracy: 0.7529 - val_loss: 0.5292 - val_accuracy: 0.7717\n",
      "Epoch 101/150\n",
      "514/514 [==============================] - 0s 206us/step - loss: 0.5026 - accuracy: 0.7451 - val_loss: 0.5448 - val_accuracy: 0.7244\n",
      "Epoch 102/150\n",
      "514/514 [==============================] - 0s 175us/step - loss: 0.5010 - accuracy: 0.7588 - val_loss: 0.5320 - val_accuracy: 0.7559\n",
      "Epoch 103/150\n",
      "514/514 [==============================] - 0s 182us/step - loss: 0.5102 - accuracy: 0.7529 - val_loss: 0.5523 - val_accuracy: 0.7283\n",
      "Epoch 104/150\n",
      "514/514 [==============================] - 0s 183us/step - loss: 0.5166 - accuracy: 0.7432 - val_loss: 0.5388 - val_accuracy: 0.7835\n",
      "Epoch 105/150\n",
      "514/514 [==============================] - 0s 175us/step - loss: 0.4977 - accuracy: 0.7724 - val_loss: 0.5325 - val_accuracy: 0.7598\n",
      "Epoch 106/150\n",
      "514/514 [==============================] - 0s 182us/step - loss: 0.5088 - accuracy: 0.7257 - val_loss: 0.5338 - val_accuracy: 0.7559\n",
      "Epoch 107/150\n",
      "514/514 [==============================] - 0s 175us/step - loss: 0.4970 - accuracy: 0.7626 - val_loss: 0.5488 - val_accuracy: 0.7244\n",
      "Epoch 108/150\n",
      "514/514 [==============================] - 0s 179us/step - loss: 0.5022 - accuracy: 0.7685 - val_loss: 0.5466 - val_accuracy: 0.7677\n",
      "Epoch 109/150\n",
      "514/514 [==============================] - 0s 180us/step - loss: 0.4968 - accuracy: 0.7549 - val_loss: 0.5324 - val_accuracy: 0.7559\n",
      "Epoch 110/150\n",
      "514/514 [==============================] - 0s 179us/step - loss: 0.4951 - accuracy: 0.7432 - val_loss: 0.5564 - val_accuracy: 0.7441\n",
      "Epoch 111/150\n",
      "514/514 [==============================] - 0s 173us/step - loss: 0.4981 - accuracy: 0.7568 - val_loss: 0.5350 - val_accuracy: 0.7795\n",
      "Epoch 112/150\n",
      "514/514 [==============================] - 0s 186us/step - loss: 0.4879 - accuracy: 0.7646 - val_loss: 0.5610 - val_accuracy: 0.7323\n",
      "Epoch 113/150\n"
     ]
    },
    {
     "name": "stdout",
     "output_type": "stream",
     "text": [
      "514/514 [==============================] - 0s 210us/step - loss: 0.4982 - accuracy: 0.7510 - val_loss: 0.5442 - val_accuracy: 0.7441\n",
      "Epoch 114/150\n",
      "514/514 [==============================] - 0s 206us/step - loss: 0.4927 - accuracy: 0.7529 - val_loss: 0.5428 - val_accuracy: 0.7520\n",
      "Epoch 115/150\n",
      "514/514 [==============================] - 0s 175us/step - loss: 0.4930 - accuracy: 0.7510 - val_loss: 0.5338 - val_accuracy: 0.7835\n",
      "Epoch 116/150\n",
      "514/514 [==============================] - 0s 169us/step - loss: 0.4854 - accuracy: 0.7490 - val_loss: 0.5304 - val_accuracy: 0.7717\n",
      "Epoch 117/150\n",
      "514/514 [==============================] - 0s 186us/step - loss: 0.4909 - accuracy: 0.7432 - val_loss: 0.5556 - val_accuracy: 0.7520\n",
      "Epoch 118/150\n",
      "514/514 [==============================] - 0s 163us/step - loss: 0.4899 - accuracy: 0.7510 - val_loss: 0.5345 - val_accuracy: 0.7638\n",
      "Epoch 119/150\n",
      "514/514 [==============================] - 0s 180us/step - loss: 0.4943 - accuracy: 0.7529 - val_loss: 0.5567 - val_accuracy: 0.7362\n",
      "Epoch 120/150\n",
      "514/514 [==============================] - 0s 169us/step - loss: 0.4861 - accuracy: 0.7607 - val_loss: 0.5224 - val_accuracy: 0.7717\n",
      "Epoch 121/150\n",
      "514/514 [==============================] - 0s 169us/step - loss: 0.4850 - accuracy: 0.7549 - val_loss: 0.5595 - val_accuracy: 0.7323\n",
      "Epoch 122/150\n",
      "514/514 [==============================] - 0s 159us/step - loss: 0.4886 - accuracy: 0.7549 - val_loss: 0.5304 - val_accuracy: 0.7441\n",
      "Epoch 123/150\n",
      "514/514 [==============================] - 0s 161us/step - loss: 0.4891 - accuracy: 0.7704 - val_loss: 0.5564 - val_accuracy: 0.7165\n",
      "Epoch 124/150\n",
      "514/514 [==============================] - 0s 173us/step - loss: 0.4894 - accuracy: 0.7549 - val_loss: 0.5415 - val_accuracy: 0.7638\n",
      "Epoch 125/150\n",
      "514/514 [==============================] - 0s 190us/step - loss: 0.4910 - accuracy: 0.7568 - val_loss: 0.5610 - val_accuracy: 0.7402\n",
      "Epoch 126/150\n",
      "514/514 [==============================] - 0s 159us/step - loss: 0.4871 - accuracy: 0.7568 - val_loss: 0.5566 - val_accuracy: 0.7244\n",
      "Epoch 127/150\n",
      "514/514 [==============================] - 0s 167us/step - loss: 0.4814 - accuracy: 0.7704 - val_loss: 0.5307 - val_accuracy: 0.7638\n",
      "Epoch 128/150\n",
      "514/514 [==============================] - 0s 169us/step - loss: 0.4836 - accuracy: 0.7490 - val_loss: 0.5305 - val_accuracy: 0.7638\n",
      "Epoch 129/150\n",
      "514/514 [==============================] - 0s 167us/step - loss: 0.4848 - accuracy: 0.7490 - val_loss: 0.5480 - val_accuracy: 0.7520\n",
      "Epoch 130/150\n",
      "514/514 [==============================] - 0s 177us/step - loss: 0.4907 - accuracy: 0.7510 - val_loss: 0.5209 - val_accuracy: 0.7638\n",
      "Epoch 131/150\n",
      "514/514 [==============================] - 0s 186us/step - loss: 0.4804 - accuracy: 0.7568 - val_loss: 0.5656 - val_accuracy: 0.7362\n",
      "Epoch 132/150\n",
      "514/514 [==============================] - 0s 175us/step - loss: 0.4933 - accuracy: 0.7510 - val_loss: 0.5365 - val_accuracy: 0.7598\n",
      "Epoch 133/150\n",
      "514/514 [==============================] - 0s 163us/step - loss: 0.4818 - accuracy: 0.7607 - val_loss: 0.5355 - val_accuracy: 0.7677\n",
      "Epoch 134/150\n",
      "514/514 [==============================] - 0s 171us/step - loss: 0.4818 - accuracy: 0.7588 - val_loss: 0.5212 - val_accuracy: 0.7638\n",
      "Epoch 135/150\n",
      "514/514 [==============================] - 0s 190us/step - loss: 0.4811 - accuracy: 0.7724 - val_loss: 0.5179 - val_accuracy: 0.7638\n",
      "Epoch 136/150\n",
      "514/514 [==============================] - 0s 192us/step - loss: 0.4797 - accuracy: 0.7549 - val_loss: 0.5312 - val_accuracy: 0.7795\n",
      "Epoch 137/150\n",
      "514/514 [==============================] - 0s 160us/step - loss: 0.4913 - accuracy: 0.7451 - val_loss: 0.5284 - val_accuracy: 0.7559\n",
      "Epoch 138/150\n",
      "514/514 [==============================] - 0s 165us/step - loss: 0.4783 - accuracy: 0.7529 - val_loss: 0.5166 - val_accuracy: 0.7598\n",
      "Epoch 139/150\n",
      "514/514 [==============================] - 0s 157us/step - loss: 0.4811 - accuracy: 0.7704 - val_loss: 0.5277 - val_accuracy: 0.7677\n",
      "Epoch 140/150\n",
      "514/514 [==============================] - 0s 171us/step - loss: 0.4756 - accuracy: 0.7568 - val_loss: 0.5168 - val_accuracy: 0.7520\n",
      "Epoch 141/150\n",
      "514/514 [==============================] - 0s 175us/step - loss: 0.4742 - accuracy: 0.7626 - val_loss: 0.5067 - val_accuracy: 0.7677\n",
      "Epoch 142/150\n",
      "514/514 [==============================] - 0s 165us/step - loss: 0.4862 - accuracy: 0.7510 - val_loss: 0.5390 - val_accuracy: 0.7717\n",
      "Epoch 143/150\n",
      "514/514 [==============================] - 0s 179us/step - loss: 0.4856 - accuracy: 0.7568 - val_loss: 0.5227 - val_accuracy: 0.7795\n",
      "Epoch 144/150\n",
      "514/514 [==============================] - 0s 167us/step - loss: 0.4817 - accuracy: 0.7490 - val_loss: 0.5214 - val_accuracy: 0.7520\n",
      "Epoch 145/150\n",
      "514/514 [==============================] - 0s 175us/step - loss: 0.4786 - accuracy: 0.7549 - val_loss: 0.5243 - val_accuracy: 0.7598\n",
      "Epoch 146/150\n",
      "514/514 [==============================] - 0s 204us/step - loss: 0.4669 - accuracy: 0.7763 - val_loss: 0.5398 - val_accuracy: 0.7677\n",
      "Epoch 147/150\n",
      "514/514 [==============================] - 0s 177us/step - loss: 0.4704 - accuracy: 0.7704 - val_loss: 0.5243 - val_accuracy: 0.7677\n",
      "Epoch 148/150\n",
      "514/514 [==============================] - 0s 157us/step - loss: 0.4758 - accuracy: 0.7743 - val_loss: 0.5184 - val_accuracy: 0.7598\n",
      "Epoch 149/150\n",
      "514/514 [==============================] - 0s 167us/step - loss: 0.4660 - accuracy: 0.7529 - val_loss: 0.5377 - val_accuracy: 0.7638\n",
      "Epoch 150/150\n",
      "514/514 [==============================] - ETA: 0s - loss: 0.4803 - accuracy: 0.78 - 0s 171us/step - loss: 0.4749 - accuracy: 0.7821 - val_loss: 0.5311 - val_accuracy: 0.7874\n",
      "768/768 [==============================] - 0s 19us/step\n",
      "accuracy : 77.60%\n"
     ]
    }
   ],
   "source": [
    "# kernel_initializer사용, return을 사용했을때???????\n",
    "from keras.models import Sequential\n",
    "from keras.layers import Dense\n",
    "import numpy as np\n",
    "\n",
    "np.random.seed(7)\n",
    "dataset = np.loadtxt('pima.data', delimiter=',')\n",
    "X = dataset[:,0:8]\n",
    "Y = dataset[:,8]\n",
    "\n",
    "model = Sequential()\n",
    "# kernel_initializer를 통해서 초기화 방법 지정해 줄수 있다.\n",
    "# 우리도 모르게 만들어지는 가중치를 균등분포로 초기화해 주었다.\n",
    "model.add(Dense(12, input_dim=8, kernel_initializer='uniform', activation='relu'))\n",
    "model.add(Dense(8, activation='relu'))\n",
    "model.add(Dense(1, activation='sigmoid'))\n",
    "model.compile(loss='binary_crossentropy', optimizer='adam', metrics=['accuracy'])\n",
    "\n",
    "# history로 리턴받았다.\n",
    "#데이터를 분리할때 train, test로 분리되는데 과적합되는 현상이 벌어짐\n",
    "# train, validation, test로 나눈다.(검증용 데이터인 validation을 만드는것)\n",
    "hist = model.fit(X,Y, epochs=150, batch_size=10, validation_split=0.33)\n",
    "\n",
    "\n",
    "scores = model.evaluate(X,Y)\n",
    "\n",
    "print('{} : {:.2f}%'.format(model.metrics_names[1], scores[1]*100))"
   ]
  },
  {
   "cell_type": "code",
   "execution_count": 53,
   "metadata": {},
   "outputs": [
    {
     "name": "stdout",
     "output_type": "stream",
     "text": [
      "dict_keys(['val_loss', 'val_accuracy', 'loss', 'accuracy'])\n"
     ]
    }
   ],
   "source": [
    "print(hist.history.keys())"
   ]
  },
  {
   "cell_type": "code",
   "execution_count": 55,
   "metadata": {},
   "outputs": [
    {
     "data": {
      "image/png": "[encoded data removed]",
      "text/plain": [
       "<Figure size 432x288 with 1 Axes>"
      ]
     },
     "metadata": {
      "needs_background": "light"
     },
     "output_type": "display_data"
    }
   ],
   "source": [
    "%matplotlib inline\n",
    "import matplotlib.pyplot as plt\n",
    "plt.plot(hist.history['accuracy'])\n",
    "plt.show()"
   ]
  },
  {
   "cell_type": "code",
   "execution_count": 57,
   "metadata": {},
   "outputs": [
    {
     "data": {
      "image/png": "[encoded data removed]",
      "text/plain": [
       "<Figure size 432x288 with 1 Axes>"
      ]
     },
     "metadata": {
      "needs_background": "light"
     },
     "output_type": "display_data"
    }
   ],
   "source": [
    "plt.plot(hist.history['accuracy'])\n",
    "plt.plot(hist.history['val_accuracy'])\n",
    "plt.title('accuracy')\n",
    "plt.ylabel('accuracy')\n",
    "plt.xlabel('epoch')\n",
    "plt.legend(['train', 'test'], loc='upper left')\n",
    "plt.show()"
   ]
  },
  {
   "cell_type": "code",
   "execution_count": 58,
   "metadata": {},
   "outputs": [
    {
     "data": {
      "image/png": "[encoded data removed]",
      "text/plain": [
       "<Figure size 432x288 with 1 Axes>"
      ]
     },
     "metadata": {
      "needs_background": "light"
     },
     "output_type": "display_data"
    }
   ],
   "source": [
    "plt.plot(hist.history['loss'])\n",
    "plt.plot(hist.history['val_loss'])\n",
    "plt.title('loss')\n",
    "plt.ylabel('loss')\n",
    "plt.xlabel('epoch')\n",
    "plt.legend(['train', 'test'], loc='upper right')\n",
    "plt.show()"
   ]
  },
  {
   "cell_type": "code",
   "execution_count": 73,
   "metadata": {},
   "outputs": [
    {
     "name": "stdout",
     "output_type": "stream",
     "text": [
      "(1000, 2)\n",
      "(1000,)\n",
      "(500, 2)\n",
      "(500,)\n"
     ]
    }
   ],
   "source": [
    "from sklearn.preprocessing import scale\n",
    "from sklearn.model_selection import train_test_split\n",
    "from sklearn.datasets import make_moons\n",
    "\n",
    "X, Y = make_moons(noise=0.2, random_state=0, n_samples=1000)\n",
    "X = scale(X)\n",
    "X_train, X_test, Y_train, Y_test = train_test_split(X,Y,test_size=.5)\n",
    "\n",
    "print(X.shape)\n",
    "print(Y.shape)\n",
    "print(X_train.shape)\n",
    "print(Y_train.shape)"
   ]
  },
  {
   "cell_type": "code",
   "execution_count": 74,
   "metadata": {},
   "outputs": [
    {
     "data": {
      "text/plain": [
       "[Text(0, 0.5, 'Y'), Text(0.5, 0, 'X'), Text(0.5, 1.0, 'binary classification')]"
      ]
     },
     "execution_count": 74,
     "metadata": {},
     "output_type": "execute_result"
    },
    {
     "data": {
      "image/png": "[encoded data removed]",
      "text/plain": [
       "<Figure size 432x288 with 1 Axes>"
      ]
     },
     "metadata": {
      "needs_background": "light"
     },
     "output_type": "display_data"
    }
   ],
   "source": [
    "fig, ax = plt.subplots()\n",
    "ax.scatter(X[Y == 0, 0], X[Y ==0, 1], label='Class 0')\n",
    "ax.scatter(X[Y == 1, 0], X[Y ==1, 1], label='Class 1')\n",
    "ax.legend()\n",
    "ax.set(xlabel='X', ylabel='Y', title='binary classification')"
   ]
  },
  {
   "cell_type": "markdown",
   "metadata": {},
   "source": [
    "# 비선형일때 신경망을 쓴다"
   ]
  },
  {
   "cell_type": "code",
   "execution_count": 79,
   "metadata": {},
   "outputs": [],
   "source": [
    "import keras\n",
    "import tensorflow\n",
    "tensorflow.reset_default_graph()\n",
    "# 비선형 모델일때 -> 신경만\n",
    "model = Sequential()\n",
    "# 행렬연산 -> 설명을 확대(변수32 -설명)\n",
    "# 1000x2 2x32=64 + 32=96 ------> 1000x32\n",
    "\n",
    "# 1000x2, 2x32 => 1000x32\n",
    "model.add(Dense(32, input_dim = 2, activation='relu'))\n",
    "# 1000x32, 32x1 => 10000x1\n",
    "model.add(Dense(1, activation='sigmoid'))\n",
    "model.compile(optimizer='AdaDelta', loss='binary_crossentropy', metrics=['accuracy'])\n",
    "\n",
    "# callback 함수는 언제쓰는가?\n",
    "# callback 함수는 window에서 자동으로 호출되는 함수\n",
    "tb_callback = keras.callbacks.TensorBoard(log_dir='./Graph/model_1', histogram_freq=100, write_graph=True, write_images=False)\n",
    "\n",
    "tb_callback.set_model(model)\n",
    "# 콜백을 모델에 등록해준다 (이미지를 간단하게 불러오는것을 콜백함수가 쓴것이라고 생각하자)\n",
    "# 콜백함수를 모델에 등록하면 --> 모델이 훈련되면서 자동으로 위에 3문장을 호출해준다 \n",
    "# (tb_callback = keras.callbacks.TensorBoard(log_dir = './Graph/model_1/',\n",
    "# histogram_freq = 100, write_graph=True,\n",
    "#  write_images = False)  --> 이걸 자동으로 호출해준다 \n",
    "        "
   ]
  },
  {
   "cell_type": "code",
   "execution_count": 80,
   "metadata": {},
   "outputs": [
    {
     "name": "stdout",
     "output_type": "stream",
     "text": [
      "WARNING:tensorflow:From C:\\ProgramData\\Anaconda3\\lib\\site-packages\\keras\\callbacks\\tensorboard_v1.py:343: The name tf.Summary is deprecated. Please use tf.compat.v1.Summary instead.\n",
      "\n"
     ]
    }
   ],
   "source": [
    "\n",
    "hist = model.fit(X_train, Y_train, batch_size=32, epochs=200, verbose= 0, validation_data = (X_test, Y_test), callbacks=[tb_callback])"
   ]
  },
  {
   "cell_type": "code",
   "execution_count": 82,
   "metadata": {},
   "outputs": [
    {
     "name": "stdout",
     "output_type": "stream",
     "text": [
      "Test Loss :  0.10924852669239044\n",
      "Test Accuracy :  0.9639999866485596\n"
     ]
    }
   ],
   "source": [
    "score = model.evaluate(X_test, Y_test, verbose=0)\n",
    "print('Test Loss : ', score[0])\n",
    "print('Test Accuracy : ', score[1])"
   ]
  },
  {
   "cell_type": "code",
   "execution_count": 83,
   "metadata": {},
   "outputs": [
    {
     "name": "stdout",
     "output_type": "stream",
     "text": [
      "Model: \"sequential_1\"\n",
      "_________________________________________________________________\n",
      "Layer (type)                 Output Shape              Param #   \n",
      "=================================================================\n",
      "dense_1 (Dense)              (None, 32)                96        \n",
      "_________________________________________________________________\n",
      "dense_2 (Dense)              (None, 1)                 33        \n",
      "=================================================================\n",
      "Total params: 129\n",
      "Trainable params: 129\n",
      "Non-trainable params: 0\n",
      "_________________________________________________________________\n"
     ]
    }
   ],
   "source": [
    "keras.utils.print_summary(model)"
   ]
  },
  {
   "cell_type": "code",
   "execution_count": 98,
   "metadata": {},
   "outputs": [],
   "source": [
    "# import pydot\n",
    "# keras.utils.plot_model(model) # 그래프 출력 안됌\n"
   ]
  },
  {
   "cell_type": "code",
   "execution_count": 103,
   "metadata": {},
   "outputs": [],
   "source": [
    "# %matplotlib inline\n",
    "# from keras.utils.vis_utils import model_to_dot\n",
    "# model_to_dot(model) # 이것도 그래프 출력안됌"
   ]
  },
  {
   "cell_type": "code",
   "execution_count": 105,
   "metadata": {},
   "outputs": [],
   "source": [
    "# from IPython.display import Image, SVG\n",
    "# SVG(model_to_dot(model).create(prog='dot', format='svg')) # 뭐여?"
   ]
  },
  {
   "cell_type": "markdown",
   "metadata": {},
   "source": [
    "# MNIST 예측???"
   ]
  },
  {
   "cell_type": "code",
   "execution_count": 150,
   "metadata": {},
   "outputs": [
    {
     "name": "stdout",
     "output_type": "stream",
     "text": [
      "(60000, 28, 28) uint8\n",
      "(60000,) uint8\n",
      "(10000, 28, 28) uint8\n",
      "(10000,) uint8\n"
     ]
    }
   ],
   "source": [
    "from keras.datasets import mnist\n",
    "import matplotlib.pylab as plt\n",
    "tensorflow.reset_default_graph()\n",
    "(X_train, Y_train), (X_test, Y_test) = mnist.load_data()\n",
    "print(X_train.shape, X_train.dtype)  # 60000,  28x28 이 나온다   -> 28x28이라고 안해도 된다 (내맘대로 조정한다)\n",
    "print(Y_train.shape, Y_train.dtype)  # 60000\n",
    "print(X_test.shape, X_test.dtype)   # 10000, 28x28\n",
    "print(Y_test.shape, Y_test.dtype)"
   ]
  },
  {
   "cell_type": "code",
   "execution_count": 151,
   "metadata": {},
   "outputs": [
    {
     "data": {
      "text/plain": [
       "<function matplotlib.pyplot.show(*args, **kw)>"
      ]
     },
     "execution_count": 151,
     "metadata": {},
     "output_type": "execute_result"
    },
    {
     "data": {
      "image/png": "[encoded data removed]",
      "text/plain": [
       "<Figure size 432x288 with 1 Axes>"
      ]
     },
     "metadata": {
      "needs_background": "light"
     },
     "output_type": "display_data"
    }
   ],
   "source": [
    "plt.imshow(X_train[0])\n",
    "plt.grid(True)\n",
    "plt.show"
   ]
  },
  {
   "cell_type": "code",
   "execution_count": 152,
   "metadata": {},
   "outputs": [
    {
     "name": "stdout",
     "output_type": "stream",
     "text": [
      "(60000, 784)\n",
      "(10000, 784)\n"
     ]
    }
   ],
   "source": [
    "# fully-connected : flatten : FFNN\n",
    "X_train = X_train.reshape(60000, 784).astype('float32')/255.0\n",
    "X_test = X_test.reshape(10000, 784).astype('float32') / 255.0\n",
    "print(X_train.shape)\n",
    "print(X_test.shape)"
   ]
  },
  {
   "cell_type": "code",
   "execution_count": 153,
   "metadata": {},
   "outputs": [
    {
     "data": {
      "text/plain": [
       "array([5, 0, 4, 1, 9], dtype=uint8)"
      ]
     },
     "execution_count": 153,
     "metadata": {},
     "output_type": "execute_result"
    }
   ],
   "source": [
    "Y_train[:5]\n",
    "# 이걸확인해보면 one_hot_encoding 여부 확인가능  \n",
    "# 5,0,4,1,9   로 나온다 -> onehotencoding 되어있지 않다   -> 해주어야한다 .\n",
    "\n",
    "#( a만약 강아지고양이 이렇게 말고 3개가 넘어가면 softmax 해준다 )"
   ]
  },
  {
   "cell_type": "code",
   "execution_count": 154,
   "metadata": {},
   "outputs": [
    {
     "data": {
      "text/plain": [
       "(array([[0., 0., 0., 0., 0., 1., 0., 0., 0., 0.],\n",
       "        [1., 0., 0., 0., 0., 0., 0., 0., 0., 0.],\n",
       "        [0., 0., 0., 0., 1., 0., 0., 0., 0., 0.],\n",
       "        [0., 1., 0., 0., 0., 0., 0., 0., 0., 0.],\n",
       "        [0., 0., 0., 0., 0., 0., 0., 0., 0., 1.]], dtype=float32),\n",
       " array([[0., 0., 0., 0., 0., 0., 0., 1., 0., 0.],\n",
       "        [0., 0., 1., 0., 0., 0., 0., 0., 0., 0.],\n",
       "        [0., 1., 0., 0., 0., 0., 0., 0., 0., 0.],\n",
       "        [1., 0., 0., 0., 0., 0., 0., 0., 0., 0.],\n",
       "        [0., 0., 0., 0., 1., 0., 0., 0., 0., 0.]], dtype=float32))"
      ]
     },
     "execution_count": 154,
     "metadata": {},
     "output_type": "execute_result"
    }
   ],
   "source": [
    "# categorical 함수를 이용해서 원핫 인코딩한다.\n",
    "from keras.utils import np_utils\n",
    "Y_train = np_utils.to_categorical(Y_train, 10)\n",
    "Y_test = np_utils.to_categorical(Y_test, 10)\n",
    "Y_train[:5], Y_test[:5]"
   ]
  },
  {
   "cell_type": "code",
   "execution_count": 157,
   "metadata": {},
   "outputs": [],
   "source": [
    "import numpy as np\n",
    "from keras.optimizers import SGD\n",
    "import numpy as np\n",
    "np.random.seed(0)\n",
    "model = Sequential()\n",
    "# 60000x784 ,  784x 15  ---> 60000x15\n",
    "model.add(Dense(15, input_dim=784, activation='sigmoid'))\n",
    "# 60000x15   15x10   ->  60000x10 \n",
    "model.add(Dense(10, activation='sigmoid'))\n",
    "model.compile(optimizer=SGD(lr=0.2), loss='mean_squared_error', metrics=['accuracy']) \n",
    "# learning rate(lr)\n",
    "# stockhastic gradient descent : SGD : 확률적 경사하강법"
   ]
  },
  {
   "cell_type": "code",
   "execution_count": 158,
   "metadata": {},
   "outputs": [],
   "source": [
    "# model.add(Dense(15, input_dim=784, activation='sigmoid')) 이것을 \n",
    "# 출력차수가 512 인 레이어를 추가하고 싶을땐 \n",
    "# model.add(Dense(512, input_dim=784, activation='sigmoid')) ; model.add(Dense(15)) 로 바꿔보자 "
   ]
  },
  {
   "cell_type": "code",
   "execution_count": 159,
   "metadata": {},
   "outputs": [
    {
     "data": {
      "text/plain": [
       "[<keras.layers.core.Dense at 0x219b80a2248>,\n",
       " <keras.layers.core.Dense at 0x219b80a2408>]"
      ]
     },
     "execution_count": 159,
     "metadata": {},
     "output_type": "execute_result"
    }
   ],
   "source": [
    "model.layers"
   ]
  },
  {
   "cell_type": "code",
   "execution_count": 160,
   "metadata": {},
   "outputs": [
    {
     "data": {
      "text/plain": [
       "<function keras.activations.sigmoid(x)>"
      ]
     },
     "execution_count": 160,
     "metadata": {},
     "output_type": "execute_result"
    }
   ],
   "source": [
    "l1 = model.layers[0]\n",
    "l2 = model.layers[1]\n",
    "# 레이어 속성으로 정보 확인\n",
    "l1.name\n",
    "l1.input_shape\n",
    "l1.output_shape\n",
    "l1.activation"
   ]
  },
  {
   "cell_type": "code",
   "execution_count": 162,
   "metadata": {},
   "outputs": [
    {
     "name": "stderr",
     "output_type": "stream",
     "text": [
      "C:\\ProgramData\\Anaconda3\\lib\\site-packages\\ipykernel_launcher.py:1: UserWarning: The `nb_epoch` argument in `fit` has been renamed `epochs`.\n",
      "  \"\"\"Entry point for launching an IPython kernel.\n"
     ]
    },
    {
     "name": "stdout",
     "output_type": "stream",
     "text": [
      "Train on 60000 samples, validate on 10000 samples\n",
      "Epoch 1/30\n",
      " - 1s - loss: 0.1019 - accuracy: 0.2440 - val_loss: 0.0864 - val_accuracy: 0.3212\n",
      "Epoch 2/30\n",
      " - 1s - loss: 0.0845 - accuracy: 0.3921 - val_loss: 0.0821 - val_accuracy: 0.4409\n",
      "Epoch 3/30\n",
      " - 1s - loss: 0.0796 - accuracy: 0.4997 - val_loss: 0.0765 - val_accuracy: 0.5340\n",
      "Epoch 4/30\n",
      " - 1s - loss: 0.0740 - accuracy: 0.5620 - val_loss: 0.0707 - val_accuracy: 0.5852\n",
      "Epoch 5/30\n",
      " - 1s - loss: 0.0682 - accuracy: 0.6149 - val_loss: 0.0649 - val_accuracy: 0.6522\n",
      "Epoch 6/30\n",
      " - 1s - loss: 0.0625 - accuracy: 0.6759 - val_loss: 0.0594 - val_accuracy: 0.6998\n",
      "Epoch 7/30\n",
      " - 1s - loss: 0.0576 - accuracy: 0.7101 - val_loss: 0.0551 - val_accuracy: 0.7316\n",
      "Epoch 8/30\n",
      " - 1s - loss: 0.0537 - accuracy: 0.7325 - val_loss: 0.0516 - val_accuracy: 0.7485\n",
      "Epoch 9/30\n",
      " - 1s - loss: 0.0505 - accuracy: 0.7474 - val_loss: 0.0486 - val_accuracy: 0.7639\n",
      "Epoch 10/30\n",
      " - 1s - loss: 0.0478 - accuracy: 0.7609 - val_loss: 0.0461 - val_accuracy: 0.7759\n",
      "Epoch 11/30\n",
      " - 1s - loss: 0.0455 - accuracy: 0.7739 - val_loss: 0.0439 - val_accuracy: 0.7893\n",
      "Epoch 12/30\n",
      " - 1s - loss: 0.0435 - accuracy: 0.7859 - val_loss: 0.0420 - val_accuracy: 0.8023\n",
      "Epoch 13/30\n",
      " - 1s - loss: 0.0417 - accuracy: 0.7977 - val_loss: 0.0402 - val_accuracy: 0.8132\n",
      "Epoch 14/30\n",
      " - 1s - loss: 0.0400 - accuracy: 0.8083 - val_loss: 0.0386 - val_accuracy: 0.8255\n",
      "Epoch 15/30\n",
      " - 1s - loss: 0.0385 - accuracy: 0.8192 - val_loss: 0.0371 - val_accuracy: 0.8359\n",
      "Epoch 16/30\n",
      " - 1s - loss: 0.0371 - accuracy: 0.8288 - val_loss: 0.0358 - val_accuracy: 0.8432\n",
      "Epoch 17/30\n",
      " - 1s - loss: 0.0359 - accuracy: 0.8371 - val_loss: 0.0345 - val_accuracy: 0.8503\n",
      "Epoch 18/30\n",
      " - 1s - loss: 0.0347 - accuracy: 0.8440 - val_loss: 0.0334 - val_accuracy: 0.8557\n",
      "Epoch 19/30\n",
      " - 1s - loss: 0.0336 - accuracy: 0.8506 - val_loss: 0.0323 - val_accuracy: 0.8618\n",
      "Epoch 20/30\n",
      " - 1s - loss: 0.0326 - accuracy: 0.8565 - val_loss: 0.0313 - val_accuracy: 0.8651\n",
      "Epoch 21/30\n",
      " - 1s - loss: 0.0316 - accuracy: 0.8610 - val_loss: 0.0304 - val_accuracy: 0.8706\n",
      "Epoch 22/30\n",
      " - 1s - loss: 0.0308 - accuracy: 0.8646 - val_loss: 0.0295 - val_accuracy: 0.8742\n",
      "Epoch 23/30\n",
      " - 1s - loss: 0.0299 - accuracy: 0.8680 - val_loss: 0.0287 - val_accuracy: 0.8777\n",
      "Epoch 24/30\n",
      " - 1s - loss: 0.0292 - accuracy: 0.8709 - val_loss: 0.0280 - val_accuracy: 0.8790\n",
      "Epoch 25/30\n",
      " - 1s - loss: 0.0285 - accuracy: 0.8738 - val_loss: 0.0273 - val_accuracy: 0.8814\n",
      "Epoch 26/30\n",
      " - 1s - loss: 0.0278 - accuracy: 0.8765 - val_loss: 0.0267 - val_accuracy: 0.8845\n",
      "Epoch 27/30\n",
      " - 1s - loss: 0.0272 - accuracy: 0.8787 - val_loss: 0.0261 - val_accuracy: 0.8863\n",
      "Epoch 28/30\n",
      " - 1s - loss: 0.0266 - accuracy: 0.8814 - val_loss: 0.0255 - val_accuracy: 0.8878\n",
      "Epoch 29/30\n",
      " - 1s - loss: 0.0261 - accuracy: 0.8829 - val_loss: 0.0250 - val_accuracy: 0.8894\n",
      "Epoch 30/30\n",
      " - 1s - loss: 0.0256 - accuracy: 0.8844 - val_loss: 0.0245 - val_accuracy: 0.8904\n"
     ]
    },
    {
     "data": {
      "image/png": "[encoded data removed]",
      "text/plain": [
       "<Figure size 432x288 with 1 Axes>"
      ]
     },
     "metadata": {
      "needs_background": "light"
     },
     "output_type": "display_data"
    }
   ],
   "source": [
    "hist = model.fit(X_train, Y_train, nb_epoch=30, batch_size=100, validation_data=(X_test, Y_test), verbose=2)\n",
    "plt.plot(hist.history['loss'])\n",
    "plt.show()"
   ]
  },
  {
   "cell_type": "code",
   "execution_count": 165,
   "metadata": {},
   "outputs": [
    {
     "data": {
      "image/png": "[encoded data removed]",
      "text/plain": [
       "<Figure size 432x288 with 1 Axes>"
      ]
     },
     "metadata": {
      "needs_background": "light"
     },
     "output_type": "display_data"
    },
    {
     "name": "stdout",
     "output_type": "stream",
     "text": [
      "<keras.engine.sequential.Sequential object at 0x00000219B80A2288> \n",
      "\n",
      "{'batch_size': 100, 'epochs': 30, 'steps': None, 'samples': 60000, 'verbose': 2, 'do_validation': True, 'metrics': ['loss', 'accuracy', 'val_loss', 'val_accuracy']} \n",
      "\n",
      "[0.24401666, 0.39213333, 0.49971667, 0.56201667, 0.6149167, 0.6759167, 0.7101333, 0.7325, 0.7474167, 0.76085, 0.77395, 0.7858833, 0.79766667, 0.8082833, 0.81918335, 0.82878333, 0.83713335, 0.84403336, 0.8506333, 0.85646665, 0.8609667, 0.8646167, 0.86795, 0.87091666, 0.87381667, 0.87651664, 0.8786833, 0.88136667, 0.8829, 0.8844] \n",
      "\n",
      "0.8903999924659729\n"
     ]
    }
   ],
   "source": [
    "plt.plot(hist.history['accuracy'],'b-', label='training')\n",
    "plt.plot(hist.history['val_accuracy'],'r:', label='test')\n",
    "plt.legend()\n",
    "plt.show()\n",
    "\n",
    "print(hist.model,'\\n')\n",
    "print(hist.params,'\\n')\n",
    "print(hist.history['accuracy'],'\\n')\n",
    "print(hist.history['val_accuracy'][29])"
   ]
  },
  {
   "cell_type": "code",
   "execution_count": 166,
   "metadata": {},
   "outputs": [],
   "source": [
    "# callback class\n",
    "# callback 함수를 사속받으면 custom callback 함수를 제작할 수 있다.\n",
    "# >> keras가 가지고있는 callback기능을 함수에 의해서 호출되는 객체이다.\n",
    "\n",
    "# () 안에 보이는것처럼 상속을 받는다. \n",
    "class CustomHistory(keras.callbacks.Callback): \n",
    "    def init(self):   #__init 랑 다른가??? (이해안됨)  \n",
    "        self.train_loss = []\n",
    "        self.val_loss = []\n",
    "        self.train_acc = []\n",
    "        self.val_acc = []\n",
    "        \n",
    "    # 오버라이딩하고있다 (배치와 로고가 매개변수로 들어온다) \n",
    "    def on_epoch_end(self, batch,logs={}):  \n",
    "        self.train_loss.append(logs.get('loss'))\n",
    "        self.val_loss.append(logs.get('val_loss'))\n",
    "        self.train_acc.append(logs.get('acc'))\n",
    "        self.val_acc.append(logs.get('val_acc'))"
   ]
  },
  {
   "cell_type": "code",
   "execution_count": 172,
   "metadata": {
    "scrolled": false
   },
   "outputs": [
    {
     "name": "stderr",
     "output_type": "stream",
     "text": [
      "C:\\ProgramData\\Anaconda3\\lib\\site-packages\\ipykernel_launcher.py:3: UserWarning: The `nb_epoch` argument in `fit` has been renamed `epochs`.\n",
      "  This is separate from the ipykernel package so we can avoid doing imports until\n"
     ]
    },
    {
     "name": "stdout",
     "output_type": "stream",
     "text": [
      "Train on 60000 samples, validate on 10000 samples\n",
      "Epoch 1/30\n",
      " - 1s - loss: 0.0128 - accuracy: 0.9271 - val_loss: 0.0128 - val_accuracy: 0.9261\n",
      "Epoch 2/30\n",
      " - 1s - loss: 0.0128 - accuracy: 0.9271 - val_loss: 0.0127 - val_accuracy: 0.9261\n",
      "Epoch 3/30\n",
      " - 1s - loss: 0.0128 - accuracy: 0.9273 - val_loss: 0.0127 - val_accuracy: 0.9256\n",
      "Epoch 4/30\n",
      " - 1s - loss: 0.0128 - accuracy: 0.9275 - val_loss: 0.0127 - val_accuracy: 0.9262\n",
      "Epoch 5/30\n",
      " - 1s - loss: 0.0127 - accuracy: 0.9275 - val_loss: 0.0127 - val_accuracy: 0.9260\n",
      "Epoch 6/30\n",
      " - 1s - loss: 0.0127 - accuracy: 0.9276 - val_loss: 0.0127 - val_accuracy: 0.9264\n",
      "Epoch 7/30\n",
      " - 1s - loss: 0.0127 - accuracy: 0.9276 - val_loss: 0.0127 - val_accuracy: 0.9265\n",
      "Epoch 8/30\n",
      " - 1s - loss: 0.0127 - accuracy: 0.9277 - val_loss: 0.0127 - val_accuracy: 0.9264\n",
      "Epoch 9/30\n",
      " - 1s - loss: 0.0127 - accuracy: 0.9279 - val_loss: 0.0126 - val_accuracy: 0.9269\n",
      "Epoch 10/30\n",
      " - 1s - loss: 0.0127 - accuracy: 0.9280 - val_loss: 0.0126 - val_accuracy: 0.9270\n",
      "Epoch 11/30\n",
      " - 1s - loss: 0.0126 - accuracy: 0.9278 - val_loss: 0.0126 - val_accuracy: 0.9269\n",
      "Epoch 12/30\n",
      " - 1s - loss: 0.0126 - accuracy: 0.9281 - val_loss: 0.0126 - val_accuracy: 0.9267\n",
      "Epoch 13/30\n",
      " - 1s - loss: 0.0126 - accuracy: 0.9284 - val_loss: 0.0126 - val_accuracy: 0.9271\n",
      "Epoch 14/30\n",
      " - 1s - loss: 0.0126 - accuracy: 0.9284 - val_loss: 0.0126 - val_accuracy: 0.9272\n",
      "Epoch 15/30\n",
      " - 1s - loss: 0.0126 - accuracy: 0.9283 - val_loss: 0.0126 - val_accuracy: 0.9273\n",
      "Epoch 16/30\n",
      " - 1s - loss: 0.0126 - accuracy: 0.9284 - val_loss: 0.0125 - val_accuracy: 0.9273\n",
      "Epoch 17/30\n",
      " - 1s - loss: 0.0125 - accuracy: 0.9286 - val_loss: 0.0125 - val_accuracy: 0.9271\n",
      "Epoch 18/30\n",
      " - 1s - loss: 0.0125 - accuracy: 0.9287 - val_loss: 0.0125 - val_accuracy: 0.9272\n",
      "Epoch 19/30\n",
      " - 1s - loss: 0.0125 - accuracy: 0.9288 - val_loss: 0.0125 - val_accuracy: 0.9273\n",
      "Epoch 20/30\n",
      " - 1s - loss: 0.0125 - accuracy: 0.9289 - val_loss: 0.0125 - val_accuracy: 0.9276\n",
      "Epoch 21/30\n",
      " - 1s - loss: 0.0125 - accuracy: 0.9293 - val_loss: 0.0125 - val_accuracy: 0.9276\n",
      "Epoch 22/30\n",
      " - 1s - loss: 0.0125 - accuracy: 0.9290 - val_loss: 0.0125 - val_accuracy: 0.9276\n",
      "Epoch 23/30\n",
      " - 1s - loss: 0.0124 - accuracy: 0.9291 - val_loss: 0.0124 - val_accuracy: 0.9277\n",
      "Epoch 24/30\n",
      " - 1s - loss: 0.0124 - accuracy: 0.9294 - val_loss: 0.0124 - val_accuracy: 0.9275\n",
      "Epoch 25/30\n",
      " - 1s - loss: 0.0124 - accuracy: 0.9296 - val_loss: 0.0124 - val_accuracy: 0.9275\n",
      "Epoch 26/30\n",
      " - 1s - loss: 0.0124 - accuracy: 0.9296 - val_loss: 0.0124 - val_accuracy: 0.9280\n",
      "Epoch 27/30\n",
      " - 1s - loss: 0.0124 - accuracy: 0.9296 - val_loss: 0.0124 - val_accuracy: 0.9278\n",
      "Epoch 28/30\n",
      " - 1s - loss: 0.0124 - accuracy: 0.9298 - val_loss: 0.0124 - val_accuracy: 0.9276\n",
      "Epoch 29/30\n",
      " - 1s - loss: 0.0123 - accuracy: 0.9298 - val_loss: 0.0124 - val_accuracy: 0.9278\n",
      "Epoch 30/30\n",
      " - 1s - loss: 0.0123 - accuracy: 0.9299 - val_loss: 0.0124 - val_accuracy: 0.9282\n"
     ]
    },
    {
     "data": {
      "image/png": "[encoded data removed]",
      "text/plain": [
       "<Figure size 432x288 with 1 Axes>"
      ]
     },
     "metadata": {
      "needs_background": "light"
     },
     "output_type": "display_data"
    },
    {
     "data": {
      "image/png": "[encoded data removed]",
      "text/plain": [
       "<Figure size 432x288 with 1 Axes>"
      ]
     },
     "metadata": {
      "needs_background": "light"
     },
     "output_type": "display_data"
    },
    {
     "data": {
      "image/png": "[encoded data removed]",
      "text/plain": [
       "<Figure size 432x288 with 1 Axes>"
      ]
     },
     "metadata": {
      "needs_background": "light"
     },
     "output_type": "display_data"
    },
    {
     "data": {
      "image/png": "[encoded data removed]",
      "text/plain": [
       "<Figure size 432x288 with 1 Axes>"
      ]
     },
     "metadata": {
      "needs_background": "light"
     },
     "output_type": "display_data"
    }
   ],
   "source": [
    "custom_hist = CustomHistory()\n",
    "custom_hist.init()\n",
    "hist = model.fit(X_train, Y_train, nb_epoch=30, batch_size=100, validation_data=(X_test,Y_test), callbacks=[custom_hist], verbose=2)\n",
    "\n",
    "plt.plot(hist.history['loss'])\n",
    "plt.title('loss')\n",
    "plt.show()\n",
    "plt.plot(hist.history['val_loss'])\n",
    "plt.title('val_loss')\n",
    "plt.show()\n",
    "plt.plot(hist.history['accuracy'])\n",
    "plt.title('accuracy')\n",
    "plt.show()\n",
    "plt.plot(hist.history['val_accuracy'])\n",
    "plt.title('val_accuracy')\n",
    "plt.show()"
   ]
  },
  {
   "cell_type": "code",
   "execution_count": 173,
   "metadata": {},
   "outputs": [
    {
     "data": {
      "image/png": "[encoded data removed]",
      "text/plain": [
       "<Figure size 432x288 with 1 Axes>"
      ]
     },
     "metadata": {
      "needs_background": "light"
     },
     "output_type": "display_data"
    },
    {
     "name": "stdout",
     "output_type": "stream",
     "text": [
      "<keras.engine.sequential.Sequential object at 0x00000219B80A2288>\n",
      "{'batch_size': 100, 'epochs': 30, 'steps': None, 'samples': 60000, 'verbose': 2, 'do_validation': True, 'metrics': ['loss', 'accuracy', 'val_loss', 'val_accuracy']}\n",
      "[0.9271167, 0.9271333, 0.92728335, 0.9274833, 0.92745, 0.92763335, 0.92755, 0.9277167, 0.92785, 0.92801666, 0.9278167, 0.92815, 0.9284, 0.92841667, 0.92835, 0.92843336, 0.92861664, 0.92875, 0.92885, 0.9288667, 0.92931664, 0.92898333, 0.9291, 0.92936665, 0.9295667, 0.9296, 0.9296167, 0.92981666, 0.92978334, 0.9299333]\n",
      "0.9282000064849854\n"
     ]
    },
    {
     "data": {
      "image/png": "[encoded data removed]",
      "text/plain": [
       "<Figure size 432x288 with 1 Axes>"
      ]
     },
     "metadata": {
      "needs_background": "light"
     },
     "output_type": "display_data"
    }
   ],
   "source": [
    "plt.plot(hist.history['accuracy'],'-b', label='training')\n",
    "plt.plot(hist.history['val_accuracy'], 'r:', label='test')\n",
    "plt.legend()\n",
    "plt.show()\n",
    "\n",
    "print(hist.model)\n",
    "print(hist.params)\n",
    "print(hist.history['accuracy'])\n",
    "print(hist.history['val_accuracy'][29])\n",
    "plt.show()\n",
    "plt.plot(custom_hist.train_loss, 'y', label='train loss')\n",
    "plt.show()"
   ]
  },
  {
   "cell_type": "code",
   "execution_count": 174,
   "metadata": {},
   "outputs": [
    {
     "data": {
      "text/plain": [
       "array([[9.05752182e-04, 3.42965126e-04, 2.22197175e-03, 1.30524635e-02,\n",
       "        4.48167324e-04, 3.25250626e-03, 2.96175480e-04, 9.74748731e-01,\n",
       "        7.51697691e-04, 2.65326397e-03]], dtype=float32)"
      ]
     },
     "execution_count": 174,
     "metadata": {},
     "output_type": "execute_result"
    }
   ],
   "source": [
    "# 문제 : X_test의 이미지 한장의 label을 예측\n",
    "model.predict(X_test[:1,:])"
   ]
  },
  {
   "cell_type": "code",
   "execution_count": 177,
   "metadata": {},
   "outputs": [
    {
     "data": {
      "text/plain": [
       "array([7, 2, 1, 0, 4], dtype=int64)"
      ]
     },
     "execution_count": 177,
     "metadata": {},
     "output_type": "execute_result"
    }
   ],
   "source": [
    "model.predict_classes(X_test[:5,:], verbose=0)"
   ]
  },
  {
   "cell_type": "code",
   "execution_count": null,
   "metadata": {},
   "outputs": [],
   "source": []
  },
  {
   "cell_type": "markdown",
   "metadata": {},
   "source": [
    "# 회귀"
   ]
  },
  {
   "cell_type": "code",
   "execution_count": 178,
   "metadata": {},
   "outputs": [
    {
     "name": "stdout",
     "output_type": "stream",
     "text": [
      "Downloading data from https://s3.amazonaws.com/keras-datasets/boston_housing.npz\n",
      "57344/57026 [==============================] - 0s 9us/step\n"
     ]
    },
    {
     "data": {
      "text/plain": [
       "(404, 13)"
      ]
     },
     "execution_count": 178,
     "metadata": {},
     "output_type": "execute_result"
    }
   ],
   "source": [
    "from keras.datasets import boston_housing\n",
    "(X_train, Y_train),(X_test, Y_test) = boston_housing.load_data()\n",
    "X_train.shape"
   ]
  },
  {
   "cell_type": "code",
   "execution_count": 181,
   "metadata": {},
   "outputs": [],
   "source": [
    "model = Sequential()\n",
    "num_features=13\n",
    "model.add(Dense(1, input_dim=num_features, activation='linear'))"
   ]
  },
  {
   "cell_type": "code",
   "execution_count": 184,
   "metadata": {},
   "outputs": [
    {
     "name": "stdout",
     "output_type": "stream",
     "text": [
      "Model: \"sequential_3\"\n",
      "_________________________________________________________________\n",
      "Layer (type)                 Output Shape              Param #   \n",
      "=================================================================\n",
      "dense_6 (Dense)              (None, 1)                 14        \n",
      "=================================================================\n",
      "Total params: 14\n",
      "Trainable params: 14\n",
      "Non-trainable params: 0\n",
      "_________________________________________________________________\n",
      "Epoch 1/10\n",
      "404/404 [==============================] - 0s 923us/step - loss: 5344.0229 - mae: 59.3255\n",
      "Epoch 2/10\n",
      "404/404 [==============================] - ETA: 0s - loss: 2540.5540 - mae: 38.262 - 0s 827us/step - loss: 2483.4252 - mae: 37.7262\n",
      "Epoch 3/10\n",
      "404/404 [==============================] - 0s 1ms/step - loss: 964.0108 - mae: 22.7866\n",
      "Epoch 4/10\n",
      "404/404 [==============================] - 0s 780us/step - loss: 367.6623 - mae: 14.1583\n",
      "Epoch 5/10\n",
      "404/404 [==============================] - 0s 746us/step - loss: 191.0220 - mae: 10.6001\n",
      "Epoch 6/10\n",
      "404/404 [==============================] - 0s 755us/step - loss: 141.1777 - mae: 8.8957\n",
      "Epoch 7/10\n",
      "404/404 [==============================] - 0s 743us/step - loss: 122.7329 - mae: 8.1423\n",
      "Epoch 8/10\n",
      "404/404 [==============================] - 0s 748us/step - loss: 109.9203 - mae: 7.7184\n",
      "Epoch 9/10\n",
      "404/404 [==============================] - 0s 871us/step - loss: 102.2506 - mae: 7.3243\n",
      "Epoch 10/10\n",
      "404/404 [==============================] - 0s 750us/step - loss: 95.4992 - mae: 7.0705\n"
     ]
    },
    {
     "data": {
      "text/plain": [
       "<keras.callbacks.callbacks.History at 0x219b8b2de08>"
      ]
     },
     "execution_count": 184,
     "metadata": {},
     "output_type": "execute_result"
    }
   ],
   "source": [
    "model.summary()\n",
    "model.compile(optimizer='rmsprop', loss='mse', metrics=['mae'])\n",
    "model.fit(X_train, Y_train, batch_size=1, epochs=10, verbose=1)"
   ]
  },
  {
   "cell_type": "code",
   "execution_count": 185,
   "metadata": {},
   "outputs": [
    {
     "data": {
      "text/plain": [
       "(95.38576941396676, 9.766563848865514, 7.369382381439209)"
      ]
     },
     "execution_count": 185,
     "metadata": {},
     "output_type": "execute_result"
    }
   ],
   "source": [
    "# 아까는 accuracy 였는데 지금은 mae???(metrics에 mae지정했지때문에)\n",
    "mse, mae = model.evaluate(X_test, Y_test, verbose=False)\n",
    "rmse = np.sqrt(mse)\n",
    "mse, rmse, mae"
   ]
  },
  {
   "cell_type": "code",
   "execution_count": 204,
   "metadata": {},
   "outputs": [
    {
     "data": {
      "text/plain": [
       "(3,)"
      ]
     },
     "execution_count": 204,
     "metadata": {},
     "output_type": "execute_result"
    }
   ],
   "source": [
    "# 문제 : X_test의 앞의 3집을 예측\n",
    "pred = model.predict(X_test[:3,:])\n",
    "real = Y_test[:3]\n",
    "real.shape"
   ]
  },
  {
   "cell_type": "code",
   "execution_count": 205,
   "metadata": {},
   "outputs": [
    {
     "data": {
      "text/plain": [
       "(3,)"
      ]
     },
     "execution_count": 205,
     "metadata": {},
     "output_type": "execute_result"
    }
   ],
   "source": [
    "pred = pred.reshape(3,)\n",
    "pred.shape"
   ]
  },
  {
   "cell_type": "code",
   "execution_count": 206,
   "metadata": {},
   "outputs": [
    {
     "data": {
      "text/plain": [
       "array([[1.        , 0.99253368],\n",
       "       [0.99253368, 1.        ]])"
      ]
     },
     "execution_count": 206,
     "metadata": {},
     "output_type": "execute_result"
    }
   ],
   "source": [
    "# 상관계수 확인\n",
    "import numpy as np\n",
    "np.corrcoef(pred, real)"
   ]
  },
  {
   "cell_type": "markdown",
   "metadata": {},
   "source": [
    "# 분류"
   ]
  },
  {
   "cell_type": "code",
   "execution_count": 207,
   "metadata": {},
   "outputs": [],
   "source": [
    "# scitkits--- KerasClassifier\n",
    "import numpy as np\n",
    "from sklearn.model_selection import GridSearchCV\n",
    "from keras.models import Sequential\n",
    "from keras.layers import Dense, Dropout\n",
    "from keras.wrappers.scikit_learn import KerasClassifier"
   ]
  },
  {
   "cell_type": "code",
   "execution_count": 213,
   "metadata": {},
   "outputs": [
    {
     "name": "stdout",
     "output_type": "stream",
     "text": [
      "(768, 9)\n",
      "(768, 8)\n",
      "(768,)\n"
     ]
    }
   ],
   "source": [
    "# 768x9 => 768x8 => 독립변수, 768x1 종속변수\n",
    "#  변수 8\n",
    "def create_model():\n",
    "    model = Sequential()\n",
    "    model.add(Dense(12, input_dim=8, activation='relu'))\n",
    "    model.add(Dense(1, activation='sigmoid'))\n",
    "    model.compile(loss='binary_crossentropy', optimizer='adam', metrics=['accuracy'])\n",
    "    return model\n",
    "\n",
    "seed =7\n",
    "np.random.seed(seed)\n",
    "dataset = np.loadtxt('pima.csv', delimiter=',')\n",
    "print(dataset.shape)\n",
    "\n",
    "X = dataset[:,0:8]\n",
    "Y = dataset[:,8]\n",
    "\n",
    "model = KerasClassifier(build_fn=create_model, verbose=0)\n",
    "\n",
    "print(X.shape)\n",
    "print(Y.shape)"
   ]
  },
  {
   "cell_type": "code",
   "execution_count": 215,
   "metadata": {},
   "outputs": [
    {
     "name": "stdout",
     "output_type": "stream",
     "text": [
      "0.64062, (0.04146) with : {'batch_size': 10, 'epochs': 10}\n",
      "0.61068, (0.05156) with : {'batch_size': 10, 'epochs': 50}\n",
      "0.70703, (0.02491) with : {'batch_size': 10, 'epochs': 100}\n",
      "0.57943, (0.05126) with : {'batch_size': 20, 'epochs': 10}\n",
      "0.66276, (0.00184) with : {'batch_size': 20, 'epochs': 50}\n",
      "0.70182, (0.02656) with : {'batch_size': 20, 'epochs': 100}\n",
      "0.50260, (0.10047) with : {'batch_size': 40, 'epochs': 10}\n",
      "0.66536, (0.02477) with : {'batch_size': 40, 'epochs': 50}\n",
      "0.69531, (0.03360) with : {'batch_size': 40, 'epochs': 100}\n",
      "0.59375, (0.03880) with : {'batch_size': 60, 'epochs': 10}\n",
      "0.63411, (0.01438) with : {'batch_size': 60, 'epochs': 50}\n",
      "0.66536, (0.01507) with : {'batch_size': 60, 'epochs': 100}\n",
      "0.53255, (0.09102) with : {'batch_size': 80, 'epochs': 10}\n",
      "0.63542, (0.01949) with : {'batch_size': 80, 'epochs': 50}\n",
      "0.65885, (0.00737) with : {'batch_size': 80, 'epochs': 100}\n",
      "0.51432, (0.06334) with : {'batch_size': 100, 'epochs': 10}\n",
      "0.61068, (0.01328) with : {'batch_size': 100, 'epochs': 50}\n",
      "0.66667, (0.03065) with : {'batch_size': 100, 'epochs': 100}\n",
      "최적 스코어 : 0.70703125, 사용한 파라미터 조합 : {'batch_size': 10, 'epochs': 100}\n"
     ]
    }
   ],
   "source": [
    "# 파라미터 조합\n",
    "batch_size = [10,20,40,60,80,100]\n",
    "epochs=[10,50,100]\n",
    "# 매개변수 입력 형태는 dictionary\n",
    "param_grid = dict(batch_size = batch_size, epochs = epochs)\n",
    "\n",
    "grid = GridSearchCV(estimator=model, param_grid=param_grid, n_jobs=-1)\n",
    "grid_result = grid.fit(X,Y)\n",
    "\n",
    "means = grid_result.cv_results_['mean_test_score']\n",
    "stds = grid_result.cv_results_['std_test_score']\n",
    "params = grid_result.cv_results_['params']\n",
    "\n",
    "for mean, stdev, param in zip(means, stds, params):\n",
    "    print('{:.5f}, ({:.5f}) with : {}'.format(mean, stdev, param))\n",
    "    \n",
    "print('최적 스코어 : {}, 사용한 파라미터 조합 : {}'.format(grid_result.best_score_,grid_result.best_params_))"
   ]
  },
  {
   "cell_type": "markdown",
   "metadata": {},
   "source": [
    "#### 가중치 초기화 매개변수를 넣고 "
   ]
  },
  {
   "cell_type": "code",
   "execution_count": 216,
   "metadata": {},
   "outputs": [],
   "source": [
    "init_mode = ['uniform' , 'lecun_uniform', 'normal', 'zero','glorot_normal', 'glorot_uniform', 'he_normal', 'he_uniform']\n",
    "activation = ['softmax','softplus','softsign','relu','tanh','sigmoid','hard_sigmoid','linear']"
   ]
  },
  {
   "cell_type": "code",
   "execution_count": 218,
   "metadata": {},
   "outputs": [
    {
     "name": "stdout",
     "output_type": "stream",
     "text": [
      "(768, 9)\n",
      "(768, 8)\n",
      "(768,)\n"
     ]
    }
   ],
   "source": [
    "# 768x9 => 768x8 => 독립변수, 768x1 종속변수\n",
    "#  변수 8\n",
    "def create_model(init_mode, activation):\n",
    "    model = Sequential()\n",
    "    model.add(Dense(12, input_dim=8,activation=activation))\n",
    "    model.add(Dense(1, activation='sigmoid', kernel_initializer = init_mode))\n",
    "    model.compile(loss='binary_crossentropy', optimizer='adam', metrics=['accuracy'])\n",
    "    return model\n",
    "\n",
    "seed =7\n",
    "np.random.seed(seed)\n",
    "dataset = np.loadtxt('pima.csv', delimiter=',')\n",
    "print(dataset.shape)\n",
    "\n",
    "X = dataset[:,0:8]\n",
    "Y = dataset[:,8]\n",
    "\n",
    "model = KerasClassifier(build_fn=create_model, verbose=0)\n",
    "\n",
    "print(X.shape)\n",
    "print(Y.shape)"
   ]
  },
  {
   "cell_type": "code",
   "execution_count": 220,
   "metadata": {},
   "outputs": [
    {
     "name": "stdout",
     "output_type": "stream",
     "text": [
      "0.63281, (0.01992) with : {'activation': 'softmax', 'init_mode': 'uniform'}\n",
      "0.65625, (0.01595) with : {'activation': 'softmax', 'init_mode': 'lecun_uniform'}\n",
      "0.64193, (0.01949) with : {'activation': 'softmax', 'init_mode': 'normal'}\n",
      "0.62891, (0.01992) with : {'activation': 'softmax', 'init_mode': 'zero'}\n",
      "0.64714, (0.02436) with : {'activation': 'softmax', 'init_mode': 'glorot_normal'}\n",
      "0.62630, (0.01025) with : {'activation': 'softmax', 'init_mode': 'glorot_uniform'}\n",
      "0.66797, (0.02408) with : {'activation': 'softmax', 'init_mode': 'he_normal'}\n",
      "0.64714, (0.01025) with : {'activation': 'softmax', 'init_mode': 'he_uniform'}\n",
      "0.67578, (0.02408) with : {'activation': 'softplus', 'init_mode': 'uniform'}\n",
      "0.70964, (0.01120) with : {'activation': 'softplus', 'init_mode': 'lecun_uniform'}\n",
      "0.69922, (0.01992) with : {'activation': 'softplus', 'init_mode': 'normal'}\n",
      "0.71875, (0.01776) with : {'activation': 'softplus', 'init_mode': 'zero'}\n",
      "0.67448, (0.02436) with : {'activation': 'softplus', 'init_mode': 'glorot_normal'}\n",
      "0.70052, (0.01120) with : {'activation': 'softplus', 'init_mode': 'glorot_uniform'}\n",
      "0.71094, (0.00638) with : {'activation': 'softplus', 'init_mode': 'he_normal'}\n",
      "0.67057, (0.04882) with : {'activation': 'softplus', 'init_mode': 'he_uniform'}\n",
      "0.67708, (0.01025) with : {'activation': 'softsign', 'init_mode': 'uniform'}\n",
      "0.67448, (0.03147) with : {'activation': 'softsign', 'init_mode': 'lecun_uniform'}\n",
      "0.63932, (0.02263) with : {'activation': 'softsign', 'init_mode': 'normal'}\n",
      "0.67448, (0.01473) with : {'activation': 'softsign', 'init_mode': 'zero'}\n",
      "0.67839, (0.01757) with : {'activation': 'softsign', 'init_mode': 'glorot_normal'}\n",
      "0.65495, (0.01637) with : {'activation': 'softsign', 'init_mode': 'glorot_uniform'}\n",
      "0.67708, (0.02351) with : {'activation': 'softsign', 'init_mode': 'he_normal'}\n",
      "0.67578, (0.03867) with : {'activation': 'softsign', 'init_mode': 'he_uniform'}\n",
      "0.71094, (0.00844) with : {'activation': 'relu', 'init_mode': 'uniform'}\n",
      "0.71745, (0.02124) with : {'activation': 'relu', 'init_mode': 'lecun_uniform'}\n",
      "0.71484, (0.02408) with : {'activation': 'relu', 'init_mode': 'normal'}\n",
      "0.69661, (0.00368) with : {'activation': 'relu', 'init_mode': 'zero'}\n",
      "0.73177, (0.02240) with : {'activation': 'relu', 'init_mode': 'glorot_normal'}\n",
      "0.71094, (0.01105) with : {'activation': 'relu', 'init_mode': 'glorot_uniform'}\n",
      "0.71224, (0.01605) with : {'activation': 'relu', 'init_mode': 'he_normal'}\n",
      "0.67708, (0.04882) with : {'activation': 'relu', 'init_mode': 'he_uniform'}\n",
      "0.66797, (0.03880) with : {'activation': 'tanh', 'init_mode': 'uniform'}\n",
      "0.66406, (0.03315) with : {'activation': 'tanh', 'init_mode': 'lecun_uniform'}\n",
      "0.63021, (0.03669) with : {'activation': 'tanh', 'init_mode': 'normal'}\n",
      "0.65885, (0.04615) with : {'activation': 'tanh', 'init_mode': 'zero'}\n",
      "0.64714, (0.01605) with : {'activation': 'tanh', 'init_mode': 'glorot_normal'}\n",
      "0.64193, (0.00921) with : {'activation': 'tanh', 'init_mode': 'glorot_uniform'}\n",
      "0.63411, (0.02351) with : {'activation': 'tanh', 'init_mode': 'he_normal'}\n",
      "0.65885, (0.01120) with : {'activation': 'tanh', 'init_mode': 'he_uniform'}\n",
      "0.65885, (0.02394) with : {'activation': 'sigmoid', 'init_mode': 'uniform'}\n",
      "0.68099, (0.02946) with : {'activation': 'sigmoid', 'init_mode': 'lecun_uniform'}\n",
      "0.66276, (0.00487) with : {'activation': 'sigmoid', 'init_mode': 'normal'}\n",
      "0.65234, (0.02233) with : {'activation': 'sigmoid', 'init_mode': 'zero'}\n",
      "0.67708, (0.00664) with : {'activation': 'sigmoid', 'init_mode': 'glorot_normal'}\n",
      "0.64974, (0.01814) with : {'activation': 'sigmoid', 'init_mode': 'glorot_uniform'}\n",
      "0.66927, (0.00487) with : {'activation': 'sigmoid', 'init_mode': 'he_normal'}\n",
      "0.68750, (0.03450) with : {'activation': 'sigmoid', 'init_mode': 'he_uniform'}\n",
      "0.66146, (0.04039) with : {'activation': 'hard_sigmoid', 'init_mode': 'uniform'}\n",
      "0.64844, (0.04431) with : {'activation': 'hard_sigmoid', 'init_mode': 'lecun_uniform'}\n",
      "0.67448, (0.01438) with : {'activation': 'hard_sigmoid', 'init_mode': 'normal'}\n",
      "0.65495, (0.03098) with : {'activation': 'hard_sigmoid', 'init_mode': 'zero'}\n",
      "0.63802, (0.03350) with : {'activation': 'hard_sigmoid', 'init_mode': 'glorot_normal'}\n",
      "0.66927, (0.01208) with : {'activation': 'hard_sigmoid', 'init_mode': 'glorot_uniform'}\n",
      "0.66146, (0.01814) with : {'activation': 'hard_sigmoid', 'init_mode': 'he_normal'}\n",
      "0.67188, (0.03141) with : {'activation': 'hard_sigmoid', 'init_mode': 'he_uniform'}\n",
      "0.70312, (0.01150) with : {'activation': 'linear', 'init_mode': 'uniform'}\n",
      "0.74089, (0.03499) with : {'activation': 'linear', 'init_mode': 'lecun_uniform'}\n",
      "0.68620, (0.00921) with : {'activation': 'linear', 'init_mode': 'normal'}\n",
      "0.70573, (0.00974) with : {'activation': 'linear', 'init_mode': 'zero'}\n",
      "0.72786, (0.02124) with : {'activation': 'linear', 'init_mode': 'glorot_normal'}\n",
      "0.72005, (0.00368) with : {'activation': 'linear', 'init_mode': 'glorot_uniform'}\n",
      "0.65625, (0.04499) with : {'activation': 'linear', 'init_mode': 'he_normal'}\n",
      "0.68359, (0.02611) with : {'activation': 'linear', 'init_mode': 'he_uniform'}\n",
      "최적 스코어 : 0.7408854166666666, 사용한 파라미터 조합 : {'activation': 'linear', 'init_mode': 'lecun_uniform'}\n"
     ]
    }
   ],
   "source": [
    "# 파라미터 조합\n",
    "batch_size = [10,20,40,60,80,100]\n",
    "epochs=[10,50,100]\n",
    "# 매개변수 입력 형태는 dictionary\n",
    "param_grid = dict(init_mode=init_mode, activation=activation)\n",
    "\n",
    "grid = GridSearchCV(estimator=model, param_grid=param_grid, n_jobs=-1)\n",
    "grid_result = grid.fit(X,Y, batch_size = 10, epochs=100)\n",
    "\n",
    "means = grid_result.cv_results_['mean_test_score']\n",
    "stds = grid_result.cv_results_['std_test_score']\n",
    "params = grid_result.cv_results_['params']\n",
    "\n",
    "for mean, stdev, param in zip(means, stds, params):\n",
    "    print('{:.5f}, ({:.5f}) with : {}'.format(mean, stdev, param))\n",
    "    \n",
    "print('최적 스코어 : {}, 사용한 파라미터 조합 : {}'.format(grid_result.best_score_,grid_result.best_params_))"
   ]
  },
  {
   "cell_type": "code",
   "execution_count": 221,
   "metadata": {},
   "outputs": [],
   "source": [
    "from keras.callbacks import EarlyStopping\n",
    "stopper = EarlyStopping(monitor='var_accuracy', patience=3, verbose=1)"
   ]
  },
  {
   "cell_type": "code",
   "execution_count": 222,
   "metadata": {},
   "outputs": [
    {
     "name": "stdout",
     "output_type": "stream",
     "text": [
      "(768, 9)\n",
      "(768, 8)\n",
      "(768,)\n"
     ]
    }
   ],
   "source": [
    "# 768x9 => 768x8 => 독립변수, 768x1 종속변수\n",
    "#  변수 8\n",
    "def create_model(dropout_rate):\n",
    "    model = Sequential()\n",
    "    model.add(Dense(12, input_dim=8,activation='linear'))\n",
    "    model.add(Dropout(dropout_rate))\n",
    "    model.add(Dense(1, activation='sigmoid', kernel_initializer = 'lecun_uniform'))\n",
    "    model.compile(loss='binary_crossentropy', optimizer='adam', metrics=['accuracy'])\n",
    "    return model\n",
    "\n",
    "dropout_rate = [0.0,0.1,0.2,0.3,0.4,0.5,0.6,0.7,0.8,0.9]\n",
    "\n",
    "seed =7\n",
    "np.random.seed(seed)\n",
    "dataset = np.loadtxt('pima.csv', delimiter=',')\n",
    "print(dataset.shape)\n",
    "\n",
    "X = dataset[:,0:8]\n",
    "Y = dataset[:,8]\n",
    "\n",
    "model = KerasClassifier(build_fn=create_model, verbose=0)\n",
    "\n",
    "print(X.shape)\n",
    "print(Y.shape)"
   ]
  },
  {
   "cell_type": "code",
   "execution_count": 223,
   "metadata": {},
   "outputs": [
    {
     "name": "stdout",
     "output_type": "stream",
     "text": [
      "0.72266, (0.04465) with : {'dropout_rate': 0.0}\n",
      "0.68359, (0.01390) with : {'dropout_rate': 0.1}\n",
      "0.71094, (0.02300) with : {'dropout_rate': 0.2}\n",
      "0.69922, (0.01276) with : {'dropout_rate': 0.3}\n",
      "0.70312, (0.01776) with : {'dropout_rate': 0.4}\n",
      "0.69141, (0.02870) with : {'dropout_rate': 0.5}\n",
      "0.68359, (0.02491) with : {'dropout_rate': 0.6}\n",
      "0.69531, (0.03450) with : {'dropout_rate': 0.7}\n",
      "0.68880, (0.03832) with : {'dropout_rate': 0.8}\n",
      "0.65885, (0.02124) with : {'dropout_rate': 0.9}\n",
      "최적 스코어 : 0.72265625, 사용한 파라미터 조합 : {'dropout_rate': 0.0}\n"
     ]
    }
   ],
   "source": [
    "# 파라미터 조합\n",
    "batch_size = [10,20,40,60,80,100]\n",
    "epochs=[10,50,100]\n",
    "# 매개변수 입력 형태는 dictionary\n",
    "param_grid = dict(dropout_rate = dropout_rate)\n",
    "\n",
    "grid = GridSearchCV(estimator=model, param_grid=param_grid, n_jobs=-1)\n",
    "grid_result = grid.fit(X,Y, batch_size = 10, epochs=100)\n",
    "\n",
    "means = grid_result.cv_results_['mean_test_score']\n",
    "stds = grid_result.cv_results_['std_test_score']\n",
    "params = grid_result.cv_results_['params']\n",
    "\n",
    "for mean, stdev, param in zip(means, stds, params):\n",
    "    print('{:.5f}, ({:.5f}) with : {}'.format(mean, stdev, param))\n",
    "    \n",
    "print('최적 스코어 : {}, 사용한 파라미터 조합 : {}'.format(grid_result.best_score_,grid_result.best_params_))"
   ]
  },
  {
   "cell_type": "code",
   "execution_count": 224,
   "metadata": {},
   "outputs": [],
   "source": [
    "# 회귀\n",
    "from keras.wrappers.scikit_learn import KerasRegressor\n",
    "from sklearn.model_selection import cross_val_score\n",
    "from sklearn.model_selection import KFold\n",
    "from sklearn.preprocessing import StandardScaler\n",
    "from sklearn.pipeline import Pipeline\n",
    "import pandas as pd"
   ]
  },
  {
   "cell_type": "code",
   "execution_count": 226,
   "metadata": {},
   "outputs": [
    {
     "name": "stdout",
     "output_type": "stream",
     "text": [
      "(506, 13)\n"
     ]
    }
   ],
   "source": [
    "df = pd.read_csv('housing.csv', delim_whitespace=True, header=None)\n",
    "dataset = df.values\n",
    "X = dataset[:,0:13]\n",
    "Y = dataset[:,13]\n",
    "print(X.shape)"
   ]
  },
  {
   "cell_type": "code",
   "execution_count": 236,
   "metadata": {},
   "outputs": [],
   "source": [
    "def baseline_model():\n",
    "    model = Sequential()\n",
    "    # 506x13, 13x13 => 506x13\n",
    "    model.add(Dense(13, input_dim=13, kernel_initializer='normal', activation='relu' ))\n",
    "    # 506x13, 13x1 =. 506x1\n",
    "    model.add(Dense(1,kernel_initializer='normal'))\n",
    "    model.compile(loss='mean_squared_error', optimizer='adam')\n",
    "    return model "
   ]
  },
  {
   "cell_type": "code",
   "execution_count": 237,
   "metadata": {},
   "outputs": [],
   "source": [
    "seed = 7\n",
    "np.random.seed(seed)\n",
    "estimator = KerasRegressor(build_fn=baseline_model, nb_epoch=100, batch_size=5,verbose=0)"
   ]
  },
  {
   "cell_type": "code",
   "execution_count": 238,
   "metadata": {},
   "outputs": [
    {
     "name": "stdout",
     "output_type": "stream",
     "text": [
      "Results : -114.61 (82.74) MSE\n"
     ]
    }
   ],
   "source": [
    "kfold = KFold(n_splits=10, random_state=seed)\n",
    "results = cross_val_score(estimator, X,Y,cv=kfold)\n",
    "print('Results : {:.2f} ({:.2f}) MSE'.format(results.mean(), results.std()))"
   ]
  },
  {
   "cell_type": "code",
   "execution_count": 239,
   "metadata": {},
   "outputs": [
    {
     "name": "stdout",
     "output_type": "stream",
     "text": [
      "Standardized : -29.35 (27.61) MES\n"
     ]
    }
   ],
   "source": [
    "np.random.seed(seed)\n",
    "estimators =[]\n",
    "estimators.append(('standardize', StandardScaler()))\n",
    "estimators.append(('mlp', KerasRegressor(build_fn=baseline_model, epochs=50, batch_size=5,verbose=0)))\n",
    "# Pipeline 매개변수가 리스트를 요구\n",
    "pipeline = Pipeline(estimators)\n",
    "kfold = KFold(n_splits=10, random_state=seed)\n",
    "results = cross_val_score(pipeline, X,Y,cv=kfold)\n",
    "print('Standardized : {:.2f} ({:.2f}) MES'.format(results.mean(), results.std()))"
   ]
  },
  {
   "cell_type": "code",
   "execution_count": 240,
   "metadata": {},
   "outputs": [
    {
     "data": {
      "text/plain": [
       "Pipeline(memory=None,\n",
       "         steps=[('standardize',\n",
       "                 StandardScaler(copy=True, with_mean=True, with_std=True)),\n",
       "                ('mlp',\n",
       "                 <keras.wrappers.scikit_learn.KerasRegressor object at 0x00000219C2194F08>)],\n",
       "         verbose=False)"
      ]
     },
     "execution_count": 240,
     "metadata": {},
     "output_type": "execute_result"
    }
   ],
   "source": [
    "pipeline.fit(X,Y)"
   ]
  },
  {
   "cell_type": "code",
   "execution_count": 243,
   "metadata": {},
   "outputs": [
    {
     "data": {
      "text/plain": [
       "29.81984"
      ]
     },
     "execution_count": 243,
     "metadata": {},
     "output_type": "execute_result"
    }
   ],
   "source": [
    "res = pipeline.predict(X)\n",
    "res[0]"
   ]
  },
  {
   "cell_type": "code",
   "execution_count": 271,
   "metadata": {},
   "outputs": [
    {
     "data": {
      "text/plain": [
       "0.9126566089347246"
      ]
     },
     "execution_count": 271,
     "metadata": {},
     "output_type": "execute_result"
    }
   ],
   "source": [
    "p1 = np.corrcoef(res,Y)[0,1]\n",
    "p1"
   ]
  },
  {
   "cell_type": "code",
   "execution_count": 246,
   "metadata": {},
   "outputs": [],
   "source": [
    "def larger_model():\n",
    "    model = Sequential()\n",
    "    # 506x13, 13x13 => 506x13\n",
    "    model.add(Dense(13, input_dim=13, kernel_initializer='normal', activation='relu' ))\n",
    "    model.add(Dense(6, kernel_initializer='normal'))\n",
    "    # 506x13, 13x1 =. 506x1\n",
    "    model.add(Dense(1,kernel_initializer='normal'))\n",
    "    model.compile(loss='mean_squared_error', optimizer='adam')\n",
    "    return model "
   ]
  },
  {
   "cell_type": "code",
   "execution_count": 248,
   "metadata": {},
   "outputs": [],
   "source": [
    "seed = 7\n",
    "np.random.seed(seed)\n",
    "estimator = KerasRegressor(build_fn = larger_model, nb_epoch=100, batch_size=5, verbose=0)"
   ]
  },
  {
   "cell_type": "code",
   "execution_count": 251,
   "metadata": {},
   "outputs": [
    {
     "name": "stdout",
     "output_type": "stream",
     "text": [
      "Standardized: -29.26 ( 27.80) MSE\n"
     ]
    }
   ],
   "source": [
    "np.random.seed(seed)\n",
    "estimators= []\n",
    "estimators.append(('standardize', StandardScaler()))\n",
    "estimators.append(('mlp', KerasRegressor(build_fn = baseline_model, epochs=50, batch_size=5, verbose=0)))\n",
    "# Pipeline 매개변수가 리스트를 요구\n",
    "pipeline = Pipeline(estimators)\n",
    "kfold =KFold(n_splits=10, random_state=seed)\n",
    "results = cross_val_score(pipeline, X, Y, cv=kfold)\n",
    "print('Standardized: %.2f ( %.2f) MSE' % (results.mean(), results.std()))"
   ]
  },
  {
   "cell_type": "code",
   "execution_count": 252,
   "metadata": {},
   "outputs": [
    {
     "data": {
      "text/plain": [
       "Pipeline(memory=None,\n",
       "         steps=[('standardize',\n",
       "                 StandardScaler(copy=True, with_mean=True, with_std=True)),\n",
       "                ('mlp',\n",
       "                 <keras.wrappers.scikit_learn.KerasRegressor object at 0x00000219D5154208>)],\n",
       "         verbose=False)"
      ]
     },
     "execution_count": 252,
     "metadata": {},
     "output_type": "execute_result"
    }
   ],
   "source": [
    "pipeline.fit(X,Y)"
   ]
  },
  {
   "cell_type": "code",
   "execution_count": 257,
   "metadata": {},
   "outputs": [
    {
     "data": {
      "text/plain": [
       "29.81984"
      ]
     },
     "execution_count": 257,
     "metadata": {},
     "output_type": "execute_result"
    }
   ],
   "source": [
    "res2 = pipeline.predict(X)\n",
    "res[0]"
   ]
  },
  {
   "cell_type": "code",
   "execution_count": 272,
   "metadata": {},
   "outputs": [],
   "source": [
    "p2 = np.corrcoef(res2, Y)[0,1]\n"
   ]
  },
  {
   "cell_type": "code",
   "execution_count": 262,
   "metadata": {},
   "outputs": [],
   "source": [
    "def wider_model():\n",
    "    model = Sequential()\n",
    "    # 506x13, 13x13 => 506x13\n",
    "    model.add(Dense(20, input_dim=13, kernel_initializer='normal', activation='relu' ))\n",
    "    # 506x13, 13x1 =. 506x1\n",
    "    model.add(Dense(1,kernel_initializer='normal'))\n",
    "    model.compile(loss='mean_squared_error', optimizer='adam')\n",
    "    return model "
   ]
  },
  {
   "cell_type": "code",
   "execution_count": 264,
   "metadata": {},
   "outputs": [],
   "source": [
    "seed = 7\n",
    "np.random.seed(seed)\n",
    "estimator = KerasRegressor(build_fn = wider_model, nb_epoch=100, batch_size=5, verbose=0)"
   ]
  },
  {
   "cell_type": "code",
   "execution_count": 265,
   "metadata": {},
   "outputs": [
    {
     "name": "stdout",
     "output_type": "stream",
     "text": [
      "Standardized: -29.06 ( 27.57) MSE\n"
     ]
    }
   ],
   "source": [
    "np.random.seed(seed)\n",
    "estimators= []\n",
    "estimators.append(('standardize', StandardScaler()))\n",
    "estimators.append(('mlp', KerasRegressor(build_fn = baseline_model, epochs=50, batch_size=5, verbose=0)))\n",
    "# Pipeline 매개변수가 리스트를 요구\n",
    "pipeline = Pipeline(estimators)\n",
    "kfold =KFold(n_splits=10, random_state=seed)\n",
    "results = cross_val_score(pipeline, X, Y, cv=kfold)\n",
    "print('Standardized: %.2f ( %.2f) MSE' % (results.mean(), results.std()))"
   ]
  },
  {
   "cell_type": "code",
   "execution_count": 266,
   "metadata": {
    "scrolled": true
   },
   "outputs": [
    {
     "data": {
      "text/plain": [
       "Pipeline(memory=None,\n",
       "         steps=[('standardize',\n",
       "                 StandardScaler(copy=True, with_mean=True, with_std=True)),\n",
       "                ('mlp',\n",
       "                 <keras.wrappers.scikit_learn.KerasRegressor object at 0x00000219DC1B8C08>)],\n",
       "         verbose=False)"
      ]
     },
     "execution_count": 266,
     "metadata": {},
     "output_type": "execute_result"
    }
   ],
   "source": [
    "pipeline.fit(X,Y)"
   ]
  },
  {
   "cell_type": "code",
   "execution_count": 267,
   "metadata": {},
   "outputs": [
    {
     "data": {
      "text/plain": [
       "29.821835"
      ]
     },
     "execution_count": 267,
     "metadata": {},
     "output_type": "execute_result"
    }
   ],
   "source": [
    "res = pipeline.predict(X)\n",
    "res[0]"
   ]
  },
  {
   "cell_type": "code",
   "execution_count": 273,
   "metadata": {},
   "outputs": [
    {
     "data": {
      "text/plain": [
       "0.9126566089347246"
      ]
     },
     "execution_count": 273,
     "metadata": {},
     "output_type": "execute_result"
    }
   ],
   "source": [
    "p3 = np.corrcoef(res, Y)[0,1]\n",
    "p3"
   ]
  },
  {
   "cell_type": "code",
   "execution_count": 274,
   "metadata": {},
   "outputs": [
    {
     "data": {
      "text/plain": [
       "[0.9126566089347246, 0.9116725862785579, 0.9126566089347246]"
      ]
     },
     "execution_count": 274,
     "metadata": {},
     "output_type": "execute_result"
    }
   ],
   "source": [
    "best = []\n",
    "\n",
    "best.append(p1)\n",
    "best.append(p2)\n",
    "best.append(p3)\n",
    "best"
   ]
  },
  {
   "cell_type": "code",
   "execution_count": 277,
   "metadata": {},
   "outputs": [
    {
     "data": {
      "text/plain": [
       "0.9126566089347246"
      ]
     },
     "execution_count": 277,
     "metadata": {},
     "output_type": "execute_result"
    }
   ],
   "source": [
    "import tensorflow as tf\n",
    "max(best)"
   ]
  },
  {
   "cell_type": "code",
   "execution_count": null,
   "metadata": {},
   "outputs": [],
   "source": []
  },
  {
   "cell_type": "code",
   "execution_count": null,
   "metadata": {},
   "outputs": [],
   "source": []
  },
  {
   "cell_type": "code",
   "execution_count": null,
   "metadata": {},
   "outputs": [],
   "source": []
  },
  {
   "cell_type": "code",
   "execution_count": null,
   "metadata": {},
   "outputs": [],
   "source": []
  },
  {
   "cell_type": "code",
   "execution_count": null,
   "metadata": {},
   "outputs": [],
   "source": []
  },
  {
   "cell_type": "code",
   "execution_count": null,
   "metadata": {},
   "outputs": [],
   "source": []
  },
  {
   "cell_type": "code",
   "execution_count": null,
   "metadata": {},
   "outputs": [],
   "source": []
  },
  {
   "cell_type": "code",
   "execution_count": null,
   "metadata": {},
   "outputs": [],
   "source": []
  },
  {
   "cell_type": "code",
   "execution_count": null,
   "metadata": {},
   "outputs": [],
   "source": []
  },
  {
   "cell_type": "code",
   "execution_count": null,
   "metadata": {},
   "outputs": [],
   "source": []
  },
  {
   "cell_type": "code",
   "execution_count": null,
   "metadata": {},
   "outputs": [],
   "source": []
  },
  {
   "cell_type": "code",
   "execution_count": null,
   "metadata": {},
   "outputs": [],
   "source": []
  },
  {
   "cell_type": "code",
   "execution_count": null,
   "metadata": {},
   "outputs": [],
   "source": []
  },
  {
   "cell_type": "code",
   "execution_count": null,
   "metadata": {},
   "outputs": [],
   "source": []
  },
  {
   "cell_type": "code",
   "execution_count": null,
   "metadata": {},
   "outputs": [],
   "source": []
  },
  {
   "cell_type": "code",
   "execution_count": null,
   "metadata": {},
   "outputs": [],
   "source": []
  },
  {
   "cell_type": "code",
   "execution_count": null,
   "metadata": {},
   "outputs": [],
   "source": []
  },
  {
   "cell_type": "code",
   "execution_count": null,
   "metadata": {},
   "outputs": [],
   "source": []
  },
  {
   "cell_type": "code",
   "execution_count": null,
   "metadata": {},
   "outputs": [],
   "source": []
  },
  {
   "cell_type": "code",
   "execution_count": null,
   "metadata": {},
   "outputs": [],
   "source": []
  },
  {
   "cell_type": "code",
   "execution_count": null,
   "metadata": {},
   "outputs": [],
   "source": []
  }
 ],
 "metadata": {
  "kernelspec": {
   "display_name": "Python 3",
   "language": "python",
   "name": "python3"
  },
  "language_info": {
   "codemirror_mode": {
    "name": "ipython",
    "version": 3
   },
   "file_extension": ".py",
   "mimetype": "text/x-python",
   "name": "python",
   "nbconvert_exporter": "python",
   "pygments_lexer": "ipython3",
   "version": "3.7.4"
  }
 },
 "nbformat": 4,
 "nbformat_minor": 2
}
